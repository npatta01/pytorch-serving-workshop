{
 "cells": [
  {
   "cell_type": "markdown",
   "id": "parental-token",
   "metadata": {},
   "source": [
    "# Setup"
   ]
  },
  {
   "cell_type": "markdown",
   "id": "round-border",
   "metadata": {},
   "source": [
    "## About\n",
    "\n",
    "\n",
    "Simple notebook to setup\n",
    "- clone git repo\n",
    "- install required python dependencies\n",
    "- download dataset\n",
    "- download trained model"
   ]
  },
  {
   "cell_type": "markdown",
   "id": "acd07905",
   "metadata": {},
   "source": [
    "we are cloning to tmp for jupyterhub setup \n"
   ]
  },
  {
   "cell_type": "code",
   "execution_count": null,
   "id": "homeless-announcement",
   "metadata": {},
   "outputs": [],
   "source": [
    "%%bash\n",
    "\n",
    "mkdir -p /tmp/workshop\n",
    "cd /tmp/workshop\n",
    "git clone https://github.com/npatta01/pytorch-serving-workshop.git -b main --depth 1"
   ]
  },
  {
   "cell_type": "code",
   "execution_count": null,
   "id": "spectacular-scott",
   "metadata": {},
   "outputs": [],
   "source": [
    "%%bash\n",
    "\n",
    "cd /tmp/workshop\n",
    "\n",
    "cd pytorch-serving-workshop\n",
    "mkdir -p artifacts/dataset_processed/amazon\n",
    "mkdir -p artifacts/dataset_processed/model\n",
    "\n",
    "\n",
    "cd artifacts\n",
    "\n",
    "\n",
    "# dataset\n",
    "echo \"downloading dataset\"\n",
    "wget https://github.com/npatta01/pytorch-serving-workshop/releases/download/v0.0.1/dataset_processed.zip\n",
    "unzip dataset_processed.zip\n",
    "\n",
    "\n",
    "# model trained on above dataset\n",
    "echo \"downloading model\"\n",
    "wget https://github.com/npatta01/pytorch-serving-workshop/releases/download/v0.0.1/model.zip    \n",
    "unzip model.zip\n"
   ]
  },
  {
   "cell_type": "markdown",
   "id": "0ce1ca35",
   "metadata": {},
   "source": [
    "# Download transformer models"
   ]
  },
  {
   "cell_type": "code",
   "execution_count": null,
   "id": "9073adaa",
   "metadata": {},
   "outputs": [],
   "source": [
    "import transformers"
   ]
  },
  {
   "cell_type": "code",
   "execution_count": null,
   "id": "c66c5e14",
   "metadata": {},
   "outputs": [],
   "source": [
    "for model_name in [\"bert-large-uncased\",\"bert-base-uncased\",\"distilbert-base-uncased\"]:\n",
    "    model = transformers.AutoModelForSequenceClassification.from_pretrained(model_name)\n",
    "\n",
    "    tokenizer = transformers.AutoTokenizer.from_pretrained(\n",
    "                model_name\n",
    "            )"
   ]
  },
  {
   "cell_type": "markdown",
   "id": "proof-discipline",
   "metadata": {},
   "source": [
    "install needed packages"
   ]
  },
  {
   "cell_type": "code",
   "execution_count": null,
   "id": "relevant-claim",
   "metadata": {},
   "outputs": [],
   "source": [
    "!pip install -r /tmp/pytorch-serving-workshop/requirements.txt"
   ]
  },
  {
   "cell_type": "code",
   "execution_count": null,
   "id": "neither-shipping",
   "metadata": {},
   "outputs": [],
   "source": [
    "!cp -r /tmp/workshop/ $HOME/workshop/"
   ]
  }
 ],
 "metadata": {
  "environment": {
   "name": "rapids-gpu.0-18.m65",
   "type": "gcloud",
   "uri": "gcr.io/deeplearning-platform-release/rapids-gpu.0-18:m65"
  },
  "language_info": {
   "codemirror_mode": {
    "name": "ipython",
    "version": 3
   },
   "file_extension": ".py",
   "mimetype": "text/x-python",
   "name": "python",
   "nbconvert_exporter": "python",
   "pygments_lexer": "ipython3",
   "version": "3.7.10"
  }
 },
 "nbformat": 4,
 "nbformat_minor": 5
}
