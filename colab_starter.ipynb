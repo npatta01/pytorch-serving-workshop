{
 "cells": [
  {
   "cell_type": "markdown",
   "id": "buried-african",
   "metadata": {},
   "source": [
    "# Setup"
   ]
  },
  {
   "cell_type": "markdown",
   "id": "sought-machine",
   "metadata": {},
   "source": [
    "## About\n",
    "\n",
    "\n",
    "Simple notebook to setup\n",
    "- clone git repo\n",
    "- install required python dependencies\n",
    "- download dataset\n",
    "- download trained model"
   ]
  },
  {
   "cell_type": "code",
   "execution_count": null,
   "id": "opponent-shirt",
   "metadata": {},
   "outputs": [],
   "source": [
    "%%bash\n",
    "git clone https://github.com/npatta01/pytorch-serving-workshop.git -b notebooks"
   ]
  },
  {
   "cell_type": "code",
   "execution_count": null,
   "id": "nervous-handy",
   "metadata": {},
   "outputs": [],
   "source": [
    "%%bash\n",
    "cd pytorch-serving-workshop\n",
    "mkdir -p artifacts/dataset_processed/amazon\n",
    "mkdir -p artifacts/dataset_processed/model\n",
    "\n",
    "\n",
    "cd artifacts\n",
    "\n",
    "\n",
    "# dataset\n",
    "echo \"downloading dataset\"\n",
    "wget https://github.com/npatta01/pytorch-serving-workshop/releases/download/v0.0.1/dataset_processed.zip\n",
    "unzip dataset_processed.zip\n",
    "\n",
    "\n",
    "# model trained on above dataset\n",
    "echo \"downloading model\"\n",
    "wget https://github.com/npatta01/pytorch-serving-workshop/releases/download/v0.0.1/model.zip    \n",
    "unzip model.zip\n"
   ]
  },
  {
   "cell_type": "code",
   "execution_count": null,
   "id": "weekly-oracle",
   "metadata": {},
   "outputs": [],
   "source": [
    "install needed packages"
   ]
  },
  {
   "cell_type": "code",
   "execution_count": null,
   "id": "frozen-customs",
   "metadata": {},
   "outputs": [],
   "source": [
    "!pip install -r pytorch-serving-workshop/requirements.txt"
   ]
  }
 ],
 "metadata": {
  "environment": {
   "name": "rapids-gpu.0-18.m65",
   "type": "gcloud",
   "uri": "gcr.io/deeplearning-platform-release/rapids-gpu.0-18:m65"
  },
  "kernelspec": {
   "display_name": "Python [conda env:pytorch]",
   "language": "python",
   "name": "conda-env-pytorch-py"
  },
  "language_info": {
   "codemirror_mode": {
    "name": "ipython",
    "version": 3
   },
   "file_extension": ".py",
   "mimetype": "text/x-python",
   "name": "python",
   "nbconvert_exporter": "python",
   "pygments_lexer": "ipython3",
   "version": "3.7.10"
  }
 },
 "nbformat": 4,
 "nbformat_minor": 5
}
