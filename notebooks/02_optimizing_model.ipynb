{
 "cells": [
  {
   "cell_type": "markdown",
   "id": "adjusted-teach",
   "metadata": {},
   "source": [
    "# Optimizing Model"
   ]
  },
  {
   "cell_type": "markdown",
   "id": "material-exhibition",
   "metadata": {},
   "source": [
    "## Agenda\n",
    "\n",
    "- Quantizing model\n",
    "- Converting the Bert model with torch script"
   ]
  },
  {
   "cell_type": "code",
   "execution_count": 92,
   "id": "forbidden-purse",
   "metadata": {},
   "outputs": [],
   "source": [
    "import pathlib\n",
    "import sklearn\n",
    "import datasets\n",
    "import pandas as pd\n",
    "import torch\n",
    "\n",
    "import numpy as np\n",
    "import transformers\n",
    "import os\n",
    "import json\n",
    "from ts.utils.util  import map_class_to_label\n"
   ]
  },
  {
   "cell_type": "code",
   "execution_count": 2,
   "id": "enclosed-mechanics",
   "metadata": {},
   "outputs": [],
   "source": [
    "model_dir ='../artifacts/model/amazon/'"
   ]
  },
  {
   "cell_type": "code",
   "execution_count": 86,
   "id": "mediterranean-priest",
   "metadata": {},
   "outputs": [
    {
     "data": {
      "text/plain": [
       "<function torch.nn.functional.softmax(input: torch.Tensor, dim: Union[int, NoneType] = None, _stacklevel: int = 3, dtype: Union[int, NoneType] = None) -> torch.Tensor>"
      ]
     },
     "execution_count": 86,
     "metadata": {},
     "output_type": "execute_result"
    }
   ],
   "source": []
  },
  {
   "cell_type": "code",
   "execution_count": null,
   "id": "atlantic-helping",
   "metadata": {},
   "outputs": [],
   "source": []
  },
  {
   "cell_type": "code",
   "execution_count": 3,
   "id": "radio-links",
   "metadata": {},
   "outputs": [],
   "source": [
    "model = transformers.AutoModelForSequenceClassification.from_pretrained(model_dir\n",
    "                                                                        #, num_labels=len(labels)\n",
    "                                                                       #, label2id=label2id\n",
    "                                                                       \n",
    "                                                                       )"
   ]
  },
  {
   "cell_type": "code",
   "execution_count": 4,
   "id": "experimental-lambda",
   "metadata": {},
   "outputs": [
    {
     "data": {
      "text/plain": [
       "DistilBertConfig {\n",
       "  \"_name_or_path\": \"../artifacts/model/amazon/\",\n",
       "  \"activation\": \"gelu\",\n",
       "  \"architectures\": [\n",
       "    \"DistilBertForSequenceClassification\"\n",
       "  ],\n",
       "  \"attention_dropout\": 0.1,\n",
       "  \"dim\": 768,\n",
       "  \"dropout\": 0.1,\n",
       "  \"hidden_dim\": 3072,\n",
       "  \"id2label\": {\n",
       "    \"0\": \"ABIS_DRUGSTORE\",\n",
       "    \"1\": \"ABIS_LAWN_AND_GARDEN\",\n",
       "    \"2\": \"ACCESSORY\",\n",
       "    \"3\": \"ACCESSORY_OR_PART_OR_SUPPLY\",\n",
       "    \"4\": \"AUTO_ACCESSORY\",\n",
       "    \"5\": \"BABY_PRODUCT\",\n",
       "    \"6\": \"BACKPACK\",\n",
       "    \"7\": \"BATTERY\",\n",
       "    \"8\": \"BEAUTY\",\n",
       "    \"9\": \"BED\",\n",
       "    \"10\": \"BED_FRAME\",\n",
       "    \"11\": \"BENCH\",\n",
       "    \"12\": \"BISS\",\n",
       "    \"13\": \"BOOT\",\n",
       "    \"14\": \"BRACELET\",\n",
       "    \"15\": \"BREAD\",\n",
       "    \"16\": \"CABINET\",\n",
       "    \"17\": \"CELLULAR_PHONE_CASE\",\n",
       "    \"18\": \"CHAIR\",\n",
       "    \"19\": \"CHARGING_ADAPTER\",\n",
       "    \"20\": \"CLEANING_AGENT\",\n",
       "    \"21\": \"CLOCK\",\n",
       "    \"22\": \"CLOTHES_HANGER\",\n",
       "    \"23\": \"COFFEE\",\n",
       "    \"24\": \"COMPUTER_ADD_ON\",\n",
       "    \"25\": \"COMPUTER_COMPONENT\",\n",
       "    \"26\": \"DAIRY_BASED_DRINK\",\n",
       "    \"27\": \"DESK\",\n",
       "    \"28\": \"DRINKING_CUP\",\n",
       "    \"29\": \"EARRING\",\n",
       "    \"30\": \"EDIBLE_OIL_VEGETABLE\",\n",
       "    \"31\": \"ELECTRONIC_ADAPTER\",\n",
       "    \"32\": \"FILE_FOLDER\",\n",
       "    \"33\": \"FINEEARRING\",\n",
       "    \"34\": \"FINENECKLACEBRACELETANKLET\",\n",
       "    \"35\": \"FINEOTHER\",\n",
       "    \"36\": \"FINERING\",\n",
       "    \"37\": \"FLAT_SCREEN_DISPLAY_MOUNT\",\n",
       "    \"38\": \"FLAT_SHEET\",\n",
       "    \"39\": \"FOOD_SERVICE_SUPPLY\",\n",
       "    \"40\": \"FURNITURE\",\n",
       "    \"41\": \"FURNITURE_COVER\",\n",
       "    \"42\": \"GROCERY\",\n",
       "    \"43\": \"HANDBAG\",\n",
       "    \"44\": \"HARDWARE\",\n",
       "    \"45\": \"HARDWARE_HANDLE\",\n",
       "    \"46\": \"HAT\",\n",
       "    \"47\": \"HEADBOARD\",\n",
       "    \"48\": \"HEADPHONES\",\n",
       "    \"49\": \"HEALTH_PERSONAL_CARE\",\n",
       "    \"50\": \"HERB\",\n",
       "    \"51\": \"HOME\",\n",
       "    \"52\": \"HOME_BED_AND_BATH\",\n",
       "    \"53\": \"HOME_FURNITURE_AND_DECOR\",\n",
       "    \"54\": \"HOME_LIGHTING_AND_LAMPS\",\n",
       "    \"55\": \"HOME_MIRROR\",\n",
       "    \"56\": \"INSTRUMENT_PARTS_AND_ACCESSORIES\",\n",
       "    \"57\": \"JANITORIAL_SUPPLY\",\n",
       "    \"58\": \"JAR\",\n",
       "    \"59\": \"KITCHEN\",\n",
       "    \"60\": \"LABEL\",\n",
       "    \"61\": \"LAMP\",\n",
       "    \"62\": \"LEGUME\",\n",
       "    \"63\": \"LIGHT_BULB\",\n",
       "    \"64\": \"LIGHT_FIXTURE\",\n",
       "    \"65\": \"LUGGAGE\",\n",
       "    \"66\": \"MEDICATION\",\n",
       "    \"67\": \"NECKLACE\",\n",
       "    \"68\": \"NUTRITIONAL_SUPPLEMENT\",\n",
       "    \"69\": \"OFFICE_ELECTRONICS\",\n",
       "    \"70\": \"OFFICE_PRODUCTS\",\n",
       "    \"71\": \"OTTOMAN\",\n",
       "    \"72\": \"OUTDOOR_LIVING\",\n",
       "    \"73\": \"PANTRY\",\n",
       "    \"74\": \"PET_SUPPLIES\",\n",
       "    \"75\": \"PILLOW\",\n",
       "    \"76\": \"PLANTER\",\n",
       "    \"77\": \"PLUMBING_FIXTURE\",\n",
       "    \"78\": \"PORTABLE_ELECTRONIC_DEVICE_COVER\",\n",
       "    \"79\": \"RECREATION_BALL\",\n",
       "    \"80\": \"RING\",\n",
       "    \"81\": \"RUG\",\n",
       "    \"82\": \"SAFETY_SUPPLY\",\n",
       "    \"83\": \"SANDAL\",\n",
       "    \"84\": \"SAUCE\",\n",
       "    \"85\": \"SAUTE_FRY_PAN\",\n",
       "    \"86\": \"SCREEN_PROTECTOR\",\n",
       "    \"87\": \"SHELF\",\n",
       "    \"88\": \"SHOES\",\n",
       "    \"89\": \"SKIN_CLEANING_AGENT\",\n",
       "    \"90\": \"SKIN_MOISTURIZER\",\n",
       "    \"91\": \"SOFA\",\n",
       "    \"92\": \"SPEAKERS\",\n",
       "    \"93\": \"SPORTING_GOODS\",\n",
       "    \"94\": \"STOOL_SEATING\",\n",
       "    \"95\": \"STORAGE_BAG\",\n",
       "    \"96\": \"STORAGE_BINDER\",\n",
       "    \"97\": \"STORAGE_BOX\",\n",
       "    \"98\": \"STORAGE_HOOK\",\n",
       "    \"99\": \"SUITCASE\",\n",
       "    \"100\": \"TABLE\",\n",
       "    \"101\": \"TEA\",\n",
       "    \"102\": \"THERMOPLASTIC_FILAMENT\",\n",
       "    \"103\": \"TOOLS\",\n",
       "    \"104\": \"TOWEL_HOLDER\",\n",
       "    \"105\": \"UMBRELLA\",\n",
       "    \"106\": \"VITAMIN\",\n",
       "    \"107\": \"WALLET\",\n",
       "    \"108\": \"WALL_ART\",\n",
       "    \"109\": \"WASTE_BAG\",\n",
       "    \"110\": \"WIRELESS_ACCESSORY\",\n",
       "    \"111\": \"WRITING_INSTRUMENT\"\n",
       "  },\n",
       "  \"initializer_range\": 0.02,\n",
       "  \"label2id\": {\n",
       "    \"ABIS_DRUGSTORE\": 0,\n",
       "    \"ABIS_LAWN_AND_GARDEN\": 1,\n",
       "    \"ACCESSORY\": 2,\n",
       "    \"ACCESSORY_OR_PART_OR_SUPPLY\": 3,\n",
       "    \"AUTO_ACCESSORY\": 4,\n",
       "    \"BABY_PRODUCT\": 5,\n",
       "    \"BACKPACK\": 6,\n",
       "    \"BATTERY\": 7,\n",
       "    \"BEAUTY\": 8,\n",
       "    \"BED\": 9,\n",
       "    \"BED_FRAME\": 10,\n",
       "    \"BENCH\": 11,\n",
       "    \"BISS\": 12,\n",
       "    \"BOOT\": 13,\n",
       "    \"BRACELET\": 14,\n",
       "    \"BREAD\": 15,\n",
       "    \"CABINET\": 16,\n",
       "    \"CELLULAR_PHONE_CASE\": 17,\n",
       "    \"CHAIR\": 18,\n",
       "    \"CHARGING_ADAPTER\": 19,\n",
       "    \"CLEANING_AGENT\": 20,\n",
       "    \"CLOCK\": 21,\n",
       "    \"CLOTHES_HANGER\": 22,\n",
       "    \"COFFEE\": 23,\n",
       "    \"COMPUTER_ADD_ON\": 24,\n",
       "    \"COMPUTER_COMPONENT\": 25,\n",
       "    \"DAIRY_BASED_DRINK\": 26,\n",
       "    \"DESK\": 27,\n",
       "    \"DRINKING_CUP\": 28,\n",
       "    \"EARRING\": 29,\n",
       "    \"EDIBLE_OIL_VEGETABLE\": 30,\n",
       "    \"ELECTRONIC_ADAPTER\": 31,\n",
       "    \"FILE_FOLDER\": 32,\n",
       "    \"FINEEARRING\": 33,\n",
       "    \"FINENECKLACEBRACELETANKLET\": 34,\n",
       "    \"FINEOTHER\": 35,\n",
       "    \"FINERING\": 36,\n",
       "    \"FLAT_SCREEN_DISPLAY_MOUNT\": 37,\n",
       "    \"FLAT_SHEET\": 38,\n",
       "    \"FOOD_SERVICE_SUPPLY\": 39,\n",
       "    \"FURNITURE\": 40,\n",
       "    \"FURNITURE_COVER\": 41,\n",
       "    \"GROCERY\": 42,\n",
       "    \"HANDBAG\": 43,\n",
       "    \"HARDWARE\": 44,\n",
       "    \"HARDWARE_HANDLE\": 45,\n",
       "    \"HAT\": 46,\n",
       "    \"HEADBOARD\": 47,\n",
       "    \"HEADPHONES\": 48,\n",
       "    \"HEALTH_PERSONAL_CARE\": 49,\n",
       "    \"HERB\": 50,\n",
       "    \"HOME\": 51,\n",
       "    \"HOME_BED_AND_BATH\": 52,\n",
       "    \"HOME_FURNITURE_AND_DECOR\": 53,\n",
       "    \"HOME_LIGHTING_AND_LAMPS\": 54,\n",
       "    \"HOME_MIRROR\": 55,\n",
       "    \"INSTRUMENT_PARTS_AND_ACCESSORIES\": 56,\n",
       "    \"JANITORIAL_SUPPLY\": 57,\n",
       "    \"JAR\": 58,\n",
       "    \"KITCHEN\": 59,\n",
       "    \"LABEL\": 60,\n",
       "    \"LAMP\": 61,\n",
       "    \"LEGUME\": 62,\n",
       "    \"LIGHT_BULB\": 63,\n",
       "    \"LIGHT_FIXTURE\": 64,\n",
       "    \"LUGGAGE\": 65,\n",
       "    \"MEDICATION\": 66,\n",
       "    \"NECKLACE\": 67,\n",
       "    \"NUTRITIONAL_SUPPLEMENT\": 68,\n",
       "    \"OFFICE_ELECTRONICS\": 69,\n",
       "    \"OFFICE_PRODUCTS\": 70,\n",
       "    \"OTTOMAN\": 71,\n",
       "    \"OUTDOOR_LIVING\": 72,\n",
       "    \"PANTRY\": 73,\n",
       "    \"PET_SUPPLIES\": 74,\n",
       "    \"PILLOW\": 75,\n",
       "    \"PLANTER\": 76,\n",
       "    \"PLUMBING_FIXTURE\": 77,\n",
       "    \"PORTABLE_ELECTRONIC_DEVICE_COVER\": 78,\n",
       "    \"RECREATION_BALL\": 79,\n",
       "    \"RING\": 80,\n",
       "    \"RUG\": 81,\n",
       "    \"SAFETY_SUPPLY\": 82,\n",
       "    \"SANDAL\": 83,\n",
       "    \"SAUCE\": 84,\n",
       "    \"SAUTE_FRY_PAN\": 85,\n",
       "    \"SCREEN_PROTECTOR\": 86,\n",
       "    \"SHELF\": 87,\n",
       "    \"SHOES\": 88,\n",
       "    \"SKIN_CLEANING_AGENT\": 89,\n",
       "    \"SKIN_MOISTURIZER\": 90,\n",
       "    \"SOFA\": 91,\n",
       "    \"SPEAKERS\": 92,\n",
       "    \"SPORTING_GOODS\": 93,\n",
       "    \"STOOL_SEATING\": 94,\n",
       "    \"STORAGE_BAG\": 95,\n",
       "    \"STORAGE_BINDER\": 96,\n",
       "    \"STORAGE_BOX\": 97,\n",
       "    \"STORAGE_HOOK\": 98,\n",
       "    \"SUITCASE\": 99,\n",
       "    \"TABLE\": 100,\n",
       "    \"TEA\": 101,\n",
       "    \"THERMOPLASTIC_FILAMENT\": 102,\n",
       "    \"TOOLS\": 103,\n",
       "    \"TOWEL_HOLDER\": 104,\n",
       "    \"UMBRELLA\": 105,\n",
       "    \"VITAMIN\": 106,\n",
       "    \"WALLET\": 107,\n",
       "    \"WALL_ART\": 108,\n",
       "    \"WASTE_BAG\": 109,\n",
       "    \"WIRELESS_ACCESSORY\": 110,\n",
       "    \"WRITING_INSTRUMENT\": 111\n",
       "  },\n",
       "  \"max_position_embeddings\": 512,\n",
       "  \"model_type\": \"distilbert\",\n",
       "  \"n_heads\": 12,\n",
       "  \"n_layers\": 6,\n",
       "  \"pad_token_id\": 0,\n",
       "  \"problem_type\": \"single_label_classification\",\n",
       "  \"qa_dropout\": 0.1,\n",
       "  \"seq_classif_dropout\": 0.2,\n",
       "  \"sinusoidal_pos_embds\": false,\n",
       "  \"tie_weights_\": true,\n",
       "  \"torch_dtype\": \"float32\",\n",
       "  \"transformers_version\": \"4.11.1\",\n",
       "  \"vocab_size\": 30522\n",
       "}"
      ]
     },
     "execution_count": 4,
     "metadata": {},
     "output_type": "execute_result"
    }
   ],
   "source": [
    "model.config"
   ]
  },
  {
   "cell_type": "code",
   "execution_count": 5,
   "id": "bacterial-athens",
   "metadata": {},
   "outputs": [
    {
     "data": {
      "text/plain": [
       "{'ABIS_DRUGSTORE': 0,\n",
       " 'ABIS_LAWN_AND_GARDEN': 1,\n",
       " 'ACCESSORY': 2,\n",
       " 'ACCESSORY_OR_PART_OR_SUPPLY': 3,\n",
       " 'AUTO_ACCESSORY': 4,\n",
       " 'BABY_PRODUCT': 5,\n",
       " 'BACKPACK': 6,\n",
       " 'BATTERY': 7,\n",
       " 'BEAUTY': 8,\n",
       " 'BED': 9,\n",
       " 'BED_FRAME': 10,\n",
       " 'BENCH': 11,\n",
       " 'BISS': 12,\n",
       " 'BOOT': 13,\n",
       " 'BRACELET': 14,\n",
       " 'BREAD': 15,\n",
       " 'CABINET': 16,\n",
       " 'CELLULAR_PHONE_CASE': 17,\n",
       " 'CHAIR': 18,\n",
       " 'CHARGING_ADAPTER': 19,\n",
       " 'CLEANING_AGENT': 20,\n",
       " 'CLOCK': 21,\n",
       " 'CLOTHES_HANGER': 22,\n",
       " 'COFFEE': 23,\n",
       " 'COMPUTER_ADD_ON': 24,\n",
       " 'COMPUTER_COMPONENT': 25,\n",
       " 'DAIRY_BASED_DRINK': 26,\n",
       " 'DESK': 27,\n",
       " 'DRINKING_CUP': 28,\n",
       " 'EARRING': 29,\n",
       " 'EDIBLE_OIL_VEGETABLE': 30,\n",
       " 'ELECTRONIC_ADAPTER': 31,\n",
       " 'FILE_FOLDER': 32,\n",
       " 'FINEEARRING': 33,\n",
       " 'FINENECKLACEBRACELETANKLET': 34,\n",
       " 'FINEOTHER': 35,\n",
       " 'FINERING': 36,\n",
       " 'FLAT_SCREEN_DISPLAY_MOUNT': 37,\n",
       " 'FLAT_SHEET': 38,\n",
       " 'FOOD_SERVICE_SUPPLY': 39,\n",
       " 'FURNITURE': 40,\n",
       " 'FURNITURE_COVER': 41,\n",
       " 'GROCERY': 42,\n",
       " 'HANDBAG': 43,\n",
       " 'HARDWARE': 44,\n",
       " 'HARDWARE_HANDLE': 45,\n",
       " 'HAT': 46,\n",
       " 'HEADBOARD': 47,\n",
       " 'HEADPHONES': 48,\n",
       " 'HEALTH_PERSONAL_CARE': 49,\n",
       " 'HERB': 50,\n",
       " 'HOME': 51,\n",
       " 'HOME_BED_AND_BATH': 52,\n",
       " 'HOME_FURNITURE_AND_DECOR': 53,\n",
       " 'HOME_LIGHTING_AND_LAMPS': 54,\n",
       " 'HOME_MIRROR': 55,\n",
       " 'INSTRUMENT_PARTS_AND_ACCESSORIES': 56,\n",
       " 'JANITORIAL_SUPPLY': 57,\n",
       " 'JAR': 58,\n",
       " 'KITCHEN': 59,\n",
       " 'LABEL': 60,\n",
       " 'LAMP': 61,\n",
       " 'LEGUME': 62,\n",
       " 'LIGHT_BULB': 63,\n",
       " 'LIGHT_FIXTURE': 64,\n",
       " 'LUGGAGE': 65,\n",
       " 'MEDICATION': 66,\n",
       " 'NECKLACE': 67,\n",
       " 'NUTRITIONAL_SUPPLEMENT': 68,\n",
       " 'OFFICE_ELECTRONICS': 69,\n",
       " 'OFFICE_PRODUCTS': 70,\n",
       " 'OTTOMAN': 71,\n",
       " 'OUTDOOR_LIVING': 72,\n",
       " 'PANTRY': 73,\n",
       " 'PET_SUPPLIES': 74,\n",
       " 'PILLOW': 75,\n",
       " 'PLANTER': 76,\n",
       " 'PLUMBING_FIXTURE': 77,\n",
       " 'PORTABLE_ELECTRONIC_DEVICE_COVER': 78,\n",
       " 'RECREATION_BALL': 79,\n",
       " 'RING': 80,\n",
       " 'RUG': 81,\n",
       " 'SAFETY_SUPPLY': 82,\n",
       " 'SANDAL': 83,\n",
       " 'SAUCE': 84,\n",
       " 'SAUTE_FRY_PAN': 85,\n",
       " 'SCREEN_PROTECTOR': 86,\n",
       " 'SHELF': 87,\n",
       " 'SHOES': 88,\n",
       " 'SKIN_CLEANING_AGENT': 89,\n",
       " 'SKIN_MOISTURIZER': 90,\n",
       " 'SOFA': 91,\n",
       " 'SPEAKERS': 92,\n",
       " 'SPORTING_GOODS': 93,\n",
       " 'STOOL_SEATING': 94,\n",
       " 'STORAGE_BAG': 95,\n",
       " 'STORAGE_BINDER': 96,\n",
       " 'STORAGE_BOX': 97,\n",
       " 'STORAGE_HOOK': 98,\n",
       " 'SUITCASE': 99,\n",
       " 'TABLE': 100,\n",
       " 'TEA': 101,\n",
       " 'THERMOPLASTIC_FILAMENT': 102,\n",
       " 'TOOLS': 103,\n",
       " 'TOWEL_HOLDER': 104,\n",
       " 'UMBRELLA': 105,\n",
       " 'VITAMIN': 106,\n",
       " 'WALLET': 107,\n",
       " 'WALL_ART': 108,\n",
       " 'WASTE_BAG': 109,\n",
       " 'WIRELESS_ACCESSORY': 110,\n",
       " 'WRITING_INSTRUMENT': 111}"
      ]
     },
     "execution_count": 5,
     "metadata": {},
     "output_type": "execute_result"
    }
   ],
   "source": [
    "labels = model.config.label2id\n",
    "labels"
   ]
  },
  {
   "cell_type": "code",
   "execution_count": 6,
   "id": "micro-recruitment",
   "metadata": {},
   "outputs": [],
   "source": [
    "id2label = model.config.id2label"
   ]
  },
  {
   "cell_type": "code",
   "execution_count": 98,
   "id": "curious-shakespeare",
   "metadata": {},
   "outputs": [
    {
     "data": {
      "text/plain": [
       "{0: 'ABIS_DRUGSTORE',\n",
       " 1: 'ABIS_LAWN_AND_GARDEN',\n",
       " 2: 'ACCESSORY',\n",
       " 3: 'ACCESSORY_OR_PART_OR_SUPPLY',\n",
       " 4: 'AUTO_ACCESSORY',\n",
       " 5: 'BABY_PRODUCT',\n",
       " 6: 'BACKPACK',\n",
       " 7: 'BATTERY',\n",
       " 8: 'BEAUTY',\n",
       " 9: 'BED',\n",
       " 10: 'BED_FRAME',\n",
       " 11: 'BENCH',\n",
       " 12: 'BISS',\n",
       " 13: 'BOOT',\n",
       " 14: 'BRACELET',\n",
       " 15: 'BREAD',\n",
       " 16: 'CABINET',\n",
       " 17: 'CELLULAR_PHONE_CASE',\n",
       " 18: 'CHAIR',\n",
       " 19: 'CHARGING_ADAPTER',\n",
       " 20: 'CLEANING_AGENT',\n",
       " 21: 'CLOCK',\n",
       " 22: 'CLOTHES_HANGER',\n",
       " 23: 'COFFEE',\n",
       " 24: 'COMPUTER_ADD_ON',\n",
       " 25: 'COMPUTER_COMPONENT',\n",
       " 26: 'DAIRY_BASED_DRINK',\n",
       " 27: 'DESK',\n",
       " 28: 'DRINKING_CUP',\n",
       " 29: 'EARRING',\n",
       " 30: 'EDIBLE_OIL_VEGETABLE',\n",
       " 31: 'ELECTRONIC_ADAPTER',\n",
       " 32: 'FILE_FOLDER',\n",
       " 33: 'FINEEARRING',\n",
       " 34: 'FINENECKLACEBRACELETANKLET',\n",
       " 35: 'FINEOTHER',\n",
       " 36: 'FINERING',\n",
       " 37: 'FLAT_SCREEN_DISPLAY_MOUNT',\n",
       " 38: 'FLAT_SHEET',\n",
       " 39: 'FOOD_SERVICE_SUPPLY',\n",
       " 40: 'FURNITURE',\n",
       " 41: 'FURNITURE_COVER',\n",
       " 42: 'GROCERY',\n",
       " 43: 'HANDBAG',\n",
       " 44: 'HARDWARE',\n",
       " 45: 'HARDWARE_HANDLE',\n",
       " 46: 'HAT',\n",
       " 47: 'HEADBOARD',\n",
       " 48: 'HEADPHONES',\n",
       " 49: 'HEALTH_PERSONAL_CARE',\n",
       " 50: 'HERB',\n",
       " 51: 'HOME',\n",
       " 52: 'HOME_BED_AND_BATH',\n",
       " 53: 'HOME_FURNITURE_AND_DECOR',\n",
       " 54: 'HOME_LIGHTING_AND_LAMPS',\n",
       " 55: 'HOME_MIRROR',\n",
       " 56: 'INSTRUMENT_PARTS_AND_ACCESSORIES',\n",
       " 57: 'JANITORIAL_SUPPLY',\n",
       " 58: 'JAR',\n",
       " 59: 'KITCHEN',\n",
       " 60: 'LABEL',\n",
       " 61: 'LAMP',\n",
       " 62: 'LEGUME',\n",
       " 63: 'LIGHT_BULB',\n",
       " 64: 'LIGHT_FIXTURE',\n",
       " 65: 'LUGGAGE',\n",
       " 66: 'MEDICATION',\n",
       " 67: 'NECKLACE',\n",
       " 68: 'NUTRITIONAL_SUPPLEMENT',\n",
       " 69: 'OFFICE_ELECTRONICS',\n",
       " 70: 'OFFICE_PRODUCTS',\n",
       " 71: 'OTTOMAN',\n",
       " 72: 'OUTDOOR_LIVING',\n",
       " 73: 'PANTRY',\n",
       " 74: 'PET_SUPPLIES',\n",
       " 75: 'PILLOW',\n",
       " 76: 'PLANTER',\n",
       " 77: 'PLUMBING_FIXTURE',\n",
       " 78: 'PORTABLE_ELECTRONIC_DEVICE_COVER',\n",
       " 79: 'RECREATION_BALL',\n",
       " 80: 'RING',\n",
       " 81: 'RUG',\n",
       " 82: 'SAFETY_SUPPLY',\n",
       " 83: 'SANDAL',\n",
       " 84: 'SAUCE',\n",
       " 85: 'SAUTE_FRY_PAN',\n",
       " 86: 'SCREEN_PROTECTOR',\n",
       " 87: 'SHELF',\n",
       " 88: 'SHOES',\n",
       " 89: 'SKIN_CLEANING_AGENT',\n",
       " 90: 'SKIN_MOISTURIZER',\n",
       " 91: 'SOFA',\n",
       " 92: 'SPEAKERS',\n",
       " 93: 'SPORTING_GOODS',\n",
       " 94: 'STOOL_SEATING',\n",
       " 95: 'STORAGE_BAG',\n",
       " 96: 'STORAGE_BINDER',\n",
       " 97: 'STORAGE_BOX',\n",
       " 98: 'STORAGE_HOOK',\n",
       " 99: 'SUITCASE',\n",
       " 100: 'TABLE',\n",
       " 101: 'TEA',\n",
       " 102: 'THERMOPLASTIC_FILAMENT',\n",
       " 103: 'TOOLS',\n",
       " 104: 'TOWEL_HOLDER',\n",
       " 105: 'UMBRELLA',\n",
       " 106: 'VITAMIN',\n",
       " 107: 'WALLET',\n",
       " 108: 'WALL_ART',\n",
       " 109: 'WASTE_BAG',\n",
       " 110: 'WIRELESS_ACCESSORY',\n",
       " 111: 'WRITING_INSTRUMENT'}"
      ]
     },
     "execution_count": 98,
     "metadata": {},
     "output_type": "execute_result"
    }
   ],
   "source": [
    "id2label"
   ]
  },
  {
   "cell_type": "code",
   "execution_count": 100,
   "id": "loose-result",
   "metadata": {},
   "outputs": [
    {
     "data": {
      "text/plain": [
       "{'0': 'ABIS_DRUGSTORE',\n",
       " '1': 'ABIS_LAWN_AND_GARDEN',\n",
       " '2': 'ACCESSORY',\n",
       " '3': 'ACCESSORY_OR_PART_OR_SUPPLY',\n",
       " '4': 'AUTO_ACCESSORY',\n",
       " '5': 'BABY_PRODUCT',\n",
       " '6': 'BACKPACK',\n",
       " '7': 'BATTERY',\n",
       " '8': 'BEAUTY',\n",
       " '9': 'BED',\n",
       " '10': 'BED_FRAME',\n",
       " '11': 'BENCH',\n",
       " '12': 'BISS',\n",
       " '13': 'BOOT',\n",
       " '14': 'BRACELET',\n",
       " '15': 'BREAD',\n",
       " '16': 'CABINET',\n",
       " '17': 'CELLULAR_PHONE_CASE',\n",
       " '18': 'CHAIR',\n",
       " '19': 'CHARGING_ADAPTER',\n",
       " '20': 'CLEANING_AGENT',\n",
       " '21': 'CLOCK',\n",
       " '22': 'CLOTHES_HANGER',\n",
       " '23': 'COFFEE',\n",
       " '24': 'COMPUTER_ADD_ON',\n",
       " '25': 'COMPUTER_COMPONENT',\n",
       " '26': 'DAIRY_BASED_DRINK',\n",
       " '27': 'DESK',\n",
       " '28': 'DRINKING_CUP',\n",
       " '29': 'EARRING',\n",
       " '30': 'EDIBLE_OIL_VEGETABLE',\n",
       " '31': 'ELECTRONIC_ADAPTER',\n",
       " '32': 'FILE_FOLDER',\n",
       " '33': 'FINEEARRING',\n",
       " '34': 'FINENECKLACEBRACELETANKLET',\n",
       " '35': 'FINEOTHER',\n",
       " '36': 'FINERING',\n",
       " '37': 'FLAT_SCREEN_DISPLAY_MOUNT',\n",
       " '38': 'FLAT_SHEET',\n",
       " '39': 'FOOD_SERVICE_SUPPLY',\n",
       " '40': 'FURNITURE',\n",
       " '41': 'FURNITURE_COVER',\n",
       " '42': 'GROCERY',\n",
       " '43': 'HANDBAG',\n",
       " '44': 'HARDWARE',\n",
       " '45': 'HARDWARE_HANDLE',\n",
       " '46': 'HAT',\n",
       " '47': 'HEADBOARD',\n",
       " '48': 'HEADPHONES',\n",
       " '49': 'HEALTH_PERSONAL_CARE',\n",
       " '50': 'HERB',\n",
       " '51': 'HOME',\n",
       " '52': 'HOME_BED_AND_BATH',\n",
       " '53': 'HOME_FURNITURE_AND_DECOR',\n",
       " '54': 'HOME_LIGHTING_AND_LAMPS',\n",
       " '55': 'HOME_MIRROR',\n",
       " '56': 'INSTRUMENT_PARTS_AND_ACCESSORIES',\n",
       " '57': 'JANITORIAL_SUPPLY',\n",
       " '58': 'JAR',\n",
       " '59': 'KITCHEN',\n",
       " '60': 'LABEL',\n",
       " '61': 'LAMP',\n",
       " '62': 'LEGUME',\n",
       " '63': 'LIGHT_BULB',\n",
       " '64': 'LIGHT_FIXTURE',\n",
       " '65': 'LUGGAGE',\n",
       " '66': 'MEDICATION',\n",
       " '67': 'NECKLACE',\n",
       " '68': 'NUTRITIONAL_SUPPLEMENT',\n",
       " '69': 'OFFICE_ELECTRONICS',\n",
       " '70': 'OFFICE_PRODUCTS',\n",
       " '71': 'OTTOMAN',\n",
       " '72': 'OUTDOOR_LIVING',\n",
       " '73': 'PANTRY',\n",
       " '74': 'PET_SUPPLIES',\n",
       " '75': 'PILLOW',\n",
       " '76': 'PLANTER',\n",
       " '77': 'PLUMBING_FIXTURE',\n",
       " '78': 'PORTABLE_ELECTRONIC_DEVICE_COVER',\n",
       " '79': 'RECREATION_BALL',\n",
       " '80': 'RING',\n",
       " '81': 'RUG',\n",
       " '82': 'SAFETY_SUPPLY',\n",
       " '83': 'SANDAL',\n",
       " '84': 'SAUCE',\n",
       " '85': 'SAUTE_FRY_PAN',\n",
       " '86': 'SCREEN_PROTECTOR',\n",
       " '87': 'SHELF',\n",
       " '88': 'SHOES',\n",
       " '89': 'SKIN_CLEANING_AGENT',\n",
       " '90': 'SKIN_MOISTURIZER',\n",
       " '91': 'SOFA',\n",
       " '92': 'SPEAKERS',\n",
       " '93': 'SPORTING_GOODS',\n",
       " '94': 'STOOL_SEATING',\n",
       " '95': 'STORAGE_BAG',\n",
       " '96': 'STORAGE_BINDER',\n",
       " '97': 'STORAGE_BOX',\n",
       " '98': 'STORAGE_HOOK',\n",
       " '99': 'SUITCASE',\n",
       " '100': 'TABLE',\n",
       " '101': 'TEA',\n",
       " '102': 'THERMOPLASTIC_FILAMENT',\n",
       " '103': 'TOOLS',\n",
       " '104': 'TOWEL_HOLDER',\n",
       " '105': 'UMBRELLA',\n",
       " '106': 'VITAMIN',\n",
       " '107': 'WALLET',\n",
       " '108': 'WALL_ART',\n",
       " '109': 'WASTE_BAG',\n",
       " '110': 'WIRELESS_ACCESSORY',\n",
       " '111': 'WRITING_INSTRUMENT'}"
      ]
     },
     "execution_count": 100,
     "metadata": {},
     "output_type": "execute_result"
    }
   ],
   "source": [
    "id2label_str = {str(key): value for key, value in id2label.items()}\n",
    "id2label_str"
   ]
  },
  {
   "cell_type": "code",
   "execution_count": null,
   "id": "known-december",
   "metadata": {},
   "outputs": [],
   "source": []
  },
  {
   "cell_type": "code",
   "execution_count": 7,
   "id": "controlled-saskatchewan",
   "metadata": {},
   "outputs": [],
   "source": [
    "tokenizer = transformers.AutoTokenizer.from_pretrained(\n",
    "                model_dir\n",
    "            )"
   ]
  },
  {
   "cell_type": "code",
   "execution_count": null,
   "id": "dental-least",
   "metadata": {},
   "outputs": [],
   "source": []
  },
  {
   "cell_type": "code",
   "execution_count": 8,
   "id": "regional-journalist",
   "metadata": {},
   "outputs": [],
   "source": [
    "query = 'men shoes for work'\n",
    "query  = \"men vitamins\"\n",
    "\n",
    "query  = \"herbal TEA\"\n"
   ]
  },
  {
   "cell_type": "code",
   "execution_count": 9,
   "id": "medium-scholarship",
   "metadata": {},
   "outputs": [
    {
     "data": {
      "text/plain": [
       "{'input_ids': tensor([[  101, 27849,  5572,   102]]), 'attention_mask': tensor([[1, 1, 1, 1]])}"
      ]
     },
     "execution_count": 9,
     "metadata": {},
     "output_type": "execute_result"
    }
   ],
   "source": [
    "res = tokenizer.encode_plus(query, return_tensors=\"pt\")\n",
    "res"
   ]
  },
  {
   "cell_type": "code",
   "execution_count": 10,
   "id": "continuing-carnival",
   "metadata": {},
   "outputs": [
    {
     "data": {
      "text/plain": [
       "['[CLS]', 'herbal', 'tea', '[SEP]']"
      ]
     },
     "execution_count": 10,
     "metadata": {},
     "output_type": "execute_result"
    }
   ],
   "source": [
    "tokenizer.convert_ids_to_tokens(res['input_ids'][0])"
   ]
  },
  {
   "cell_type": "code",
   "execution_count": 11,
   "id": "abandoned-height",
   "metadata": {},
   "outputs": [
    {
     "name": "stdout",
     "output_type": "stream",
     "text": [
      "CPU times: user 161 ms, sys: 5.02 ms, total: 166 ms\n",
      "Wall time: 20.8 ms\n"
     ]
    },
    {
     "data": {
      "text/plain": [
       "SequenceClassifierOutput(loss=None, logits=tensor([[ -7.6677,  -8.9506,  -7.0845,  -5.2786,  -7.1656,  -6.1171,  -9.9482,\n",
       "          -9.1212,  -2.7499,  -7.2937,  -8.6023,  -8.4928,  -5.4319,  -8.9995,\n",
       "          -5.5602,  -1.6690,  -6.5178,  -8.3231,  -7.7803,  -9.7673,  -6.5894,\n",
       "          -8.0236, -10.5098,   0.4534,  -8.5425,  -8.0849,  -3.6514,  -8.6150,\n",
       "          -3.0538,  -7.3485,  -1.2094,  -8.9694, -10.4731,  -6.9120,  -5.5614,\n",
       "          -6.1381,  -8.4838,  -9.5964,  -9.0998,  -4.2063,  -5.1919,  -8.1918,\n",
       "           4.2027,  -7.9540,  -6.4338,  -8.7222,  -7.1057,  -9.4445,  -9.8354,\n",
       "          -2.9263,   0.4510,  -5.4933,  -5.2048,  -6.2273,  -5.9204,  -8.1743,\n",
       "         -10.3333,  -7.3300,  -8.0885,  -5.3360, -11.0123,  -7.2948,  -2.0672,\n",
       "          -8.7549,  -8.7169,  -8.9316,  -4.8772,  -6.4113,  -4.3336, -11.0367,\n",
       "          -7.4192,  -9.4832,  -6.4128,  -3.0107,  -5.8093,  -6.4888,  -7.1651,\n",
       "          -7.2252,  -9.9273,  -9.3188,  -7.8169,  -7.1867,  -7.4152,  -9.8344,\n",
       "          -3.6974,  -6.6184,  -8.4081,  -6.7142,  -9.1387,  -2.6419,  -1.9076,\n",
       "          -6.2831,  -9.3299,  -8.0185,  -8.5933, -11.9963, -11.7179,  -8.1385,\n",
       "         -12.3799, -11.0510,  -5.5329,   5.2269,  -9.9811,  -7.4056, -10.3953,\n",
       "         -10.0786,  -3.6249,  -8.9944,  -6.3132,  -5.4102,  -5.9791,  -7.8561]],\n",
       "       grad_fn=<AddmmBackward>), hidden_states=None, attentions=None)"
      ]
     },
     "execution_count": 11,
     "metadata": {},
     "output_type": "execute_result"
    }
   ],
   "source": [
    "%%time\n",
    "model_res = model(**res)\n",
    "model_res"
   ]
  },
  {
   "cell_type": "code",
   "execution_count": 84,
   "id": "classified-customer",
   "metadata": {},
   "outputs": [
    {
     "data": {
      "text/plain": [
       "torch.Size([1, 112])"
      ]
     },
     "execution_count": 84,
     "metadata": {},
     "output_type": "execute_result"
    }
   ],
   "source": []
  },
  {
   "cell_type": "code",
   "execution_count": 102,
   "id": "decimal-collect",
   "metadata": {},
   "outputs": [],
   "source": [
    "topk = 20\n",
    "ps = torch.nn.functional.softmax(model_res.logits, dim=1)\n",
    "probs, classes = torch.topk(ps, topk, dim=1)\n",
    "probs = probs.tolist()\n",
    "classes = classes.tolist()"
   ]
  },
  {
   "cell_type": "code",
   "execution_count": 103,
   "id": "removed-mother",
   "metadata": {},
   "outputs": [
    {
     "data": {
      "text/plain": [
       "([[0.7232240438461304,\n",
       "   0.25969767570495605,\n",
       "   0.006111669819802046,\n",
       "   0.0060967495664954185,\n",
       "   0.0011588569032028317,\n",
       "   0.000731807027477771,\n",
       "   0.0005764953093603253,\n",
       "   0.0004914401797577739,\n",
       "   0.0002766131074167788,\n",
       "   0.00024830058100633323,\n",
       "   0.00020814224262721837,\n",
       "   0.00019130650616716594,\n",
       "   0.00018323035328648984,\n",
       "   0.00010350668162573129,\n",
       "   0.00010080193169414997,\n",
       "   9.626983955968171e-05,\n",
       "   5.7873698096955195e-05,\n",
       "   5.095693632028997e-05,\n",
       "   2.9587761673610657e-05,\n",
       "   2.1597934392048046e-05]],\n",
       " [[101,\n",
       "   42,\n",
       "   23,\n",
       "   50,\n",
       "   30,\n",
       "   15,\n",
       "   90,\n",
       "   62,\n",
       "   89,\n",
       "   8,\n",
       "   49,\n",
       "   73,\n",
       "   28,\n",
       "   106,\n",
       "   26,\n",
       "   84,\n",
       "   39,\n",
       "   68,\n",
       "   66,\n",
       "   40]])"
      ]
     },
     "execution_count": 103,
     "metadata": {},
     "output_type": "execute_result"
    }
   ],
   "source": [
    "probs, classes"
   ]
  },
  {
   "cell_type": "code",
   "execution_count": 106,
   "id": "dimensional-macro",
   "metadata": {},
   "outputs": [
    {
     "data": {
      "text/plain": [
       "[{'TEA': 0.7232240438461304,\n",
       "  'GROCERY': 0.25969767570495605,\n",
       "  'COFFEE': 0.006111669819802046,\n",
       "  'HERB': 0.0060967495664954185,\n",
       "  'EDIBLE_OIL_VEGETABLE': 0.0011588569032028317,\n",
       "  'BREAD': 0.000731807027477771,\n",
       "  'SKIN_MOISTURIZER': 0.0005764953093603253,\n",
       "  'LEGUME': 0.0004914401797577739,\n",
       "  'SKIN_CLEANING_AGENT': 0.0002766131074167788,\n",
       "  'BEAUTY': 0.00024830058100633323,\n",
       "  'HEALTH_PERSONAL_CARE': 0.00020814224262721837,\n",
       "  'PANTRY': 0.00019130650616716594,\n",
       "  'DRINKING_CUP': 0.00018323035328648984,\n",
       "  'VITAMIN': 0.00010350668162573129,\n",
       "  'DAIRY_BASED_DRINK': 0.00010080193169414997,\n",
       "  'SAUCE': 9.626983955968171e-05,\n",
       "  'FOOD_SERVICE_SUPPLY': 5.7873698096955195e-05,\n",
       "  'NUTRITIONAL_SUPPLEMENT': 5.095693632028997e-05,\n",
       "  'MEDICATION': 2.9587761673610657e-05,\n",
       "  'FURNITURE': 2.1597934392048046e-05}]"
      ]
     },
     "execution_count": 106,
     "metadata": {},
     "output_type": "execute_result"
    }
   ],
   "source": [
    "map_class_to_label(probs, id2label_str, classes)"
   ]
  },
  {
   "cell_type": "code",
   "execution_count": 12,
   "id": "hazardous-morning",
   "metadata": {},
   "outputs": [],
   "source": [
    "predictions = list ( zip (labels , torch.softmax(model_res.logits, dim=1).tolist()[0] ) )\n",
    "predictions = sorted (predictions , key=lambda x:x[1] , reverse =True)"
   ]
  },
  {
   "cell_type": "code",
   "execution_count": 13,
   "id": "advanced-stevens",
   "metadata": {},
   "outputs": [
    {
     "data": {
      "text/plain": [
       "[('TEA', 0.7232240438461304),\n",
       " ('GROCERY', 0.25969767570495605),\n",
       " ('COFFEE', 0.006111669819802046),\n",
       " ('HERB', 0.0060967495664954185),\n",
       " ('EDIBLE_OIL_VEGETABLE', 0.0011588569032028317),\n",
       " ('BREAD', 0.000731807027477771),\n",
       " ('SKIN_MOISTURIZER', 0.0005764953093603253),\n",
       " ('LEGUME', 0.0004914401797577739),\n",
       " ('SKIN_CLEANING_AGENT', 0.0002766131074167788),\n",
       " ('BEAUTY', 0.00024830058100633323),\n",
       " ('HEALTH_PERSONAL_CARE', 0.00020814224262721837),\n",
       " ('PANTRY', 0.00019130650616716594),\n",
       " ('DRINKING_CUP', 0.00018323035328648984),\n",
       " ('VITAMIN', 0.00010350668162573129),\n",
       " ('DAIRY_BASED_DRINK', 0.00010080193169414997),\n",
       " ('SAUCE', 9.626983955968171e-05),\n",
       " ('FOOD_SERVICE_SUPPLY', 5.7873698096955195e-05),\n",
       " ('NUTRITIONAL_SUPPLEMENT', 5.095693632028997e-05),\n",
       " ('MEDICATION', 2.9587761673610657e-05),\n",
       " ('FURNITURE', 2.1597934392048046e-05),\n",
       " ('HOME_BED_AND_BATH', 2.1322952306945808e-05),\n",
       " ('ACCESSORY_OR_PART_OR_SUPPLY', 1.9804283510893583e-05),\n",
       " ('KITCHEN', 1.8700689906836487e-05),\n",
       " ('WASTE_BAG', 1.7362539438181557e-05),\n",
       " ('BISS', 1.699036693025846e-05),\n",
       " ('HOME', 1.5979081581463106e-05),\n",
       " ('TABLE', 1.535881710879039e-05),\n",
       " ('BRACELET', 1.4943867427064106e-05),\n",
       " ('FINENECKLACEBRACELETANKLET', 1.4926220501365606e-05),\n",
       " ('PET_SUPPLIES', 1.164894456451293e-05),\n",
       " ('HOME_LIGHTING_AND_LAMPS', 1.0424455467727967e-05),\n",
       " ('WIRELESS_ACCESSORY', 9.829960617935285e-06),\n",
       " ('BABY_PRODUCT', 8.563024493923876e-06),\n",
       " ('FINEOTHER', 8.385332876059692e-06),\n",
       " ('HOME_FURNITURE_AND_DECOR', 7.669465958315413e-06),\n",
       " ('SOFA', 7.253510375448968e-06),\n",
       " ('WALL_ART', 7.0380915531131905e-06),\n",
       " ('NECKLACE', 6.380332251865184e-06),\n",
       " ('OUTDOOR_LIVING', 6.371162726281909e-06),\n",
       " ('HARDWARE', 6.238359219423728e-06),\n",
       " ('PILLOW', 5.904715635551838e-06),\n",
       " ('CABINET', 5.735635568271391e-06),\n",
       " ('CLEANING_AGENT', 5.339433755580103e-06),\n",
       " ('SAUTE_FRY_PAN', 5.1871338655473664e-06),\n",
       " ('SHELF', 4.712914687843295e-06),\n",
       " ('FINEEARRING', 3.867077793984208e-06),\n",
       " ('ACCESSORY', 3.2544626265007537e-06),\n",
       " ('HAT', 3.186178673786344e-06),\n",
       " ('PLANTER', 3.002354787895456e-06),\n",
       " ('AUTO_ACCESSORY', 3.0011208309588255e-06),\n",
       " ('RUG', 2.9382390493992716e-06),\n",
       " ('PLUMBING_FIXTURE', 2.827420985340723e-06),\n",
       " ('BED', 2.640225829964038e-06),\n",
       " ('LAMP', 2.637148327266914e-06),\n",
       " ('JANITORIAL_SUPPLY', 2.546015139159863e-06),\n",
       " ('EARRING', 2.4993867100420175e-06),\n",
       " ('TOOLS', 2.3606150989508023e-06),\n",
       " ('SAFETY_SUPPLY', 2.338095782761229e-06),\n",
       " ('OFFICE_PRODUCTS', 2.328669552298379e-06),\n",
       " ('ABIS_DRUGSTORE', 1.8164117818741943e-06),\n",
       " ('CHAIR', 1.6229189441219205e-06),\n",
       " ('RING', 1.564647618579329e-06),\n",
       " ('WRITING_INSTRUMENT', 1.5044601013869396e-06),\n",
       " ('HANDBAG', 1.3641478062709211e-06),\n",
       " ('SPORTING_GOODS', 1.278977038055018e-06),\n",
       " ('CLOCK', 1.2724158295895904e-06),\n",
       " ('COMPUTER_COMPONENT', 1.1968469380008173e-06),\n",
       " ('JAR', 1.192449190057232e-06),\n",
       " ('STORAGE_BOX', 1.134290414483985e-06),\n",
       " ('HOME_MIRROR', 1.0944178256977466e-06),\n",
       " ('FURNITURE_COVER', 1.0754558843473205e-06),\n",
       " ('CELLULAR_PHONE_CASE', 9.431161061002058e-07),\n",
       " ('SCREEN_PROTECTOR', 8.662992172503436e-07),\n",
       " ('FINERING', 8.031282163756259e-07),\n",
       " ('BENCH', 7.958870469337853e-07),\n",
       " ('COMPUTER_ADD_ON', 7.573231073365605e-07),\n",
       " ('STOOL_SEATING', 7.198095772764646e-07),\n",
       " ('BED_FRAME', 7.133904205147701e-07),\n",
       " ('DESK', 7.04390970440727e-07),\n",
       " ('LIGHT_FIXTURE', 6.361348710015591e-07),\n",
       " ('HARDWARE_HANDLE', 6.327501864689111e-07),\n",
       " ('LIGHT_BULB', 6.124070068835863e-07),\n",
       " ('LUGGAGE', 5.132021669851383e-07),\n",
       " ('ABIS_LAWN_AND_GARDEN', 5.035798267272185e-07),\n",
       " ('ELECTRONIC_ADAPTER', 4.941949782732991e-07),\n",
       " ('WALLET', 4.819589207727404e-07),\n",
       " ('BOOT', 4.795299446413992e-07),\n",
       " ('FLAT_SHEET', 4.337450434377388e-07),\n",
       " ('BATTERY', 4.245629554588959e-07),\n",
       " ('SHOES', 4.1721327193045e-07),\n",
       " ('RECREATION_BALL', 3.4843785101656977e-07),\n",
       " ('SPEAKERS', 3.445933032253379e-07),\n",
       " ('HEADBOARD', 3.072992171837541e-07),\n",
       " ('OTTOMAN', 2.956400919629232e-07),\n",
       " ('FLAT_SCREEN_DISPLAY_MOUNT', 2.639733622800122e-07),\n",
       " ('CHARGING_ADAPTER', 2.2251332154610282e-07),\n",
       " ('SANDAL', 2.080679024629717e-07),\n",
       " ('HEADPHONES', 2.078705705343964e-07),\n",
       " ('PORTABLE_ELECTRONIC_DEVICE_COVER', 1.8960813008561672e-07),\n",
       " ('BACKPACK', 1.8568630366644356e-07),\n",
       " ('THERMOPLASTIC_FILAMENT', 1.7968488918995718e-07),\n",
       " ('UMBRELLA', 1.6299554772558622e-07),\n",
       " ('INSTRUMENT_PARTS_AND_ACCESSORIES', 1.263443039078993e-07),\n",
       " ('TOWEL_HOLDER', 1.1875187766463569e-07),\n",
       " ('FILE_FOLDER', 1.0986031639959037e-07),\n",
       " ('CLOTHES_HANGER', 1.0590485288730633e-07),\n",
       " ('LABEL', 6.406947505865901e-08),\n",
       " ('OFFICE_ELECTRONICS', 6.252565043496361e-08),\n",
       " ('SUITCASE', 6.164063393043762e-08),\n",
       " ('STORAGE_BINDER', 3.164067763350431e-08),\n",
       " ('STORAGE_BAG', 2.395128895216203e-08),\n",
       " ('STORAGE_HOOK', 1.6320747420195403e-08)]"
      ]
     },
     "execution_count": 13,
     "metadata": {},
     "output_type": "execute_result"
    }
   ],
   "source": [
    "predictions"
   ]
  },
  {
   "cell_type": "code",
   "execution_count": null,
   "id": "buried-inquiry",
   "metadata": {},
   "outputs": [],
   "source": []
  },
  {
   "cell_type": "code",
   "execution_count": null,
   "id": "closed-breach",
   "metadata": {},
   "outputs": [],
   "source": []
  },
  {
   "cell_type": "markdown",
   "id": "formed-newport",
   "metadata": {},
   "source": [
    "# Quantizing model"
   ]
  },
  {
   "cell_type": "code",
   "execution_count": null,
   "id": "secure-movie",
   "metadata": {},
   "outputs": [],
   "source": []
  },
  {
   "cell_type": "code",
   "execution_count": null,
   "id": "likely-looking",
   "metadata": {},
   "outputs": [],
   "source": []
  },
  {
   "cell_type": "code",
   "execution_count": null,
   "id": "hundred-sister",
   "metadata": {},
   "outputs": [],
   "source": []
  },
  {
   "cell_type": "code",
   "execution_count": null,
   "id": "floral-collins",
   "metadata": {},
   "outputs": [],
   "source": []
  },
  {
   "cell_type": "code",
   "execution_count": null,
   "id": "liked-convertible",
   "metadata": {},
   "outputs": [],
   "source": []
  },
  {
   "cell_type": "markdown",
   "id": "facial-replication",
   "metadata": {},
   "source": [
    "# TorchScript"
   ]
  },
  {
   "cell_type": "markdown",
   "id": "flying-beast",
   "metadata": {},
   "source": [
    "load model as torchscript"
   ]
  },
  {
   "cell_type": "code",
   "execution_count": 59,
   "id": "earned-ghana",
   "metadata": {},
   "outputs": [],
   "source": [
    "script_model = transformers.AutoModelForSequenceClassification.from_pretrained(model_dir, torchscript=True)\n",
    "script_tokenizer = transformers.AutoTokenizer.from_pretrained(model_dir , torchscript=True)\n"
   ]
  },
  {
   "cell_type": "code",
   "execution_count": 61,
   "id": "needed-writer",
   "metadata": {},
   "outputs": [
    {
     "data": {
      "text/plain": [
       "{'input_ids': tensor([[  101, 27849,  5572,   102]]), 'attention_mask': tensor([[1, 1, 1, 1]])}"
      ]
     },
     "execution_count": 61,
     "metadata": {},
     "output_type": "execute_result"
    }
   ],
   "source": [
    "#query = \"test \" * 100\n",
    "res = script_tokenizer.encode_plus(query, return_tensors=\"pt\", padding=True,truncation=True)\n",
    "res"
   ]
  },
  {
   "cell_type": "code",
   "execution_count": 62,
   "id": "announced-difference",
   "metadata": {},
   "outputs": [],
   "source": [
    "#text = \"test \" * 100\n",
    "text = query\n",
    "\n",
    "# tokenized_text = script_tokenizer.tokenize(text)\n",
    "\n",
    "# indexed_tokens = script_tokenizer.convert_tokens_to_ids(tokenized_text)\n",
    "# segments_ids = [1] * len(indexed_tokens)\n",
    "#tokens_tensor = torch.tensor([indexed_tokens])\n",
    "#segments_tensors = torch.tensor([segments_ids])\n",
    "\n",
    "res = script_tokenizer.encode_plus(text, return_tensors=\"pt\", padding=True,truncation=True)\n"
   ]
  },
  {
   "cell_type": "code",
   "execution_count": 63,
   "id": "breathing-pilot",
   "metadata": {},
   "outputs": [],
   "source": [
    "?script_tokenizer.encode_plus"
   ]
  },
  {
   "cell_type": "code",
   "execution_count": 56,
   "id": "third-maintenance",
   "metadata": {},
   "outputs": [
    {
     "data": {
      "text/plain": [
       "{'input_ids': tensor([[  101, 27849,  5572,   102]]), 'attention_mask': tensor([[1, 1, 1, 1]])}"
      ]
     },
     "execution_count": 56,
     "metadata": {},
     "output_type": "execute_result"
    }
   ],
   "source": [
    "res"
   ]
  },
  {
   "cell_type": "code",
   "execution_count": null,
   "id": "optical-dairy",
   "metadata": {},
   "outputs": [],
   "source": []
  },
  {
   "cell_type": "code",
   "execution_count": 64,
   "id": "toxic-gauge",
   "metadata": {},
   "outputs": [],
   "source": [
    "# Creating a dummy input\n",
    "tokens_tensor = res['input_ids']\n",
    "segments_tensors = res['attention_mask']\n",
    "\n",
    "dummy_input = [tokens_tensor, segments_tensors]"
   ]
  },
  {
   "cell_type": "code",
   "execution_count": 65,
   "id": "applicable-anchor",
   "metadata": {},
   "outputs": [
    {
     "data": {
      "text/plain": [
       "[tensor([[  101, 27849,  5572,   102]]), tensor([[1, 1, 1, 1]])]"
      ]
     },
     "execution_count": 65,
     "metadata": {},
     "output_type": "execute_result"
    }
   ],
   "source": [
    "dummy_input"
   ]
  },
  {
   "cell_type": "code",
   "execution_count": 53,
   "id": "brown-tunnel",
   "metadata": {},
   "outputs": [
    {
     "data": {
      "text/plain": [
       "torch.Size([1, 4])"
      ]
     },
     "execution_count": 53,
     "metadata": {},
     "output_type": "execute_result"
    }
   ],
   "source": [
    "tokens_tensor.shape"
   ]
  },
  {
   "cell_type": "code",
   "execution_count": 66,
   "id": "widespread-liquid",
   "metadata": {},
   "outputs": [],
   "source": [
    "model_dir_trace ='../artifacts/model/amazon_trace/'"
   ]
  },
  {
   "cell_type": "code",
   "execution_count": 67,
   "id": "superb-accident",
   "metadata": {},
   "outputs": [],
   "source": [
    "# Creating the trace\n",
    "traced_model = torch.jit.trace(script_model, [tokens_tensor, segments_tensors])\n"
   ]
  },
  {
   "cell_type": "code",
   "execution_count": 68,
   "id": "thick-dancing",
   "metadata": {},
   "outputs": [
    {
     "name": "stdout",
     "output_type": "stream",
     "text": [
      "CPU times: user 457 ms, sys: 9.27 ms, total: 466 ms\n",
      "Wall time: 58.1 ms\n"
     ]
    },
    {
     "data": {
      "text/plain": [
       "(tensor([[ -7.6677,  -8.9506,  -7.0845,  -5.2786,  -7.1656,  -6.1171,  -9.9482,\n",
       "           -9.1212,  -2.7499,  -7.2937,  -8.6023,  -8.4928,  -5.4319,  -8.9995,\n",
       "           -5.5602,  -1.6690,  -6.5178,  -8.3231,  -7.7803,  -9.7673,  -6.5894,\n",
       "           -8.0236, -10.5098,   0.4534,  -8.5425,  -8.0849,  -3.6514,  -8.6150,\n",
       "           -3.0538,  -7.3485,  -1.2094,  -8.9694, -10.4731,  -6.9120,  -5.5614,\n",
       "           -6.1381,  -8.4838,  -9.5964,  -9.0998,  -4.2063,  -5.1919,  -8.1918,\n",
       "            4.2027,  -7.9540,  -6.4338,  -8.7222,  -7.1057,  -9.4445,  -9.8354,\n",
       "           -2.9263,   0.4510,  -5.4933,  -5.2048,  -6.2273,  -5.9204,  -8.1743,\n",
       "          -10.3333,  -7.3300,  -8.0885,  -5.3360, -11.0123,  -7.2948,  -2.0672,\n",
       "           -8.7549,  -8.7169,  -8.9316,  -4.8772,  -6.4113,  -4.3336, -11.0367,\n",
       "           -7.4192,  -9.4832,  -6.4128,  -3.0107,  -5.8093,  -6.4888,  -7.1651,\n",
       "           -7.2252,  -9.9273,  -9.3188,  -7.8169,  -7.1867,  -7.4152,  -9.8344,\n",
       "           -3.6974,  -6.6184,  -8.4081,  -6.7142,  -9.1387,  -2.6419,  -1.9076,\n",
       "           -6.2831,  -9.3299,  -8.0185,  -8.5933, -11.9963, -11.7179,  -8.1385,\n",
       "          -12.3799, -11.0510,  -5.5329,   5.2269,  -9.9811,  -7.4056, -10.3953,\n",
       "          -10.0786,  -3.6249,  -8.9944,  -6.3132,  -5.4102,  -5.9791,  -7.8561]],\n",
       "        grad_fn=<AddBackward0>),)"
      ]
     },
     "execution_count": 68,
     "metadata": {},
     "output_type": "execute_result"
    }
   ],
   "source": [
    "%%time\n",
    "res = traced_model(tokens_tensor, segments_tensors)\n",
    "res"
   ]
  },
  {
   "cell_type": "code",
   "execution_count": null,
   "id": "friendly-thread",
   "metadata": {},
   "outputs": [],
   "source": []
  },
  {
   "cell_type": "code",
   "execution_count": 69,
   "id": "legendary-reset",
   "metadata": {},
   "outputs": [
    {
     "data": {
      "text/plain": [
       "[('TEA', 0.7232240438461304),\n",
       " ('GROCERY', 0.25969767570495605),\n",
       " ('COFFEE', 0.006111669819802046),\n",
       " ('HERB', 0.0060967495664954185),\n",
       " ('EDIBLE_OIL_VEGETABLE', 0.0011588569032028317),\n",
       " ('BREAD', 0.000731807027477771),\n",
       " ('SKIN_MOISTURIZER', 0.0005764953093603253),\n",
       " ('LEGUME', 0.0004914401797577739),\n",
       " ('SKIN_CLEANING_AGENT', 0.0002766131074167788),\n",
       " ('BEAUTY', 0.00024830058100633323),\n",
       " ('HEALTH_PERSONAL_CARE', 0.00020814224262721837),\n",
       " ('PANTRY', 0.00019130650616716594),\n",
       " ('DRINKING_CUP', 0.00018323035328648984),\n",
       " ('VITAMIN', 0.00010350668162573129),\n",
       " ('DAIRY_BASED_DRINK', 0.00010080193169414997),\n",
       " ('SAUCE', 9.626983955968171e-05),\n",
       " ('FOOD_SERVICE_SUPPLY', 5.7873698096955195e-05),\n",
       " ('NUTRITIONAL_SUPPLEMENT', 5.095693632028997e-05),\n",
       " ('MEDICATION', 2.9587761673610657e-05),\n",
       " ('FURNITURE', 2.1597934392048046e-05),\n",
       " ('HOME_BED_AND_BATH', 2.1322952306945808e-05),\n",
       " ('ACCESSORY_OR_PART_OR_SUPPLY', 1.9804283510893583e-05),\n",
       " ('KITCHEN', 1.8700689906836487e-05),\n",
       " ('WASTE_BAG', 1.7362539438181557e-05),\n",
       " ('BISS', 1.699036693025846e-05),\n",
       " ('HOME', 1.5979081581463106e-05),\n",
       " ('TABLE', 1.535881710879039e-05),\n",
       " ('BRACELET', 1.4943867427064106e-05),\n",
       " ('FINENECKLACEBRACELETANKLET', 1.4926220501365606e-05),\n",
       " ('PET_SUPPLIES', 1.164894456451293e-05),\n",
       " ('HOME_LIGHTING_AND_LAMPS', 1.0424455467727967e-05),\n",
       " ('WIRELESS_ACCESSORY', 9.829960617935285e-06),\n",
       " ('BABY_PRODUCT', 8.563024493923876e-06),\n",
       " ('FINEOTHER', 8.385332876059692e-06),\n",
       " ('HOME_FURNITURE_AND_DECOR', 7.669465958315413e-06),\n",
       " ('SOFA', 7.253510375448968e-06),\n",
       " ('WALL_ART', 7.0380915531131905e-06),\n",
       " ('NECKLACE', 6.380332251865184e-06),\n",
       " ('OUTDOOR_LIVING', 6.371162726281909e-06),\n",
       " ('HARDWARE', 6.238359219423728e-06),\n",
       " ('PILLOW', 5.904715635551838e-06),\n",
       " ('CABINET', 5.735635568271391e-06),\n",
       " ('CLEANING_AGENT', 5.339433755580103e-06),\n",
       " ('SAUTE_FRY_PAN', 5.1871338655473664e-06),\n",
       " ('SHELF', 4.712914687843295e-06),\n",
       " ('FINEEARRING', 3.867077793984208e-06),\n",
       " ('ACCESSORY', 3.2544626265007537e-06),\n",
       " ('HAT', 3.186178673786344e-06),\n",
       " ('PLANTER', 3.002354787895456e-06),\n",
       " ('AUTO_ACCESSORY', 3.0011208309588255e-06),\n",
       " ('RUG', 2.9382390493992716e-06),\n",
       " ('PLUMBING_FIXTURE', 2.827420985340723e-06),\n",
       " ('BED', 2.640225829964038e-06),\n",
       " ('LAMP', 2.637148327266914e-06),\n",
       " ('JANITORIAL_SUPPLY', 2.546015139159863e-06),\n",
       " ('EARRING', 2.4993867100420175e-06),\n",
       " ('TOOLS', 2.3606150989508023e-06),\n",
       " ('SAFETY_SUPPLY', 2.338095782761229e-06),\n",
       " ('OFFICE_PRODUCTS', 2.328669552298379e-06),\n",
       " ('ABIS_DRUGSTORE', 1.8164117818741943e-06),\n",
       " ('CHAIR', 1.6229189441219205e-06),\n",
       " ('RING', 1.564647618579329e-06),\n",
       " ('WRITING_INSTRUMENT', 1.5044601013869396e-06),\n",
       " ('HANDBAG', 1.3641478062709211e-06),\n",
       " ('SPORTING_GOODS', 1.278977038055018e-06),\n",
       " ('CLOCK', 1.2724158295895904e-06),\n",
       " ('COMPUTER_COMPONENT', 1.1968469380008173e-06),\n",
       " ('JAR', 1.192449190057232e-06),\n",
       " ('STORAGE_BOX', 1.134290414483985e-06),\n",
       " ('HOME_MIRROR', 1.0944178256977466e-06),\n",
       " ('FURNITURE_COVER', 1.0754558843473205e-06),\n",
       " ('CELLULAR_PHONE_CASE', 9.431161061002058e-07),\n",
       " ('SCREEN_PROTECTOR', 8.662992172503436e-07),\n",
       " ('FINERING', 8.031282163756259e-07),\n",
       " ('BENCH', 7.958870469337853e-07),\n",
       " ('COMPUTER_ADD_ON', 7.573231073365605e-07),\n",
       " ('STOOL_SEATING', 7.198095772764646e-07),\n",
       " ('BED_FRAME', 7.133904205147701e-07),\n",
       " ('DESK', 7.04390970440727e-07),\n",
       " ('LIGHT_FIXTURE', 6.361348710015591e-07),\n",
       " ('HARDWARE_HANDLE', 6.327501864689111e-07),\n",
       " ('LIGHT_BULB', 6.124070068835863e-07),\n",
       " ('LUGGAGE', 5.132021669851383e-07),\n",
       " ('ABIS_LAWN_AND_GARDEN', 5.035798267272185e-07),\n",
       " ('ELECTRONIC_ADAPTER', 4.941949782732991e-07),\n",
       " ('WALLET', 4.819589207727404e-07),\n",
       " ('BOOT', 4.795299446413992e-07),\n",
       " ('FLAT_SHEET', 4.337450434377388e-07),\n",
       " ('BATTERY', 4.245629554588959e-07),\n",
       " ('SHOES', 4.1721327193045e-07),\n",
       " ('RECREATION_BALL', 3.4843785101656977e-07),\n",
       " ('SPEAKERS', 3.445933032253379e-07),\n",
       " ('HEADBOARD', 3.072992171837541e-07),\n",
       " ('OTTOMAN', 2.956400919629232e-07),\n",
       " ('FLAT_SCREEN_DISPLAY_MOUNT', 2.639733622800122e-07),\n",
       " ('CHARGING_ADAPTER', 2.2251332154610282e-07),\n",
       " ('SANDAL', 2.080679024629717e-07),\n",
       " ('HEADPHONES', 2.078705705343964e-07),\n",
       " ('PORTABLE_ELECTRONIC_DEVICE_COVER', 1.8960813008561672e-07),\n",
       " ('BACKPACK', 1.8568630366644356e-07),\n",
       " ('THERMOPLASTIC_FILAMENT', 1.7968488918995718e-07),\n",
       " ('UMBRELLA', 1.6299554772558622e-07),\n",
       " ('INSTRUMENT_PARTS_AND_ACCESSORIES', 1.263443039078993e-07),\n",
       " ('TOWEL_HOLDER', 1.1875187766463569e-07),\n",
       " ('FILE_FOLDER', 1.0986031639959037e-07),\n",
       " ('CLOTHES_HANGER', 1.0590485288730633e-07),\n",
       " ('LABEL', 6.406947505865901e-08),\n",
       " ('OFFICE_ELECTRONICS', 6.252565043496361e-08),\n",
       " ('SUITCASE', 6.164063393043762e-08),\n",
       " ('STORAGE_BINDER', 3.164067763350431e-08),\n",
       " ('STORAGE_BAG', 2.395128895216203e-08),\n",
       " ('STORAGE_HOOK', 1.6320747420195403e-08)]"
      ]
     },
     "execution_count": 69,
     "metadata": {},
     "output_type": "execute_result"
    }
   ],
   "source": [
    "predictions = list ( zip (labels , torch.softmax(res[0], dim=1).tolist()[0] ) )\n",
    "predictions = sorted (predictions , key=lambda x:x[1] , reverse =True)\n",
    "predictions"
   ]
  },
  {
   "cell_type": "code",
   "execution_count": 70,
   "id": "respiratory-corpus",
   "metadata": {},
   "outputs": [],
   "source": [
    "torch.jit.save(traced_model, f\"{model_dir_trace}/traced_model.pt\")"
   ]
  },
  {
   "cell_type": "code",
   "execution_count": null,
   "id": "comparative-bankruptcy",
   "metadata": {},
   "outputs": [],
   "source": []
  },
  {
   "cell_type": "code",
   "execution_count": null,
   "id": "spatial-danger",
   "metadata": {},
   "outputs": [],
   "source": []
  },
  {
   "cell_type": "code",
   "execution_count": null,
   "id": "gorgeous-advertiser",
   "metadata": {},
   "outputs": [],
   "source": []
  },
  {
   "cell_type": "code",
   "execution_count": null,
   "id": "second-accuracy",
   "metadata": {},
   "outputs": [],
   "source": []
  },
  {
   "cell_type": "code",
   "execution_count": null,
   "id": "comfortable-corporation",
   "metadata": {},
   "outputs": [],
   "source": []
  },
  {
   "cell_type": "code",
   "execution_count": null,
   "id": "clear-antique",
   "metadata": {},
   "outputs": [],
   "source": []
  },
  {
   "cell_type": "code",
   "execution_count": 71,
   "id": "efficient-spending",
   "metadata": {},
   "outputs": [
    {
     "data": {
      "text/plain": [
       "RecursiveScriptModule(\n",
       "  original_name=DistilBertForSequenceClassification\n",
       "  (distilbert): RecursiveScriptModule(\n",
       "    original_name=DistilBertModel\n",
       "    (embeddings): RecursiveScriptModule(\n",
       "      original_name=Embeddings\n",
       "      (word_embeddings): RecursiveScriptModule(original_name=Embedding)\n",
       "      (position_embeddings): RecursiveScriptModule(original_name=Embedding)\n",
       "      (LayerNorm): RecursiveScriptModule(original_name=LayerNorm)\n",
       "      (dropout): RecursiveScriptModule(original_name=Dropout)\n",
       "    )\n",
       "    (transformer): RecursiveScriptModule(\n",
       "      original_name=Transformer\n",
       "      (layer): RecursiveScriptModule(\n",
       "        original_name=ModuleList\n",
       "        (0): RecursiveScriptModule(\n",
       "          original_name=TransformerBlock\n",
       "          (attention): RecursiveScriptModule(\n",
       "            original_name=MultiHeadSelfAttention\n",
       "            (dropout): RecursiveScriptModule(original_name=Dropout)\n",
       "            (q_lin): RecursiveScriptModule(original_name=Linear)\n",
       "            (k_lin): RecursiveScriptModule(original_name=Linear)\n",
       "            (v_lin): RecursiveScriptModule(original_name=Linear)\n",
       "            (out_lin): RecursiveScriptModule(original_name=Linear)\n",
       "          )\n",
       "          (sa_layer_norm): RecursiveScriptModule(original_name=LayerNorm)\n",
       "          (ffn): RecursiveScriptModule(\n",
       "            original_name=FFN\n",
       "            (dropout): RecursiveScriptModule(original_name=Dropout)\n",
       "            (lin1): RecursiveScriptModule(original_name=Linear)\n",
       "            (lin2): RecursiveScriptModule(original_name=Linear)\n",
       "          )\n",
       "          (output_layer_norm): RecursiveScriptModule(original_name=LayerNorm)\n",
       "        )\n",
       "        (1): RecursiveScriptModule(\n",
       "          original_name=TransformerBlock\n",
       "          (attention): RecursiveScriptModule(\n",
       "            original_name=MultiHeadSelfAttention\n",
       "            (dropout): RecursiveScriptModule(original_name=Dropout)\n",
       "            (q_lin): RecursiveScriptModule(original_name=Linear)\n",
       "            (k_lin): RecursiveScriptModule(original_name=Linear)\n",
       "            (v_lin): RecursiveScriptModule(original_name=Linear)\n",
       "            (out_lin): RecursiveScriptModule(original_name=Linear)\n",
       "          )\n",
       "          (sa_layer_norm): RecursiveScriptModule(original_name=LayerNorm)\n",
       "          (ffn): RecursiveScriptModule(\n",
       "            original_name=FFN\n",
       "            (dropout): RecursiveScriptModule(original_name=Dropout)\n",
       "            (lin1): RecursiveScriptModule(original_name=Linear)\n",
       "            (lin2): RecursiveScriptModule(original_name=Linear)\n",
       "          )\n",
       "          (output_layer_norm): RecursiveScriptModule(original_name=LayerNorm)\n",
       "        )\n",
       "        (2): RecursiveScriptModule(\n",
       "          original_name=TransformerBlock\n",
       "          (attention): RecursiveScriptModule(\n",
       "            original_name=MultiHeadSelfAttention\n",
       "            (dropout): RecursiveScriptModule(original_name=Dropout)\n",
       "            (q_lin): RecursiveScriptModule(original_name=Linear)\n",
       "            (k_lin): RecursiveScriptModule(original_name=Linear)\n",
       "            (v_lin): RecursiveScriptModule(original_name=Linear)\n",
       "            (out_lin): RecursiveScriptModule(original_name=Linear)\n",
       "          )\n",
       "          (sa_layer_norm): RecursiveScriptModule(original_name=LayerNorm)\n",
       "          (ffn): RecursiveScriptModule(\n",
       "            original_name=FFN\n",
       "            (dropout): RecursiveScriptModule(original_name=Dropout)\n",
       "            (lin1): RecursiveScriptModule(original_name=Linear)\n",
       "            (lin2): RecursiveScriptModule(original_name=Linear)\n",
       "          )\n",
       "          (output_layer_norm): RecursiveScriptModule(original_name=LayerNorm)\n",
       "        )\n",
       "        (3): RecursiveScriptModule(\n",
       "          original_name=TransformerBlock\n",
       "          (attention): RecursiveScriptModule(\n",
       "            original_name=MultiHeadSelfAttention\n",
       "            (dropout): RecursiveScriptModule(original_name=Dropout)\n",
       "            (q_lin): RecursiveScriptModule(original_name=Linear)\n",
       "            (k_lin): RecursiveScriptModule(original_name=Linear)\n",
       "            (v_lin): RecursiveScriptModule(original_name=Linear)\n",
       "            (out_lin): RecursiveScriptModule(original_name=Linear)\n",
       "          )\n",
       "          (sa_layer_norm): RecursiveScriptModule(original_name=LayerNorm)\n",
       "          (ffn): RecursiveScriptModule(\n",
       "            original_name=FFN\n",
       "            (dropout): RecursiveScriptModule(original_name=Dropout)\n",
       "            (lin1): RecursiveScriptModule(original_name=Linear)\n",
       "            (lin2): RecursiveScriptModule(original_name=Linear)\n",
       "          )\n",
       "          (output_layer_norm): RecursiveScriptModule(original_name=LayerNorm)\n",
       "        )\n",
       "        (4): RecursiveScriptModule(\n",
       "          original_name=TransformerBlock\n",
       "          (attention): RecursiveScriptModule(\n",
       "            original_name=MultiHeadSelfAttention\n",
       "            (dropout): RecursiveScriptModule(original_name=Dropout)\n",
       "            (q_lin): RecursiveScriptModule(original_name=Linear)\n",
       "            (k_lin): RecursiveScriptModule(original_name=Linear)\n",
       "            (v_lin): RecursiveScriptModule(original_name=Linear)\n",
       "            (out_lin): RecursiveScriptModule(original_name=Linear)\n",
       "          )\n",
       "          (sa_layer_norm): RecursiveScriptModule(original_name=LayerNorm)\n",
       "          (ffn): RecursiveScriptModule(\n",
       "            original_name=FFN\n",
       "            (dropout): RecursiveScriptModule(original_name=Dropout)\n",
       "            (lin1): RecursiveScriptModule(original_name=Linear)\n",
       "            (lin2): RecursiveScriptModule(original_name=Linear)\n",
       "          )\n",
       "          (output_layer_norm): RecursiveScriptModule(original_name=LayerNorm)\n",
       "        )\n",
       "        (5): RecursiveScriptModule(\n",
       "          original_name=TransformerBlock\n",
       "          (attention): RecursiveScriptModule(\n",
       "            original_name=MultiHeadSelfAttention\n",
       "            (dropout): RecursiveScriptModule(original_name=Dropout)\n",
       "            (q_lin): RecursiveScriptModule(original_name=Linear)\n",
       "            (k_lin): RecursiveScriptModule(original_name=Linear)\n",
       "            (v_lin): RecursiveScriptModule(original_name=Linear)\n",
       "            (out_lin): RecursiveScriptModule(original_name=Linear)\n",
       "          )\n",
       "          (sa_layer_norm): RecursiveScriptModule(original_name=LayerNorm)\n",
       "          (ffn): RecursiveScriptModule(\n",
       "            original_name=FFN\n",
       "            (dropout): RecursiveScriptModule(original_name=Dropout)\n",
       "            (lin1): RecursiveScriptModule(original_name=Linear)\n",
       "            (lin2): RecursiveScriptModule(original_name=Linear)\n",
       "          )\n",
       "          (output_layer_norm): RecursiveScriptModule(original_name=LayerNorm)\n",
       "        )\n",
       "      )\n",
       "    )\n",
       "  )\n",
       "  (pre_classifier): RecursiveScriptModule(original_name=Linear)\n",
       "  (classifier): RecursiveScriptModule(original_name=Linear)\n",
       "  (dropout): RecursiveScriptModule(original_name=Dropout)\n",
       ")"
      ]
     },
     "execution_count": 71,
     "metadata": {},
     "output_type": "execute_result"
    }
   ],
   "source": [
    "loaded_model = torch.jit.load( f\"{model_dir_trace}/traced_model.pt\")\n",
    "loaded_model.eval()"
   ]
  },
  {
   "cell_type": "code",
   "execution_count": null,
   "id": "authentic-summary",
   "metadata": {},
   "outputs": [],
   "source": []
  },
  {
   "cell_type": "code",
   "execution_count": 72,
   "id": "together-saturn",
   "metadata": {},
   "outputs": [
    {
     "data": {
      "text/plain": [
       "(tensor([[ -7.6677,  -8.9506,  -7.0845,  -5.2786,  -7.1656,  -6.1171,  -9.9482,\n",
       "           -9.1212,  -2.7499,  -7.2937,  -8.6023,  -8.4928,  -5.4319,  -8.9995,\n",
       "           -5.5602,  -1.6690,  -6.5178,  -8.3231,  -7.7803,  -9.7673,  -6.5894,\n",
       "           -8.0236, -10.5098,   0.4534,  -8.5425,  -8.0849,  -3.6514,  -8.6150,\n",
       "           -3.0538,  -7.3485,  -1.2094,  -8.9694, -10.4731,  -6.9120,  -5.5614,\n",
       "           -6.1381,  -8.4838,  -9.5964,  -9.0998,  -4.2063,  -5.1919,  -8.1918,\n",
       "            4.2027,  -7.9540,  -6.4338,  -8.7222,  -7.1057,  -9.4445,  -9.8354,\n",
       "           -2.9263,   0.4510,  -5.4933,  -5.2048,  -6.2273,  -5.9204,  -8.1743,\n",
       "          -10.3333,  -7.3300,  -8.0885,  -5.3360, -11.0123,  -7.2948,  -2.0672,\n",
       "           -8.7549,  -8.7169,  -8.9316,  -4.8772,  -6.4113,  -4.3336, -11.0367,\n",
       "           -7.4192,  -9.4832,  -6.4128,  -3.0107,  -5.8093,  -6.4888,  -7.1651,\n",
       "           -7.2252,  -9.9273,  -9.3188,  -7.8169,  -7.1867,  -7.4152,  -9.8344,\n",
       "           -3.6974,  -6.6184,  -8.4081,  -6.7142,  -9.1387,  -2.6419,  -1.9076,\n",
       "           -6.2831,  -9.3299,  -8.0185,  -8.5933, -11.9963, -11.7179,  -8.1385,\n",
       "          -12.3799, -11.0510,  -5.5329,   5.2269,  -9.9811,  -7.4056, -10.3953,\n",
       "          -10.0786,  -3.6249,  -8.9944,  -6.3132,  -5.4102,  -5.9791,  -7.8561]],\n",
       "        grad_fn=<AddBackward0>),)"
      ]
     },
     "execution_count": 72,
     "metadata": {},
     "output_type": "execute_result"
    }
   ],
   "source": [
    "res = loaded_model(tokens_tensor, segments_tensors)\n",
    "res"
   ]
  },
  {
   "cell_type": "code",
   "execution_count": 115,
   "id": "theoretical-stupid",
   "metadata": {},
   "outputs": [
    {
     "data": {
      "text/plain": [
       "(tensor([[ -7.6677,  -8.9506,  -7.0845,  -5.2786,  -7.1656,  -6.1171,  -9.9482,\n",
       "           -9.1212,  -2.7499,  -7.2937,  -8.6023,  -8.4928,  -5.4319,  -8.9995,\n",
       "           -5.5602,  -1.6690,  -6.5178,  -8.3231,  -7.7803,  -9.7673,  -6.5894,\n",
       "           -8.0236, -10.5098,   0.4534,  -8.5425,  -8.0849,  -3.6514,  -8.6150,\n",
       "           -3.0538,  -7.3485,  -1.2094,  -8.9694, -10.4731,  -6.9120,  -5.5614,\n",
       "           -6.1381,  -8.4838,  -9.5964,  -9.0998,  -4.2063,  -5.1919,  -8.1918,\n",
       "            4.2027,  -7.9540,  -6.4338,  -8.7222,  -7.1057,  -9.4445,  -9.8354,\n",
       "           -2.9263,   0.4510,  -5.4933,  -5.2048,  -6.2273,  -5.9204,  -8.1743,\n",
       "          -10.3333,  -7.3300,  -8.0885,  -5.3360, -11.0123,  -7.2948,  -2.0672,\n",
       "           -8.7549,  -8.7169,  -8.9316,  -4.8772,  -6.4113,  -4.3336, -11.0367,\n",
       "           -7.4192,  -9.4832,  -6.4128,  -3.0107,  -5.8093,  -6.4888,  -7.1651,\n",
       "           -7.2252,  -9.9273,  -9.3188,  -7.8169,  -7.1867,  -7.4152,  -9.8344,\n",
       "           -3.6974,  -6.6184,  -8.4081,  -6.7142,  -9.1387,  -2.6419,  -1.9076,\n",
       "           -6.2831,  -9.3299,  -8.0185,  -8.5933, -11.9963, -11.7179,  -8.1385,\n",
       "          -12.3799, -11.0510,  -5.5329,   5.2269,  -9.9811,  -7.4056, -10.3953,\n",
       "          -10.0786,  -3.6249,  -8.9944,  -6.3132,  -5.4102,  -5.9791,  -7.8561]],\n",
       "        grad_fn=<AddBackward0>),)"
      ]
     },
     "execution_count": 115,
     "metadata": {},
     "output_type": "execute_result"
    }
   ],
   "source": [
    "res"
   ]
  },
  {
   "cell_type": "code",
   "execution_count": 124,
   "id": "adolescent-cincinnati",
   "metadata": {},
   "outputs": [
    {
     "data": {
      "text/plain": [
       "[tensor([[ -7.6677,  -8.9506,  -7.0845,  -5.2786,  -7.1656,  -6.1171,  -9.9482,\n",
       "           -9.1212,  -2.7499,  -7.2937,  -8.6023,  -8.4928,  -5.4319,  -8.9995,\n",
       "           -5.5602,  -1.6690,  -6.5178,  -8.3231,  -7.7803,  -9.7673,  -6.5894,\n",
       "           -8.0236, -10.5098,   0.4534,  -8.5425,  -8.0849,  -3.6514,  -8.6150,\n",
       "           -3.0538,  -7.3485,  -1.2094,  -8.9694, -10.4731,  -6.9120,  -5.5614,\n",
       "           -6.1381,  -8.4838,  -9.5964,  -9.0998,  -4.2063,  -5.1919,  -8.1918,\n",
       "            4.2027,  -7.9540,  -6.4338,  -8.7222,  -7.1057,  -9.4445,  -9.8354,\n",
       "           -2.9263,   0.4510,  -5.4933,  -5.2048,  -6.2273,  -5.9204,  -8.1743,\n",
       "          -10.3333,  -7.3300,  -8.0885,  -5.3360, -11.0123,  -7.2948,  -2.0672,\n",
       "           -8.7549,  -8.7169,  -8.9316,  -4.8772,  -6.4113,  -4.3336, -11.0367,\n",
       "           -7.4192,  -9.4832,  -6.4128,  -3.0107,  -5.8093,  -6.4888,  -7.1651,\n",
       "           -7.2252,  -9.9273,  -9.3188,  -7.8169,  -7.1867,  -7.4152,  -9.8344,\n",
       "           -3.6974,  -6.6184,  -8.4081,  -6.7142,  -9.1387,  -2.6419,  -1.9076,\n",
       "           -6.2831,  -9.3299,  -8.0185,  -8.5933, -11.9963, -11.7179,  -8.1385,\n",
       "          -12.3799, -11.0510,  -5.5329,   5.2269,  -9.9811,  -7.4056, -10.3953,\n",
       "          -10.0786,  -3.6249,  -8.9944,  -6.3132,  -5.4102,  -5.9791,  -7.8561]],\n",
       "        grad_fn=<AddBackward0>)]"
      ]
     },
     "execution_count": 124,
     "metadata": {},
     "output_type": "execute_result"
    }
   ],
   "source": []
  },
  {
   "cell_type": "code",
   "execution_count": 127,
   "id": "normal-today",
   "metadata": {},
   "outputs": [
    {
     "data": {
      "text/plain": [
       "[tensor([[ -7.6677,  -8.9506,  -7.0845,  -5.2786,  -7.1656,  -6.1171,  -9.9482,\n",
       "           -9.1212,  -2.7499,  -7.2937,  -8.6023,  -8.4928,  -5.4319,  -8.9995,\n",
       "           -5.5602,  -1.6690,  -6.5178,  -8.3231,  -7.7803,  -9.7673,  -6.5894,\n",
       "           -8.0236, -10.5098,   0.4534,  -8.5425,  -8.0849,  -3.6514,  -8.6150,\n",
       "           -3.0538,  -7.3485,  -1.2094,  -8.9694, -10.4731,  -6.9120,  -5.5614,\n",
       "           -6.1381,  -8.4838,  -9.5964,  -9.0998,  -4.2063,  -5.1919,  -8.1918,\n",
       "            4.2027,  -7.9540,  -6.4338,  -8.7222,  -7.1057,  -9.4445,  -9.8354,\n",
       "           -2.9263,   0.4510,  -5.4933,  -5.2048,  -6.2273,  -5.9204,  -8.1743,\n",
       "          -10.3333,  -7.3300,  -8.0885,  -5.3360, -11.0123,  -7.2948,  -2.0672,\n",
       "           -8.7549,  -8.7169,  -8.9316,  -4.8772,  -6.4113,  -4.3336, -11.0367,\n",
       "           -7.4192,  -9.4832,  -6.4128,  -3.0107,  -5.8093,  -6.4888,  -7.1651,\n",
       "           -7.2252,  -9.9273,  -9.3188,  -7.8169,  -7.1867,  -7.4152,  -9.8344,\n",
       "           -3.6974,  -6.6184,  -8.4081,  -6.7142,  -9.1387,  -2.6419,  -1.9076,\n",
       "           -6.2831,  -9.3299,  -8.0185,  -8.5933, -11.9963, -11.7179,  -8.1385,\n",
       "          -12.3799, -11.0510,  -5.5329,   5.2269,  -9.9811,  -7.4056, -10.3953,\n",
       "          -10.0786,  -3.6249,  -8.9944,  -6.3132,  -5.4102,  -5.9791,  -7.8561]],\n",
       "        grad_fn=<AddBackward0>)]"
      ]
     },
     "execution_count": 127,
     "metadata": {},
     "output_type": "execute_result"
    }
   ],
   "source": [
    "list(res)"
   ]
  },
  {
   "cell_type": "code",
   "execution_count": 130,
   "id": "suitable-competition",
   "metadata": {},
   "outputs": [
    {
     "data": {
      "text/plain": [
       "torch.Size([1, 1, 112])"
      ]
     },
     "execution_count": 130,
     "metadata": {},
     "output_type": "execute_result"
    }
   ],
   "source": [
    "torch.stack(res).shape"
   ]
  },
  {
   "cell_type": "code",
   "execution_count": null,
   "id": "centered-disabled",
   "metadata": {},
   "outputs": [],
   "source": []
  },
  {
   "cell_type": "code",
   "execution_count": null,
   "id": "mature-hostel",
   "metadata": {},
   "outputs": [],
   "source": []
  },
  {
   "cell_type": "code",
   "execution_count": 74,
   "id": "balanced-balance",
   "metadata": {},
   "outputs": [
    {
     "data": {
      "text/plain": [
       "[('TEA', 0.7232240438461304),\n",
       " ('GROCERY', 0.25969767570495605),\n",
       " ('COFFEE', 0.006111669819802046),\n",
       " ('HERB', 0.0060967495664954185),\n",
       " ('EDIBLE_OIL_VEGETABLE', 0.0011588569032028317),\n",
       " ('BREAD', 0.000731807027477771),\n",
       " ('SKIN_MOISTURIZER', 0.0005764953093603253),\n",
       " ('LEGUME', 0.0004914401797577739),\n",
       " ('SKIN_CLEANING_AGENT', 0.0002766131074167788),\n",
       " ('BEAUTY', 0.00024830058100633323),\n",
       " ('HEALTH_PERSONAL_CARE', 0.00020814224262721837),\n",
       " ('PANTRY', 0.00019130650616716594),\n",
       " ('DRINKING_CUP', 0.00018323035328648984),\n",
       " ('VITAMIN', 0.00010350668162573129),\n",
       " ('DAIRY_BASED_DRINK', 0.00010080193169414997),\n",
       " ('SAUCE', 9.626983955968171e-05),\n",
       " ('FOOD_SERVICE_SUPPLY', 5.7873698096955195e-05),\n",
       " ('NUTRITIONAL_SUPPLEMENT', 5.095693632028997e-05),\n",
       " ('MEDICATION', 2.9587761673610657e-05),\n",
       " ('FURNITURE', 2.1597934392048046e-05),\n",
       " ('HOME_BED_AND_BATH', 2.1322952306945808e-05),\n",
       " ('ACCESSORY_OR_PART_OR_SUPPLY', 1.9804283510893583e-05),\n",
       " ('KITCHEN', 1.8700689906836487e-05),\n",
       " ('WASTE_BAG', 1.7362539438181557e-05),\n",
       " ('BISS', 1.699036693025846e-05),\n",
       " ('HOME', 1.5979081581463106e-05),\n",
       " ('TABLE', 1.535881710879039e-05),\n",
       " ('BRACELET', 1.4943867427064106e-05),\n",
       " ('FINENECKLACEBRACELETANKLET', 1.4926220501365606e-05),\n",
       " ('PET_SUPPLIES', 1.164894456451293e-05),\n",
       " ('HOME_LIGHTING_AND_LAMPS', 1.0424455467727967e-05),\n",
       " ('WIRELESS_ACCESSORY', 9.829960617935285e-06),\n",
       " ('BABY_PRODUCT', 8.563024493923876e-06),\n",
       " ('FINEOTHER', 8.385332876059692e-06),\n",
       " ('HOME_FURNITURE_AND_DECOR', 7.669465958315413e-06),\n",
       " ('SOFA', 7.253510375448968e-06),\n",
       " ('WALL_ART', 7.0380915531131905e-06),\n",
       " ('NECKLACE', 6.380332251865184e-06),\n",
       " ('OUTDOOR_LIVING', 6.371162726281909e-06),\n",
       " ('HARDWARE', 6.238359219423728e-06),\n",
       " ('PILLOW', 5.904715635551838e-06),\n",
       " ('CABINET', 5.735635568271391e-06),\n",
       " ('CLEANING_AGENT', 5.339433755580103e-06),\n",
       " ('SAUTE_FRY_PAN', 5.1871338655473664e-06),\n",
       " ('SHELF', 4.712914687843295e-06),\n",
       " ('FINEEARRING', 3.867077793984208e-06),\n",
       " ('ACCESSORY', 3.2544626265007537e-06),\n",
       " ('HAT', 3.186178673786344e-06),\n",
       " ('PLANTER', 3.002354787895456e-06),\n",
       " ('AUTO_ACCESSORY', 3.0011208309588255e-06),\n",
       " ('RUG', 2.9382390493992716e-06),\n",
       " ('PLUMBING_FIXTURE', 2.827420985340723e-06),\n",
       " ('BED', 2.640225829964038e-06),\n",
       " ('LAMP', 2.637148327266914e-06),\n",
       " ('JANITORIAL_SUPPLY', 2.546015139159863e-06),\n",
       " ('EARRING', 2.4993867100420175e-06),\n",
       " ('TOOLS', 2.3606150989508023e-06),\n",
       " ('SAFETY_SUPPLY', 2.338095782761229e-06),\n",
       " ('OFFICE_PRODUCTS', 2.328669552298379e-06),\n",
       " ('ABIS_DRUGSTORE', 1.8164117818741943e-06),\n",
       " ('CHAIR', 1.6229189441219205e-06),\n",
       " ('RING', 1.564647618579329e-06),\n",
       " ('WRITING_INSTRUMENT', 1.5044601013869396e-06),\n",
       " ('HANDBAG', 1.3641478062709211e-06),\n",
       " ('SPORTING_GOODS', 1.278977038055018e-06),\n",
       " ('CLOCK', 1.2724158295895904e-06),\n",
       " ('COMPUTER_COMPONENT', 1.1968469380008173e-06),\n",
       " ('JAR', 1.192449190057232e-06),\n",
       " ('STORAGE_BOX', 1.134290414483985e-06),\n",
       " ('HOME_MIRROR', 1.0944178256977466e-06),\n",
       " ('FURNITURE_COVER', 1.0754558843473205e-06),\n",
       " ('CELLULAR_PHONE_CASE', 9.431161061002058e-07),\n",
       " ('SCREEN_PROTECTOR', 8.662992172503436e-07),\n",
       " ('FINERING', 8.031282163756259e-07),\n",
       " ('BENCH', 7.958870469337853e-07),\n",
       " ('COMPUTER_ADD_ON', 7.573231073365605e-07),\n",
       " ('STOOL_SEATING', 7.198095772764646e-07),\n",
       " ('BED_FRAME', 7.133904205147701e-07),\n",
       " ('DESK', 7.04390970440727e-07),\n",
       " ('LIGHT_FIXTURE', 6.361348710015591e-07),\n",
       " ('HARDWARE_HANDLE', 6.327501864689111e-07),\n",
       " ('LIGHT_BULB', 6.124070068835863e-07),\n",
       " ('LUGGAGE', 5.132021669851383e-07),\n",
       " ('ABIS_LAWN_AND_GARDEN', 5.035798267272185e-07),\n",
       " ('ELECTRONIC_ADAPTER', 4.941949782732991e-07),\n",
       " ('WALLET', 4.819589207727404e-07),\n",
       " ('BOOT', 4.795299446413992e-07),\n",
       " ('FLAT_SHEET', 4.337450434377388e-07),\n",
       " ('BATTERY', 4.245629554588959e-07),\n",
       " ('SHOES', 4.1721327193045e-07),\n",
       " ('RECREATION_BALL', 3.4843785101656977e-07),\n",
       " ('SPEAKERS', 3.445933032253379e-07),\n",
       " ('HEADBOARD', 3.072992171837541e-07),\n",
       " ('OTTOMAN', 2.956400919629232e-07),\n",
       " ('FLAT_SCREEN_DISPLAY_MOUNT', 2.639733622800122e-07),\n",
       " ('CHARGING_ADAPTER', 2.2251332154610282e-07),\n",
       " ('SANDAL', 2.080679024629717e-07),\n",
       " ('HEADPHONES', 2.078705705343964e-07),\n",
       " ('PORTABLE_ELECTRONIC_DEVICE_COVER', 1.8960813008561672e-07),\n",
       " ('BACKPACK', 1.8568630366644356e-07),\n",
       " ('THERMOPLASTIC_FILAMENT', 1.7968488918995718e-07),\n",
       " ('UMBRELLA', 1.6299554772558622e-07),\n",
       " ('INSTRUMENT_PARTS_AND_ACCESSORIES', 1.263443039078993e-07),\n",
       " ('TOWEL_HOLDER', 1.1875187766463569e-07),\n",
       " ('FILE_FOLDER', 1.0986031639959037e-07),\n",
       " ('CLOTHES_HANGER', 1.0590485288730633e-07),\n",
       " ('LABEL', 6.406947505865901e-08),\n",
       " ('OFFICE_ELECTRONICS', 6.252565043496361e-08),\n",
       " ('SUITCASE', 6.164063393043762e-08),\n",
       " ('STORAGE_BINDER', 3.164067763350431e-08),\n",
       " ('STORAGE_BAG', 2.395128895216203e-08),\n",
       " ('STORAGE_HOOK', 1.6320747420195403e-08)]"
      ]
     },
     "execution_count": 74,
     "metadata": {},
     "output_type": "execute_result"
    }
   ],
   "source": [
    "predictions = list ( zip (labels , torch.softmax(res[0], dim=1).tolist()[0] ) )\n",
    "predictions = sorted (predictions , key=lambda x:x[1] , reverse =True)\n",
    "predictions"
   ]
  },
  {
   "cell_type": "code",
   "execution_count": null,
   "id": "average-armor",
   "metadata": {},
   "outputs": [],
   "source": []
  },
  {
   "cell_type": "code",
   "execution_count": null,
   "id": "stretch-bennett",
   "metadata": {},
   "outputs": [],
   "source": []
  },
  {
   "cell_type": "code",
   "execution_count": 107,
   "id": "integral-aspect",
   "metadata": {},
   "outputs": [],
   "source": [
    "with open(f'{model_dir}index_to_name.json','w') as f:\n",
    "    json.dump(id2label_str,f)"
   ]
  },
  {
   "cell_type": "code",
   "execution_count": 108,
   "id": "elect-country",
   "metadata": {},
   "outputs": [],
   "source": [
    "with open(f'{model_dir_trace}index_to_name.json','w') as f:\n",
    "    json.dump(id2label_str,f)"
   ]
  },
  {
   "cell_type": "code",
   "execution_count": 42,
   "id": "basic-composition",
   "metadata": {},
   "outputs": [
    {
     "data": {
      "text/plain": [
       "112"
      ]
     },
     "execution_count": 42,
     "metadata": {},
     "output_type": "execute_result"
    }
   ],
   "source": []
  },
  {
   "cell_type": "code",
   "execution_count": 51,
   "id": "statutory-conference",
   "metadata": {},
   "outputs": [
    {
     "data": {
      "text/plain": [
       "512"
      ]
     },
     "execution_count": 51,
     "metadata": {},
     "output_type": "execute_result"
    }
   ],
   "source": [
    "tokenizer.model_max_length"
   ]
  },
  {
   "cell_type": "code",
   "execution_count": 52,
   "id": "appreciated-accent",
   "metadata": {},
   "outputs": [
    {
     "data": {
      "text/plain": [
       "510"
      ]
     },
     "execution_count": 52,
     "metadata": {},
     "output_type": "execute_result"
    }
   ],
   "source": [
    "tokenizer.max_len_single_sentence"
   ]
  },
  {
   "cell_type": "code",
   "execution_count": 83,
   "id": "together-acrobat",
   "metadata": {},
   "outputs": [
    {
     "data": {
      "text/plain": [
       "('../artifacts/model/amazon_trace/tokenizer_config.json',\n",
       " '../artifacts/model/amazon_trace/special_tokens_map.json',\n",
       " '../artifacts/model/amazon_trace/vocab.txt',\n",
       " '../artifacts/model/amazon_trace/added_tokens.json',\n",
       " '../artifacts/model/amazon_trace/tokenizer.json')"
      ]
     },
     "execution_count": 83,
     "metadata": {},
     "output_type": "execute_result"
    }
   ],
   "source": [
    "tokenizer.save_pretrained(model_dir_trace)"
   ]
  },
  {
   "cell_type": "code",
   "execution_count": 109,
   "id": "involved-spencer",
   "metadata": {},
   "outputs": [
    {
     "data": {
      "text/plain": [
       "{'model_name': 'pt-original',\n",
       " 'do_lower_case': True,\n",
       " 'num_labels': 112,\n",
       " 'save_mode': 'original',\n",
       " 'max_length': 512,\n",
       " 'captum_explanation': True,\n",
       " 'embedding_name': 'bert',\n",
       " 'FasterTransformer': False,\n",
       " 'top_k': 5}"
      ]
     },
     "execution_count": 109,
     "metadata": {},
     "output_type": "execute_result"
    }
   ],
   "source": [
    "setup_config = {\n",
    " \"model_name\":\"pt-original\",\n",
    " \"do_lower_case\": tokenizer.do_lower_case,\n",
    " \"num_labels\":len(id2label),\n",
    " \"save_mode\":\"original\",\n",
    " \"max_length\":tokenizer.model_max_length,\n",
    " \"captum_explanation\": True,\n",
    " \"embedding_name\": \"bert\",\n",
    " \"FasterTransformer\":False,\n",
    " \"top_k\": 5   \n",
    "\n",
    "}\n",
    "\n",
    "setup_config\n",
    "\n"
   ]
  },
  {
   "cell_type": "code",
   "execution_count": 110,
   "id": "violent-failing",
   "metadata": {},
   "outputs": [],
   "source": [
    "with open(f'{model_dir}setup_config.json','w') as f:\n",
    "    json.dump(setup_config,f)"
   ]
  },
  {
   "cell_type": "code",
   "execution_count": 111,
   "id": "smart-integration",
   "metadata": {},
   "outputs": [
    {
     "data": {
      "text/plain": [
       "{'model_name': 'pt-jit',\n",
       " 'do_lower_case': True,\n",
       " 'num_labels': 112,\n",
       " 'save_mode': 'jit',\n",
       " 'max_length': 512,\n",
       " 'captum_explanation': False,\n",
       " 'embedding_name': 'bert',\n",
       " 'FasterTransformer': False,\n",
       " 'top_k': 5}"
      ]
     },
     "execution_count": 111,
     "metadata": {},
     "output_type": "execute_result"
    }
   ],
   "source": [
    "setup_config_trace = {**setup_config}\n",
    "setup_config_trace['model_name'] = \"pt-jit\"\n",
    "setup_config_trace['captum_explanation'] = False\n",
    "setup_config_trace['save_mode'] = 'jit'\n",
    "setup_config_trace"
   ]
  },
  {
   "cell_type": "code",
   "execution_count": 112,
   "id": "limiting-privilege",
   "metadata": {},
   "outputs": [],
   "source": [
    "with open(f'{model_dir_trace}setup_config.json','w') as f:\n",
    "    json.dump(setup_config_trace,f)"
   ]
  },
  {
   "cell_type": "code",
   "execution_count": null,
   "id": "uniform-catalyst",
   "metadata": {},
   "outputs": [],
   "source": []
  }
 ],
 "metadata": {
  "environment": {
   "name": "rapids-gpu.0-18.m65",
   "type": "gcloud",
   "uri": "gcr.io/deeplearning-platform-release/rapids-gpu.0-18:m65"
  },
  "kernelspec": {
   "display_name": "Python [conda env:pytorch]",
   "language": "python",
   "name": "conda-env-pytorch-py"
  },
  "language_info": {
   "codemirror_mode": {
    "name": "ipython",
    "version": 3
   },
   "file_extension": ".py",
   "mimetype": "text/x-python",
   "name": "python",
   "nbconvert_exporter": "python",
   "pygments_lexer": "ipython3",
   "version": "3.7.10"
  }
 },
 "nbformat": 4,
 "nbformat_minor": 5
}
