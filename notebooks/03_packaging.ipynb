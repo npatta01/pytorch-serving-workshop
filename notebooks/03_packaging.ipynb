{
 "cells": [
  {
   "cell_type": "markdown",
   "id": "disturbed-division",
   "metadata": {},
   "source": [
    "# Packaging Model"
   ]
  },
  {
   "cell_type": "markdown",
   "id": "aggressive-pasta",
   "metadata": {},
   "source": [
    "## About\n",
    "\n",
    "- Package the given model using Torch Model Archive\n",
    "- Write a custom handler to support pre processing and post processing"
   ]
  },
  {
   "cell_type": "markdown",
   "id": "appointed-funeral",
   "metadata": {},
   "source": [
    "## Working directory"
   ]
  },
  {
   "cell_type": "markdown",
   "id": "respective-tourist",
   "metadata": {},
   "source": [
    "orignal model and the traced model we saved from before"
   ]
  },
  {
   "cell_type": "code",
   "execution_count": 1,
   "id": "turkish-finland",
   "metadata": {},
   "outputs": [
    {
     "name": "stdout",
     "output_type": "stream",
     "text": [
      "amazon\r\n"
     ]
    }
   ],
   "source": [
    "!ls ../artifacts/model/"
   ]
  },
  {
   "cell_type": "markdown",
   "id": "specific-usage",
   "metadata": {},
   "source": [
    "directory contains tokenizer/ vocab / pytorch model"
   ]
  },
  {
   "cell_type": "code",
   "execution_count": 2,
   "id": "extreme-spirit",
   "metadata": {},
   "outputs": [
    {
     "name": "stdout",
     "output_type": "stream",
     "text": [
      "config.json\t    setup_config.json\t     tokenizer_config.json\r\n",
      "index_to_name.json  special_tokens_map.json  training_args.bin\r\n",
      "pytorch_model.bin   tokenizer.json\t     vocab.txt\r\n"
     ]
    }
   ],
   "source": [
    "!ls ../artifacts/model/amazon"
   ]
  },
  {
   "cell_type": "code",
   "execution_count": 3,
   "id": "sporting-philip",
   "metadata": {},
   "outputs": [
    {
     "name": "stdout",
     "output_type": "stream",
     "text": [
      "ls: cannot access '../artifacts/model/amazon_trace': No such file or directory\r\n"
     ]
    }
   ],
   "source": [
    "!ls ../artifacts/model/amazon_trace"
   ]
  },
  {
   "cell_type": "code",
   "execution_count": null,
   "id": "electronic-liver",
   "metadata": {},
   "outputs": [],
   "source": []
  },
  {
   "cell_type": "markdown",
   "id": "instructional-electric",
   "metadata": {},
   "source": [
    "## Torch Model Archiver\n",
    "\n",
    "TorchServe required the model and its dependant artifacts to be packaged in a single file. \n",
    "\n",
    "[torch-model-archiver](https://pypi.org/project/torch-model-archiver/) is a python package that can package the artifacts to a mar file"
   ]
  },
  {
   "cell_type": "code",
   "execution_count": null,
   "id": "outdoor-agenda",
   "metadata": {},
   "outputs": [],
   "source": [
    "%%bash \n",
    "\n",
    "torch-model-archiver --help"
   ]
  },
  {
   "cell_type": "code",
   "execution_count": null,
   "id": "better-nicholas",
   "metadata": {},
   "outputs": [],
   "source": []
  },
  {
   "cell_type": "markdown",
   "id": "insured-paradise",
   "metadata": {},
   "source": [
    "package the model artifact and actual handler code"
   ]
  },
  {
   "cell_type": "code",
   "execution_count": null,
   "id": "searching-testing",
   "metadata": {
    "scrolled": true
   },
   "outputs": [],
   "source": [
    "%%bash\n",
    "\n",
    "cd ..\n",
    "pwd\n",
    "\n",
    "ARTIFACT_BASE_DIR=\"artifacts/model/amazon_trace\"\n",
    "\n",
    "MODEL_NAME=\"pt_classifier\"\n",
    "MODEL_VERSION=\"1.0\"\n",
    "MODEL_STORE=\"${ARTIFACT_BASE_DIR}/model_store\"\n",
    "MODEL_SERIALIZED_FILE=\"${ARTIFACT_BASE_DIR}/traced_model.pt\"\n",
    "\n",
    "TOKENIZER_FILES=\"${ARTIFACT_BASE_DIR}/tokenizer_config.json,${ARTIFACT_BASE_DIR}/special_tokens_map.json,${ARTIFACT_BASE_DIR}/vocab.txt,${ARTIFACT_BASE_DIR}/tokenizer.json\"\n",
    "MODEL_EXTRA_FILES=\"${ARTIFACT_BASE_DIR}/index_to_name.json,${ARTIFACT_BASE_DIR}/setup_config.json,${TOKENIZER_FILES}\"\n",
    "\n",
    "\n",
    "\n",
    "\n",
    "mkdir -p $MODEL_STORE\n",
    "\n",
    "torch-model-archiver --model-name ${MODEL_NAME} \\\n",
    "--version ${MODEL_VERSION} \\\n",
    "--serialized-file ${MODEL_SERIALIZED_FILE} \\\n",
    "--export-path ${MODEL_STORE} \\\n",
    "--extra-files ${MODEL_EXTRA_FILES} \\\n",
    "--handler ./serving/handler.py \\\n",
    "--force\n",
    "\n"
   ]
  },
  {
   "cell_type": "code",
   "execution_count": null,
   "id": "honest-applicant",
   "metadata": {},
   "outputs": [],
   "source": [
    "!cat ../serving/handler.py"
   ]
  },
  {
   "cell_type": "code",
   "execution_count": null,
   "id": "foster-concept",
   "metadata": {},
   "outputs": [],
   "source": []
  },
  {
   "cell_type": "markdown",
   "id": "confused-discretion",
   "metadata": {},
   "source": [
    "if you would live to serve through Docker, lets copy the `model_store` artifact relative to the DockerFile folder"
   ]
  },
  {
   "cell_type": "code",
   "execution_count": null,
   "id": "intensive-contest",
   "metadata": {},
   "outputs": [],
   "source": [
    "%%bash\n",
    "cd .. \n",
    "cp artifacts/model/amazon_trace/model_store/* serving/model_store\n",
    "cp artifacts/model/amazon_trace/setup_config.json serving/model_store/"
   ]
  },
  {
   "cell_type": "code",
   "execution_count": null,
   "id": "interesting-hollow",
   "metadata": {},
   "outputs": [],
   "source": []
  },
  {
   "cell_type": "code",
   "execution_count": null,
   "id": "ideal-specialist",
   "metadata": {},
   "outputs": [],
   "source": []
  },
  {
   "cell_type": "code",
   "execution_count": null,
   "id": "creative-ballot",
   "metadata": {},
   "outputs": [],
   "source": []
  },
  {
   "cell_type": "markdown",
   "id": "funky-summer",
   "metadata": {},
   "source": [
    "## Torchserve\n",
    "\n",
    "> TorchServe is a performant, flexible and easy to use tool for serving PyTorch eager mode and torschripted models.\n",
    "\n",
    "Ref: [TorchServe Docs](https://pytorch.org/serve/)"
   ]
  },
  {
   "cell_type": "markdown",
   "id": "indie-tokyo",
   "metadata": {},
   "source": [
    "below command starts torchserve"
   ]
  },
  {
   "cell_type": "code",
   "execution_count": null,
   "id": "pretty-graphic",
   "metadata": {},
   "outputs": [],
   "source": [
    "%%bash\n",
    "cd ..\n",
    "torchserve --ts-config ./serving/config.properties \\\n",
    "--start --model-store ./serving/model_store --ncs\n",
    "\n"
   ]
  },
  {
   "cell_type": "code",
   "execution_count": null,
   "id": "forbidden-marriage",
   "metadata": {},
   "outputs": [],
   "source": [
    "!cat ../serving/config.properties "
   ]
  },
  {
   "cell_type": "markdown",
   "id": "hazardous-slovak",
   "metadata": {},
   "source": [
    "below command stops torchserve"
   ]
  },
  {
   "cell_type": "code",
   "execution_count": null,
   "id": "sixth-gardening",
   "metadata": {},
   "outputs": [],
   "source": [
    "#torchserve --stop"
   ]
  },
  {
   "cell_type": "code",
   "execution_count": null,
   "id": "floating-currency",
   "metadata": {},
   "outputs": [],
   "source": []
  },
  {
   "cell_type": "markdown",
   "id": "revolutionary-premises",
   "metadata": {},
   "source": [
    "List all the models loaded"
   ]
  },
  {
   "cell_type": "code",
   "execution_count": null,
   "id": "false-council",
   "metadata": {},
   "outputs": [],
   "source": [
    "!curl \"http://localhost:9081/models\""
   ]
  },
  {
   "cell_type": "code",
   "execution_count": null,
   "id": "proprietary-disposition",
   "metadata": {},
   "outputs": [],
   "source": []
  },
  {
   "cell_type": "markdown",
   "id": "automated-division",
   "metadata": {},
   "source": [
    "get details on the model `pt_classifier`"
   ]
  },
  {
   "cell_type": "code",
   "execution_count": null,
   "id": "fancy-rings",
   "metadata": {},
   "outputs": [],
   "source": [
    "!curl http://localhost:9081/models/pt_classifier"
   ]
  },
  {
   "cell_type": "code",
   "execution_count": null,
   "id": "fancy-judges",
   "metadata": {},
   "outputs": [],
   "source": []
  },
  {
   "cell_type": "markdown",
   "id": "premier-scheme",
   "metadata": {},
   "source": [
    "sample prediction"
   ]
  },
  {
   "cell_type": "code",
   "execution_count": null,
   "id": "norman-trader",
   "metadata": {},
   "outputs": [],
   "source": [
    "! curl -X POST http://localhost:9080/predictions/pt_classifier \\\n",
    "        -H 'Content-Type: application/json' \\\n",
    "        -d '{\"text\":\"herbal tea\",\"request_id\":\"test_id\"}'"
   ]
  },
  {
   "cell_type": "code",
   "execution_count": null,
   "id": "finished-merchant",
   "metadata": {},
   "outputs": [],
   "source": [
    "sample prediction from a file"
   ]
  },
  {
   "cell_type": "code",
   "execution_count": null,
   "id": "solid-internship",
   "metadata": {},
   "outputs": [],
   "source": [
    "%%bash\n",
    "cd ..\n",
    "curl -X POST http://localhost:9080/predictions/pt_classifier \\\n",
    "        -H 'Content-Type: application/json' \\\n",
    "        -d @serving/sample_input.json"
   ]
  },
  {
   "cell_type": "code",
   "execution_count": null,
   "id": "african-donna",
   "metadata": {},
   "outputs": [],
   "source": []
  },
  {
   "cell_type": "code",
   "execution_count": null,
   "id": "sitting-attack",
   "metadata": {},
   "outputs": [],
   "source": []
  },
  {
   "cell_type": "code",
   "execution_count": null,
   "id": "positive-geography",
   "metadata": {},
   "outputs": [],
   "source": []
  },
  {
   "cell_type": "code",
   "execution_count": null,
   "id": "smart-tennis",
   "metadata": {},
   "outputs": [],
   "source": []
  },
  {
   "cell_type": "code",
   "execution_count": null,
   "id": "deluxe-nebraska",
   "metadata": {},
   "outputs": [],
   "source": []
  }
 ],
 "metadata": {
  "environment": {
   "name": "rapids-gpu.0-18.m65",
   "type": "gcloud",
   "uri": "gcr.io/deeplearning-platform-release/rapids-gpu.0-18:m65"
  },
  "kernelspec": {
   "display_name": "Python [conda env:pytorch]",
   "language": "python",
   "name": "conda-env-pytorch-py"
  },
  "language_info": {
   "codemirror_mode": {
    "name": "ipython",
    "version": 3
   },
   "file_extension": ".py",
   "mimetype": "text/x-python",
   "name": "python",
   "nbconvert_exporter": "python",
   "pygments_lexer": "ipython3",
   "version": "3.7.10"
  }
 },
 "nbformat": 4,
 "nbformat_minor": 5
}
