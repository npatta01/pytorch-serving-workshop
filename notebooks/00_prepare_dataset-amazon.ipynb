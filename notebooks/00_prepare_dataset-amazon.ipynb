{
 "cells": [
  {
   "cell_type": "code",
   "execution_count": 1,
   "id": "referenced-replacement",
   "metadata": {},
   "outputs": [
    {
     "name": "stdout",
     "output_type": "stream",
     "text": [
      "--2021-10-12 19:00:48--  http://deepyeti.ucsd.edu/jianmo/amazon/metaFiles/All_Amazon_Meta.json.gz\n",
      "Resolving deepyeti.ucsd.edu (deepyeti.ucsd.edu)... 169.228.63.50\n",
      "Connecting to deepyeti.ucsd.edu (deepyeti.ucsd.edu)|169.228.63.50|:80... connected.\n",
      "HTTP request sent, awaiting response... 200 OK\n",
      "Length: 12327618560 (11G) [application/octet-stream]\n",
      "Saving to: ‘All_Amazon_Meta.json.gz’\n",
      "\n",
      "All_Amazon_Meta.jso   0%[                    ]   2.53M  86.0KB/s    eta 27h 38m^C\n"
     ]
    }
   ],
   "source": [
    "#!wget http://deepyeti.ucsd.edu/jianmo/amazon/metaFiles/All_Amazon_Meta.json.gz\n",
    "#!wget https://amazon-berkeley-objects.s3.amazonaws.com/archives/abo-listings.tar"
   ]
  },
  {
   "cell_type": "code",
   "execution_count": null,
   "id": "unknown-intermediate",
   "metadata": {},
   "outputs": [],
   "source": []
  },
  {
   "cell_type": "code",
   "execution_count": null,
   "id": "twenty-center",
   "metadata": {},
   "outputs": [],
   "source": []
  },
  {
   "cell_type": "code",
   "execution_count": null,
   "id": "distributed-snake",
   "metadata": {},
   "outputs": [],
   "source": []
  },
  {
   "cell_type": "code",
   "execution_count": 15,
   "id": "through-neighbor",
   "metadata": {},
   "outputs": [],
   "source": [
    "import pathlib\n",
    "import sklearn\n",
    "import datasets\n",
    "import pandas as pd\n",
    "import sklearn.preprocessing\n",
    "import sklearn.model_selection\n",
    "import glob\n",
    "import functools"
   ]
  },
  {
   "cell_type": "code",
   "execution_count": 2,
   "id": "first-ghost",
   "metadata": {},
   "outputs": [
    {
     "name": "stdout",
     "output_type": "stream",
     "text": [
      "/home/jupyter/tutorials/personal/pydata_bert/notebooks\r\n"
     ]
    }
   ],
   "source": [
    "!pwd"
   ]
  },
  {
   "cell_type": "code",
   "execution_count": 3,
   "id": "mexican-syracuse",
   "metadata": {},
   "outputs": [
    {
     "name": "stdout",
     "output_type": "stream",
     "text": [
      "dataset_processed  dataset_raw\tmodel\r\n"
     ]
    }
   ],
   "source": [
    "!ls ../artifacts"
   ]
  },
  {
   "cell_type": "code",
   "execution_count": 4,
   "id": "political-bundle",
   "metadata": {},
   "outputs": [
    {
     "name": "stdout",
     "output_type": "stream",
     "text": [
      "amazon\timdb\r\n"
     ]
    }
   ],
   "source": [
    "!ls ../artifacts/dataset_raw/"
   ]
  },
  {
   "cell_type": "code",
   "execution_count": 5,
   "id": "executed-scientist",
   "metadata": {},
   "outputs": [
    {
     "name": "stdout",
     "output_type": "stream",
     "text": [
      "LICENSE-CC-BY-NC-4.0.txt  README.md  abo-listings.tar  listings\r\n"
     ]
    }
   ],
   "source": [
    "!ls ../artifacts/dataset_raw/amazon"
   ]
  },
  {
   "cell_type": "code",
   "execution_count": 7,
   "id": "technological-jerusalem",
   "metadata": {},
   "outputs": [
    {
     "name": "stdout",
     "output_type": "stream",
     "text": [
      "listings_0.json.gz  listings_4.json.gz\tlistings_8.json.gz  listings_c.json.gz\r\n",
      "listings_1.json.gz  listings_5.json.gz\tlistings_9.json.gz  listings_d.json.gz\r\n",
      "listings_2.json.gz  listings_6.json.gz\tlistings_a.json.gz  listings_e.json.gz\r\n",
      "listings_3.json.gz  listings_7.json.gz\tlistings_b.json.gz  listings_f.json.gz\r\n"
     ]
    }
   ],
   "source": [
    "!ls ../artifacts/dataset_raw/amazon/listings/metadata"
   ]
  },
  {
   "cell_type": "code",
   "execution_count": 8,
   "id": "vertical-bottle",
   "metadata": {},
   "outputs": [],
   "source": [
    "dataset_path_raw = \"../artifacts/dataset_raw/amazon/listings/metadata\""
   ]
  },
  {
   "cell_type": "code",
   "execution_count": 10,
   "id": "complex-rating",
   "metadata": {},
   "outputs": [
    {
     "data": {
      "text/plain": [
       "['../artifacts/dataset_raw/amazon/listings/metadata/listings_2.json.gz',\n",
       " '../artifacts/dataset_raw/amazon/listings/metadata/listings_9.json.gz',\n",
       " '../artifacts/dataset_raw/amazon/listings/metadata/listings_0.json.gz',\n",
       " '../artifacts/dataset_raw/amazon/listings/metadata/listings_1.json.gz',\n",
       " '../artifacts/dataset_raw/amazon/listings/metadata/listings_a.json.gz',\n",
       " '../artifacts/dataset_raw/amazon/listings/metadata/listings_7.json.gz',\n",
       " '../artifacts/dataset_raw/amazon/listings/metadata/listings_5.json.gz',\n",
       " '../artifacts/dataset_raw/amazon/listings/metadata/listings_6.json.gz',\n",
       " '../artifacts/dataset_raw/amazon/listings/metadata/listings_f.json.gz',\n",
       " '../artifacts/dataset_raw/amazon/listings/metadata/listings_3.json.gz',\n",
       " '../artifacts/dataset_raw/amazon/listings/metadata/listings_b.json.gz',\n",
       " '../artifacts/dataset_raw/amazon/listings/metadata/listings_c.json.gz',\n",
       " '../artifacts/dataset_raw/amazon/listings/metadata/listings_4.json.gz',\n",
       " '../artifacts/dataset_raw/amazon/listings/metadata/listings_e.json.gz',\n",
       " '../artifacts/dataset_raw/amazon/listings/metadata/listings_8.json.gz',\n",
       " '../artifacts/dataset_raw/amazon/listings/metadata/listings_d.json.gz']"
      ]
     },
     "execution_count": 10,
     "metadata": {},
     "output_type": "execute_result"
    }
   ],
   "source": [
    "glob.glob(f'{dataset_path_raw}/*.json.gz')"
   ]
  },
  {
   "cell_type": "code",
   "execution_count": 20,
   "id": "immune-christian",
   "metadata": {},
   "outputs": [],
   "source": [
    "df = pd.read_json ('../artifacts/dataset_raw/amazon/listings/metadata/listings_b.json.gz',lines=True)"
   ]
  },
  {
   "cell_type": "code",
   "execution_count": 21,
   "id": "military-baker",
   "metadata": {},
   "outputs": [
    {
     "data": {
      "text/plain": [
       "9232"
      ]
     },
     "execution_count": 21,
     "metadata": {},
     "output_type": "execute_result"
    }
   ],
   "source": [
    "len(df)"
   ]
  },
  {
   "cell_type": "code",
   "execution_count": 23,
   "id": "instructional-suite",
   "metadata": {},
   "outputs": [],
   "source": [
    "df_raw = pd.concat(map(functools.partial(pd.read_json, lines=True ), \n",
    "                    glob.glob(f'{dataset_path_raw}/*.json.gz') )) \n",
    "\n"
   ]
  },
  {
   "cell_type": "code",
   "execution_count": 24,
   "id": "designed-covering",
   "metadata": {},
   "outputs": [
    {
     "data": {
      "text/html": [
       "<div>\n",
       "<style scoped>\n",
       "    .dataframe tbody tr th:only-of-type {\n",
       "        vertical-align: middle;\n",
       "    }\n",
       "\n",
       "    .dataframe tbody tr th {\n",
       "        vertical-align: top;\n",
       "    }\n",
       "\n",
       "    .dataframe thead th {\n",
       "        text-align: right;\n",
       "    }\n",
       "</style>\n",
       "<table border=\"1\" class=\"dataframe\">\n",
       "  <thead>\n",
       "    <tr style=\"text-align: right;\">\n",
       "      <th></th>\n",
       "      <th>brand</th>\n",
       "      <th>bullet_point</th>\n",
       "      <th>color</th>\n",
       "      <th>fabric_type</th>\n",
       "      <th>item_id</th>\n",
       "      <th>item_name</th>\n",
       "      <th>model_name</th>\n",
       "      <th>model_number</th>\n",
       "      <th>product_type</th>\n",
       "      <th>style</th>\n",
       "      <th>...</th>\n",
       "      <th>item_keywords</th>\n",
       "      <th>material</th>\n",
       "      <th>spin_id</th>\n",
       "      <th>3dmodel_id</th>\n",
       "      <th>color_code</th>\n",
       "      <th>model_year</th>\n",
       "      <th>pattern</th>\n",
       "      <th>product_description</th>\n",
       "      <th>finish_type</th>\n",
       "      <th>item_shape</th>\n",
       "    </tr>\n",
       "  </thead>\n",
       "  <tbody>\n",
       "    <tr>\n",
       "      <th>0</th>\n",
       "      <td>[{'language_tag': 'de_DE', 'value': 'Amazon Es...</td>\n",
       "      <td>[{'language_tag': 'de_DE', 'value': 'Fällt gro...</td>\n",
       "      <td>[{'language_tag': 'de_DE', 'value': 'Mehrfarbi...</td>\n",
       "      <td>[{'language_tag': 'en_GB', 'value': '100% Cott...</td>\n",
       "      <td>B07HL25ZQM</td>\n",
       "      <td>[{'language_tag': 'en_GB', 'value': 'Amazon Es...</td>\n",
       "      <td>[{'language_tag': 'en_GB', 'value': '6-Pack Bi...</td>\n",
       "      <td>[{'value': 'P_AE3131_M6'}]</td>\n",
       "      <td>[{'value': 'BABY_PRODUCT'}]</td>\n",
       "      <td>[{'language_tag': 'de_DE', 'value': '6-Pack Bi...</td>\n",
       "      <td>...</td>\n",
       "      <td>NaN</td>\n",
       "      <td>NaN</td>\n",
       "      <td>NaN</td>\n",
       "      <td>NaN</td>\n",
       "      <td>NaN</td>\n",
       "      <td>NaN</td>\n",
       "      <td>NaN</td>\n",
       "      <td>NaN</td>\n",
       "      <td>NaN</td>\n",
       "      <td>NaN</td>\n",
       "    </tr>\n",
       "    <tr>\n",
       "      <th>1</th>\n",
       "      <td>[{'language_tag': 'en_GB', 'value': 'AmazonBas...</td>\n",
       "      <td>[{'language_tag': 'en_GB', 'value': 'Large dry...</td>\n",
       "      <td>NaN</td>\n",
       "      <td>NaN</td>\n",
       "      <td>B0825D4F6R</td>\n",
       "      <td>[{'language_tag': 'en_GB', 'value': 'AmazonBas...</td>\n",
       "      <td>NaN</td>\n",
       "      <td>[{'value': 'AMAZ2001'}]</td>\n",
       "      <td>[{'value': 'HOME'}]</td>\n",
       "      <td>[{'language_tag': 'en_GB', 'value': 'Deluxe'}]</td>\n",
       "      <td>...</td>\n",
       "      <td>[{'language_tag': 'en_GB', 'value': 'tower lau...</td>\n",
       "      <td>NaN</td>\n",
       "      <td>NaN</td>\n",
       "      <td>NaN</td>\n",
       "      <td>NaN</td>\n",
       "      <td>NaN</td>\n",
       "      <td>NaN</td>\n",
       "      <td>NaN</td>\n",
       "      <td>NaN</td>\n",
       "      <td>NaN</td>\n",
       "    </tr>\n",
       "    <tr>\n",
       "      <th>2</th>\n",
       "      <td>[{'language_tag': 'en_IN', 'value': 'Amazon Br...</td>\n",
       "      <td>[{'language_tag': 'en_IN', 'value': '3D Printe...</td>\n",
       "      <td>[{'language_tag': 'en_IN', 'standardized_value...</td>\n",
       "      <td>NaN</td>\n",
       "      <td>B07TF1FCFD</td>\n",
       "      <td>[{'language_tag': 'en_IN', 'value': 'Amazon Br...</td>\n",
       "      <td>[{'language_tag': 'en_IN', 'value': 'Samsung G...</td>\n",
       "      <td>[{'value': 'gz8587-SL40668'}]</td>\n",
       "      <td>[{'value': 'CELLULAR_PHONE_CASE'}]</td>\n",
       "      <td>NaN</td>\n",
       "      <td>...</td>\n",
       "      <td>[{'language_tag': 'en_IN', 'value': 'mobile co...</td>\n",
       "      <td>NaN</td>\n",
       "      <td>NaN</td>\n",
       "      <td>NaN</td>\n",
       "      <td>NaN</td>\n",
       "      <td>NaN</td>\n",
       "      <td>NaN</td>\n",
       "      <td>NaN</td>\n",
       "      <td>NaN</td>\n",
       "      <td>NaN</td>\n",
       "    </tr>\n",
       "    <tr>\n",
       "      <th>3</th>\n",
       "      <td>[{'language_tag': 'en_IN', 'value': 'Amazon Br...</td>\n",
       "      <td>[{'language_tag': 'en_IN', 'value': 'Snug fit ...</td>\n",
       "      <td>[{'language_tag': 'en_IN', 'standardized_value...</td>\n",
       "      <td>NaN</td>\n",
       "      <td>B08569SRJD</td>\n",
       "      <td>[{'language_tag': 'en_IN', 'value': 'Amazon Br...</td>\n",
       "      <td>[{'language_tag': 'en_IN', 'value': 'Nokia 7.2'}]</td>\n",
       "      <td>[{'value': 'UV10845-SL40357'}]</td>\n",
       "      <td>[{'value': 'CELLULAR_PHONE_CASE'}]</td>\n",
       "      <td>NaN</td>\n",
       "      <td>...</td>\n",
       "      <td>[{'language_tag': 'en_IN', 'value': 'Back Cove...</td>\n",
       "      <td>[{'language_tag': 'en_IN', 'value': 'Silicon'}]</td>\n",
       "      <td>NaN</td>\n",
       "      <td>NaN</td>\n",
       "      <td>NaN</td>\n",
       "      <td>NaN</td>\n",
       "      <td>NaN</td>\n",
       "      <td>NaN</td>\n",
       "      <td>NaN</td>\n",
       "      <td>NaN</td>\n",
       "    </tr>\n",
       "    <tr>\n",
       "      <th>4</th>\n",
       "      <td>[{'language_tag': 'en_US', 'value': 'Stone &amp; B...</td>\n",
       "      <td>[{'language_tag': 'en_US', 'value': 'With mode...</td>\n",
       "      <td>[{'language_tag': 'en_US', 'value': 'Dark Grey'}]</td>\n",
       "      <td>NaN</td>\n",
       "      <td>B07B4G5RBN</td>\n",
       "      <td>[{'language_tag': 'zh_CN', 'value': 'Stone &amp; B...</td>\n",
       "      <td>NaN</td>\n",
       "      <td>[{'value': 'UPH10095B'}]</td>\n",
       "      <td>[{'value': 'CHAIR'}]</td>\n",
       "      <td>NaN</td>\n",
       "      <td>...</td>\n",
       "      <td>[{'language_tag': 'en_US', 'value': 'living-ro...</td>\n",
       "      <td>[{'language_tag': 'zh_CN', 'value': '灰石色'}, {'...</td>\n",
       "      <td>485925ed</td>\n",
       "      <td>B07B4G5RBN</td>\n",
       "      <td>[#918F8C]</td>\n",
       "      <td>NaN</td>\n",
       "      <td>NaN</td>\n",
       "      <td>NaN</td>\n",
       "      <td>NaN</td>\n",
       "      <td>NaN</td>\n",
       "    </tr>\n",
       "  </tbody>\n",
       "</table>\n",
       "<p>5 rows × 28 columns</p>\n",
       "</div>"
      ],
      "text/plain": [
       "                                               brand  \\\n",
       "0  [{'language_tag': 'de_DE', 'value': 'Amazon Es...   \n",
       "1  [{'language_tag': 'en_GB', 'value': 'AmazonBas...   \n",
       "2  [{'language_tag': 'en_IN', 'value': 'Amazon Br...   \n",
       "3  [{'language_tag': 'en_IN', 'value': 'Amazon Br...   \n",
       "4  [{'language_tag': 'en_US', 'value': 'Stone & B...   \n",
       "\n",
       "                                        bullet_point  \\\n",
       "0  [{'language_tag': 'de_DE', 'value': 'Fällt gro...   \n",
       "1  [{'language_tag': 'en_GB', 'value': 'Large dry...   \n",
       "2  [{'language_tag': 'en_IN', 'value': '3D Printe...   \n",
       "3  [{'language_tag': 'en_IN', 'value': 'Snug fit ...   \n",
       "4  [{'language_tag': 'en_US', 'value': 'With mode...   \n",
       "\n",
       "                                               color  \\\n",
       "0  [{'language_tag': 'de_DE', 'value': 'Mehrfarbi...   \n",
       "1                                                NaN   \n",
       "2  [{'language_tag': 'en_IN', 'standardized_value...   \n",
       "3  [{'language_tag': 'en_IN', 'standardized_value...   \n",
       "4  [{'language_tag': 'en_US', 'value': 'Dark Grey'}]   \n",
       "\n",
       "                                         fabric_type     item_id  \\\n",
       "0  [{'language_tag': 'en_GB', 'value': '100% Cott...  B07HL25ZQM   \n",
       "1                                                NaN  B0825D4F6R   \n",
       "2                                                NaN  B07TF1FCFD   \n",
       "3                                                NaN  B08569SRJD   \n",
       "4                                                NaN  B07B4G5RBN   \n",
       "\n",
       "                                           item_name  \\\n",
       "0  [{'language_tag': 'en_GB', 'value': 'Amazon Es...   \n",
       "1  [{'language_tag': 'en_GB', 'value': 'AmazonBas...   \n",
       "2  [{'language_tag': 'en_IN', 'value': 'Amazon Br...   \n",
       "3  [{'language_tag': 'en_IN', 'value': 'Amazon Br...   \n",
       "4  [{'language_tag': 'zh_CN', 'value': 'Stone & B...   \n",
       "\n",
       "                                          model_name  \\\n",
       "0  [{'language_tag': 'en_GB', 'value': '6-Pack Bi...   \n",
       "1                                                NaN   \n",
       "2  [{'language_tag': 'en_IN', 'value': 'Samsung G...   \n",
       "3  [{'language_tag': 'en_IN', 'value': 'Nokia 7.2'}]   \n",
       "4                                                NaN   \n",
       "\n",
       "                     model_number                        product_type  \\\n",
       "0      [{'value': 'P_AE3131_M6'}]         [{'value': 'BABY_PRODUCT'}]   \n",
       "1         [{'value': 'AMAZ2001'}]                 [{'value': 'HOME'}]   \n",
       "2   [{'value': 'gz8587-SL40668'}]  [{'value': 'CELLULAR_PHONE_CASE'}]   \n",
       "3  [{'value': 'UV10845-SL40357'}]  [{'value': 'CELLULAR_PHONE_CASE'}]   \n",
       "4        [{'value': 'UPH10095B'}]                [{'value': 'CHAIR'}]   \n",
       "\n",
       "                                               style  ...  \\\n",
       "0  [{'language_tag': 'de_DE', 'value': '6-Pack Bi...  ...   \n",
       "1     [{'language_tag': 'en_GB', 'value': 'Deluxe'}]  ...   \n",
       "2                                                NaN  ...   \n",
       "3                                                NaN  ...   \n",
       "4                                                NaN  ...   \n",
       "\n",
       "                                       item_keywords  \\\n",
       "0                                                NaN   \n",
       "1  [{'language_tag': 'en_GB', 'value': 'tower lau...   \n",
       "2  [{'language_tag': 'en_IN', 'value': 'mobile co...   \n",
       "3  [{'language_tag': 'en_IN', 'value': 'Back Cove...   \n",
       "4  [{'language_tag': 'en_US', 'value': 'living-ro...   \n",
       "\n",
       "                                            material   spin_id  3dmodel_id  \\\n",
       "0                                                NaN       NaN         NaN   \n",
       "1                                                NaN       NaN         NaN   \n",
       "2                                                NaN       NaN         NaN   \n",
       "3    [{'language_tag': 'en_IN', 'value': 'Silicon'}]       NaN         NaN   \n",
       "4  [{'language_tag': 'zh_CN', 'value': '灰石色'}, {'...  485925ed  B07B4G5RBN   \n",
       "\n",
       "  color_code model_year pattern product_description finish_type item_shape  \n",
       "0        NaN        NaN     NaN                 NaN         NaN        NaN  \n",
       "1        NaN        NaN     NaN                 NaN         NaN        NaN  \n",
       "2        NaN        NaN     NaN                 NaN         NaN        NaN  \n",
       "3        NaN        NaN     NaN                 NaN         NaN        NaN  \n",
       "4  [#918F8C]        NaN     NaN                 NaN         NaN        NaN  \n",
       "\n",
       "[5 rows x 28 columns]"
      ]
     },
     "execution_count": 24,
     "metadata": {},
     "output_type": "execute_result"
    }
   ],
   "source": [
    "df_raw.head()"
   ]
  },
  {
   "cell_type": "code",
   "execution_count": 25,
   "id": "talented-knock",
   "metadata": {},
   "outputs": [
    {
     "data": {
      "text/plain": [
       "147702"
      ]
     },
     "execution_count": 25,
     "metadata": {},
     "output_type": "execute_result"
    }
   ],
   "source": [
    "len(df_raw)"
   ]
  },
  {
   "cell_type": "code",
   "execution_count": 26,
   "id": "impressed-clerk",
   "metadata": {},
   "outputs": [
    {
     "data": {
      "text/plain": [
       "{'brand': [{'language_tag': 'de_DE', 'value': 'Amazon Essentials'}],\n",
       " 'bullet_point': [{'language_tag': 'de_DE',\n",
       "   'value': 'Fällt gross aus; eventuell eine Größe kleiner bestellen'}],\n",
       " 'color': [{'language_tag': 'de_DE', 'value': 'Mehrfarbig(Girl Fruit)'}],\n",
       " 'fabric_type': [{'language_tag': 'en_GB', 'value': '100% Cotton'},\n",
       "  {'language_tag': 'de_DE', 'value': '100 % Baumwolle'}],\n",
       " 'item_id': 'B07HL25ZQM',\n",
       " 'item_name': [{'language_tag': 'en_GB',\n",
       "   'value': 'Amazon Essentials Bib Set of 6'},\n",
       "  {'language_tag': 'de_DE',\n",
       "   'value': 'Amazon Essentials 6-Pack Bib Set, Mehrfarbig(Girl Fruit), Einheitsgröße'}],\n",
       " 'model_name': [{'language_tag': 'en_GB', 'value': '6-Pack Bib Set'},\n",
       "  {'language_tag': 'de_DE', 'value': '6-Pack Bib Set'}],\n",
       " 'model_number': [{'value': 'P_AE3131_M6'}],\n",
       " 'product_type': [{'value': 'BABY_PRODUCT'}],\n",
       " 'style': [{'language_tag': 'de_DE', 'value': '6-Pack Bib Set'}],\n",
       " 'main_image_id': '718mYsQTQbL',\n",
       " 'country': 'DE',\n",
       " 'marketplace': 'Amazon',\n",
       " 'domain_name': 'amazon.de',\n",
       " 'node': [{'node_id': 3968940031,\n",
       "   'node_name': '/Kategorien/Ernährung & Stillen/Lätzchen'}],\n",
       " 'item_dimensions': nan,\n",
       " 'item_weight': nan,\n",
       " 'other_image_id': nan,\n",
       " 'item_keywords': nan,\n",
       " 'material': nan,\n",
       " 'spin_id': nan,\n",
       " '3dmodel_id': nan,\n",
       " 'color_code': nan,\n",
       " 'model_year': nan,\n",
       " 'pattern': nan,\n",
       " 'product_description': nan,\n",
       " 'finish_type': nan,\n",
       " 'item_shape': nan}"
      ]
     },
     "execution_count": 26,
     "metadata": {},
     "output_type": "execute_result"
    }
   ],
   "source": [
    "df_raw.iloc[0].to_dict()"
   ]
  },
  {
   "cell_type": "code",
   "execution_count": 46,
   "id": "neutral-monday",
   "metadata": {},
   "outputs": [],
   "source": [
    "def parse_property(property_record:dict,property_name:str):\n",
    "    try:\n",
    "        r = property_record[property_name][0]\n",
    "        if property_name ==\"node\":\n",
    "            return r['node_name']\n",
    "        else:\n",
    "            return r['value']\n",
    "    except Exception as e:\n",
    "        return None\n",
    "    \n",
    "def cleanup_record(raw_record:dict):\n",
    "    \n",
    "    \n",
    "    record= {\n",
    "        'brand': parse_property(raw_record,'brand')\n",
    "        ,'item_id': raw_record['item_id']\n",
    "        ,'item_name': parse_property(raw_record,'item_name')\n",
    "        ,'product_type': parse_property(raw_record,'product_type')\n",
    "        ,'node': parse_property(raw_record, 'node')\n",
    "        , 'main_image_id': raw_record['main_image_id']\n",
    "        ,'product_description': raw_record['product_description']\n",
    "\n",
    "        \n",
    "    }\n",
    "    \n",
    "    return pd.Series(record)"
   ]
  },
  {
   "cell_type": "code",
   "execution_count": 97,
   "id": "academic-haiti",
   "metadata": {},
   "outputs": [],
   "source": [
    "df = df_raw.apply(cleanup_record,axis=1)"
   ]
  },
  {
   "cell_type": "code",
   "execution_count": 98,
   "id": "verified-salem",
   "metadata": {},
   "outputs": [
    {
     "data": {
      "text/html": [
       "<div>\n",
       "<style scoped>\n",
       "    .dataframe tbody tr th:only-of-type {\n",
       "        vertical-align: middle;\n",
       "    }\n",
       "\n",
       "    .dataframe tbody tr th {\n",
       "        vertical-align: top;\n",
       "    }\n",
       "\n",
       "    .dataframe thead th {\n",
       "        text-align: right;\n",
       "    }\n",
       "</style>\n",
       "<table border=\"1\" class=\"dataframe\">\n",
       "  <thead>\n",
       "    <tr style=\"text-align: right;\">\n",
       "      <th></th>\n",
       "      <th>brand</th>\n",
       "      <th>item_id</th>\n",
       "      <th>item_name</th>\n",
       "      <th>product_type</th>\n",
       "      <th>node</th>\n",
       "      <th>main_image_id</th>\n",
       "      <th>product_description</th>\n",
       "    </tr>\n",
       "  </thead>\n",
       "  <tbody>\n",
       "    <tr>\n",
       "      <th>0</th>\n",
       "      <td>Amazon Essentials</td>\n",
       "      <td>B07HL25ZQM</td>\n",
       "      <td>Amazon Essentials Bib Set of 6</td>\n",
       "      <td>BABY_PRODUCT</td>\n",
       "      <td>/Kategorien/Ernährung &amp; Stillen/Lätzchen</td>\n",
       "      <td>718mYsQTQbL</td>\n",
       "      <td>NaN</td>\n",
       "    </tr>\n",
       "    <tr>\n",
       "      <th>1</th>\n",
       "      <td>AmazonBasics</td>\n",
       "      <td>B0825D4F6R</td>\n",
       "      <td>AmazonBasics 3-Tier Deluxe Tower Laundry Dryin...</td>\n",
       "      <td>HOME</td>\n",
       "      <td>/Home &amp; Garden/Home &amp; Kitchen/Categories/Stora...</td>\n",
       "      <td>81lg2wto16L</td>\n",
       "      <td>NaN</td>\n",
       "    </tr>\n",
       "    <tr>\n",
       "      <th>2</th>\n",
       "      <td>Amazon Brand - Solimo</td>\n",
       "      <td>B07TF1FCFD</td>\n",
       "      <td>Amazon Brand - Solimo Designer Number Eight 3D...</td>\n",
       "      <td>CELLULAR_PHONE_CASE</td>\n",
       "      <td>/Categories/Mobiles &amp; Accessories/Mobile Acces...</td>\n",
       "      <td>71R4R6x-tjL</td>\n",
       "      <td>NaN</td>\n",
       "    </tr>\n",
       "    <tr>\n",
       "      <th>3</th>\n",
       "      <td>Amazon Brand - Solimo</td>\n",
       "      <td>B08569SRJD</td>\n",
       "      <td>Amazon Brand - Solimo Designer Dark Night View...</td>\n",
       "      <td>CELLULAR_PHONE_CASE</td>\n",
       "      <td>/Categories/Mobiles &amp; Accessories/Mobile Acces...</td>\n",
       "      <td>71QSAxIJagL</td>\n",
       "      <td>NaN</td>\n",
       "    </tr>\n",
       "    <tr>\n",
       "      <th>4</th>\n",
       "      <td>Stone &amp; Beam</td>\n",
       "      <td>B07B4G5RBN</td>\n",
       "      <td>Stone &amp; Beam Varon 过渡日床, 灰石色</td>\n",
       "      <td>CHAIR</td>\n",
       "      <td>/Categories/Furniture/Living Room Furniture/Ch...</td>\n",
       "      <td>91UiRD6UcHL</td>\n",
       "      <td>NaN</td>\n",
       "    </tr>\n",
       "  </tbody>\n",
       "</table>\n",
       "</div>"
      ],
      "text/plain": [
       "                   brand     item_id  \\\n",
       "0      Amazon Essentials  B07HL25ZQM   \n",
       "1           AmazonBasics  B0825D4F6R   \n",
       "2  Amazon Brand - Solimo  B07TF1FCFD   \n",
       "3  Amazon Brand - Solimo  B08569SRJD   \n",
       "4           Stone & Beam  B07B4G5RBN   \n",
       "\n",
       "                                           item_name         product_type  \\\n",
       "0                     Amazon Essentials Bib Set of 6         BABY_PRODUCT   \n",
       "1  AmazonBasics 3-Tier Deluxe Tower Laundry Dryin...                 HOME   \n",
       "2  Amazon Brand - Solimo Designer Number Eight 3D...  CELLULAR_PHONE_CASE   \n",
       "3  Amazon Brand - Solimo Designer Dark Night View...  CELLULAR_PHONE_CASE   \n",
       "4                       Stone & Beam Varon 过渡日床, 灰石色                CHAIR   \n",
       "\n",
       "                                                node main_image_id  \\\n",
       "0           /Kategorien/Ernährung & Stillen/Lätzchen   718mYsQTQbL   \n",
       "1  /Home & Garden/Home & Kitchen/Categories/Stora...   81lg2wto16L   \n",
       "2  /Categories/Mobiles & Accessories/Mobile Acces...   71R4R6x-tjL   \n",
       "3  /Categories/Mobiles & Accessories/Mobile Acces...   71QSAxIJagL   \n",
       "4  /Categories/Furniture/Living Room Furniture/Ch...   91UiRD6UcHL   \n",
       "\n",
       "  product_description  \n",
       "0                 NaN  \n",
       "1                 NaN  \n",
       "2                 NaN  \n",
       "3                 NaN  \n",
       "4                 NaN  "
      ]
     },
     "execution_count": 98,
     "metadata": {},
     "output_type": "execute_result"
    }
   ],
   "source": [
    "df.head()"
   ]
  },
  {
   "cell_type": "code",
   "execution_count": 133,
   "id": "forbidden-bahamas",
   "metadata": {},
   "outputs": [
    {
     "data": {
      "text/plain": [
       "Index(['brand', 'item_id', 'item_name', 'product_type', 'node',\n",
       "       'main_image_id', 'product_description'],\n",
       "      dtype='object')"
      ]
     },
     "execution_count": 133,
     "metadata": {},
     "output_type": "execute_result"
    }
   ],
   "source": [
    "df.columns"
   ]
  },
  {
   "cell_type": "code",
   "execution_count": 99,
   "id": "precious-plane",
   "metadata": {},
   "outputs": [
    {
     "data": {
      "text/plain": [
       "CELLULAR_PHONE_CASE         64853\n",
       "SHOES                       12965\n",
       "GROCERY                      6546\n",
       "HOME                         5264\n",
       "HOME_BED_AND_BATH            3082\n",
       "                            ...  \n",
       "SCANNER                         1\n",
       "MONITOR                         1\n",
       "CONDIMENT                       1\n",
       "POWERSPORTS_VEHICLE_PART        1\n",
       "OUTBUILDING                     1\n",
       "Name: product_type, Length: 576, dtype: int64"
      ]
     },
     "execution_count": 99,
     "metadata": {},
     "output_type": "execute_result"
    }
   ],
   "source": [
    "df['product_type'].value_counts()"
   ]
  },
  {
   "cell_type": "code",
   "execution_count": 101,
   "id": "diagnostic-harvest",
   "metadata": {},
   "outputs": [],
   "source": [
    "min_product_count = 100"
   ]
  },
  {
   "cell_type": "code",
   "execution_count": 106,
   "id": "statutory-drama",
   "metadata": {},
   "outputs": [],
   "source": [
    "top_products =  df['product_type'].value_counts().loc[lambda x: x>min_product_count].index.tolist()"
   ]
  },
  {
   "cell_type": "code",
   "execution_count": null,
   "id": "accessible-cocktail",
   "metadata": {},
   "outputs": [],
   "source": []
  },
  {
   "cell_type": "code",
   "execution_count": null,
   "id": "optical-attribute",
   "metadata": {},
   "outputs": [],
   "source": []
  },
  {
   "cell_type": "code",
   "execution_count": 108,
   "id": "waiting-punishment",
   "metadata": {},
   "outputs": [
    {
     "data": {
      "text/plain": [
       "(576, 112)"
      ]
     },
     "execution_count": 108,
     "metadata": {},
     "output_type": "execute_result"
    }
   ],
   "source": [
    "len(df['product_type'].value_counts() ) , len (top_products)"
   ]
  },
  {
   "cell_type": "code",
   "execution_count": 124,
   "id": "architectural-prison",
   "metadata": {},
   "outputs": [],
   "source": [
    "df_all = df [ df['product_type'].isin(top_products) ].copy()\n"
   ]
  },
  {
   "cell_type": "code",
   "execution_count": 125,
   "id": "transparent-moore",
   "metadata": {},
   "outputs": [
    {
     "data": {
      "text/plain": [
       "138386"
      ]
     },
     "execution_count": 125,
     "metadata": {},
     "output_type": "execute_result"
    }
   ],
   "source": [
    "len(df_all)"
   ]
  },
  {
   "cell_type": "code",
   "execution_count": 143,
   "id": "renewable-alliance",
   "metadata": {},
   "outputs": [],
   "source": [
    "df_all['label_name'] = df_all['product_type']\n",
    "df_all['text'] = df_all['item_name']"
   ]
  },
  {
   "cell_type": "code",
   "execution_count": null,
   "id": "atomic-bread",
   "metadata": {},
   "outputs": [],
   "source": []
  },
  {
   "cell_type": "code",
   "execution_count": null,
   "id": "lasting-eclipse",
   "metadata": {},
   "outputs": [],
   "source": []
  },
  {
   "cell_type": "code",
   "execution_count": null,
   "id": "amateur-joining",
   "metadata": {},
   "outputs": [],
   "source": []
  },
  {
   "cell_type": "code",
   "execution_count": 144,
   "id": "challenging-hebrew",
   "metadata": {},
   "outputs": [],
   "source": [
    "label_encoder = sklearn.preprocessing.LabelEncoder()"
   ]
  },
  {
   "cell_type": "code",
   "execution_count": 145,
   "id": "specified-highway",
   "metadata": {},
   "outputs": [
    {
     "data": {
      "text/plain": [
       "LabelEncoder()"
      ]
     },
     "execution_count": 145,
     "metadata": {},
     "output_type": "execute_result"
    }
   ],
   "source": [
    "label_encoder.fit(df_all['label_name'])"
   ]
  },
  {
   "cell_type": "code",
   "execution_count": 146,
   "id": "selective-breast",
   "metadata": {},
   "outputs": [],
   "source": [
    "df_all['label'] = label_encoder.transform(df_all['label_name'])\n"
   ]
  },
  {
   "cell_type": "code",
   "execution_count": 147,
   "id": "continuous-tulsa",
   "metadata": {},
   "outputs": [
    {
     "name": "stdout",
     "output_type": "stream",
     "text": [
      "{'train': 83031, 'test': 27677, 'val': 27678}\n"
     ]
    }
   ],
   "source": [
    "df_train, df_test = sklearn.model_selection.train_test_split(df_all, train_size=.6, stratify= df_all['label'] )\n",
    "\n",
    "\n",
    "df_test, df_val = sklearn.model_selection.train_test_split(df_test, test_size=.5, stratify= df_test['label'] )\n",
    "\n",
    "\n",
    "print  ( \n",
    "{\n",
    "    'train': len(df_train)\n",
    "    ,'test': len(df_test)\n",
    "    ,'val': len(df_val)\n",
    "}\n",
    "\n",
    ")"
   ]
  },
  {
   "cell_type": "code",
   "execution_count": 148,
   "id": "committed-fashion",
   "metadata": {},
   "outputs": [],
   "source": [
    "dataset_features = datasets.Features(\n",
    "    {'text': datasets.Value('string')\n",
    "     , 'item_name': datasets.Value('string')\n",
    "     , 'label': datasets.ClassLabel(names=list ( label_encoder.classes_ ))\n",
    "     , 'brand': datasets.Value('string')\n",
    "     , 'item_id': datasets.Value('string')\n",
    "     , 'main_image_id': datasets.Value('string')\n",
    "    , 'node': datasets.Value('string')\n",
    "\n",
    "    }\n",
    "\n",
    "\n",
    "    \n",
    ")"
   ]
  },
  {
   "cell_type": "code",
   "execution_count": 149,
   "id": "patient-tourist",
   "metadata": {},
   "outputs": [
    {
     "data": {
      "text/plain": [
       "dict_keys(['text', 'item_name', 'label', 'brand', 'item_id', 'main_image_id', 'node'])"
      ]
     },
     "execution_count": 149,
     "metadata": {},
     "output_type": "execute_result"
    }
   ],
   "source": [
    "dataset_features.keys()"
   ]
  },
  {
   "cell_type": "code",
   "execution_count": 150,
   "id": "rolled-judge",
   "metadata": {},
   "outputs": [],
   "source": [
    "interested_columns = dataset_features.keys()\n",
    "\n",
    "dataset_train = datasets.Dataset.from_pandas(df_train[interested_columns],features=dataset_features)\n",
    "dataset_test = datasets.Dataset.from_pandas(df_test[interested_columns],features=dataset_features)\n",
    "dataset_validation = datasets.Dataset.from_pandas(df_test[interested_columns],features=dataset_features)\n",
    "\n",
    "dataset_all = datasets.DatasetDict({\n",
    "    'train': dataset_train,\n",
    "    'test': dataset_test,\n",
    "    'valid': dataset_validation }\n",
    ")"
   ]
  },
  {
   "cell_type": "code",
   "execution_count": 151,
   "id": "automatic-colombia",
   "metadata": {},
   "outputs": [
    {
     "data": {
      "text/plain": [
       "DatasetDict({\n",
       "    train: Dataset({\n",
       "        features: ['text', 'item_name', 'label', 'brand', 'item_id', 'main_image_id', 'node'],\n",
       "        num_rows: 83031\n",
       "    })\n",
       "    test: Dataset({\n",
       "        features: ['text', 'item_name', 'label', 'brand', 'item_id', 'main_image_id', 'node'],\n",
       "        num_rows: 27677\n",
       "    })\n",
       "    valid: Dataset({\n",
       "        features: ['text', 'item_name', 'label', 'brand', 'item_id', 'main_image_id', 'node'],\n",
       "        num_rows: 27677\n",
       "    })\n",
       "})"
      ]
     },
     "execution_count": 151,
     "metadata": {},
     "output_type": "execute_result"
    }
   ],
   "source": [
    "dataset_all"
   ]
  },
  {
   "cell_type": "code",
   "execution_count": 152,
   "id": "extended-evaluation",
   "metadata": {},
   "outputs": [
    {
     "data": {
      "text/plain": [
       "{'text': 'Amazon-merk - vinden. Dames Gladiator Sandalen,ZILVER,5 UK',\n",
       " 'item_name': 'Amazon-merk - vinden. Dames Gladiator Sandalen,ZILVER,5 UK',\n",
       " 'label': 83,\n",
       " 'brand': 'find.',\n",
       " 'item_id': 'B07ZW5GC82',\n",
       " 'main_image_id': '617ttnFcuHL',\n",
       " 'node': '/Categorieën/Dames/Schoenen/Modieuze sandalen'}"
      ]
     },
     "execution_count": 152,
     "metadata": {},
     "output_type": "execute_result"
    }
   ],
   "source": [
    "dataset_all['train'][0]"
   ]
  },
  {
   "cell_type": "code",
   "execution_count": 162,
   "id": "compact-cooperative",
   "metadata": {},
   "outputs": [],
   "source": [
    "all_classes = dataset_all['train'].features['label'].names_file\n",
    "all_classes"
   ]
  },
  {
   "cell_type": "code",
   "execution_count": null,
   "id": "alive-surrey",
   "metadata": {},
   "outputs": [],
   "source": []
  },
  {
   "cell_type": "code",
   "execution_count": 163,
   "id": "equivalent-treaty",
   "metadata": {},
   "outputs": [],
   "source": [
    "dataset_path = '../artifacts/dataset_processed/amazon'"
   ]
  },
  {
   "cell_type": "code",
   "execution_count": 164,
   "id": "personal-contamination",
   "metadata": {},
   "outputs": [],
   "source": [
    "dataset_all.save_to_disk(dataset_path)"
   ]
  },
  {
   "cell_type": "code",
   "execution_count": null,
   "id": "entitled-above",
   "metadata": {},
   "outputs": [],
   "source": []
  },
  {
   "cell_type": "code",
   "execution_count": 165,
   "id": "dutch-density",
   "metadata": {},
   "outputs": [
    {
     "data": {
      "text/plain": [
       "DatasetDict({\n",
       "    train: Dataset({\n",
       "        features: ['text', 'item_name', 'label', 'brand', 'item_id', 'main_image_id', 'node'],\n",
       "        num_rows: 83031\n",
       "    })\n",
       "    test: Dataset({\n",
       "        features: ['text', 'item_name', 'label', 'brand', 'item_id', 'main_image_id', 'node'],\n",
       "        num_rows: 27677\n",
       "    })\n",
       "    valid: Dataset({\n",
       "        features: ['text', 'item_name', 'label', 'brand', 'item_id', 'main_image_id', 'node'],\n",
       "        num_rows: 27677\n",
       "    })\n",
       "})"
      ]
     },
     "execution_count": 165,
     "metadata": {},
     "output_type": "execute_result"
    }
   ],
   "source": [
    "datasets.load_from_disk(dataset_path)"
   ]
  },
  {
   "cell_type": "markdown",
   "id": "genetic-stupid",
   "metadata": {},
   "source": [
    "# References\n",
    "\n",
    "[Amazon Object](https://amazon-berkeley-objects.s3.amazonaws.com/index.html)"
   ]
  },
  {
   "cell_type": "code",
   "execution_count": null,
   "id": "acute-function",
   "metadata": {},
   "outputs": [],
   "source": []
  }
 ],
 "metadata": {
  "environment": {
   "name": "rapids-gpu.0-18.m65",
   "type": "gcloud",
   "uri": "gcr.io/deeplearning-platform-release/rapids-gpu.0-18:m65"
  },
  "kernelspec": {
   "display_name": "Python [conda env:pytorch]",
   "language": "python",
   "name": "conda-env-pytorch-py"
  },
  "language_info": {
   "codemirror_mode": {
    "name": "ipython",
    "version": 3
   },
   "file_extension": ".py",
   "mimetype": "text/x-python",
   "name": "python",
   "nbconvert_exporter": "python",
   "pygments_lexer": "ipython3",
   "version": "3.7.10"
  }
 },
 "nbformat": 4,
 "nbformat_minor": 5
}
