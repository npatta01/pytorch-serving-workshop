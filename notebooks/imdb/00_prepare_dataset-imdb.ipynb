{
 "cells": [
  {
   "cell_type": "code",
   "execution_count": 15,
   "id": "through-neighbor",
   "metadata": {},
   "outputs": [],
   "source": [
    "import pathlib\n",
    "import sklearn\n",
    "import datasets\n",
    "import pandas as pd\n",
    "import sklearn.preprocessing\n",
    "import sklearn.model_selection"
   ]
  },
  {
   "cell_type": "code",
   "execution_count": 2,
   "id": "first-ghost",
   "metadata": {},
   "outputs": [
    {
     "output_type": "stream",
     "name": "stdout",
     "text": [
      "/home/jupyter/tutorials/personal/pydata_bert/notebooks\n"
     ]
    }
   ],
   "source": [
    "!pwd"
   ]
  },
  {
   "cell_type": "code",
   "execution_count": 3,
   "id": "mexican-syracuse",
   "metadata": {},
   "outputs": [
    {
     "output_type": "stream",
     "name": "stdout",
     "text": [
      "dataset_processed  dataset_raw\n"
     ]
    }
   ],
   "source": [
    "!ls ../artifacts"
   ]
  },
  {
   "cell_type": "code",
   "execution_count": 4,
   "id": "political-bundle",
   "metadata": {},
   "outputs": [
    {
     "output_type": "stream",
     "name": "stdout",
     "text": [
      "aclImdb  aclImdb_v1.tar.gz\n"
     ]
    }
   ],
   "source": [
    "!ls ../artifacts/dataset_raw"
   ]
  },
  {
   "cell_type": "code",
   "execution_count": null,
   "id": "valid-trigger",
   "metadata": {},
   "outputs": [],
   "source": [
    "%%bash\n",
    "mkdir -p ../artifacts/dataset_raw\n",
    "cd ../artifacts/dataset_raw\n",
    "wget http://ai.stanford.edu/~amaas/data/sentiment/aclImdb_v1.tar.gz\n",
    "tar -xf aclImdb_v1.tar.gz"
   ]
  },
  {
   "cell_type": "code",
   "execution_count": null,
   "id": "vocational-harvey",
   "metadata": {},
   "outputs": [],
   "source": []
  },
  {
   "cell_type": "code",
   "execution_count": 5,
   "id": "miniature-procedure",
   "metadata": {},
   "outputs": [],
   "source": [
    "def imdb_pandas(split_dir:str):\n",
    "    split_dir = pathlib.Path(split_dir)\n",
    "    texts = []\n",
    "    labels = []\n",
    "    for label_dir in [\"pos\", \"neg\"]:\n",
    "        for text_file in (split_dir/label_dir).iterdir():\n",
    "            if str(text_file).endswith(\".txt\"):\n",
    "                texts.append(text_file.read_text())\n",
    "                labels.append(label_dir)\n",
    "\n",
    "    \n",
    "    df = pd.DataFrame({'text':texts , 'label_name':labels})\n",
    "    return df"
   ]
  },
  {
   "cell_type": "code",
   "execution_count": 6,
   "id": "thorough-lighting",
   "metadata": {},
   "outputs": [],
   "source": [
    "df_all = imdb_pandas ('../artifacts/dataset_raw/aclImdb/train')\n",
    "df_test = imdb_pandas ('../artifacts/dataset_raw/aclImdb/test')\n"
   ]
  },
  {
   "cell_type": "code",
   "execution_count": 7,
   "id": "wrapped-notification",
   "metadata": {},
   "outputs": [
    {
     "output_type": "execute_result",
     "data": {
      "text/plain": [
       "                                                text label_name\n",
       "0  It's hard to find an outright bad historical d...        pos\n",
       "1  Very few so called \"remakes\" can be as good as...        pos\n",
       "2  The quote I used for my summary occurs about h...        pos\n",
       "3  This movie is fun to watch , doesnt have much ...        pos\n",
       "4  This movie is plain fun.I has nothing to do wi...        pos"
      ],
      "text/html": "<div>\n<style scoped>\n    .dataframe tbody tr th:only-of-type {\n        vertical-align: middle;\n    }\n\n    .dataframe tbody tr th {\n        vertical-align: top;\n    }\n\n    .dataframe thead th {\n        text-align: right;\n    }\n</style>\n<table border=\"1\" class=\"dataframe\">\n  <thead>\n    <tr style=\"text-align: right;\">\n      <th></th>\n      <th>text</th>\n      <th>label_name</th>\n    </tr>\n  </thead>\n  <tbody>\n    <tr>\n      <th>0</th>\n      <td>It's hard to find an outright bad historical d...</td>\n      <td>pos</td>\n    </tr>\n    <tr>\n      <th>1</th>\n      <td>Very few so called \"remakes\" can be as good as...</td>\n      <td>pos</td>\n    </tr>\n    <tr>\n      <th>2</th>\n      <td>The quote I used for my summary occurs about h...</td>\n      <td>pos</td>\n    </tr>\n    <tr>\n      <th>3</th>\n      <td>This movie is fun to watch , doesnt have much ...</td>\n      <td>pos</td>\n    </tr>\n    <tr>\n      <th>4</th>\n      <td>This movie is plain fun.I has nothing to do wi...</td>\n      <td>pos</td>\n    </tr>\n  </tbody>\n</table>\n</div>"
     },
     "metadata": {},
     "execution_count": 7
    }
   ],
   "source": [
    "df_all.head()"
   ]
  },
  {
   "cell_type": "code",
   "execution_count": 8,
   "id": "special-heater",
   "metadata": {},
   "outputs": [
    {
     "output_type": "execute_result",
     "data": {
      "text/plain": [
       "                                                text label_name\n",
       "0  That's what I thought, when I heard about the ...        pos\n",
       "1  The reason I am reviewing this is that the pre...        pos\n",
       "2  I had the honor this evening to see a screenin...        pos\n",
       "3  Fame was released in the U.S. a year before I ...        pos\n",
       "4  Isabelle Huppert portrays a talented female pi...        pos"
      ],
      "text/html": "<div>\n<style scoped>\n    .dataframe tbody tr th:only-of-type {\n        vertical-align: middle;\n    }\n\n    .dataframe tbody tr th {\n        vertical-align: top;\n    }\n\n    .dataframe thead th {\n        text-align: right;\n    }\n</style>\n<table border=\"1\" class=\"dataframe\">\n  <thead>\n    <tr style=\"text-align: right;\">\n      <th></th>\n      <th>text</th>\n      <th>label_name</th>\n    </tr>\n  </thead>\n  <tbody>\n    <tr>\n      <th>0</th>\n      <td>That's what I thought, when I heard about the ...</td>\n      <td>pos</td>\n    </tr>\n    <tr>\n      <th>1</th>\n      <td>The reason I am reviewing this is that the pre...</td>\n      <td>pos</td>\n    </tr>\n    <tr>\n      <th>2</th>\n      <td>I had the honor this evening to see a screenin...</td>\n      <td>pos</td>\n    </tr>\n    <tr>\n      <th>3</th>\n      <td>Fame was released in the U.S. a year before I ...</td>\n      <td>pos</td>\n    </tr>\n    <tr>\n      <th>4</th>\n      <td>Isabelle Huppert portrays a talented female pi...</td>\n      <td>pos</td>\n    </tr>\n  </tbody>\n</table>\n</div>"
     },
     "metadata": {},
     "execution_count": 8
    }
   ],
   "source": [
    "df_test.head()"
   ]
  },
  {
   "cell_type": "code",
   "execution_count": null,
   "id": "amateur-joining",
   "metadata": {},
   "outputs": [],
   "source": []
  },
  {
   "cell_type": "code",
   "execution_count": 11,
   "id": "challenging-hebrew",
   "metadata": {},
   "outputs": [],
   "source": [
    "label_encoder = sklearn.preprocessing.LabelEncoder()"
   ]
  },
  {
   "cell_type": "code",
   "execution_count": 12,
   "id": "specified-highway",
   "metadata": {},
   "outputs": [
    {
     "output_type": "execute_result",
     "data": {
      "text/plain": [
       "LabelEncoder()"
      ]
     },
     "metadata": {},
     "execution_count": 12
    }
   ],
   "source": [
    "label_encoder.fit(df_all['label_name'])"
   ]
  },
  {
   "cell_type": "code",
   "execution_count": 16,
   "id": "selective-breast",
   "metadata": {},
   "outputs": [],
   "source": [
    "df_all['label'] = label_encoder.transform(df_all['label_name'])\n",
    "df_test['label'] = label_encoder.transform(df_test['label_name'])"
   ]
  },
  {
   "cell_type": "code",
   "execution_count": 17,
   "id": "continuous-tulsa",
   "metadata": {},
   "outputs": [],
   "source": [
    "df_train, df_val = sklearn.model_selection.train_test_split(df_all, test_size=.2)"
   ]
  },
  {
   "cell_type": "code",
   "execution_count": 18,
   "id": "committed-fashion",
   "metadata": {},
   "outputs": [],
   "source": [
    "dataset_features = datasets.Features({'text': datasets.Value('string'), 'label': datasets.ClassLabel(names=list ( label_encoder.classes_ ))})"
   ]
  },
  {
   "cell_type": "code",
   "execution_count": null,
   "id": "patient-tourist",
   "metadata": {},
   "outputs": [],
   "source": []
  },
  {
   "cell_type": "code",
   "execution_count": 19,
   "id": "rolled-judge",
   "metadata": {},
   "outputs": [],
   "source": [
    "dataset_train = datasets.Dataset.from_pandas(df_train[['text','label']],features=dataset_features)\n",
    "dataset_test = datasets.Dataset.from_pandas(df_test[['text','label']],features=dataset_features)\n",
    "dataset_validation = datasets.Dataset.from_pandas(df_test[['text','label']],features=dataset_features)\n",
    "\n",
    "dataset_all = datasets.DatasetDict({\n",
    "    'train': dataset_train,\n",
    "    'test': dataset_test,\n",
    "    'valid': dataset_validation }\n",
    ")"
   ]
  },
  {
   "cell_type": "code",
   "execution_count": 20,
   "id": "automatic-colombia",
   "metadata": {},
   "outputs": [
    {
     "output_type": "execute_result",
     "data": {
      "text/plain": [
       "DatasetDict({\n",
       "    train: Dataset({\n",
       "        features: ['text', 'label'],\n",
       "        num_rows: 20000\n",
       "    })\n",
       "    test: Dataset({\n",
       "        features: ['text', 'label'],\n",
       "        num_rows: 25000\n",
       "    })\n",
       "    valid: Dataset({\n",
       "        features: ['text', 'label'],\n",
       "        num_rows: 25000\n",
       "    })\n",
       "})"
      ]
     },
     "metadata": {},
     "execution_count": 20
    }
   ],
   "source": [
    "dataset_all"
   ]
  },
  {
   "cell_type": "code",
   "execution_count": 25,
   "metadata": {},
   "outputs": [
    {
     "output_type": "execute_result",
     "data": {
      "text/plain": [
       "{'text': \"King of Masks (Bian Lian in China) is a shockingly beautiful and profoundly touching film. Winner of 16 awards from around the world, this film based on a true story centers on Wang Bianlian, a street performer in 1930s China who is growing older but has no heir to pass on his art of face-change opera. He has a unique talent of quickly changing masks in performance, and no one knows how he does it. He has a longing desire to have a grandson, as his art is a family heirloom that can only be passed on to a male heir. We then go to the streets, and see that people are selling their children because they can't afford to take care of them: some are even begging to take their daughters for free, because daughters are not worth much in this society. Wang Bianlian's story goes on from there.<br /><br />The film was so astonishingly good, the acting was amazing, and the issues were so weighty and well-addressed. There is the gender inequality and the depressing fact that in this time and place, no one wants a little girl. Also interesting to note is that the famed opera actor who always plays a woman and is known as the Living Bodhisattva is a man who dresses as a woman, and while he is famous and well-respected, he regards himself as something low, a half woman. As we go further into the film, the face the issues of human slave trade and its demand and thus the lack of a possible solution for it, the brutality and corruption of the military and police, and the helplessness and lack of power any individual can face due to unfortunate events or even good intentions.<br /><br />This is definitely one of the best movies I have ever seen in my life, and Xu Zhu, the actor who plays Wang Bianlian, presents yet another beautiful performance.\",\n",
       " 'label': 1}"
      ]
     },
     "metadata": {},
     "execution_count": 25
    }
   ],
   "source": [
    "dataset_all['train'][0]"
   ]
  },
  {
   "cell_type": "code",
   "execution_count": 26,
   "id": "equivalent-treaty",
   "metadata": {},
   "outputs": [],
   "source": [
    "dataset_path = '../artifacts/dataset_processed/imdb'"
   ]
  },
  {
   "cell_type": "code",
   "execution_count": 27,
   "id": "personal-contamination",
   "metadata": {},
   "outputs": [],
   "source": [
    "dataset_all.save_to_disk(dataset_path)"
   ]
  },
  {
   "cell_type": "code",
   "execution_count": null,
   "id": "entitled-above",
   "metadata": {},
   "outputs": [],
   "source": []
  },
  {
   "cell_type": "code",
   "execution_count": 28,
   "id": "dutch-density",
   "metadata": {},
   "outputs": [
    {
     "output_type": "execute_result",
     "data": {
      "text/plain": [
       "DatasetDict({\n",
       "    train: Dataset({\n",
       "        features: ['text', 'label'],\n",
       "        num_rows: 20000\n",
       "    })\n",
       "    test: Dataset({\n",
       "        features: ['text', 'label'],\n",
       "        num_rows: 25000\n",
       "    })\n",
       "    valid: Dataset({\n",
       "        features: ['text', 'label'],\n",
       "        num_rows: 25000\n",
       "    })\n",
       "})"
      ]
     },
     "metadata": {},
     "execution_count": 28
    }
   ],
   "source": [
    "datasets.load_from_disk(dataset_path)"
   ]
  },
  {
   "cell_type": "code",
   "execution_count": null,
   "id": "disabled-lloyd",
   "metadata": {},
   "outputs": [],
   "source": []
  }
 ],
 "metadata": {
  "environment": {
   "name": "rapids-gpu.0-18.m65",
   "type": "gcloud",
   "uri": "gcr.io/deeplearning-platform-release/rapids-gpu.0-18:m65"
  },
  "kernelspec": {
   "name": "python3",
   "display_name": "Python 3",
   "language": "python"
  },
  "language_info": {
   "codemirror_mode": {
    "name": "ipython",
    "version": 3
   },
   "file_extension": ".py",
   "mimetype": "text/x-python",
   "name": "python",
   "nbconvert_exporter": "python",
   "pygments_lexer": "ipython3",
   "version": "3.7.10"
  }
 },
 "nbformat": 4,
 "nbformat_minor": 5
}