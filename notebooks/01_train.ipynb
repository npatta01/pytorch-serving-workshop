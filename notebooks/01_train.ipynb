{
 "cells": [
  {
   "cell_type": "markdown",
   "id": "vulnerable-kazakhstan",
   "metadata": {},
   "source": [
    "# Training"
   ]
  },
  {
   "cell_type": "markdown",
   "id": "assigned-filing",
   "metadata": {},
   "source": [
    "## About\n",
    "\n",
    "This notebook contains the code to\n",
    "\n",
    "- download the preprocessed dataset\n",
    "- use trained `distilbert-base-uncased` tokenizer\n",
    "- fine tune Classification model built on top of `distilbert-base-uncased`\n"
   ]
  },
  {
   "cell_type": "code",
   "execution_count": null,
   "id": "correct-publicity",
   "metadata": {},
   "outputs": [],
   "source": []
  },
  {
   "cell_type": "markdown",
   "id": "humanitarian-balloon",
   "metadata": {
    "execution": {
     "iopub.execute_input": "2021-10-13T17:21:01.084576Z",
     "iopub.status.busy": "2021-10-13T17:21:01.084131Z",
     "iopub.status.idle": "2021-10-13T17:21:01.086331Z",
     "shell.execute_reply": "2021-10-13T17:21:01.085883Z"
    },
    "papermill": {
     "duration": 0.031395,
     "end_time": "2021-10-13T17:21:01.086461",
     "exception": false,
     "start_time": "2021-10-13T17:21:01.055066",
     "status": "completed"
    },
    "tags": []
   },
   "source": [
    "## Imports"
   ]
  },
  {
   "cell_type": "code",
   "execution_count": 1,
   "id": "frank-return",
   "metadata": {
    "execution": {
     "iopub.execute_input": "2021-10-13T17:21:01.141860Z",
     "iopub.status.busy": "2021-10-13T17:21:01.141411Z",
     "iopub.status.idle": "2021-10-13T17:21:13.360963Z",
     "shell.execute_reply": "2021-10-13T17:21:13.360573Z"
    },
    "papermill": {
     "duration": 12.247702,
     "end_time": "2021-10-13T17:21:13.361075",
     "exception": false,
     "start_time": "2021-10-13T17:21:01.113373",
     "status": "completed"
    },
    "tags": []
   },
   "outputs": [],
   "source": [
    "import pathlib\n",
    "import sklearn\n",
    "import datasets\n",
    "import pandas as pd\n",
    "import torch\n",
    "\n",
    "import numpy as np\n",
    "import transformers\n",
    "import os\n",
    "import plotly.figure_factory as ff\n",
    "import wandb\n",
    "from matplotlib import pyplot as plt\n"
   ]
  },
  {
   "cell_type": "code",
   "execution_count": 2,
   "id": "recent-reynolds",
   "metadata": {
    "execution": {
     "iopub.execute_input": "2021-10-13T17:21:13.416512Z",
     "iopub.status.busy": "2021-10-13T17:21:13.416066Z",
     "iopub.status.idle": "2021-10-13T17:21:13.417762Z",
     "shell.execute_reply": "2021-10-13T17:21:13.417414Z"
    },
    "papermill": {
     "duration": 0.03123,
     "end_time": "2021-10-13T17:21:13.417869",
     "exception": false,
     "start_time": "2021-10-13T17:21:13.386639",
     "status": "completed"
    },
    "tags": []
   },
   "outputs": [],
   "source": [
    "os.environ[\"WANDB_DISABLED\"] = \"false\""
   ]
  },
  {
   "cell_type": "code",
   "execution_count": null,
   "id": "criminal-defeat",
   "metadata": {
    "papermill": {
     "duration": 0.025108,
     "end_time": "2021-10-13T17:21:13.468360",
     "exception": false,
     "start_time": "2021-10-13T17:21:13.443252",
     "status": "completed"
    },
    "tags": []
   },
   "outputs": [],
   "source": []
  },
  {
   "cell_type": "code",
   "execution_count": null,
   "id": "capital-dimension",
   "metadata": {},
   "outputs": [],
   "source": []
  },
  {
   "cell_type": "markdown",
   "id": "parliamentary-princeton",
   "metadata": {},
   "source": [
    "## Dataset"
   ]
  },
  {
   "cell_type": "code",
   "execution_count": 3,
   "id": "brave-criterion",
   "metadata": {
    "execution": {
     "iopub.execute_input": "2021-10-13T17:21:13.521221Z",
     "iopub.status.busy": "2021-10-13T17:21:13.520801Z",
     "iopub.status.idle": "2021-10-13T17:21:13.522713Z",
     "shell.execute_reply": "2021-10-13T17:21:13.522256Z"
    },
    "papermill": {
     "duration": 0.02928,
     "end_time": "2021-10-13T17:21:13.522804",
     "exception": false,
     "start_time": "2021-10-13T17:21:13.493524",
     "status": "completed"
    },
    "tags": []
   },
   "outputs": [],
   "source": [
    "dataset_path = '../artifacts/dataset_processed/'"
   ]
  },
  {
   "cell_type": "markdown",
   "id": "distinguished-validity",
   "metadata": {},
   "source": [
    "If the dataset was not prepared from the previous notebook, we can downaload the dataset checkpoint."
   ]
  },
  {
   "cell_type": "code",
   "execution_count": 4,
   "id": "historical-rebel",
   "metadata": {},
   "outputs": [],
   "source": [
    "# %%bash\n",
    "# cd ./artifacts/\n",
    "# wget https://github.com/npatta01/pytorch-serving-workshop/releases/download/v0.0.1/dataset_processed.zip\n",
    "# tar -xvf dataset_processed.zip"
   ]
  },
  {
   "cell_type": "code",
   "execution_count": null,
   "id": "shared-anger",
   "metadata": {},
   "outputs": [],
   "source": []
  },
  {
   "cell_type": "code",
   "execution_count": 5,
   "id": "ignored-product",
   "metadata": {
    "execution": {
     "iopub.execute_input": "2021-10-13T17:21:13.576085Z",
     "iopub.status.busy": "2021-10-13T17:21:13.575678Z",
     "iopub.status.idle": "2021-10-13T17:21:14.716937Z",
     "shell.execute_reply": "2021-10-13T17:21:14.717253Z"
    },
    "papermill": {
     "duration": 1.169419,
     "end_time": "2021-10-13T17:21:14.717383",
     "exception": false,
     "start_time": "2021-10-13T17:21:13.547964",
     "status": "completed"
    },
    "tags": []
   },
   "outputs": [
    {
     "data": {
      "text/plain": [
       "DatasetDict({\n",
       "    train: Dataset({\n",
       "        features: ['text', 'item_name', 'label', 'brand', 'item_id', 'main_image_id', 'node'],\n",
       "        num_rows: 72743\n",
       "    })\n",
       "    test: Dataset({\n",
       "        features: ['text', 'item_name', 'label', 'brand', 'item_id', 'main_image_id', 'node'],\n",
       "        num_rows: 24248\n",
       "    })\n",
       "    valid: Dataset({\n",
       "        features: ['text', 'item_name', 'label', 'brand', 'item_id', 'main_image_id', 'node'],\n",
       "        num_rows: 24248\n",
       "    })\n",
       "})"
      ]
     },
     "execution_count": 5,
     "metadata": {},
     "output_type": "execute_result"
    }
   ],
   "source": [
    "raw_datasets = datasets.load_from_disk(dataset_path)\n",
    "raw_datasets"
   ]
  },
  {
   "cell_type": "markdown",
   "id": "needed-boards",
   "metadata": {
    "papermill": {
     "duration": 0.025746,
     "end_time": "2021-10-13T17:21:14.768956",
     "exception": false,
     "start_time": "2021-10-13T17:21:14.743210",
     "status": "completed"
    },
    "tags": []
   },
   "source": [
    "60% , 20% , 20% for training/test/validation"
   ]
  },
  {
   "cell_type": "code",
   "execution_count": null,
   "id": "retained-tissue",
   "metadata": {},
   "outputs": [],
   "source": []
  },
  {
   "cell_type": "markdown",
   "id": "hairy-romantic",
   "metadata": {
    "papermill": {
     "duration": 0.025281,
     "end_time": "2021-10-13T17:21:14.819612",
     "exception": false,
     "start_time": "2021-10-13T17:21:14.794331",
     "status": "completed"
    },
    "tags": []
   },
   "source": [
    "sample record in the data"
   ]
  },
  {
   "cell_type": "code",
   "execution_count": 6,
   "id": "selected-drinking",
   "metadata": {
    "execution": {
     "iopub.execute_input": "2021-10-13T17:21:14.901547Z",
     "iopub.status.busy": "2021-10-13T17:21:14.900827Z",
     "iopub.status.idle": "2021-10-13T17:21:14.903895Z",
     "shell.execute_reply": "2021-10-13T17:21:14.904214Z"
    },
    "papermill": {
     "duration": 0.05916,
     "end_time": "2021-10-13T17:21:14.904323",
     "exception": false,
     "start_time": "2021-10-13T17:21:14.845163",
     "status": "completed"
    },
    "tags": []
   },
   "outputs": [
    {
     "data": {
      "text/plain": [
       "{'text': 'Amazon Brand - Solimo Designer Light Blue Flower Photography 3D Printed Hard Back Case Mobile Cover for Sony Xperia L1',\n",
       " 'item_name': 'Amazon Brand - Solimo Designer Light Blue Flower Photography 3D Printed Hard Back Case Mobile Cover for Sony Xperia L1',\n",
       " 'label': 2,\n",
       " 'brand': 'Amazon Brand - Solimo',\n",
       " 'item_id': 'B07THC7RSK',\n",
       " 'main_image_id': '71PBcKpr8jL',\n",
       " 'node': '/Categories/Mobiles & Accessories/Mobile Accessories/Cases & Covers/Back & Bumper Cases'}"
      ]
     },
     "execution_count": 6,
     "metadata": {},
     "output_type": "execute_result"
    }
   ],
   "source": [
    "raw_datasets['train'][0]"
   ]
  },
  {
   "cell_type": "markdown",
   "id": "packed-stocks",
   "metadata": {},
   "source": [
    "ProductType is our label is Label Encoded. "
   ]
  },
  {
   "cell_type": "code",
   "execution_count": 7,
   "id": "virtual-customs",
   "metadata": {
    "execution": {
     "iopub.execute_input": "2021-10-13T17:21:14.960212Z",
     "iopub.status.busy": "2021-10-13T17:21:14.959801Z",
     "iopub.status.idle": "2021-10-13T17:21:14.962227Z",
     "shell.execute_reply": "2021-10-13T17:21:14.962575Z"
    },
    "papermill": {
     "duration": 0.032559,
     "end_time": "2021-10-13T17:21:14.962676",
     "exception": false,
     "start_time": "2021-10-13T17:21:14.930117",
     "status": "completed"
    },
    "tags": []
   },
   "outputs": [
    {
     "data": {
      "text/plain": [
       "['ACCESSORY',\n",
       " 'BOOT',\n",
       " 'CELLULAR_PHONE_CASE',\n",
       " 'CHAIR',\n",
       " 'EARRING',\n",
       " 'FINEEARRING',\n",
       " 'FINENECKLACEBRACELETANKLET',\n",
       " 'FINERING',\n",
       " 'GROCERY',\n",
       " 'HANDBAG',\n",
       " 'HARDWARE_HANDLE',\n",
       " 'HAT',\n",
       " 'HEALTH_PERSONAL_CARE',\n",
       " 'HOME',\n",
       " 'HOME_BED_AND_BATH',\n",
       " 'HOME_FURNITURE_AND_DECOR',\n",
       " 'JANITORIAL_SUPPLY',\n",
       " 'KITCHEN',\n",
       " 'LAMP',\n",
       " 'LIGHT_BULB',\n",
       " 'LIGHT_FIXTURE',\n",
       " 'OFFICE_PRODUCTS',\n",
       " 'OUTDOOR_LIVING',\n",
       " 'PET_SUPPLIES',\n",
       " 'RUG',\n",
       " 'SANDAL',\n",
       " 'SHOES',\n",
       " 'SOFA',\n",
       " 'SPORTING_GOODS',\n",
       " 'TABLE',\n",
       " 'WALL_ART']"
      ]
     },
     "execution_count": 7,
     "metadata": {},
     "output_type": "execute_result"
    }
   ],
   "source": [
    "labels = raw_datasets['train'].features['label'].names\n",
    "labels"
   ]
  },
  {
   "cell_type": "code",
   "execution_count": 8,
   "id": "demanding-water",
   "metadata": {
    "execution": {
     "iopub.execute_input": "2021-10-13T17:21:15.019347Z",
     "iopub.status.busy": "2021-10-13T17:21:15.018917Z",
     "iopub.status.idle": "2021-10-13T17:21:15.020840Z",
     "shell.execute_reply": "2021-10-13T17:21:15.020477Z"
    },
    "papermill": {
     "duration": 0.03172,
     "end_time": "2021-10-13T17:21:15.020937",
     "exception": false,
     "start_time": "2021-10-13T17:21:14.989217",
     "status": "completed"
    },
    "tags": []
   },
   "outputs": [],
   "source": [
    "label2id = {}\n",
    "for idx, label in enumerate(labels) : \n",
    "    label2id[label] = idx"
   ]
  },
  {
   "cell_type": "code",
   "execution_count": null,
   "id": "primary-azerbaijan",
   "metadata": {
    "papermill": {
     "duration": 0.026662,
     "end_time": "2021-10-13T17:21:15.074202",
     "exception": false,
     "start_time": "2021-10-13T17:21:15.047540",
     "status": "completed"
    },
    "tags": []
   },
   "outputs": [],
   "source": []
  },
  {
   "cell_type": "code",
   "execution_count": 9,
   "id": "promising-chambers",
   "metadata": {},
   "outputs": [],
   "source": [
    "base_model = \"distilbert-base-uncased\""
   ]
  },
  {
   "cell_type": "code",
   "execution_count": 10,
   "id": "empirical-modern",
   "metadata": {},
   "outputs": [
    {
     "name": "stderr",
     "output_type": "stream",
     "text": [
      "\u001b[34m\u001b[1mwandb\u001b[0m: Currently logged in as: \u001b[33mnpatta01\u001b[0m (use `wandb login --relogin` to force relogin)\n",
      "\u001b[34m\u001b[1mwandb\u001b[0m: wandb version 0.12.5 is available!  To upgrade, please run:\n",
      "\u001b[34m\u001b[1mwandb\u001b[0m:  $ pip install wandb --upgrade\n"
     ]
    },
    {
     "data": {
      "text/html": [
       "\n",
       "                Tracking run with wandb version 0.12.0<br/>\n",
       "                Syncing run <strong style=\"color:#cdcd00\">distilbert-base-uncased</strong> to <a href=\"https://wandb.ai\" target=\"_blank\">Weights & Biases</a> <a href=\"https://docs.wandb.com/integrations/jupyter.html\" target=\"_blank\">(Documentation)</a>.<br/>\n",
       "                Project page: <a href=\"https://wandb.ai/npatta01/amazon_pt_classification\" target=\"_blank\">https://wandb.ai/npatta01/amazon_pt_classification</a><br/>\n",
       "                Run page: <a href=\"https://wandb.ai/npatta01/amazon_pt_classification/runs/2kx9x325\" target=\"_blank\">https://wandb.ai/npatta01/amazon_pt_classification/runs/2kx9x325</a><br/>\n",
       "                Run data is saved locally in <code>/home/jupyter/tutorials/personal/pydata_bert/notebooks/wandb/run-20211025_121351-2kx9x325</code><br/><br/>\n",
       "            "
      ],
      "text/plain": [
       "<IPython.core.display.HTML object>"
      ]
     },
     "metadata": {},
     "output_type": "display_data"
    },
    {
     "data": {
      "text/html": [
       "<h1>Run(2kx9x325)</h1><iframe src=\"https://wandb.ai/npatta01/amazon_pt_classification/runs/2kx9x325\" style=\"border:none;width:100%;height:400px\"></iframe>"
      ],
      "text/plain": [
       "<wandb.sdk.wandb_run.Run at 0x7fb9daf7e790>"
      ]
     },
     "execution_count": 10,
     "metadata": {},
     "output_type": "execute_result"
    }
   ],
   "source": [
    "wandb.init(project=\"amazon_pt_classification\", \n",
    "           name=base_model,\n",
    "           group=\"bert\")"
   ]
  },
  {
   "cell_type": "markdown",
   "id": "defensive-metro",
   "metadata": {
    "papermill": {
     "duration": 0.026872,
     "end_time": "2021-10-13T17:21:15.127790",
     "exception": false,
     "start_time": "2021-10-13T17:21:15.100918",
     "status": "completed"
    },
    "tags": []
   },
   "source": [
    "## Tokenizer"
   ]
  },
  {
   "cell_type": "markdown",
   "id": "rental-exemption",
   "metadata": {},
   "source": [
    "Load pretrained `distilbert-base-uncased` tokenizer form huggingface"
   ]
  },
  {
   "cell_type": "code",
   "execution_count": 11,
   "id": "supported-warehouse",
   "metadata": {
    "execution": {
     "iopub.execute_input": "2021-10-13T17:21:15.182603Z",
     "iopub.status.busy": "2021-10-13T17:21:15.182175Z",
     "iopub.status.idle": "2021-10-13T17:21:18.958860Z",
     "shell.execute_reply": "2021-10-13T17:21:18.958251Z"
    },
    "papermill": {
     "duration": 3.80527,
     "end_time": "2021-10-13T17:21:18.958980",
     "exception": false,
     "start_time": "2021-10-13T17:21:15.153710",
     "status": "completed"
    },
    "tags": []
   },
   "outputs": [],
   "source": [
    "tokenizer = transformers.AutoTokenizer.from_pretrained(base_model )"
   ]
  },
  {
   "cell_type": "markdown",
   "id": "vertical-audience",
   "metadata": {},
   "source": [
    "tokenize the `text` column in our dataset, truncating and padding "
   ]
  },
  {
   "cell_type": "code",
   "execution_count": 12,
   "id": "pacific-reference",
   "metadata": {
    "execution": {
     "iopub.execute_input": "2021-10-13T17:21:19.130327Z",
     "iopub.status.busy": "2021-10-13T17:21:19.129587Z",
     "iopub.status.idle": "2021-10-13T17:21:21.483861Z",
     "shell.execute_reply": "2021-10-13T17:21:21.483471Z"
    },
    "papermill": {
     "duration": 2.39126,
     "end_time": "2021-10-13T17:21:21.483979",
     "exception": false,
     "start_time": "2021-10-13T17:21:19.092719",
     "status": "completed"
    },
    "tags": []
   },
   "outputs": [
    {
     "name": "stderr",
     "output_type": "stream",
     "text": [
      "Loading cached processed dataset at ../artifacts/dataset_processed/train/cache-91dddd5c6693cb48.arrow\n",
      "Loading cached processed dataset at ../artifacts/dataset_processed/test/cache-210e3b6a481560ef.arrow\n",
      "Loading cached processed dataset at ../artifacts/dataset_processed/valid/cache-210e3b6a481560ef.arrow\n"
     ]
    }
   ],
   "source": [
    "def tokenize_function(examples):\n",
    "    return tokenizer(examples[\"text\"], padding=\"max_length\", truncation=True)\n",
    "\n",
    "tokenized_datasets = raw_datasets.map(tokenize_function, batched=True)"
   ]
  },
  {
   "cell_type": "code",
   "execution_count": null,
   "id": "primary-tumor",
   "metadata": {
    "papermill": {
     "duration": 0.027999,
     "end_time": "2021-10-13T17:21:21.539912",
     "exception": false,
     "start_time": "2021-10-13T17:21:21.511913",
     "status": "completed"
    },
    "tags": []
   },
   "outputs": [],
   "source": []
  },
  {
   "cell_type": "code",
   "execution_count": 13,
   "id": "tracked-cosmetic",
   "metadata": {
    "execution": {
     "iopub.execute_input": "2021-10-13T17:21:21.602632Z",
     "iopub.status.busy": "2021-10-13T17:21:21.602109Z",
     "iopub.status.idle": "2021-10-13T17:21:21.687898Z",
     "shell.execute_reply": "2021-10-13T17:21:21.687559Z"
    },
    "papermill": {
     "duration": 0.117699,
     "end_time": "2021-10-13T17:21:21.688001",
     "exception": false,
     "start_time": "2021-10-13T17:21:21.570302",
     "status": "completed"
    },
    "tags": []
   },
   "outputs": [
    {
     "name": "stderr",
     "output_type": "stream",
     "text": [
      "Loading cached shuffled indices for dataset at ../artifacts/dataset_processed/train/cache-ab74ad238ba10df3.arrow\n",
      "Loading cached shuffled indices for dataset at ../artifacts/dataset_processed/valid/cache-57f900317716264e.arrow\n",
      "Loading cached shuffled indices for dataset at ../artifacts/dataset_processed/test/cache-57f900317716264e.arrow\n"
     ]
    }
   ],
   "source": [
    "subset = tokenized_datasets[\"train\"].num_rows\n",
    "# uncomment the below line to only train on subset\n",
    "#subset = 2_000   \n",
    "\n",
    "\n",
    "train_dataset = tokenized_datasets[\"train\"].shuffle(seed=42)\n",
    "valid_dataset = tokenized_datasets[\"valid\"].shuffle(seed=42)\n",
    "test_dataset = tokenized_datasets[\"test\"].shuffle(seed=42)\n",
    "\n",
    "\n",
    "# if we only want, less than 5_000 rows\n",
    "if subset < 5_000:\n",
    "    train_dataset = train_dataset.select(range(subset)) \n",
    "    valid_dataset = valid_dataset.select(range(subset)) \n",
    "    test_dataset = test_dataset.select(range(subset)) "
   ]
  },
  {
   "cell_type": "code",
   "execution_count": 14,
   "id": "norwegian-symphony",
   "metadata": {
    "execution": {
     "iopub.execute_input": "2021-10-13T17:21:21.749899Z",
     "iopub.status.busy": "2021-10-13T17:21:21.749495Z",
     "iopub.status.idle": "2021-10-13T17:21:21.751357Z",
     "shell.execute_reply": "2021-10-13T17:21:21.751019Z"
    },
    "papermill": {
     "duration": 0.035095,
     "end_time": "2021-10-13T17:21:21.751480",
     "exception": false,
     "start_time": "2021-10-13T17:21:21.716385",
     "status": "completed"
    },
    "tags": []
   },
   "outputs": [],
   "source": [
    "id2label = {idx:label for idx, label in enumerate(labels)}\n",
    "label2id = {label:idx for idx, label in enumerate(labels)}"
   ]
  },
  {
   "cell_type": "markdown",
   "id": "national-bookmark",
   "metadata": {},
   "source": [
    "## Training "
   ]
  },
  {
   "cell_type": "markdown",
   "id": "developed-northern",
   "metadata": {},
   "source": [
    "use pretrained `distilbert-base-uncased` model as base for classification task"
   ]
  },
  {
   "cell_type": "code",
   "execution_count": 15,
   "id": "artistic-participant",
   "metadata": {
    "execution": {
     "iopub.execute_input": "2021-10-13T17:21:21.810491Z",
     "iopub.status.busy": "2021-10-13T17:21:21.809837Z",
     "iopub.status.idle": "2021-10-13T17:21:25.612369Z",
     "shell.execute_reply": "2021-10-13T17:21:25.611931Z"
    },
    "papermill": {
     "duration": 3.833493,
     "end_time": "2021-10-13T17:21:25.612475",
     "exception": false,
     "start_time": "2021-10-13T17:21:21.778982",
     "status": "completed"
    },
    "tags": []
   },
   "outputs": [
    {
     "name": "stderr",
     "output_type": "stream",
     "text": [
      "Some weights of the model checkpoint at distilbert-base-uncased were not used when initializing DistilBertForSequenceClassification: ['vocab_projector.weight', 'vocab_projector.bias', 'vocab_transform.bias', 'vocab_transform.weight', 'vocab_layer_norm.bias', 'vocab_layer_norm.weight']\n",
      "- This IS expected if you are initializing DistilBertForSequenceClassification from the checkpoint of a model trained on another task or with another architecture (e.g. initializing a BertForSequenceClassification model from a BertForPreTraining model).\n",
      "- This IS NOT expected if you are initializing DistilBertForSequenceClassification from the checkpoint of a model that you expect to be exactly identical (initializing a BertForSequenceClassification model from a BertForSequenceClassification model).\n",
      "Some weights of DistilBertForSequenceClassification were not initialized from the model checkpoint at distilbert-base-uncased and are newly initialized: ['pre_classifier.weight', 'classifier.weight', 'classifier.bias', 'pre_classifier.bias']\n",
      "You should probably TRAIN this model on a down-stream task to be able to use it for predictions and inference.\n"
     ]
    }
   ],
   "source": [
    "model = transformers.AutoModelForSequenceClassification.from_pretrained(base_model\n",
    "                                                                        , num_labels=len(labels)\n",
    "                                                                       , label2id=label2id\n",
    "                                                                       , id2label=id2label \n",
    "                                                                       )"
   ]
  },
  {
   "cell_type": "markdown",
   "id": "minute-twenty",
   "metadata": {},
   "source": [
    "train for 5 epochs"
   ]
  },
  {
   "cell_type": "code",
   "execution_count": 16,
   "id": "wound-anger",
   "metadata": {
    "execution": {
     "iopub.execute_input": "2021-10-13T17:21:25.673751Z",
     "iopub.status.busy": "2021-10-13T17:21:25.673323Z",
     "iopub.status.idle": "2021-10-13T17:21:29.038840Z",
     "shell.execute_reply": "2021-10-13T17:21:29.039155Z"
    },
    "papermill": {
     "duration": 3.397789,
     "end_time": "2021-10-13T17:21:29.039291",
     "exception": false,
     "start_time": "2021-10-13T17:21:25.641502",
     "status": "completed"
    },
    "tags": []
   },
   "outputs": [],
   "source": [
    "training_args = transformers.TrainingArguments(f\"trainer_{base_model}\"\n",
    "                                  , evaluation_strategy=\"epoch\"\n",
    "                                  , save_strategy=\"epoch\"\n",
    "                                  , logging_steps=100\n",
    "                                 # , eval_steps=100\n",
    "                                  , load_best_model_at_end=True\n",
    "                                  ,num_train_epochs=5,              # total number of training epochs\n",
    "                                               \n",
    "                                  report_to=\"wandb\",  # enable logging to W&B\n",
    "                                               \n",
    "                                 )"
   ]
  },
  {
   "cell_type": "markdown",
   "id": "noble-pilot",
   "metadata": {},
   "source": [
    "compute the below metrics per epoch `f1` ,`accuracy` , `precision` , `recall`"
   ]
  },
  {
   "cell_type": "code",
   "execution_count": 17,
   "id": "grand-judges",
   "metadata": {
    "execution": {
     "iopub.execute_input": "2021-10-13T17:21:29.101769Z",
     "iopub.status.busy": "2021-10-13T17:21:29.101263Z",
     "iopub.status.idle": "2021-10-13T17:21:33.181614Z",
     "shell.execute_reply": "2021-10-13T17:21:33.181202Z"
    },
    "papermill": {
     "duration": 4.11296,
     "end_time": "2021-10-13T17:21:33.181720",
     "exception": false,
     "start_time": "2021-10-13T17:21:29.068760",
     "status": "completed"
    },
    "tags": []
   },
   "outputs": [],
   "source": [
    "metric_f1 = datasets.load_metric('f1')\n",
    "metric_accuracy = datasets.load_metric('accuracy')\n",
    "metric_precision = datasets.load_metric('precision')\n",
    "metric_recall = datasets.load_metric('recall')"
   ]
  },
  {
   "cell_type": "code",
   "execution_count": 18,
   "id": "romance-salmon",
   "metadata": {
    "execution": {
     "iopub.execute_input": "2021-10-13T17:21:33.245928Z",
     "iopub.status.busy": "2021-10-13T17:21:33.245476Z",
     "iopub.status.idle": "2021-10-13T17:21:33.247220Z",
     "shell.execute_reply": "2021-10-13T17:21:33.247542Z"
    },
    "papermill": {
     "duration": 0.03606,
     "end_time": "2021-10-13T17:21:33.247660",
     "exception": false,
     "start_time": "2021-10-13T17:21:33.211600",
     "status": "completed"
    },
    "tags": []
   },
   "outputs": [],
   "source": [
    "def compute_metrics(eval_pred):\n",
    "    metrics_dict = {}\n",
    "    predictions, labels = eval_pred\n",
    "    predictions = np.argmax(predictions, axis=1)\n",
    "    \n",
    "    metrics_dict.update(metric_f1.compute(predictions = predictions, references = labels, average = 'macro'))\n",
    "    metrics_dict.update(metric_accuracy.compute(predictions = predictions, references = labels))\n",
    "    metrics_dict.update(metric_precision.compute(predictions = predictions, references = labels, average = 'macro'))\n",
    "    metrics_dict.update(metric_recall.compute(predictions = predictions, references = labels, average = 'macro'))\n",
    "    return metrics_dict"
   ]
  },
  {
   "cell_type": "code",
   "execution_count": null,
   "id": "bottom-setup",
   "metadata": {
    "papermill": {
     "duration": 0.028818,
     "end_time": "2021-10-13T17:21:33.305659",
     "exception": false,
     "start_time": "2021-10-13T17:21:33.276841",
     "status": "completed"
    },
    "tags": []
   },
   "outputs": [],
   "source": []
  },
  {
   "cell_type": "code",
   "execution_count": 19,
   "id": "opening-facial",
   "metadata": {
    "execution": {
     "iopub.execute_input": "2021-10-13T17:21:33.366048Z",
     "iopub.status.busy": "2021-10-13T17:21:33.365636Z",
     "iopub.status.idle": "2021-10-13T17:22:01.055700Z",
     "shell.execute_reply": "2021-10-13T17:22:01.055191Z"
    },
    "papermill": {
     "duration": 27.721536,
     "end_time": "2021-10-13T17:22:01.055828",
     "exception": false,
     "start_time": "2021-10-13T17:21:33.334292",
     "status": "completed"
    },
    "tags": []
   },
   "outputs": [],
   "source": [
    "trainer = transformers.Trainer(\n",
    "    model=model, \n",
    "    args=training_args, \n",
    "    train_dataset=train_dataset, \n",
    "    eval_dataset=valid_dataset,\n",
    "    compute_metrics=compute_metrics,\n",
    ")\n"
   ]
  },
  {
   "cell_type": "code",
   "execution_count": 20,
   "id": "valuable-franchise",
   "metadata": {
    "execution": {
     "iopub.execute_input": "2021-10-13T17:22:01.121218Z",
     "iopub.status.busy": "2021-10-13T17:22:01.120759Z",
     "iopub.status.idle": "2021-10-13T21:27:14.589828Z",
     "shell.execute_reply": "2021-10-13T21:27:14.589486Z"
    },
    "papermill": {
     "duration": 14713.503642,
     "end_time": "2021-10-13T21:27:14.589932",
     "exception": false,
     "start_time": "2021-10-13T17:22:01.086290",
     "status": "completed"
    },
    "tags": []
   },
   "outputs": [
    {
     "name": "stderr",
     "output_type": "stream",
     "text": [
      "The following columns in the training set  don't have a corresponding argument in `DistilBertForSequenceClassification.forward` and have been ignored: brand, item_name, main_image_id, text, node, item_id.\n",
      "***** Running training *****\n",
      "  Num examples = 72743\n",
      "  Num Epochs = 5\n",
      "  Instantaneous batch size per device = 8\n",
      "  Total train batch size (w. parallel, distributed & accumulation) = 32\n",
      "  Gradient Accumulation steps = 1\n",
      "  Total optimization steps = 11370\n",
      "Automatic Weights & Biases logging enabled, to disable set os.environ[\"WANDB_DISABLED\"] = \"true\"\n",
      "/opt/conda/envs/pytorch/lib/python3.7/site-packages/torch/nn/parallel/_functions.py:68: UserWarning: Was asked to gather along dimension 0, but all input tensors were scalars; will instead unsqueeze and return a vector.\n",
      "  warnings.warn('Was asked to gather along dimension 0, but all '\n"
     ]
    },
    {
     "data": {
      "text/html": [
       "\n",
       "    <div>\n",
       "      \n",
       "      <progress value='11370' max='11370' style='width:300px; height:20px; vertical-align: middle;'></progress>\n",
       "      [11370/11370 1:50:16, Epoch 5/5]\n",
       "    </div>\n",
       "    <table border=\"1\" class=\"dataframe\">\n",
       "  <thead>\n",
       "    <tr style=\"text-align: left;\">\n",
       "      <th>Epoch</th>\n",
       "      <th>Training Loss</th>\n",
       "      <th>Validation Loss</th>\n",
       "      <th>F1</th>\n",
       "      <th>Accuracy</th>\n",
       "      <th>Precision</th>\n",
       "      <th>Recall</th>\n",
       "    </tr>\n",
       "  </thead>\n",
       "  <tbody>\n",
       "    <tr>\n",
       "      <td>1</td>\n",
       "      <td>0.220600</td>\n",
       "      <td>0.193368</td>\n",
       "      <td>0.828716</td>\n",
       "      <td>0.937314</td>\n",
       "      <td>0.839927</td>\n",
       "      <td>0.827172</td>\n",
       "    </tr>\n",
       "    <tr>\n",
       "      <td>2</td>\n",
       "      <td>0.143900</td>\n",
       "      <td>0.161710</td>\n",
       "      <td>0.878744</td>\n",
       "      <td>0.952202</td>\n",
       "      <td>0.880289</td>\n",
       "      <td>0.880964</td>\n",
       "    </tr>\n",
       "    <tr>\n",
       "      <td>3</td>\n",
       "      <td>0.093800</td>\n",
       "      <td>0.161818</td>\n",
       "      <td>0.889904</td>\n",
       "      <td>0.956739</td>\n",
       "      <td>0.902305</td>\n",
       "      <td>0.880800</td>\n",
       "    </tr>\n",
       "    <tr>\n",
       "      <td>4</td>\n",
       "      <td>0.059100</td>\n",
       "      <td>0.167562</td>\n",
       "      <td>0.893829</td>\n",
       "      <td>0.959131</td>\n",
       "      <td>0.897912</td>\n",
       "      <td>0.891549</td>\n",
       "    </tr>\n",
       "    <tr>\n",
       "      <td>5</td>\n",
       "      <td>0.033600</td>\n",
       "      <td>0.179393</td>\n",
       "      <td>0.900268</td>\n",
       "      <td>0.960698</td>\n",
       "      <td>0.902669</td>\n",
       "      <td>0.898780</td>\n",
       "    </tr>\n",
       "  </tbody>\n",
       "</table><p>"
      ],
      "text/plain": [
       "<IPython.core.display.HTML object>"
      ]
     },
     "metadata": {},
     "output_type": "display_data"
    },
    {
     "name": "stderr",
     "output_type": "stream",
     "text": [
      "The following columns in the evaluation set  don't have a corresponding argument in `DistilBertForSequenceClassification.forward` and have been ignored: brand, item_name, main_image_id, text, node, item_id.\n",
      "***** Running Evaluation *****\n",
      "  Num examples = 24248\n",
      "  Batch size = 32\n",
      "Saving model checkpoint to trainer_distilbert-base-uncased/checkpoint-2274\n",
      "Configuration saved in trainer_distilbert-base-uncased/checkpoint-2274/config.json\n",
      "Model weights saved in trainer_distilbert-base-uncased/checkpoint-2274/pytorch_model.bin\n",
      "/opt/conda/envs/pytorch/lib/python3.7/site-packages/torch/nn/parallel/_functions.py:68: UserWarning: Was asked to gather along dimension 0, but all input tensors were scalars; will instead unsqueeze and return a vector.\n",
      "  warnings.warn('Was asked to gather along dimension 0, but all '\n",
      "The following columns in the evaluation set  don't have a corresponding argument in `DistilBertForSequenceClassification.forward` and have been ignored: brand, item_name, main_image_id, text, node, item_id.\n",
      "***** Running Evaluation *****\n",
      "  Num examples = 24248\n",
      "  Batch size = 32\n",
      "Saving model checkpoint to trainer_distilbert-base-uncased/checkpoint-4548\n",
      "Configuration saved in trainer_distilbert-base-uncased/checkpoint-4548/config.json\n",
      "Model weights saved in trainer_distilbert-base-uncased/checkpoint-4548/pytorch_model.bin\n",
      "/opt/conda/envs/pytorch/lib/python3.7/site-packages/torch/nn/parallel/_functions.py:68: UserWarning: Was asked to gather along dimension 0, but all input tensors were scalars; will instead unsqueeze and return a vector.\n",
      "  warnings.warn('Was asked to gather along dimension 0, but all '\n",
      "The following columns in the evaluation set  don't have a corresponding argument in `DistilBertForSequenceClassification.forward` and have been ignored: brand, item_name, main_image_id, text, node, item_id.\n",
      "***** Running Evaluation *****\n",
      "  Num examples = 24248\n",
      "  Batch size = 32\n",
      "Saving model checkpoint to trainer_distilbert-base-uncased/checkpoint-6822\n",
      "Configuration saved in trainer_distilbert-base-uncased/checkpoint-6822/config.json\n",
      "Model weights saved in trainer_distilbert-base-uncased/checkpoint-6822/pytorch_model.bin\n",
      "/opt/conda/envs/pytorch/lib/python3.7/site-packages/torch/nn/parallel/_functions.py:68: UserWarning: Was asked to gather along dimension 0, but all input tensors were scalars; will instead unsqueeze and return a vector.\n",
      "  warnings.warn('Was asked to gather along dimension 0, but all '\n",
      "The following columns in the evaluation set  don't have a corresponding argument in `DistilBertForSequenceClassification.forward` and have been ignored: brand, item_name, main_image_id, text, node, item_id.\n",
      "***** Running Evaluation *****\n",
      "  Num examples = 24248\n",
      "  Batch size = 32\n",
      "Saving model checkpoint to trainer_distilbert-base-uncased/checkpoint-9096\n",
      "Configuration saved in trainer_distilbert-base-uncased/checkpoint-9096/config.json\n",
      "Model weights saved in trainer_distilbert-base-uncased/checkpoint-9096/pytorch_model.bin\n",
      "/opt/conda/envs/pytorch/lib/python3.7/site-packages/torch/nn/parallel/_functions.py:68: UserWarning: Was asked to gather along dimension 0, but all input tensors were scalars; will instead unsqueeze and return a vector.\n",
      "  warnings.warn('Was asked to gather along dimension 0, but all '\n",
      "The following columns in the evaluation set  don't have a corresponding argument in `DistilBertForSequenceClassification.forward` and have been ignored: brand, item_name, main_image_id, text, node, item_id.\n",
      "***** Running Evaluation *****\n",
      "  Num examples = 24248\n",
      "  Batch size = 32\n",
      "Saving model checkpoint to trainer_distilbert-base-uncased/checkpoint-11370\n",
      "Configuration saved in trainer_distilbert-base-uncased/checkpoint-11370/config.json\n",
      "Model weights saved in trainer_distilbert-base-uncased/checkpoint-11370/pytorch_model.bin\n",
      "\n",
      "\n",
      "Training completed. Do not forget to share your model on huggingface.co/models =)\n",
      "\n",
      "\n",
      "Loading best model from trainer_distilbert-base-uncased/checkpoint-4548 (score: 0.1617104858160019).\n"
     ]
    },
    {
     "data": {
      "text/plain": [
       "TrainOutput(global_step=11370, training_loss=0.14194499899026272, metrics={'train_runtime': 6624.8884, 'train_samples_per_second': 54.901, 'train_steps_per_second': 1.716, 'total_flos': 4.820529753380352e+16, 'train_loss': 0.14194499899026272, 'epoch': 5.0})"
      ]
     },
     "execution_count": 20,
     "metadata": {},
     "output_type": "execute_result"
    }
   ],
   "source": [
    "trainer.train()"
   ]
  },
  {
   "cell_type": "markdown",
   "id": "annoying-bradley",
   "metadata": {
    "papermill": {
     "duration": 0.045327,
     "end_time": "2021-10-13T21:27:14.680529",
     "exception": false,
     "start_time": "2021-10-13T21:27:14.635202",
     "status": "completed"
    },
    "tags": []
   },
   "source": [
    "Based on the training loss, it looks like the model is overfitting after 4 epochs"
   ]
  },
  {
   "cell_type": "code",
   "execution_count": null,
   "id": "magnetic-wonder",
   "metadata": {
    "papermill": {
     "duration": 0.044687,
     "end_time": "2021-10-13T21:27:14.768829",
     "exception": false,
     "start_time": "2021-10-13T21:27:14.724142",
     "status": "completed"
    },
    "tags": []
   },
   "outputs": [],
   "source": []
  },
  {
   "cell_type": "markdown",
   "id": "julian-colonial",
   "metadata": {},
   "source": [
    "evaluate model on validation data"
   ]
  },
  {
   "cell_type": "code",
   "execution_count": 21,
   "id": "studied-floating",
   "metadata": {
    "execution": {
     "iopub.execute_input": "2021-10-13T21:27:14.859495Z",
     "iopub.status.busy": "2021-10-13T21:27:14.859092Z",
     "iopub.status.idle": "2021-10-13T21:29:59.052976Z",
     "shell.execute_reply": "2021-10-13T21:29:59.053296Z"
    },
    "papermill": {
     "duration": 164.240204,
     "end_time": "2021-10-13T21:29:59.053447",
     "exception": false,
     "start_time": "2021-10-13T21:27:14.813243",
     "status": "completed"
    },
    "tags": []
   },
   "outputs": [
    {
     "name": "stderr",
     "output_type": "stream",
     "text": [
      "The following columns in the evaluation set  don't have a corresponding argument in `DistilBertForSequenceClassification.forward` and have been ignored: brand, item_name, main_image_id, text, node, item_id.\n",
      "***** Running Evaluation *****\n",
      "  Num examples = 24248\n",
      "  Batch size = 32\n",
      "/opt/conda/envs/pytorch/lib/python3.7/site-packages/torch/nn/parallel/_functions.py:68: UserWarning: Was asked to gather along dimension 0, but all input tensors were scalars; will instead unsqueeze and return a vector.\n",
      "  warnings.warn('Was asked to gather along dimension 0, but all '\n"
     ]
    },
    {
     "data": {
      "text/html": [
       "\n",
       "    <div>\n",
       "      \n",
       "      <progress value='1516' max='758' style='width:300px; height:20px; vertical-align: middle;'></progress>\n",
       "      [758/758 05:00]\n",
       "    </div>\n",
       "    "
      ],
      "text/plain": [
       "<IPython.core.display.HTML object>"
      ]
     },
     "metadata": {},
     "output_type": "display_data"
    },
    {
     "data": {
      "text/plain": [
       "{'eval_loss': 0.1617104858160019,\n",
       " 'eval_f1': 0.8787441306932703,\n",
       " 'eval_accuracy': 0.9522022434839987,\n",
       " 'eval_precision': 0.8802892843330817,\n",
       " 'eval_recall': 0.8809642823438425,\n",
       " 'eval_runtime': 150.0274,\n",
       " 'eval_samples_per_second': 161.624,\n",
       " 'eval_steps_per_second': 5.052,\n",
       " 'epoch': 5.0}"
      ]
     },
     "execution_count": 21,
     "metadata": {},
     "output_type": "execute_result"
    }
   ],
   "source": [
    "trainer.evaluate()"
   ]
  },
  {
   "cell_type": "code",
   "execution_count": 22,
   "id": "historical-horizontal",
   "metadata": {},
   "outputs": [
    {
     "name": "stderr",
     "output_type": "stream",
     "text": [
      "The following columns in the test set  don't have a corresponding argument in `DistilBertForSequenceClassification.forward` and have been ignored: brand, item_name, main_image_id, text, node, item_id.\n",
      "***** Running Prediction *****\n",
      "  Num examples = 24248\n",
      "  Batch size = 32\n",
      "/opt/conda/envs/pytorch/lib/python3.7/site-packages/torch/nn/parallel/_functions.py:68: UserWarning: Was asked to gather along dimension 0, but all input tensors were scalars; will instead unsqueeze and return a vector.\n",
      "  warnings.warn('Was asked to gather along dimension 0, but all '\n"
     ]
    }
   ],
   "source": [
    "raw_predictions, raw_label_ids, raw_metrics = trainer.predict(test_dataset) \n",
    "y_pred = np.argmax(raw_predictions, axis=1)\n",
    "y_true = test_dataset[\"label\"]\n"
   ]
  },
  {
   "cell_type": "code",
   "execution_count": 26,
   "id": "facial-constitution",
   "metadata": {},
   "outputs": [
    {
     "data": {
      "text/plain": [
       "['ACCESSORY',\n",
       " 'BOOT',\n",
       " 'CELLULAR_PHONE_CASE',\n",
       " 'CHAIR',\n",
       " 'EARRING',\n",
       " 'FINEEARRING',\n",
       " 'FINENECKLACEBRACELETANKLET',\n",
       " 'FINERING',\n",
       " 'GROCERY',\n",
       " 'HANDBAG',\n",
       " 'HARDWARE_HANDLE',\n",
       " 'HAT',\n",
       " 'HEALTH_PERSONAL_CARE',\n",
       " 'HOME',\n",
       " 'HOME_BED_AND_BATH',\n",
       " 'HOME_FURNITURE_AND_DECOR',\n",
       " 'JANITORIAL_SUPPLY',\n",
       " 'KITCHEN',\n",
       " 'LAMP',\n",
       " 'LIGHT_BULB',\n",
       " 'LIGHT_FIXTURE',\n",
       " 'OFFICE_PRODUCTS',\n",
       " 'OUTDOOR_LIVING',\n",
       " 'PET_SUPPLIES',\n",
       " 'RUG',\n",
       " 'SANDAL',\n",
       " 'SHOES',\n",
       " 'SOFA',\n",
       " 'SPORTING_GOODS',\n",
       " 'TABLE',\n",
       " 'WALL_ART']"
      ]
     },
     "execution_count": 26,
     "metadata": {},
     "output_type": "execute_result"
    }
   ],
   "source": [
    "cm_labels"
   ]
  },
  {
   "cell_type": "code",
   "execution_count": null,
   "id": "superior-crest",
   "metadata": {},
   "outputs": [],
   "source": [
    "test_dataset."
   ]
  },
  {
   "cell_type": "code",
   "execution_count": 38,
   "id": "alert-baghdad",
   "metadata": {
    "papermill": {
     "duration": 0.044896,
     "end_time": "2021-10-13T21:29:59.146526",
     "exception": false,
     "start_time": "2021-10-13T21:29:59.101630",
     "status": "completed"
    },
    "tags": []
   },
   "outputs": [
    {
     "data": {
      "application/vnd.plotly.v1+json": {
       "config": {
        "plotlyServerURL": "https://plot.ly"
       },
       "data": [
        {
         "colorscale": [
          [
           0,
           "rgb(255,245,240)"
          ],
          [
           0.125,
           "rgb(254,224,210)"
          ],
          [
           0.25,
           "rgb(252,187,161)"
          ],
          [
           0.375,
           "rgb(252,146,114)"
          ],
          [
           0.5,
           "rgb(251,106,74)"
          ],
          [
           0.625,
           "rgb(239,59,44)"
          ],
          [
           0.75,
           "rgb(203,24,29)"
          ],
          [
           0.875,
           "rgb(165,15,21)"
          ],
          [
           1,
           "rgb(103,0,13)"
          ]
         ],
         "hoverongaps": true,
         "reversescale": false,
         "showscale": true,
         "type": "heatmap",
         "x": [
          "ACCESSORY",
          "BOOT",
          "CELLULAR_PHONE_CASE",
          "CHAIR",
          "EARRING",
          "FINEEARRING",
          "FINENECKLACEBRACELETANKLET",
          "FINERING",
          "GROCERY",
          "HANDBAG",
          "HARDWARE_HANDLE",
          "HAT",
          "HEALTH_PERSONAL_CARE",
          "HOME",
          "HOME_BED_AND_BATH",
          "HOME_FURNITURE_AND_DECOR",
          "JANITORIAL_SUPPLY",
          "KITCHEN",
          "LAMP",
          "LIGHT_BULB",
          "LIGHT_FIXTURE",
          "OFFICE_PRODUCTS",
          "OUTDOOR_LIVING",
          "PET_SUPPLIES",
          "RUG",
          "SANDAL",
          "SHOES",
          "SOFA",
          "SPORTING_GOODS",
          "TABLE",
          "WALL_ART"
         ],
         "xtype": "array",
         "y": [
          "WALL_ART",
          "TABLE",
          "SPORTING_GOODS",
          "SOFA",
          "SHOES",
          "SANDAL",
          "RUG",
          "PET_SUPPLIES",
          "OUTDOOR_LIVING",
          "OFFICE_PRODUCTS",
          "LIGHT_FIXTURE",
          "LIGHT_BULB",
          "LAMP",
          "KITCHEN",
          "JANITORIAL_SUPPLY",
          "HOME_FURNITURE_AND_DECOR",
          "HOME_BED_AND_BATH",
          "HOME",
          "HEALTH_PERSONAL_CARE",
          "HAT",
          "HARDWARE_HANDLE",
          "HANDBAG",
          "GROCERY",
          "FINERING",
          "FINENECKLACEBRACELETANKLET",
          "FINEEARRING",
          "EARRING",
          "CHAIR",
          "CELLULAR_PHONE_CASE",
          "BOOT",
          "ACCESSORY"
         ],
         "ytype": "array",
         "z": [
          [
           0,
           0,
           0,
           0,
           0,
           0,
           0,
           0,
           0,
           0,
           0,
           0,
           0,
           1,
           0,
           0,
           0,
           0,
           0,
           0,
           0,
           0,
           0,
           0,
           0,
           0,
           0,
           1,
           0,
           1,
           117
          ],
          [
           0,
           0,
           0,
           8,
           0,
           0,
           0,
           0,
           1,
           0,
           0,
           0,
           0,
           1,
           0,
           16,
           0,
           0,
           6,
           0,
           0,
           0,
           7,
           0,
           0,
           0,
           0,
           3,
           0,
           145,
           0
          ],
          [
           0,
           0,
           0,
           0,
           0,
           0,
           0,
           0,
           2,
           0,
           3,
           1,
           1,
           12,
           8,
           1,
           1,
           1,
           0,
           0,
           1,
           8,
           1,
           2,
           0,
           0,
           0,
           0,
           153,
           0,
           0
          ],
          [
           0,
           0,
           0,
           17,
           0,
           0,
           0,
           0,
           0,
           0,
           0,
           0,
           0,
           2,
           1,
           20,
           0,
           0,
           0,
           0,
           1,
           0,
           0,
           0,
           0,
           0,
           0,
           198,
           0,
           1,
           0
          ],
          [
           8,
           98,
           0,
           0,
           0,
           0,
           0,
           0,
           0,
           1,
           0,
           0,
           1,
           0,
           0,
           0,
           0,
           0,
           0,
           0,
           0,
           0,
           0,
           0,
           0,
           90,
           2395,
           0,
           0,
           0,
           0
          ],
          [
           0,
           4,
           0,
           0,
           0,
           0,
           0,
           0,
           0,
           1,
           0,
           0,
           0,
           0,
           0,
           0,
           0,
           0,
           0,
           0,
           0,
           0,
           0,
           0,
           0,
           345,
           19,
           0,
           0,
           0,
           0
          ],
          [
           0,
           0,
           0,
           0,
           0,
           0,
           0,
           0,
           0,
           0,
           0,
           0,
           0,
           0,
           0,
           5,
           0,
           0,
           0,
           0,
           2,
           0,
           0,
           0,
           157,
           0,
           0,
           0,
           0,
           0,
           0
          ],
          [
           0,
           0,
           0,
           0,
           0,
           0,
           0,
           0,
           0,
           0,
           1,
           0,
           1,
           2,
           4,
           2,
           0,
           0,
           0,
           0,
           0,
           2,
           0,
           199,
           0,
           0,
           0,
           0,
           2,
           0,
           0
          ],
          [
           0,
           0,
           0,
           10,
           0,
           0,
           0,
           0,
           0,
           0,
           3,
           0,
           1,
           7,
           1,
           1,
           0,
           2,
           0,
           0,
           1,
           3,
           89,
           3,
           0,
           0,
           2,
           0,
           2,
           2,
           0
          ],
          [
           0,
           0,
           0,
           2,
           0,
           0,
           0,
           0,
           1,
           0,
           3,
           0,
           0,
           6,
           5,
           0,
           2,
           2,
           0,
           0,
           0,
           207,
           1,
           0,
           0,
           0,
           0,
           0,
           1,
           0,
           0
          ],
          [
           0,
           0,
           0,
           1,
           0,
           0,
           1,
           0,
           0,
           0,
           0,
           0,
           0,
           0,
           0,
           1,
           0,
           0,
           19,
           4,
           81,
           0,
           1,
           0,
           0,
           0,
           0,
           0,
           0,
           0,
           0
          ],
          [
           0,
           0,
           0,
           0,
           0,
           0,
           0,
           0,
           0,
           0,
           0,
           0,
           0,
           0,
           0,
           0,
           1,
           0,
           0,
           150,
           0,
           0,
           0,
           0,
           0,
           0,
           0,
           0,
           0,
           0,
           0
          ],
          [
           0,
           0,
           0,
           1,
           0,
           0,
           0,
           0,
           0,
           0,
           0,
           0,
           0,
           0,
           0,
           2,
           0,
           0,
           101,
           0,
           3,
           0,
           0,
           0,
           0,
           0,
           0,
           0,
           0,
           1,
           0
          ],
          [
           0,
           0,
           0,
           1,
           0,
           0,
           0,
           0,
           1,
           0,
           1,
           0,
           4,
           19,
           5,
           6,
           3,
           90,
           0,
           0,
           0,
           7,
           1,
           0,
           0,
           0,
           0,
           0,
           3,
           0,
           0
          ],
          [
           0,
           0,
           0,
           1,
           0,
           0,
           0,
           0,
           0,
           0,
           1,
           0,
           1,
           1,
           2,
           1,
           104,
           1,
           0,
           0,
           0,
           1,
           1,
           0,
           0,
           0,
           0,
           0,
           1,
           0,
           0
          ],
          [
           0,
           0,
           0,
           38,
           0,
           0,
           0,
           0,
           0,
           0,
           0,
           0,
           0,
           16,
           19,
           327,
           0,
           2,
           1,
           2,
           5,
           3,
           1,
           2,
           8,
           0,
           0,
           13,
           2,
           12,
           0
          ],
          [
           0,
           0,
           0,
           1,
           0,
           0,
           0,
           0,
           0,
           0,
           1,
           0,
           0,
           28,
           571,
           6,
           0,
           2,
           0,
           0,
           0,
           2,
           0,
           1,
           0,
           0,
           0,
           0,
           3,
           1,
           0
          ],
          [
           0,
           0,
           1,
           3,
           0,
           0,
           1,
           1,
           1,
           0,
           4,
           0,
           2,
           921,
           58,
           19,
           0,
           5,
           2,
           0,
           3,
           10,
           0,
           4,
           0,
           0,
           0,
           0,
           13,
           1,
           4
          ],
          [
           2,
           0,
           0,
           0,
           0,
           0,
           0,
           0,
           33,
           0,
           0,
           0,
           251,
           0,
           0,
           3,
           0,
           1,
           0,
           0,
           0,
           0,
           0,
           0,
           0,
           0,
           0,
           0,
           0,
           0,
           0
          ],
          [
           16,
           0,
           0,
           0,
           0,
           0,
           0,
           0,
           1,
           0,
           0,
           110,
           0,
           0,
           0,
           1,
           0,
           0,
           0,
           0,
           0,
           0,
           0,
           2,
           0,
           0,
           0,
           0,
           1,
           0,
           0
          ],
          [
           0,
           0,
           0,
           0,
           0,
           0,
           0,
           0,
           0,
           0,
           165,
           0,
           0,
           2,
           0,
           0,
           0,
           0,
           0,
           0,
           0,
           1,
           2,
           2,
           0,
           0,
           0,
           0,
           0,
           0,
           0
          ],
          [
           1,
           0,
           0,
           0,
           0,
           0,
           0,
           0,
           0,
           146,
           1,
           0,
           0,
           0,
           0,
           1,
           0,
           1,
           0,
           0,
           1,
           1,
           1,
           1,
           0,
           0,
           2,
           1,
           2,
           0,
           0
          ],
          [
           0,
           0,
           0,
           0,
           0,
           0,
           0,
           0,
           1286,
           2,
           0,
           0,
           16,
           1,
           0,
           0,
           0,
           0,
           0,
           0,
           0,
           2,
           0,
           1,
           0,
           0,
           0,
           0,
           1,
           0,
           0
          ],
          [
           0,
           0,
           0,
           0,
           2,
           3,
           11,
           291,
           0,
           0,
           0,
           0,
           0,
           1,
           0,
           0,
           0,
           0,
           0,
           0,
           0,
           0,
           0,
           0,
           0,
           0,
           0,
           0,
           0,
           0,
           0
          ],
          [
           1,
           0,
           0,
           0,
           0,
           4,
           266,
           0,
           0,
           0,
           0,
           0,
           0,
           0,
           0,
           0,
           0,
           0,
           0,
           0,
           2,
           1,
           0,
           0,
           0,
           0,
           1,
           0,
           0,
           1,
           0
          ],
          [
           2,
           0,
           0,
           0,
           18,
           191,
           11,
           2,
           1,
           0,
           0,
           0,
           0,
           0,
           0,
           0,
           0,
           0,
           0,
           0,
           2,
           1,
           0,
           0,
           0,
           0,
           0,
           0,
           0,
           0,
           0
          ],
          [
           0,
           0,
           0,
           0,
           117,
           8,
           3,
           0,
           0,
           0,
           0,
           0,
           0,
           1,
           0,
           0,
           0,
           0,
           0,
           0,
           0,
           0,
           0,
           0,
           0,
           0,
           0,
           0,
           0,
           0,
           0
          ],
          [
           1,
           0,
           0,
           313,
           0,
           0,
           0,
           0,
           0,
           0,
           1,
           0,
           0,
           3,
           3,
           51,
           0,
           0,
           0,
           0,
           0,
           0,
           3,
           0,
           0,
           0,
           0,
           40,
           0,
           5,
           0
          ],
          [
           0,
           0,
           12969,
           0,
           0,
           0,
           0,
           0,
           0,
           0,
           0,
           0,
           0,
           0,
           0,
           0,
           1,
           0,
           0,
           0,
           0,
           0,
           0,
           0,
           0,
           0,
           0,
           0,
           0,
           0,
           0
          ],
          [
           0,
           370,
           0,
           0,
           0,
           0,
           0,
           0,
           0,
           1,
           0,
           0,
           0,
           0,
           0,
           0,
           0,
           0,
           0,
           0,
           0,
           0,
           0,
           1,
           0,
           2,
           28,
           0,
           0,
           0,
           0
          ],
          [
           264,
           1,
           0,
           0,
           0,
           0,
           0,
           0,
           0,
           3,
           0,
           4,
           0,
           1,
           0,
           0,
           0,
           0,
           0,
           0,
           0,
           0,
           0,
           0,
           0,
           0,
           0,
           0,
           0,
           0,
           0
          ]
         ]
        }
       ],
       "layout": {
        "annotations": [
         {
          "font": {
           "color": "#000000",
           "size": 8
          },
          "showarrow": false,
          "text": "0",
          "x": "ACCESSORY",
          "xref": "x",
          "y": "WALL_ART",
          "yref": "y"
         },
         {
          "font": {
           "color": "#000000",
           "size": 8
          },
          "showarrow": false,
          "text": "0",
          "x": "BOOT",
          "xref": "x",
          "y": "WALL_ART",
          "yref": "y"
         },
         {
          "font": {
           "color": "#000000",
           "size": 8
          },
          "showarrow": false,
          "text": "0",
          "x": "CELLULAR_PHONE_CASE",
          "xref": "x",
          "y": "WALL_ART",
          "yref": "y"
         },
         {
          "font": {
           "color": "#000000",
           "size": 8
          },
          "showarrow": false,
          "text": "0",
          "x": "CHAIR",
          "xref": "x",
          "y": "WALL_ART",
          "yref": "y"
         },
         {
          "font": {
           "color": "#000000",
           "size": 8
          },
          "showarrow": false,
          "text": "0",
          "x": "EARRING",
          "xref": "x",
          "y": "WALL_ART",
          "yref": "y"
         },
         {
          "font": {
           "color": "#000000",
           "size": 8
          },
          "showarrow": false,
          "text": "0",
          "x": "FINEEARRING",
          "xref": "x",
          "y": "WALL_ART",
          "yref": "y"
         },
         {
          "font": {
           "color": "#000000",
           "size": 8
          },
          "showarrow": false,
          "text": "0",
          "x": "FINENECKLACEBRACELETANKLET",
          "xref": "x",
          "y": "WALL_ART",
          "yref": "y"
         },
         {
          "font": {
           "color": "#000000",
           "size": 8
          },
          "showarrow": false,
          "text": "0",
          "x": "FINERING",
          "xref": "x",
          "y": "WALL_ART",
          "yref": "y"
         },
         {
          "font": {
           "color": "#000000",
           "size": 8
          },
          "showarrow": false,
          "text": "0",
          "x": "GROCERY",
          "xref": "x",
          "y": "WALL_ART",
          "yref": "y"
         },
         {
          "font": {
           "color": "#000000",
           "size": 8
          },
          "showarrow": false,
          "text": "0",
          "x": "HANDBAG",
          "xref": "x",
          "y": "WALL_ART",
          "yref": "y"
         },
         {
          "font": {
           "color": "#000000",
           "size": 8
          },
          "showarrow": false,
          "text": "0",
          "x": "HARDWARE_HANDLE",
          "xref": "x",
          "y": "WALL_ART",
          "yref": "y"
         },
         {
          "font": {
           "color": "#000000",
           "size": 8
          },
          "showarrow": false,
          "text": "0",
          "x": "HAT",
          "xref": "x",
          "y": "WALL_ART",
          "yref": "y"
         },
         {
          "font": {
           "color": "#000000",
           "size": 8
          },
          "showarrow": false,
          "text": "0",
          "x": "HEALTH_PERSONAL_CARE",
          "xref": "x",
          "y": "WALL_ART",
          "yref": "y"
         },
         {
          "font": {
           "color": "#000000",
           "size": 8
          },
          "showarrow": false,
          "text": "1",
          "x": "HOME",
          "xref": "x",
          "y": "WALL_ART",
          "yref": "y"
         },
         {
          "font": {
           "color": "#000000",
           "size": 8
          },
          "showarrow": false,
          "text": "0",
          "x": "HOME_BED_AND_BATH",
          "xref": "x",
          "y": "WALL_ART",
          "yref": "y"
         },
         {
          "font": {
           "color": "#000000",
           "size": 8
          },
          "showarrow": false,
          "text": "0",
          "x": "HOME_FURNITURE_AND_DECOR",
          "xref": "x",
          "y": "WALL_ART",
          "yref": "y"
         },
         {
          "font": {
           "color": "#000000",
           "size": 8
          },
          "showarrow": false,
          "text": "0",
          "x": "JANITORIAL_SUPPLY",
          "xref": "x",
          "y": "WALL_ART",
          "yref": "y"
         },
         {
          "font": {
           "color": "#000000",
           "size": 8
          },
          "showarrow": false,
          "text": "0",
          "x": "KITCHEN",
          "xref": "x",
          "y": "WALL_ART",
          "yref": "y"
         },
         {
          "font": {
           "color": "#000000",
           "size": 8
          },
          "showarrow": false,
          "text": "0",
          "x": "LAMP",
          "xref": "x",
          "y": "WALL_ART",
          "yref": "y"
         },
         {
          "font": {
           "color": "#000000",
           "size": 8
          },
          "showarrow": false,
          "text": "0",
          "x": "LIGHT_BULB",
          "xref": "x",
          "y": "WALL_ART",
          "yref": "y"
         },
         {
          "font": {
           "color": "#000000",
           "size": 8
          },
          "showarrow": false,
          "text": "0",
          "x": "LIGHT_FIXTURE",
          "xref": "x",
          "y": "WALL_ART",
          "yref": "y"
         },
         {
          "font": {
           "color": "#000000",
           "size": 8
          },
          "showarrow": false,
          "text": "0",
          "x": "OFFICE_PRODUCTS",
          "xref": "x",
          "y": "WALL_ART",
          "yref": "y"
         },
         {
          "font": {
           "color": "#000000",
           "size": 8
          },
          "showarrow": false,
          "text": "0",
          "x": "OUTDOOR_LIVING",
          "xref": "x",
          "y": "WALL_ART",
          "yref": "y"
         },
         {
          "font": {
           "color": "#000000",
           "size": 8
          },
          "showarrow": false,
          "text": "0",
          "x": "PET_SUPPLIES",
          "xref": "x",
          "y": "WALL_ART",
          "yref": "y"
         },
         {
          "font": {
           "color": "#000000",
           "size": 8
          },
          "showarrow": false,
          "text": "0",
          "x": "RUG",
          "xref": "x",
          "y": "WALL_ART",
          "yref": "y"
         },
         {
          "font": {
           "color": "#000000",
           "size": 8
          },
          "showarrow": false,
          "text": "0",
          "x": "SANDAL",
          "xref": "x",
          "y": "WALL_ART",
          "yref": "y"
         },
         {
          "font": {
           "color": "#000000",
           "size": 8
          },
          "showarrow": false,
          "text": "0",
          "x": "SHOES",
          "xref": "x",
          "y": "WALL_ART",
          "yref": "y"
         },
         {
          "font": {
           "color": "#000000",
           "size": 8
          },
          "showarrow": false,
          "text": "1",
          "x": "SOFA",
          "xref": "x",
          "y": "WALL_ART",
          "yref": "y"
         },
         {
          "font": {
           "color": "#000000",
           "size": 8
          },
          "showarrow": false,
          "text": "0",
          "x": "SPORTING_GOODS",
          "xref": "x",
          "y": "WALL_ART",
          "yref": "y"
         },
         {
          "font": {
           "color": "#000000",
           "size": 8
          },
          "showarrow": false,
          "text": "1",
          "x": "TABLE",
          "xref": "x",
          "y": "WALL_ART",
          "yref": "y"
         },
         {
          "font": {
           "color": "#000000",
           "size": 8
          },
          "showarrow": false,
          "text": "117",
          "x": "WALL_ART",
          "xref": "x",
          "y": "WALL_ART",
          "yref": "y"
         },
         {
          "font": {
           "color": "#000000",
           "size": 8
          },
          "showarrow": false,
          "text": "0",
          "x": "ACCESSORY",
          "xref": "x",
          "y": "TABLE",
          "yref": "y"
         },
         {
          "font": {
           "color": "#000000",
           "size": 8
          },
          "showarrow": false,
          "text": "0",
          "x": "BOOT",
          "xref": "x",
          "y": "TABLE",
          "yref": "y"
         },
         {
          "font": {
           "color": "#000000",
           "size": 8
          },
          "showarrow": false,
          "text": "0",
          "x": "CELLULAR_PHONE_CASE",
          "xref": "x",
          "y": "TABLE",
          "yref": "y"
         },
         {
          "font": {
           "color": "#000000",
           "size": 8
          },
          "showarrow": false,
          "text": "8",
          "x": "CHAIR",
          "xref": "x",
          "y": "TABLE",
          "yref": "y"
         },
         {
          "font": {
           "color": "#000000",
           "size": 8
          },
          "showarrow": false,
          "text": "0",
          "x": "EARRING",
          "xref": "x",
          "y": "TABLE",
          "yref": "y"
         },
         {
          "font": {
           "color": "#000000",
           "size": 8
          },
          "showarrow": false,
          "text": "0",
          "x": "FINEEARRING",
          "xref": "x",
          "y": "TABLE",
          "yref": "y"
         },
         {
          "font": {
           "color": "#000000",
           "size": 8
          },
          "showarrow": false,
          "text": "0",
          "x": "FINENECKLACEBRACELETANKLET",
          "xref": "x",
          "y": "TABLE",
          "yref": "y"
         },
         {
          "font": {
           "color": "#000000",
           "size": 8
          },
          "showarrow": false,
          "text": "0",
          "x": "FINERING",
          "xref": "x",
          "y": "TABLE",
          "yref": "y"
         },
         {
          "font": {
           "color": "#000000",
           "size": 8
          },
          "showarrow": false,
          "text": "1",
          "x": "GROCERY",
          "xref": "x",
          "y": "TABLE",
          "yref": "y"
         },
         {
          "font": {
           "color": "#000000",
           "size": 8
          },
          "showarrow": false,
          "text": "0",
          "x": "HANDBAG",
          "xref": "x",
          "y": "TABLE",
          "yref": "y"
         },
         {
          "font": {
           "color": "#000000",
           "size": 8
          },
          "showarrow": false,
          "text": "0",
          "x": "HARDWARE_HANDLE",
          "xref": "x",
          "y": "TABLE",
          "yref": "y"
         },
         {
          "font": {
           "color": "#000000",
           "size": 8
          },
          "showarrow": false,
          "text": "0",
          "x": "HAT",
          "xref": "x",
          "y": "TABLE",
          "yref": "y"
         },
         {
          "font": {
           "color": "#000000",
           "size": 8
          },
          "showarrow": false,
          "text": "0",
          "x": "HEALTH_PERSONAL_CARE",
          "xref": "x",
          "y": "TABLE",
          "yref": "y"
         },
         {
          "font": {
           "color": "#000000",
           "size": 8
          },
          "showarrow": false,
          "text": "1",
          "x": "HOME",
          "xref": "x",
          "y": "TABLE",
          "yref": "y"
         },
         {
          "font": {
           "color": "#000000",
           "size": 8
          },
          "showarrow": false,
          "text": "0",
          "x": "HOME_BED_AND_BATH",
          "xref": "x",
          "y": "TABLE",
          "yref": "y"
         },
         {
          "font": {
           "color": "#000000",
           "size": 8
          },
          "showarrow": false,
          "text": "16",
          "x": "HOME_FURNITURE_AND_DECOR",
          "xref": "x",
          "y": "TABLE",
          "yref": "y"
         },
         {
          "font": {
           "color": "#000000",
           "size": 8
          },
          "showarrow": false,
          "text": "0",
          "x": "JANITORIAL_SUPPLY",
          "xref": "x",
          "y": "TABLE",
          "yref": "y"
         },
         {
          "font": {
           "color": "#000000",
           "size": 8
          },
          "showarrow": false,
          "text": "0",
          "x": "KITCHEN",
          "xref": "x",
          "y": "TABLE",
          "yref": "y"
         },
         {
          "font": {
           "color": "#000000",
           "size": 8
          },
          "showarrow": false,
          "text": "6",
          "x": "LAMP",
          "xref": "x",
          "y": "TABLE",
          "yref": "y"
         },
         {
          "font": {
           "color": "#000000",
           "size": 8
          },
          "showarrow": false,
          "text": "0",
          "x": "LIGHT_BULB",
          "xref": "x",
          "y": "TABLE",
          "yref": "y"
         },
         {
          "font": {
           "color": "#000000",
           "size": 8
          },
          "showarrow": false,
          "text": "0",
          "x": "LIGHT_FIXTURE",
          "xref": "x",
          "y": "TABLE",
          "yref": "y"
         },
         {
          "font": {
           "color": "#000000",
           "size": 8
          },
          "showarrow": false,
          "text": "0",
          "x": "OFFICE_PRODUCTS",
          "xref": "x",
          "y": "TABLE",
          "yref": "y"
         },
         {
          "font": {
           "color": "#000000",
           "size": 8
          },
          "showarrow": false,
          "text": "7",
          "x": "OUTDOOR_LIVING",
          "xref": "x",
          "y": "TABLE",
          "yref": "y"
         },
         {
          "font": {
           "color": "#000000",
           "size": 8
          },
          "showarrow": false,
          "text": "0",
          "x": "PET_SUPPLIES",
          "xref": "x",
          "y": "TABLE",
          "yref": "y"
         },
         {
          "font": {
           "color": "#000000",
           "size": 8
          },
          "showarrow": false,
          "text": "0",
          "x": "RUG",
          "xref": "x",
          "y": "TABLE",
          "yref": "y"
         },
         {
          "font": {
           "color": "#000000",
           "size": 8
          },
          "showarrow": false,
          "text": "0",
          "x": "SANDAL",
          "xref": "x",
          "y": "TABLE",
          "yref": "y"
         },
         {
          "font": {
           "color": "#000000",
           "size": 8
          },
          "showarrow": false,
          "text": "0",
          "x": "SHOES",
          "xref": "x",
          "y": "TABLE",
          "yref": "y"
         },
         {
          "font": {
           "color": "#000000",
           "size": 8
          },
          "showarrow": false,
          "text": "3",
          "x": "SOFA",
          "xref": "x",
          "y": "TABLE",
          "yref": "y"
         },
         {
          "font": {
           "color": "#000000",
           "size": 8
          },
          "showarrow": false,
          "text": "0",
          "x": "SPORTING_GOODS",
          "xref": "x",
          "y": "TABLE",
          "yref": "y"
         },
         {
          "font": {
           "color": "#000000",
           "size": 8
          },
          "showarrow": false,
          "text": "145",
          "x": "TABLE",
          "xref": "x",
          "y": "TABLE",
          "yref": "y"
         },
         {
          "font": {
           "color": "#000000",
           "size": 8
          },
          "showarrow": false,
          "text": "0",
          "x": "WALL_ART",
          "xref": "x",
          "y": "TABLE",
          "yref": "y"
         },
         {
          "font": {
           "color": "#000000",
           "size": 8
          },
          "showarrow": false,
          "text": "0",
          "x": "ACCESSORY",
          "xref": "x",
          "y": "SPORTING_GOODS",
          "yref": "y"
         },
         {
          "font": {
           "color": "#000000",
           "size": 8
          },
          "showarrow": false,
          "text": "0",
          "x": "BOOT",
          "xref": "x",
          "y": "SPORTING_GOODS",
          "yref": "y"
         },
         {
          "font": {
           "color": "#000000",
           "size": 8
          },
          "showarrow": false,
          "text": "0",
          "x": "CELLULAR_PHONE_CASE",
          "xref": "x",
          "y": "SPORTING_GOODS",
          "yref": "y"
         },
         {
          "font": {
           "color": "#000000",
           "size": 8
          },
          "showarrow": false,
          "text": "0",
          "x": "CHAIR",
          "xref": "x",
          "y": "SPORTING_GOODS",
          "yref": "y"
         },
         {
          "font": {
           "color": "#000000",
           "size": 8
          },
          "showarrow": false,
          "text": "0",
          "x": "EARRING",
          "xref": "x",
          "y": "SPORTING_GOODS",
          "yref": "y"
         },
         {
          "font": {
           "color": "#000000",
           "size": 8
          },
          "showarrow": false,
          "text": "0",
          "x": "FINEEARRING",
          "xref": "x",
          "y": "SPORTING_GOODS",
          "yref": "y"
         },
         {
          "font": {
           "color": "#000000",
           "size": 8
          },
          "showarrow": false,
          "text": "0",
          "x": "FINENECKLACEBRACELETANKLET",
          "xref": "x",
          "y": "SPORTING_GOODS",
          "yref": "y"
         },
         {
          "font": {
           "color": "#000000",
           "size": 8
          },
          "showarrow": false,
          "text": "0",
          "x": "FINERING",
          "xref": "x",
          "y": "SPORTING_GOODS",
          "yref": "y"
         },
         {
          "font": {
           "color": "#000000",
           "size": 8
          },
          "showarrow": false,
          "text": "2",
          "x": "GROCERY",
          "xref": "x",
          "y": "SPORTING_GOODS",
          "yref": "y"
         },
         {
          "font": {
           "color": "#000000",
           "size": 8
          },
          "showarrow": false,
          "text": "0",
          "x": "HANDBAG",
          "xref": "x",
          "y": "SPORTING_GOODS",
          "yref": "y"
         },
         {
          "font": {
           "color": "#000000",
           "size": 8
          },
          "showarrow": false,
          "text": "3",
          "x": "HARDWARE_HANDLE",
          "xref": "x",
          "y": "SPORTING_GOODS",
          "yref": "y"
         },
         {
          "font": {
           "color": "#000000",
           "size": 8
          },
          "showarrow": false,
          "text": "1",
          "x": "HAT",
          "xref": "x",
          "y": "SPORTING_GOODS",
          "yref": "y"
         },
         {
          "font": {
           "color": "#000000",
           "size": 8
          },
          "showarrow": false,
          "text": "1",
          "x": "HEALTH_PERSONAL_CARE",
          "xref": "x",
          "y": "SPORTING_GOODS",
          "yref": "y"
         },
         {
          "font": {
           "color": "#000000",
           "size": 8
          },
          "showarrow": false,
          "text": "12",
          "x": "HOME",
          "xref": "x",
          "y": "SPORTING_GOODS",
          "yref": "y"
         },
         {
          "font": {
           "color": "#000000",
           "size": 8
          },
          "showarrow": false,
          "text": "8",
          "x": "HOME_BED_AND_BATH",
          "xref": "x",
          "y": "SPORTING_GOODS",
          "yref": "y"
         },
         {
          "font": {
           "color": "#000000",
           "size": 8
          },
          "showarrow": false,
          "text": "1",
          "x": "HOME_FURNITURE_AND_DECOR",
          "xref": "x",
          "y": "SPORTING_GOODS",
          "yref": "y"
         },
         {
          "font": {
           "color": "#000000",
           "size": 8
          },
          "showarrow": false,
          "text": "1",
          "x": "JANITORIAL_SUPPLY",
          "xref": "x",
          "y": "SPORTING_GOODS",
          "yref": "y"
         },
         {
          "font": {
           "color": "#000000",
           "size": 8
          },
          "showarrow": false,
          "text": "1",
          "x": "KITCHEN",
          "xref": "x",
          "y": "SPORTING_GOODS",
          "yref": "y"
         },
         {
          "font": {
           "color": "#000000",
           "size": 8
          },
          "showarrow": false,
          "text": "0",
          "x": "LAMP",
          "xref": "x",
          "y": "SPORTING_GOODS",
          "yref": "y"
         },
         {
          "font": {
           "color": "#000000",
           "size": 8
          },
          "showarrow": false,
          "text": "0",
          "x": "LIGHT_BULB",
          "xref": "x",
          "y": "SPORTING_GOODS",
          "yref": "y"
         },
         {
          "font": {
           "color": "#000000",
           "size": 8
          },
          "showarrow": false,
          "text": "1",
          "x": "LIGHT_FIXTURE",
          "xref": "x",
          "y": "SPORTING_GOODS",
          "yref": "y"
         },
         {
          "font": {
           "color": "#000000",
           "size": 8
          },
          "showarrow": false,
          "text": "8",
          "x": "OFFICE_PRODUCTS",
          "xref": "x",
          "y": "SPORTING_GOODS",
          "yref": "y"
         },
         {
          "font": {
           "color": "#000000",
           "size": 8
          },
          "showarrow": false,
          "text": "1",
          "x": "OUTDOOR_LIVING",
          "xref": "x",
          "y": "SPORTING_GOODS",
          "yref": "y"
         },
         {
          "font": {
           "color": "#000000",
           "size": 8
          },
          "showarrow": false,
          "text": "2",
          "x": "PET_SUPPLIES",
          "xref": "x",
          "y": "SPORTING_GOODS",
          "yref": "y"
         },
         {
          "font": {
           "color": "#000000",
           "size": 8
          },
          "showarrow": false,
          "text": "0",
          "x": "RUG",
          "xref": "x",
          "y": "SPORTING_GOODS",
          "yref": "y"
         },
         {
          "font": {
           "color": "#000000",
           "size": 8
          },
          "showarrow": false,
          "text": "0",
          "x": "SANDAL",
          "xref": "x",
          "y": "SPORTING_GOODS",
          "yref": "y"
         },
         {
          "font": {
           "color": "#000000",
           "size": 8
          },
          "showarrow": false,
          "text": "0",
          "x": "SHOES",
          "xref": "x",
          "y": "SPORTING_GOODS",
          "yref": "y"
         },
         {
          "font": {
           "color": "#000000",
           "size": 8
          },
          "showarrow": false,
          "text": "0",
          "x": "SOFA",
          "xref": "x",
          "y": "SPORTING_GOODS",
          "yref": "y"
         },
         {
          "font": {
           "color": "#000000",
           "size": 8
          },
          "showarrow": false,
          "text": "153",
          "x": "SPORTING_GOODS",
          "xref": "x",
          "y": "SPORTING_GOODS",
          "yref": "y"
         },
         {
          "font": {
           "color": "#000000",
           "size": 8
          },
          "showarrow": false,
          "text": "0",
          "x": "TABLE",
          "xref": "x",
          "y": "SPORTING_GOODS",
          "yref": "y"
         },
         {
          "font": {
           "color": "#000000",
           "size": 8
          },
          "showarrow": false,
          "text": "0",
          "x": "WALL_ART",
          "xref": "x",
          "y": "SPORTING_GOODS",
          "yref": "y"
         },
         {
          "font": {
           "color": "#000000",
           "size": 8
          },
          "showarrow": false,
          "text": "0",
          "x": "ACCESSORY",
          "xref": "x",
          "y": "SOFA",
          "yref": "y"
         },
         {
          "font": {
           "color": "#000000",
           "size": 8
          },
          "showarrow": false,
          "text": "0",
          "x": "BOOT",
          "xref": "x",
          "y": "SOFA",
          "yref": "y"
         },
         {
          "font": {
           "color": "#000000",
           "size": 8
          },
          "showarrow": false,
          "text": "0",
          "x": "CELLULAR_PHONE_CASE",
          "xref": "x",
          "y": "SOFA",
          "yref": "y"
         },
         {
          "font": {
           "color": "#000000",
           "size": 8
          },
          "showarrow": false,
          "text": "17",
          "x": "CHAIR",
          "xref": "x",
          "y": "SOFA",
          "yref": "y"
         },
         {
          "font": {
           "color": "#000000",
           "size": 8
          },
          "showarrow": false,
          "text": "0",
          "x": "EARRING",
          "xref": "x",
          "y": "SOFA",
          "yref": "y"
         },
         {
          "font": {
           "color": "#000000",
           "size": 8
          },
          "showarrow": false,
          "text": "0",
          "x": "FINEEARRING",
          "xref": "x",
          "y": "SOFA",
          "yref": "y"
         },
         {
          "font": {
           "color": "#000000",
           "size": 8
          },
          "showarrow": false,
          "text": "0",
          "x": "FINENECKLACEBRACELETANKLET",
          "xref": "x",
          "y": "SOFA",
          "yref": "y"
         },
         {
          "font": {
           "color": "#000000",
           "size": 8
          },
          "showarrow": false,
          "text": "0",
          "x": "FINERING",
          "xref": "x",
          "y": "SOFA",
          "yref": "y"
         },
         {
          "font": {
           "color": "#000000",
           "size": 8
          },
          "showarrow": false,
          "text": "0",
          "x": "GROCERY",
          "xref": "x",
          "y": "SOFA",
          "yref": "y"
         },
         {
          "font": {
           "color": "#000000",
           "size": 8
          },
          "showarrow": false,
          "text": "0",
          "x": "HANDBAG",
          "xref": "x",
          "y": "SOFA",
          "yref": "y"
         },
         {
          "font": {
           "color": "#000000",
           "size": 8
          },
          "showarrow": false,
          "text": "0",
          "x": "HARDWARE_HANDLE",
          "xref": "x",
          "y": "SOFA",
          "yref": "y"
         },
         {
          "font": {
           "color": "#000000",
           "size": 8
          },
          "showarrow": false,
          "text": "0",
          "x": "HAT",
          "xref": "x",
          "y": "SOFA",
          "yref": "y"
         },
         {
          "font": {
           "color": "#000000",
           "size": 8
          },
          "showarrow": false,
          "text": "0",
          "x": "HEALTH_PERSONAL_CARE",
          "xref": "x",
          "y": "SOFA",
          "yref": "y"
         },
         {
          "font": {
           "color": "#000000",
           "size": 8
          },
          "showarrow": false,
          "text": "2",
          "x": "HOME",
          "xref": "x",
          "y": "SOFA",
          "yref": "y"
         },
         {
          "font": {
           "color": "#000000",
           "size": 8
          },
          "showarrow": false,
          "text": "1",
          "x": "HOME_BED_AND_BATH",
          "xref": "x",
          "y": "SOFA",
          "yref": "y"
         },
         {
          "font": {
           "color": "#000000",
           "size": 8
          },
          "showarrow": false,
          "text": "20",
          "x": "HOME_FURNITURE_AND_DECOR",
          "xref": "x",
          "y": "SOFA",
          "yref": "y"
         },
         {
          "font": {
           "color": "#000000",
           "size": 8
          },
          "showarrow": false,
          "text": "0",
          "x": "JANITORIAL_SUPPLY",
          "xref": "x",
          "y": "SOFA",
          "yref": "y"
         },
         {
          "font": {
           "color": "#000000",
           "size": 8
          },
          "showarrow": false,
          "text": "0",
          "x": "KITCHEN",
          "xref": "x",
          "y": "SOFA",
          "yref": "y"
         },
         {
          "font": {
           "color": "#000000",
           "size": 8
          },
          "showarrow": false,
          "text": "0",
          "x": "LAMP",
          "xref": "x",
          "y": "SOFA",
          "yref": "y"
         },
         {
          "font": {
           "color": "#000000",
           "size": 8
          },
          "showarrow": false,
          "text": "0",
          "x": "LIGHT_BULB",
          "xref": "x",
          "y": "SOFA",
          "yref": "y"
         },
         {
          "font": {
           "color": "#000000",
           "size": 8
          },
          "showarrow": false,
          "text": "1",
          "x": "LIGHT_FIXTURE",
          "xref": "x",
          "y": "SOFA",
          "yref": "y"
         },
         {
          "font": {
           "color": "#000000",
           "size": 8
          },
          "showarrow": false,
          "text": "0",
          "x": "OFFICE_PRODUCTS",
          "xref": "x",
          "y": "SOFA",
          "yref": "y"
         },
         {
          "font": {
           "color": "#000000",
           "size": 8
          },
          "showarrow": false,
          "text": "0",
          "x": "OUTDOOR_LIVING",
          "xref": "x",
          "y": "SOFA",
          "yref": "y"
         },
         {
          "font": {
           "color": "#000000",
           "size": 8
          },
          "showarrow": false,
          "text": "0",
          "x": "PET_SUPPLIES",
          "xref": "x",
          "y": "SOFA",
          "yref": "y"
         },
         {
          "font": {
           "color": "#000000",
           "size": 8
          },
          "showarrow": false,
          "text": "0",
          "x": "RUG",
          "xref": "x",
          "y": "SOFA",
          "yref": "y"
         },
         {
          "font": {
           "color": "#000000",
           "size": 8
          },
          "showarrow": false,
          "text": "0",
          "x": "SANDAL",
          "xref": "x",
          "y": "SOFA",
          "yref": "y"
         },
         {
          "font": {
           "color": "#000000",
           "size": 8
          },
          "showarrow": false,
          "text": "0",
          "x": "SHOES",
          "xref": "x",
          "y": "SOFA",
          "yref": "y"
         },
         {
          "font": {
           "color": "#000000",
           "size": 8
          },
          "showarrow": false,
          "text": "198",
          "x": "SOFA",
          "xref": "x",
          "y": "SOFA",
          "yref": "y"
         },
         {
          "font": {
           "color": "#000000",
           "size": 8
          },
          "showarrow": false,
          "text": "0",
          "x": "SPORTING_GOODS",
          "xref": "x",
          "y": "SOFA",
          "yref": "y"
         },
         {
          "font": {
           "color": "#000000",
           "size": 8
          },
          "showarrow": false,
          "text": "1",
          "x": "TABLE",
          "xref": "x",
          "y": "SOFA",
          "yref": "y"
         },
         {
          "font": {
           "color": "#000000",
           "size": 8
          },
          "showarrow": false,
          "text": "0",
          "x": "WALL_ART",
          "xref": "x",
          "y": "SOFA",
          "yref": "y"
         },
         {
          "font": {
           "color": "#000000",
           "size": 8
          },
          "showarrow": false,
          "text": "8",
          "x": "ACCESSORY",
          "xref": "x",
          "y": "SHOES",
          "yref": "y"
         },
         {
          "font": {
           "color": "#000000",
           "size": 8
          },
          "showarrow": false,
          "text": "98",
          "x": "BOOT",
          "xref": "x",
          "y": "SHOES",
          "yref": "y"
         },
         {
          "font": {
           "color": "#000000",
           "size": 8
          },
          "showarrow": false,
          "text": "0",
          "x": "CELLULAR_PHONE_CASE",
          "xref": "x",
          "y": "SHOES",
          "yref": "y"
         },
         {
          "font": {
           "color": "#000000",
           "size": 8
          },
          "showarrow": false,
          "text": "0",
          "x": "CHAIR",
          "xref": "x",
          "y": "SHOES",
          "yref": "y"
         },
         {
          "font": {
           "color": "#000000",
           "size": 8
          },
          "showarrow": false,
          "text": "0",
          "x": "EARRING",
          "xref": "x",
          "y": "SHOES",
          "yref": "y"
         },
         {
          "font": {
           "color": "#000000",
           "size": 8
          },
          "showarrow": false,
          "text": "0",
          "x": "FINEEARRING",
          "xref": "x",
          "y": "SHOES",
          "yref": "y"
         },
         {
          "font": {
           "color": "#000000",
           "size": 8
          },
          "showarrow": false,
          "text": "0",
          "x": "FINENECKLACEBRACELETANKLET",
          "xref": "x",
          "y": "SHOES",
          "yref": "y"
         },
         {
          "font": {
           "color": "#000000",
           "size": 8
          },
          "showarrow": false,
          "text": "0",
          "x": "FINERING",
          "xref": "x",
          "y": "SHOES",
          "yref": "y"
         },
         {
          "font": {
           "color": "#000000",
           "size": 8
          },
          "showarrow": false,
          "text": "0",
          "x": "GROCERY",
          "xref": "x",
          "y": "SHOES",
          "yref": "y"
         },
         {
          "font": {
           "color": "#000000",
           "size": 8
          },
          "showarrow": false,
          "text": "1",
          "x": "HANDBAG",
          "xref": "x",
          "y": "SHOES",
          "yref": "y"
         },
         {
          "font": {
           "color": "#000000",
           "size": 8
          },
          "showarrow": false,
          "text": "0",
          "x": "HARDWARE_HANDLE",
          "xref": "x",
          "y": "SHOES",
          "yref": "y"
         },
         {
          "font": {
           "color": "#000000",
           "size": 8
          },
          "showarrow": false,
          "text": "0",
          "x": "HAT",
          "xref": "x",
          "y": "SHOES",
          "yref": "y"
         },
         {
          "font": {
           "color": "#000000",
           "size": 8
          },
          "showarrow": false,
          "text": "1",
          "x": "HEALTH_PERSONAL_CARE",
          "xref": "x",
          "y": "SHOES",
          "yref": "y"
         },
         {
          "font": {
           "color": "#000000",
           "size": 8
          },
          "showarrow": false,
          "text": "0",
          "x": "HOME",
          "xref": "x",
          "y": "SHOES",
          "yref": "y"
         },
         {
          "font": {
           "color": "#000000",
           "size": 8
          },
          "showarrow": false,
          "text": "0",
          "x": "HOME_BED_AND_BATH",
          "xref": "x",
          "y": "SHOES",
          "yref": "y"
         },
         {
          "font": {
           "color": "#000000",
           "size": 8
          },
          "showarrow": false,
          "text": "0",
          "x": "HOME_FURNITURE_AND_DECOR",
          "xref": "x",
          "y": "SHOES",
          "yref": "y"
         },
         {
          "font": {
           "color": "#000000",
           "size": 8
          },
          "showarrow": false,
          "text": "0",
          "x": "JANITORIAL_SUPPLY",
          "xref": "x",
          "y": "SHOES",
          "yref": "y"
         },
         {
          "font": {
           "color": "#000000",
           "size": 8
          },
          "showarrow": false,
          "text": "0",
          "x": "KITCHEN",
          "xref": "x",
          "y": "SHOES",
          "yref": "y"
         },
         {
          "font": {
           "color": "#000000",
           "size": 8
          },
          "showarrow": false,
          "text": "0",
          "x": "LAMP",
          "xref": "x",
          "y": "SHOES",
          "yref": "y"
         },
         {
          "font": {
           "color": "#000000",
           "size": 8
          },
          "showarrow": false,
          "text": "0",
          "x": "LIGHT_BULB",
          "xref": "x",
          "y": "SHOES",
          "yref": "y"
         },
         {
          "font": {
           "color": "#000000",
           "size": 8
          },
          "showarrow": false,
          "text": "0",
          "x": "LIGHT_FIXTURE",
          "xref": "x",
          "y": "SHOES",
          "yref": "y"
         },
         {
          "font": {
           "color": "#000000",
           "size": 8
          },
          "showarrow": false,
          "text": "0",
          "x": "OFFICE_PRODUCTS",
          "xref": "x",
          "y": "SHOES",
          "yref": "y"
         },
         {
          "font": {
           "color": "#000000",
           "size": 8
          },
          "showarrow": false,
          "text": "0",
          "x": "OUTDOOR_LIVING",
          "xref": "x",
          "y": "SHOES",
          "yref": "y"
         },
         {
          "font": {
           "color": "#000000",
           "size": 8
          },
          "showarrow": false,
          "text": "0",
          "x": "PET_SUPPLIES",
          "xref": "x",
          "y": "SHOES",
          "yref": "y"
         },
         {
          "font": {
           "color": "#000000",
           "size": 8
          },
          "showarrow": false,
          "text": "0",
          "x": "RUG",
          "xref": "x",
          "y": "SHOES",
          "yref": "y"
         },
         {
          "font": {
           "color": "#000000",
           "size": 8
          },
          "showarrow": false,
          "text": "90",
          "x": "SANDAL",
          "xref": "x",
          "y": "SHOES",
          "yref": "y"
         },
         {
          "font": {
           "color": "#000000",
           "size": 8
          },
          "showarrow": false,
          "text": "2395",
          "x": "SHOES",
          "xref": "x",
          "y": "SHOES",
          "yref": "y"
         },
         {
          "font": {
           "color": "#000000",
           "size": 8
          },
          "showarrow": false,
          "text": "0",
          "x": "SOFA",
          "xref": "x",
          "y": "SHOES",
          "yref": "y"
         },
         {
          "font": {
           "color": "#000000",
           "size": 8
          },
          "showarrow": false,
          "text": "0",
          "x": "SPORTING_GOODS",
          "xref": "x",
          "y": "SHOES",
          "yref": "y"
         },
         {
          "font": {
           "color": "#000000",
           "size": 8
          },
          "showarrow": false,
          "text": "0",
          "x": "TABLE",
          "xref": "x",
          "y": "SHOES",
          "yref": "y"
         },
         {
          "font": {
           "color": "#000000",
           "size": 8
          },
          "showarrow": false,
          "text": "0",
          "x": "WALL_ART",
          "xref": "x",
          "y": "SHOES",
          "yref": "y"
         },
         {
          "font": {
           "color": "#000000",
           "size": 8
          },
          "showarrow": false,
          "text": "0",
          "x": "ACCESSORY",
          "xref": "x",
          "y": "SANDAL",
          "yref": "y"
         },
         {
          "font": {
           "color": "#000000",
           "size": 8
          },
          "showarrow": false,
          "text": "4",
          "x": "BOOT",
          "xref": "x",
          "y": "SANDAL",
          "yref": "y"
         },
         {
          "font": {
           "color": "#000000",
           "size": 8
          },
          "showarrow": false,
          "text": "0",
          "x": "CELLULAR_PHONE_CASE",
          "xref": "x",
          "y": "SANDAL",
          "yref": "y"
         },
         {
          "font": {
           "color": "#000000",
           "size": 8
          },
          "showarrow": false,
          "text": "0",
          "x": "CHAIR",
          "xref": "x",
          "y": "SANDAL",
          "yref": "y"
         },
         {
          "font": {
           "color": "#000000",
           "size": 8
          },
          "showarrow": false,
          "text": "0",
          "x": "EARRING",
          "xref": "x",
          "y": "SANDAL",
          "yref": "y"
         },
         {
          "font": {
           "color": "#000000",
           "size": 8
          },
          "showarrow": false,
          "text": "0",
          "x": "FINEEARRING",
          "xref": "x",
          "y": "SANDAL",
          "yref": "y"
         },
         {
          "font": {
           "color": "#000000",
           "size": 8
          },
          "showarrow": false,
          "text": "0",
          "x": "FINENECKLACEBRACELETANKLET",
          "xref": "x",
          "y": "SANDAL",
          "yref": "y"
         },
         {
          "font": {
           "color": "#000000",
           "size": 8
          },
          "showarrow": false,
          "text": "0",
          "x": "FINERING",
          "xref": "x",
          "y": "SANDAL",
          "yref": "y"
         },
         {
          "font": {
           "color": "#000000",
           "size": 8
          },
          "showarrow": false,
          "text": "0",
          "x": "GROCERY",
          "xref": "x",
          "y": "SANDAL",
          "yref": "y"
         },
         {
          "font": {
           "color": "#000000",
           "size": 8
          },
          "showarrow": false,
          "text": "1",
          "x": "HANDBAG",
          "xref": "x",
          "y": "SANDAL",
          "yref": "y"
         },
         {
          "font": {
           "color": "#000000",
           "size": 8
          },
          "showarrow": false,
          "text": "0",
          "x": "HARDWARE_HANDLE",
          "xref": "x",
          "y": "SANDAL",
          "yref": "y"
         },
         {
          "font": {
           "color": "#000000",
           "size": 8
          },
          "showarrow": false,
          "text": "0",
          "x": "HAT",
          "xref": "x",
          "y": "SANDAL",
          "yref": "y"
         },
         {
          "font": {
           "color": "#000000",
           "size": 8
          },
          "showarrow": false,
          "text": "0",
          "x": "HEALTH_PERSONAL_CARE",
          "xref": "x",
          "y": "SANDAL",
          "yref": "y"
         },
         {
          "font": {
           "color": "#000000",
           "size": 8
          },
          "showarrow": false,
          "text": "0",
          "x": "HOME",
          "xref": "x",
          "y": "SANDAL",
          "yref": "y"
         },
         {
          "font": {
           "color": "#000000",
           "size": 8
          },
          "showarrow": false,
          "text": "0",
          "x": "HOME_BED_AND_BATH",
          "xref": "x",
          "y": "SANDAL",
          "yref": "y"
         },
         {
          "font": {
           "color": "#000000",
           "size": 8
          },
          "showarrow": false,
          "text": "0",
          "x": "HOME_FURNITURE_AND_DECOR",
          "xref": "x",
          "y": "SANDAL",
          "yref": "y"
         },
         {
          "font": {
           "color": "#000000",
           "size": 8
          },
          "showarrow": false,
          "text": "0",
          "x": "JANITORIAL_SUPPLY",
          "xref": "x",
          "y": "SANDAL",
          "yref": "y"
         },
         {
          "font": {
           "color": "#000000",
           "size": 8
          },
          "showarrow": false,
          "text": "0",
          "x": "KITCHEN",
          "xref": "x",
          "y": "SANDAL",
          "yref": "y"
         },
         {
          "font": {
           "color": "#000000",
           "size": 8
          },
          "showarrow": false,
          "text": "0",
          "x": "LAMP",
          "xref": "x",
          "y": "SANDAL",
          "yref": "y"
         },
         {
          "font": {
           "color": "#000000",
           "size": 8
          },
          "showarrow": false,
          "text": "0",
          "x": "LIGHT_BULB",
          "xref": "x",
          "y": "SANDAL",
          "yref": "y"
         },
         {
          "font": {
           "color": "#000000",
           "size": 8
          },
          "showarrow": false,
          "text": "0",
          "x": "LIGHT_FIXTURE",
          "xref": "x",
          "y": "SANDAL",
          "yref": "y"
         },
         {
          "font": {
           "color": "#000000",
           "size": 8
          },
          "showarrow": false,
          "text": "0",
          "x": "OFFICE_PRODUCTS",
          "xref": "x",
          "y": "SANDAL",
          "yref": "y"
         },
         {
          "font": {
           "color": "#000000",
           "size": 8
          },
          "showarrow": false,
          "text": "0",
          "x": "OUTDOOR_LIVING",
          "xref": "x",
          "y": "SANDAL",
          "yref": "y"
         },
         {
          "font": {
           "color": "#000000",
           "size": 8
          },
          "showarrow": false,
          "text": "0",
          "x": "PET_SUPPLIES",
          "xref": "x",
          "y": "SANDAL",
          "yref": "y"
         },
         {
          "font": {
           "color": "#000000",
           "size": 8
          },
          "showarrow": false,
          "text": "0",
          "x": "RUG",
          "xref": "x",
          "y": "SANDAL",
          "yref": "y"
         },
         {
          "font": {
           "color": "#000000",
           "size": 8
          },
          "showarrow": false,
          "text": "345",
          "x": "SANDAL",
          "xref": "x",
          "y": "SANDAL",
          "yref": "y"
         },
         {
          "font": {
           "color": "#000000",
           "size": 8
          },
          "showarrow": false,
          "text": "19",
          "x": "SHOES",
          "xref": "x",
          "y": "SANDAL",
          "yref": "y"
         },
         {
          "font": {
           "color": "#000000",
           "size": 8
          },
          "showarrow": false,
          "text": "0",
          "x": "SOFA",
          "xref": "x",
          "y": "SANDAL",
          "yref": "y"
         },
         {
          "font": {
           "color": "#000000",
           "size": 8
          },
          "showarrow": false,
          "text": "0",
          "x": "SPORTING_GOODS",
          "xref": "x",
          "y": "SANDAL",
          "yref": "y"
         },
         {
          "font": {
           "color": "#000000",
           "size": 8
          },
          "showarrow": false,
          "text": "0",
          "x": "TABLE",
          "xref": "x",
          "y": "SANDAL",
          "yref": "y"
         },
         {
          "font": {
           "color": "#000000",
           "size": 8
          },
          "showarrow": false,
          "text": "0",
          "x": "WALL_ART",
          "xref": "x",
          "y": "SANDAL",
          "yref": "y"
         },
         {
          "font": {
           "color": "#000000",
           "size": 8
          },
          "showarrow": false,
          "text": "0",
          "x": "ACCESSORY",
          "xref": "x",
          "y": "RUG",
          "yref": "y"
         },
         {
          "font": {
           "color": "#000000",
           "size": 8
          },
          "showarrow": false,
          "text": "0",
          "x": "BOOT",
          "xref": "x",
          "y": "RUG",
          "yref": "y"
         },
         {
          "font": {
           "color": "#000000",
           "size": 8
          },
          "showarrow": false,
          "text": "0",
          "x": "CELLULAR_PHONE_CASE",
          "xref": "x",
          "y": "RUG",
          "yref": "y"
         },
         {
          "font": {
           "color": "#000000",
           "size": 8
          },
          "showarrow": false,
          "text": "0",
          "x": "CHAIR",
          "xref": "x",
          "y": "RUG",
          "yref": "y"
         },
         {
          "font": {
           "color": "#000000",
           "size": 8
          },
          "showarrow": false,
          "text": "0",
          "x": "EARRING",
          "xref": "x",
          "y": "RUG",
          "yref": "y"
         },
         {
          "font": {
           "color": "#000000",
           "size": 8
          },
          "showarrow": false,
          "text": "0",
          "x": "FINEEARRING",
          "xref": "x",
          "y": "RUG",
          "yref": "y"
         },
         {
          "font": {
           "color": "#000000",
           "size": 8
          },
          "showarrow": false,
          "text": "0",
          "x": "FINENECKLACEBRACELETANKLET",
          "xref": "x",
          "y": "RUG",
          "yref": "y"
         },
         {
          "font": {
           "color": "#000000",
           "size": 8
          },
          "showarrow": false,
          "text": "0",
          "x": "FINERING",
          "xref": "x",
          "y": "RUG",
          "yref": "y"
         },
         {
          "font": {
           "color": "#000000",
           "size": 8
          },
          "showarrow": false,
          "text": "0",
          "x": "GROCERY",
          "xref": "x",
          "y": "RUG",
          "yref": "y"
         },
         {
          "font": {
           "color": "#000000",
           "size": 8
          },
          "showarrow": false,
          "text": "0",
          "x": "HANDBAG",
          "xref": "x",
          "y": "RUG",
          "yref": "y"
         },
         {
          "font": {
           "color": "#000000",
           "size": 8
          },
          "showarrow": false,
          "text": "0",
          "x": "HARDWARE_HANDLE",
          "xref": "x",
          "y": "RUG",
          "yref": "y"
         },
         {
          "font": {
           "color": "#000000",
           "size": 8
          },
          "showarrow": false,
          "text": "0",
          "x": "HAT",
          "xref": "x",
          "y": "RUG",
          "yref": "y"
         },
         {
          "font": {
           "color": "#000000",
           "size": 8
          },
          "showarrow": false,
          "text": "0",
          "x": "HEALTH_PERSONAL_CARE",
          "xref": "x",
          "y": "RUG",
          "yref": "y"
         },
         {
          "font": {
           "color": "#000000",
           "size": 8
          },
          "showarrow": false,
          "text": "0",
          "x": "HOME",
          "xref": "x",
          "y": "RUG",
          "yref": "y"
         },
         {
          "font": {
           "color": "#000000",
           "size": 8
          },
          "showarrow": false,
          "text": "0",
          "x": "HOME_BED_AND_BATH",
          "xref": "x",
          "y": "RUG",
          "yref": "y"
         },
         {
          "font": {
           "color": "#000000",
           "size": 8
          },
          "showarrow": false,
          "text": "5",
          "x": "HOME_FURNITURE_AND_DECOR",
          "xref": "x",
          "y": "RUG",
          "yref": "y"
         },
         {
          "font": {
           "color": "#000000",
           "size": 8
          },
          "showarrow": false,
          "text": "0",
          "x": "JANITORIAL_SUPPLY",
          "xref": "x",
          "y": "RUG",
          "yref": "y"
         },
         {
          "font": {
           "color": "#000000",
           "size": 8
          },
          "showarrow": false,
          "text": "0",
          "x": "KITCHEN",
          "xref": "x",
          "y": "RUG",
          "yref": "y"
         },
         {
          "font": {
           "color": "#000000",
           "size": 8
          },
          "showarrow": false,
          "text": "0",
          "x": "LAMP",
          "xref": "x",
          "y": "RUG",
          "yref": "y"
         },
         {
          "font": {
           "color": "#000000",
           "size": 8
          },
          "showarrow": false,
          "text": "0",
          "x": "LIGHT_BULB",
          "xref": "x",
          "y": "RUG",
          "yref": "y"
         },
         {
          "font": {
           "color": "#000000",
           "size": 8
          },
          "showarrow": false,
          "text": "2",
          "x": "LIGHT_FIXTURE",
          "xref": "x",
          "y": "RUG",
          "yref": "y"
         },
         {
          "font": {
           "color": "#000000",
           "size": 8
          },
          "showarrow": false,
          "text": "0",
          "x": "OFFICE_PRODUCTS",
          "xref": "x",
          "y": "RUG",
          "yref": "y"
         },
         {
          "font": {
           "color": "#000000",
           "size": 8
          },
          "showarrow": false,
          "text": "0",
          "x": "OUTDOOR_LIVING",
          "xref": "x",
          "y": "RUG",
          "yref": "y"
         },
         {
          "font": {
           "color": "#000000",
           "size": 8
          },
          "showarrow": false,
          "text": "0",
          "x": "PET_SUPPLIES",
          "xref": "x",
          "y": "RUG",
          "yref": "y"
         },
         {
          "font": {
           "color": "#000000",
           "size": 8
          },
          "showarrow": false,
          "text": "157",
          "x": "RUG",
          "xref": "x",
          "y": "RUG",
          "yref": "y"
         },
         {
          "font": {
           "color": "#000000",
           "size": 8
          },
          "showarrow": false,
          "text": "0",
          "x": "SANDAL",
          "xref": "x",
          "y": "RUG",
          "yref": "y"
         },
         {
          "font": {
           "color": "#000000",
           "size": 8
          },
          "showarrow": false,
          "text": "0",
          "x": "SHOES",
          "xref": "x",
          "y": "RUG",
          "yref": "y"
         },
         {
          "font": {
           "color": "#000000",
           "size": 8
          },
          "showarrow": false,
          "text": "0",
          "x": "SOFA",
          "xref": "x",
          "y": "RUG",
          "yref": "y"
         },
         {
          "font": {
           "color": "#000000",
           "size": 8
          },
          "showarrow": false,
          "text": "0",
          "x": "SPORTING_GOODS",
          "xref": "x",
          "y": "RUG",
          "yref": "y"
         },
         {
          "font": {
           "color": "#000000",
           "size": 8
          },
          "showarrow": false,
          "text": "0",
          "x": "TABLE",
          "xref": "x",
          "y": "RUG",
          "yref": "y"
         },
         {
          "font": {
           "color": "#000000",
           "size": 8
          },
          "showarrow": false,
          "text": "0",
          "x": "WALL_ART",
          "xref": "x",
          "y": "RUG",
          "yref": "y"
         },
         {
          "font": {
           "color": "#000000",
           "size": 8
          },
          "showarrow": false,
          "text": "0",
          "x": "ACCESSORY",
          "xref": "x",
          "y": "PET_SUPPLIES",
          "yref": "y"
         },
         {
          "font": {
           "color": "#000000",
           "size": 8
          },
          "showarrow": false,
          "text": "0",
          "x": "BOOT",
          "xref": "x",
          "y": "PET_SUPPLIES",
          "yref": "y"
         },
         {
          "font": {
           "color": "#000000",
           "size": 8
          },
          "showarrow": false,
          "text": "0",
          "x": "CELLULAR_PHONE_CASE",
          "xref": "x",
          "y": "PET_SUPPLIES",
          "yref": "y"
         },
         {
          "font": {
           "color": "#000000",
           "size": 8
          },
          "showarrow": false,
          "text": "0",
          "x": "CHAIR",
          "xref": "x",
          "y": "PET_SUPPLIES",
          "yref": "y"
         },
         {
          "font": {
           "color": "#000000",
           "size": 8
          },
          "showarrow": false,
          "text": "0",
          "x": "EARRING",
          "xref": "x",
          "y": "PET_SUPPLIES",
          "yref": "y"
         },
         {
          "font": {
           "color": "#000000",
           "size": 8
          },
          "showarrow": false,
          "text": "0",
          "x": "FINEEARRING",
          "xref": "x",
          "y": "PET_SUPPLIES",
          "yref": "y"
         },
         {
          "font": {
           "color": "#000000",
           "size": 8
          },
          "showarrow": false,
          "text": "0",
          "x": "FINENECKLACEBRACELETANKLET",
          "xref": "x",
          "y": "PET_SUPPLIES",
          "yref": "y"
         },
         {
          "font": {
           "color": "#000000",
           "size": 8
          },
          "showarrow": false,
          "text": "0",
          "x": "FINERING",
          "xref": "x",
          "y": "PET_SUPPLIES",
          "yref": "y"
         },
         {
          "font": {
           "color": "#000000",
           "size": 8
          },
          "showarrow": false,
          "text": "0",
          "x": "GROCERY",
          "xref": "x",
          "y": "PET_SUPPLIES",
          "yref": "y"
         },
         {
          "font": {
           "color": "#000000",
           "size": 8
          },
          "showarrow": false,
          "text": "0",
          "x": "HANDBAG",
          "xref": "x",
          "y": "PET_SUPPLIES",
          "yref": "y"
         },
         {
          "font": {
           "color": "#000000",
           "size": 8
          },
          "showarrow": false,
          "text": "1",
          "x": "HARDWARE_HANDLE",
          "xref": "x",
          "y": "PET_SUPPLIES",
          "yref": "y"
         },
         {
          "font": {
           "color": "#000000",
           "size": 8
          },
          "showarrow": false,
          "text": "0",
          "x": "HAT",
          "xref": "x",
          "y": "PET_SUPPLIES",
          "yref": "y"
         },
         {
          "font": {
           "color": "#000000",
           "size": 8
          },
          "showarrow": false,
          "text": "1",
          "x": "HEALTH_PERSONAL_CARE",
          "xref": "x",
          "y": "PET_SUPPLIES",
          "yref": "y"
         },
         {
          "font": {
           "color": "#000000",
           "size": 8
          },
          "showarrow": false,
          "text": "2",
          "x": "HOME",
          "xref": "x",
          "y": "PET_SUPPLIES",
          "yref": "y"
         },
         {
          "font": {
           "color": "#000000",
           "size": 8
          },
          "showarrow": false,
          "text": "4",
          "x": "HOME_BED_AND_BATH",
          "xref": "x",
          "y": "PET_SUPPLIES",
          "yref": "y"
         },
         {
          "font": {
           "color": "#000000",
           "size": 8
          },
          "showarrow": false,
          "text": "2",
          "x": "HOME_FURNITURE_AND_DECOR",
          "xref": "x",
          "y": "PET_SUPPLIES",
          "yref": "y"
         },
         {
          "font": {
           "color": "#000000",
           "size": 8
          },
          "showarrow": false,
          "text": "0",
          "x": "JANITORIAL_SUPPLY",
          "xref": "x",
          "y": "PET_SUPPLIES",
          "yref": "y"
         },
         {
          "font": {
           "color": "#000000",
           "size": 8
          },
          "showarrow": false,
          "text": "0",
          "x": "KITCHEN",
          "xref": "x",
          "y": "PET_SUPPLIES",
          "yref": "y"
         },
         {
          "font": {
           "color": "#000000",
           "size": 8
          },
          "showarrow": false,
          "text": "0",
          "x": "LAMP",
          "xref": "x",
          "y": "PET_SUPPLIES",
          "yref": "y"
         },
         {
          "font": {
           "color": "#000000",
           "size": 8
          },
          "showarrow": false,
          "text": "0",
          "x": "LIGHT_BULB",
          "xref": "x",
          "y": "PET_SUPPLIES",
          "yref": "y"
         },
         {
          "font": {
           "color": "#000000",
           "size": 8
          },
          "showarrow": false,
          "text": "0",
          "x": "LIGHT_FIXTURE",
          "xref": "x",
          "y": "PET_SUPPLIES",
          "yref": "y"
         },
         {
          "font": {
           "color": "#000000",
           "size": 8
          },
          "showarrow": false,
          "text": "2",
          "x": "OFFICE_PRODUCTS",
          "xref": "x",
          "y": "PET_SUPPLIES",
          "yref": "y"
         },
         {
          "font": {
           "color": "#000000",
           "size": 8
          },
          "showarrow": false,
          "text": "0",
          "x": "OUTDOOR_LIVING",
          "xref": "x",
          "y": "PET_SUPPLIES",
          "yref": "y"
         },
         {
          "font": {
           "color": "#000000",
           "size": 8
          },
          "showarrow": false,
          "text": "199",
          "x": "PET_SUPPLIES",
          "xref": "x",
          "y": "PET_SUPPLIES",
          "yref": "y"
         },
         {
          "font": {
           "color": "#000000",
           "size": 8
          },
          "showarrow": false,
          "text": "0",
          "x": "RUG",
          "xref": "x",
          "y": "PET_SUPPLIES",
          "yref": "y"
         },
         {
          "font": {
           "color": "#000000",
           "size": 8
          },
          "showarrow": false,
          "text": "0",
          "x": "SANDAL",
          "xref": "x",
          "y": "PET_SUPPLIES",
          "yref": "y"
         },
         {
          "font": {
           "color": "#000000",
           "size": 8
          },
          "showarrow": false,
          "text": "0",
          "x": "SHOES",
          "xref": "x",
          "y": "PET_SUPPLIES",
          "yref": "y"
         },
         {
          "font": {
           "color": "#000000",
           "size": 8
          },
          "showarrow": false,
          "text": "0",
          "x": "SOFA",
          "xref": "x",
          "y": "PET_SUPPLIES",
          "yref": "y"
         },
         {
          "font": {
           "color": "#000000",
           "size": 8
          },
          "showarrow": false,
          "text": "2",
          "x": "SPORTING_GOODS",
          "xref": "x",
          "y": "PET_SUPPLIES",
          "yref": "y"
         },
         {
          "font": {
           "color": "#000000",
           "size": 8
          },
          "showarrow": false,
          "text": "0",
          "x": "TABLE",
          "xref": "x",
          "y": "PET_SUPPLIES",
          "yref": "y"
         },
         {
          "font": {
           "color": "#000000",
           "size": 8
          },
          "showarrow": false,
          "text": "0",
          "x": "WALL_ART",
          "xref": "x",
          "y": "PET_SUPPLIES",
          "yref": "y"
         },
         {
          "font": {
           "color": "#000000",
           "size": 8
          },
          "showarrow": false,
          "text": "0",
          "x": "ACCESSORY",
          "xref": "x",
          "y": "OUTDOOR_LIVING",
          "yref": "y"
         },
         {
          "font": {
           "color": "#000000",
           "size": 8
          },
          "showarrow": false,
          "text": "0",
          "x": "BOOT",
          "xref": "x",
          "y": "OUTDOOR_LIVING",
          "yref": "y"
         },
         {
          "font": {
           "color": "#000000",
           "size": 8
          },
          "showarrow": false,
          "text": "0",
          "x": "CELLULAR_PHONE_CASE",
          "xref": "x",
          "y": "OUTDOOR_LIVING",
          "yref": "y"
         },
         {
          "font": {
           "color": "#000000",
           "size": 8
          },
          "showarrow": false,
          "text": "10",
          "x": "CHAIR",
          "xref": "x",
          "y": "OUTDOOR_LIVING",
          "yref": "y"
         },
         {
          "font": {
           "color": "#000000",
           "size": 8
          },
          "showarrow": false,
          "text": "0",
          "x": "EARRING",
          "xref": "x",
          "y": "OUTDOOR_LIVING",
          "yref": "y"
         },
         {
          "font": {
           "color": "#000000",
           "size": 8
          },
          "showarrow": false,
          "text": "0",
          "x": "FINEEARRING",
          "xref": "x",
          "y": "OUTDOOR_LIVING",
          "yref": "y"
         },
         {
          "font": {
           "color": "#000000",
           "size": 8
          },
          "showarrow": false,
          "text": "0",
          "x": "FINENECKLACEBRACELETANKLET",
          "xref": "x",
          "y": "OUTDOOR_LIVING",
          "yref": "y"
         },
         {
          "font": {
           "color": "#000000",
           "size": 8
          },
          "showarrow": false,
          "text": "0",
          "x": "FINERING",
          "xref": "x",
          "y": "OUTDOOR_LIVING",
          "yref": "y"
         },
         {
          "font": {
           "color": "#000000",
           "size": 8
          },
          "showarrow": false,
          "text": "0",
          "x": "GROCERY",
          "xref": "x",
          "y": "OUTDOOR_LIVING",
          "yref": "y"
         },
         {
          "font": {
           "color": "#000000",
           "size": 8
          },
          "showarrow": false,
          "text": "0",
          "x": "HANDBAG",
          "xref": "x",
          "y": "OUTDOOR_LIVING",
          "yref": "y"
         },
         {
          "font": {
           "color": "#000000",
           "size": 8
          },
          "showarrow": false,
          "text": "3",
          "x": "HARDWARE_HANDLE",
          "xref": "x",
          "y": "OUTDOOR_LIVING",
          "yref": "y"
         },
         {
          "font": {
           "color": "#000000",
           "size": 8
          },
          "showarrow": false,
          "text": "0",
          "x": "HAT",
          "xref": "x",
          "y": "OUTDOOR_LIVING",
          "yref": "y"
         },
         {
          "font": {
           "color": "#000000",
           "size": 8
          },
          "showarrow": false,
          "text": "1",
          "x": "HEALTH_PERSONAL_CARE",
          "xref": "x",
          "y": "OUTDOOR_LIVING",
          "yref": "y"
         },
         {
          "font": {
           "color": "#000000",
           "size": 8
          },
          "showarrow": false,
          "text": "7",
          "x": "HOME",
          "xref": "x",
          "y": "OUTDOOR_LIVING",
          "yref": "y"
         },
         {
          "font": {
           "color": "#000000",
           "size": 8
          },
          "showarrow": false,
          "text": "1",
          "x": "HOME_BED_AND_BATH",
          "xref": "x",
          "y": "OUTDOOR_LIVING",
          "yref": "y"
         },
         {
          "font": {
           "color": "#000000",
           "size": 8
          },
          "showarrow": false,
          "text": "1",
          "x": "HOME_FURNITURE_AND_DECOR",
          "xref": "x",
          "y": "OUTDOOR_LIVING",
          "yref": "y"
         },
         {
          "font": {
           "color": "#000000",
           "size": 8
          },
          "showarrow": false,
          "text": "0",
          "x": "JANITORIAL_SUPPLY",
          "xref": "x",
          "y": "OUTDOOR_LIVING",
          "yref": "y"
         },
         {
          "font": {
           "color": "#000000",
           "size": 8
          },
          "showarrow": false,
          "text": "2",
          "x": "KITCHEN",
          "xref": "x",
          "y": "OUTDOOR_LIVING",
          "yref": "y"
         },
         {
          "font": {
           "color": "#000000",
           "size": 8
          },
          "showarrow": false,
          "text": "0",
          "x": "LAMP",
          "xref": "x",
          "y": "OUTDOOR_LIVING",
          "yref": "y"
         },
         {
          "font": {
           "color": "#000000",
           "size": 8
          },
          "showarrow": false,
          "text": "0",
          "x": "LIGHT_BULB",
          "xref": "x",
          "y": "OUTDOOR_LIVING",
          "yref": "y"
         },
         {
          "font": {
           "color": "#000000",
           "size": 8
          },
          "showarrow": false,
          "text": "1",
          "x": "LIGHT_FIXTURE",
          "xref": "x",
          "y": "OUTDOOR_LIVING",
          "yref": "y"
         },
         {
          "font": {
           "color": "#000000",
           "size": 8
          },
          "showarrow": false,
          "text": "3",
          "x": "OFFICE_PRODUCTS",
          "xref": "x",
          "y": "OUTDOOR_LIVING",
          "yref": "y"
         },
         {
          "font": {
           "color": "#000000",
           "size": 8
          },
          "showarrow": false,
          "text": "89",
          "x": "OUTDOOR_LIVING",
          "xref": "x",
          "y": "OUTDOOR_LIVING",
          "yref": "y"
         },
         {
          "font": {
           "color": "#000000",
           "size": 8
          },
          "showarrow": false,
          "text": "3",
          "x": "PET_SUPPLIES",
          "xref": "x",
          "y": "OUTDOOR_LIVING",
          "yref": "y"
         },
         {
          "font": {
           "color": "#000000",
           "size": 8
          },
          "showarrow": false,
          "text": "0",
          "x": "RUG",
          "xref": "x",
          "y": "OUTDOOR_LIVING",
          "yref": "y"
         },
         {
          "font": {
           "color": "#000000",
           "size": 8
          },
          "showarrow": false,
          "text": "0",
          "x": "SANDAL",
          "xref": "x",
          "y": "OUTDOOR_LIVING",
          "yref": "y"
         },
         {
          "font": {
           "color": "#000000",
           "size": 8
          },
          "showarrow": false,
          "text": "2",
          "x": "SHOES",
          "xref": "x",
          "y": "OUTDOOR_LIVING",
          "yref": "y"
         },
         {
          "font": {
           "color": "#000000",
           "size": 8
          },
          "showarrow": false,
          "text": "0",
          "x": "SOFA",
          "xref": "x",
          "y": "OUTDOOR_LIVING",
          "yref": "y"
         },
         {
          "font": {
           "color": "#000000",
           "size": 8
          },
          "showarrow": false,
          "text": "2",
          "x": "SPORTING_GOODS",
          "xref": "x",
          "y": "OUTDOOR_LIVING",
          "yref": "y"
         },
         {
          "font": {
           "color": "#000000",
           "size": 8
          },
          "showarrow": false,
          "text": "2",
          "x": "TABLE",
          "xref": "x",
          "y": "OUTDOOR_LIVING",
          "yref": "y"
         },
         {
          "font": {
           "color": "#000000",
           "size": 8
          },
          "showarrow": false,
          "text": "0",
          "x": "WALL_ART",
          "xref": "x",
          "y": "OUTDOOR_LIVING",
          "yref": "y"
         },
         {
          "font": {
           "color": "#000000",
           "size": 8
          },
          "showarrow": false,
          "text": "0",
          "x": "ACCESSORY",
          "xref": "x",
          "y": "OFFICE_PRODUCTS",
          "yref": "y"
         },
         {
          "font": {
           "color": "#000000",
           "size": 8
          },
          "showarrow": false,
          "text": "0",
          "x": "BOOT",
          "xref": "x",
          "y": "OFFICE_PRODUCTS",
          "yref": "y"
         },
         {
          "font": {
           "color": "#000000",
           "size": 8
          },
          "showarrow": false,
          "text": "0",
          "x": "CELLULAR_PHONE_CASE",
          "xref": "x",
          "y": "OFFICE_PRODUCTS",
          "yref": "y"
         },
         {
          "font": {
           "color": "#000000",
           "size": 8
          },
          "showarrow": false,
          "text": "2",
          "x": "CHAIR",
          "xref": "x",
          "y": "OFFICE_PRODUCTS",
          "yref": "y"
         },
         {
          "font": {
           "color": "#000000",
           "size": 8
          },
          "showarrow": false,
          "text": "0",
          "x": "EARRING",
          "xref": "x",
          "y": "OFFICE_PRODUCTS",
          "yref": "y"
         },
         {
          "font": {
           "color": "#000000",
           "size": 8
          },
          "showarrow": false,
          "text": "0",
          "x": "FINEEARRING",
          "xref": "x",
          "y": "OFFICE_PRODUCTS",
          "yref": "y"
         },
         {
          "font": {
           "color": "#000000",
           "size": 8
          },
          "showarrow": false,
          "text": "0",
          "x": "FINENECKLACEBRACELETANKLET",
          "xref": "x",
          "y": "OFFICE_PRODUCTS",
          "yref": "y"
         },
         {
          "font": {
           "color": "#000000",
           "size": 8
          },
          "showarrow": false,
          "text": "0",
          "x": "FINERING",
          "xref": "x",
          "y": "OFFICE_PRODUCTS",
          "yref": "y"
         },
         {
          "font": {
           "color": "#000000",
           "size": 8
          },
          "showarrow": false,
          "text": "1",
          "x": "GROCERY",
          "xref": "x",
          "y": "OFFICE_PRODUCTS",
          "yref": "y"
         },
         {
          "font": {
           "color": "#000000",
           "size": 8
          },
          "showarrow": false,
          "text": "0",
          "x": "HANDBAG",
          "xref": "x",
          "y": "OFFICE_PRODUCTS",
          "yref": "y"
         },
         {
          "font": {
           "color": "#000000",
           "size": 8
          },
          "showarrow": false,
          "text": "3",
          "x": "HARDWARE_HANDLE",
          "xref": "x",
          "y": "OFFICE_PRODUCTS",
          "yref": "y"
         },
         {
          "font": {
           "color": "#000000",
           "size": 8
          },
          "showarrow": false,
          "text": "0",
          "x": "HAT",
          "xref": "x",
          "y": "OFFICE_PRODUCTS",
          "yref": "y"
         },
         {
          "font": {
           "color": "#000000",
           "size": 8
          },
          "showarrow": false,
          "text": "0",
          "x": "HEALTH_PERSONAL_CARE",
          "xref": "x",
          "y": "OFFICE_PRODUCTS",
          "yref": "y"
         },
         {
          "font": {
           "color": "#000000",
           "size": 8
          },
          "showarrow": false,
          "text": "6",
          "x": "HOME",
          "xref": "x",
          "y": "OFFICE_PRODUCTS",
          "yref": "y"
         },
         {
          "font": {
           "color": "#000000",
           "size": 8
          },
          "showarrow": false,
          "text": "5",
          "x": "HOME_BED_AND_BATH",
          "xref": "x",
          "y": "OFFICE_PRODUCTS",
          "yref": "y"
         },
         {
          "font": {
           "color": "#000000",
           "size": 8
          },
          "showarrow": false,
          "text": "0",
          "x": "HOME_FURNITURE_AND_DECOR",
          "xref": "x",
          "y": "OFFICE_PRODUCTS",
          "yref": "y"
         },
         {
          "font": {
           "color": "#000000",
           "size": 8
          },
          "showarrow": false,
          "text": "2",
          "x": "JANITORIAL_SUPPLY",
          "xref": "x",
          "y": "OFFICE_PRODUCTS",
          "yref": "y"
         },
         {
          "font": {
           "color": "#000000",
           "size": 8
          },
          "showarrow": false,
          "text": "2",
          "x": "KITCHEN",
          "xref": "x",
          "y": "OFFICE_PRODUCTS",
          "yref": "y"
         },
         {
          "font": {
           "color": "#000000",
           "size": 8
          },
          "showarrow": false,
          "text": "0",
          "x": "LAMP",
          "xref": "x",
          "y": "OFFICE_PRODUCTS",
          "yref": "y"
         },
         {
          "font": {
           "color": "#000000",
           "size": 8
          },
          "showarrow": false,
          "text": "0",
          "x": "LIGHT_BULB",
          "xref": "x",
          "y": "OFFICE_PRODUCTS",
          "yref": "y"
         },
         {
          "font": {
           "color": "#000000",
           "size": 8
          },
          "showarrow": false,
          "text": "0",
          "x": "LIGHT_FIXTURE",
          "xref": "x",
          "y": "OFFICE_PRODUCTS",
          "yref": "y"
         },
         {
          "font": {
           "color": "#000000",
           "size": 8
          },
          "showarrow": false,
          "text": "207",
          "x": "OFFICE_PRODUCTS",
          "xref": "x",
          "y": "OFFICE_PRODUCTS",
          "yref": "y"
         },
         {
          "font": {
           "color": "#000000",
           "size": 8
          },
          "showarrow": false,
          "text": "1",
          "x": "OUTDOOR_LIVING",
          "xref": "x",
          "y": "OFFICE_PRODUCTS",
          "yref": "y"
         },
         {
          "font": {
           "color": "#000000",
           "size": 8
          },
          "showarrow": false,
          "text": "0",
          "x": "PET_SUPPLIES",
          "xref": "x",
          "y": "OFFICE_PRODUCTS",
          "yref": "y"
         },
         {
          "font": {
           "color": "#000000",
           "size": 8
          },
          "showarrow": false,
          "text": "0",
          "x": "RUG",
          "xref": "x",
          "y": "OFFICE_PRODUCTS",
          "yref": "y"
         },
         {
          "font": {
           "color": "#000000",
           "size": 8
          },
          "showarrow": false,
          "text": "0",
          "x": "SANDAL",
          "xref": "x",
          "y": "OFFICE_PRODUCTS",
          "yref": "y"
         },
         {
          "font": {
           "color": "#000000",
           "size": 8
          },
          "showarrow": false,
          "text": "0",
          "x": "SHOES",
          "xref": "x",
          "y": "OFFICE_PRODUCTS",
          "yref": "y"
         },
         {
          "font": {
           "color": "#000000",
           "size": 8
          },
          "showarrow": false,
          "text": "0",
          "x": "SOFA",
          "xref": "x",
          "y": "OFFICE_PRODUCTS",
          "yref": "y"
         },
         {
          "font": {
           "color": "#000000",
           "size": 8
          },
          "showarrow": false,
          "text": "1",
          "x": "SPORTING_GOODS",
          "xref": "x",
          "y": "OFFICE_PRODUCTS",
          "yref": "y"
         },
         {
          "font": {
           "color": "#000000",
           "size": 8
          },
          "showarrow": false,
          "text": "0",
          "x": "TABLE",
          "xref": "x",
          "y": "OFFICE_PRODUCTS",
          "yref": "y"
         },
         {
          "font": {
           "color": "#000000",
           "size": 8
          },
          "showarrow": false,
          "text": "0",
          "x": "WALL_ART",
          "xref": "x",
          "y": "OFFICE_PRODUCTS",
          "yref": "y"
         },
         {
          "font": {
           "color": "#000000",
           "size": 8
          },
          "showarrow": false,
          "text": "0",
          "x": "ACCESSORY",
          "xref": "x",
          "y": "LIGHT_FIXTURE",
          "yref": "y"
         },
         {
          "font": {
           "color": "#000000",
           "size": 8
          },
          "showarrow": false,
          "text": "0",
          "x": "BOOT",
          "xref": "x",
          "y": "LIGHT_FIXTURE",
          "yref": "y"
         },
         {
          "font": {
           "color": "#000000",
           "size": 8
          },
          "showarrow": false,
          "text": "0",
          "x": "CELLULAR_PHONE_CASE",
          "xref": "x",
          "y": "LIGHT_FIXTURE",
          "yref": "y"
         },
         {
          "font": {
           "color": "#000000",
           "size": 8
          },
          "showarrow": false,
          "text": "1",
          "x": "CHAIR",
          "xref": "x",
          "y": "LIGHT_FIXTURE",
          "yref": "y"
         },
         {
          "font": {
           "color": "#000000",
           "size": 8
          },
          "showarrow": false,
          "text": "0",
          "x": "EARRING",
          "xref": "x",
          "y": "LIGHT_FIXTURE",
          "yref": "y"
         },
         {
          "font": {
           "color": "#000000",
           "size": 8
          },
          "showarrow": false,
          "text": "0",
          "x": "FINEEARRING",
          "xref": "x",
          "y": "LIGHT_FIXTURE",
          "yref": "y"
         },
         {
          "font": {
           "color": "#000000",
           "size": 8
          },
          "showarrow": false,
          "text": "1",
          "x": "FINENECKLACEBRACELETANKLET",
          "xref": "x",
          "y": "LIGHT_FIXTURE",
          "yref": "y"
         },
         {
          "font": {
           "color": "#000000",
           "size": 8
          },
          "showarrow": false,
          "text": "0",
          "x": "FINERING",
          "xref": "x",
          "y": "LIGHT_FIXTURE",
          "yref": "y"
         },
         {
          "font": {
           "color": "#000000",
           "size": 8
          },
          "showarrow": false,
          "text": "0",
          "x": "GROCERY",
          "xref": "x",
          "y": "LIGHT_FIXTURE",
          "yref": "y"
         },
         {
          "font": {
           "color": "#000000",
           "size": 8
          },
          "showarrow": false,
          "text": "0",
          "x": "HANDBAG",
          "xref": "x",
          "y": "LIGHT_FIXTURE",
          "yref": "y"
         },
         {
          "font": {
           "color": "#000000",
           "size": 8
          },
          "showarrow": false,
          "text": "0",
          "x": "HARDWARE_HANDLE",
          "xref": "x",
          "y": "LIGHT_FIXTURE",
          "yref": "y"
         },
         {
          "font": {
           "color": "#000000",
           "size": 8
          },
          "showarrow": false,
          "text": "0",
          "x": "HAT",
          "xref": "x",
          "y": "LIGHT_FIXTURE",
          "yref": "y"
         },
         {
          "font": {
           "color": "#000000",
           "size": 8
          },
          "showarrow": false,
          "text": "0",
          "x": "HEALTH_PERSONAL_CARE",
          "xref": "x",
          "y": "LIGHT_FIXTURE",
          "yref": "y"
         },
         {
          "font": {
           "color": "#000000",
           "size": 8
          },
          "showarrow": false,
          "text": "0",
          "x": "HOME",
          "xref": "x",
          "y": "LIGHT_FIXTURE",
          "yref": "y"
         },
         {
          "font": {
           "color": "#000000",
           "size": 8
          },
          "showarrow": false,
          "text": "0",
          "x": "HOME_BED_AND_BATH",
          "xref": "x",
          "y": "LIGHT_FIXTURE",
          "yref": "y"
         },
         {
          "font": {
           "color": "#000000",
           "size": 8
          },
          "showarrow": false,
          "text": "1",
          "x": "HOME_FURNITURE_AND_DECOR",
          "xref": "x",
          "y": "LIGHT_FIXTURE",
          "yref": "y"
         },
         {
          "font": {
           "color": "#000000",
           "size": 8
          },
          "showarrow": false,
          "text": "0",
          "x": "JANITORIAL_SUPPLY",
          "xref": "x",
          "y": "LIGHT_FIXTURE",
          "yref": "y"
         },
         {
          "font": {
           "color": "#000000",
           "size": 8
          },
          "showarrow": false,
          "text": "0",
          "x": "KITCHEN",
          "xref": "x",
          "y": "LIGHT_FIXTURE",
          "yref": "y"
         },
         {
          "font": {
           "color": "#000000",
           "size": 8
          },
          "showarrow": false,
          "text": "19",
          "x": "LAMP",
          "xref": "x",
          "y": "LIGHT_FIXTURE",
          "yref": "y"
         },
         {
          "font": {
           "color": "#000000",
           "size": 8
          },
          "showarrow": false,
          "text": "4",
          "x": "LIGHT_BULB",
          "xref": "x",
          "y": "LIGHT_FIXTURE",
          "yref": "y"
         },
         {
          "font": {
           "color": "#000000",
           "size": 8
          },
          "showarrow": false,
          "text": "81",
          "x": "LIGHT_FIXTURE",
          "xref": "x",
          "y": "LIGHT_FIXTURE",
          "yref": "y"
         },
         {
          "font": {
           "color": "#000000",
           "size": 8
          },
          "showarrow": false,
          "text": "0",
          "x": "OFFICE_PRODUCTS",
          "xref": "x",
          "y": "LIGHT_FIXTURE",
          "yref": "y"
         },
         {
          "font": {
           "color": "#000000",
           "size": 8
          },
          "showarrow": false,
          "text": "1",
          "x": "OUTDOOR_LIVING",
          "xref": "x",
          "y": "LIGHT_FIXTURE",
          "yref": "y"
         },
         {
          "font": {
           "color": "#000000",
           "size": 8
          },
          "showarrow": false,
          "text": "0",
          "x": "PET_SUPPLIES",
          "xref": "x",
          "y": "LIGHT_FIXTURE",
          "yref": "y"
         },
         {
          "font": {
           "color": "#000000",
           "size": 8
          },
          "showarrow": false,
          "text": "0",
          "x": "RUG",
          "xref": "x",
          "y": "LIGHT_FIXTURE",
          "yref": "y"
         },
         {
          "font": {
           "color": "#000000",
           "size": 8
          },
          "showarrow": false,
          "text": "0",
          "x": "SANDAL",
          "xref": "x",
          "y": "LIGHT_FIXTURE",
          "yref": "y"
         },
         {
          "font": {
           "color": "#000000",
           "size": 8
          },
          "showarrow": false,
          "text": "0",
          "x": "SHOES",
          "xref": "x",
          "y": "LIGHT_FIXTURE",
          "yref": "y"
         },
         {
          "font": {
           "color": "#000000",
           "size": 8
          },
          "showarrow": false,
          "text": "0",
          "x": "SOFA",
          "xref": "x",
          "y": "LIGHT_FIXTURE",
          "yref": "y"
         },
         {
          "font": {
           "color": "#000000",
           "size": 8
          },
          "showarrow": false,
          "text": "0",
          "x": "SPORTING_GOODS",
          "xref": "x",
          "y": "LIGHT_FIXTURE",
          "yref": "y"
         },
         {
          "font": {
           "color": "#000000",
           "size": 8
          },
          "showarrow": false,
          "text": "0",
          "x": "TABLE",
          "xref": "x",
          "y": "LIGHT_FIXTURE",
          "yref": "y"
         },
         {
          "font": {
           "color": "#000000",
           "size": 8
          },
          "showarrow": false,
          "text": "0",
          "x": "WALL_ART",
          "xref": "x",
          "y": "LIGHT_FIXTURE",
          "yref": "y"
         },
         {
          "font": {
           "color": "#000000",
           "size": 8
          },
          "showarrow": false,
          "text": "0",
          "x": "ACCESSORY",
          "xref": "x",
          "y": "LIGHT_BULB",
          "yref": "y"
         },
         {
          "font": {
           "color": "#000000",
           "size": 8
          },
          "showarrow": false,
          "text": "0",
          "x": "BOOT",
          "xref": "x",
          "y": "LIGHT_BULB",
          "yref": "y"
         },
         {
          "font": {
           "color": "#000000",
           "size": 8
          },
          "showarrow": false,
          "text": "0",
          "x": "CELLULAR_PHONE_CASE",
          "xref": "x",
          "y": "LIGHT_BULB",
          "yref": "y"
         },
         {
          "font": {
           "color": "#000000",
           "size": 8
          },
          "showarrow": false,
          "text": "0",
          "x": "CHAIR",
          "xref": "x",
          "y": "LIGHT_BULB",
          "yref": "y"
         },
         {
          "font": {
           "color": "#000000",
           "size": 8
          },
          "showarrow": false,
          "text": "0",
          "x": "EARRING",
          "xref": "x",
          "y": "LIGHT_BULB",
          "yref": "y"
         },
         {
          "font": {
           "color": "#000000",
           "size": 8
          },
          "showarrow": false,
          "text": "0",
          "x": "FINEEARRING",
          "xref": "x",
          "y": "LIGHT_BULB",
          "yref": "y"
         },
         {
          "font": {
           "color": "#000000",
           "size": 8
          },
          "showarrow": false,
          "text": "0",
          "x": "FINENECKLACEBRACELETANKLET",
          "xref": "x",
          "y": "LIGHT_BULB",
          "yref": "y"
         },
         {
          "font": {
           "color": "#000000",
           "size": 8
          },
          "showarrow": false,
          "text": "0",
          "x": "FINERING",
          "xref": "x",
          "y": "LIGHT_BULB",
          "yref": "y"
         },
         {
          "font": {
           "color": "#000000",
           "size": 8
          },
          "showarrow": false,
          "text": "0",
          "x": "GROCERY",
          "xref": "x",
          "y": "LIGHT_BULB",
          "yref": "y"
         },
         {
          "font": {
           "color": "#000000",
           "size": 8
          },
          "showarrow": false,
          "text": "0",
          "x": "HANDBAG",
          "xref": "x",
          "y": "LIGHT_BULB",
          "yref": "y"
         },
         {
          "font": {
           "color": "#000000",
           "size": 8
          },
          "showarrow": false,
          "text": "0",
          "x": "HARDWARE_HANDLE",
          "xref": "x",
          "y": "LIGHT_BULB",
          "yref": "y"
         },
         {
          "font": {
           "color": "#000000",
           "size": 8
          },
          "showarrow": false,
          "text": "0",
          "x": "HAT",
          "xref": "x",
          "y": "LIGHT_BULB",
          "yref": "y"
         },
         {
          "font": {
           "color": "#000000",
           "size": 8
          },
          "showarrow": false,
          "text": "0",
          "x": "HEALTH_PERSONAL_CARE",
          "xref": "x",
          "y": "LIGHT_BULB",
          "yref": "y"
         },
         {
          "font": {
           "color": "#000000",
           "size": 8
          },
          "showarrow": false,
          "text": "0",
          "x": "HOME",
          "xref": "x",
          "y": "LIGHT_BULB",
          "yref": "y"
         },
         {
          "font": {
           "color": "#000000",
           "size": 8
          },
          "showarrow": false,
          "text": "0",
          "x": "HOME_BED_AND_BATH",
          "xref": "x",
          "y": "LIGHT_BULB",
          "yref": "y"
         },
         {
          "font": {
           "color": "#000000",
           "size": 8
          },
          "showarrow": false,
          "text": "0",
          "x": "HOME_FURNITURE_AND_DECOR",
          "xref": "x",
          "y": "LIGHT_BULB",
          "yref": "y"
         },
         {
          "font": {
           "color": "#000000",
           "size": 8
          },
          "showarrow": false,
          "text": "1",
          "x": "JANITORIAL_SUPPLY",
          "xref": "x",
          "y": "LIGHT_BULB",
          "yref": "y"
         },
         {
          "font": {
           "color": "#000000",
           "size": 8
          },
          "showarrow": false,
          "text": "0",
          "x": "KITCHEN",
          "xref": "x",
          "y": "LIGHT_BULB",
          "yref": "y"
         },
         {
          "font": {
           "color": "#000000",
           "size": 8
          },
          "showarrow": false,
          "text": "0",
          "x": "LAMP",
          "xref": "x",
          "y": "LIGHT_BULB",
          "yref": "y"
         },
         {
          "font": {
           "color": "#000000",
           "size": 8
          },
          "showarrow": false,
          "text": "150",
          "x": "LIGHT_BULB",
          "xref": "x",
          "y": "LIGHT_BULB",
          "yref": "y"
         },
         {
          "font": {
           "color": "#000000",
           "size": 8
          },
          "showarrow": false,
          "text": "0",
          "x": "LIGHT_FIXTURE",
          "xref": "x",
          "y": "LIGHT_BULB",
          "yref": "y"
         },
         {
          "font": {
           "color": "#000000",
           "size": 8
          },
          "showarrow": false,
          "text": "0",
          "x": "OFFICE_PRODUCTS",
          "xref": "x",
          "y": "LIGHT_BULB",
          "yref": "y"
         },
         {
          "font": {
           "color": "#000000",
           "size": 8
          },
          "showarrow": false,
          "text": "0",
          "x": "OUTDOOR_LIVING",
          "xref": "x",
          "y": "LIGHT_BULB",
          "yref": "y"
         },
         {
          "font": {
           "color": "#000000",
           "size": 8
          },
          "showarrow": false,
          "text": "0",
          "x": "PET_SUPPLIES",
          "xref": "x",
          "y": "LIGHT_BULB",
          "yref": "y"
         },
         {
          "font": {
           "color": "#000000",
           "size": 8
          },
          "showarrow": false,
          "text": "0",
          "x": "RUG",
          "xref": "x",
          "y": "LIGHT_BULB",
          "yref": "y"
         },
         {
          "font": {
           "color": "#000000",
           "size": 8
          },
          "showarrow": false,
          "text": "0",
          "x": "SANDAL",
          "xref": "x",
          "y": "LIGHT_BULB",
          "yref": "y"
         },
         {
          "font": {
           "color": "#000000",
           "size": 8
          },
          "showarrow": false,
          "text": "0",
          "x": "SHOES",
          "xref": "x",
          "y": "LIGHT_BULB",
          "yref": "y"
         },
         {
          "font": {
           "color": "#000000",
           "size": 8
          },
          "showarrow": false,
          "text": "0",
          "x": "SOFA",
          "xref": "x",
          "y": "LIGHT_BULB",
          "yref": "y"
         },
         {
          "font": {
           "color": "#000000",
           "size": 8
          },
          "showarrow": false,
          "text": "0",
          "x": "SPORTING_GOODS",
          "xref": "x",
          "y": "LIGHT_BULB",
          "yref": "y"
         },
         {
          "font": {
           "color": "#000000",
           "size": 8
          },
          "showarrow": false,
          "text": "0",
          "x": "TABLE",
          "xref": "x",
          "y": "LIGHT_BULB",
          "yref": "y"
         },
         {
          "font": {
           "color": "#000000",
           "size": 8
          },
          "showarrow": false,
          "text": "0",
          "x": "WALL_ART",
          "xref": "x",
          "y": "LIGHT_BULB",
          "yref": "y"
         },
         {
          "font": {
           "color": "#000000",
           "size": 8
          },
          "showarrow": false,
          "text": "0",
          "x": "ACCESSORY",
          "xref": "x",
          "y": "LAMP",
          "yref": "y"
         },
         {
          "font": {
           "color": "#000000",
           "size": 8
          },
          "showarrow": false,
          "text": "0",
          "x": "BOOT",
          "xref": "x",
          "y": "LAMP",
          "yref": "y"
         },
         {
          "font": {
           "color": "#000000",
           "size": 8
          },
          "showarrow": false,
          "text": "0",
          "x": "CELLULAR_PHONE_CASE",
          "xref": "x",
          "y": "LAMP",
          "yref": "y"
         },
         {
          "font": {
           "color": "#000000",
           "size": 8
          },
          "showarrow": false,
          "text": "1",
          "x": "CHAIR",
          "xref": "x",
          "y": "LAMP",
          "yref": "y"
         },
         {
          "font": {
           "color": "#000000",
           "size": 8
          },
          "showarrow": false,
          "text": "0",
          "x": "EARRING",
          "xref": "x",
          "y": "LAMP",
          "yref": "y"
         },
         {
          "font": {
           "color": "#000000",
           "size": 8
          },
          "showarrow": false,
          "text": "0",
          "x": "FINEEARRING",
          "xref": "x",
          "y": "LAMP",
          "yref": "y"
         },
         {
          "font": {
           "color": "#000000",
           "size": 8
          },
          "showarrow": false,
          "text": "0",
          "x": "FINENECKLACEBRACELETANKLET",
          "xref": "x",
          "y": "LAMP",
          "yref": "y"
         },
         {
          "font": {
           "color": "#000000",
           "size": 8
          },
          "showarrow": false,
          "text": "0",
          "x": "FINERING",
          "xref": "x",
          "y": "LAMP",
          "yref": "y"
         },
         {
          "font": {
           "color": "#000000",
           "size": 8
          },
          "showarrow": false,
          "text": "0",
          "x": "GROCERY",
          "xref": "x",
          "y": "LAMP",
          "yref": "y"
         },
         {
          "font": {
           "color": "#000000",
           "size": 8
          },
          "showarrow": false,
          "text": "0",
          "x": "HANDBAG",
          "xref": "x",
          "y": "LAMP",
          "yref": "y"
         },
         {
          "font": {
           "color": "#000000",
           "size": 8
          },
          "showarrow": false,
          "text": "0",
          "x": "HARDWARE_HANDLE",
          "xref": "x",
          "y": "LAMP",
          "yref": "y"
         },
         {
          "font": {
           "color": "#000000",
           "size": 8
          },
          "showarrow": false,
          "text": "0",
          "x": "HAT",
          "xref": "x",
          "y": "LAMP",
          "yref": "y"
         },
         {
          "font": {
           "color": "#000000",
           "size": 8
          },
          "showarrow": false,
          "text": "0",
          "x": "HEALTH_PERSONAL_CARE",
          "xref": "x",
          "y": "LAMP",
          "yref": "y"
         },
         {
          "font": {
           "color": "#000000",
           "size": 8
          },
          "showarrow": false,
          "text": "0",
          "x": "HOME",
          "xref": "x",
          "y": "LAMP",
          "yref": "y"
         },
         {
          "font": {
           "color": "#000000",
           "size": 8
          },
          "showarrow": false,
          "text": "0",
          "x": "HOME_BED_AND_BATH",
          "xref": "x",
          "y": "LAMP",
          "yref": "y"
         },
         {
          "font": {
           "color": "#000000",
           "size": 8
          },
          "showarrow": false,
          "text": "2",
          "x": "HOME_FURNITURE_AND_DECOR",
          "xref": "x",
          "y": "LAMP",
          "yref": "y"
         },
         {
          "font": {
           "color": "#000000",
           "size": 8
          },
          "showarrow": false,
          "text": "0",
          "x": "JANITORIAL_SUPPLY",
          "xref": "x",
          "y": "LAMP",
          "yref": "y"
         },
         {
          "font": {
           "color": "#000000",
           "size": 8
          },
          "showarrow": false,
          "text": "0",
          "x": "KITCHEN",
          "xref": "x",
          "y": "LAMP",
          "yref": "y"
         },
         {
          "font": {
           "color": "#000000",
           "size": 8
          },
          "showarrow": false,
          "text": "101",
          "x": "LAMP",
          "xref": "x",
          "y": "LAMP",
          "yref": "y"
         },
         {
          "font": {
           "color": "#000000",
           "size": 8
          },
          "showarrow": false,
          "text": "0",
          "x": "LIGHT_BULB",
          "xref": "x",
          "y": "LAMP",
          "yref": "y"
         },
         {
          "font": {
           "color": "#000000",
           "size": 8
          },
          "showarrow": false,
          "text": "3",
          "x": "LIGHT_FIXTURE",
          "xref": "x",
          "y": "LAMP",
          "yref": "y"
         },
         {
          "font": {
           "color": "#000000",
           "size": 8
          },
          "showarrow": false,
          "text": "0",
          "x": "OFFICE_PRODUCTS",
          "xref": "x",
          "y": "LAMP",
          "yref": "y"
         },
         {
          "font": {
           "color": "#000000",
           "size": 8
          },
          "showarrow": false,
          "text": "0",
          "x": "OUTDOOR_LIVING",
          "xref": "x",
          "y": "LAMP",
          "yref": "y"
         },
         {
          "font": {
           "color": "#000000",
           "size": 8
          },
          "showarrow": false,
          "text": "0",
          "x": "PET_SUPPLIES",
          "xref": "x",
          "y": "LAMP",
          "yref": "y"
         },
         {
          "font": {
           "color": "#000000",
           "size": 8
          },
          "showarrow": false,
          "text": "0",
          "x": "RUG",
          "xref": "x",
          "y": "LAMP",
          "yref": "y"
         },
         {
          "font": {
           "color": "#000000",
           "size": 8
          },
          "showarrow": false,
          "text": "0",
          "x": "SANDAL",
          "xref": "x",
          "y": "LAMP",
          "yref": "y"
         },
         {
          "font": {
           "color": "#000000",
           "size": 8
          },
          "showarrow": false,
          "text": "0",
          "x": "SHOES",
          "xref": "x",
          "y": "LAMP",
          "yref": "y"
         },
         {
          "font": {
           "color": "#000000",
           "size": 8
          },
          "showarrow": false,
          "text": "0",
          "x": "SOFA",
          "xref": "x",
          "y": "LAMP",
          "yref": "y"
         },
         {
          "font": {
           "color": "#000000",
           "size": 8
          },
          "showarrow": false,
          "text": "0",
          "x": "SPORTING_GOODS",
          "xref": "x",
          "y": "LAMP",
          "yref": "y"
         },
         {
          "font": {
           "color": "#000000",
           "size": 8
          },
          "showarrow": false,
          "text": "1",
          "x": "TABLE",
          "xref": "x",
          "y": "LAMP",
          "yref": "y"
         },
         {
          "font": {
           "color": "#000000",
           "size": 8
          },
          "showarrow": false,
          "text": "0",
          "x": "WALL_ART",
          "xref": "x",
          "y": "LAMP",
          "yref": "y"
         },
         {
          "font": {
           "color": "#000000",
           "size": 8
          },
          "showarrow": false,
          "text": "0",
          "x": "ACCESSORY",
          "xref": "x",
          "y": "KITCHEN",
          "yref": "y"
         },
         {
          "font": {
           "color": "#000000",
           "size": 8
          },
          "showarrow": false,
          "text": "0",
          "x": "BOOT",
          "xref": "x",
          "y": "KITCHEN",
          "yref": "y"
         },
         {
          "font": {
           "color": "#000000",
           "size": 8
          },
          "showarrow": false,
          "text": "0",
          "x": "CELLULAR_PHONE_CASE",
          "xref": "x",
          "y": "KITCHEN",
          "yref": "y"
         },
         {
          "font": {
           "color": "#000000",
           "size": 8
          },
          "showarrow": false,
          "text": "1",
          "x": "CHAIR",
          "xref": "x",
          "y": "KITCHEN",
          "yref": "y"
         },
         {
          "font": {
           "color": "#000000",
           "size": 8
          },
          "showarrow": false,
          "text": "0",
          "x": "EARRING",
          "xref": "x",
          "y": "KITCHEN",
          "yref": "y"
         },
         {
          "font": {
           "color": "#000000",
           "size": 8
          },
          "showarrow": false,
          "text": "0",
          "x": "FINEEARRING",
          "xref": "x",
          "y": "KITCHEN",
          "yref": "y"
         },
         {
          "font": {
           "color": "#000000",
           "size": 8
          },
          "showarrow": false,
          "text": "0",
          "x": "FINENECKLACEBRACELETANKLET",
          "xref": "x",
          "y": "KITCHEN",
          "yref": "y"
         },
         {
          "font": {
           "color": "#000000",
           "size": 8
          },
          "showarrow": false,
          "text": "0",
          "x": "FINERING",
          "xref": "x",
          "y": "KITCHEN",
          "yref": "y"
         },
         {
          "font": {
           "color": "#000000",
           "size": 8
          },
          "showarrow": false,
          "text": "1",
          "x": "GROCERY",
          "xref": "x",
          "y": "KITCHEN",
          "yref": "y"
         },
         {
          "font": {
           "color": "#000000",
           "size": 8
          },
          "showarrow": false,
          "text": "0",
          "x": "HANDBAG",
          "xref": "x",
          "y": "KITCHEN",
          "yref": "y"
         },
         {
          "font": {
           "color": "#000000",
           "size": 8
          },
          "showarrow": false,
          "text": "1",
          "x": "HARDWARE_HANDLE",
          "xref": "x",
          "y": "KITCHEN",
          "yref": "y"
         },
         {
          "font": {
           "color": "#000000",
           "size": 8
          },
          "showarrow": false,
          "text": "0",
          "x": "HAT",
          "xref": "x",
          "y": "KITCHEN",
          "yref": "y"
         },
         {
          "font": {
           "color": "#000000",
           "size": 8
          },
          "showarrow": false,
          "text": "4",
          "x": "HEALTH_PERSONAL_CARE",
          "xref": "x",
          "y": "KITCHEN",
          "yref": "y"
         },
         {
          "font": {
           "color": "#000000",
           "size": 8
          },
          "showarrow": false,
          "text": "19",
          "x": "HOME",
          "xref": "x",
          "y": "KITCHEN",
          "yref": "y"
         },
         {
          "font": {
           "color": "#000000",
           "size": 8
          },
          "showarrow": false,
          "text": "5",
          "x": "HOME_BED_AND_BATH",
          "xref": "x",
          "y": "KITCHEN",
          "yref": "y"
         },
         {
          "font": {
           "color": "#000000",
           "size": 8
          },
          "showarrow": false,
          "text": "6",
          "x": "HOME_FURNITURE_AND_DECOR",
          "xref": "x",
          "y": "KITCHEN",
          "yref": "y"
         },
         {
          "font": {
           "color": "#000000",
           "size": 8
          },
          "showarrow": false,
          "text": "3",
          "x": "JANITORIAL_SUPPLY",
          "xref": "x",
          "y": "KITCHEN",
          "yref": "y"
         },
         {
          "font": {
           "color": "#000000",
           "size": 8
          },
          "showarrow": false,
          "text": "90",
          "x": "KITCHEN",
          "xref": "x",
          "y": "KITCHEN",
          "yref": "y"
         },
         {
          "font": {
           "color": "#000000",
           "size": 8
          },
          "showarrow": false,
          "text": "0",
          "x": "LAMP",
          "xref": "x",
          "y": "KITCHEN",
          "yref": "y"
         },
         {
          "font": {
           "color": "#000000",
           "size": 8
          },
          "showarrow": false,
          "text": "0",
          "x": "LIGHT_BULB",
          "xref": "x",
          "y": "KITCHEN",
          "yref": "y"
         },
         {
          "font": {
           "color": "#000000",
           "size": 8
          },
          "showarrow": false,
          "text": "0",
          "x": "LIGHT_FIXTURE",
          "xref": "x",
          "y": "KITCHEN",
          "yref": "y"
         },
         {
          "font": {
           "color": "#000000",
           "size": 8
          },
          "showarrow": false,
          "text": "7",
          "x": "OFFICE_PRODUCTS",
          "xref": "x",
          "y": "KITCHEN",
          "yref": "y"
         },
         {
          "font": {
           "color": "#000000",
           "size": 8
          },
          "showarrow": false,
          "text": "1",
          "x": "OUTDOOR_LIVING",
          "xref": "x",
          "y": "KITCHEN",
          "yref": "y"
         },
         {
          "font": {
           "color": "#000000",
           "size": 8
          },
          "showarrow": false,
          "text": "0",
          "x": "PET_SUPPLIES",
          "xref": "x",
          "y": "KITCHEN",
          "yref": "y"
         },
         {
          "font": {
           "color": "#000000",
           "size": 8
          },
          "showarrow": false,
          "text": "0",
          "x": "RUG",
          "xref": "x",
          "y": "KITCHEN",
          "yref": "y"
         },
         {
          "font": {
           "color": "#000000",
           "size": 8
          },
          "showarrow": false,
          "text": "0",
          "x": "SANDAL",
          "xref": "x",
          "y": "KITCHEN",
          "yref": "y"
         },
         {
          "font": {
           "color": "#000000",
           "size": 8
          },
          "showarrow": false,
          "text": "0",
          "x": "SHOES",
          "xref": "x",
          "y": "KITCHEN",
          "yref": "y"
         },
         {
          "font": {
           "color": "#000000",
           "size": 8
          },
          "showarrow": false,
          "text": "0",
          "x": "SOFA",
          "xref": "x",
          "y": "KITCHEN",
          "yref": "y"
         },
         {
          "font": {
           "color": "#000000",
           "size": 8
          },
          "showarrow": false,
          "text": "3",
          "x": "SPORTING_GOODS",
          "xref": "x",
          "y": "KITCHEN",
          "yref": "y"
         },
         {
          "font": {
           "color": "#000000",
           "size": 8
          },
          "showarrow": false,
          "text": "0",
          "x": "TABLE",
          "xref": "x",
          "y": "KITCHEN",
          "yref": "y"
         },
         {
          "font": {
           "color": "#000000",
           "size": 8
          },
          "showarrow": false,
          "text": "0",
          "x": "WALL_ART",
          "xref": "x",
          "y": "KITCHEN",
          "yref": "y"
         },
         {
          "font": {
           "color": "#000000",
           "size": 8
          },
          "showarrow": false,
          "text": "0",
          "x": "ACCESSORY",
          "xref": "x",
          "y": "JANITORIAL_SUPPLY",
          "yref": "y"
         },
         {
          "font": {
           "color": "#000000",
           "size": 8
          },
          "showarrow": false,
          "text": "0",
          "x": "BOOT",
          "xref": "x",
          "y": "JANITORIAL_SUPPLY",
          "yref": "y"
         },
         {
          "font": {
           "color": "#000000",
           "size": 8
          },
          "showarrow": false,
          "text": "0",
          "x": "CELLULAR_PHONE_CASE",
          "xref": "x",
          "y": "JANITORIAL_SUPPLY",
          "yref": "y"
         },
         {
          "font": {
           "color": "#000000",
           "size": 8
          },
          "showarrow": false,
          "text": "1",
          "x": "CHAIR",
          "xref": "x",
          "y": "JANITORIAL_SUPPLY",
          "yref": "y"
         },
         {
          "font": {
           "color": "#000000",
           "size": 8
          },
          "showarrow": false,
          "text": "0",
          "x": "EARRING",
          "xref": "x",
          "y": "JANITORIAL_SUPPLY",
          "yref": "y"
         },
         {
          "font": {
           "color": "#000000",
           "size": 8
          },
          "showarrow": false,
          "text": "0",
          "x": "FINEEARRING",
          "xref": "x",
          "y": "JANITORIAL_SUPPLY",
          "yref": "y"
         },
         {
          "font": {
           "color": "#000000",
           "size": 8
          },
          "showarrow": false,
          "text": "0",
          "x": "FINENECKLACEBRACELETANKLET",
          "xref": "x",
          "y": "JANITORIAL_SUPPLY",
          "yref": "y"
         },
         {
          "font": {
           "color": "#000000",
           "size": 8
          },
          "showarrow": false,
          "text": "0",
          "x": "FINERING",
          "xref": "x",
          "y": "JANITORIAL_SUPPLY",
          "yref": "y"
         },
         {
          "font": {
           "color": "#000000",
           "size": 8
          },
          "showarrow": false,
          "text": "0",
          "x": "GROCERY",
          "xref": "x",
          "y": "JANITORIAL_SUPPLY",
          "yref": "y"
         },
         {
          "font": {
           "color": "#000000",
           "size": 8
          },
          "showarrow": false,
          "text": "0",
          "x": "HANDBAG",
          "xref": "x",
          "y": "JANITORIAL_SUPPLY",
          "yref": "y"
         },
         {
          "font": {
           "color": "#000000",
           "size": 8
          },
          "showarrow": false,
          "text": "1",
          "x": "HARDWARE_HANDLE",
          "xref": "x",
          "y": "JANITORIAL_SUPPLY",
          "yref": "y"
         },
         {
          "font": {
           "color": "#000000",
           "size": 8
          },
          "showarrow": false,
          "text": "0",
          "x": "HAT",
          "xref": "x",
          "y": "JANITORIAL_SUPPLY",
          "yref": "y"
         },
         {
          "font": {
           "color": "#000000",
           "size": 8
          },
          "showarrow": false,
          "text": "1",
          "x": "HEALTH_PERSONAL_CARE",
          "xref": "x",
          "y": "JANITORIAL_SUPPLY",
          "yref": "y"
         },
         {
          "font": {
           "color": "#000000",
           "size": 8
          },
          "showarrow": false,
          "text": "1",
          "x": "HOME",
          "xref": "x",
          "y": "JANITORIAL_SUPPLY",
          "yref": "y"
         },
         {
          "font": {
           "color": "#000000",
           "size": 8
          },
          "showarrow": false,
          "text": "2",
          "x": "HOME_BED_AND_BATH",
          "xref": "x",
          "y": "JANITORIAL_SUPPLY",
          "yref": "y"
         },
         {
          "font": {
           "color": "#000000",
           "size": 8
          },
          "showarrow": false,
          "text": "1",
          "x": "HOME_FURNITURE_AND_DECOR",
          "xref": "x",
          "y": "JANITORIAL_SUPPLY",
          "yref": "y"
         },
         {
          "font": {
           "color": "#000000",
           "size": 8
          },
          "showarrow": false,
          "text": "104",
          "x": "JANITORIAL_SUPPLY",
          "xref": "x",
          "y": "JANITORIAL_SUPPLY",
          "yref": "y"
         },
         {
          "font": {
           "color": "#000000",
           "size": 8
          },
          "showarrow": false,
          "text": "1",
          "x": "KITCHEN",
          "xref": "x",
          "y": "JANITORIAL_SUPPLY",
          "yref": "y"
         },
         {
          "font": {
           "color": "#000000",
           "size": 8
          },
          "showarrow": false,
          "text": "0",
          "x": "LAMP",
          "xref": "x",
          "y": "JANITORIAL_SUPPLY",
          "yref": "y"
         },
         {
          "font": {
           "color": "#000000",
           "size": 8
          },
          "showarrow": false,
          "text": "0",
          "x": "LIGHT_BULB",
          "xref": "x",
          "y": "JANITORIAL_SUPPLY",
          "yref": "y"
         },
         {
          "font": {
           "color": "#000000",
           "size": 8
          },
          "showarrow": false,
          "text": "0",
          "x": "LIGHT_FIXTURE",
          "xref": "x",
          "y": "JANITORIAL_SUPPLY",
          "yref": "y"
         },
         {
          "font": {
           "color": "#000000",
           "size": 8
          },
          "showarrow": false,
          "text": "1",
          "x": "OFFICE_PRODUCTS",
          "xref": "x",
          "y": "JANITORIAL_SUPPLY",
          "yref": "y"
         },
         {
          "font": {
           "color": "#000000",
           "size": 8
          },
          "showarrow": false,
          "text": "1",
          "x": "OUTDOOR_LIVING",
          "xref": "x",
          "y": "JANITORIAL_SUPPLY",
          "yref": "y"
         },
         {
          "font": {
           "color": "#000000",
           "size": 8
          },
          "showarrow": false,
          "text": "0",
          "x": "PET_SUPPLIES",
          "xref": "x",
          "y": "JANITORIAL_SUPPLY",
          "yref": "y"
         },
         {
          "font": {
           "color": "#000000",
           "size": 8
          },
          "showarrow": false,
          "text": "0",
          "x": "RUG",
          "xref": "x",
          "y": "JANITORIAL_SUPPLY",
          "yref": "y"
         },
         {
          "font": {
           "color": "#000000",
           "size": 8
          },
          "showarrow": false,
          "text": "0",
          "x": "SANDAL",
          "xref": "x",
          "y": "JANITORIAL_SUPPLY",
          "yref": "y"
         },
         {
          "font": {
           "color": "#000000",
           "size": 8
          },
          "showarrow": false,
          "text": "0",
          "x": "SHOES",
          "xref": "x",
          "y": "JANITORIAL_SUPPLY",
          "yref": "y"
         },
         {
          "font": {
           "color": "#000000",
           "size": 8
          },
          "showarrow": false,
          "text": "0",
          "x": "SOFA",
          "xref": "x",
          "y": "JANITORIAL_SUPPLY",
          "yref": "y"
         },
         {
          "font": {
           "color": "#000000",
           "size": 8
          },
          "showarrow": false,
          "text": "1",
          "x": "SPORTING_GOODS",
          "xref": "x",
          "y": "JANITORIAL_SUPPLY",
          "yref": "y"
         },
         {
          "font": {
           "color": "#000000",
           "size": 8
          },
          "showarrow": false,
          "text": "0",
          "x": "TABLE",
          "xref": "x",
          "y": "JANITORIAL_SUPPLY",
          "yref": "y"
         },
         {
          "font": {
           "color": "#000000",
           "size": 8
          },
          "showarrow": false,
          "text": "0",
          "x": "WALL_ART",
          "xref": "x",
          "y": "JANITORIAL_SUPPLY",
          "yref": "y"
         },
         {
          "font": {
           "color": "#000000",
           "size": 8
          },
          "showarrow": false,
          "text": "0",
          "x": "ACCESSORY",
          "xref": "x",
          "y": "HOME_FURNITURE_AND_DECOR",
          "yref": "y"
         },
         {
          "font": {
           "color": "#000000",
           "size": 8
          },
          "showarrow": false,
          "text": "0",
          "x": "BOOT",
          "xref": "x",
          "y": "HOME_FURNITURE_AND_DECOR",
          "yref": "y"
         },
         {
          "font": {
           "color": "#000000",
           "size": 8
          },
          "showarrow": false,
          "text": "0",
          "x": "CELLULAR_PHONE_CASE",
          "xref": "x",
          "y": "HOME_FURNITURE_AND_DECOR",
          "yref": "y"
         },
         {
          "font": {
           "color": "#000000",
           "size": 8
          },
          "showarrow": false,
          "text": "38",
          "x": "CHAIR",
          "xref": "x",
          "y": "HOME_FURNITURE_AND_DECOR",
          "yref": "y"
         },
         {
          "font": {
           "color": "#000000",
           "size": 8
          },
          "showarrow": false,
          "text": "0",
          "x": "EARRING",
          "xref": "x",
          "y": "HOME_FURNITURE_AND_DECOR",
          "yref": "y"
         },
         {
          "font": {
           "color": "#000000",
           "size": 8
          },
          "showarrow": false,
          "text": "0",
          "x": "FINEEARRING",
          "xref": "x",
          "y": "HOME_FURNITURE_AND_DECOR",
          "yref": "y"
         },
         {
          "font": {
           "color": "#000000",
           "size": 8
          },
          "showarrow": false,
          "text": "0",
          "x": "FINENECKLACEBRACELETANKLET",
          "xref": "x",
          "y": "HOME_FURNITURE_AND_DECOR",
          "yref": "y"
         },
         {
          "font": {
           "color": "#000000",
           "size": 8
          },
          "showarrow": false,
          "text": "0",
          "x": "FINERING",
          "xref": "x",
          "y": "HOME_FURNITURE_AND_DECOR",
          "yref": "y"
         },
         {
          "font": {
           "color": "#000000",
           "size": 8
          },
          "showarrow": false,
          "text": "0",
          "x": "GROCERY",
          "xref": "x",
          "y": "HOME_FURNITURE_AND_DECOR",
          "yref": "y"
         },
         {
          "font": {
           "color": "#000000",
           "size": 8
          },
          "showarrow": false,
          "text": "0",
          "x": "HANDBAG",
          "xref": "x",
          "y": "HOME_FURNITURE_AND_DECOR",
          "yref": "y"
         },
         {
          "font": {
           "color": "#000000",
           "size": 8
          },
          "showarrow": false,
          "text": "0",
          "x": "HARDWARE_HANDLE",
          "xref": "x",
          "y": "HOME_FURNITURE_AND_DECOR",
          "yref": "y"
         },
         {
          "font": {
           "color": "#000000",
           "size": 8
          },
          "showarrow": false,
          "text": "0",
          "x": "HAT",
          "xref": "x",
          "y": "HOME_FURNITURE_AND_DECOR",
          "yref": "y"
         },
         {
          "font": {
           "color": "#000000",
           "size": 8
          },
          "showarrow": false,
          "text": "0",
          "x": "HEALTH_PERSONAL_CARE",
          "xref": "x",
          "y": "HOME_FURNITURE_AND_DECOR",
          "yref": "y"
         },
         {
          "font": {
           "color": "#000000",
           "size": 8
          },
          "showarrow": false,
          "text": "16",
          "x": "HOME",
          "xref": "x",
          "y": "HOME_FURNITURE_AND_DECOR",
          "yref": "y"
         },
         {
          "font": {
           "color": "#000000",
           "size": 8
          },
          "showarrow": false,
          "text": "19",
          "x": "HOME_BED_AND_BATH",
          "xref": "x",
          "y": "HOME_FURNITURE_AND_DECOR",
          "yref": "y"
         },
         {
          "font": {
           "color": "#000000",
           "size": 8
          },
          "showarrow": false,
          "text": "327",
          "x": "HOME_FURNITURE_AND_DECOR",
          "xref": "x",
          "y": "HOME_FURNITURE_AND_DECOR",
          "yref": "y"
         },
         {
          "font": {
           "color": "#000000",
           "size": 8
          },
          "showarrow": false,
          "text": "0",
          "x": "JANITORIAL_SUPPLY",
          "xref": "x",
          "y": "HOME_FURNITURE_AND_DECOR",
          "yref": "y"
         },
         {
          "font": {
           "color": "#000000",
           "size": 8
          },
          "showarrow": false,
          "text": "2",
          "x": "KITCHEN",
          "xref": "x",
          "y": "HOME_FURNITURE_AND_DECOR",
          "yref": "y"
         },
         {
          "font": {
           "color": "#000000",
           "size": 8
          },
          "showarrow": false,
          "text": "1",
          "x": "LAMP",
          "xref": "x",
          "y": "HOME_FURNITURE_AND_DECOR",
          "yref": "y"
         },
         {
          "font": {
           "color": "#000000",
           "size": 8
          },
          "showarrow": false,
          "text": "2",
          "x": "LIGHT_BULB",
          "xref": "x",
          "y": "HOME_FURNITURE_AND_DECOR",
          "yref": "y"
         },
         {
          "font": {
           "color": "#000000",
           "size": 8
          },
          "showarrow": false,
          "text": "5",
          "x": "LIGHT_FIXTURE",
          "xref": "x",
          "y": "HOME_FURNITURE_AND_DECOR",
          "yref": "y"
         },
         {
          "font": {
           "color": "#000000",
           "size": 8
          },
          "showarrow": false,
          "text": "3",
          "x": "OFFICE_PRODUCTS",
          "xref": "x",
          "y": "HOME_FURNITURE_AND_DECOR",
          "yref": "y"
         },
         {
          "font": {
           "color": "#000000",
           "size": 8
          },
          "showarrow": false,
          "text": "1",
          "x": "OUTDOOR_LIVING",
          "xref": "x",
          "y": "HOME_FURNITURE_AND_DECOR",
          "yref": "y"
         },
         {
          "font": {
           "color": "#000000",
           "size": 8
          },
          "showarrow": false,
          "text": "2",
          "x": "PET_SUPPLIES",
          "xref": "x",
          "y": "HOME_FURNITURE_AND_DECOR",
          "yref": "y"
         },
         {
          "font": {
           "color": "#000000",
           "size": 8
          },
          "showarrow": false,
          "text": "8",
          "x": "RUG",
          "xref": "x",
          "y": "HOME_FURNITURE_AND_DECOR",
          "yref": "y"
         },
         {
          "font": {
           "color": "#000000",
           "size": 8
          },
          "showarrow": false,
          "text": "0",
          "x": "SANDAL",
          "xref": "x",
          "y": "HOME_FURNITURE_AND_DECOR",
          "yref": "y"
         },
         {
          "font": {
           "color": "#000000",
           "size": 8
          },
          "showarrow": false,
          "text": "0",
          "x": "SHOES",
          "xref": "x",
          "y": "HOME_FURNITURE_AND_DECOR",
          "yref": "y"
         },
         {
          "font": {
           "color": "#000000",
           "size": 8
          },
          "showarrow": false,
          "text": "13",
          "x": "SOFA",
          "xref": "x",
          "y": "HOME_FURNITURE_AND_DECOR",
          "yref": "y"
         },
         {
          "font": {
           "color": "#000000",
           "size": 8
          },
          "showarrow": false,
          "text": "2",
          "x": "SPORTING_GOODS",
          "xref": "x",
          "y": "HOME_FURNITURE_AND_DECOR",
          "yref": "y"
         },
         {
          "font": {
           "color": "#000000",
           "size": 8
          },
          "showarrow": false,
          "text": "12",
          "x": "TABLE",
          "xref": "x",
          "y": "HOME_FURNITURE_AND_DECOR",
          "yref": "y"
         },
         {
          "font": {
           "color": "#000000",
           "size": 8
          },
          "showarrow": false,
          "text": "0",
          "x": "WALL_ART",
          "xref": "x",
          "y": "HOME_FURNITURE_AND_DECOR",
          "yref": "y"
         },
         {
          "font": {
           "color": "#000000",
           "size": 8
          },
          "showarrow": false,
          "text": "0",
          "x": "ACCESSORY",
          "xref": "x",
          "y": "HOME_BED_AND_BATH",
          "yref": "y"
         },
         {
          "font": {
           "color": "#000000",
           "size": 8
          },
          "showarrow": false,
          "text": "0",
          "x": "BOOT",
          "xref": "x",
          "y": "HOME_BED_AND_BATH",
          "yref": "y"
         },
         {
          "font": {
           "color": "#000000",
           "size": 8
          },
          "showarrow": false,
          "text": "0",
          "x": "CELLULAR_PHONE_CASE",
          "xref": "x",
          "y": "HOME_BED_AND_BATH",
          "yref": "y"
         },
         {
          "font": {
           "color": "#000000",
           "size": 8
          },
          "showarrow": false,
          "text": "1",
          "x": "CHAIR",
          "xref": "x",
          "y": "HOME_BED_AND_BATH",
          "yref": "y"
         },
         {
          "font": {
           "color": "#000000",
           "size": 8
          },
          "showarrow": false,
          "text": "0",
          "x": "EARRING",
          "xref": "x",
          "y": "HOME_BED_AND_BATH",
          "yref": "y"
         },
         {
          "font": {
           "color": "#000000",
           "size": 8
          },
          "showarrow": false,
          "text": "0",
          "x": "FINEEARRING",
          "xref": "x",
          "y": "HOME_BED_AND_BATH",
          "yref": "y"
         },
         {
          "font": {
           "color": "#000000",
           "size": 8
          },
          "showarrow": false,
          "text": "0",
          "x": "FINENECKLACEBRACELETANKLET",
          "xref": "x",
          "y": "HOME_BED_AND_BATH",
          "yref": "y"
         },
         {
          "font": {
           "color": "#000000",
           "size": 8
          },
          "showarrow": false,
          "text": "0",
          "x": "FINERING",
          "xref": "x",
          "y": "HOME_BED_AND_BATH",
          "yref": "y"
         },
         {
          "font": {
           "color": "#000000",
           "size": 8
          },
          "showarrow": false,
          "text": "0",
          "x": "GROCERY",
          "xref": "x",
          "y": "HOME_BED_AND_BATH",
          "yref": "y"
         },
         {
          "font": {
           "color": "#000000",
           "size": 8
          },
          "showarrow": false,
          "text": "0",
          "x": "HANDBAG",
          "xref": "x",
          "y": "HOME_BED_AND_BATH",
          "yref": "y"
         },
         {
          "font": {
           "color": "#000000",
           "size": 8
          },
          "showarrow": false,
          "text": "1",
          "x": "HARDWARE_HANDLE",
          "xref": "x",
          "y": "HOME_BED_AND_BATH",
          "yref": "y"
         },
         {
          "font": {
           "color": "#000000",
           "size": 8
          },
          "showarrow": false,
          "text": "0",
          "x": "HAT",
          "xref": "x",
          "y": "HOME_BED_AND_BATH",
          "yref": "y"
         },
         {
          "font": {
           "color": "#000000",
           "size": 8
          },
          "showarrow": false,
          "text": "0",
          "x": "HEALTH_PERSONAL_CARE",
          "xref": "x",
          "y": "HOME_BED_AND_BATH",
          "yref": "y"
         },
         {
          "font": {
           "color": "#000000",
           "size": 8
          },
          "showarrow": false,
          "text": "28",
          "x": "HOME",
          "xref": "x",
          "y": "HOME_BED_AND_BATH",
          "yref": "y"
         },
         {
          "font": {
           "color": "#000000",
           "size": 8
          },
          "showarrow": false,
          "text": "571",
          "x": "HOME_BED_AND_BATH",
          "xref": "x",
          "y": "HOME_BED_AND_BATH",
          "yref": "y"
         },
         {
          "font": {
           "color": "#000000",
           "size": 8
          },
          "showarrow": false,
          "text": "6",
          "x": "HOME_FURNITURE_AND_DECOR",
          "xref": "x",
          "y": "HOME_BED_AND_BATH",
          "yref": "y"
         },
         {
          "font": {
           "color": "#000000",
           "size": 8
          },
          "showarrow": false,
          "text": "0",
          "x": "JANITORIAL_SUPPLY",
          "xref": "x",
          "y": "HOME_BED_AND_BATH",
          "yref": "y"
         },
         {
          "font": {
           "color": "#000000",
           "size": 8
          },
          "showarrow": false,
          "text": "2",
          "x": "KITCHEN",
          "xref": "x",
          "y": "HOME_BED_AND_BATH",
          "yref": "y"
         },
         {
          "font": {
           "color": "#000000",
           "size": 8
          },
          "showarrow": false,
          "text": "0",
          "x": "LAMP",
          "xref": "x",
          "y": "HOME_BED_AND_BATH",
          "yref": "y"
         },
         {
          "font": {
           "color": "#000000",
           "size": 8
          },
          "showarrow": false,
          "text": "0",
          "x": "LIGHT_BULB",
          "xref": "x",
          "y": "HOME_BED_AND_BATH",
          "yref": "y"
         },
         {
          "font": {
           "color": "#000000",
           "size": 8
          },
          "showarrow": false,
          "text": "0",
          "x": "LIGHT_FIXTURE",
          "xref": "x",
          "y": "HOME_BED_AND_BATH",
          "yref": "y"
         },
         {
          "font": {
           "color": "#000000",
           "size": 8
          },
          "showarrow": false,
          "text": "2",
          "x": "OFFICE_PRODUCTS",
          "xref": "x",
          "y": "HOME_BED_AND_BATH",
          "yref": "y"
         },
         {
          "font": {
           "color": "#000000",
           "size": 8
          },
          "showarrow": false,
          "text": "0",
          "x": "OUTDOOR_LIVING",
          "xref": "x",
          "y": "HOME_BED_AND_BATH",
          "yref": "y"
         },
         {
          "font": {
           "color": "#000000",
           "size": 8
          },
          "showarrow": false,
          "text": "1",
          "x": "PET_SUPPLIES",
          "xref": "x",
          "y": "HOME_BED_AND_BATH",
          "yref": "y"
         },
         {
          "font": {
           "color": "#000000",
           "size": 8
          },
          "showarrow": false,
          "text": "0",
          "x": "RUG",
          "xref": "x",
          "y": "HOME_BED_AND_BATH",
          "yref": "y"
         },
         {
          "font": {
           "color": "#000000",
           "size": 8
          },
          "showarrow": false,
          "text": "0",
          "x": "SANDAL",
          "xref": "x",
          "y": "HOME_BED_AND_BATH",
          "yref": "y"
         },
         {
          "font": {
           "color": "#000000",
           "size": 8
          },
          "showarrow": false,
          "text": "0",
          "x": "SHOES",
          "xref": "x",
          "y": "HOME_BED_AND_BATH",
          "yref": "y"
         },
         {
          "font": {
           "color": "#000000",
           "size": 8
          },
          "showarrow": false,
          "text": "0",
          "x": "SOFA",
          "xref": "x",
          "y": "HOME_BED_AND_BATH",
          "yref": "y"
         },
         {
          "font": {
           "color": "#000000",
           "size": 8
          },
          "showarrow": false,
          "text": "3",
          "x": "SPORTING_GOODS",
          "xref": "x",
          "y": "HOME_BED_AND_BATH",
          "yref": "y"
         },
         {
          "font": {
           "color": "#000000",
           "size": 8
          },
          "showarrow": false,
          "text": "1",
          "x": "TABLE",
          "xref": "x",
          "y": "HOME_BED_AND_BATH",
          "yref": "y"
         },
         {
          "font": {
           "color": "#000000",
           "size": 8
          },
          "showarrow": false,
          "text": "0",
          "x": "WALL_ART",
          "xref": "x",
          "y": "HOME_BED_AND_BATH",
          "yref": "y"
         },
         {
          "font": {
           "color": "#000000",
           "size": 8
          },
          "showarrow": false,
          "text": "0",
          "x": "ACCESSORY",
          "xref": "x",
          "y": "HOME",
          "yref": "y"
         },
         {
          "font": {
           "color": "#000000",
           "size": 8
          },
          "showarrow": false,
          "text": "0",
          "x": "BOOT",
          "xref": "x",
          "y": "HOME",
          "yref": "y"
         },
         {
          "font": {
           "color": "#000000",
           "size": 8
          },
          "showarrow": false,
          "text": "1",
          "x": "CELLULAR_PHONE_CASE",
          "xref": "x",
          "y": "HOME",
          "yref": "y"
         },
         {
          "font": {
           "color": "#000000",
           "size": 8
          },
          "showarrow": false,
          "text": "3",
          "x": "CHAIR",
          "xref": "x",
          "y": "HOME",
          "yref": "y"
         },
         {
          "font": {
           "color": "#000000",
           "size": 8
          },
          "showarrow": false,
          "text": "0",
          "x": "EARRING",
          "xref": "x",
          "y": "HOME",
          "yref": "y"
         },
         {
          "font": {
           "color": "#000000",
           "size": 8
          },
          "showarrow": false,
          "text": "0",
          "x": "FINEEARRING",
          "xref": "x",
          "y": "HOME",
          "yref": "y"
         },
         {
          "font": {
           "color": "#000000",
           "size": 8
          },
          "showarrow": false,
          "text": "1",
          "x": "FINENECKLACEBRACELETANKLET",
          "xref": "x",
          "y": "HOME",
          "yref": "y"
         },
         {
          "font": {
           "color": "#000000",
           "size": 8
          },
          "showarrow": false,
          "text": "1",
          "x": "FINERING",
          "xref": "x",
          "y": "HOME",
          "yref": "y"
         },
         {
          "font": {
           "color": "#000000",
           "size": 8
          },
          "showarrow": false,
          "text": "1",
          "x": "GROCERY",
          "xref": "x",
          "y": "HOME",
          "yref": "y"
         },
         {
          "font": {
           "color": "#000000",
           "size": 8
          },
          "showarrow": false,
          "text": "0",
          "x": "HANDBAG",
          "xref": "x",
          "y": "HOME",
          "yref": "y"
         },
         {
          "font": {
           "color": "#000000",
           "size": 8
          },
          "showarrow": false,
          "text": "4",
          "x": "HARDWARE_HANDLE",
          "xref": "x",
          "y": "HOME",
          "yref": "y"
         },
         {
          "font": {
           "color": "#000000",
           "size": 8
          },
          "showarrow": false,
          "text": "0",
          "x": "HAT",
          "xref": "x",
          "y": "HOME",
          "yref": "y"
         },
         {
          "font": {
           "color": "#000000",
           "size": 8
          },
          "showarrow": false,
          "text": "2",
          "x": "HEALTH_PERSONAL_CARE",
          "xref": "x",
          "y": "HOME",
          "yref": "y"
         },
         {
          "font": {
           "color": "#000000",
           "size": 8
          },
          "showarrow": false,
          "text": "921",
          "x": "HOME",
          "xref": "x",
          "y": "HOME",
          "yref": "y"
         },
         {
          "font": {
           "color": "#000000",
           "size": 8
          },
          "showarrow": false,
          "text": "58",
          "x": "HOME_BED_AND_BATH",
          "xref": "x",
          "y": "HOME",
          "yref": "y"
         },
         {
          "font": {
           "color": "#000000",
           "size": 8
          },
          "showarrow": false,
          "text": "19",
          "x": "HOME_FURNITURE_AND_DECOR",
          "xref": "x",
          "y": "HOME",
          "yref": "y"
         },
         {
          "font": {
           "color": "#000000",
           "size": 8
          },
          "showarrow": false,
          "text": "0",
          "x": "JANITORIAL_SUPPLY",
          "xref": "x",
          "y": "HOME",
          "yref": "y"
         },
         {
          "font": {
           "color": "#000000",
           "size": 8
          },
          "showarrow": false,
          "text": "5",
          "x": "KITCHEN",
          "xref": "x",
          "y": "HOME",
          "yref": "y"
         },
         {
          "font": {
           "color": "#000000",
           "size": 8
          },
          "showarrow": false,
          "text": "2",
          "x": "LAMP",
          "xref": "x",
          "y": "HOME",
          "yref": "y"
         },
         {
          "font": {
           "color": "#000000",
           "size": 8
          },
          "showarrow": false,
          "text": "0",
          "x": "LIGHT_BULB",
          "xref": "x",
          "y": "HOME",
          "yref": "y"
         },
         {
          "font": {
           "color": "#000000",
           "size": 8
          },
          "showarrow": false,
          "text": "3",
          "x": "LIGHT_FIXTURE",
          "xref": "x",
          "y": "HOME",
          "yref": "y"
         },
         {
          "font": {
           "color": "#000000",
           "size": 8
          },
          "showarrow": false,
          "text": "10",
          "x": "OFFICE_PRODUCTS",
          "xref": "x",
          "y": "HOME",
          "yref": "y"
         },
         {
          "font": {
           "color": "#000000",
           "size": 8
          },
          "showarrow": false,
          "text": "0",
          "x": "OUTDOOR_LIVING",
          "xref": "x",
          "y": "HOME",
          "yref": "y"
         },
         {
          "font": {
           "color": "#000000",
           "size": 8
          },
          "showarrow": false,
          "text": "4",
          "x": "PET_SUPPLIES",
          "xref": "x",
          "y": "HOME",
          "yref": "y"
         },
         {
          "font": {
           "color": "#000000",
           "size": 8
          },
          "showarrow": false,
          "text": "0",
          "x": "RUG",
          "xref": "x",
          "y": "HOME",
          "yref": "y"
         },
         {
          "font": {
           "color": "#000000",
           "size": 8
          },
          "showarrow": false,
          "text": "0",
          "x": "SANDAL",
          "xref": "x",
          "y": "HOME",
          "yref": "y"
         },
         {
          "font": {
           "color": "#000000",
           "size": 8
          },
          "showarrow": false,
          "text": "0",
          "x": "SHOES",
          "xref": "x",
          "y": "HOME",
          "yref": "y"
         },
         {
          "font": {
           "color": "#000000",
           "size": 8
          },
          "showarrow": false,
          "text": "0",
          "x": "SOFA",
          "xref": "x",
          "y": "HOME",
          "yref": "y"
         },
         {
          "font": {
           "color": "#000000",
           "size": 8
          },
          "showarrow": false,
          "text": "13",
          "x": "SPORTING_GOODS",
          "xref": "x",
          "y": "HOME",
          "yref": "y"
         },
         {
          "font": {
           "color": "#000000",
           "size": 8
          },
          "showarrow": false,
          "text": "1",
          "x": "TABLE",
          "xref": "x",
          "y": "HOME",
          "yref": "y"
         },
         {
          "font": {
           "color": "#000000",
           "size": 8
          },
          "showarrow": false,
          "text": "4",
          "x": "WALL_ART",
          "xref": "x",
          "y": "HOME",
          "yref": "y"
         },
         {
          "font": {
           "color": "#000000",
           "size": 8
          },
          "showarrow": false,
          "text": "2",
          "x": "ACCESSORY",
          "xref": "x",
          "y": "HEALTH_PERSONAL_CARE",
          "yref": "y"
         },
         {
          "font": {
           "color": "#000000",
           "size": 8
          },
          "showarrow": false,
          "text": "0",
          "x": "BOOT",
          "xref": "x",
          "y": "HEALTH_PERSONAL_CARE",
          "yref": "y"
         },
         {
          "font": {
           "color": "#000000",
           "size": 8
          },
          "showarrow": false,
          "text": "0",
          "x": "CELLULAR_PHONE_CASE",
          "xref": "x",
          "y": "HEALTH_PERSONAL_CARE",
          "yref": "y"
         },
         {
          "font": {
           "color": "#000000",
           "size": 8
          },
          "showarrow": false,
          "text": "0",
          "x": "CHAIR",
          "xref": "x",
          "y": "HEALTH_PERSONAL_CARE",
          "yref": "y"
         },
         {
          "font": {
           "color": "#000000",
           "size": 8
          },
          "showarrow": false,
          "text": "0",
          "x": "EARRING",
          "xref": "x",
          "y": "HEALTH_PERSONAL_CARE",
          "yref": "y"
         },
         {
          "font": {
           "color": "#000000",
           "size": 8
          },
          "showarrow": false,
          "text": "0",
          "x": "FINEEARRING",
          "xref": "x",
          "y": "HEALTH_PERSONAL_CARE",
          "yref": "y"
         },
         {
          "font": {
           "color": "#000000",
           "size": 8
          },
          "showarrow": false,
          "text": "0",
          "x": "FINENECKLACEBRACELETANKLET",
          "xref": "x",
          "y": "HEALTH_PERSONAL_CARE",
          "yref": "y"
         },
         {
          "font": {
           "color": "#000000",
           "size": 8
          },
          "showarrow": false,
          "text": "0",
          "x": "FINERING",
          "xref": "x",
          "y": "HEALTH_PERSONAL_CARE",
          "yref": "y"
         },
         {
          "font": {
           "color": "#000000",
           "size": 8
          },
          "showarrow": false,
          "text": "33",
          "x": "GROCERY",
          "xref": "x",
          "y": "HEALTH_PERSONAL_CARE",
          "yref": "y"
         },
         {
          "font": {
           "color": "#000000",
           "size": 8
          },
          "showarrow": false,
          "text": "0",
          "x": "HANDBAG",
          "xref": "x",
          "y": "HEALTH_PERSONAL_CARE",
          "yref": "y"
         },
         {
          "font": {
           "color": "#000000",
           "size": 8
          },
          "showarrow": false,
          "text": "0",
          "x": "HARDWARE_HANDLE",
          "xref": "x",
          "y": "HEALTH_PERSONAL_CARE",
          "yref": "y"
         },
         {
          "font": {
           "color": "#000000",
           "size": 8
          },
          "showarrow": false,
          "text": "0",
          "x": "HAT",
          "xref": "x",
          "y": "HEALTH_PERSONAL_CARE",
          "yref": "y"
         },
         {
          "font": {
           "color": "#000000",
           "size": 8
          },
          "showarrow": false,
          "text": "251",
          "x": "HEALTH_PERSONAL_CARE",
          "xref": "x",
          "y": "HEALTH_PERSONAL_CARE",
          "yref": "y"
         },
         {
          "font": {
           "color": "#000000",
           "size": 8
          },
          "showarrow": false,
          "text": "0",
          "x": "HOME",
          "xref": "x",
          "y": "HEALTH_PERSONAL_CARE",
          "yref": "y"
         },
         {
          "font": {
           "color": "#000000",
           "size": 8
          },
          "showarrow": false,
          "text": "0",
          "x": "HOME_BED_AND_BATH",
          "xref": "x",
          "y": "HEALTH_PERSONAL_CARE",
          "yref": "y"
         },
         {
          "font": {
           "color": "#000000",
           "size": 8
          },
          "showarrow": false,
          "text": "3",
          "x": "HOME_FURNITURE_AND_DECOR",
          "xref": "x",
          "y": "HEALTH_PERSONAL_CARE",
          "yref": "y"
         },
         {
          "font": {
           "color": "#000000",
           "size": 8
          },
          "showarrow": false,
          "text": "0",
          "x": "JANITORIAL_SUPPLY",
          "xref": "x",
          "y": "HEALTH_PERSONAL_CARE",
          "yref": "y"
         },
         {
          "font": {
           "color": "#000000",
           "size": 8
          },
          "showarrow": false,
          "text": "1",
          "x": "KITCHEN",
          "xref": "x",
          "y": "HEALTH_PERSONAL_CARE",
          "yref": "y"
         },
         {
          "font": {
           "color": "#000000",
           "size": 8
          },
          "showarrow": false,
          "text": "0",
          "x": "LAMP",
          "xref": "x",
          "y": "HEALTH_PERSONAL_CARE",
          "yref": "y"
         },
         {
          "font": {
           "color": "#000000",
           "size": 8
          },
          "showarrow": false,
          "text": "0",
          "x": "LIGHT_BULB",
          "xref": "x",
          "y": "HEALTH_PERSONAL_CARE",
          "yref": "y"
         },
         {
          "font": {
           "color": "#000000",
           "size": 8
          },
          "showarrow": false,
          "text": "0",
          "x": "LIGHT_FIXTURE",
          "xref": "x",
          "y": "HEALTH_PERSONAL_CARE",
          "yref": "y"
         },
         {
          "font": {
           "color": "#000000",
           "size": 8
          },
          "showarrow": false,
          "text": "0",
          "x": "OFFICE_PRODUCTS",
          "xref": "x",
          "y": "HEALTH_PERSONAL_CARE",
          "yref": "y"
         },
         {
          "font": {
           "color": "#000000",
           "size": 8
          },
          "showarrow": false,
          "text": "0",
          "x": "OUTDOOR_LIVING",
          "xref": "x",
          "y": "HEALTH_PERSONAL_CARE",
          "yref": "y"
         },
         {
          "font": {
           "color": "#000000",
           "size": 8
          },
          "showarrow": false,
          "text": "0",
          "x": "PET_SUPPLIES",
          "xref": "x",
          "y": "HEALTH_PERSONAL_CARE",
          "yref": "y"
         },
         {
          "font": {
           "color": "#000000",
           "size": 8
          },
          "showarrow": false,
          "text": "0",
          "x": "RUG",
          "xref": "x",
          "y": "HEALTH_PERSONAL_CARE",
          "yref": "y"
         },
         {
          "font": {
           "color": "#000000",
           "size": 8
          },
          "showarrow": false,
          "text": "0",
          "x": "SANDAL",
          "xref": "x",
          "y": "HEALTH_PERSONAL_CARE",
          "yref": "y"
         },
         {
          "font": {
           "color": "#000000",
           "size": 8
          },
          "showarrow": false,
          "text": "0",
          "x": "SHOES",
          "xref": "x",
          "y": "HEALTH_PERSONAL_CARE",
          "yref": "y"
         },
         {
          "font": {
           "color": "#000000",
           "size": 8
          },
          "showarrow": false,
          "text": "0",
          "x": "SOFA",
          "xref": "x",
          "y": "HEALTH_PERSONAL_CARE",
          "yref": "y"
         },
         {
          "font": {
           "color": "#000000",
           "size": 8
          },
          "showarrow": false,
          "text": "0",
          "x": "SPORTING_GOODS",
          "xref": "x",
          "y": "HEALTH_PERSONAL_CARE",
          "yref": "y"
         },
         {
          "font": {
           "color": "#000000",
           "size": 8
          },
          "showarrow": false,
          "text": "0",
          "x": "TABLE",
          "xref": "x",
          "y": "HEALTH_PERSONAL_CARE",
          "yref": "y"
         },
         {
          "font": {
           "color": "#000000",
           "size": 8
          },
          "showarrow": false,
          "text": "0",
          "x": "WALL_ART",
          "xref": "x",
          "y": "HEALTH_PERSONAL_CARE",
          "yref": "y"
         },
         {
          "font": {
           "color": "#000000",
           "size": 8
          },
          "showarrow": false,
          "text": "16",
          "x": "ACCESSORY",
          "xref": "x",
          "y": "HAT",
          "yref": "y"
         },
         {
          "font": {
           "color": "#000000",
           "size": 8
          },
          "showarrow": false,
          "text": "0",
          "x": "BOOT",
          "xref": "x",
          "y": "HAT",
          "yref": "y"
         },
         {
          "font": {
           "color": "#000000",
           "size": 8
          },
          "showarrow": false,
          "text": "0",
          "x": "CELLULAR_PHONE_CASE",
          "xref": "x",
          "y": "HAT",
          "yref": "y"
         },
         {
          "font": {
           "color": "#000000",
           "size": 8
          },
          "showarrow": false,
          "text": "0",
          "x": "CHAIR",
          "xref": "x",
          "y": "HAT",
          "yref": "y"
         },
         {
          "font": {
           "color": "#000000",
           "size": 8
          },
          "showarrow": false,
          "text": "0",
          "x": "EARRING",
          "xref": "x",
          "y": "HAT",
          "yref": "y"
         },
         {
          "font": {
           "color": "#000000",
           "size": 8
          },
          "showarrow": false,
          "text": "0",
          "x": "FINEEARRING",
          "xref": "x",
          "y": "HAT",
          "yref": "y"
         },
         {
          "font": {
           "color": "#000000",
           "size": 8
          },
          "showarrow": false,
          "text": "0",
          "x": "FINENECKLACEBRACELETANKLET",
          "xref": "x",
          "y": "HAT",
          "yref": "y"
         },
         {
          "font": {
           "color": "#000000",
           "size": 8
          },
          "showarrow": false,
          "text": "0",
          "x": "FINERING",
          "xref": "x",
          "y": "HAT",
          "yref": "y"
         },
         {
          "font": {
           "color": "#000000",
           "size": 8
          },
          "showarrow": false,
          "text": "1",
          "x": "GROCERY",
          "xref": "x",
          "y": "HAT",
          "yref": "y"
         },
         {
          "font": {
           "color": "#000000",
           "size": 8
          },
          "showarrow": false,
          "text": "0",
          "x": "HANDBAG",
          "xref": "x",
          "y": "HAT",
          "yref": "y"
         },
         {
          "font": {
           "color": "#000000",
           "size": 8
          },
          "showarrow": false,
          "text": "0",
          "x": "HARDWARE_HANDLE",
          "xref": "x",
          "y": "HAT",
          "yref": "y"
         },
         {
          "font": {
           "color": "#000000",
           "size": 8
          },
          "showarrow": false,
          "text": "110",
          "x": "HAT",
          "xref": "x",
          "y": "HAT",
          "yref": "y"
         },
         {
          "font": {
           "color": "#000000",
           "size": 8
          },
          "showarrow": false,
          "text": "0",
          "x": "HEALTH_PERSONAL_CARE",
          "xref": "x",
          "y": "HAT",
          "yref": "y"
         },
         {
          "font": {
           "color": "#000000",
           "size": 8
          },
          "showarrow": false,
          "text": "0",
          "x": "HOME",
          "xref": "x",
          "y": "HAT",
          "yref": "y"
         },
         {
          "font": {
           "color": "#000000",
           "size": 8
          },
          "showarrow": false,
          "text": "0",
          "x": "HOME_BED_AND_BATH",
          "xref": "x",
          "y": "HAT",
          "yref": "y"
         },
         {
          "font": {
           "color": "#000000",
           "size": 8
          },
          "showarrow": false,
          "text": "1",
          "x": "HOME_FURNITURE_AND_DECOR",
          "xref": "x",
          "y": "HAT",
          "yref": "y"
         },
         {
          "font": {
           "color": "#000000",
           "size": 8
          },
          "showarrow": false,
          "text": "0",
          "x": "JANITORIAL_SUPPLY",
          "xref": "x",
          "y": "HAT",
          "yref": "y"
         },
         {
          "font": {
           "color": "#000000",
           "size": 8
          },
          "showarrow": false,
          "text": "0",
          "x": "KITCHEN",
          "xref": "x",
          "y": "HAT",
          "yref": "y"
         },
         {
          "font": {
           "color": "#000000",
           "size": 8
          },
          "showarrow": false,
          "text": "0",
          "x": "LAMP",
          "xref": "x",
          "y": "HAT",
          "yref": "y"
         },
         {
          "font": {
           "color": "#000000",
           "size": 8
          },
          "showarrow": false,
          "text": "0",
          "x": "LIGHT_BULB",
          "xref": "x",
          "y": "HAT",
          "yref": "y"
         },
         {
          "font": {
           "color": "#000000",
           "size": 8
          },
          "showarrow": false,
          "text": "0",
          "x": "LIGHT_FIXTURE",
          "xref": "x",
          "y": "HAT",
          "yref": "y"
         },
         {
          "font": {
           "color": "#000000",
           "size": 8
          },
          "showarrow": false,
          "text": "0",
          "x": "OFFICE_PRODUCTS",
          "xref": "x",
          "y": "HAT",
          "yref": "y"
         },
         {
          "font": {
           "color": "#000000",
           "size": 8
          },
          "showarrow": false,
          "text": "0",
          "x": "OUTDOOR_LIVING",
          "xref": "x",
          "y": "HAT",
          "yref": "y"
         },
         {
          "font": {
           "color": "#000000",
           "size": 8
          },
          "showarrow": false,
          "text": "2",
          "x": "PET_SUPPLIES",
          "xref": "x",
          "y": "HAT",
          "yref": "y"
         },
         {
          "font": {
           "color": "#000000",
           "size": 8
          },
          "showarrow": false,
          "text": "0",
          "x": "RUG",
          "xref": "x",
          "y": "HAT",
          "yref": "y"
         },
         {
          "font": {
           "color": "#000000",
           "size": 8
          },
          "showarrow": false,
          "text": "0",
          "x": "SANDAL",
          "xref": "x",
          "y": "HAT",
          "yref": "y"
         },
         {
          "font": {
           "color": "#000000",
           "size": 8
          },
          "showarrow": false,
          "text": "0",
          "x": "SHOES",
          "xref": "x",
          "y": "HAT",
          "yref": "y"
         },
         {
          "font": {
           "color": "#000000",
           "size": 8
          },
          "showarrow": false,
          "text": "0",
          "x": "SOFA",
          "xref": "x",
          "y": "HAT",
          "yref": "y"
         },
         {
          "font": {
           "color": "#000000",
           "size": 8
          },
          "showarrow": false,
          "text": "1",
          "x": "SPORTING_GOODS",
          "xref": "x",
          "y": "HAT",
          "yref": "y"
         },
         {
          "font": {
           "color": "#000000",
           "size": 8
          },
          "showarrow": false,
          "text": "0",
          "x": "TABLE",
          "xref": "x",
          "y": "HAT",
          "yref": "y"
         },
         {
          "font": {
           "color": "#000000",
           "size": 8
          },
          "showarrow": false,
          "text": "0",
          "x": "WALL_ART",
          "xref": "x",
          "y": "HAT",
          "yref": "y"
         },
         {
          "font": {
           "color": "#000000",
           "size": 8
          },
          "showarrow": false,
          "text": "0",
          "x": "ACCESSORY",
          "xref": "x",
          "y": "HARDWARE_HANDLE",
          "yref": "y"
         },
         {
          "font": {
           "color": "#000000",
           "size": 8
          },
          "showarrow": false,
          "text": "0",
          "x": "BOOT",
          "xref": "x",
          "y": "HARDWARE_HANDLE",
          "yref": "y"
         },
         {
          "font": {
           "color": "#000000",
           "size": 8
          },
          "showarrow": false,
          "text": "0",
          "x": "CELLULAR_PHONE_CASE",
          "xref": "x",
          "y": "HARDWARE_HANDLE",
          "yref": "y"
         },
         {
          "font": {
           "color": "#000000",
           "size": 8
          },
          "showarrow": false,
          "text": "0",
          "x": "CHAIR",
          "xref": "x",
          "y": "HARDWARE_HANDLE",
          "yref": "y"
         },
         {
          "font": {
           "color": "#000000",
           "size": 8
          },
          "showarrow": false,
          "text": "0",
          "x": "EARRING",
          "xref": "x",
          "y": "HARDWARE_HANDLE",
          "yref": "y"
         },
         {
          "font": {
           "color": "#000000",
           "size": 8
          },
          "showarrow": false,
          "text": "0",
          "x": "FINEEARRING",
          "xref": "x",
          "y": "HARDWARE_HANDLE",
          "yref": "y"
         },
         {
          "font": {
           "color": "#000000",
           "size": 8
          },
          "showarrow": false,
          "text": "0",
          "x": "FINENECKLACEBRACELETANKLET",
          "xref": "x",
          "y": "HARDWARE_HANDLE",
          "yref": "y"
         },
         {
          "font": {
           "color": "#000000",
           "size": 8
          },
          "showarrow": false,
          "text": "0",
          "x": "FINERING",
          "xref": "x",
          "y": "HARDWARE_HANDLE",
          "yref": "y"
         },
         {
          "font": {
           "color": "#000000",
           "size": 8
          },
          "showarrow": false,
          "text": "0",
          "x": "GROCERY",
          "xref": "x",
          "y": "HARDWARE_HANDLE",
          "yref": "y"
         },
         {
          "font": {
           "color": "#000000",
           "size": 8
          },
          "showarrow": false,
          "text": "0",
          "x": "HANDBAG",
          "xref": "x",
          "y": "HARDWARE_HANDLE",
          "yref": "y"
         },
         {
          "font": {
           "color": "#000000",
           "size": 8
          },
          "showarrow": false,
          "text": "165",
          "x": "HARDWARE_HANDLE",
          "xref": "x",
          "y": "HARDWARE_HANDLE",
          "yref": "y"
         },
         {
          "font": {
           "color": "#000000",
           "size": 8
          },
          "showarrow": false,
          "text": "0",
          "x": "HAT",
          "xref": "x",
          "y": "HARDWARE_HANDLE",
          "yref": "y"
         },
         {
          "font": {
           "color": "#000000",
           "size": 8
          },
          "showarrow": false,
          "text": "0",
          "x": "HEALTH_PERSONAL_CARE",
          "xref": "x",
          "y": "HARDWARE_HANDLE",
          "yref": "y"
         },
         {
          "font": {
           "color": "#000000",
           "size": 8
          },
          "showarrow": false,
          "text": "2",
          "x": "HOME",
          "xref": "x",
          "y": "HARDWARE_HANDLE",
          "yref": "y"
         },
         {
          "font": {
           "color": "#000000",
           "size": 8
          },
          "showarrow": false,
          "text": "0",
          "x": "HOME_BED_AND_BATH",
          "xref": "x",
          "y": "HARDWARE_HANDLE",
          "yref": "y"
         },
         {
          "font": {
           "color": "#000000",
           "size": 8
          },
          "showarrow": false,
          "text": "0",
          "x": "HOME_FURNITURE_AND_DECOR",
          "xref": "x",
          "y": "HARDWARE_HANDLE",
          "yref": "y"
         },
         {
          "font": {
           "color": "#000000",
           "size": 8
          },
          "showarrow": false,
          "text": "0",
          "x": "JANITORIAL_SUPPLY",
          "xref": "x",
          "y": "HARDWARE_HANDLE",
          "yref": "y"
         },
         {
          "font": {
           "color": "#000000",
           "size": 8
          },
          "showarrow": false,
          "text": "0",
          "x": "KITCHEN",
          "xref": "x",
          "y": "HARDWARE_HANDLE",
          "yref": "y"
         },
         {
          "font": {
           "color": "#000000",
           "size": 8
          },
          "showarrow": false,
          "text": "0",
          "x": "LAMP",
          "xref": "x",
          "y": "HARDWARE_HANDLE",
          "yref": "y"
         },
         {
          "font": {
           "color": "#000000",
           "size": 8
          },
          "showarrow": false,
          "text": "0",
          "x": "LIGHT_BULB",
          "xref": "x",
          "y": "HARDWARE_HANDLE",
          "yref": "y"
         },
         {
          "font": {
           "color": "#000000",
           "size": 8
          },
          "showarrow": false,
          "text": "0",
          "x": "LIGHT_FIXTURE",
          "xref": "x",
          "y": "HARDWARE_HANDLE",
          "yref": "y"
         },
         {
          "font": {
           "color": "#000000",
           "size": 8
          },
          "showarrow": false,
          "text": "1",
          "x": "OFFICE_PRODUCTS",
          "xref": "x",
          "y": "HARDWARE_HANDLE",
          "yref": "y"
         },
         {
          "font": {
           "color": "#000000",
           "size": 8
          },
          "showarrow": false,
          "text": "2",
          "x": "OUTDOOR_LIVING",
          "xref": "x",
          "y": "HARDWARE_HANDLE",
          "yref": "y"
         },
         {
          "font": {
           "color": "#000000",
           "size": 8
          },
          "showarrow": false,
          "text": "2",
          "x": "PET_SUPPLIES",
          "xref": "x",
          "y": "HARDWARE_HANDLE",
          "yref": "y"
         },
         {
          "font": {
           "color": "#000000",
           "size": 8
          },
          "showarrow": false,
          "text": "0",
          "x": "RUG",
          "xref": "x",
          "y": "HARDWARE_HANDLE",
          "yref": "y"
         },
         {
          "font": {
           "color": "#000000",
           "size": 8
          },
          "showarrow": false,
          "text": "0",
          "x": "SANDAL",
          "xref": "x",
          "y": "HARDWARE_HANDLE",
          "yref": "y"
         },
         {
          "font": {
           "color": "#000000",
           "size": 8
          },
          "showarrow": false,
          "text": "0",
          "x": "SHOES",
          "xref": "x",
          "y": "HARDWARE_HANDLE",
          "yref": "y"
         },
         {
          "font": {
           "color": "#000000",
           "size": 8
          },
          "showarrow": false,
          "text": "0",
          "x": "SOFA",
          "xref": "x",
          "y": "HARDWARE_HANDLE",
          "yref": "y"
         },
         {
          "font": {
           "color": "#000000",
           "size": 8
          },
          "showarrow": false,
          "text": "0",
          "x": "SPORTING_GOODS",
          "xref": "x",
          "y": "HARDWARE_HANDLE",
          "yref": "y"
         },
         {
          "font": {
           "color": "#000000",
           "size": 8
          },
          "showarrow": false,
          "text": "0",
          "x": "TABLE",
          "xref": "x",
          "y": "HARDWARE_HANDLE",
          "yref": "y"
         },
         {
          "font": {
           "color": "#000000",
           "size": 8
          },
          "showarrow": false,
          "text": "0",
          "x": "WALL_ART",
          "xref": "x",
          "y": "HARDWARE_HANDLE",
          "yref": "y"
         },
         {
          "font": {
           "color": "#000000",
           "size": 8
          },
          "showarrow": false,
          "text": "1",
          "x": "ACCESSORY",
          "xref": "x",
          "y": "HANDBAG",
          "yref": "y"
         },
         {
          "font": {
           "color": "#000000",
           "size": 8
          },
          "showarrow": false,
          "text": "0",
          "x": "BOOT",
          "xref": "x",
          "y": "HANDBAG",
          "yref": "y"
         },
         {
          "font": {
           "color": "#000000",
           "size": 8
          },
          "showarrow": false,
          "text": "0",
          "x": "CELLULAR_PHONE_CASE",
          "xref": "x",
          "y": "HANDBAG",
          "yref": "y"
         },
         {
          "font": {
           "color": "#000000",
           "size": 8
          },
          "showarrow": false,
          "text": "0",
          "x": "CHAIR",
          "xref": "x",
          "y": "HANDBAG",
          "yref": "y"
         },
         {
          "font": {
           "color": "#000000",
           "size": 8
          },
          "showarrow": false,
          "text": "0",
          "x": "EARRING",
          "xref": "x",
          "y": "HANDBAG",
          "yref": "y"
         },
         {
          "font": {
           "color": "#000000",
           "size": 8
          },
          "showarrow": false,
          "text": "0",
          "x": "FINEEARRING",
          "xref": "x",
          "y": "HANDBAG",
          "yref": "y"
         },
         {
          "font": {
           "color": "#000000",
           "size": 8
          },
          "showarrow": false,
          "text": "0",
          "x": "FINENECKLACEBRACELETANKLET",
          "xref": "x",
          "y": "HANDBAG",
          "yref": "y"
         },
         {
          "font": {
           "color": "#000000",
           "size": 8
          },
          "showarrow": false,
          "text": "0",
          "x": "FINERING",
          "xref": "x",
          "y": "HANDBAG",
          "yref": "y"
         },
         {
          "font": {
           "color": "#000000",
           "size": 8
          },
          "showarrow": false,
          "text": "0",
          "x": "GROCERY",
          "xref": "x",
          "y": "HANDBAG",
          "yref": "y"
         },
         {
          "font": {
           "color": "#000000",
           "size": 8
          },
          "showarrow": false,
          "text": "146",
          "x": "HANDBAG",
          "xref": "x",
          "y": "HANDBAG",
          "yref": "y"
         },
         {
          "font": {
           "color": "#000000",
           "size": 8
          },
          "showarrow": false,
          "text": "1",
          "x": "HARDWARE_HANDLE",
          "xref": "x",
          "y": "HANDBAG",
          "yref": "y"
         },
         {
          "font": {
           "color": "#000000",
           "size": 8
          },
          "showarrow": false,
          "text": "0",
          "x": "HAT",
          "xref": "x",
          "y": "HANDBAG",
          "yref": "y"
         },
         {
          "font": {
           "color": "#000000",
           "size": 8
          },
          "showarrow": false,
          "text": "0",
          "x": "HEALTH_PERSONAL_CARE",
          "xref": "x",
          "y": "HANDBAG",
          "yref": "y"
         },
         {
          "font": {
           "color": "#000000",
           "size": 8
          },
          "showarrow": false,
          "text": "0",
          "x": "HOME",
          "xref": "x",
          "y": "HANDBAG",
          "yref": "y"
         },
         {
          "font": {
           "color": "#000000",
           "size": 8
          },
          "showarrow": false,
          "text": "0",
          "x": "HOME_BED_AND_BATH",
          "xref": "x",
          "y": "HANDBAG",
          "yref": "y"
         },
         {
          "font": {
           "color": "#000000",
           "size": 8
          },
          "showarrow": false,
          "text": "1",
          "x": "HOME_FURNITURE_AND_DECOR",
          "xref": "x",
          "y": "HANDBAG",
          "yref": "y"
         },
         {
          "font": {
           "color": "#000000",
           "size": 8
          },
          "showarrow": false,
          "text": "0",
          "x": "JANITORIAL_SUPPLY",
          "xref": "x",
          "y": "HANDBAG",
          "yref": "y"
         },
         {
          "font": {
           "color": "#000000",
           "size": 8
          },
          "showarrow": false,
          "text": "1",
          "x": "KITCHEN",
          "xref": "x",
          "y": "HANDBAG",
          "yref": "y"
         },
         {
          "font": {
           "color": "#000000",
           "size": 8
          },
          "showarrow": false,
          "text": "0",
          "x": "LAMP",
          "xref": "x",
          "y": "HANDBAG",
          "yref": "y"
         },
         {
          "font": {
           "color": "#000000",
           "size": 8
          },
          "showarrow": false,
          "text": "0",
          "x": "LIGHT_BULB",
          "xref": "x",
          "y": "HANDBAG",
          "yref": "y"
         },
         {
          "font": {
           "color": "#000000",
           "size": 8
          },
          "showarrow": false,
          "text": "1",
          "x": "LIGHT_FIXTURE",
          "xref": "x",
          "y": "HANDBAG",
          "yref": "y"
         },
         {
          "font": {
           "color": "#000000",
           "size": 8
          },
          "showarrow": false,
          "text": "1",
          "x": "OFFICE_PRODUCTS",
          "xref": "x",
          "y": "HANDBAG",
          "yref": "y"
         },
         {
          "font": {
           "color": "#000000",
           "size": 8
          },
          "showarrow": false,
          "text": "1",
          "x": "OUTDOOR_LIVING",
          "xref": "x",
          "y": "HANDBAG",
          "yref": "y"
         },
         {
          "font": {
           "color": "#000000",
           "size": 8
          },
          "showarrow": false,
          "text": "1",
          "x": "PET_SUPPLIES",
          "xref": "x",
          "y": "HANDBAG",
          "yref": "y"
         },
         {
          "font": {
           "color": "#000000",
           "size": 8
          },
          "showarrow": false,
          "text": "0",
          "x": "RUG",
          "xref": "x",
          "y": "HANDBAG",
          "yref": "y"
         },
         {
          "font": {
           "color": "#000000",
           "size": 8
          },
          "showarrow": false,
          "text": "0",
          "x": "SANDAL",
          "xref": "x",
          "y": "HANDBAG",
          "yref": "y"
         },
         {
          "font": {
           "color": "#000000",
           "size": 8
          },
          "showarrow": false,
          "text": "2",
          "x": "SHOES",
          "xref": "x",
          "y": "HANDBAG",
          "yref": "y"
         },
         {
          "font": {
           "color": "#000000",
           "size": 8
          },
          "showarrow": false,
          "text": "1",
          "x": "SOFA",
          "xref": "x",
          "y": "HANDBAG",
          "yref": "y"
         },
         {
          "font": {
           "color": "#000000",
           "size": 8
          },
          "showarrow": false,
          "text": "2",
          "x": "SPORTING_GOODS",
          "xref": "x",
          "y": "HANDBAG",
          "yref": "y"
         },
         {
          "font": {
           "color": "#000000",
           "size": 8
          },
          "showarrow": false,
          "text": "0",
          "x": "TABLE",
          "xref": "x",
          "y": "HANDBAG",
          "yref": "y"
         },
         {
          "font": {
           "color": "#000000",
           "size": 8
          },
          "showarrow": false,
          "text": "0",
          "x": "WALL_ART",
          "xref": "x",
          "y": "HANDBAG",
          "yref": "y"
         },
         {
          "font": {
           "color": "#000000",
           "size": 8
          },
          "showarrow": false,
          "text": "0",
          "x": "ACCESSORY",
          "xref": "x",
          "y": "GROCERY",
          "yref": "y"
         },
         {
          "font": {
           "color": "#000000",
           "size": 8
          },
          "showarrow": false,
          "text": "0",
          "x": "BOOT",
          "xref": "x",
          "y": "GROCERY",
          "yref": "y"
         },
         {
          "font": {
           "color": "#000000",
           "size": 8
          },
          "showarrow": false,
          "text": "0",
          "x": "CELLULAR_PHONE_CASE",
          "xref": "x",
          "y": "GROCERY",
          "yref": "y"
         },
         {
          "font": {
           "color": "#000000",
           "size": 8
          },
          "showarrow": false,
          "text": "0",
          "x": "CHAIR",
          "xref": "x",
          "y": "GROCERY",
          "yref": "y"
         },
         {
          "font": {
           "color": "#000000",
           "size": 8
          },
          "showarrow": false,
          "text": "0",
          "x": "EARRING",
          "xref": "x",
          "y": "GROCERY",
          "yref": "y"
         },
         {
          "font": {
           "color": "#000000",
           "size": 8
          },
          "showarrow": false,
          "text": "0",
          "x": "FINEEARRING",
          "xref": "x",
          "y": "GROCERY",
          "yref": "y"
         },
         {
          "font": {
           "color": "#000000",
           "size": 8
          },
          "showarrow": false,
          "text": "0",
          "x": "FINENECKLACEBRACELETANKLET",
          "xref": "x",
          "y": "GROCERY",
          "yref": "y"
         },
         {
          "font": {
           "color": "#000000",
           "size": 8
          },
          "showarrow": false,
          "text": "0",
          "x": "FINERING",
          "xref": "x",
          "y": "GROCERY",
          "yref": "y"
         },
         {
          "font": {
           "color": "#000000",
           "size": 8
          },
          "showarrow": false,
          "text": "1286",
          "x": "GROCERY",
          "xref": "x",
          "y": "GROCERY",
          "yref": "y"
         },
         {
          "font": {
           "color": "#000000",
           "size": 8
          },
          "showarrow": false,
          "text": "2",
          "x": "HANDBAG",
          "xref": "x",
          "y": "GROCERY",
          "yref": "y"
         },
         {
          "font": {
           "color": "#000000",
           "size": 8
          },
          "showarrow": false,
          "text": "0",
          "x": "HARDWARE_HANDLE",
          "xref": "x",
          "y": "GROCERY",
          "yref": "y"
         },
         {
          "font": {
           "color": "#000000",
           "size": 8
          },
          "showarrow": false,
          "text": "0",
          "x": "HAT",
          "xref": "x",
          "y": "GROCERY",
          "yref": "y"
         },
         {
          "font": {
           "color": "#000000",
           "size": 8
          },
          "showarrow": false,
          "text": "16",
          "x": "HEALTH_PERSONAL_CARE",
          "xref": "x",
          "y": "GROCERY",
          "yref": "y"
         },
         {
          "font": {
           "color": "#000000",
           "size": 8
          },
          "showarrow": false,
          "text": "1",
          "x": "HOME",
          "xref": "x",
          "y": "GROCERY",
          "yref": "y"
         },
         {
          "font": {
           "color": "#000000",
           "size": 8
          },
          "showarrow": false,
          "text": "0",
          "x": "HOME_BED_AND_BATH",
          "xref": "x",
          "y": "GROCERY",
          "yref": "y"
         },
         {
          "font": {
           "color": "#000000",
           "size": 8
          },
          "showarrow": false,
          "text": "0",
          "x": "HOME_FURNITURE_AND_DECOR",
          "xref": "x",
          "y": "GROCERY",
          "yref": "y"
         },
         {
          "font": {
           "color": "#000000",
           "size": 8
          },
          "showarrow": false,
          "text": "0",
          "x": "JANITORIAL_SUPPLY",
          "xref": "x",
          "y": "GROCERY",
          "yref": "y"
         },
         {
          "font": {
           "color": "#000000",
           "size": 8
          },
          "showarrow": false,
          "text": "0",
          "x": "KITCHEN",
          "xref": "x",
          "y": "GROCERY",
          "yref": "y"
         },
         {
          "font": {
           "color": "#000000",
           "size": 8
          },
          "showarrow": false,
          "text": "0",
          "x": "LAMP",
          "xref": "x",
          "y": "GROCERY",
          "yref": "y"
         },
         {
          "font": {
           "color": "#000000",
           "size": 8
          },
          "showarrow": false,
          "text": "0",
          "x": "LIGHT_BULB",
          "xref": "x",
          "y": "GROCERY",
          "yref": "y"
         },
         {
          "font": {
           "color": "#000000",
           "size": 8
          },
          "showarrow": false,
          "text": "0",
          "x": "LIGHT_FIXTURE",
          "xref": "x",
          "y": "GROCERY",
          "yref": "y"
         },
         {
          "font": {
           "color": "#000000",
           "size": 8
          },
          "showarrow": false,
          "text": "2",
          "x": "OFFICE_PRODUCTS",
          "xref": "x",
          "y": "GROCERY",
          "yref": "y"
         },
         {
          "font": {
           "color": "#000000",
           "size": 8
          },
          "showarrow": false,
          "text": "0",
          "x": "OUTDOOR_LIVING",
          "xref": "x",
          "y": "GROCERY",
          "yref": "y"
         },
         {
          "font": {
           "color": "#000000",
           "size": 8
          },
          "showarrow": false,
          "text": "1",
          "x": "PET_SUPPLIES",
          "xref": "x",
          "y": "GROCERY",
          "yref": "y"
         },
         {
          "font": {
           "color": "#000000",
           "size": 8
          },
          "showarrow": false,
          "text": "0",
          "x": "RUG",
          "xref": "x",
          "y": "GROCERY",
          "yref": "y"
         },
         {
          "font": {
           "color": "#000000",
           "size": 8
          },
          "showarrow": false,
          "text": "0",
          "x": "SANDAL",
          "xref": "x",
          "y": "GROCERY",
          "yref": "y"
         },
         {
          "font": {
           "color": "#000000",
           "size": 8
          },
          "showarrow": false,
          "text": "0",
          "x": "SHOES",
          "xref": "x",
          "y": "GROCERY",
          "yref": "y"
         },
         {
          "font": {
           "color": "#000000",
           "size": 8
          },
          "showarrow": false,
          "text": "0",
          "x": "SOFA",
          "xref": "x",
          "y": "GROCERY",
          "yref": "y"
         },
         {
          "font": {
           "color": "#000000",
           "size": 8
          },
          "showarrow": false,
          "text": "1",
          "x": "SPORTING_GOODS",
          "xref": "x",
          "y": "GROCERY",
          "yref": "y"
         },
         {
          "font": {
           "color": "#000000",
           "size": 8
          },
          "showarrow": false,
          "text": "0",
          "x": "TABLE",
          "xref": "x",
          "y": "GROCERY",
          "yref": "y"
         },
         {
          "font": {
           "color": "#000000",
           "size": 8
          },
          "showarrow": false,
          "text": "0",
          "x": "WALL_ART",
          "xref": "x",
          "y": "GROCERY",
          "yref": "y"
         },
         {
          "font": {
           "color": "#000000",
           "size": 8
          },
          "showarrow": false,
          "text": "0",
          "x": "ACCESSORY",
          "xref": "x",
          "y": "FINERING",
          "yref": "y"
         },
         {
          "font": {
           "color": "#000000",
           "size": 8
          },
          "showarrow": false,
          "text": "0",
          "x": "BOOT",
          "xref": "x",
          "y": "FINERING",
          "yref": "y"
         },
         {
          "font": {
           "color": "#000000",
           "size": 8
          },
          "showarrow": false,
          "text": "0",
          "x": "CELLULAR_PHONE_CASE",
          "xref": "x",
          "y": "FINERING",
          "yref": "y"
         },
         {
          "font": {
           "color": "#000000",
           "size": 8
          },
          "showarrow": false,
          "text": "0",
          "x": "CHAIR",
          "xref": "x",
          "y": "FINERING",
          "yref": "y"
         },
         {
          "font": {
           "color": "#000000",
           "size": 8
          },
          "showarrow": false,
          "text": "2",
          "x": "EARRING",
          "xref": "x",
          "y": "FINERING",
          "yref": "y"
         },
         {
          "font": {
           "color": "#000000",
           "size": 8
          },
          "showarrow": false,
          "text": "3",
          "x": "FINEEARRING",
          "xref": "x",
          "y": "FINERING",
          "yref": "y"
         },
         {
          "font": {
           "color": "#000000",
           "size": 8
          },
          "showarrow": false,
          "text": "11",
          "x": "FINENECKLACEBRACELETANKLET",
          "xref": "x",
          "y": "FINERING",
          "yref": "y"
         },
         {
          "font": {
           "color": "#000000",
           "size": 8
          },
          "showarrow": false,
          "text": "291",
          "x": "FINERING",
          "xref": "x",
          "y": "FINERING",
          "yref": "y"
         },
         {
          "font": {
           "color": "#000000",
           "size": 8
          },
          "showarrow": false,
          "text": "0",
          "x": "GROCERY",
          "xref": "x",
          "y": "FINERING",
          "yref": "y"
         },
         {
          "font": {
           "color": "#000000",
           "size": 8
          },
          "showarrow": false,
          "text": "0",
          "x": "HANDBAG",
          "xref": "x",
          "y": "FINERING",
          "yref": "y"
         },
         {
          "font": {
           "color": "#000000",
           "size": 8
          },
          "showarrow": false,
          "text": "0",
          "x": "HARDWARE_HANDLE",
          "xref": "x",
          "y": "FINERING",
          "yref": "y"
         },
         {
          "font": {
           "color": "#000000",
           "size": 8
          },
          "showarrow": false,
          "text": "0",
          "x": "HAT",
          "xref": "x",
          "y": "FINERING",
          "yref": "y"
         },
         {
          "font": {
           "color": "#000000",
           "size": 8
          },
          "showarrow": false,
          "text": "0",
          "x": "HEALTH_PERSONAL_CARE",
          "xref": "x",
          "y": "FINERING",
          "yref": "y"
         },
         {
          "font": {
           "color": "#000000",
           "size": 8
          },
          "showarrow": false,
          "text": "1",
          "x": "HOME",
          "xref": "x",
          "y": "FINERING",
          "yref": "y"
         },
         {
          "font": {
           "color": "#000000",
           "size": 8
          },
          "showarrow": false,
          "text": "0",
          "x": "HOME_BED_AND_BATH",
          "xref": "x",
          "y": "FINERING",
          "yref": "y"
         },
         {
          "font": {
           "color": "#000000",
           "size": 8
          },
          "showarrow": false,
          "text": "0",
          "x": "HOME_FURNITURE_AND_DECOR",
          "xref": "x",
          "y": "FINERING",
          "yref": "y"
         },
         {
          "font": {
           "color": "#000000",
           "size": 8
          },
          "showarrow": false,
          "text": "0",
          "x": "JANITORIAL_SUPPLY",
          "xref": "x",
          "y": "FINERING",
          "yref": "y"
         },
         {
          "font": {
           "color": "#000000",
           "size": 8
          },
          "showarrow": false,
          "text": "0",
          "x": "KITCHEN",
          "xref": "x",
          "y": "FINERING",
          "yref": "y"
         },
         {
          "font": {
           "color": "#000000",
           "size": 8
          },
          "showarrow": false,
          "text": "0",
          "x": "LAMP",
          "xref": "x",
          "y": "FINERING",
          "yref": "y"
         },
         {
          "font": {
           "color": "#000000",
           "size": 8
          },
          "showarrow": false,
          "text": "0",
          "x": "LIGHT_BULB",
          "xref": "x",
          "y": "FINERING",
          "yref": "y"
         },
         {
          "font": {
           "color": "#000000",
           "size": 8
          },
          "showarrow": false,
          "text": "0",
          "x": "LIGHT_FIXTURE",
          "xref": "x",
          "y": "FINERING",
          "yref": "y"
         },
         {
          "font": {
           "color": "#000000",
           "size": 8
          },
          "showarrow": false,
          "text": "0",
          "x": "OFFICE_PRODUCTS",
          "xref": "x",
          "y": "FINERING",
          "yref": "y"
         },
         {
          "font": {
           "color": "#000000",
           "size": 8
          },
          "showarrow": false,
          "text": "0",
          "x": "OUTDOOR_LIVING",
          "xref": "x",
          "y": "FINERING",
          "yref": "y"
         },
         {
          "font": {
           "color": "#000000",
           "size": 8
          },
          "showarrow": false,
          "text": "0",
          "x": "PET_SUPPLIES",
          "xref": "x",
          "y": "FINERING",
          "yref": "y"
         },
         {
          "font": {
           "color": "#000000",
           "size": 8
          },
          "showarrow": false,
          "text": "0",
          "x": "RUG",
          "xref": "x",
          "y": "FINERING",
          "yref": "y"
         },
         {
          "font": {
           "color": "#000000",
           "size": 8
          },
          "showarrow": false,
          "text": "0",
          "x": "SANDAL",
          "xref": "x",
          "y": "FINERING",
          "yref": "y"
         },
         {
          "font": {
           "color": "#000000",
           "size": 8
          },
          "showarrow": false,
          "text": "0",
          "x": "SHOES",
          "xref": "x",
          "y": "FINERING",
          "yref": "y"
         },
         {
          "font": {
           "color": "#000000",
           "size": 8
          },
          "showarrow": false,
          "text": "0",
          "x": "SOFA",
          "xref": "x",
          "y": "FINERING",
          "yref": "y"
         },
         {
          "font": {
           "color": "#000000",
           "size": 8
          },
          "showarrow": false,
          "text": "0",
          "x": "SPORTING_GOODS",
          "xref": "x",
          "y": "FINERING",
          "yref": "y"
         },
         {
          "font": {
           "color": "#000000",
           "size": 8
          },
          "showarrow": false,
          "text": "0",
          "x": "TABLE",
          "xref": "x",
          "y": "FINERING",
          "yref": "y"
         },
         {
          "font": {
           "color": "#000000",
           "size": 8
          },
          "showarrow": false,
          "text": "0",
          "x": "WALL_ART",
          "xref": "x",
          "y": "FINERING",
          "yref": "y"
         },
         {
          "font": {
           "color": "#000000",
           "size": 8
          },
          "showarrow": false,
          "text": "1",
          "x": "ACCESSORY",
          "xref": "x",
          "y": "FINENECKLACEBRACELETANKLET",
          "yref": "y"
         },
         {
          "font": {
           "color": "#000000",
           "size": 8
          },
          "showarrow": false,
          "text": "0",
          "x": "BOOT",
          "xref": "x",
          "y": "FINENECKLACEBRACELETANKLET",
          "yref": "y"
         },
         {
          "font": {
           "color": "#000000",
           "size": 8
          },
          "showarrow": false,
          "text": "0",
          "x": "CELLULAR_PHONE_CASE",
          "xref": "x",
          "y": "FINENECKLACEBRACELETANKLET",
          "yref": "y"
         },
         {
          "font": {
           "color": "#000000",
           "size": 8
          },
          "showarrow": false,
          "text": "0",
          "x": "CHAIR",
          "xref": "x",
          "y": "FINENECKLACEBRACELETANKLET",
          "yref": "y"
         },
         {
          "font": {
           "color": "#000000",
           "size": 8
          },
          "showarrow": false,
          "text": "0",
          "x": "EARRING",
          "xref": "x",
          "y": "FINENECKLACEBRACELETANKLET",
          "yref": "y"
         },
         {
          "font": {
           "color": "#000000",
           "size": 8
          },
          "showarrow": false,
          "text": "4",
          "x": "FINEEARRING",
          "xref": "x",
          "y": "FINENECKLACEBRACELETANKLET",
          "yref": "y"
         },
         {
          "font": {
           "color": "#000000",
           "size": 8
          },
          "showarrow": false,
          "text": "266",
          "x": "FINENECKLACEBRACELETANKLET",
          "xref": "x",
          "y": "FINENECKLACEBRACELETANKLET",
          "yref": "y"
         },
         {
          "font": {
           "color": "#000000",
           "size": 8
          },
          "showarrow": false,
          "text": "0",
          "x": "FINERING",
          "xref": "x",
          "y": "FINENECKLACEBRACELETANKLET",
          "yref": "y"
         },
         {
          "font": {
           "color": "#000000",
           "size": 8
          },
          "showarrow": false,
          "text": "0",
          "x": "GROCERY",
          "xref": "x",
          "y": "FINENECKLACEBRACELETANKLET",
          "yref": "y"
         },
         {
          "font": {
           "color": "#000000",
           "size": 8
          },
          "showarrow": false,
          "text": "0",
          "x": "HANDBAG",
          "xref": "x",
          "y": "FINENECKLACEBRACELETANKLET",
          "yref": "y"
         },
         {
          "font": {
           "color": "#000000",
           "size": 8
          },
          "showarrow": false,
          "text": "0",
          "x": "HARDWARE_HANDLE",
          "xref": "x",
          "y": "FINENECKLACEBRACELETANKLET",
          "yref": "y"
         },
         {
          "font": {
           "color": "#000000",
           "size": 8
          },
          "showarrow": false,
          "text": "0",
          "x": "HAT",
          "xref": "x",
          "y": "FINENECKLACEBRACELETANKLET",
          "yref": "y"
         },
         {
          "font": {
           "color": "#000000",
           "size": 8
          },
          "showarrow": false,
          "text": "0",
          "x": "HEALTH_PERSONAL_CARE",
          "xref": "x",
          "y": "FINENECKLACEBRACELETANKLET",
          "yref": "y"
         },
         {
          "font": {
           "color": "#000000",
           "size": 8
          },
          "showarrow": false,
          "text": "0",
          "x": "HOME",
          "xref": "x",
          "y": "FINENECKLACEBRACELETANKLET",
          "yref": "y"
         },
         {
          "font": {
           "color": "#000000",
           "size": 8
          },
          "showarrow": false,
          "text": "0",
          "x": "HOME_BED_AND_BATH",
          "xref": "x",
          "y": "FINENECKLACEBRACELETANKLET",
          "yref": "y"
         },
         {
          "font": {
           "color": "#000000",
           "size": 8
          },
          "showarrow": false,
          "text": "0",
          "x": "HOME_FURNITURE_AND_DECOR",
          "xref": "x",
          "y": "FINENECKLACEBRACELETANKLET",
          "yref": "y"
         },
         {
          "font": {
           "color": "#000000",
           "size": 8
          },
          "showarrow": false,
          "text": "0",
          "x": "JANITORIAL_SUPPLY",
          "xref": "x",
          "y": "FINENECKLACEBRACELETANKLET",
          "yref": "y"
         },
         {
          "font": {
           "color": "#000000",
           "size": 8
          },
          "showarrow": false,
          "text": "0",
          "x": "KITCHEN",
          "xref": "x",
          "y": "FINENECKLACEBRACELETANKLET",
          "yref": "y"
         },
         {
          "font": {
           "color": "#000000",
           "size": 8
          },
          "showarrow": false,
          "text": "0",
          "x": "LAMP",
          "xref": "x",
          "y": "FINENECKLACEBRACELETANKLET",
          "yref": "y"
         },
         {
          "font": {
           "color": "#000000",
           "size": 8
          },
          "showarrow": false,
          "text": "0",
          "x": "LIGHT_BULB",
          "xref": "x",
          "y": "FINENECKLACEBRACELETANKLET",
          "yref": "y"
         },
         {
          "font": {
           "color": "#000000",
           "size": 8
          },
          "showarrow": false,
          "text": "2",
          "x": "LIGHT_FIXTURE",
          "xref": "x",
          "y": "FINENECKLACEBRACELETANKLET",
          "yref": "y"
         },
         {
          "font": {
           "color": "#000000",
           "size": 8
          },
          "showarrow": false,
          "text": "1",
          "x": "OFFICE_PRODUCTS",
          "xref": "x",
          "y": "FINENECKLACEBRACELETANKLET",
          "yref": "y"
         },
         {
          "font": {
           "color": "#000000",
           "size": 8
          },
          "showarrow": false,
          "text": "0",
          "x": "OUTDOOR_LIVING",
          "xref": "x",
          "y": "FINENECKLACEBRACELETANKLET",
          "yref": "y"
         },
         {
          "font": {
           "color": "#000000",
           "size": 8
          },
          "showarrow": false,
          "text": "0",
          "x": "PET_SUPPLIES",
          "xref": "x",
          "y": "FINENECKLACEBRACELETANKLET",
          "yref": "y"
         },
         {
          "font": {
           "color": "#000000",
           "size": 8
          },
          "showarrow": false,
          "text": "0",
          "x": "RUG",
          "xref": "x",
          "y": "FINENECKLACEBRACELETANKLET",
          "yref": "y"
         },
         {
          "font": {
           "color": "#000000",
           "size": 8
          },
          "showarrow": false,
          "text": "0",
          "x": "SANDAL",
          "xref": "x",
          "y": "FINENECKLACEBRACELETANKLET",
          "yref": "y"
         },
         {
          "font": {
           "color": "#000000",
           "size": 8
          },
          "showarrow": false,
          "text": "1",
          "x": "SHOES",
          "xref": "x",
          "y": "FINENECKLACEBRACELETANKLET",
          "yref": "y"
         },
         {
          "font": {
           "color": "#000000",
           "size": 8
          },
          "showarrow": false,
          "text": "0",
          "x": "SOFA",
          "xref": "x",
          "y": "FINENECKLACEBRACELETANKLET",
          "yref": "y"
         },
         {
          "font": {
           "color": "#000000",
           "size": 8
          },
          "showarrow": false,
          "text": "0",
          "x": "SPORTING_GOODS",
          "xref": "x",
          "y": "FINENECKLACEBRACELETANKLET",
          "yref": "y"
         },
         {
          "font": {
           "color": "#000000",
           "size": 8
          },
          "showarrow": false,
          "text": "1",
          "x": "TABLE",
          "xref": "x",
          "y": "FINENECKLACEBRACELETANKLET",
          "yref": "y"
         },
         {
          "font": {
           "color": "#000000",
           "size": 8
          },
          "showarrow": false,
          "text": "0",
          "x": "WALL_ART",
          "xref": "x",
          "y": "FINENECKLACEBRACELETANKLET",
          "yref": "y"
         },
         {
          "font": {
           "color": "#000000",
           "size": 8
          },
          "showarrow": false,
          "text": "2",
          "x": "ACCESSORY",
          "xref": "x",
          "y": "FINEEARRING",
          "yref": "y"
         },
         {
          "font": {
           "color": "#000000",
           "size": 8
          },
          "showarrow": false,
          "text": "0",
          "x": "BOOT",
          "xref": "x",
          "y": "FINEEARRING",
          "yref": "y"
         },
         {
          "font": {
           "color": "#000000",
           "size": 8
          },
          "showarrow": false,
          "text": "0",
          "x": "CELLULAR_PHONE_CASE",
          "xref": "x",
          "y": "FINEEARRING",
          "yref": "y"
         },
         {
          "font": {
           "color": "#000000",
           "size": 8
          },
          "showarrow": false,
          "text": "0",
          "x": "CHAIR",
          "xref": "x",
          "y": "FINEEARRING",
          "yref": "y"
         },
         {
          "font": {
           "color": "#000000",
           "size": 8
          },
          "showarrow": false,
          "text": "18",
          "x": "EARRING",
          "xref": "x",
          "y": "FINEEARRING",
          "yref": "y"
         },
         {
          "font": {
           "color": "#000000",
           "size": 8
          },
          "showarrow": false,
          "text": "191",
          "x": "FINEEARRING",
          "xref": "x",
          "y": "FINEEARRING",
          "yref": "y"
         },
         {
          "font": {
           "color": "#000000",
           "size": 8
          },
          "showarrow": false,
          "text": "11",
          "x": "FINENECKLACEBRACELETANKLET",
          "xref": "x",
          "y": "FINEEARRING",
          "yref": "y"
         },
         {
          "font": {
           "color": "#000000",
           "size": 8
          },
          "showarrow": false,
          "text": "2",
          "x": "FINERING",
          "xref": "x",
          "y": "FINEEARRING",
          "yref": "y"
         },
         {
          "font": {
           "color": "#000000",
           "size": 8
          },
          "showarrow": false,
          "text": "1",
          "x": "GROCERY",
          "xref": "x",
          "y": "FINEEARRING",
          "yref": "y"
         },
         {
          "font": {
           "color": "#000000",
           "size": 8
          },
          "showarrow": false,
          "text": "0",
          "x": "HANDBAG",
          "xref": "x",
          "y": "FINEEARRING",
          "yref": "y"
         },
         {
          "font": {
           "color": "#000000",
           "size": 8
          },
          "showarrow": false,
          "text": "0",
          "x": "HARDWARE_HANDLE",
          "xref": "x",
          "y": "FINEEARRING",
          "yref": "y"
         },
         {
          "font": {
           "color": "#000000",
           "size": 8
          },
          "showarrow": false,
          "text": "0",
          "x": "HAT",
          "xref": "x",
          "y": "FINEEARRING",
          "yref": "y"
         },
         {
          "font": {
           "color": "#000000",
           "size": 8
          },
          "showarrow": false,
          "text": "0",
          "x": "HEALTH_PERSONAL_CARE",
          "xref": "x",
          "y": "FINEEARRING",
          "yref": "y"
         },
         {
          "font": {
           "color": "#000000",
           "size": 8
          },
          "showarrow": false,
          "text": "0",
          "x": "HOME",
          "xref": "x",
          "y": "FINEEARRING",
          "yref": "y"
         },
         {
          "font": {
           "color": "#000000",
           "size": 8
          },
          "showarrow": false,
          "text": "0",
          "x": "HOME_BED_AND_BATH",
          "xref": "x",
          "y": "FINEEARRING",
          "yref": "y"
         },
         {
          "font": {
           "color": "#000000",
           "size": 8
          },
          "showarrow": false,
          "text": "0",
          "x": "HOME_FURNITURE_AND_DECOR",
          "xref": "x",
          "y": "FINEEARRING",
          "yref": "y"
         },
         {
          "font": {
           "color": "#000000",
           "size": 8
          },
          "showarrow": false,
          "text": "0",
          "x": "JANITORIAL_SUPPLY",
          "xref": "x",
          "y": "FINEEARRING",
          "yref": "y"
         },
         {
          "font": {
           "color": "#000000",
           "size": 8
          },
          "showarrow": false,
          "text": "0",
          "x": "KITCHEN",
          "xref": "x",
          "y": "FINEEARRING",
          "yref": "y"
         },
         {
          "font": {
           "color": "#000000",
           "size": 8
          },
          "showarrow": false,
          "text": "0",
          "x": "LAMP",
          "xref": "x",
          "y": "FINEEARRING",
          "yref": "y"
         },
         {
          "font": {
           "color": "#000000",
           "size": 8
          },
          "showarrow": false,
          "text": "0",
          "x": "LIGHT_BULB",
          "xref": "x",
          "y": "FINEEARRING",
          "yref": "y"
         },
         {
          "font": {
           "color": "#000000",
           "size": 8
          },
          "showarrow": false,
          "text": "2",
          "x": "LIGHT_FIXTURE",
          "xref": "x",
          "y": "FINEEARRING",
          "yref": "y"
         },
         {
          "font": {
           "color": "#000000",
           "size": 8
          },
          "showarrow": false,
          "text": "1",
          "x": "OFFICE_PRODUCTS",
          "xref": "x",
          "y": "FINEEARRING",
          "yref": "y"
         },
         {
          "font": {
           "color": "#000000",
           "size": 8
          },
          "showarrow": false,
          "text": "0",
          "x": "OUTDOOR_LIVING",
          "xref": "x",
          "y": "FINEEARRING",
          "yref": "y"
         },
         {
          "font": {
           "color": "#000000",
           "size": 8
          },
          "showarrow": false,
          "text": "0",
          "x": "PET_SUPPLIES",
          "xref": "x",
          "y": "FINEEARRING",
          "yref": "y"
         },
         {
          "font": {
           "color": "#000000",
           "size": 8
          },
          "showarrow": false,
          "text": "0",
          "x": "RUG",
          "xref": "x",
          "y": "FINEEARRING",
          "yref": "y"
         },
         {
          "font": {
           "color": "#000000",
           "size": 8
          },
          "showarrow": false,
          "text": "0",
          "x": "SANDAL",
          "xref": "x",
          "y": "FINEEARRING",
          "yref": "y"
         },
         {
          "font": {
           "color": "#000000",
           "size": 8
          },
          "showarrow": false,
          "text": "0",
          "x": "SHOES",
          "xref": "x",
          "y": "FINEEARRING",
          "yref": "y"
         },
         {
          "font": {
           "color": "#000000",
           "size": 8
          },
          "showarrow": false,
          "text": "0",
          "x": "SOFA",
          "xref": "x",
          "y": "FINEEARRING",
          "yref": "y"
         },
         {
          "font": {
           "color": "#000000",
           "size": 8
          },
          "showarrow": false,
          "text": "0",
          "x": "SPORTING_GOODS",
          "xref": "x",
          "y": "FINEEARRING",
          "yref": "y"
         },
         {
          "font": {
           "color": "#000000",
           "size": 8
          },
          "showarrow": false,
          "text": "0",
          "x": "TABLE",
          "xref": "x",
          "y": "FINEEARRING",
          "yref": "y"
         },
         {
          "font": {
           "color": "#000000",
           "size": 8
          },
          "showarrow": false,
          "text": "0",
          "x": "WALL_ART",
          "xref": "x",
          "y": "FINEEARRING",
          "yref": "y"
         },
         {
          "font": {
           "color": "#000000",
           "size": 8
          },
          "showarrow": false,
          "text": "0",
          "x": "ACCESSORY",
          "xref": "x",
          "y": "EARRING",
          "yref": "y"
         },
         {
          "font": {
           "color": "#000000",
           "size": 8
          },
          "showarrow": false,
          "text": "0",
          "x": "BOOT",
          "xref": "x",
          "y": "EARRING",
          "yref": "y"
         },
         {
          "font": {
           "color": "#000000",
           "size": 8
          },
          "showarrow": false,
          "text": "0",
          "x": "CELLULAR_PHONE_CASE",
          "xref": "x",
          "y": "EARRING",
          "yref": "y"
         },
         {
          "font": {
           "color": "#000000",
           "size": 8
          },
          "showarrow": false,
          "text": "0",
          "x": "CHAIR",
          "xref": "x",
          "y": "EARRING",
          "yref": "y"
         },
         {
          "font": {
           "color": "#000000",
           "size": 8
          },
          "showarrow": false,
          "text": "117",
          "x": "EARRING",
          "xref": "x",
          "y": "EARRING",
          "yref": "y"
         },
         {
          "font": {
           "color": "#000000",
           "size": 8
          },
          "showarrow": false,
          "text": "8",
          "x": "FINEEARRING",
          "xref": "x",
          "y": "EARRING",
          "yref": "y"
         },
         {
          "font": {
           "color": "#000000",
           "size": 8
          },
          "showarrow": false,
          "text": "3",
          "x": "FINENECKLACEBRACELETANKLET",
          "xref": "x",
          "y": "EARRING",
          "yref": "y"
         },
         {
          "font": {
           "color": "#000000",
           "size": 8
          },
          "showarrow": false,
          "text": "0",
          "x": "FINERING",
          "xref": "x",
          "y": "EARRING",
          "yref": "y"
         },
         {
          "font": {
           "color": "#000000",
           "size": 8
          },
          "showarrow": false,
          "text": "0",
          "x": "GROCERY",
          "xref": "x",
          "y": "EARRING",
          "yref": "y"
         },
         {
          "font": {
           "color": "#000000",
           "size": 8
          },
          "showarrow": false,
          "text": "0",
          "x": "HANDBAG",
          "xref": "x",
          "y": "EARRING",
          "yref": "y"
         },
         {
          "font": {
           "color": "#000000",
           "size": 8
          },
          "showarrow": false,
          "text": "0",
          "x": "HARDWARE_HANDLE",
          "xref": "x",
          "y": "EARRING",
          "yref": "y"
         },
         {
          "font": {
           "color": "#000000",
           "size": 8
          },
          "showarrow": false,
          "text": "0",
          "x": "HAT",
          "xref": "x",
          "y": "EARRING",
          "yref": "y"
         },
         {
          "font": {
           "color": "#000000",
           "size": 8
          },
          "showarrow": false,
          "text": "0",
          "x": "HEALTH_PERSONAL_CARE",
          "xref": "x",
          "y": "EARRING",
          "yref": "y"
         },
         {
          "font": {
           "color": "#000000",
           "size": 8
          },
          "showarrow": false,
          "text": "1",
          "x": "HOME",
          "xref": "x",
          "y": "EARRING",
          "yref": "y"
         },
         {
          "font": {
           "color": "#000000",
           "size": 8
          },
          "showarrow": false,
          "text": "0",
          "x": "HOME_BED_AND_BATH",
          "xref": "x",
          "y": "EARRING",
          "yref": "y"
         },
         {
          "font": {
           "color": "#000000",
           "size": 8
          },
          "showarrow": false,
          "text": "0",
          "x": "HOME_FURNITURE_AND_DECOR",
          "xref": "x",
          "y": "EARRING",
          "yref": "y"
         },
         {
          "font": {
           "color": "#000000",
           "size": 8
          },
          "showarrow": false,
          "text": "0",
          "x": "JANITORIAL_SUPPLY",
          "xref": "x",
          "y": "EARRING",
          "yref": "y"
         },
         {
          "font": {
           "color": "#000000",
           "size": 8
          },
          "showarrow": false,
          "text": "0",
          "x": "KITCHEN",
          "xref": "x",
          "y": "EARRING",
          "yref": "y"
         },
         {
          "font": {
           "color": "#000000",
           "size": 8
          },
          "showarrow": false,
          "text": "0",
          "x": "LAMP",
          "xref": "x",
          "y": "EARRING",
          "yref": "y"
         },
         {
          "font": {
           "color": "#000000",
           "size": 8
          },
          "showarrow": false,
          "text": "0",
          "x": "LIGHT_BULB",
          "xref": "x",
          "y": "EARRING",
          "yref": "y"
         },
         {
          "font": {
           "color": "#000000",
           "size": 8
          },
          "showarrow": false,
          "text": "0",
          "x": "LIGHT_FIXTURE",
          "xref": "x",
          "y": "EARRING",
          "yref": "y"
         },
         {
          "font": {
           "color": "#000000",
           "size": 8
          },
          "showarrow": false,
          "text": "0",
          "x": "OFFICE_PRODUCTS",
          "xref": "x",
          "y": "EARRING",
          "yref": "y"
         },
         {
          "font": {
           "color": "#000000",
           "size": 8
          },
          "showarrow": false,
          "text": "0",
          "x": "OUTDOOR_LIVING",
          "xref": "x",
          "y": "EARRING",
          "yref": "y"
         },
         {
          "font": {
           "color": "#000000",
           "size": 8
          },
          "showarrow": false,
          "text": "0",
          "x": "PET_SUPPLIES",
          "xref": "x",
          "y": "EARRING",
          "yref": "y"
         },
         {
          "font": {
           "color": "#000000",
           "size": 8
          },
          "showarrow": false,
          "text": "0",
          "x": "RUG",
          "xref": "x",
          "y": "EARRING",
          "yref": "y"
         },
         {
          "font": {
           "color": "#000000",
           "size": 8
          },
          "showarrow": false,
          "text": "0",
          "x": "SANDAL",
          "xref": "x",
          "y": "EARRING",
          "yref": "y"
         },
         {
          "font": {
           "color": "#000000",
           "size": 8
          },
          "showarrow": false,
          "text": "0",
          "x": "SHOES",
          "xref": "x",
          "y": "EARRING",
          "yref": "y"
         },
         {
          "font": {
           "color": "#000000",
           "size": 8
          },
          "showarrow": false,
          "text": "0",
          "x": "SOFA",
          "xref": "x",
          "y": "EARRING",
          "yref": "y"
         },
         {
          "font": {
           "color": "#000000",
           "size": 8
          },
          "showarrow": false,
          "text": "0",
          "x": "SPORTING_GOODS",
          "xref": "x",
          "y": "EARRING",
          "yref": "y"
         },
         {
          "font": {
           "color": "#000000",
           "size": 8
          },
          "showarrow": false,
          "text": "0",
          "x": "TABLE",
          "xref": "x",
          "y": "EARRING",
          "yref": "y"
         },
         {
          "font": {
           "color": "#000000",
           "size": 8
          },
          "showarrow": false,
          "text": "0",
          "x": "WALL_ART",
          "xref": "x",
          "y": "EARRING",
          "yref": "y"
         },
         {
          "font": {
           "color": "#000000",
           "size": 8
          },
          "showarrow": false,
          "text": "1",
          "x": "ACCESSORY",
          "xref": "x",
          "y": "CHAIR",
          "yref": "y"
         },
         {
          "font": {
           "color": "#000000",
           "size": 8
          },
          "showarrow": false,
          "text": "0",
          "x": "BOOT",
          "xref": "x",
          "y": "CHAIR",
          "yref": "y"
         },
         {
          "font": {
           "color": "#000000",
           "size": 8
          },
          "showarrow": false,
          "text": "0",
          "x": "CELLULAR_PHONE_CASE",
          "xref": "x",
          "y": "CHAIR",
          "yref": "y"
         },
         {
          "font": {
           "color": "#000000",
           "size": 8
          },
          "showarrow": false,
          "text": "313",
          "x": "CHAIR",
          "xref": "x",
          "y": "CHAIR",
          "yref": "y"
         },
         {
          "font": {
           "color": "#000000",
           "size": 8
          },
          "showarrow": false,
          "text": "0",
          "x": "EARRING",
          "xref": "x",
          "y": "CHAIR",
          "yref": "y"
         },
         {
          "font": {
           "color": "#000000",
           "size": 8
          },
          "showarrow": false,
          "text": "0",
          "x": "FINEEARRING",
          "xref": "x",
          "y": "CHAIR",
          "yref": "y"
         },
         {
          "font": {
           "color": "#000000",
           "size": 8
          },
          "showarrow": false,
          "text": "0",
          "x": "FINENECKLACEBRACELETANKLET",
          "xref": "x",
          "y": "CHAIR",
          "yref": "y"
         },
         {
          "font": {
           "color": "#000000",
           "size": 8
          },
          "showarrow": false,
          "text": "0",
          "x": "FINERING",
          "xref": "x",
          "y": "CHAIR",
          "yref": "y"
         },
         {
          "font": {
           "color": "#000000",
           "size": 8
          },
          "showarrow": false,
          "text": "0",
          "x": "GROCERY",
          "xref": "x",
          "y": "CHAIR",
          "yref": "y"
         },
         {
          "font": {
           "color": "#000000",
           "size": 8
          },
          "showarrow": false,
          "text": "0",
          "x": "HANDBAG",
          "xref": "x",
          "y": "CHAIR",
          "yref": "y"
         },
         {
          "font": {
           "color": "#000000",
           "size": 8
          },
          "showarrow": false,
          "text": "1",
          "x": "HARDWARE_HANDLE",
          "xref": "x",
          "y": "CHAIR",
          "yref": "y"
         },
         {
          "font": {
           "color": "#000000",
           "size": 8
          },
          "showarrow": false,
          "text": "0",
          "x": "HAT",
          "xref": "x",
          "y": "CHAIR",
          "yref": "y"
         },
         {
          "font": {
           "color": "#000000",
           "size": 8
          },
          "showarrow": false,
          "text": "0",
          "x": "HEALTH_PERSONAL_CARE",
          "xref": "x",
          "y": "CHAIR",
          "yref": "y"
         },
         {
          "font": {
           "color": "#000000",
           "size": 8
          },
          "showarrow": false,
          "text": "3",
          "x": "HOME",
          "xref": "x",
          "y": "CHAIR",
          "yref": "y"
         },
         {
          "font": {
           "color": "#000000",
           "size": 8
          },
          "showarrow": false,
          "text": "3",
          "x": "HOME_BED_AND_BATH",
          "xref": "x",
          "y": "CHAIR",
          "yref": "y"
         },
         {
          "font": {
           "color": "#000000",
           "size": 8
          },
          "showarrow": false,
          "text": "51",
          "x": "HOME_FURNITURE_AND_DECOR",
          "xref": "x",
          "y": "CHAIR",
          "yref": "y"
         },
         {
          "font": {
           "color": "#000000",
           "size": 8
          },
          "showarrow": false,
          "text": "0",
          "x": "JANITORIAL_SUPPLY",
          "xref": "x",
          "y": "CHAIR",
          "yref": "y"
         },
         {
          "font": {
           "color": "#000000",
           "size": 8
          },
          "showarrow": false,
          "text": "0",
          "x": "KITCHEN",
          "xref": "x",
          "y": "CHAIR",
          "yref": "y"
         },
         {
          "font": {
           "color": "#000000",
           "size": 8
          },
          "showarrow": false,
          "text": "0",
          "x": "LAMP",
          "xref": "x",
          "y": "CHAIR",
          "yref": "y"
         },
         {
          "font": {
           "color": "#000000",
           "size": 8
          },
          "showarrow": false,
          "text": "0",
          "x": "LIGHT_BULB",
          "xref": "x",
          "y": "CHAIR",
          "yref": "y"
         },
         {
          "font": {
           "color": "#000000",
           "size": 8
          },
          "showarrow": false,
          "text": "0",
          "x": "LIGHT_FIXTURE",
          "xref": "x",
          "y": "CHAIR",
          "yref": "y"
         },
         {
          "font": {
           "color": "#000000",
           "size": 8
          },
          "showarrow": false,
          "text": "0",
          "x": "OFFICE_PRODUCTS",
          "xref": "x",
          "y": "CHAIR",
          "yref": "y"
         },
         {
          "font": {
           "color": "#000000",
           "size": 8
          },
          "showarrow": false,
          "text": "3",
          "x": "OUTDOOR_LIVING",
          "xref": "x",
          "y": "CHAIR",
          "yref": "y"
         },
         {
          "font": {
           "color": "#000000",
           "size": 8
          },
          "showarrow": false,
          "text": "0",
          "x": "PET_SUPPLIES",
          "xref": "x",
          "y": "CHAIR",
          "yref": "y"
         },
         {
          "font": {
           "color": "#000000",
           "size": 8
          },
          "showarrow": false,
          "text": "0",
          "x": "RUG",
          "xref": "x",
          "y": "CHAIR",
          "yref": "y"
         },
         {
          "font": {
           "color": "#000000",
           "size": 8
          },
          "showarrow": false,
          "text": "0",
          "x": "SANDAL",
          "xref": "x",
          "y": "CHAIR",
          "yref": "y"
         },
         {
          "font": {
           "color": "#000000",
           "size": 8
          },
          "showarrow": false,
          "text": "0",
          "x": "SHOES",
          "xref": "x",
          "y": "CHAIR",
          "yref": "y"
         },
         {
          "font": {
           "color": "#000000",
           "size": 8
          },
          "showarrow": false,
          "text": "40",
          "x": "SOFA",
          "xref": "x",
          "y": "CHAIR",
          "yref": "y"
         },
         {
          "font": {
           "color": "#000000",
           "size": 8
          },
          "showarrow": false,
          "text": "0",
          "x": "SPORTING_GOODS",
          "xref": "x",
          "y": "CHAIR",
          "yref": "y"
         },
         {
          "font": {
           "color": "#000000",
           "size": 8
          },
          "showarrow": false,
          "text": "5",
          "x": "TABLE",
          "xref": "x",
          "y": "CHAIR",
          "yref": "y"
         },
         {
          "font": {
           "color": "#000000",
           "size": 8
          },
          "showarrow": false,
          "text": "0",
          "x": "WALL_ART",
          "xref": "x",
          "y": "CHAIR",
          "yref": "y"
         },
         {
          "font": {
           "color": "#000000",
           "size": 8
          },
          "showarrow": false,
          "text": "0",
          "x": "ACCESSORY",
          "xref": "x",
          "y": "CELLULAR_PHONE_CASE",
          "yref": "y"
         },
         {
          "font": {
           "color": "#000000",
           "size": 8
          },
          "showarrow": false,
          "text": "0",
          "x": "BOOT",
          "xref": "x",
          "y": "CELLULAR_PHONE_CASE",
          "yref": "y"
         },
         {
          "font": {
           "color": "#FFFFFF",
           "size": 8
          },
          "showarrow": false,
          "text": "12969",
          "x": "CELLULAR_PHONE_CASE",
          "xref": "x",
          "y": "CELLULAR_PHONE_CASE",
          "yref": "y"
         },
         {
          "font": {
           "color": "#000000",
           "size": 8
          },
          "showarrow": false,
          "text": "0",
          "x": "CHAIR",
          "xref": "x",
          "y": "CELLULAR_PHONE_CASE",
          "yref": "y"
         },
         {
          "font": {
           "color": "#000000",
           "size": 8
          },
          "showarrow": false,
          "text": "0",
          "x": "EARRING",
          "xref": "x",
          "y": "CELLULAR_PHONE_CASE",
          "yref": "y"
         },
         {
          "font": {
           "color": "#000000",
           "size": 8
          },
          "showarrow": false,
          "text": "0",
          "x": "FINEEARRING",
          "xref": "x",
          "y": "CELLULAR_PHONE_CASE",
          "yref": "y"
         },
         {
          "font": {
           "color": "#000000",
           "size": 8
          },
          "showarrow": false,
          "text": "0",
          "x": "FINENECKLACEBRACELETANKLET",
          "xref": "x",
          "y": "CELLULAR_PHONE_CASE",
          "yref": "y"
         },
         {
          "font": {
           "color": "#000000",
           "size": 8
          },
          "showarrow": false,
          "text": "0",
          "x": "FINERING",
          "xref": "x",
          "y": "CELLULAR_PHONE_CASE",
          "yref": "y"
         },
         {
          "font": {
           "color": "#000000",
           "size": 8
          },
          "showarrow": false,
          "text": "0",
          "x": "GROCERY",
          "xref": "x",
          "y": "CELLULAR_PHONE_CASE",
          "yref": "y"
         },
         {
          "font": {
           "color": "#000000",
           "size": 8
          },
          "showarrow": false,
          "text": "0",
          "x": "HANDBAG",
          "xref": "x",
          "y": "CELLULAR_PHONE_CASE",
          "yref": "y"
         },
         {
          "font": {
           "color": "#000000",
           "size": 8
          },
          "showarrow": false,
          "text": "0",
          "x": "HARDWARE_HANDLE",
          "xref": "x",
          "y": "CELLULAR_PHONE_CASE",
          "yref": "y"
         },
         {
          "font": {
           "color": "#000000",
           "size": 8
          },
          "showarrow": false,
          "text": "0",
          "x": "HAT",
          "xref": "x",
          "y": "CELLULAR_PHONE_CASE",
          "yref": "y"
         },
         {
          "font": {
           "color": "#000000",
           "size": 8
          },
          "showarrow": false,
          "text": "0",
          "x": "HEALTH_PERSONAL_CARE",
          "xref": "x",
          "y": "CELLULAR_PHONE_CASE",
          "yref": "y"
         },
         {
          "font": {
           "color": "#000000",
           "size": 8
          },
          "showarrow": false,
          "text": "0",
          "x": "HOME",
          "xref": "x",
          "y": "CELLULAR_PHONE_CASE",
          "yref": "y"
         },
         {
          "font": {
           "color": "#000000",
           "size": 8
          },
          "showarrow": false,
          "text": "0",
          "x": "HOME_BED_AND_BATH",
          "xref": "x",
          "y": "CELLULAR_PHONE_CASE",
          "yref": "y"
         },
         {
          "font": {
           "color": "#000000",
           "size": 8
          },
          "showarrow": false,
          "text": "0",
          "x": "HOME_FURNITURE_AND_DECOR",
          "xref": "x",
          "y": "CELLULAR_PHONE_CASE",
          "yref": "y"
         },
         {
          "font": {
           "color": "#000000",
           "size": 8
          },
          "showarrow": false,
          "text": "1",
          "x": "JANITORIAL_SUPPLY",
          "xref": "x",
          "y": "CELLULAR_PHONE_CASE",
          "yref": "y"
         },
         {
          "font": {
           "color": "#000000",
           "size": 8
          },
          "showarrow": false,
          "text": "0",
          "x": "KITCHEN",
          "xref": "x",
          "y": "CELLULAR_PHONE_CASE",
          "yref": "y"
         },
         {
          "font": {
           "color": "#000000",
           "size": 8
          },
          "showarrow": false,
          "text": "0",
          "x": "LAMP",
          "xref": "x",
          "y": "CELLULAR_PHONE_CASE",
          "yref": "y"
         },
         {
          "font": {
           "color": "#000000",
           "size": 8
          },
          "showarrow": false,
          "text": "0",
          "x": "LIGHT_BULB",
          "xref": "x",
          "y": "CELLULAR_PHONE_CASE",
          "yref": "y"
         },
         {
          "font": {
           "color": "#000000",
           "size": 8
          },
          "showarrow": false,
          "text": "0",
          "x": "LIGHT_FIXTURE",
          "xref": "x",
          "y": "CELLULAR_PHONE_CASE",
          "yref": "y"
         },
         {
          "font": {
           "color": "#000000",
           "size": 8
          },
          "showarrow": false,
          "text": "0",
          "x": "OFFICE_PRODUCTS",
          "xref": "x",
          "y": "CELLULAR_PHONE_CASE",
          "yref": "y"
         },
         {
          "font": {
           "color": "#000000",
           "size": 8
          },
          "showarrow": false,
          "text": "0",
          "x": "OUTDOOR_LIVING",
          "xref": "x",
          "y": "CELLULAR_PHONE_CASE",
          "yref": "y"
         },
         {
          "font": {
           "color": "#000000",
           "size": 8
          },
          "showarrow": false,
          "text": "0",
          "x": "PET_SUPPLIES",
          "xref": "x",
          "y": "CELLULAR_PHONE_CASE",
          "yref": "y"
         },
         {
          "font": {
           "color": "#000000",
           "size": 8
          },
          "showarrow": false,
          "text": "0",
          "x": "RUG",
          "xref": "x",
          "y": "CELLULAR_PHONE_CASE",
          "yref": "y"
         },
         {
          "font": {
           "color": "#000000",
           "size": 8
          },
          "showarrow": false,
          "text": "0",
          "x": "SANDAL",
          "xref": "x",
          "y": "CELLULAR_PHONE_CASE",
          "yref": "y"
         },
         {
          "font": {
           "color": "#000000",
           "size": 8
          },
          "showarrow": false,
          "text": "0",
          "x": "SHOES",
          "xref": "x",
          "y": "CELLULAR_PHONE_CASE",
          "yref": "y"
         },
         {
          "font": {
           "color": "#000000",
           "size": 8
          },
          "showarrow": false,
          "text": "0",
          "x": "SOFA",
          "xref": "x",
          "y": "CELLULAR_PHONE_CASE",
          "yref": "y"
         },
         {
          "font": {
           "color": "#000000",
           "size": 8
          },
          "showarrow": false,
          "text": "0",
          "x": "SPORTING_GOODS",
          "xref": "x",
          "y": "CELLULAR_PHONE_CASE",
          "yref": "y"
         },
         {
          "font": {
           "color": "#000000",
           "size": 8
          },
          "showarrow": false,
          "text": "0",
          "x": "TABLE",
          "xref": "x",
          "y": "CELLULAR_PHONE_CASE",
          "yref": "y"
         },
         {
          "font": {
           "color": "#000000",
           "size": 8
          },
          "showarrow": false,
          "text": "0",
          "x": "WALL_ART",
          "xref": "x",
          "y": "CELLULAR_PHONE_CASE",
          "yref": "y"
         },
         {
          "font": {
           "color": "#000000",
           "size": 8
          },
          "showarrow": false,
          "text": "0",
          "x": "ACCESSORY",
          "xref": "x",
          "y": "BOOT",
          "yref": "y"
         },
         {
          "font": {
           "color": "#000000",
           "size": 8
          },
          "showarrow": false,
          "text": "370",
          "x": "BOOT",
          "xref": "x",
          "y": "BOOT",
          "yref": "y"
         },
         {
          "font": {
           "color": "#000000",
           "size": 8
          },
          "showarrow": false,
          "text": "0",
          "x": "CELLULAR_PHONE_CASE",
          "xref": "x",
          "y": "BOOT",
          "yref": "y"
         },
         {
          "font": {
           "color": "#000000",
           "size": 8
          },
          "showarrow": false,
          "text": "0",
          "x": "CHAIR",
          "xref": "x",
          "y": "BOOT",
          "yref": "y"
         },
         {
          "font": {
           "color": "#000000",
           "size": 8
          },
          "showarrow": false,
          "text": "0",
          "x": "EARRING",
          "xref": "x",
          "y": "BOOT",
          "yref": "y"
         },
         {
          "font": {
           "color": "#000000",
           "size": 8
          },
          "showarrow": false,
          "text": "0",
          "x": "FINEEARRING",
          "xref": "x",
          "y": "BOOT",
          "yref": "y"
         },
         {
          "font": {
           "color": "#000000",
           "size": 8
          },
          "showarrow": false,
          "text": "0",
          "x": "FINENECKLACEBRACELETANKLET",
          "xref": "x",
          "y": "BOOT",
          "yref": "y"
         },
         {
          "font": {
           "color": "#000000",
           "size": 8
          },
          "showarrow": false,
          "text": "0",
          "x": "FINERING",
          "xref": "x",
          "y": "BOOT",
          "yref": "y"
         },
         {
          "font": {
           "color": "#000000",
           "size": 8
          },
          "showarrow": false,
          "text": "0",
          "x": "GROCERY",
          "xref": "x",
          "y": "BOOT",
          "yref": "y"
         },
         {
          "font": {
           "color": "#000000",
           "size": 8
          },
          "showarrow": false,
          "text": "1",
          "x": "HANDBAG",
          "xref": "x",
          "y": "BOOT",
          "yref": "y"
         },
         {
          "font": {
           "color": "#000000",
           "size": 8
          },
          "showarrow": false,
          "text": "0",
          "x": "HARDWARE_HANDLE",
          "xref": "x",
          "y": "BOOT",
          "yref": "y"
         },
         {
          "font": {
           "color": "#000000",
           "size": 8
          },
          "showarrow": false,
          "text": "0",
          "x": "HAT",
          "xref": "x",
          "y": "BOOT",
          "yref": "y"
         },
         {
          "font": {
           "color": "#000000",
           "size": 8
          },
          "showarrow": false,
          "text": "0",
          "x": "HEALTH_PERSONAL_CARE",
          "xref": "x",
          "y": "BOOT",
          "yref": "y"
         },
         {
          "font": {
           "color": "#000000",
           "size": 8
          },
          "showarrow": false,
          "text": "0",
          "x": "HOME",
          "xref": "x",
          "y": "BOOT",
          "yref": "y"
         },
         {
          "font": {
           "color": "#000000",
           "size": 8
          },
          "showarrow": false,
          "text": "0",
          "x": "HOME_BED_AND_BATH",
          "xref": "x",
          "y": "BOOT",
          "yref": "y"
         },
         {
          "font": {
           "color": "#000000",
           "size": 8
          },
          "showarrow": false,
          "text": "0",
          "x": "HOME_FURNITURE_AND_DECOR",
          "xref": "x",
          "y": "BOOT",
          "yref": "y"
         },
         {
          "font": {
           "color": "#000000",
           "size": 8
          },
          "showarrow": false,
          "text": "0",
          "x": "JANITORIAL_SUPPLY",
          "xref": "x",
          "y": "BOOT",
          "yref": "y"
         },
         {
          "font": {
           "color": "#000000",
           "size": 8
          },
          "showarrow": false,
          "text": "0",
          "x": "KITCHEN",
          "xref": "x",
          "y": "BOOT",
          "yref": "y"
         },
         {
          "font": {
           "color": "#000000",
           "size": 8
          },
          "showarrow": false,
          "text": "0",
          "x": "LAMP",
          "xref": "x",
          "y": "BOOT",
          "yref": "y"
         },
         {
          "font": {
           "color": "#000000",
           "size": 8
          },
          "showarrow": false,
          "text": "0",
          "x": "LIGHT_BULB",
          "xref": "x",
          "y": "BOOT",
          "yref": "y"
         },
         {
          "font": {
           "color": "#000000",
           "size": 8
          },
          "showarrow": false,
          "text": "0",
          "x": "LIGHT_FIXTURE",
          "xref": "x",
          "y": "BOOT",
          "yref": "y"
         },
         {
          "font": {
           "color": "#000000",
           "size": 8
          },
          "showarrow": false,
          "text": "0",
          "x": "OFFICE_PRODUCTS",
          "xref": "x",
          "y": "BOOT",
          "yref": "y"
         },
         {
          "font": {
           "color": "#000000",
           "size": 8
          },
          "showarrow": false,
          "text": "0",
          "x": "OUTDOOR_LIVING",
          "xref": "x",
          "y": "BOOT",
          "yref": "y"
         },
         {
          "font": {
           "color": "#000000",
           "size": 8
          },
          "showarrow": false,
          "text": "1",
          "x": "PET_SUPPLIES",
          "xref": "x",
          "y": "BOOT",
          "yref": "y"
         },
         {
          "font": {
           "color": "#000000",
           "size": 8
          },
          "showarrow": false,
          "text": "0",
          "x": "RUG",
          "xref": "x",
          "y": "BOOT",
          "yref": "y"
         },
         {
          "font": {
           "color": "#000000",
           "size": 8
          },
          "showarrow": false,
          "text": "2",
          "x": "SANDAL",
          "xref": "x",
          "y": "BOOT",
          "yref": "y"
         },
         {
          "font": {
           "color": "#000000",
           "size": 8
          },
          "showarrow": false,
          "text": "28",
          "x": "SHOES",
          "xref": "x",
          "y": "BOOT",
          "yref": "y"
         },
         {
          "font": {
           "color": "#000000",
           "size": 8
          },
          "showarrow": false,
          "text": "0",
          "x": "SOFA",
          "xref": "x",
          "y": "BOOT",
          "yref": "y"
         },
         {
          "font": {
           "color": "#000000",
           "size": 8
          },
          "showarrow": false,
          "text": "0",
          "x": "SPORTING_GOODS",
          "xref": "x",
          "y": "BOOT",
          "yref": "y"
         },
         {
          "font": {
           "color": "#000000",
           "size": 8
          },
          "showarrow": false,
          "text": "0",
          "x": "TABLE",
          "xref": "x",
          "y": "BOOT",
          "yref": "y"
         },
         {
          "font": {
           "color": "#000000",
           "size": 8
          },
          "showarrow": false,
          "text": "0",
          "x": "WALL_ART",
          "xref": "x",
          "y": "BOOT",
          "yref": "y"
         },
         {
          "font": {
           "color": "#000000",
           "size": 8
          },
          "showarrow": false,
          "text": "264",
          "x": "ACCESSORY",
          "xref": "x",
          "y": "ACCESSORY",
          "yref": "y"
         },
         {
          "font": {
           "color": "#000000",
           "size": 8
          },
          "showarrow": false,
          "text": "1",
          "x": "BOOT",
          "xref": "x",
          "y": "ACCESSORY",
          "yref": "y"
         },
         {
          "font": {
           "color": "#000000",
           "size": 8
          },
          "showarrow": false,
          "text": "0",
          "x": "CELLULAR_PHONE_CASE",
          "xref": "x",
          "y": "ACCESSORY",
          "yref": "y"
         },
         {
          "font": {
           "color": "#000000",
           "size": 8
          },
          "showarrow": false,
          "text": "0",
          "x": "CHAIR",
          "xref": "x",
          "y": "ACCESSORY",
          "yref": "y"
         },
         {
          "font": {
           "color": "#000000",
           "size": 8
          },
          "showarrow": false,
          "text": "0",
          "x": "EARRING",
          "xref": "x",
          "y": "ACCESSORY",
          "yref": "y"
         },
         {
          "font": {
           "color": "#000000",
           "size": 8
          },
          "showarrow": false,
          "text": "0",
          "x": "FINEEARRING",
          "xref": "x",
          "y": "ACCESSORY",
          "yref": "y"
         },
         {
          "font": {
           "color": "#000000",
           "size": 8
          },
          "showarrow": false,
          "text": "0",
          "x": "FINENECKLACEBRACELETANKLET",
          "xref": "x",
          "y": "ACCESSORY",
          "yref": "y"
         },
         {
          "font": {
           "color": "#000000",
           "size": 8
          },
          "showarrow": false,
          "text": "0",
          "x": "FINERING",
          "xref": "x",
          "y": "ACCESSORY",
          "yref": "y"
         },
         {
          "font": {
           "color": "#000000",
           "size": 8
          },
          "showarrow": false,
          "text": "0",
          "x": "GROCERY",
          "xref": "x",
          "y": "ACCESSORY",
          "yref": "y"
         },
         {
          "font": {
           "color": "#000000",
           "size": 8
          },
          "showarrow": false,
          "text": "3",
          "x": "HANDBAG",
          "xref": "x",
          "y": "ACCESSORY",
          "yref": "y"
         },
         {
          "font": {
           "color": "#000000",
           "size": 8
          },
          "showarrow": false,
          "text": "0",
          "x": "HARDWARE_HANDLE",
          "xref": "x",
          "y": "ACCESSORY",
          "yref": "y"
         },
         {
          "font": {
           "color": "#000000",
           "size": 8
          },
          "showarrow": false,
          "text": "4",
          "x": "HAT",
          "xref": "x",
          "y": "ACCESSORY",
          "yref": "y"
         },
         {
          "font": {
           "color": "#000000",
           "size": 8
          },
          "showarrow": false,
          "text": "0",
          "x": "HEALTH_PERSONAL_CARE",
          "xref": "x",
          "y": "ACCESSORY",
          "yref": "y"
         },
         {
          "font": {
           "color": "#000000",
           "size": 8
          },
          "showarrow": false,
          "text": "1",
          "x": "HOME",
          "xref": "x",
          "y": "ACCESSORY",
          "yref": "y"
         },
         {
          "font": {
           "color": "#000000",
           "size": 8
          },
          "showarrow": false,
          "text": "0",
          "x": "HOME_BED_AND_BATH",
          "xref": "x",
          "y": "ACCESSORY",
          "yref": "y"
         },
         {
          "font": {
           "color": "#000000",
           "size": 8
          },
          "showarrow": false,
          "text": "0",
          "x": "HOME_FURNITURE_AND_DECOR",
          "xref": "x",
          "y": "ACCESSORY",
          "yref": "y"
         },
         {
          "font": {
           "color": "#000000",
           "size": 8
          },
          "showarrow": false,
          "text": "0",
          "x": "JANITORIAL_SUPPLY",
          "xref": "x",
          "y": "ACCESSORY",
          "yref": "y"
         },
         {
          "font": {
           "color": "#000000",
           "size": 8
          },
          "showarrow": false,
          "text": "0",
          "x": "KITCHEN",
          "xref": "x",
          "y": "ACCESSORY",
          "yref": "y"
         },
         {
          "font": {
           "color": "#000000",
           "size": 8
          },
          "showarrow": false,
          "text": "0",
          "x": "LAMP",
          "xref": "x",
          "y": "ACCESSORY",
          "yref": "y"
         },
         {
          "font": {
           "color": "#000000",
           "size": 8
          },
          "showarrow": false,
          "text": "0",
          "x": "LIGHT_BULB",
          "xref": "x",
          "y": "ACCESSORY",
          "yref": "y"
         },
         {
          "font": {
           "color": "#000000",
           "size": 8
          },
          "showarrow": false,
          "text": "0",
          "x": "LIGHT_FIXTURE",
          "xref": "x",
          "y": "ACCESSORY",
          "yref": "y"
         },
         {
          "font": {
           "color": "#000000",
           "size": 8
          },
          "showarrow": false,
          "text": "0",
          "x": "OFFICE_PRODUCTS",
          "xref": "x",
          "y": "ACCESSORY",
          "yref": "y"
         },
         {
          "font": {
           "color": "#000000",
           "size": 8
          },
          "showarrow": false,
          "text": "0",
          "x": "OUTDOOR_LIVING",
          "xref": "x",
          "y": "ACCESSORY",
          "yref": "y"
         },
         {
          "font": {
           "color": "#000000",
           "size": 8
          },
          "showarrow": false,
          "text": "0",
          "x": "PET_SUPPLIES",
          "xref": "x",
          "y": "ACCESSORY",
          "yref": "y"
         },
         {
          "font": {
           "color": "#000000",
           "size": 8
          },
          "showarrow": false,
          "text": "0",
          "x": "RUG",
          "xref": "x",
          "y": "ACCESSORY",
          "yref": "y"
         },
         {
          "font": {
           "color": "#000000",
           "size": 8
          },
          "showarrow": false,
          "text": "0",
          "x": "SANDAL",
          "xref": "x",
          "y": "ACCESSORY",
          "yref": "y"
         },
         {
          "font": {
           "color": "#000000",
           "size": 8
          },
          "showarrow": false,
          "text": "0",
          "x": "SHOES",
          "xref": "x",
          "y": "ACCESSORY",
          "yref": "y"
         },
         {
          "font": {
           "color": "#000000",
           "size": 8
          },
          "showarrow": false,
          "text": "0",
          "x": "SOFA",
          "xref": "x",
          "y": "ACCESSORY",
          "yref": "y"
         },
         {
          "font": {
           "color": "#000000",
           "size": 8
          },
          "showarrow": false,
          "text": "0",
          "x": "SPORTING_GOODS",
          "xref": "x",
          "y": "ACCESSORY",
          "yref": "y"
         },
         {
          "font": {
           "color": "#000000",
           "size": 8
          },
          "showarrow": false,
          "text": "0",
          "x": "TABLE",
          "xref": "x",
          "y": "ACCESSORY",
          "yref": "y"
         },
         {
          "font": {
           "color": "#000000",
           "size": 8
          },
          "showarrow": false,
          "text": "0",
          "x": "WALL_ART",
          "xref": "x",
          "y": "ACCESSORY",
          "yref": "y"
         }
        ],
        "autosize": false,
        "height": 1000,
        "template": {
         "data": {
          "bar": [
           {
            "error_x": {
             "color": "#2a3f5f"
            },
            "error_y": {
             "color": "#2a3f5f"
            },
            "marker": {
             "line": {
              "color": "#E5ECF6",
              "width": 0.5
             }
            },
            "type": "bar"
           }
          ],
          "barpolar": [
           {
            "marker": {
             "line": {
              "color": "#E5ECF6",
              "width": 0.5
             }
            },
            "type": "barpolar"
           }
          ],
          "carpet": [
           {
            "aaxis": {
             "endlinecolor": "#2a3f5f",
             "gridcolor": "white",
             "linecolor": "white",
             "minorgridcolor": "white",
             "startlinecolor": "#2a3f5f"
            },
            "baxis": {
             "endlinecolor": "#2a3f5f",
             "gridcolor": "white",
             "linecolor": "white",
             "minorgridcolor": "white",
             "startlinecolor": "#2a3f5f"
            },
            "type": "carpet"
           }
          ],
          "choropleth": [
           {
            "colorbar": {
             "outlinewidth": 0,
             "ticks": ""
            },
            "type": "choropleth"
           }
          ],
          "contour": [
           {
            "colorbar": {
             "outlinewidth": 0,
             "ticks": ""
            },
            "colorscale": [
             [
              0,
              "#0d0887"
             ],
             [
              0.1111111111111111,
              "#46039f"
             ],
             [
              0.2222222222222222,
              "#7201a8"
             ],
             [
              0.3333333333333333,
              "#9c179e"
             ],
             [
              0.4444444444444444,
              "#bd3786"
             ],
             [
              0.5555555555555556,
              "#d8576b"
             ],
             [
              0.6666666666666666,
              "#ed7953"
             ],
             [
              0.7777777777777778,
              "#fb9f3a"
             ],
             [
              0.8888888888888888,
              "#fdca26"
             ],
             [
              1,
              "#f0f921"
             ]
            ],
            "type": "contour"
           }
          ],
          "contourcarpet": [
           {
            "colorbar": {
             "outlinewidth": 0,
             "ticks": ""
            },
            "type": "contourcarpet"
           }
          ],
          "heatmap": [
           {
            "colorbar": {
             "outlinewidth": 0,
             "ticks": ""
            },
            "colorscale": [
             [
              0,
              "#0d0887"
             ],
             [
              0.1111111111111111,
              "#46039f"
             ],
             [
              0.2222222222222222,
              "#7201a8"
             ],
             [
              0.3333333333333333,
              "#9c179e"
             ],
             [
              0.4444444444444444,
              "#bd3786"
             ],
             [
              0.5555555555555556,
              "#d8576b"
             ],
             [
              0.6666666666666666,
              "#ed7953"
             ],
             [
              0.7777777777777778,
              "#fb9f3a"
             ],
             [
              0.8888888888888888,
              "#fdca26"
             ],
             [
              1,
              "#f0f921"
             ]
            ],
            "type": "heatmap"
           }
          ],
          "heatmapgl": [
           {
            "colorbar": {
             "outlinewidth": 0,
             "ticks": ""
            },
            "colorscale": [
             [
              0,
              "#0d0887"
             ],
             [
              0.1111111111111111,
              "#46039f"
             ],
             [
              0.2222222222222222,
              "#7201a8"
             ],
             [
              0.3333333333333333,
              "#9c179e"
             ],
             [
              0.4444444444444444,
              "#bd3786"
             ],
             [
              0.5555555555555556,
              "#d8576b"
             ],
             [
              0.6666666666666666,
              "#ed7953"
             ],
             [
              0.7777777777777778,
              "#fb9f3a"
             ],
             [
              0.8888888888888888,
              "#fdca26"
             ],
             [
              1,
              "#f0f921"
             ]
            ],
            "type": "heatmapgl"
           }
          ],
          "histogram": [
           {
            "marker": {
             "colorbar": {
              "outlinewidth": 0,
              "ticks": ""
             }
            },
            "type": "histogram"
           }
          ],
          "histogram2d": [
           {
            "colorbar": {
             "outlinewidth": 0,
             "ticks": ""
            },
            "colorscale": [
             [
              0,
              "#0d0887"
             ],
             [
              0.1111111111111111,
              "#46039f"
             ],
             [
              0.2222222222222222,
              "#7201a8"
             ],
             [
              0.3333333333333333,
              "#9c179e"
             ],
             [
              0.4444444444444444,
              "#bd3786"
             ],
             [
              0.5555555555555556,
              "#d8576b"
             ],
             [
              0.6666666666666666,
              "#ed7953"
             ],
             [
              0.7777777777777778,
              "#fb9f3a"
             ],
             [
              0.8888888888888888,
              "#fdca26"
             ],
             [
              1,
              "#f0f921"
             ]
            ],
            "type": "histogram2d"
           }
          ],
          "histogram2dcontour": [
           {
            "colorbar": {
             "outlinewidth": 0,
             "ticks": ""
            },
            "colorscale": [
             [
              0,
              "#0d0887"
             ],
             [
              0.1111111111111111,
              "#46039f"
             ],
             [
              0.2222222222222222,
              "#7201a8"
             ],
             [
              0.3333333333333333,
              "#9c179e"
             ],
             [
              0.4444444444444444,
              "#bd3786"
             ],
             [
              0.5555555555555556,
              "#d8576b"
             ],
             [
              0.6666666666666666,
              "#ed7953"
             ],
             [
              0.7777777777777778,
              "#fb9f3a"
             ],
             [
              0.8888888888888888,
              "#fdca26"
             ],
             [
              1,
              "#f0f921"
             ]
            ],
            "type": "histogram2dcontour"
           }
          ],
          "mesh3d": [
           {
            "colorbar": {
             "outlinewidth": 0,
             "ticks": ""
            },
            "type": "mesh3d"
           }
          ],
          "parcoords": [
           {
            "line": {
             "colorbar": {
              "outlinewidth": 0,
              "ticks": ""
             }
            },
            "type": "parcoords"
           }
          ],
          "pie": [
           {
            "automargin": true,
            "type": "pie"
           }
          ],
          "scatter": [
           {
            "marker": {
             "colorbar": {
              "outlinewidth": 0,
              "ticks": ""
             }
            },
            "type": "scatter"
           }
          ],
          "scatter3d": [
           {
            "line": {
             "colorbar": {
              "outlinewidth": 0,
              "ticks": ""
             }
            },
            "marker": {
             "colorbar": {
              "outlinewidth": 0,
              "ticks": ""
             }
            },
            "type": "scatter3d"
           }
          ],
          "scattercarpet": [
           {
            "marker": {
             "colorbar": {
              "outlinewidth": 0,
              "ticks": ""
             }
            },
            "type": "scattercarpet"
           }
          ],
          "scattergeo": [
           {
            "marker": {
             "colorbar": {
              "outlinewidth": 0,
              "ticks": ""
             }
            },
            "type": "scattergeo"
           }
          ],
          "scattergl": [
           {
            "marker": {
             "colorbar": {
              "outlinewidth": 0,
              "ticks": ""
             }
            },
            "type": "scattergl"
           }
          ],
          "scattermapbox": [
           {
            "marker": {
             "colorbar": {
              "outlinewidth": 0,
              "ticks": ""
             }
            },
            "type": "scattermapbox"
           }
          ],
          "scatterpolar": [
           {
            "marker": {
             "colorbar": {
              "outlinewidth": 0,
              "ticks": ""
             }
            },
            "type": "scatterpolar"
           }
          ],
          "scatterpolargl": [
           {
            "marker": {
             "colorbar": {
              "outlinewidth": 0,
              "ticks": ""
             }
            },
            "type": "scatterpolargl"
           }
          ],
          "scatterternary": [
           {
            "marker": {
             "colorbar": {
              "outlinewidth": 0,
              "ticks": ""
             }
            },
            "type": "scatterternary"
           }
          ],
          "surface": [
           {
            "colorbar": {
             "outlinewidth": 0,
             "ticks": ""
            },
            "colorscale": [
             [
              0,
              "#0d0887"
             ],
             [
              0.1111111111111111,
              "#46039f"
             ],
             [
              0.2222222222222222,
              "#7201a8"
             ],
             [
              0.3333333333333333,
              "#9c179e"
             ],
             [
              0.4444444444444444,
              "#bd3786"
             ],
             [
              0.5555555555555556,
              "#d8576b"
             ],
             [
              0.6666666666666666,
              "#ed7953"
             ],
             [
              0.7777777777777778,
              "#fb9f3a"
             ],
             [
              0.8888888888888888,
              "#fdca26"
             ],
             [
              1,
              "#f0f921"
             ]
            ],
            "type": "surface"
           }
          ],
          "table": [
           {
            "cells": {
             "fill": {
              "color": "#EBF0F8"
             },
             "line": {
              "color": "white"
             }
            },
            "header": {
             "fill": {
              "color": "#C8D4E3"
             },
             "line": {
              "color": "white"
             }
            },
            "type": "table"
           }
          ]
         },
         "layout": {
          "annotationdefaults": {
           "arrowcolor": "#2a3f5f",
           "arrowhead": 0,
           "arrowwidth": 1
          },
          "autotypenumbers": "strict",
          "coloraxis": {
           "colorbar": {
            "outlinewidth": 0,
            "ticks": ""
           }
          },
          "colorscale": {
           "diverging": [
            [
             0,
             "#8e0152"
            ],
            [
             0.1,
             "#c51b7d"
            ],
            [
             0.2,
             "#de77ae"
            ],
            [
             0.3,
             "#f1b6da"
            ],
            [
             0.4,
             "#fde0ef"
            ],
            [
             0.5,
             "#f7f7f7"
            ],
            [
             0.6,
             "#e6f5d0"
            ],
            [
             0.7,
             "#b8e186"
            ],
            [
             0.8,
             "#7fbc41"
            ],
            [
             0.9,
             "#4d9221"
            ],
            [
             1,
             "#276419"
            ]
           ],
           "sequential": [
            [
             0,
             "#0d0887"
            ],
            [
             0.1111111111111111,
             "#46039f"
            ],
            [
             0.2222222222222222,
             "#7201a8"
            ],
            [
             0.3333333333333333,
             "#9c179e"
            ],
            [
             0.4444444444444444,
             "#bd3786"
            ],
            [
             0.5555555555555556,
             "#d8576b"
            ],
            [
             0.6666666666666666,
             "#ed7953"
            ],
            [
             0.7777777777777778,
             "#fb9f3a"
            ],
            [
             0.8888888888888888,
             "#fdca26"
            ],
            [
             1,
             "#f0f921"
            ]
           ],
           "sequentialminus": [
            [
             0,
             "#0d0887"
            ],
            [
             0.1111111111111111,
             "#46039f"
            ],
            [
             0.2222222222222222,
             "#7201a8"
            ],
            [
             0.3333333333333333,
             "#9c179e"
            ],
            [
             0.4444444444444444,
             "#bd3786"
            ],
            [
             0.5555555555555556,
             "#d8576b"
            ],
            [
             0.6666666666666666,
             "#ed7953"
            ],
            [
             0.7777777777777778,
             "#fb9f3a"
            ],
            [
             0.8888888888888888,
             "#fdca26"
            ],
            [
             1,
             "#f0f921"
            ]
           ]
          },
          "colorway": [
           "#636efa",
           "#EF553B",
           "#00cc96",
           "#ab63fa",
           "#FFA15A",
           "#19d3f3",
           "#FF6692",
           "#B6E880",
           "#FF97FF",
           "#FECB52"
          ],
          "font": {
           "color": "#2a3f5f"
          },
          "geo": {
           "bgcolor": "white",
           "lakecolor": "white",
           "landcolor": "#E5ECF6",
           "showlakes": true,
           "showland": true,
           "subunitcolor": "white"
          },
          "hoverlabel": {
           "align": "left"
          },
          "hovermode": "closest",
          "mapbox": {
           "style": "light"
          },
          "paper_bgcolor": "white",
          "plot_bgcolor": "#E5ECF6",
          "polar": {
           "angularaxis": {
            "gridcolor": "white",
            "linecolor": "white",
            "ticks": ""
           },
           "bgcolor": "#E5ECF6",
           "radialaxis": {
            "gridcolor": "white",
            "linecolor": "white",
            "ticks": ""
           }
          },
          "scene": {
           "xaxis": {
            "backgroundcolor": "#E5ECF6",
            "gridcolor": "white",
            "gridwidth": 2,
            "linecolor": "white",
            "showbackground": true,
            "ticks": "",
            "zerolinecolor": "white"
           },
           "yaxis": {
            "backgroundcolor": "#E5ECF6",
            "gridcolor": "white",
            "gridwidth": 2,
            "linecolor": "white",
            "showbackground": true,
            "ticks": "",
            "zerolinecolor": "white"
           },
           "zaxis": {
            "backgroundcolor": "#E5ECF6",
            "gridcolor": "white",
            "gridwidth": 2,
            "linecolor": "white",
            "showbackground": true,
            "ticks": "",
            "zerolinecolor": "white"
           }
          },
          "shapedefaults": {
           "line": {
            "color": "#2a3f5f"
           }
          },
          "ternary": {
           "aaxis": {
            "gridcolor": "white",
            "linecolor": "white",
            "ticks": ""
           },
           "baxis": {
            "gridcolor": "white",
            "linecolor": "white",
            "ticks": ""
           },
           "bgcolor": "#E5ECF6",
           "caxis": {
            "gridcolor": "white",
            "linecolor": "white",
            "ticks": ""
           }
          },
          "title": {
           "x": 0.05
          },
          "xaxis": {
           "automargin": true,
           "gridcolor": "white",
           "linecolor": "white",
           "ticks": "",
           "title": {
            "standoff": 15
           },
           "zerolinecolor": "white",
           "zerolinewidth": 2
          },
          "yaxis": {
           "automargin": true,
           "gridcolor": "white",
           "linecolor": "white",
           "ticks": "",
           "title": {
            "standoff": 15
           },
           "zerolinecolor": "white",
           "zerolinewidth": 2
          }
         }
        },
        "width": 1000,
        "xaxis": {
         "dtick": 1,
         "gridcolor": "rgb(0, 0, 0)",
         "side": "top",
         "ticks": ""
        },
        "yaxis": {
         "dtick": 1,
         "ticks": "",
         "ticksuffix": "  "
        }
       }
      },
      "text/html": [
       "<div>                            <div id=\"7afb01eb-a33d-4b27-88b0-e69c5c21769d\" class=\"plotly-graph-div\" style=\"height:1000px; width:1000px;\"></div>            <script type=\"text/javascript\">                require([\"plotly\"], function(Plotly) {                    window.PLOTLYENV=window.PLOTLYENV || {};                                    if (document.getElementById(\"7afb01eb-a33d-4b27-88b0-e69c5c21769d\")) {                    Plotly.newPlot(                        \"7afb01eb-a33d-4b27-88b0-e69c5c21769d\",                        [{\"colorscale\": [[0.0, \"rgb(255,245,240)\"], [0.125, \"rgb(254,224,210)\"], [0.25, \"rgb(252,187,161)\"], [0.375, \"rgb(252,146,114)\"], [0.5, \"rgb(251,106,74)\"], [0.625, \"rgb(239,59,44)\"], [0.75, \"rgb(203,24,29)\"], [0.875, \"rgb(165,15,21)\"], [1.0, \"rgb(103,0,13)\"]], \"hoverongaps\": true, \"reversescale\": false, \"showscale\": true, \"type\": \"heatmap\", \"x\": [\"ACCESSORY\", \"BOOT\", \"CELLULAR_PHONE_CASE\", \"CHAIR\", \"EARRING\", \"FINEEARRING\", \"FINENECKLACEBRACELETANKLET\", \"FINERING\", \"GROCERY\", \"HANDBAG\", \"HARDWARE_HANDLE\", \"HAT\", \"HEALTH_PERSONAL_CARE\", \"HOME\", \"HOME_BED_AND_BATH\", \"HOME_FURNITURE_AND_DECOR\", \"JANITORIAL_SUPPLY\", \"KITCHEN\", \"LAMP\", \"LIGHT_BULB\", \"LIGHT_FIXTURE\", \"OFFICE_PRODUCTS\", \"OUTDOOR_LIVING\", \"PET_SUPPLIES\", \"RUG\", \"SANDAL\", \"SHOES\", \"SOFA\", \"SPORTING_GOODS\", \"TABLE\", \"WALL_ART\"], \"xtype\": \"array\", \"y\": [\"WALL_ART\", \"TABLE\", \"SPORTING_GOODS\", \"SOFA\", \"SHOES\", \"SANDAL\", \"RUG\", \"PET_SUPPLIES\", \"OUTDOOR_LIVING\", \"OFFICE_PRODUCTS\", \"LIGHT_FIXTURE\", \"LIGHT_BULB\", \"LAMP\", \"KITCHEN\", \"JANITORIAL_SUPPLY\", \"HOME_FURNITURE_AND_DECOR\", \"HOME_BED_AND_BATH\", \"HOME\", \"HEALTH_PERSONAL_CARE\", \"HAT\", \"HARDWARE_HANDLE\", \"HANDBAG\", \"GROCERY\", \"FINERING\", \"FINENECKLACEBRACELETANKLET\", \"FINEEARRING\", \"EARRING\", \"CHAIR\", \"CELLULAR_PHONE_CASE\", \"BOOT\", \"ACCESSORY\"], \"ytype\": \"array\", \"z\": [[0, 0, 0, 0, 0, 0, 0, 0, 0, 0, 0, 0, 0, 1, 0, 0, 0, 0, 0, 0, 0, 0, 0, 0, 0, 0, 0, 1, 0, 1, 117], [0, 0, 0, 8, 0, 0, 0, 0, 1, 0, 0, 0, 0, 1, 0, 16, 0, 0, 6, 0, 0, 0, 7, 0, 0, 0, 0, 3, 0, 145, 0], [0, 0, 0, 0, 0, 0, 0, 0, 2, 0, 3, 1, 1, 12, 8, 1, 1, 1, 0, 0, 1, 8, 1, 2, 0, 0, 0, 0, 153, 0, 0], [0, 0, 0, 17, 0, 0, 0, 0, 0, 0, 0, 0, 0, 2, 1, 20, 0, 0, 0, 0, 1, 0, 0, 0, 0, 0, 0, 198, 0, 1, 0], [8, 98, 0, 0, 0, 0, 0, 0, 0, 1, 0, 0, 1, 0, 0, 0, 0, 0, 0, 0, 0, 0, 0, 0, 0, 90, 2395, 0, 0, 0, 0], [0, 4, 0, 0, 0, 0, 0, 0, 0, 1, 0, 0, 0, 0, 0, 0, 0, 0, 0, 0, 0, 0, 0, 0, 0, 345, 19, 0, 0, 0, 0], [0, 0, 0, 0, 0, 0, 0, 0, 0, 0, 0, 0, 0, 0, 0, 5, 0, 0, 0, 0, 2, 0, 0, 0, 157, 0, 0, 0, 0, 0, 0], [0, 0, 0, 0, 0, 0, 0, 0, 0, 0, 1, 0, 1, 2, 4, 2, 0, 0, 0, 0, 0, 2, 0, 199, 0, 0, 0, 0, 2, 0, 0], [0, 0, 0, 10, 0, 0, 0, 0, 0, 0, 3, 0, 1, 7, 1, 1, 0, 2, 0, 0, 1, 3, 89, 3, 0, 0, 2, 0, 2, 2, 0], [0, 0, 0, 2, 0, 0, 0, 0, 1, 0, 3, 0, 0, 6, 5, 0, 2, 2, 0, 0, 0, 207, 1, 0, 0, 0, 0, 0, 1, 0, 0], [0, 0, 0, 1, 0, 0, 1, 0, 0, 0, 0, 0, 0, 0, 0, 1, 0, 0, 19, 4, 81, 0, 1, 0, 0, 0, 0, 0, 0, 0, 0], [0, 0, 0, 0, 0, 0, 0, 0, 0, 0, 0, 0, 0, 0, 0, 0, 1, 0, 0, 150, 0, 0, 0, 0, 0, 0, 0, 0, 0, 0, 0], [0, 0, 0, 1, 0, 0, 0, 0, 0, 0, 0, 0, 0, 0, 0, 2, 0, 0, 101, 0, 3, 0, 0, 0, 0, 0, 0, 0, 0, 1, 0], [0, 0, 0, 1, 0, 0, 0, 0, 1, 0, 1, 0, 4, 19, 5, 6, 3, 90, 0, 0, 0, 7, 1, 0, 0, 0, 0, 0, 3, 0, 0], [0, 0, 0, 1, 0, 0, 0, 0, 0, 0, 1, 0, 1, 1, 2, 1, 104, 1, 0, 0, 0, 1, 1, 0, 0, 0, 0, 0, 1, 0, 0], [0, 0, 0, 38, 0, 0, 0, 0, 0, 0, 0, 0, 0, 16, 19, 327, 0, 2, 1, 2, 5, 3, 1, 2, 8, 0, 0, 13, 2, 12, 0], [0, 0, 0, 1, 0, 0, 0, 0, 0, 0, 1, 0, 0, 28, 571, 6, 0, 2, 0, 0, 0, 2, 0, 1, 0, 0, 0, 0, 3, 1, 0], [0, 0, 1, 3, 0, 0, 1, 1, 1, 0, 4, 0, 2, 921, 58, 19, 0, 5, 2, 0, 3, 10, 0, 4, 0, 0, 0, 0, 13, 1, 4], [2, 0, 0, 0, 0, 0, 0, 0, 33, 0, 0, 0, 251, 0, 0, 3, 0, 1, 0, 0, 0, 0, 0, 0, 0, 0, 0, 0, 0, 0, 0], [16, 0, 0, 0, 0, 0, 0, 0, 1, 0, 0, 110, 0, 0, 0, 1, 0, 0, 0, 0, 0, 0, 0, 2, 0, 0, 0, 0, 1, 0, 0], [0, 0, 0, 0, 0, 0, 0, 0, 0, 0, 165, 0, 0, 2, 0, 0, 0, 0, 0, 0, 0, 1, 2, 2, 0, 0, 0, 0, 0, 0, 0], [1, 0, 0, 0, 0, 0, 0, 0, 0, 146, 1, 0, 0, 0, 0, 1, 0, 1, 0, 0, 1, 1, 1, 1, 0, 0, 2, 1, 2, 0, 0], [0, 0, 0, 0, 0, 0, 0, 0, 1286, 2, 0, 0, 16, 1, 0, 0, 0, 0, 0, 0, 0, 2, 0, 1, 0, 0, 0, 0, 1, 0, 0], [0, 0, 0, 0, 2, 3, 11, 291, 0, 0, 0, 0, 0, 1, 0, 0, 0, 0, 0, 0, 0, 0, 0, 0, 0, 0, 0, 0, 0, 0, 0], [1, 0, 0, 0, 0, 4, 266, 0, 0, 0, 0, 0, 0, 0, 0, 0, 0, 0, 0, 0, 2, 1, 0, 0, 0, 0, 1, 0, 0, 1, 0], [2, 0, 0, 0, 18, 191, 11, 2, 1, 0, 0, 0, 0, 0, 0, 0, 0, 0, 0, 0, 2, 1, 0, 0, 0, 0, 0, 0, 0, 0, 0], [0, 0, 0, 0, 117, 8, 3, 0, 0, 0, 0, 0, 0, 1, 0, 0, 0, 0, 0, 0, 0, 0, 0, 0, 0, 0, 0, 0, 0, 0, 0], [1, 0, 0, 313, 0, 0, 0, 0, 0, 0, 1, 0, 0, 3, 3, 51, 0, 0, 0, 0, 0, 0, 3, 0, 0, 0, 0, 40, 0, 5, 0], [0, 0, 12969, 0, 0, 0, 0, 0, 0, 0, 0, 0, 0, 0, 0, 0, 1, 0, 0, 0, 0, 0, 0, 0, 0, 0, 0, 0, 0, 0, 0], [0, 370, 0, 0, 0, 0, 0, 0, 0, 1, 0, 0, 0, 0, 0, 0, 0, 0, 0, 0, 0, 0, 0, 1, 0, 2, 28, 0, 0, 0, 0], [264, 1, 0, 0, 0, 0, 0, 0, 0, 3, 0, 4, 0, 1, 0, 0, 0, 0, 0, 0, 0, 0, 0, 0, 0, 0, 0, 0, 0, 0, 0]]}],                        {\"annotations\": [{\"font\": {\"color\": \"#000000\", \"size\": 8}, \"showarrow\": false, \"text\": \"0\", \"x\": \"ACCESSORY\", \"xref\": \"x\", \"y\": \"WALL_ART\", \"yref\": \"y\"}, {\"font\": {\"color\": \"#000000\", \"size\": 8}, \"showarrow\": false, \"text\": \"0\", \"x\": \"BOOT\", \"xref\": \"x\", \"y\": \"WALL_ART\", \"yref\": \"y\"}, {\"font\": {\"color\": \"#000000\", \"size\": 8}, \"showarrow\": false, \"text\": \"0\", \"x\": \"CELLULAR_PHONE_CASE\", \"xref\": \"x\", \"y\": \"WALL_ART\", \"yref\": \"y\"}, {\"font\": {\"color\": \"#000000\", \"size\": 8}, \"showarrow\": false, \"text\": \"0\", \"x\": \"CHAIR\", \"xref\": \"x\", \"y\": \"WALL_ART\", \"yref\": \"y\"}, {\"font\": {\"color\": \"#000000\", \"size\": 8}, \"showarrow\": false, \"text\": \"0\", \"x\": \"EARRING\", \"xref\": \"x\", \"y\": \"WALL_ART\", \"yref\": \"y\"}, {\"font\": {\"color\": \"#000000\", \"size\": 8}, \"showarrow\": false, \"text\": \"0\", \"x\": \"FINEEARRING\", \"xref\": \"x\", \"y\": \"WALL_ART\", \"yref\": \"y\"}, {\"font\": {\"color\": \"#000000\", \"size\": 8}, \"showarrow\": false, \"text\": \"0\", \"x\": \"FINENECKLACEBRACELETANKLET\", \"xref\": \"x\", \"y\": \"WALL_ART\", \"yref\": \"y\"}, {\"font\": {\"color\": \"#000000\", \"size\": 8}, \"showarrow\": false, \"text\": \"0\", \"x\": \"FINERING\", \"xref\": \"x\", \"y\": \"WALL_ART\", \"yref\": \"y\"}, {\"font\": {\"color\": \"#000000\", \"size\": 8}, \"showarrow\": false, \"text\": \"0\", \"x\": \"GROCERY\", \"xref\": \"x\", \"y\": \"WALL_ART\", \"yref\": \"y\"}, {\"font\": {\"color\": \"#000000\", \"size\": 8}, \"showarrow\": false, \"text\": \"0\", \"x\": \"HANDBAG\", \"xref\": \"x\", \"y\": \"WALL_ART\", \"yref\": \"y\"}, {\"font\": {\"color\": \"#000000\", \"size\": 8}, \"showarrow\": false, \"text\": \"0\", \"x\": \"HARDWARE_HANDLE\", \"xref\": \"x\", \"y\": \"WALL_ART\", \"yref\": \"y\"}, {\"font\": {\"color\": \"#000000\", \"size\": 8}, \"showarrow\": false, \"text\": \"0\", \"x\": \"HAT\", \"xref\": \"x\", \"y\": \"WALL_ART\", \"yref\": \"y\"}, {\"font\": {\"color\": \"#000000\", \"size\": 8}, \"showarrow\": false, \"text\": \"0\", \"x\": \"HEALTH_PERSONAL_CARE\", \"xref\": \"x\", \"y\": \"WALL_ART\", \"yref\": \"y\"}, {\"font\": {\"color\": \"#000000\", \"size\": 8}, \"showarrow\": false, \"text\": \"1\", \"x\": \"HOME\", \"xref\": \"x\", \"y\": \"WALL_ART\", \"yref\": \"y\"}, {\"font\": {\"color\": \"#000000\", \"size\": 8}, \"showarrow\": false, \"text\": \"0\", \"x\": \"HOME_BED_AND_BATH\", \"xref\": \"x\", \"y\": \"WALL_ART\", \"yref\": \"y\"}, {\"font\": {\"color\": \"#000000\", \"size\": 8}, \"showarrow\": false, \"text\": \"0\", \"x\": \"HOME_FURNITURE_AND_DECOR\", \"xref\": \"x\", \"y\": \"WALL_ART\", \"yref\": \"y\"}, {\"font\": {\"color\": \"#000000\", \"size\": 8}, \"showarrow\": false, \"text\": \"0\", \"x\": \"JANITORIAL_SUPPLY\", \"xref\": \"x\", \"y\": \"WALL_ART\", \"yref\": \"y\"}, {\"font\": {\"color\": \"#000000\", \"size\": 8}, \"showarrow\": false, \"text\": \"0\", \"x\": \"KITCHEN\", \"xref\": \"x\", \"y\": \"WALL_ART\", \"yref\": \"y\"}, {\"font\": {\"color\": \"#000000\", \"size\": 8}, \"showarrow\": false, \"text\": \"0\", \"x\": \"LAMP\", \"xref\": \"x\", \"y\": \"WALL_ART\", \"yref\": \"y\"}, {\"font\": {\"color\": \"#000000\", \"size\": 8}, \"showarrow\": false, \"text\": \"0\", \"x\": \"LIGHT_BULB\", \"xref\": \"x\", \"y\": \"WALL_ART\", \"yref\": \"y\"}, {\"font\": {\"color\": \"#000000\", \"size\": 8}, \"showarrow\": false, \"text\": \"0\", \"x\": \"LIGHT_FIXTURE\", \"xref\": \"x\", \"y\": \"WALL_ART\", \"yref\": \"y\"}, {\"font\": {\"color\": \"#000000\", \"size\": 8}, \"showarrow\": false, \"text\": \"0\", \"x\": \"OFFICE_PRODUCTS\", \"xref\": \"x\", \"y\": \"WALL_ART\", \"yref\": \"y\"}, {\"font\": {\"color\": \"#000000\", \"size\": 8}, \"showarrow\": false, \"text\": \"0\", \"x\": \"OUTDOOR_LIVING\", \"xref\": \"x\", \"y\": \"WALL_ART\", \"yref\": \"y\"}, {\"font\": {\"color\": \"#000000\", \"size\": 8}, \"showarrow\": false, \"text\": \"0\", \"x\": \"PET_SUPPLIES\", \"xref\": \"x\", \"y\": \"WALL_ART\", \"yref\": \"y\"}, {\"font\": {\"color\": \"#000000\", \"size\": 8}, \"showarrow\": false, \"text\": \"0\", \"x\": \"RUG\", \"xref\": \"x\", \"y\": \"WALL_ART\", \"yref\": \"y\"}, {\"font\": {\"color\": \"#000000\", \"size\": 8}, \"showarrow\": false, \"text\": \"0\", \"x\": \"SANDAL\", \"xref\": \"x\", \"y\": \"WALL_ART\", \"yref\": \"y\"}, {\"font\": {\"color\": \"#000000\", \"size\": 8}, \"showarrow\": false, \"text\": \"0\", \"x\": \"SHOES\", \"xref\": \"x\", \"y\": \"WALL_ART\", \"yref\": \"y\"}, {\"font\": {\"color\": \"#000000\", \"size\": 8}, \"showarrow\": false, \"text\": \"1\", \"x\": \"SOFA\", \"xref\": \"x\", \"y\": \"WALL_ART\", \"yref\": \"y\"}, {\"font\": {\"color\": \"#000000\", \"size\": 8}, \"showarrow\": false, \"text\": \"0\", \"x\": \"SPORTING_GOODS\", \"xref\": \"x\", \"y\": \"WALL_ART\", \"yref\": \"y\"}, {\"font\": {\"color\": \"#000000\", \"size\": 8}, \"showarrow\": false, \"text\": \"1\", \"x\": \"TABLE\", \"xref\": \"x\", \"y\": \"WALL_ART\", \"yref\": \"y\"}, {\"font\": {\"color\": \"#000000\", \"size\": 8}, \"showarrow\": false, \"text\": \"117\", \"x\": \"WALL_ART\", \"xref\": \"x\", \"y\": \"WALL_ART\", \"yref\": \"y\"}, {\"font\": {\"color\": \"#000000\", \"size\": 8}, \"showarrow\": false, \"text\": \"0\", \"x\": \"ACCESSORY\", \"xref\": \"x\", \"y\": \"TABLE\", \"yref\": \"y\"}, {\"font\": {\"color\": \"#000000\", \"size\": 8}, \"showarrow\": false, \"text\": \"0\", \"x\": \"BOOT\", \"xref\": \"x\", \"y\": \"TABLE\", \"yref\": \"y\"}, {\"font\": {\"color\": \"#000000\", \"size\": 8}, \"showarrow\": false, \"text\": \"0\", \"x\": \"CELLULAR_PHONE_CASE\", \"xref\": \"x\", \"y\": \"TABLE\", \"yref\": \"y\"}, {\"font\": {\"color\": \"#000000\", \"size\": 8}, \"showarrow\": false, \"text\": \"8\", \"x\": \"CHAIR\", \"xref\": \"x\", \"y\": \"TABLE\", \"yref\": \"y\"}, {\"font\": {\"color\": \"#000000\", \"size\": 8}, \"showarrow\": false, \"text\": \"0\", \"x\": \"EARRING\", \"xref\": \"x\", \"y\": \"TABLE\", \"yref\": \"y\"}, {\"font\": {\"color\": \"#000000\", \"size\": 8}, \"showarrow\": false, \"text\": \"0\", \"x\": \"FINEEARRING\", \"xref\": \"x\", \"y\": \"TABLE\", \"yref\": \"y\"}, {\"font\": {\"color\": \"#000000\", \"size\": 8}, \"showarrow\": false, \"text\": \"0\", \"x\": \"FINENECKLACEBRACELETANKLET\", \"xref\": \"x\", \"y\": \"TABLE\", \"yref\": \"y\"}, {\"font\": {\"color\": \"#000000\", \"size\": 8}, \"showarrow\": false, \"text\": \"0\", \"x\": \"FINERING\", \"xref\": \"x\", \"y\": \"TABLE\", \"yref\": \"y\"}, {\"font\": {\"color\": \"#000000\", \"size\": 8}, \"showarrow\": false, \"text\": \"1\", \"x\": \"GROCERY\", \"xref\": \"x\", \"y\": \"TABLE\", \"yref\": \"y\"}, {\"font\": {\"color\": \"#000000\", \"size\": 8}, \"showarrow\": false, \"text\": \"0\", \"x\": \"HANDBAG\", \"xref\": \"x\", \"y\": \"TABLE\", \"yref\": \"y\"}, {\"font\": {\"color\": \"#000000\", \"size\": 8}, \"showarrow\": false, \"text\": \"0\", \"x\": \"HARDWARE_HANDLE\", \"xref\": \"x\", \"y\": \"TABLE\", \"yref\": \"y\"}, {\"font\": {\"color\": \"#000000\", \"size\": 8}, \"showarrow\": false, \"text\": \"0\", \"x\": \"HAT\", \"xref\": \"x\", \"y\": \"TABLE\", \"yref\": \"y\"}, {\"font\": {\"color\": \"#000000\", \"size\": 8}, \"showarrow\": false, \"text\": \"0\", \"x\": \"HEALTH_PERSONAL_CARE\", \"xref\": \"x\", \"y\": \"TABLE\", \"yref\": \"y\"}, {\"font\": {\"color\": \"#000000\", \"size\": 8}, \"showarrow\": false, \"text\": \"1\", \"x\": \"HOME\", \"xref\": \"x\", \"y\": \"TABLE\", \"yref\": \"y\"}, {\"font\": {\"color\": \"#000000\", \"size\": 8}, \"showarrow\": false, \"text\": \"0\", \"x\": \"HOME_BED_AND_BATH\", \"xref\": \"x\", \"y\": \"TABLE\", \"yref\": \"y\"}, {\"font\": {\"color\": \"#000000\", \"size\": 8}, \"showarrow\": false, \"text\": \"16\", \"x\": \"HOME_FURNITURE_AND_DECOR\", \"xref\": \"x\", \"y\": \"TABLE\", \"yref\": \"y\"}, {\"font\": {\"color\": \"#000000\", \"size\": 8}, \"showarrow\": false, \"text\": \"0\", \"x\": \"JANITORIAL_SUPPLY\", \"xref\": \"x\", \"y\": \"TABLE\", \"yref\": \"y\"}, {\"font\": {\"color\": \"#000000\", \"size\": 8}, \"showarrow\": false, \"text\": \"0\", \"x\": \"KITCHEN\", \"xref\": \"x\", \"y\": \"TABLE\", \"yref\": \"y\"}, {\"font\": {\"color\": \"#000000\", \"size\": 8}, \"showarrow\": false, \"text\": \"6\", \"x\": \"LAMP\", \"xref\": \"x\", \"y\": \"TABLE\", \"yref\": \"y\"}, {\"font\": {\"color\": \"#000000\", \"size\": 8}, \"showarrow\": false, \"text\": \"0\", \"x\": \"LIGHT_BULB\", \"xref\": \"x\", \"y\": \"TABLE\", \"yref\": \"y\"}, {\"font\": {\"color\": \"#000000\", \"size\": 8}, \"showarrow\": false, \"text\": \"0\", \"x\": \"LIGHT_FIXTURE\", \"xref\": \"x\", \"y\": \"TABLE\", \"yref\": \"y\"}, {\"font\": {\"color\": \"#000000\", \"size\": 8}, \"showarrow\": false, \"text\": \"0\", \"x\": \"OFFICE_PRODUCTS\", \"xref\": \"x\", \"y\": \"TABLE\", \"yref\": \"y\"}, {\"font\": {\"color\": \"#000000\", \"size\": 8}, \"showarrow\": false, \"text\": \"7\", \"x\": \"OUTDOOR_LIVING\", \"xref\": \"x\", \"y\": \"TABLE\", \"yref\": \"y\"}, {\"font\": {\"color\": \"#000000\", \"size\": 8}, \"showarrow\": false, \"text\": \"0\", \"x\": \"PET_SUPPLIES\", \"xref\": \"x\", \"y\": \"TABLE\", \"yref\": \"y\"}, {\"font\": {\"color\": \"#000000\", \"size\": 8}, \"showarrow\": false, \"text\": \"0\", \"x\": \"RUG\", \"xref\": \"x\", \"y\": \"TABLE\", \"yref\": \"y\"}, {\"font\": {\"color\": \"#000000\", \"size\": 8}, \"showarrow\": false, \"text\": \"0\", \"x\": \"SANDAL\", \"xref\": \"x\", \"y\": \"TABLE\", \"yref\": \"y\"}, {\"font\": {\"color\": \"#000000\", \"size\": 8}, \"showarrow\": false, \"text\": \"0\", \"x\": \"SHOES\", \"xref\": \"x\", \"y\": \"TABLE\", \"yref\": \"y\"}, {\"font\": {\"color\": \"#000000\", \"size\": 8}, \"showarrow\": false, \"text\": \"3\", \"x\": \"SOFA\", \"xref\": \"x\", \"y\": \"TABLE\", \"yref\": \"y\"}, {\"font\": {\"color\": \"#000000\", \"size\": 8}, \"showarrow\": false, \"text\": \"0\", \"x\": \"SPORTING_GOODS\", \"xref\": \"x\", \"y\": \"TABLE\", \"yref\": \"y\"}, {\"font\": {\"color\": \"#000000\", \"size\": 8}, \"showarrow\": false, \"text\": \"145\", \"x\": \"TABLE\", \"xref\": \"x\", \"y\": \"TABLE\", \"yref\": \"y\"}, {\"font\": {\"color\": \"#000000\", \"size\": 8}, \"showarrow\": false, \"text\": \"0\", \"x\": \"WALL_ART\", \"xref\": \"x\", \"y\": \"TABLE\", \"yref\": \"y\"}, {\"font\": {\"color\": \"#000000\", \"size\": 8}, \"showarrow\": false, \"text\": \"0\", \"x\": \"ACCESSORY\", \"xref\": \"x\", \"y\": \"SPORTING_GOODS\", \"yref\": \"y\"}, {\"font\": {\"color\": \"#000000\", \"size\": 8}, \"showarrow\": false, \"text\": \"0\", \"x\": \"BOOT\", \"xref\": \"x\", \"y\": \"SPORTING_GOODS\", \"yref\": \"y\"}, {\"font\": {\"color\": \"#000000\", \"size\": 8}, \"showarrow\": false, \"text\": \"0\", \"x\": \"CELLULAR_PHONE_CASE\", \"xref\": \"x\", \"y\": \"SPORTING_GOODS\", \"yref\": \"y\"}, {\"font\": {\"color\": \"#000000\", \"size\": 8}, \"showarrow\": false, \"text\": \"0\", \"x\": \"CHAIR\", \"xref\": \"x\", \"y\": \"SPORTING_GOODS\", \"yref\": \"y\"}, {\"font\": {\"color\": \"#000000\", \"size\": 8}, \"showarrow\": false, \"text\": \"0\", \"x\": \"EARRING\", \"xref\": \"x\", \"y\": \"SPORTING_GOODS\", \"yref\": \"y\"}, {\"font\": {\"color\": \"#000000\", \"size\": 8}, \"showarrow\": false, \"text\": \"0\", \"x\": \"FINEEARRING\", \"xref\": \"x\", \"y\": \"SPORTING_GOODS\", \"yref\": \"y\"}, {\"font\": {\"color\": \"#000000\", \"size\": 8}, \"showarrow\": false, \"text\": \"0\", \"x\": \"FINENECKLACEBRACELETANKLET\", \"xref\": \"x\", \"y\": \"SPORTING_GOODS\", \"yref\": \"y\"}, {\"font\": {\"color\": \"#000000\", \"size\": 8}, \"showarrow\": false, \"text\": \"0\", \"x\": \"FINERING\", \"xref\": \"x\", \"y\": \"SPORTING_GOODS\", \"yref\": \"y\"}, {\"font\": {\"color\": \"#000000\", \"size\": 8}, \"showarrow\": false, \"text\": \"2\", \"x\": \"GROCERY\", \"xref\": \"x\", \"y\": \"SPORTING_GOODS\", \"yref\": \"y\"}, {\"font\": {\"color\": \"#000000\", \"size\": 8}, \"showarrow\": false, \"text\": \"0\", \"x\": \"HANDBAG\", \"xref\": \"x\", \"y\": \"SPORTING_GOODS\", \"yref\": \"y\"}, {\"font\": {\"color\": \"#000000\", \"size\": 8}, \"showarrow\": false, \"text\": \"3\", \"x\": \"HARDWARE_HANDLE\", \"xref\": \"x\", \"y\": \"SPORTING_GOODS\", \"yref\": \"y\"}, {\"font\": {\"color\": \"#000000\", \"size\": 8}, \"showarrow\": false, \"text\": \"1\", \"x\": \"HAT\", \"xref\": \"x\", \"y\": \"SPORTING_GOODS\", \"yref\": \"y\"}, {\"font\": {\"color\": \"#000000\", \"size\": 8}, \"showarrow\": false, \"text\": \"1\", \"x\": \"HEALTH_PERSONAL_CARE\", \"xref\": \"x\", \"y\": \"SPORTING_GOODS\", \"yref\": \"y\"}, {\"font\": {\"color\": \"#000000\", \"size\": 8}, \"showarrow\": false, \"text\": \"12\", \"x\": \"HOME\", \"xref\": \"x\", \"y\": \"SPORTING_GOODS\", \"yref\": \"y\"}, {\"font\": {\"color\": \"#000000\", \"size\": 8}, \"showarrow\": false, \"text\": \"8\", \"x\": \"HOME_BED_AND_BATH\", \"xref\": \"x\", \"y\": \"SPORTING_GOODS\", \"yref\": \"y\"}, {\"font\": {\"color\": \"#000000\", \"size\": 8}, \"showarrow\": false, \"text\": \"1\", \"x\": \"HOME_FURNITURE_AND_DECOR\", \"xref\": \"x\", \"y\": \"SPORTING_GOODS\", \"yref\": \"y\"}, {\"font\": {\"color\": \"#000000\", \"size\": 8}, \"showarrow\": false, \"text\": \"1\", \"x\": \"JANITORIAL_SUPPLY\", \"xref\": \"x\", \"y\": \"SPORTING_GOODS\", \"yref\": \"y\"}, {\"font\": {\"color\": \"#000000\", \"size\": 8}, \"showarrow\": false, \"text\": \"1\", \"x\": \"KITCHEN\", \"xref\": \"x\", \"y\": \"SPORTING_GOODS\", \"yref\": \"y\"}, {\"font\": {\"color\": \"#000000\", \"size\": 8}, \"showarrow\": false, \"text\": \"0\", \"x\": \"LAMP\", \"xref\": \"x\", \"y\": \"SPORTING_GOODS\", \"yref\": \"y\"}, {\"font\": {\"color\": \"#000000\", \"size\": 8}, \"showarrow\": false, \"text\": \"0\", \"x\": \"LIGHT_BULB\", \"xref\": \"x\", \"y\": \"SPORTING_GOODS\", \"yref\": \"y\"}, {\"font\": {\"color\": \"#000000\", \"size\": 8}, \"showarrow\": false, \"text\": \"1\", \"x\": \"LIGHT_FIXTURE\", \"xref\": \"x\", \"y\": \"SPORTING_GOODS\", \"yref\": \"y\"}, {\"font\": {\"color\": \"#000000\", \"size\": 8}, \"showarrow\": false, \"text\": \"8\", \"x\": \"OFFICE_PRODUCTS\", \"xref\": \"x\", \"y\": \"SPORTING_GOODS\", \"yref\": \"y\"}, {\"font\": {\"color\": \"#000000\", \"size\": 8}, \"showarrow\": false, \"text\": \"1\", \"x\": \"OUTDOOR_LIVING\", \"xref\": \"x\", \"y\": \"SPORTING_GOODS\", \"yref\": \"y\"}, {\"font\": {\"color\": \"#000000\", \"size\": 8}, \"showarrow\": false, \"text\": \"2\", \"x\": \"PET_SUPPLIES\", \"xref\": \"x\", \"y\": \"SPORTING_GOODS\", \"yref\": \"y\"}, {\"font\": {\"color\": \"#000000\", \"size\": 8}, \"showarrow\": false, \"text\": \"0\", \"x\": \"RUG\", \"xref\": \"x\", \"y\": \"SPORTING_GOODS\", \"yref\": \"y\"}, {\"font\": {\"color\": \"#000000\", \"size\": 8}, \"showarrow\": false, \"text\": \"0\", \"x\": \"SANDAL\", \"xref\": \"x\", \"y\": \"SPORTING_GOODS\", \"yref\": \"y\"}, {\"font\": {\"color\": \"#000000\", \"size\": 8}, \"showarrow\": false, \"text\": \"0\", \"x\": \"SHOES\", \"xref\": \"x\", \"y\": \"SPORTING_GOODS\", \"yref\": \"y\"}, {\"font\": {\"color\": \"#000000\", \"size\": 8}, \"showarrow\": false, \"text\": \"0\", \"x\": \"SOFA\", \"xref\": \"x\", \"y\": \"SPORTING_GOODS\", \"yref\": \"y\"}, {\"font\": {\"color\": \"#000000\", \"size\": 8}, \"showarrow\": false, \"text\": \"153\", \"x\": \"SPORTING_GOODS\", \"xref\": \"x\", \"y\": \"SPORTING_GOODS\", \"yref\": \"y\"}, {\"font\": {\"color\": \"#000000\", \"size\": 8}, \"showarrow\": false, \"text\": \"0\", \"x\": \"TABLE\", \"xref\": \"x\", \"y\": \"SPORTING_GOODS\", \"yref\": \"y\"}, {\"font\": {\"color\": \"#000000\", \"size\": 8}, \"showarrow\": false, \"text\": \"0\", \"x\": \"WALL_ART\", \"xref\": \"x\", \"y\": \"SPORTING_GOODS\", \"yref\": \"y\"}, {\"font\": {\"color\": \"#000000\", \"size\": 8}, \"showarrow\": false, \"text\": \"0\", \"x\": \"ACCESSORY\", \"xref\": \"x\", \"y\": \"SOFA\", \"yref\": \"y\"}, {\"font\": {\"color\": \"#000000\", \"size\": 8}, \"showarrow\": false, \"text\": \"0\", \"x\": \"BOOT\", \"xref\": \"x\", \"y\": \"SOFA\", \"yref\": \"y\"}, {\"font\": {\"color\": \"#000000\", \"size\": 8}, \"showarrow\": false, \"text\": \"0\", \"x\": \"CELLULAR_PHONE_CASE\", \"xref\": \"x\", \"y\": \"SOFA\", \"yref\": \"y\"}, {\"font\": {\"color\": \"#000000\", \"size\": 8}, \"showarrow\": false, \"text\": \"17\", \"x\": \"CHAIR\", \"xref\": \"x\", \"y\": \"SOFA\", \"yref\": \"y\"}, {\"font\": {\"color\": \"#000000\", \"size\": 8}, \"showarrow\": false, \"text\": \"0\", \"x\": \"EARRING\", \"xref\": \"x\", \"y\": \"SOFA\", \"yref\": \"y\"}, {\"font\": {\"color\": \"#000000\", \"size\": 8}, \"showarrow\": false, \"text\": \"0\", \"x\": \"FINEEARRING\", \"xref\": \"x\", \"y\": \"SOFA\", \"yref\": \"y\"}, {\"font\": {\"color\": \"#000000\", \"size\": 8}, \"showarrow\": false, \"text\": \"0\", \"x\": \"FINENECKLACEBRACELETANKLET\", \"xref\": \"x\", \"y\": \"SOFA\", \"yref\": \"y\"}, {\"font\": {\"color\": \"#000000\", \"size\": 8}, \"showarrow\": false, \"text\": \"0\", \"x\": \"FINERING\", \"xref\": \"x\", \"y\": \"SOFA\", \"yref\": \"y\"}, {\"font\": {\"color\": \"#000000\", \"size\": 8}, \"showarrow\": false, \"text\": \"0\", \"x\": \"GROCERY\", \"xref\": \"x\", \"y\": \"SOFA\", \"yref\": \"y\"}, {\"font\": {\"color\": \"#000000\", \"size\": 8}, \"showarrow\": false, \"text\": \"0\", \"x\": \"HANDBAG\", \"xref\": \"x\", \"y\": \"SOFA\", \"yref\": \"y\"}, {\"font\": {\"color\": \"#000000\", \"size\": 8}, \"showarrow\": false, \"text\": \"0\", \"x\": \"HARDWARE_HANDLE\", \"xref\": \"x\", \"y\": \"SOFA\", \"yref\": \"y\"}, {\"font\": {\"color\": \"#000000\", \"size\": 8}, \"showarrow\": false, \"text\": \"0\", \"x\": \"HAT\", \"xref\": \"x\", \"y\": \"SOFA\", \"yref\": \"y\"}, {\"font\": {\"color\": \"#000000\", \"size\": 8}, \"showarrow\": false, \"text\": \"0\", \"x\": \"HEALTH_PERSONAL_CARE\", \"xref\": \"x\", \"y\": \"SOFA\", \"yref\": \"y\"}, {\"font\": {\"color\": \"#000000\", \"size\": 8}, \"showarrow\": false, \"text\": \"2\", \"x\": \"HOME\", \"xref\": \"x\", \"y\": \"SOFA\", \"yref\": \"y\"}, {\"font\": {\"color\": \"#000000\", \"size\": 8}, \"showarrow\": false, \"text\": \"1\", \"x\": \"HOME_BED_AND_BATH\", \"xref\": \"x\", \"y\": \"SOFA\", \"yref\": \"y\"}, {\"font\": {\"color\": \"#000000\", \"size\": 8}, \"showarrow\": false, \"text\": \"20\", \"x\": \"HOME_FURNITURE_AND_DECOR\", \"xref\": \"x\", \"y\": \"SOFA\", \"yref\": \"y\"}, {\"font\": {\"color\": \"#000000\", \"size\": 8}, \"showarrow\": false, \"text\": \"0\", \"x\": \"JANITORIAL_SUPPLY\", \"xref\": \"x\", \"y\": \"SOFA\", \"yref\": \"y\"}, {\"font\": {\"color\": \"#000000\", \"size\": 8}, \"showarrow\": false, \"text\": \"0\", \"x\": \"KITCHEN\", \"xref\": \"x\", \"y\": \"SOFA\", \"yref\": \"y\"}, {\"font\": {\"color\": \"#000000\", \"size\": 8}, \"showarrow\": false, \"text\": \"0\", \"x\": \"LAMP\", \"xref\": \"x\", \"y\": \"SOFA\", \"yref\": \"y\"}, {\"font\": {\"color\": \"#000000\", \"size\": 8}, \"showarrow\": false, \"text\": \"0\", \"x\": \"LIGHT_BULB\", \"xref\": \"x\", \"y\": \"SOFA\", \"yref\": \"y\"}, {\"font\": {\"color\": \"#000000\", \"size\": 8}, \"showarrow\": false, \"text\": \"1\", \"x\": \"LIGHT_FIXTURE\", \"xref\": \"x\", \"y\": \"SOFA\", \"yref\": \"y\"}, {\"font\": {\"color\": \"#000000\", \"size\": 8}, \"showarrow\": false, \"text\": \"0\", \"x\": \"OFFICE_PRODUCTS\", \"xref\": \"x\", \"y\": \"SOFA\", \"yref\": \"y\"}, {\"font\": {\"color\": \"#000000\", \"size\": 8}, \"showarrow\": false, \"text\": \"0\", \"x\": \"OUTDOOR_LIVING\", \"xref\": \"x\", \"y\": \"SOFA\", \"yref\": \"y\"}, {\"font\": {\"color\": \"#000000\", \"size\": 8}, \"showarrow\": false, \"text\": \"0\", \"x\": \"PET_SUPPLIES\", \"xref\": \"x\", \"y\": \"SOFA\", \"yref\": \"y\"}, {\"font\": {\"color\": \"#000000\", \"size\": 8}, \"showarrow\": false, \"text\": \"0\", \"x\": \"RUG\", \"xref\": \"x\", \"y\": \"SOFA\", \"yref\": \"y\"}, {\"font\": {\"color\": \"#000000\", \"size\": 8}, \"showarrow\": false, \"text\": \"0\", \"x\": \"SANDAL\", \"xref\": \"x\", \"y\": \"SOFA\", \"yref\": \"y\"}, {\"font\": {\"color\": \"#000000\", \"size\": 8}, \"showarrow\": false, \"text\": \"0\", \"x\": \"SHOES\", \"xref\": \"x\", \"y\": \"SOFA\", \"yref\": \"y\"}, {\"font\": {\"color\": \"#000000\", \"size\": 8}, \"showarrow\": false, \"text\": \"198\", \"x\": \"SOFA\", \"xref\": \"x\", \"y\": \"SOFA\", \"yref\": \"y\"}, {\"font\": {\"color\": \"#000000\", \"size\": 8}, \"showarrow\": false, \"text\": \"0\", \"x\": \"SPORTING_GOODS\", \"xref\": \"x\", \"y\": \"SOFA\", \"yref\": \"y\"}, {\"font\": {\"color\": \"#000000\", \"size\": 8}, \"showarrow\": false, \"text\": \"1\", \"x\": \"TABLE\", \"xref\": \"x\", \"y\": \"SOFA\", \"yref\": \"y\"}, {\"font\": {\"color\": \"#000000\", \"size\": 8}, \"showarrow\": false, \"text\": \"0\", \"x\": \"WALL_ART\", \"xref\": \"x\", \"y\": \"SOFA\", \"yref\": \"y\"}, {\"font\": {\"color\": \"#000000\", \"size\": 8}, \"showarrow\": false, \"text\": \"8\", \"x\": \"ACCESSORY\", \"xref\": \"x\", \"y\": \"SHOES\", \"yref\": \"y\"}, {\"font\": {\"color\": \"#000000\", \"size\": 8}, \"showarrow\": false, \"text\": \"98\", \"x\": \"BOOT\", \"xref\": \"x\", \"y\": \"SHOES\", \"yref\": \"y\"}, {\"font\": {\"color\": \"#000000\", \"size\": 8}, \"showarrow\": false, \"text\": \"0\", \"x\": \"CELLULAR_PHONE_CASE\", \"xref\": \"x\", \"y\": \"SHOES\", \"yref\": \"y\"}, {\"font\": {\"color\": \"#000000\", \"size\": 8}, \"showarrow\": false, \"text\": \"0\", \"x\": \"CHAIR\", \"xref\": \"x\", \"y\": \"SHOES\", \"yref\": \"y\"}, {\"font\": {\"color\": \"#000000\", \"size\": 8}, \"showarrow\": false, \"text\": \"0\", \"x\": \"EARRING\", \"xref\": \"x\", \"y\": \"SHOES\", \"yref\": \"y\"}, {\"font\": {\"color\": \"#000000\", \"size\": 8}, \"showarrow\": false, \"text\": \"0\", \"x\": \"FINEEARRING\", \"xref\": \"x\", \"y\": \"SHOES\", \"yref\": \"y\"}, {\"font\": {\"color\": \"#000000\", \"size\": 8}, \"showarrow\": false, \"text\": \"0\", \"x\": \"FINENECKLACEBRACELETANKLET\", \"xref\": \"x\", \"y\": \"SHOES\", \"yref\": \"y\"}, {\"font\": {\"color\": \"#000000\", \"size\": 8}, \"showarrow\": false, \"text\": \"0\", \"x\": \"FINERING\", \"xref\": \"x\", \"y\": \"SHOES\", \"yref\": \"y\"}, {\"font\": {\"color\": \"#000000\", \"size\": 8}, \"showarrow\": false, \"text\": \"0\", \"x\": \"GROCERY\", \"xref\": \"x\", \"y\": \"SHOES\", \"yref\": \"y\"}, {\"font\": {\"color\": \"#000000\", \"size\": 8}, \"showarrow\": false, \"text\": \"1\", \"x\": \"HANDBAG\", \"xref\": \"x\", \"y\": \"SHOES\", \"yref\": \"y\"}, {\"font\": {\"color\": \"#000000\", \"size\": 8}, \"showarrow\": false, \"text\": \"0\", \"x\": \"HARDWARE_HANDLE\", \"xref\": \"x\", \"y\": \"SHOES\", \"yref\": \"y\"}, {\"font\": {\"color\": \"#000000\", \"size\": 8}, \"showarrow\": false, \"text\": \"0\", \"x\": \"HAT\", \"xref\": \"x\", \"y\": \"SHOES\", \"yref\": \"y\"}, {\"font\": {\"color\": \"#000000\", \"size\": 8}, \"showarrow\": false, \"text\": \"1\", \"x\": \"HEALTH_PERSONAL_CARE\", \"xref\": \"x\", \"y\": \"SHOES\", \"yref\": \"y\"}, {\"font\": {\"color\": \"#000000\", \"size\": 8}, \"showarrow\": false, \"text\": \"0\", \"x\": \"HOME\", \"xref\": \"x\", \"y\": \"SHOES\", \"yref\": \"y\"}, {\"font\": {\"color\": \"#000000\", \"size\": 8}, \"showarrow\": false, \"text\": \"0\", \"x\": \"HOME_BED_AND_BATH\", \"xref\": \"x\", \"y\": \"SHOES\", \"yref\": \"y\"}, {\"font\": {\"color\": \"#000000\", \"size\": 8}, \"showarrow\": false, \"text\": \"0\", \"x\": \"HOME_FURNITURE_AND_DECOR\", \"xref\": \"x\", \"y\": \"SHOES\", \"yref\": \"y\"}, {\"font\": {\"color\": \"#000000\", \"size\": 8}, \"showarrow\": false, \"text\": \"0\", \"x\": \"JANITORIAL_SUPPLY\", \"xref\": \"x\", \"y\": \"SHOES\", \"yref\": \"y\"}, {\"font\": {\"color\": \"#000000\", \"size\": 8}, \"showarrow\": false, \"text\": \"0\", \"x\": \"KITCHEN\", \"xref\": \"x\", \"y\": \"SHOES\", \"yref\": \"y\"}, {\"font\": {\"color\": \"#000000\", \"size\": 8}, \"showarrow\": false, \"text\": \"0\", \"x\": \"LAMP\", \"xref\": \"x\", \"y\": \"SHOES\", \"yref\": \"y\"}, {\"font\": {\"color\": \"#000000\", \"size\": 8}, \"showarrow\": false, \"text\": \"0\", \"x\": \"LIGHT_BULB\", \"xref\": \"x\", \"y\": \"SHOES\", \"yref\": \"y\"}, {\"font\": {\"color\": \"#000000\", \"size\": 8}, \"showarrow\": false, \"text\": \"0\", \"x\": \"LIGHT_FIXTURE\", \"xref\": \"x\", \"y\": \"SHOES\", \"yref\": \"y\"}, {\"font\": {\"color\": \"#000000\", \"size\": 8}, \"showarrow\": false, \"text\": \"0\", \"x\": \"OFFICE_PRODUCTS\", \"xref\": \"x\", \"y\": \"SHOES\", \"yref\": \"y\"}, {\"font\": {\"color\": \"#000000\", \"size\": 8}, \"showarrow\": false, \"text\": \"0\", \"x\": \"OUTDOOR_LIVING\", \"xref\": \"x\", \"y\": \"SHOES\", \"yref\": \"y\"}, {\"font\": {\"color\": \"#000000\", \"size\": 8}, \"showarrow\": false, \"text\": \"0\", \"x\": \"PET_SUPPLIES\", \"xref\": \"x\", \"y\": \"SHOES\", \"yref\": \"y\"}, {\"font\": {\"color\": \"#000000\", \"size\": 8}, \"showarrow\": false, \"text\": \"0\", \"x\": \"RUG\", \"xref\": \"x\", \"y\": \"SHOES\", \"yref\": \"y\"}, {\"font\": {\"color\": \"#000000\", \"size\": 8}, \"showarrow\": false, \"text\": \"90\", \"x\": \"SANDAL\", \"xref\": \"x\", \"y\": \"SHOES\", \"yref\": \"y\"}, {\"font\": {\"color\": \"#000000\", \"size\": 8}, \"showarrow\": false, \"text\": \"2395\", \"x\": \"SHOES\", \"xref\": \"x\", \"y\": \"SHOES\", \"yref\": \"y\"}, {\"font\": {\"color\": \"#000000\", \"size\": 8}, \"showarrow\": false, \"text\": \"0\", \"x\": \"SOFA\", \"xref\": \"x\", \"y\": \"SHOES\", \"yref\": \"y\"}, {\"font\": {\"color\": \"#000000\", \"size\": 8}, \"showarrow\": false, \"text\": \"0\", \"x\": \"SPORTING_GOODS\", \"xref\": \"x\", \"y\": \"SHOES\", \"yref\": \"y\"}, {\"font\": {\"color\": \"#000000\", \"size\": 8}, \"showarrow\": false, \"text\": \"0\", \"x\": \"TABLE\", \"xref\": \"x\", \"y\": \"SHOES\", \"yref\": \"y\"}, {\"font\": {\"color\": \"#000000\", \"size\": 8}, \"showarrow\": false, \"text\": \"0\", \"x\": \"WALL_ART\", \"xref\": \"x\", \"y\": \"SHOES\", \"yref\": \"y\"}, {\"font\": {\"color\": \"#000000\", \"size\": 8}, \"showarrow\": false, \"text\": \"0\", \"x\": \"ACCESSORY\", \"xref\": \"x\", \"y\": \"SANDAL\", \"yref\": \"y\"}, {\"font\": {\"color\": \"#000000\", \"size\": 8}, \"showarrow\": false, \"text\": \"4\", \"x\": \"BOOT\", \"xref\": \"x\", \"y\": \"SANDAL\", \"yref\": \"y\"}, {\"font\": {\"color\": \"#000000\", \"size\": 8}, \"showarrow\": false, \"text\": \"0\", \"x\": \"CELLULAR_PHONE_CASE\", \"xref\": \"x\", \"y\": \"SANDAL\", \"yref\": \"y\"}, {\"font\": {\"color\": \"#000000\", \"size\": 8}, \"showarrow\": false, \"text\": \"0\", \"x\": \"CHAIR\", \"xref\": \"x\", \"y\": \"SANDAL\", \"yref\": \"y\"}, {\"font\": {\"color\": \"#000000\", \"size\": 8}, \"showarrow\": false, \"text\": \"0\", \"x\": \"EARRING\", \"xref\": \"x\", \"y\": \"SANDAL\", \"yref\": \"y\"}, {\"font\": {\"color\": \"#000000\", \"size\": 8}, \"showarrow\": false, \"text\": \"0\", \"x\": \"FINEEARRING\", \"xref\": \"x\", \"y\": \"SANDAL\", \"yref\": \"y\"}, {\"font\": {\"color\": \"#000000\", \"size\": 8}, \"showarrow\": false, \"text\": \"0\", \"x\": \"FINENECKLACEBRACELETANKLET\", \"xref\": \"x\", \"y\": \"SANDAL\", \"yref\": \"y\"}, {\"font\": {\"color\": \"#000000\", \"size\": 8}, \"showarrow\": false, \"text\": \"0\", \"x\": \"FINERING\", \"xref\": \"x\", \"y\": \"SANDAL\", \"yref\": \"y\"}, {\"font\": {\"color\": \"#000000\", \"size\": 8}, \"showarrow\": false, \"text\": \"0\", \"x\": \"GROCERY\", \"xref\": \"x\", \"y\": \"SANDAL\", \"yref\": \"y\"}, {\"font\": {\"color\": \"#000000\", \"size\": 8}, \"showarrow\": false, \"text\": \"1\", \"x\": \"HANDBAG\", \"xref\": \"x\", \"y\": \"SANDAL\", \"yref\": \"y\"}, {\"font\": {\"color\": \"#000000\", \"size\": 8}, \"showarrow\": false, \"text\": \"0\", \"x\": \"HARDWARE_HANDLE\", \"xref\": \"x\", \"y\": \"SANDAL\", \"yref\": \"y\"}, {\"font\": {\"color\": \"#000000\", \"size\": 8}, \"showarrow\": false, \"text\": \"0\", \"x\": \"HAT\", \"xref\": \"x\", \"y\": \"SANDAL\", \"yref\": \"y\"}, {\"font\": {\"color\": \"#000000\", \"size\": 8}, \"showarrow\": false, \"text\": \"0\", \"x\": \"HEALTH_PERSONAL_CARE\", \"xref\": \"x\", \"y\": \"SANDAL\", \"yref\": \"y\"}, {\"font\": {\"color\": \"#000000\", \"size\": 8}, \"showarrow\": false, \"text\": \"0\", \"x\": \"HOME\", \"xref\": \"x\", \"y\": \"SANDAL\", \"yref\": \"y\"}, {\"font\": {\"color\": \"#000000\", \"size\": 8}, \"showarrow\": false, \"text\": \"0\", \"x\": \"HOME_BED_AND_BATH\", \"xref\": \"x\", \"y\": \"SANDAL\", \"yref\": \"y\"}, {\"font\": {\"color\": \"#000000\", \"size\": 8}, \"showarrow\": false, \"text\": \"0\", \"x\": \"HOME_FURNITURE_AND_DECOR\", \"xref\": \"x\", \"y\": \"SANDAL\", \"yref\": \"y\"}, {\"font\": {\"color\": \"#000000\", \"size\": 8}, \"showarrow\": false, \"text\": \"0\", \"x\": \"JANITORIAL_SUPPLY\", \"xref\": \"x\", \"y\": \"SANDAL\", \"yref\": \"y\"}, {\"font\": {\"color\": \"#000000\", \"size\": 8}, \"showarrow\": false, \"text\": \"0\", \"x\": \"KITCHEN\", \"xref\": \"x\", \"y\": \"SANDAL\", \"yref\": \"y\"}, {\"font\": {\"color\": \"#000000\", \"size\": 8}, \"showarrow\": false, \"text\": \"0\", \"x\": \"LAMP\", \"xref\": \"x\", \"y\": \"SANDAL\", \"yref\": \"y\"}, {\"font\": {\"color\": \"#000000\", \"size\": 8}, \"showarrow\": false, \"text\": \"0\", \"x\": \"LIGHT_BULB\", \"xref\": \"x\", \"y\": \"SANDAL\", \"yref\": \"y\"}, {\"font\": {\"color\": \"#000000\", \"size\": 8}, \"showarrow\": false, \"text\": \"0\", \"x\": \"LIGHT_FIXTURE\", \"xref\": \"x\", \"y\": \"SANDAL\", \"yref\": \"y\"}, {\"font\": {\"color\": \"#000000\", \"size\": 8}, \"showarrow\": false, \"text\": \"0\", \"x\": \"OFFICE_PRODUCTS\", \"xref\": \"x\", \"y\": \"SANDAL\", \"yref\": \"y\"}, {\"font\": {\"color\": \"#000000\", \"size\": 8}, \"showarrow\": false, \"text\": \"0\", \"x\": \"OUTDOOR_LIVING\", \"xref\": \"x\", \"y\": \"SANDAL\", \"yref\": \"y\"}, {\"font\": {\"color\": \"#000000\", \"size\": 8}, \"showarrow\": false, \"text\": \"0\", \"x\": \"PET_SUPPLIES\", \"xref\": \"x\", \"y\": \"SANDAL\", \"yref\": \"y\"}, {\"font\": {\"color\": \"#000000\", \"size\": 8}, \"showarrow\": false, \"text\": \"0\", \"x\": \"RUG\", \"xref\": \"x\", \"y\": \"SANDAL\", \"yref\": \"y\"}, {\"font\": {\"color\": \"#000000\", \"size\": 8}, \"showarrow\": false, \"text\": \"345\", \"x\": \"SANDAL\", \"xref\": \"x\", \"y\": \"SANDAL\", \"yref\": \"y\"}, {\"font\": {\"color\": \"#000000\", \"size\": 8}, \"showarrow\": false, \"text\": \"19\", \"x\": \"SHOES\", \"xref\": \"x\", \"y\": \"SANDAL\", \"yref\": \"y\"}, {\"font\": {\"color\": \"#000000\", \"size\": 8}, \"showarrow\": false, \"text\": \"0\", \"x\": \"SOFA\", \"xref\": \"x\", \"y\": \"SANDAL\", \"yref\": \"y\"}, {\"font\": {\"color\": \"#000000\", \"size\": 8}, \"showarrow\": false, \"text\": \"0\", \"x\": \"SPORTING_GOODS\", \"xref\": \"x\", \"y\": \"SANDAL\", \"yref\": \"y\"}, {\"font\": {\"color\": \"#000000\", \"size\": 8}, \"showarrow\": false, \"text\": \"0\", \"x\": \"TABLE\", \"xref\": \"x\", \"y\": \"SANDAL\", \"yref\": \"y\"}, {\"font\": {\"color\": \"#000000\", \"size\": 8}, \"showarrow\": false, \"text\": \"0\", \"x\": \"WALL_ART\", \"xref\": \"x\", \"y\": \"SANDAL\", \"yref\": \"y\"}, {\"font\": {\"color\": \"#000000\", \"size\": 8}, \"showarrow\": false, \"text\": \"0\", \"x\": \"ACCESSORY\", \"xref\": \"x\", \"y\": \"RUG\", \"yref\": \"y\"}, {\"font\": {\"color\": \"#000000\", \"size\": 8}, \"showarrow\": false, \"text\": \"0\", \"x\": \"BOOT\", \"xref\": \"x\", \"y\": \"RUG\", \"yref\": \"y\"}, {\"font\": {\"color\": \"#000000\", \"size\": 8}, \"showarrow\": false, \"text\": \"0\", \"x\": \"CELLULAR_PHONE_CASE\", \"xref\": \"x\", \"y\": \"RUG\", \"yref\": \"y\"}, {\"font\": {\"color\": \"#000000\", \"size\": 8}, \"showarrow\": false, \"text\": \"0\", \"x\": \"CHAIR\", \"xref\": \"x\", \"y\": \"RUG\", \"yref\": \"y\"}, {\"font\": {\"color\": \"#000000\", \"size\": 8}, \"showarrow\": false, \"text\": \"0\", \"x\": \"EARRING\", \"xref\": \"x\", \"y\": \"RUG\", \"yref\": \"y\"}, {\"font\": {\"color\": \"#000000\", \"size\": 8}, \"showarrow\": false, \"text\": \"0\", \"x\": \"FINEEARRING\", \"xref\": \"x\", \"y\": \"RUG\", \"yref\": \"y\"}, {\"font\": {\"color\": \"#000000\", \"size\": 8}, \"showarrow\": false, \"text\": \"0\", \"x\": \"FINENECKLACEBRACELETANKLET\", \"xref\": \"x\", \"y\": \"RUG\", \"yref\": \"y\"}, {\"font\": {\"color\": \"#000000\", \"size\": 8}, \"showarrow\": false, \"text\": \"0\", \"x\": \"FINERING\", \"xref\": \"x\", \"y\": \"RUG\", \"yref\": \"y\"}, {\"font\": {\"color\": \"#000000\", \"size\": 8}, \"showarrow\": false, \"text\": \"0\", \"x\": \"GROCERY\", \"xref\": \"x\", \"y\": \"RUG\", \"yref\": \"y\"}, {\"font\": {\"color\": \"#000000\", \"size\": 8}, \"showarrow\": false, \"text\": \"0\", \"x\": \"HANDBAG\", \"xref\": \"x\", \"y\": \"RUG\", \"yref\": \"y\"}, {\"font\": {\"color\": \"#000000\", \"size\": 8}, \"showarrow\": false, \"text\": \"0\", \"x\": \"HARDWARE_HANDLE\", \"xref\": \"x\", \"y\": \"RUG\", \"yref\": \"y\"}, {\"font\": {\"color\": \"#000000\", \"size\": 8}, \"showarrow\": false, \"text\": \"0\", \"x\": \"HAT\", \"xref\": \"x\", \"y\": \"RUG\", \"yref\": \"y\"}, {\"font\": {\"color\": \"#000000\", \"size\": 8}, \"showarrow\": false, \"text\": \"0\", \"x\": \"HEALTH_PERSONAL_CARE\", \"xref\": \"x\", \"y\": \"RUG\", \"yref\": \"y\"}, {\"font\": {\"color\": \"#000000\", \"size\": 8}, \"showarrow\": false, \"text\": \"0\", \"x\": \"HOME\", \"xref\": \"x\", \"y\": \"RUG\", \"yref\": \"y\"}, {\"font\": {\"color\": \"#000000\", \"size\": 8}, \"showarrow\": false, \"text\": \"0\", \"x\": \"HOME_BED_AND_BATH\", \"xref\": \"x\", \"y\": \"RUG\", \"yref\": \"y\"}, {\"font\": {\"color\": \"#000000\", \"size\": 8}, \"showarrow\": false, \"text\": \"5\", \"x\": \"HOME_FURNITURE_AND_DECOR\", \"xref\": \"x\", \"y\": \"RUG\", \"yref\": \"y\"}, {\"font\": {\"color\": \"#000000\", \"size\": 8}, \"showarrow\": false, \"text\": \"0\", \"x\": \"JANITORIAL_SUPPLY\", \"xref\": \"x\", \"y\": \"RUG\", \"yref\": \"y\"}, {\"font\": {\"color\": \"#000000\", \"size\": 8}, \"showarrow\": false, \"text\": \"0\", \"x\": \"KITCHEN\", \"xref\": \"x\", \"y\": \"RUG\", \"yref\": \"y\"}, {\"font\": {\"color\": \"#000000\", \"size\": 8}, \"showarrow\": false, \"text\": \"0\", \"x\": \"LAMP\", \"xref\": \"x\", \"y\": \"RUG\", \"yref\": \"y\"}, {\"font\": {\"color\": \"#000000\", \"size\": 8}, \"showarrow\": false, \"text\": \"0\", \"x\": \"LIGHT_BULB\", \"xref\": \"x\", \"y\": \"RUG\", \"yref\": \"y\"}, {\"font\": {\"color\": \"#000000\", \"size\": 8}, \"showarrow\": false, \"text\": \"2\", \"x\": \"LIGHT_FIXTURE\", \"xref\": \"x\", \"y\": \"RUG\", \"yref\": \"y\"}, {\"font\": {\"color\": \"#000000\", \"size\": 8}, \"showarrow\": false, \"text\": \"0\", \"x\": \"OFFICE_PRODUCTS\", \"xref\": \"x\", \"y\": \"RUG\", \"yref\": \"y\"}, {\"font\": {\"color\": \"#000000\", \"size\": 8}, \"showarrow\": false, \"text\": \"0\", \"x\": \"OUTDOOR_LIVING\", \"xref\": \"x\", \"y\": \"RUG\", \"yref\": \"y\"}, {\"font\": {\"color\": \"#000000\", \"size\": 8}, \"showarrow\": false, \"text\": \"0\", \"x\": \"PET_SUPPLIES\", \"xref\": \"x\", \"y\": \"RUG\", \"yref\": \"y\"}, {\"font\": {\"color\": \"#000000\", \"size\": 8}, \"showarrow\": false, \"text\": \"157\", \"x\": \"RUG\", \"xref\": \"x\", \"y\": \"RUG\", \"yref\": \"y\"}, {\"font\": {\"color\": \"#000000\", \"size\": 8}, \"showarrow\": false, \"text\": \"0\", \"x\": \"SANDAL\", \"xref\": \"x\", \"y\": \"RUG\", \"yref\": \"y\"}, {\"font\": {\"color\": \"#000000\", \"size\": 8}, \"showarrow\": false, \"text\": \"0\", \"x\": \"SHOES\", \"xref\": \"x\", \"y\": \"RUG\", \"yref\": \"y\"}, {\"font\": {\"color\": \"#000000\", \"size\": 8}, \"showarrow\": false, \"text\": \"0\", \"x\": \"SOFA\", \"xref\": \"x\", \"y\": \"RUG\", \"yref\": \"y\"}, {\"font\": {\"color\": \"#000000\", \"size\": 8}, \"showarrow\": false, \"text\": \"0\", \"x\": \"SPORTING_GOODS\", \"xref\": \"x\", \"y\": \"RUG\", \"yref\": \"y\"}, {\"font\": {\"color\": \"#000000\", \"size\": 8}, \"showarrow\": false, \"text\": \"0\", \"x\": \"TABLE\", \"xref\": \"x\", \"y\": \"RUG\", \"yref\": \"y\"}, {\"font\": {\"color\": \"#000000\", \"size\": 8}, \"showarrow\": false, \"text\": \"0\", \"x\": \"WALL_ART\", \"xref\": \"x\", \"y\": \"RUG\", \"yref\": \"y\"}, {\"font\": {\"color\": \"#000000\", \"size\": 8}, \"showarrow\": false, \"text\": \"0\", \"x\": \"ACCESSORY\", \"xref\": \"x\", \"y\": \"PET_SUPPLIES\", \"yref\": \"y\"}, {\"font\": {\"color\": \"#000000\", \"size\": 8}, \"showarrow\": false, \"text\": \"0\", \"x\": \"BOOT\", \"xref\": \"x\", \"y\": \"PET_SUPPLIES\", \"yref\": \"y\"}, {\"font\": {\"color\": \"#000000\", \"size\": 8}, \"showarrow\": false, \"text\": \"0\", \"x\": \"CELLULAR_PHONE_CASE\", \"xref\": \"x\", \"y\": \"PET_SUPPLIES\", \"yref\": \"y\"}, {\"font\": {\"color\": \"#000000\", \"size\": 8}, \"showarrow\": false, \"text\": \"0\", \"x\": \"CHAIR\", \"xref\": \"x\", \"y\": \"PET_SUPPLIES\", \"yref\": \"y\"}, {\"font\": {\"color\": \"#000000\", \"size\": 8}, \"showarrow\": false, \"text\": \"0\", \"x\": \"EARRING\", \"xref\": \"x\", \"y\": \"PET_SUPPLIES\", \"yref\": \"y\"}, {\"font\": {\"color\": \"#000000\", \"size\": 8}, \"showarrow\": false, \"text\": \"0\", \"x\": \"FINEEARRING\", \"xref\": \"x\", \"y\": \"PET_SUPPLIES\", \"yref\": \"y\"}, {\"font\": {\"color\": \"#000000\", \"size\": 8}, \"showarrow\": false, \"text\": \"0\", \"x\": \"FINENECKLACEBRACELETANKLET\", \"xref\": \"x\", \"y\": \"PET_SUPPLIES\", \"yref\": \"y\"}, {\"font\": {\"color\": \"#000000\", \"size\": 8}, \"showarrow\": false, \"text\": \"0\", \"x\": \"FINERING\", \"xref\": \"x\", \"y\": \"PET_SUPPLIES\", \"yref\": \"y\"}, {\"font\": {\"color\": \"#000000\", \"size\": 8}, \"showarrow\": false, \"text\": \"0\", \"x\": \"GROCERY\", \"xref\": \"x\", \"y\": \"PET_SUPPLIES\", \"yref\": \"y\"}, {\"font\": {\"color\": \"#000000\", \"size\": 8}, \"showarrow\": false, \"text\": \"0\", \"x\": \"HANDBAG\", \"xref\": \"x\", \"y\": \"PET_SUPPLIES\", \"yref\": \"y\"}, {\"font\": {\"color\": \"#000000\", \"size\": 8}, \"showarrow\": false, \"text\": \"1\", \"x\": \"HARDWARE_HANDLE\", \"xref\": \"x\", \"y\": \"PET_SUPPLIES\", \"yref\": \"y\"}, {\"font\": {\"color\": \"#000000\", \"size\": 8}, \"showarrow\": false, \"text\": \"0\", \"x\": \"HAT\", \"xref\": \"x\", \"y\": \"PET_SUPPLIES\", \"yref\": \"y\"}, {\"font\": {\"color\": \"#000000\", \"size\": 8}, \"showarrow\": false, \"text\": \"1\", \"x\": \"HEALTH_PERSONAL_CARE\", \"xref\": \"x\", \"y\": \"PET_SUPPLIES\", \"yref\": \"y\"}, {\"font\": {\"color\": \"#000000\", \"size\": 8}, \"showarrow\": false, \"text\": \"2\", \"x\": \"HOME\", \"xref\": \"x\", \"y\": \"PET_SUPPLIES\", \"yref\": \"y\"}, {\"font\": {\"color\": \"#000000\", \"size\": 8}, \"showarrow\": false, \"text\": \"4\", \"x\": \"HOME_BED_AND_BATH\", \"xref\": \"x\", \"y\": \"PET_SUPPLIES\", \"yref\": \"y\"}, {\"font\": {\"color\": \"#000000\", \"size\": 8}, \"showarrow\": false, \"text\": \"2\", \"x\": \"HOME_FURNITURE_AND_DECOR\", \"xref\": \"x\", \"y\": \"PET_SUPPLIES\", \"yref\": \"y\"}, {\"font\": {\"color\": \"#000000\", \"size\": 8}, \"showarrow\": false, \"text\": \"0\", \"x\": \"JANITORIAL_SUPPLY\", \"xref\": \"x\", \"y\": \"PET_SUPPLIES\", \"yref\": \"y\"}, {\"font\": {\"color\": \"#000000\", \"size\": 8}, \"showarrow\": false, \"text\": \"0\", \"x\": \"KITCHEN\", \"xref\": \"x\", \"y\": \"PET_SUPPLIES\", \"yref\": \"y\"}, {\"font\": {\"color\": \"#000000\", \"size\": 8}, \"showarrow\": false, \"text\": \"0\", \"x\": \"LAMP\", \"xref\": \"x\", \"y\": \"PET_SUPPLIES\", \"yref\": \"y\"}, {\"font\": {\"color\": \"#000000\", \"size\": 8}, \"showarrow\": false, \"text\": \"0\", \"x\": \"LIGHT_BULB\", \"xref\": \"x\", \"y\": \"PET_SUPPLIES\", \"yref\": \"y\"}, {\"font\": {\"color\": \"#000000\", \"size\": 8}, \"showarrow\": false, \"text\": \"0\", \"x\": \"LIGHT_FIXTURE\", \"xref\": \"x\", \"y\": \"PET_SUPPLIES\", \"yref\": \"y\"}, {\"font\": {\"color\": \"#000000\", \"size\": 8}, \"showarrow\": false, \"text\": \"2\", \"x\": \"OFFICE_PRODUCTS\", \"xref\": \"x\", \"y\": \"PET_SUPPLIES\", \"yref\": \"y\"}, {\"font\": {\"color\": \"#000000\", \"size\": 8}, \"showarrow\": false, \"text\": \"0\", \"x\": \"OUTDOOR_LIVING\", \"xref\": \"x\", \"y\": \"PET_SUPPLIES\", \"yref\": \"y\"}, {\"font\": {\"color\": \"#000000\", \"size\": 8}, \"showarrow\": false, \"text\": \"199\", \"x\": \"PET_SUPPLIES\", \"xref\": \"x\", \"y\": \"PET_SUPPLIES\", \"yref\": \"y\"}, {\"font\": {\"color\": \"#000000\", \"size\": 8}, \"showarrow\": false, \"text\": \"0\", \"x\": \"RUG\", \"xref\": \"x\", \"y\": \"PET_SUPPLIES\", \"yref\": \"y\"}, {\"font\": {\"color\": \"#000000\", \"size\": 8}, \"showarrow\": false, \"text\": \"0\", \"x\": \"SANDAL\", \"xref\": \"x\", \"y\": \"PET_SUPPLIES\", \"yref\": \"y\"}, {\"font\": {\"color\": \"#000000\", \"size\": 8}, \"showarrow\": false, \"text\": \"0\", \"x\": \"SHOES\", \"xref\": \"x\", \"y\": \"PET_SUPPLIES\", \"yref\": \"y\"}, {\"font\": {\"color\": \"#000000\", \"size\": 8}, \"showarrow\": false, \"text\": \"0\", \"x\": \"SOFA\", \"xref\": \"x\", \"y\": \"PET_SUPPLIES\", \"yref\": \"y\"}, {\"font\": {\"color\": \"#000000\", \"size\": 8}, \"showarrow\": false, \"text\": \"2\", \"x\": \"SPORTING_GOODS\", \"xref\": \"x\", \"y\": \"PET_SUPPLIES\", \"yref\": \"y\"}, {\"font\": {\"color\": \"#000000\", \"size\": 8}, \"showarrow\": false, \"text\": \"0\", \"x\": \"TABLE\", \"xref\": \"x\", \"y\": \"PET_SUPPLIES\", \"yref\": \"y\"}, {\"font\": {\"color\": \"#000000\", \"size\": 8}, \"showarrow\": false, \"text\": \"0\", \"x\": \"WALL_ART\", \"xref\": \"x\", \"y\": \"PET_SUPPLIES\", \"yref\": \"y\"}, {\"font\": {\"color\": \"#000000\", \"size\": 8}, \"showarrow\": false, \"text\": \"0\", \"x\": \"ACCESSORY\", \"xref\": \"x\", \"y\": \"OUTDOOR_LIVING\", \"yref\": \"y\"}, {\"font\": {\"color\": \"#000000\", \"size\": 8}, \"showarrow\": false, \"text\": \"0\", \"x\": \"BOOT\", \"xref\": \"x\", \"y\": \"OUTDOOR_LIVING\", \"yref\": \"y\"}, {\"font\": {\"color\": \"#000000\", \"size\": 8}, \"showarrow\": false, \"text\": \"0\", \"x\": \"CELLULAR_PHONE_CASE\", \"xref\": \"x\", \"y\": \"OUTDOOR_LIVING\", \"yref\": \"y\"}, {\"font\": {\"color\": \"#000000\", \"size\": 8}, \"showarrow\": false, \"text\": \"10\", \"x\": \"CHAIR\", \"xref\": \"x\", \"y\": \"OUTDOOR_LIVING\", \"yref\": \"y\"}, {\"font\": {\"color\": \"#000000\", \"size\": 8}, \"showarrow\": false, \"text\": \"0\", \"x\": \"EARRING\", \"xref\": \"x\", \"y\": \"OUTDOOR_LIVING\", \"yref\": \"y\"}, {\"font\": {\"color\": \"#000000\", \"size\": 8}, \"showarrow\": false, \"text\": \"0\", \"x\": \"FINEEARRING\", \"xref\": \"x\", \"y\": \"OUTDOOR_LIVING\", \"yref\": \"y\"}, {\"font\": {\"color\": \"#000000\", \"size\": 8}, \"showarrow\": false, \"text\": \"0\", \"x\": \"FINENECKLACEBRACELETANKLET\", \"xref\": \"x\", \"y\": \"OUTDOOR_LIVING\", \"yref\": \"y\"}, {\"font\": {\"color\": \"#000000\", \"size\": 8}, \"showarrow\": false, \"text\": \"0\", \"x\": \"FINERING\", \"xref\": \"x\", \"y\": \"OUTDOOR_LIVING\", \"yref\": \"y\"}, {\"font\": {\"color\": \"#000000\", \"size\": 8}, \"showarrow\": false, \"text\": \"0\", \"x\": \"GROCERY\", \"xref\": \"x\", \"y\": \"OUTDOOR_LIVING\", \"yref\": \"y\"}, {\"font\": {\"color\": \"#000000\", \"size\": 8}, \"showarrow\": false, \"text\": \"0\", \"x\": \"HANDBAG\", \"xref\": \"x\", \"y\": \"OUTDOOR_LIVING\", \"yref\": \"y\"}, {\"font\": {\"color\": \"#000000\", \"size\": 8}, \"showarrow\": false, \"text\": \"3\", \"x\": \"HARDWARE_HANDLE\", \"xref\": \"x\", \"y\": \"OUTDOOR_LIVING\", \"yref\": \"y\"}, {\"font\": {\"color\": \"#000000\", \"size\": 8}, \"showarrow\": false, \"text\": \"0\", \"x\": \"HAT\", \"xref\": \"x\", \"y\": \"OUTDOOR_LIVING\", \"yref\": \"y\"}, {\"font\": {\"color\": \"#000000\", \"size\": 8}, \"showarrow\": false, \"text\": \"1\", \"x\": \"HEALTH_PERSONAL_CARE\", \"xref\": \"x\", \"y\": \"OUTDOOR_LIVING\", \"yref\": \"y\"}, {\"font\": {\"color\": \"#000000\", \"size\": 8}, \"showarrow\": false, \"text\": \"7\", \"x\": \"HOME\", \"xref\": \"x\", \"y\": \"OUTDOOR_LIVING\", \"yref\": \"y\"}, {\"font\": {\"color\": \"#000000\", \"size\": 8}, \"showarrow\": false, \"text\": \"1\", \"x\": \"HOME_BED_AND_BATH\", \"xref\": \"x\", \"y\": \"OUTDOOR_LIVING\", \"yref\": \"y\"}, {\"font\": {\"color\": \"#000000\", \"size\": 8}, \"showarrow\": false, \"text\": \"1\", \"x\": \"HOME_FURNITURE_AND_DECOR\", \"xref\": \"x\", \"y\": \"OUTDOOR_LIVING\", \"yref\": \"y\"}, {\"font\": {\"color\": \"#000000\", \"size\": 8}, \"showarrow\": false, \"text\": \"0\", \"x\": \"JANITORIAL_SUPPLY\", \"xref\": \"x\", \"y\": \"OUTDOOR_LIVING\", \"yref\": \"y\"}, {\"font\": {\"color\": \"#000000\", \"size\": 8}, \"showarrow\": false, \"text\": \"2\", \"x\": \"KITCHEN\", \"xref\": \"x\", \"y\": \"OUTDOOR_LIVING\", \"yref\": \"y\"}, {\"font\": {\"color\": \"#000000\", \"size\": 8}, \"showarrow\": false, \"text\": \"0\", \"x\": \"LAMP\", \"xref\": \"x\", \"y\": \"OUTDOOR_LIVING\", \"yref\": \"y\"}, {\"font\": {\"color\": \"#000000\", \"size\": 8}, \"showarrow\": false, \"text\": \"0\", \"x\": \"LIGHT_BULB\", \"xref\": \"x\", \"y\": \"OUTDOOR_LIVING\", \"yref\": \"y\"}, {\"font\": {\"color\": \"#000000\", \"size\": 8}, \"showarrow\": false, \"text\": \"1\", \"x\": \"LIGHT_FIXTURE\", \"xref\": \"x\", \"y\": \"OUTDOOR_LIVING\", \"yref\": \"y\"}, {\"font\": {\"color\": \"#000000\", \"size\": 8}, \"showarrow\": false, \"text\": \"3\", \"x\": \"OFFICE_PRODUCTS\", \"xref\": \"x\", \"y\": \"OUTDOOR_LIVING\", \"yref\": \"y\"}, {\"font\": {\"color\": \"#000000\", \"size\": 8}, \"showarrow\": false, \"text\": \"89\", \"x\": \"OUTDOOR_LIVING\", \"xref\": \"x\", \"y\": \"OUTDOOR_LIVING\", \"yref\": \"y\"}, {\"font\": {\"color\": \"#000000\", \"size\": 8}, \"showarrow\": false, \"text\": \"3\", \"x\": \"PET_SUPPLIES\", \"xref\": \"x\", \"y\": \"OUTDOOR_LIVING\", \"yref\": \"y\"}, {\"font\": {\"color\": \"#000000\", \"size\": 8}, \"showarrow\": false, \"text\": \"0\", \"x\": \"RUG\", \"xref\": \"x\", \"y\": \"OUTDOOR_LIVING\", \"yref\": \"y\"}, {\"font\": {\"color\": \"#000000\", \"size\": 8}, \"showarrow\": false, \"text\": \"0\", \"x\": \"SANDAL\", \"xref\": \"x\", \"y\": \"OUTDOOR_LIVING\", \"yref\": \"y\"}, {\"font\": {\"color\": \"#000000\", \"size\": 8}, \"showarrow\": false, \"text\": \"2\", \"x\": \"SHOES\", \"xref\": \"x\", \"y\": \"OUTDOOR_LIVING\", \"yref\": \"y\"}, {\"font\": {\"color\": \"#000000\", \"size\": 8}, \"showarrow\": false, \"text\": \"0\", \"x\": \"SOFA\", \"xref\": \"x\", \"y\": \"OUTDOOR_LIVING\", \"yref\": \"y\"}, {\"font\": {\"color\": \"#000000\", \"size\": 8}, \"showarrow\": false, \"text\": \"2\", \"x\": \"SPORTING_GOODS\", \"xref\": \"x\", \"y\": \"OUTDOOR_LIVING\", \"yref\": \"y\"}, {\"font\": {\"color\": \"#000000\", \"size\": 8}, \"showarrow\": false, \"text\": \"2\", \"x\": \"TABLE\", \"xref\": \"x\", \"y\": \"OUTDOOR_LIVING\", \"yref\": \"y\"}, {\"font\": {\"color\": \"#000000\", \"size\": 8}, \"showarrow\": false, \"text\": \"0\", \"x\": \"WALL_ART\", \"xref\": \"x\", \"y\": \"OUTDOOR_LIVING\", \"yref\": \"y\"}, {\"font\": {\"color\": \"#000000\", \"size\": 8}, \"showarrow\": false, \"text\": \"0\", \"x\": \"ACCESSORY\", \"xref\": \"x\", \"y\": \"OFFICE_PRODUCTS\", \"yref\": \"y\"}, {\"font\": {\"color\": \"#000000\", \"size\": 8}, \"showarrow\": false, \"text\": \"0\", \"x\": \"BOOT\", \"xref\": \"x\", \"y\": \"OFFICE_PRODUCTS\", \"yref\": \"y\"}, {\"font\": {\"color\": \"#000000\", \"size\": 8}, \"showarrow\": false, \"text\": \"0\", \"x\": \"CELLULAR_PHONE_CASE\", \"xref\": \"x\", \"y\": \"OFFICE_PRODUCTS\", \"yref\": \"y\"}, {\"font\": {\"color\": \"#000000\", \"size\": 8}, \"showarrow\": false, \"text\": \"2\", \"x\": \"CHAIR\", \"xref\": \"x\", \"y\": \"OFFICE_PRODUCTS\", \"yref\": \"y\"}, {\"font\": {\"color\": \"#000000\", \"size\": 8}, \"showarrow\": false, \"text\": \"0\", \"x\": \"EARRING\", \"xref\": \"x\", \"y\": \"OFFICE_PRODUCTS\", \"yref\": \"y\"}, {\"font\": {\"color\": \"#000000\", \"size\": 8}, \"showarrow\": false, \"text\": \"0\", \"x\": \"FINEEARRING\", \"xref\": \"x\", \"y\": \"OFFICE_PRODUCTS\", \"yref\": \"y\"}, {\"font\": {\"color\": \"#000000\", \"size\": 8}, \"showarrow\": false, \"text\": \"0\", \"x\": \"FINENECKLACEBRACELETANKLET\", \"xref\": \"x\", \"y\": \"OFFICE_PRODUCTS\", \"yref\": \"y\"}, {\"font\": {\"color\": \"#000000\", \"size\": 8}, \"showarrow\": false, \"text\": \"0\", \"x\": \"FINERING\", \"xref\": \"x\", \"y\": \"OFFICE_PRODUCTS\", \"yref\": \"y\"}, {\"font\": {\"color\": \"#000000\", \"size\": 8}, \"showarrow\": false, \"text\": \"1\", \"x\": \"GROCERY\", \"xref\": \"x\", \"y\": \"OFFICE_PRODUCTS\", \"yref\": \"y\"}, {\"font\": {\"color\": \"#000000\", \"size\": 8}, \"showarrow\": false, \"text\": \"0\", \"x\": \"HANDBAG\", \"xref\": \"x\", \"y\": \"OFFICE_PRODUCTS\", \"yref\": \"y\"}, {\"font\": {\"color\": \"#000000\", \"size\": 8}, \"showarrow\": false, \"text\": \"3\", \"x\": \"HARDWARE_HANDLE\", \"xref\": \"x\", \"y\": \"OFFICE_PRODUCTS\", \"yref\": \"y\"}, {\"font\": {\"color\": \"#000000\", \"size\": 8}, \"showarrow\": false, \"text\": \"0\", \"x\": \"HAT\", \"xref\": \"x\", \"y\": \"OFFICE_PRODUCTS\", \"yref\": \"y\"}, {\"font\": {\"color\": \"#000000\", \"size\": 8}, \"showarrow\": false, \"text\": \"0\", \"x\": \"HEALTH_PERSONAL_CARE\", \"xref\": \"x\", \"y\": \"OFFICE_PRODUCTS\", \"yref\": \"y\"}, {\"font\": {\"color\": \"#000000\", \"size\": 8}, \"showarrow\": false, \"text\": \"6\", \"x\": \"HOME\", \"xref\": \"x\", \"y\": \"OFFICE_PRODUCTS\", \"yref\": \"y\"}, {\"font\": {\"color\": \"#000000\", \"size\": 8}, \"showarrow\": false, \"text\": \"5\", \"x\": \"HOME_BED_AND_BATH\", \"xref\": \"x\", \"y\": \"OFFICE_PRODUCTS\", \"yref\": \"y\"}, {\"font\": {\"color\": \"#000000\", \"size\": 8}, \"showarrow\": false, \"text\": \"0\", \"x\": \"HOME_FURNITURE_AND_DECOR\", \"xref\": \"x\", \"y\": \"OFFICE_PRODUCTS\", \"yref\": \"y\"}, {\"font\": {\"color\": \"#000000\", \"size\": 8}, \"showarrow\": false, \"text\": \"2\", \"x\": \"JANITORIAL_SUPPLY\", \"xref\": \"x\", \"y\": \"OFFICE_PRODUCTS\", \"yref\": \"y\"}, {\"font\": {\"color\": \"#000000\", \"size\": 8}, \"showarrow\": false, \"text\": \"2\", \"x\": \"KITCHEN\", \"xref\": \"x\", \"y\": \"OFFICE_PRODUCTS\", \"yref\": \"y\"}, {\"font\": {\"color\": \"#000000\", \"size\": 8}, \"showarrow\": false, \"text\": \"0\", \"x\": \"LAMP\", \"xref\": \"x\", \"y\": \"OFFICE_PRODUCTS\", \"yref\": \"y\"}, {\"font\": {\"color\": \"#000000\", \"size\": 8}, \"showarrow\": false, \"text\": \"0\", \"x\": \"LIGHT_BULB\", \"xref\": \"x\", \"y\": \"OFFICE_PRODUCTS\", \"yref\": \"y\"}, {\"font\": {\"color\": \"#000000\", \"size\": 8}, \"showarrow\": false, \"text\": \"0\", \"x\": \"LIGHT_FIXTURE\", \"xref\": \"x\", \"y\": \"OFFICE_PRODUCTS\", \"yref\": \"y\"}, {\"font\": {\"color\": \"#000000\", \"size\": 8}, \"showarrow\": false, \"text\": \"207\", \"x\": \"OFFICE_PRODUCTS\", \"xref\": \"x\", \"y\": \"OFFICE_PRODUCTS\", \"yref\": \"y\"}, {\"font\": {\"color\": \"#000000\", \"size\": 8}, \"showarrow\": false, \"text\": \"1\", \"x\": \"OUTDOOR_LIVING\", \"xref\": \"x\", \"y\": \"OFFICE_PRODUCTS\", \"yref\": \"y\"}, {\"font\": {\"color\": \"#000000\", \"size\": 8}, \"showarrow\": false, \"text\": \"0\", \"x\": \"PET_SUPPLIES\", \"xref\": \"x\", \"y\": \"OFFICE_PRODUCTS\", \"yref\": \"y\"}, {\"font\": {\"color\": \"#000000\", \"size\": 8}, \"showarrow\": false, \"text\": \"0\", \"x\": \"RUG\", \"xref\": \"x\", \"y\": \"OFFICE_PRODUCTS\", \"yref\": \"y\"}, {\"font\": {\"color\": \"#000000\", \"size\": 8}, \"showarrow\": false, \"text\": \"0\", \"x\": \"SANDAL\", \"xref\": \"x\", \"y\": \"OFFICE_PRODUCTS\", \"yref\": \"y\"}, {\"font\": {\"color\": \"#000000\", \"size\": 8}, \"showarrow\": false, \"text\": \"0\", \"x\": \"SHOES\", \"xref\": \"x\", \"y\": \"OFFICE_PRODUCTS\", \"yref\": \"y\"}, {\"font\": {\"color\": \"#000000\", \"size\": 8}, \"showarrow\": false, \"text\": \"0\", \"x\": \"SOFA\", \"xref\": \"x\", \"y\": \"OFFICE_PRODUCTS\", \"yref\": \"y\"}, {\"font\": {\"color\": \"#000000\", \"size\": 8}, \"showarrow\": false, \"text\": \"1\", \"x\": \"SPORTING_GOODS\", \"xref\": \"x\", \"y\": \"OFFICE_PRODUCTS\", \"yref\": \"y\"}, {\"font\": {\"color\": \"#000000\", \"size\": 8}, \"showarrow\": false, \"text\": \"0\", \"x\": \"TABLE\", \"xref\": \"x\", \"y\": \"OFFICE_PRODUCTS\", \"yref\": \"y\"}, {\"font\": {\"color\": \"#000000\", \"size\": 8}, \"showarrow\": false, \"text\": \"0\", \"x\": \"WALL_ART\", \"xref\": \"x\", \"y\": \"OFFICE_PRODUCTS\", \"yref\": \"y\"}, {\"font\": {\"color\": \"#000000\", \"size\": 8}, \"showarrow\": false, \"text\": \"0\", \"x\": \"ACCESSORY\", \"xref\": \"x\", \"y\": \"LIGHT_FIXTURE\", \"yref\": \"y\"}, {\"font\": {\"color\": \"#000000\", \"size\": 8}, \"showarrow\": false, \"text\": \"0\", \"x\": \"BOOT\", \"xref\": \"x\", \"y\": \"LIGHT_FIXTURE\", \"yref\": \"y\"}, {\"font\": {\"color\": \"#000000\", \"size\": 8}, \"showarrow\": false, \"text\": \"0\", \"x\": \"CELLULAR_PHONE_CASE\", \"xref\": \"x\", \"y\": \"LIGHT_FIXTURE\", \"yref\": \"y\"}, {\"font\": {\"color\": \"#000000\", \"size\": 8}, \"showarrow\": false, \"text\": \"1\", \"x\": \"CHAIR\", \"xref\": \"x\", \"y\": \"LIGHT_FIXTURE\", \"yref\": \"y\"}, {\"font\": {\"color\": \"#000000\", \"size\": 8}, \"showarrow\": false, \"text\": \"0\", \"x\": \"EARRING\", \"xref\": \"x\", \"y\": \"LIGHT_FIXTURE\", \"yref\": \"y\"}, {\"font\": {\"color\": \"#000000\", \"size\": 8}, \"showarrow\": false, \"text\": \"0\", \"x\": \"FINEEARRING\", \"xref\": \"x\", \"y\": \"LIGHT_FIXTURE\", \"yref\": \"y\"}, {\"font\": {\"color\": \"#000000\", \"size\": 8}, \"showarrow\": false, \"text\": \"1\", \"x\": \"FINENECKLACEBRACELETANKLET\", \"xref\": \"x\", \"y\": \"LIGHT_FIXTURE\", \"yref\": \"y\"}, {\"font\": {\"color\": \"#000000\", \"size\": 8}, \"showarrow\": false, \"text\": \"0\", \"x\": \"FINERING\", \"xref\": \"x\", \"y\": \"LIGHT_FIXTURE\", \"yref\": \"y\"}, {\"font\": {\"color\": \"#000000\", \"size\": 8}, \"showarrow\": false, \"text\": \"0\", \"x\": \"GROCERY\", \"xref\": \"x\", \"y\": \"LIGHT_FIXTURE\", \"yref\": \"y\"}, {\"font\": {\"color\": \"#000000\", \"size\": 8}, \"showarrow\": false, \"text\": \"0\", \"x\": \"HANDBAG\", \"xref\": \"x\", \"y\": \"LIGHT_FIXTURE\", \"yref\": \"y\"}, {\"font\": {\"color\": \"#000000\", \"size\": 8}, \"showarrow\": false, \"text\": \"0\", \"x\": \"HARDWARE_HANDLE\", \"xref\": \"x\", \"y\": \"LIGHT_FIXTURE\", \"yref\": \"y\"}, {\"font\": {\"color\": \"#000000\", \"size\": 8}, \"showarrow\": false, \"text\": \"0\", \"x\": \"HAT\", \"xref\": \"x\", \"y\": \"LIGHT_FIXTURE\", \"yref\": \"y\"}, {\"font\": {\"color\": \"#000000\", \"size\": 8}, \"showarrow\": false, \"text\": \"0\", \"x\": \"HEALTH_PERSONAL_CARE\", \"xref\": \"x\", \"y\": \"LIGHT_FIXTURE\", \"yref\": \"y\"}, {\"font\": {\"color\": \"#000000\", \"size\": 8}, \"showarrow\": false, \"text\": \"0\", \"x\": \"HOME\", \"xref\": \"x\", \"y\": \"LIGHT_FIXTURE\", \"yref\": \"y\"}, {\"font\": {\"color\": \"#000000\", \"size\": 8}, \"showarrow\": false, \"text\": \"0\", \"x\": \"HOME_BED_AND_BATH\", \"xref\": \"x\", \"y\": \"LIGHT_FIXTURE\", \"yref\": \"y\"}, {\"font\": {\"color\": \"#000000\", \"size\": 8}, \"showarrow\": false, \"text\": \"1\", \"x\": \"HOME_FURNITURE_AND_DECOR\", \"xref\": \"x\", \"y\": \"LIGHT_FIXTURE\", \"yref\": \"y\"}, {\"font\": {\"color\": \"#000000\", \"size\": 8}, \"showarrow\": false, \"text\": \"0\", \"x\": \"JANITORIAL_SUPPLY\", \"xref\": \"x\", \"y\": \"LIGHT_FIXTURE\", \"yref\": \"y\"}, {\"font\": {\"color\": \"#000000\", \"size\": 8}, \"showarrow\": false, \"text\": \"0\", \"x\": \"KITCHEN\", \"xref\": \"x\", \"y\": \"LIGHT_FIXTURE\", \"yref\": \"y\"}, {\"font\": {\"color\": \"#000000\", \"size\": 8}, \"showarrow\": false, \"text\": \"19\", \"x\": \"LAMP\", \"xref\": \"x\", \"y\": \"LIGHT_FIXTURE\", \"yref\": \"y\"}, {\"font\": {\"color\": \"#000000\", \"size\": 8}, \"showarrow\": false, \"text\": \"4\", \"x\": \"LIGHT_BULB\", \"xref\": \"x\", \"y\": \"LIGHT_FIXTURE\", \"yref\": \"y\"}, {\"font\": {\"color\": \"#000000\", \"size\": 8}, \"showarrow\": false, \"text\": \"81\", \"x\": \"LIGHT_FIXTURE\", \"xref\": \"x\", \"y\": \"LIGHT_FIXTURE\", \"yref\": \"y\"}, {\"font\": {\"color\": \"#000000\", \"size\": 8}, \"showarrow\": false, \"text\": \"0\", \"x\": \"OFFICE_PRODUCTS\", \"xref\": \"x\", \"y\": \"LIGHT_FIXTURE\", \"yref\": \"y\"}, {\"font\": {\"color\": \"#000000\", \"size\": 8}, \"showarrow\": false, \"text\": \"1\", \"x\": \"OUTDOOR_LIVING\", \"xref\": \"x\", \"y\": \"LIGHT_FIXTURE\", \"yref\": \"y\"}, {\"font\": {\"color\": \"#000000\", \"size\": 8}, \"showarrow\": false, \"text\": \"0\", \"x\": \"PET_SUPPLIES\", \"xref\": \"x\", \"y\": \"LIGHT_FIXTURE\", \"yref\": \"y\"}, {\"font\": {\"color\": \"#000000\", \"size\": 8}, \"showarrow\": false, \"text\": \"0\", \"x\": \"RUG\", \"xref\": \"x\", \"y\": \"LIGHT_FIXTURE\", \"yref\": \"y\"}, {\"font\": {\"color\": \"#000000\", \"size\": 8}, \"showarrow\": false, \"text\": \"0\", \"x\": \"SANDAL\", \"xref\": \"x\", \"y\": \"LIGHT_FIXTURE\", \"yref\": \"y\"}, {\"font\": {\"color\": \"#000000\", \"size\": 8}, \"showarrow\": false, \"text\": \"0\", \"x\": \"SHOES\", \"xref\": \"x\", \"y\": \"LIGHT_FIXTURE\", \"yref\": \"y\"}, {\"font\": {\"color\": \"#000000\", \"size\": 8}, \"showarrow\": false, \"text\": \"0\", \"x\": \"SOFA\", \"xref\": \"x\", \"y\": \"LIGHT_FIXTURE\", \"yref\": \"y\"}, {\"font\": {\"color\": \"#000000\", \"size\": 8}, \"showarrow\": false, \"text\": \"0\", \"x\": \"SPORTING_GOODS\", \"xref\": \"x\", \"y\": \"LIGHT_FIXTURE\", \"yref\": \"y\"}, {\"font\": {\"color\": \"#000000\", \"size\": 8}, \"showarrow\": false, \"text\": \"0\", \"x\": \"TABLE\", \"xref\": \"x\", \"y\": \"LIGHT_FIXTURE\", \"yref\": \"y\"}, {\"font\": {\"color\": \"#000000\", \"size\": 8}, \"showarrow\": false, \"text\": \"0\", \"x\": \"WALL_ART\", \"xref\": \"x\", \"y\": \"LIGHT_FIXTURE\", \"yref\": \"y\"}, {\"font\": {\"color\": \"#000000\", \"size\": 8}, \"showarrow\": false, \"text\": \"0\", \"x\": \"ACCESSORY\", \"xref\": \"x\", \"y\": \"LIGHT_BULB\", \"yref\": \"y\"}, {\"font\": {\"color\": \"#000000\", \"size\": 8}, \"showarrow\": false, \"text\": \"0\", \"x\": \"BOOT\", \"xref\": \"x\", \"y\": \"LIGHT_BULB\", \"yref\": \"y\"}, {\"font\": {\"color\": \"#000000\", \"size\": 8}, \"showarrow\": false, \"text\": \"0\", \"x\": \"CELLULAR_PHONE_CASE\", \"xref\": \"x\", \"y\": \"LIGHT_BULB\", \"yref\": \"y\"}, {\"font\": {\"color\": \"#000000\", \"size\": 8}, \"showarrow\": false, \"text\": \"0\", \"x\": \"CHAIR\", \"xref\": \"x\", \"y\": \"LIGHT_BULB\", \"yref\": \"y\"}, {\"font\": {\"color\": \"#000000\", \"size\": 8}, \"showarrow\": false, \"text\": \"0\", \"x\": \"EARRING\", \"xref\": \"x\", \"y\": \"LIGHT_BULB\", \"yref\": \"y\"}, {\"font\": {\"color\": \"#000000\", \"size\": 8}, \"showarrow\": false, \"text\": \"0\", \"x\": \"FINEEARRING\", \"xref\": \"x\", \"y\": \"LIGHT_BULB\", \"yref\": \"y\"}, {\"font\": {\"color\": \"#000000\", \"size\": 8}, \"showarrow\": false, \"text\": \"0\", \"x\": \"FINENECKLACEBRACELETANKLET\", \"xref\": \"x\", \"y\": \"LIGHT_BULB\", \"yref\": \"y\"}, {\"font\": {\"color\": \"#000000\", \"size\": 8}, \"showarrow\": false, \"text\": \"0\", \"x\": \"FINERING\", \"xref\": \"x\", \"y\": \"LIGHT_BULB\", \"yref\": \"y\"}, {\"font\": {\"color\": \"#000000\", \"size\": 8}, \"showarrow\": false, \"text\": \"0\", \"x\": \"GROCERY\", \"xref\": \"x\", \"y\": \"LIGHT_BULB\", \"yref\": \"y\"}, {\"font\": {\"color\": \"#000000\", \"size\": 8}, \"showarrow\": false, \"text\": \"0\", \"x\": \"HANDBAG\", \"xref\": \"x\", \"y\": \"LIGHT_BULB\", \"yref\": \"y\"}, {\"font\": {\"color\": \"#000000\", \"size\": 8}, \"showarrow\": false, \"text\": \"0\", \"x\": \"HARDWARE_HANDLE\", \"xref\": \"x\", \"y\": \"LIGHT_BULB\", \"yref\": \"y\"}, {\"font\": {\"color\": \"#000000\", \"size\": 8}, \"showarrow\": false, \"text\": \"0\", \"x\": \"HAT\", \"xref\": \"x\", \"y\": \"LIGHT_BULB\", \"yref\": \"y\"}, {\"font\": {\"color\": \"#000000\", \"size\": 8}, \"showarrow\": false, \"text\": \"0\", \"x\": \"HEALTH_PERSONAL_CARE\", \"xref\": \"x\", \"y\": \"LIGHT_BULB\", \"yref\": \"y\"}, {\"font\": {\"color\": \"#000000\", \"size\": 8}, \"showarrow\": false, \"text\": \"0\", \"x\": \"HOME\", \"xref\": \"x\", \"y\": \"LIGHT_BULB\", \"yref\": \"y\"}, {\"font\": {\"color\": \"#000000\", \"size\": 8}, \"showarrow\": false, \"text\": \"0\", \"x\": \"HOME_BED_AND_BATH\", \"xref\": \"x\", \"y\": \"LIGHT_BULB\", \"yref\": \"y\"}, {\"font\": {\"color\": \"#000000\", \"size\": 8}, \"showarrow\": false, \"text\": \"0\", \"x\": \"HOME_FURNITURE_AND_DECOR\", \"xref\": \"x\", \"y\": \"LIGHT_BULB\", \"yref\": \"y\"}, {\"font\": {\"color\": \"#000000\", \"size\": 8}, \"showarrow\": false, \"text\": \"1\", \"x\": \"JANITORIAL_SUPPLY\", \"xref\": \"x\", \"y\": \"LIGHT_BULB\", \"yref\": \"y\"}, {\"font\": {\"color\": \"#000000\", \"size\": 8}, \"showarrow\": false, \"text\": \"0\", \"x\": \"KITCHEN\", \"xref\": \"x\", \"y\": \"LIGHT_BULB\", \"yref\": \"y\"}, {\"font\": {\"color\": \"#000000\", \"size\": 8}, \"showarrow\": false, \"text\": \"0\", \"x\": \"LAMP\", \"xref\": \"x\", \"y\": \"LIGHT_BULB\", \"yref\": \"y\"}, {\"font\": {\"color\": \"#000000\", \"size\": 8}, \"showarrow\": false, \"text\": \"150\", \"x\": \"LIGHT_BULB\", \"xref\": \"x\", \"y\": \"LIGHT_BULB\", \"yref\": \"y\"}, {\"font\": {\"color\": \"#000000\", \"size\": 8}, \"showarrow\": false, \"text\": \"0\", \"x\": \"LIGHT_FIXTURE\", \"xref\": \"x\", \"y\": \"LIGHT_BULB\", \"yref\": \"y\"}, {\"font\": {\"color\": \"#000000\", \"size\": 8}, \"showarrow\": false, \"text\": \"0\", \"x\": \"OFFICE_PRODUCTS\", \"xref\": \"x\", \"y\": \"LIGHT_BULB\", \"yref\": \"y\"}, {\"font\": {\"color\": \"#000000\", \"size\": 8}, \"showarrow\": false, \"text\": \"0\", \"x\": \"OUTDOOR_LIVING\", \"xref\": \"x\", \"y\": \"LIGHT_BULB\", \"yref\": \"y\"}, {\"font\": {\"color\": \"#000000\", \"size\": 8}, \"showarrow\": false, \"text\": \"0\", \"x\": \"PET_SUPPLIES\", \"xref\": \"x\", \"y\": \"LIGHT_BULB\", \"yref\": \"y\"}, {\"font\": {\"color\": \"#000000\", \"size\": 8}, \"showarrow\": false, \"text\": \"0\", \"x\": \"RUG\", \"xref\": \"x\", \"y\": \"LIGHT_BULB\", \"yref\": \"y\"}, {\"font\": {\"color\": \"#000000\", \"size\": 8}, \"showarrow\": false, \"text\": \"0\", \"x\": \"SANDAL\", \"xref\": \"x\", \"y\": \"LIGHT_BULB\", \"yref\": \"y\"}, {\"font\": {\"color\": \"#000000\", \"size\": 8}, \"showarrow\": false, \"text\": \"0\", \"x\": \"SHOES\", \"xref\": \"x\", \"y\": \"LIGHT_BULB\", \"yref\": \"y\"}, {\"font\": {\"color\": \"#000000\", \"size\": 8}, \"showarrow\": false, \"text\": \"0\", \"x\": \"SOFA\", \"xref\": \"x\", \"y\": \"LIGHT_BULB\", \"yref\": \"y\"}, {\"font\": {\"color\": \"#000000\", \"size\": 8}, \"showarrow\": false, \"text\": \"0\", \"x\": \"SPORTING_GOODS\", \"xref\": \"x\", \"y\": \"LIGHT_BULB\", \"yref\": \"y\"}, {\"font\": {\"color\": \"#000000\", \"size\": 8}, \"showarrow\": false, \"text\": \"0\", \"x\": \"TABLE\", \"xref\": \"x\", \"y\": \"LIGHT_BULB\", \"yref\": \"y\"}, {\"font\": {\"color\": \"#000000\", \"size\": 8}, \"showarrow\": false, \"text\": \"0\", \"x\": \"WALL_ART\", \"xref\": \"x\", \"y\": \"LIGHT_BULB\", \"yref\": \"y\"}, {\"font\": {\"color\": \"#000000\", \"size\": 8}, \"showarrow\": false, \"text\": \"0\", \"x\": \"ACCESSORY\", \"xref\": \"x\", \"y\": \"LAMP\", \"yref\": \"y\"}, {\"font\": {\"color\": \"#000000\", \"size\": 8}, \"showarrow\": false, \"text\": \"0\", \"x\": \"BOOT\", \"xref\": \"x\", \"y\": \"LAMP\", \"yref\": \"y\"}, {\"font\": {\"color\": \"#000000\", \"size\": 8}, \"showarrow\": false, \"text\": \"0\", \"x\": \"CELLULAR_PHONE_CASE\", \"xref\": \"x\", \"y\": \"LAMP\", \"yref\": \"y\"}, {\"font\": {\"color\": \"#000000\", \"size\": 8}, \"showarrow\": false, \"text\": \"1\", \"x\": \"CHAIR\", \"xref\": \"x\", \"y\": \"LAMP\", \"yref\": \"y\"}, {\"font\": {\"color\": \"#000000\", \"size\": 8}, \"showarrow\": false, \"text\": \"0\", \"x\": \"EARRING\", \"xref\": \"x\", \"y\": \"LAMP\", \"yref\": \"y\"}, {\"font\": {\"color\": \"#000000\", \"size\": 8}, \"showarrow\": false, \"text\": \"0\", \"x\": \"FINEEARRING\", \"xref\": \"x\", \"y\": \"LAMP\", \"yref\": \"y\"}, {\"font\": {\"color\": \"#000000\", \"size\": 8}, \"showarrow\": false, \"text\": \"0\", \"x\": \"FINENECKLACEBRACELETANKLET\", \"xref\": \"x\", \"y\": \"LAMP\", \"yref\": \"y\"}, {\"font\": {\"color\": \"#000000\", \"size\": 8}, \"showarrow\": false, \"text\": \"0\", \"x\": \"FINERING\", \"xref\": \"x\", \"y\": \"LAMP\", \"yref\": \"y\"}, {\"font\": {\"color\": \"#000000\", \"size\": 8}, \"showarrow\": false, \"text\": \"0\", \"x\": \"GROCERY\", \"xref\": \"x\", \"y\": \"LAMP\", \"yref\": \"y\"}, {\"font\": {\"color\": \"#000000\", \"size\": 8}, \"showarrow\": false, \"text\": \"0\", \"x\": \"HANDBAG\", \"xref\": \"x\", \"y\": \"LAMP\", \"yref\": \"y\"}, {\"font\": {\"color\": \"#000000\", \"size\": 8}, \"showarrow\": false, \"text\": \"0\", \"x\": \"HARDWARE_HANDLE\", \"xref\": \"x\", \"y\": \"LAMP\", \"yref\": \"y\"}, {\"font\": {\"color\": \"#000000\", \"size\": 8}, \"showarrow\": false, \"text\": \"0\", \"x\": \"HAT\", \"xref\": \"x\", \"y\": \"LAMP\", \"yref\": \"y\"}, {\"font\": {\"color\": \"#000000\", \"size\": 8}, \"showarrow\": false, \"text\": \"0\", \"x\": \"HEALTH_PERSONAL_CARE\", \"xref\": \"x\", \"y\": \"LAMP\", \"yref\": \"y\"}, {\"font\": {\"color\": \"#000000\", \"size\": 8}, \"showarrow\": false, \"text\": \"0\", \"x\": \"HOME\", \"xref\": \"x\", \"y\": \"LAMP\", \"yref\": \"y\"}, {\"font\": {\"color\": \"#000000\", \"size\": 8}, \"showarrow\": false, \"text\": \"0\", \"x\": \"HOME_BED_AND_BATH\", \"xref\": \"x\", \"y\": \"LAMP\", \"yref\": \"y\"}, {\"font\": {\"color\": \"#000000\", \"size\": 8}, \"showarrow\": false, \"text\": \"2\", \"x\": \"HOME_FURNITURE_AND_DECOR\", \"xref\": \"x\", \"y\": \"LAMP\", \"yref\": \"y\"}, {\"font\": {\"color\": \"#000000\", \"size\": 8}, \"showarrow\": false, \"text\": \"0\", \"x\": \"JANITORIAL_SUPPLY\", \"xref\": \"x\", \"y\": \"LAMP\", \"yref\": \"y\"}, {\"font\": {\"color\": \"#000000\", \"size\": 8}, \"showarrow\": false, \"text\": \"0\", \"x\": \"KITCHEN\", \"xref\": \"x\", \"y\": \"LAMP\", \"yref\": \"y\"}, {\"font\": {\"color\": \"#000000\", \"size\": 8}, \"showarrow\": false, \"text\": \"101\", \"x\": \"LAMP\", \"xref\": \"x\", \"y\": \"LAMP\", \"yref\": \"y\"}, {\"font\": {\"color\": \"#000000\", \"size\": 8}, \"showarrow\": false, \"text\": \"0\", \"x\": \"LIGHT_BULB\", \"xref\": \"x\", \"y\": \"LAMP\", \"yref\": \"y\"}, {\"font\": {\"color\": \"#000000\", \"size\": 8}, \"showarrow\": false, \"text\": \"3\", \"x\": \"LIGHT_FIXTURE\", \"xref\": \"x\", \"y\": \"LAMP\", \"yref\": \"y\"}, {\"font\": {\"color\": \"#000000\", \"size\": 8}, \"showarrow\": false, \"text\": \"0\", \"x\": \"OFFICE_PRODUCTS\", \"xref\": \"x\", \"y\": \"LAMP\", \"yref\": \"y\"}, {\"font\": {\"color\": \"#000000\", \"size\": 8}, \"showarrow\": false, \"text\": \"0\", \"x\": \"OUTDOOR_LIVING\", \"xref\": \"x\", \"y\": \"LAMP\", \"yref\": \"y\"}, {\"font\": {\"color\": \"#000000\", \"size\": 8}, \"showarrow\": false, \"text\": \"0\", \"x\": \"PET_SUPPLIES\", \"xref\": \"x\", \"y\": \"LAMP\", \"yref\": \"y\"}, {\"font\": {\"color\": \"#000000\", \"size\": 8}, \"showarrow\": false, \"text\": \"0\", \"x\": \"RUG\", \"xref\": \"x\", \"y\": \"LAMP\", \"yref\": \"y\"}, {\"font\": {\"color\": \"#000000\", \"size\": 8}, \"showarrow\": false, \"text\": \"0\", \"x\": \"SANDAL\", \"xref\": \"x\", \"y\": \"LAMP\", \"yref\": \"y\"}, {\"font\": {\"color\": \"#000000\", \"size\": 8}, \"showarrow\": false, \"text\": \"0\", \"x\": \"SHOES\", \"xref\": \"x\", \"y\": \"LAMP\", \"yref\": \"y\"}, {\"font\": {\"color\": \"#000000\", \"size\": 8}, \"showarrow\": false, \"text\": \"0\", \"x\": \"SOFA\", \"xref\": \"x\", \"y\": \"LAMP\", \"yref\": \"y\"}, {\"font\": {\"color\": \"#000000\", \"size\": 8}, \"showarrow\": false, \"text\": \"0\", \"x\": \"SPORTING_GOODS\", \"xref\": \"x\", \"y\": \"LAMP\", \"yref\": \"y\"}, {\"font\": {\"color\": \"#000000\", \"size\": 8}, \"showarrow\": false, \"text\": \"1\", \"x\": \"TABLE\", \"xref\": \"x\", \"y\": \"LAMP\", \"yref\": \"y\"}, {\"font\": {\"color\": \"#000000\", \"size\": 8}, \"showarrow\": false, \"text\": \"0\", \"x\": \"WALL_ART\", \"xref\": \"x\", \"y\": \"LAMP\", \"yref\": \"y\"}, {\"font\": {\"color\": \"#000000\", \"size\": 8}, \"showarrow\": false, \"text\": \"0\", \"x\": \"ACCESSORY\", \"xref\": \"x\", \"y\": \"KITCHEN\", \"yref\": \"y\"}, {\"font\": {\"color\": \"#000000\", \"size\": 8}, \"showarrow\": false, \"text\": \"0\", \"x\": \"BOOT\", \"xref\": \"x\", \"y\": \"KITCHEN\", \"yref\": \"y\"}, {\"font\": {\"color\": \"#000000\", \"size\": 8}, \"showarrow\": false, \"text\": \"0\", \"x\": \"CELLULAR_PHONE_CASE\", \"xref\": \"x\", \"y\": \"KITCHEN\", \"yref\": \"y\"}, {\"font\": {\"color\": \"#000000\", \"size\": 8}, \"showarrow\": false, \"text\": \"1\", \"x\": \"CHAIR\", \"xref\": \"x\", \"y\": \"KITCHEN\", \"yref\": \"y\"}, {\"font\": {\"color\": \"#000000\", \"size\": 8}, \"showarrow\": false, \"text\": \"0\", \"x\": \"EARRING\", \"xref\": \"x\", \"y\": \"KITCHEN\", \"yref\": \"y\"}, {\"font\": {\"color\": \"#000000\", \"size\": 8}, \"showarrow\": false, \"text\": \"0\", \"x\": \"FINEEARRING\", \"xref\": \"x\", \"y\": \"KITCHEN\", \"yref\": \"y\"}, {\"font\": {\"color\": \"#000000\", \"size\": 8}, \"showarrow\": false, \"text\": \"0\", \"x\": \"FINENECKLACEBRACELETANKLET\", \"xref\": \"x\", \"y\": \"KITCHEN\", \"yref\": \"y\"}, {\"font\": {\"color\": \"#000000\", \"size\": 8}, \"showarrow\": false, \"text\": \"0\", \"x\": \"FINERING\", \"xref\": \"x\", \"y\": \"KITCHEN\", \"yref\": \"y\"}, {\"font\": {\"color\": \"#000000\", \"size\": 8}, \"showarrow\": false, \"text\": \"1\", \"x\": \"GROCERY\", \"xref\": \"x\", \"y\": \"KITCHEN\", \"yref\": \"y\"}, {\"font\": {\"color\": \"#000000\", \"size\": 8}, \"showarrow\": false, \"text\": \"0\", \"x\": \"HANDBAG\", \"xref\": \"x\", \"y\": \"KITCHEN\", \"yref\": \"y\"}, {\"font\": {\"color\": \"#000000\", \"size\": 8}, \"showarrow\": false, \"text\": \"1\", \"x\": \"HARDWARE_HANDLE\", \"xref\": \"x\", \"y\": \"KITCHEN\", \"yref\": \"y\"}, {\"font\": {\"color\": \"#000000\", \"size\": 8}, \"showarrow\": false, \"text\": \"0\", \"x\": \"HAT\", \"xref\": \"x\", \"y\": \"KITCHEN\", \"yref\": \"y\"}, {\"font\": {\"color\": \"#000000\", \"size\": 8}, \"showarrow\": false, \"text\": \"4\", \"x\": \"HEALTH_PERSONAL_CARE\", \"xref\": \"x\", \"y\": \"KITCHEN\", \"yref\": \"y\"}, {\"font\": {\"color\": \"#000000\", \"size\": 8}, \"showarrow\": false, \"text\": \"19\", \"x\": \"HOME\", \"xref\": \"x\", \"y\": \"KITCHEN\", \"yref\": \"y\"}, {\"font\": {\"color\": \"#000000\", \"size\": 8}, \"showarrow\": false, \"text\": \"5\", \"x\": \"HOME_BED_AND_BATH\", \"xref\": \"x\", \"y\": \"KITCHEN\", \"yref\": \"y\"}, {\"font\": {\"color\": \"#000000\", \"size\": 8}, \"showarrow\": false, \"text\": \"6\", \"x\": \"HOME_FURNITURE_AND_DECOR\", \"xref\": \"x\", \"y\": \"KITCHEN\", \"yref\": \"y\"}, {\"font\": {\"color\": \"#000000\", \"size\": 8}, \"showarrow\": false, \"text\": \"3\", \"x\": \"JANITORIAL_SUPPLY\", \"xref\": \"x\", \"y\": \"KITCHEN\", \"yref\": \"y\"}, {\"font\": {\"color\": \"#000000\", \"size\": 8}, \"showarrow\": false, \"text\": \"90\", \"x\": \"KITCHEN\", \"xref\": \"x\", \"y\": \"KITCHEN\", \"yref\": \"y\"}, {\"font\": {\"color\": \"#000000\", \"size\": 8}, \"showarrow\": false, \"text\": \"0\", \"x\": \"LAMP\", \"xref\": \"x\", \"y\": \"KITCHEN\", \"yref\": \"y\"}, {\"font\": {\"color\": \"#000000\", \"size\": 8}, \"showarrow\": false, \"text\": \"0\", \"x\": \"LIGHT_BULB\", \"xref\": \"x\", \"y\": \"KITCHEN\", \"yref\": \"y\"}, {\"font\": {\"color\": \"#000000\", \"size\": 8}, \"showarrow\": false, \"text\": \"0\", \"x\": \"LIGHT_FIXTURE\", \"xref\": \"x\", \"y\": \"KITCHEN\", \"yref\": \"y\"}, {\"font\": {\"color\": \"#000000\", \"size\": 8}, \"showarrow\": false, \"text\": \"7\", \"x\": \"OFFICE_PRODUCTS\", \"xref\": \"x\", \"y\": \"KITCHEN\", \"yref\": \"y\"}, {\"font\": {\"color\": \"#000000\", \"size\": 8}, \"showarrow\": false, \"text\": \"1\", \"x\": \"OUTDOOR_LIVING\", \"xref\": \"x\", \"y\": \"KITCHEN\", \"yref\": \"y\"}, {\"font\": {\"color\": \"#000000\", \"size\": 8}, \"showarrow\": false, \"text\": \"0\", \"x\": \"PET_SUPPLIES\", \"xref\": \"x\", \"y\": \"KITCHEN\", \"yref\": \"y\"}, {\"font\": {\"color\": \"#000000\", \"size\": 8}, \"showarrow\": false, \"text\": \"0\", \"x\": \"RUG\", \"xref\": \"x\", \"y\": \"KITCHEN\", \"yref\": \"y\"}, {\"font\": {\"color\": \"#000000\", \"size\": 8}, \"showarrow\": false, \"text\": \"0\", \"x\": \"SANDAL\", \"xref\": \"x\", \"y\": \"KITCHEN\", \"yref\": \"y\"}, {\"font\": {\"color\": \"#000000\", \"size\": 8}, \"showarrow\": false, \"text\": \"0\", \"x\": \"SHOES\", \"xref\": \"x\", \"y\": \"KITCHEN\", \"yref\": \"y\"}, {\"font\": {\"color\": \"#000000\", \"size\": 8}, \"showarrow\": false, \"text\": \"0\", \"x\": \"SOFA\", \"xref\": \"x\", \"y\": \"KITCHEN\", \"yref\": \"y\"}, {\"font\": {\"color\": \"#000000\", \"size\": 8}, \"showarrow\": false, \"text\": \"3\", \"x\": \"SPORTING_GOODS\", \"xref\": \"x\", \"y\": \"KITCHEN\", \"yref\": \"y\"}, {\"font\": {\"color\": \"#000000\", \"size\": 8}, \"showarrow\": false, \"text\": \"0\", \"x\": \"TABLE\", \"xref\": \"x\", \"y\": \"KITCHEN\", \"yref\": \"y\"}, {\"font\": {\"color\": \"#000000\", \"size\": 8}, \"showarrow\": false, \"text\": \"0\", \"x\": \"WALL_ART\", \"xref\": \"x\", \"y\": \"KITCHEN\", \"yref\": \"y\"}, {\"font\": {\"color\": \"#000000\", \"size\": 8}, \"showarrow\": false, \"text\": \"0\", \"x\": \"ACCESSORY\", \"xref\": \"x\", \"y\": \"JANITORIAL_SUPPLY\", \"yref\": \"y\"}, {\"font\": {\"color\": \"#000000\", \"size\": 8}, \"showarrow\": false, \"text\": \"0\", \"x\": \"BOOT\", \"xref\": \"x\", \"y\": \"JANITORIAL_SUPPLY\", \"yref\": \"y\"}, {\"font\": {\"color\": \"#000000\", \"size\": 8}, \"showarrow\": false, \"text\": \"0\", \"x\": \"CELLULAR_PHONE_CASE\", \"xref\": \"x\", \"y\": \"JANITORIAL_SUPPLY\", \"yref\": \"y\"}, {\"font\": {\"color\": \"#000000\", \"size\": 8}, \"showarrow\": false, \"text\": \"1\", \"x\": \"CHAIR\", \"xref\": \"x\", \"y\": \"JANITORIAL_SUPPLY\", \"yref\": \"y\"}, {\"font\": {\"color\": \"#000000\", \"size\": 8}, \"showarrow\": false, \"text\": \"0\", \"x\": \"EARRING\", \"xref\": \"x\", \"y\": \"JANITORIAL_SUPPLY\", \"yref\": \"y\"}, {\"font\": {\"color\": \"#000000\", \"size\": 8}, \"showarrow\": false, \"text\": \"0\", \"x\": \"FINEEARRING\", \"xref\": \"x\", \"y\": \"JANITORIAL_SUPPLY\", \"yref\": \"y\"}, {\"font\": {\"color\": \"#000000\", \"size\": 8}, \"showarrow\": false, \"text\": \"0\", \"x\": \"FINENECKLACEBRACELETANKLET\", \"xref\": \"x\", \"y\": \"JANITORIAL_SUPPLY\", \"yref\": \"y\"}, {\"font\": {\"color\": \"#000000\", \"size\": 8}, \"showarrow\": false, \"text\": \"0\", \"x\": \"FINERING\", \"xref\": \"x\", \"y\": \"JANITORIAL_SUPPLY\", \"yref\": \"y\"}, {\"font\": {\"color\": \"#000000\", \"size\": 8}, \"showarrow\": false, \"text\": \"0\", \"x\": \"GROCERY\", \"xref\": \"x\", \"y\": \"JANITORIAL_SUPPLY\", \"yref\": \"y\"}, {\"font\": {\"color\": \"#000000\", \"size\": 8}, \"showarrow\": false, \"text\": \"0\", \"x\": \"HANDBAG\", \"xref\": \"x\", \"y\": \"JANITORIAL_SUPPLY\", \"yref\": \"y\"}, {\"font\": {\"color\": \"#000000\", \"size\": 8}, \"showarrow\": false, \"text\": \"1\", \"x\": \"HARDWARE_HANDLE\", \"xref\": \"x\", \"y\": \"JANITORIAL_SUPPLY\", \"yref\": \"y\"}, {\"font\": {\"color\": \"#000000\", \"size\": 8}, \"showarrow\": false, \"text\": \"0\", \"x\": \"HAT\", \"xref\": \"x\", \"y\": \"JANITORIAL_SUPPLY\", \"yref\": \"y\"}, {\"font\": {\"color\": \"#000000\", \"size\": 8}, \"showarrow\": false, \"text\": \"1\", \"x\": \"HEALTH_PERSONAL_CARE\", \"xref\": \"x\", \"y\": \"JANITORIAL_SUPPLY\", \"yref\": \"y\"}, {\"font\": {\"color\": \"#000000\", \"size\": 8}, \"showarrow\": false, \"text\": \"1\", \"x\": \"HOME\", \"xref\": \"x\", \"y\": \"JANITORIAL_SUPPLY\", \"yref\": \"y\"}, {\"font\": {\"color\": \"#000000\", \"size\": 8}, \"showarrow\": false, \"text\": \"2\", \"x\": \"HOME_BED_AND_BATH\", \"xref\": \"x\", \"y\": \"JANITORIAL_SUPPLY\", \"yref\": \"y\"}, {\"font\": {\"color\": \"#000000\", \"size\": 8}, \"showarrow\": false, \"text\": \"1\", \"x\": \"HOME_FURNITURE_AND_DECOR\", \"xref\": \"x\", \"y\": \"JANITORIAL_SUPPLY\", \"yref\": \"y\"}, {\"font\": {\"color\": \"#000000\", \"size\": 8}, \"showarrow\": false, \"text\": \"104\", \"x\": \"JANITORIAL_SUPPLY\", \"xref\": \"x\", \"y\": \"JANITORIAL_SUPPLY\", \"yref\": \"y\"}, {\"font\": {\"color\": \"#000000\", \"size\": 8}, \"showarrow\": false, \"text\": \"1\", \"x\": \"KITCHEN\", \"xref\": \"x\", \"y\": \"JANITORIAL_SUPPLY\", \"yref\": \"y\"}, {\"font\": {\"color\": \"#000000\", \"size\": 8}, \"showarrow\": false, \"text\": \"0\", \"x\": \"LAMP\", \"xref\": \"x\", \"y\": \"JANITORIAL_SUPPLY\", \"yref\": \"y\"}, {\"font\": {\"color\": \"#000000\", \"size\": 8}, \"showarrow\": false, \"text\": \"0\", \"x\": \"LIGHT_BULB\", \"xref\": \"x\", \"y\": \"JANITORIAL_SUPPLY\", \"yref\": \"y\"}, {\"font\": {\"color\": \"#000000\", \"size\": 8}, \"showarrow\": false, \"text\": \"0\", \"x\": \"LIGHT_FIXTURE\", \"xref\": \"x\", \"y\": \"JANITORIAL_SUPPLY\", \"yref\": \"y\"}, {\"font\": {\"color\": \"#000000\", \"size\": 8}, \"showarrow\": false, \"text\": \"1\", \"x\": \"OFFICE_PRODUCTS\", \"xref\": \"x\", \"y\": \"JANITORIAL_SUPPLY\", \"yref\": \"y\"}, {\"font\": {\"color\": \"#000000\", \"size\": 8}, \"showarrow\": false, \"text\": \"1\", \"x\": \"OUTDOOR_LIVING\", \"xref\": \"x\", \"y\": \"JANITORIAL_SUPPLY\", \"yref\": \"y\"}, {\"font\": {\"color\": \"#000000\", \"size\": 8}, \"showarrow\": false, \"text\": \"0\", \"x\": \"PET_SUPPLIES\", \"xref\": \"x\", \"y\": \"JANITORIAL_SUPPLY\", \"yref\": \"y\"}, {\"font\": {\"color\": \"#000000\", \"size\": 8}, \"showarrow\": false, \"text\": \"0\", \"x\": \"RUG\", \"xref\": \"x\", \"y\": \"JANITORIAL_SUPPLY\", \"yref\": \"y\"}, {\"font\": {\"color\": \"#000000\", \"size\": 8}, \"showarrow\": false, \"text\": \"0\", \"x\": \"SANDAL\", \"xref\": \"x\", \"y\": \"JANITORIAL_SUPPLY\", \"yref\": \"y\"}, {\"font\": {\"color\": \"#000000\", \"size\": 8}, \"showarrow\": false, \"text\": \"0\", \"x\": \"SHOES\", \"xref\": \"x\", \"y\": \"JANITORIAL_SUPPLY\", \"yref\": \"y\"}, {\"font\": {\"color\": \"#000000\", \"size\": 8}, \"showarrow\": false, \"text\": \"0\", \"x\": \"SOFA\", \"xref\": \"x\", \"y\": \"JANITORIAL_SUPPLY\", \"yref\": \"y\"}, {\"font\": {\"color\": \"#000000\", \"size\": 8}, \"showarrow\": false, \"text\": \"1\", \"x\": \"SPORTING_GOODS\", \"xref\": \"x\", \"y\": \"JANITORIAL_SUPPLY\", \"yref\": \"y\"}, {\"font\": {\"color\": \"#000000\", \"size\": 8}, \"showarrow\": false, \"text\": \"0\", \"x\": \"TABLE\", \"xref\": \"x\", \"y\": \"JANITORIAL_SUPPLY\", \"yref\": \"y\"}, {\"font\": {\"color\": \"#000000\", \"size\": 8}, \"showarrow\": false, \"text\": \"0\", \"x\": \"WALL_ART\", \"xref\": \"x\", \"y\": \"JANITORIAL_SUPPLY\", \"yref\": \"y\"}, {\"font\": {\"color\": \"#000000\", \"size\": 8}, \"showarrow\": false, \"text\": \"0\", \"x\": \"ACCESSORY\", \"xref\": \"x\", \"y\": \"HOME_FURNITURE_AND_DECOR\", \"yref\": \"y\"}, {\"font\": {\"color\": \"#000000\", \"size\": 8}, \"showarrow\": false, \"text\": \"0\", \"x\": \"BOOT\", \"xref\": \"x\", \"y\": \"HOME_FURNITURE_AND_DECOR\", \"yref\": \"y\"}, {\"font\": {\"color\": \"#000000\", \"size\": 8}, \"showarrow\": false, \"text\": \"0\", \"x\": \"CELLULAR_PHONE_CASE\", \"xref\": \"x\", \"y\": \"HOME_FURNITURE_AND_DECOR\", \"yref\": \"y\"}, {\"font\": {\"color\": \"#000000\", \"size\": 8}, \"showarrow\": false, \"text\": \"38\", \"x\": \"CHAIR\", \"xref\": \"x\", \"y\": \"HOME_FURNITURE_AND_DECOR\", \"yref\": \"y\"}, {\"font\": {\"color\": \"#000000\", \"size\": 8}, \"showarrow\": false, \"text\": \"0\", \"x\": \"EARRING\", \"xref\": \"x\", \"y\": \"HOME_FURNITURE_AND_DECOR\", \"yref\": \"y\"}, {\"font\": {\"color\": \"#000000\", \"size\": 8}, \"showarrow\": false, \"text\": \"0\", \"x\": \"FINEEARRING\", \"xref\": \"x\", \"y\": \"HOME_FURNITURE_AND_DECOR\", \"yref\": \"y\"}, {\"font\": {\"color\": \"#000000\", \"size\": 8}, \"showarrow\": false, \"text\": \"0\", \"x\": \"FINENECKLACEBRACELETANKLET\", \"xref\": \"x\", \"y\": \"HOME_FURNITURE_AND_DECOR\", \"yref\": \"y\"}, {\"font\": {\"color\": \"#000000\", \"size\": 8}, \"showarrow\": false, \"text\": \"0\", \"x\": \"FINERING\", \"xref\": \"x\", \"y\": \"HOME_FURNITURE_AND_DECOR\", \"yref\": \"y\"}, {\"font\": {\"color\": \"#000000\", \"size\": 8}, \"showarrow\": false, \"text\": \"0\", \"x\": \"GROCERY\", \"xref\": \"x\", \"y\": \"HOME_FURNITURE_AND_DECOR\", \"yref\": \"y\"}, {\"font\": {\"color\": \"#000000\", \"size\": 8}, \"showarrow\": false, \"text\": \"0\", \"x\": \"HANDBAG\", \"xref\": \"x\", \"y\": \"HOME_FURNITURE_AND_DECOR\", \"yref\": \"y\"}, {\"font\": {\"color\": \"#000000\", \"size\": 8}, \"showarrow\": false, \"text\": \"0\", \"x\": \"HARDWARE_HANDLE\", \"xref\": \"x\", \"y\": \"HOME_FURNITURE_AND_DECOR\", \"yref\": \"y\"}, {\"font\": {\"color\": \"#000000\", \"size\": 8}, \"showarrow\": false, \"text\": \"0\", \"x\": \"HAT\", \"xref\": \"x\", \"y\": \"HOME_FURNITURE_AND_DECOR\", \"yref\": \"y\"}, {\"font\": {\"color\": \"#000000\", \"size\": 8}, \"showarrow\": false, \"text\": \"0\", \"x\": \"HEALTH_PERSONAL_CARE\", \"xref\": \"x\", \"y\": \"HOME_FURNITURE_AND_DECOR\", \"yref\": \"y\"}, {\"font\": {\"color\": \"#000000\", \"size\": 8}, \"showarrow\": false, \"text\": \"16\", \"x\": \"HOME\", \"xref\": \"x\", \"y\": \"HOME_FURNITURE_AND_DECOR\", \"yref\": \"y\"}, {\"font\": {\"color\": \"#000000\", \"size\": 8}, \"showarrow\": false, \"text\": \"19\", \"x\": \"HOME_BED_AND_BATH\", \"xref\": \"x\", \"y\": \"HOME_FURNITURE_AND_DECOR\", \"yref\": \"y\"}, {\"font\": {\"color\": \"#000000\", \"size\": 8}, \"showarrow\": false, \"text\": \"327\", \"x\": \"HOME_FURNITURE_AND_DECOR\", \"xref\": \"x\", \"y\": \"HOME_FURNITURE_AND_DECOR\", \"yref\": \"y\"}, {\"font\": {\"color\": \"#000000\", \"size\": 8}, \"showarrow\": false, \"text\": \"0\", \"x\": \"JANITORIAL_SUPPLY\", \"xref\": \"x\", \"y\": \"HOME_FURNITURE_AND_DECOR\", \"yref\": \"y\"}, {\"font\": {\"color\": \"#000000\", \"size\": 8}, \"showarrow\": false, \"text\": \"2\", \"x\": \"KITCHEN\", \"xref\": \"x\", \"y\": \"HOME_FURNITURE_AND_DECOR\", \"yref\": \"y\"}, {\"font\": {\"color\": \"#000000\", \"size\": 8}, \"showarrow\": false, \"text\": \"1\", \"x\": \"LAMP\", \"xref\": \"x\", \"y\": \"HOME_FURNITURE_AND_DECOR\", \"yref\": \"y\"}, {\"font\": {\"color\": \"#000000\", \"size\": 8}, \"showarrow\": false, \"text\": \"2\", \"x\": \"LIGHT_BULB\", \"xref\": \"x\", \"y\": \"HOME_FURNITURE_AND_DECOR\", \"yref\": \"y\"}, {\"font\": {\"color\": \"#000000\", \"size\": 8}, \"showarrow\": false, \"text\": \"5\", \"x\": \"LIGHT_FIXTURE\", \"xref\": \"x\", \"y\": \"HOME_FURNITURE_AND_DECOR\", \"yref\": \"y\"}, {\"font\": {\"color\": \"#000000\", \"size\": 8}, \"showarrow\": false, \"text\": \"3\", \"x\": \"OFFICE_PRODUCTS\", \"xref\": \"x\", \"y\": \"HOME_FURNITURE_AND_DECOR\", \"yref\": \"y\"}, {\"font\": {\"color\": \"#000000\", \"size\": 8}, \"showarrow\": false, \"text\": \"1\", \"x\": \"OUTDOOR_LIVING\", \"xref\": \"x\", \"y\": \"HOME_FURNITURE_AND_DECOR\", \"yref\": \"y\"}, {\"font\": {\"color\": \"#000000\", \"size\": 8}, \"showarrow\": false, \"text\": \"2\", \"x\": \"PET_SUPPLIES\", \"xref\": \"x\", \"y\": \"HOME_FURNITURE_AND_DECOR\", \"yref\": \"y\"}, {\"font\": {\"color\": \"#000000\", \"size\": 8}, \"showarrow\": false, \"text\": \"8\", \"x\": \"RUG\", \"xref\": \"x\", \"y\": \"HOME_FURNITURE_AND_DECOR\", \"yref\": \"y\"}, {\"font\": {\"color\": \"#000000\", \"size\": 8}, \"showarrow\": false, \"text\": \"0\", \"x\": \"SANDAL\", \"xref\": \"x\", \"y\": \"HOME_FURNITURE_AND_DECOR\", \"yref\": \"y\"}, {\"font\": {\"color\": \"#000000\", \"size\": 8}, \"showarrow\": false, \"text\": \"0\", \"x\": \"SHOES\", \"xref\": \"x\", \"y\": \"HOME_FURNITURE_AND_DECOR\", \"yref\": \"y\"}, {\"font\": {\"color\": \"#000000\", \"size\": 8}, \"showarrow\": false, \"text\": \"13\", \"x\": \"SOFA\", \"xref\": \"x\", \"y\": \"HOME_FURNITURE_AND_DECOR\", \"yref\": \"y\"}, {\"font\": {\"color\": \"#000000\", \"size\": 8}, \"showarrow\": false, \"text\": \"2\", \"x\": \"SPORTING_GOODS\", \"xref\": \"x\", \"y\": \"HOME_FURNITURE_AND_DECOR\", \"yref\": \"y\"}, {\"font\": {\"color\": \"#000000\", \"size\": 8}, \"showarrow\": false, \"text\": \"12\", \"x\": \"TABLE\", \"xref\": \"x\", \"y\": \"HOME_FURNITURE_AND_DECOR\", \"yref\": \"y\"}, {\"font\": {\"color\": \"#000000\", \"size\": 8}, \"showarrow\": false, \"text\": \"0\", \"x\": \"WALL_ART\", \"xref\": \"x\", \"y\": \"HOME_FURNITURE_AND_DECOR\", \"yref\": \"y\"}, {\"font\": {\"color\": \"#000000\", \"size\": 8}, \"showarrow\": false, \"text\": \"0\", \"x\": \"ACCESSORY\", \"xref\": \"x\", \"y\": \"HOME_BED_AND_BATH\", \"yref\": \"y\"}, {\"font\": {\"color\": \"#000000\", \"size\": 8}, \"showarrow\": false, \"text\": \"0\", \"x\": \"BOOT\", \"xref\": \"x\", \"y\": \"HOME_BED_AND_BATH\", \"yref\": \"y\"}, {\"font\": {\"color\": \"#000000\", \"size\": 8}, \"showarrow\": false, \"text\": \"0\", \"x\": \"CELLULAR_PHONE_CASE\", \"xref\": \"x\", \"y\": \"HOME_BED_AND_BATH\", \"yref\": \"y\"}, {\"font\": {\"color\": \"#000000\", \"size\": 8}, \"showarrow\": false, \"text\": \"1\", \"x\": \"CHAIR\", \"xref\": \"x\", \"y\": \"HOME_BED_AND_BATH\", \"yref\": \"y\"}, {\"font\": {\"color\": \"#000000\", \"size\": 8}, \"showarrow\": false, \"text\": \"0\", \"x\": \"EARRING\", \"xref\": \"x\", \"y\": \"HOME_BED_AND_BATH\", \"yref\": \"y\"}, {\"font\": {\"color\": \"#000000\", \"size\": 8}, \"showarrow\": false, \"text\": \"0\", \"x\": \"FINEEARRING\", \"xref\": \"x\", \"y\": \"HOME_BED_AND_BATH\", \"yref\": \"y\"}, {\"font\": {\"color\": \"#000000\", \"size\": 8}, \"showarrow\": false, \"text\": \"0\", \"x\": \"FINENECKLACEBRACELETANKLET\", \"xref\": \"x\", \"y\": \"HOME_BED_AND_BATH\", \"yref\": \"y\"}, {\"font\": {\"color\": \"#000000\", \"size\": 8}, \"showarrow\": false, \"text\": \"0\", \"x\": \"FINERING\", \"xref\": \"x\", \"y\": \"HOME_BED_AND_BATH\", \"yref\": \"y\"}, {\"font\": {\"color\": \"#000000\", \"size\": 8}, \"showarrow\": false, \"text\": \"0\", \"x\": \"GROCERY\", \"xref\": \"x\", \"y\": \"HOME_BED_AND_BATH\", \"yref\": \"y\"}, {\"font\": {\"color\": \"#000000\", \"size\": 8}, \"showarrow\": false, \"text\": \"0\", \"x\": \"HANDBAG\", \"xref\": \"x\", \"y\": \"HOME_BED_AND_BATH\", \"yref\": \"y\"}, {\"font\": {\"color\": \"#000000\", \"size\": 8}, \"showarrow\": false, \"text\": \"1\", \"x\": \"HARDWARE_HANDLE\", \"xref\": \"x\", \"y\": \"HOME_BED_AND_BATH\", \"yref\": \"y\"}, {\"font\": {\"color\": \"#000000\", \"size\": 8}, \"showarrow\": false, \"text\": \"0\", \"x\": \"HAT\", \"xref\": \"x\", \"y\": \"HOME_BED_AND_BATH\", \"yref\": \"y\"}, {\"font\": {\"color\": \"#000000\", \"size\": 8}, \"showarrow\": false, \"text\": \"0\", \"x\": \"HEALTH_PERSONAL_CARE\", \"xref\": \"x\", \"y\": \"HOME_BED_AND_BATH\", \"yref\": \"y\"}, {\"font\": {\"color\": \"#000000\", \"size\": 8}, \"showarrow\": false, \"text\": \"28\", \"x\": \"HOME\", \"xref\": \"x\", \"y\": \"HOME_BED_AND_BATH\", \"yref\": \"y\"}, {\"font\": {\"color\": \"#000000\", \"size\": 8}, \"showarrow\": false, \"text\": \"571\", \"x\": \"HOME_BED_AND_BATH\", \"xref\": \"x\", \"y\": \"HOME_BED_AND_BATH\", \"yref\": \"y\"}, {\"font\": {\"color\": \"#000000\", \"size\": 8}, \"showarrow\": false, \"text\": \"6\", \"x\": \"HOME_FURNITURE_AND_DECOR\", \"xref\": \"x\", \"y\": \"HOME_BED_AND_BATH\", \"yref\": \"y\"}, {\"font\": {\"color\": \"#000000\", \"size\": 8}, \"showarrow\": false, \"text\": \"0\", \"x\": \"JANITORIAL_SUPPLY\", \"xref\": \"x\", \"y\": \"HOME_BED_AND_BATH\", \"yref\": \"y\"}, {\"font\": {\"color\": \"#000000\", \"size\": 8}, \"showarrow\": false, \"text\": \"2\", \"x\": \"KITCHEN\", \"xref\": \"x\", \"y\": \"HOME_BED_AND_BATH\", \"yref\": \"y\"}, {\"font\": {\"color\": \"#000000\", \"size\": 8}, \"showarrow\": false, \"text\": \"0\", \"x\": \"LAMP\", \"xref\": \"x\", \"y\": \"HOME_BED_AND_BATH\", \"yref\": \"y\"}, {\"font\": {\"color\": \"#000000\", \"size\": 8}, \"showarrow\": false, \"text\": \"0\", \"x\": \"LIGHT_BULB\", \"xref\": \"x\", \"y\": \"HOME_BED_AND_BATH\", \"yref\": \"y\"}, {\"font\": {\"color\": \"#000000\", \"size\": 8}, \"showarrow\": false, \"text\": \"0\", \"x\": \"LIGHT_FIXTURE\", \"xref\": \"x\", \"y\": \"HOME_BED_AND_BATH\", \"yref\": \"y\"}, {\"font\": {\"color\": \"#000000\", \"size\": 8}, \"showarrow\": false, \"text\": \"2\", \"x\": \"OFFICE_PRODUCTS\", \"xref\": \"x\", \"y\": \"HOME_BED_AND_BATH\", \"yref\": \"y\"}, {\"font\": {\"color\": \"#000000\", \"size\": 8}, \"showarrow\": false, \"text\": \"0\", \"x\": \"OUTDOOR_LIVING\", \"xref\": \"x\", \"y\": \"HOME_BED_AND_BATH\", \"yref\": \"y\"}, {\"font\": {\"color\": \"#000000\", \"size\": 8}, \"showarrow\": false, \"text\": \"1\", \"x\": \"PET_SUPPLIES\", \"xref\": \"x\", \"y\": \"HOME_BED_AND_BATH\", \"yref\": \"y\"}, {\"font\": {\"color\": \"#000000\", \"size\": 8}, \"showarrow\": false, \"text\": \"0\", \"x\": \"RUG\", \"xref\": \"x\", \"y\": \"HOME_BED_AND_BATH\", \"yref\": \"y\"}, {\"font\": {\"color\": \"#000000\", \"size\": 8}, \"showarrow\": false, \"text\": \"0\", \"x\": \"SANDAL\", \"xref\": \"x\", \"y\": \"HOME_BED_AND_BATH\", \"yref\": \"y\"}, {\"font\": {\"color\": \"#000000\", \"size\": 8}, \"showarrow\": false, \"text\": \"0\", \"x\": \"SHOES\", \"xref\": \"x\", \"y\": \"HOME_BED_AND_BATH\", \"yref\": \"y\"}, {\"font\": {\"color\": \"#000000\", \"size\": 8}, \"showarrow\": false, \"text\": \"0\", \"x\": \"SOFA\", \"xref\": \"x\", \"y\": \"HOME_BED_AND_BATH\", \"yref\": \"y\"}, {\"font\": {\"color\": \"#000000\", \"size\": 8}, \"showarrow\": false, \"text\": \"3\", \"x\": \"SPORTING_GOODS\", \"xref\": \"x\", \"y\": \"HOME_BED_AND_BATH\", \"yref\": \"y\"}, {\"font\": {\"color\": \"#000000\", \"size\": 8}, \"showarrow\": false, \"text\": \"1\", \"x\": \"TABLE\", \"xref\": \"x\", \"y\": \"HOME_BED_AND_BATH\", \"yref\": \"y\"}, {\"font\": {\"color\": \"#000000\", \"size\": 8}, \"showarrow\": false, \"text\": \"0\", \"x\": \"WALL_ART\", \"xref\": \"x\", \"y\": \"HOME_BED_AND_BATH\", \"yref\": \"y\"}, {\"font\": {\"color\": \"#000000\", \"size\": 8}, \"showarrow\": false, \"text\": \"0\", \"x\": \"ACCESSORY\", \"xref\": \"x\", \"y\": \"HOME\", \"yref\": \"y\"}, {\"font\": {\"color\": \"#000000\", \"size\": 8}, \"showarrow\": false, \"text\": \"0\", \"x\": \"BOOT\", \"xref\": \"x\", \"y\": \"HOME\", \"yref\": \"y\"}, {\"font\": {\"color\": \"#000000\", \"size\": 8}, \"showarrow\": false, \"text\": \"1\", \"x\": \"CELLULAR_PHONE_CASE\", \"xref\": \"x\", \"y\": \"HOME\", \"yref\": \"y\"}, {\"font\": {\"color\": \"#000000\", \"size\": 8}, \"showarrow\": false, \"text\": \"3\", \"x\": \"CHAIR\", \"xref\": \"x\", \"y\": \"HOME\", \"yref\": \"y\"}, {\"font\": {\"color\": \"#000000\", \"size\": 8}, \"showarrow\": false, \"text\": \"0\", \"x\": \"EARRING\", \"xref\": \"x\", \"y\": \"HOME\", \"yref\": \"y\"}, {\"font\": {\"color\": \"#000000\", \"size\": 8}, \"showarrow\": false, \"text\": \"0\", \"x\": \"FINEEARRING\", \"xref\": \"x\", \"y\": \"HOME\", \"yref\": \"y\"}, {\"font\": {\"color\": \"#000000\", \"size\": 8}, \"showarrow\": false, \"text\": \"1\", \"x\": \"FINENECKLACEBRACELETANKLET\", \"xref\": \"x\", \"y\": \"HOME\", \"yref\": \"y\"}, {\"font\": {\"color\": \"#000000\", \"size\": 8}, \"showarrow\": false, \"text\": \"1\", \"x\": \"FINERING\", \"xref\": \"x\", \"y\": \"HOME\", \"yref\": \"y\"}, {\"font\": {\"color\": \"#000000\", \"size\": 8}, \"showarrow\": false, \"text\": \"1\", \"x\": \"GROCERY\", \"xref\": \"x\", \"y\": \"HOME\", \"yref\": \"y\"}, {\"font\": {\"color\": \"#000000\", \"size\": 8}, \"showarrow\": false, \"text\": \"0\", \"x\": \"HANDBAG\", \"xref\": \"x\", \"y\": \"HOME\", \"yref\": \"y\"}, {\"font\": {\"color\": \"#000000\", \"size\": 8}, \"showarrow\": false, \"text\": \"4\", \"x\": \"HARDWARE_HANDLE\", \"xref\": \"x\", \"y\": \"HOME\", \"yref\": \"y\"}, {\"font\": {\"color\": \"#000000\", \"size\": 8}, \"showarrow\": false, \"text\": \"0\", \"x\": \"HAT\", \"xref\": \"x\", \"y\": \"HOME\", \"yref\": \"y\"}, {\"font\": {\"color\": \"#000000\", \"size\": 8}, \"showarrow\": false, \"text\": \"2\", \"x\": \"HEALTH_PERSONAL_CARE\", \"xref\": \"x\", \"y\": \"HOME\", \"yref\": \"y\"}, {\"font\": {\"color\": \"#000000\", \"size\": 8}, \"showarrow\": false, \"text\": \"921\", \"x\": \"HOME\", \"xref\": \"x\", \"y\": \"HOME\", \"yref\": \"y\"}, {\"font\": {\"color\": \"#000000\", \"size\": 8}, \"showarrow\": false, \"text\": \"58\", \"x\": \"HOME_BED_AND_BATH\", \"xref\": \"x\", \"y\": \"HOME\", \"yref\": \"y\"}, {\"font\": {\"color\": \"#000000\", \"size\": 8}, \"showarrow\": false, \"text\": \"19\", \"x\": \"HOME_FURNITURE_AND_DECOR\", \"xref\": \"x\", \"y\": \"HOME\", \"yref\": \"y\"}, {\"font\": {\"color\": \"#000000\", \"size\": 8}, \"showarrow\": false, \"text\": \"0\", \"x\": \"JANITORIAL_SUPPLY\", \"xref\": \"x\", \"y\": \"HOME\", \"yref\": \"y\"}, {\"font\": {\"color\": \"#000000\", \"size\": 8}, \"showarrow\": false, \"text\": \"5\", \"x\": \"KITCHEN\", \"xref\": \"x\", \"y\": \"HOME\", \"yref\": \"y\"}, {\"font\": {\"color\": \"#000000\", \"size\": 8}, \"showarrow\": false, \"text\": \"2\", \"x\": \"LAMP\", \"xref\": \"x\", \"y\": \"HOME\", \"yref\": \"y\"}, {\"font\": {\"color\": \"#000000\", \"size\": 8}, \"showarrow\": false, \"text\": \"0\", \"x\": \"LIGHT_BULB\", \"xref\": \"x\", \"y\": \"HOME\", \"yref\": \"y\"}, {\"font\": {\"color\": \"#000000\", \"size\": 8}, \"showarrow\": false, \"text\": \"3\", \"x\": \"LIGHT_FIXTURE\", \"xref\": \"x\", \"y\": \"HOME\", \"yref\": \"y\"}, {\"font\": {\"color\": \"#000000\", \"size\": 8}, \"showarrow\": false, \"text\": \"10\", \"x\": \"OFFICE_PRODUCTS\", \"xref\": \"x\", \"y\": \"HOME\", \"yref\": \"y\"}, {\"font\": {\"color\": \"#000000\", \"size\": 8}, \"showarrow\": false, \"text\": \"0\", \"x\": \"OUTDOOR_LIVING\", \"xref\": \"x\", \"y\": \"HOME\", \"yref\": \"y\"}, {\"font\": {\"color\": \"#000000\", \"size\": 8}, \"showarrow\": false, \"text\": \"4\", \"x\": \"PET_SUPPLIES\", \"xref\": \"x\", \"y\": \"HOME\", \"yref\": \"y\"}, {\"font\": {\"color\": \"#000000\", \"size\": 8}, \"showarrow\": false, \"text\": \"0\", \"x\": \"RUG\", \"xref\": \"x\", \"y\": \"HOME\", \"yref\": \"y\"}, {\"font\": {\"color\": \"#000000\", \"size\": 8}, \"showarrow\": false, \"text\": \"0\", \"x\": \"SANDAL\", \"xref\": \"x\", \"y\": \"HOME\", \"yref\": \"y\"}, {\"font\": {\"color\": \"#000000\", \"size\": 8}, \"showarrow\": false, \"text\": \"0\", \"x\": \"SHOES\", \"xref\": \"x\", \"y\": \"HOME\", \"yref\": \"y\"}, {\"font\": {\"color\": \"#000000\", \"size\": 8}, \"showarrow\": false, \"text\": \"0\", \"x\": \"SOFA\", \"xref\": \"x\", \"y\": \"HOME\", \"yref\": \"y\"}, {\"font\": {\"color\": \"#000000\", \"size\": 8}, \"showarrow\": false, \"text\": \"13\", \"x\": \"SPORTING_GOODS\", \"xref\": \"x\", \"y\": \"HOME\", \"yref\": \"y\"}, {\"font\": {\"color\": \"#000000\", \"size\": 8}, \"showarrow\": false, \"text\": \"1\", \"x\": \"TABLE\", \"xref\": \"x\", \"y\": \"HOME\", \"yref\": \"y\"}, {\"font\": {\"color\": \"#000000\", \"size\": 8}, \"showarrow\": false, \"text\": \"4\", \"x\": \"WALL_ART\", \"xref\": \"x\", \"y\": \"HOME\", \"yref\": \"y\"}, {\"font\": {\"color\": \"#000000\", \"size\": 8}, \"showarrow\": false, \"text\": \"2\", \"x\": \"ACCESSORY\", \"xref\": \"x\", \"y\": \"HEALTH_PERSONAL_CARE\", \"yref\": \"y\"}, {\"font\": {\"color\": \"#000000\", \"size\": 8}, \"showarrow\": false, \"text\": \"0\", \"x\": \"BOOT\", \"xref\": \"x\", \"y\": \"HEALTH_PERSONAL_CARE\", \"yref\": \"y\"}, {\"font\": {\"color\": \"#000000\", \"size\": 8}, \"showarrow\": false, \"text\": \"0\", \"x\": \"CELLULAR_PHONE_CASE\", \"xref\": \"x\", \"y\": \"HEALTH_PERSONAL_CARE\", \"yref\": \"y\"}, {\"font\": {\"color\": \"#000000\", \"size\": 8}, \"showarrow\": false, \"text\": \"0\", \"x\": \"CHAIR\", \"xref\": \"x\", \"y\": \"HEALTH_PERSONAL_CARE\", \"yref\": \"y\"}, {\"font\": {\"color\": \"#000000\", \"size\": 8}, \"showarrow\": false, \"text\": \"0\", \"x\": \"EARRING\", \"xref\": \"x\", \"y\": \"HEALTH_PERSONAL_CARE\", \"yref\": \"y\"}, {\"font\": {\"color\": \"#000000\", \"size\": 8}, \"showarrow\": false, \"text\": \"0\", \"x\": \"FINEEARRING\", \"xref\": \"x\", \"y\": \"HEALTH_PERSONAL_CARE\", \"yref\": \"y\"}, {\"font\": {\"color\": \"#000000\", \"size\": 8}, \"showarrow\": false, \"text\": \"0\", \"x\": \"FINENECKLACEBRACELETANKLET\", \"xref\": \"x\", \"y\": \"HEALTH_PERSONAL_CARE\", \"yref\": \"y\"}, {\"font\": {\"color\": \"#000000\", \"size\": 8}, \"showarrow\": false, \"text\": \"0\", \"x\": \"FINERING\", \"xref\": \"x\", \"y\": \"HEALTH_PERSONAL_CARE\", \"yref\": \"y\"}, {\"font\": {\"color\": \"#000000\", \"size\": 8}, \"showarrow\": false, \"text\": \"33\", \"x\": \"GROCERY\", \"xref\": \"x\", \"y\": \"HEALTH_PERSONAL_CARE\", \"yref\": \"y\"}, {\"font\": {\"color\": \"#000000\", \"size\": 8}, \"showarrow\": false, \"text\": \"0\", \"x\": \"HANDBAG\", \"xref\": \"x\", \"y\": \"HEALTH_PERSONAL_CARE\", \"yref\": \"y\"}, {\"font\": {\"color\": \"#000000\", \"size\": 8}, \"showarrow\": false, \"text\": \"0\", \"x\": \"HARDWARE_HANDLE\", \"xref\": \"x\", \"y\": \"HEALTH_PERSONAL_CARE\", \"yref\": \"y\"}, {\"font\": {\"color\": \"#000000\", \"size\": 8}, \"showarrow\": false, \"text\": \"0\", \"x\": \"HAT\", \"xref\": \"x\", \"y\": \"HEALTH_PERSONAL_CARE\", \"yref\": \"y\"}, {\"font\": {\"color\": \"#000000\", \"size\": 8}, \"showarrow\": false, \"text\": \"251\", \"x\": \"HEALTH_PERSONAL_CARE\", \"xref\": \"x\", \"y\": \"HEALTH_PERSONAL_CARE\", \"yref\": \"y\"}, {\"font\": {\"color\": \"#000000\", \"size\": 8}, \"showarrow\": false, \"text\": \"0\", \"x\": \"HOME\", \"xref\": \"x\", \"y\": \"HEALTH_PERSONAL_CARE\", \"yref\": \"y\"}, {\"font\": {\"color\": \"#000000\", \"size\": 8}, \"showarrow\": false, \"text\": \"0\", \"x\": \"HOME_BED_AND_BATH\", \"xref\": \"x\", \"y\": \"HEALTH_PERSONAL_CARE\", \"yref\": \"y\"}, {\"font\": {\"color\": \"#000000\", \"size\": 8}, \"showarrow\": false, \"text\": \"3\", \"x\": \"HOME_FURNITURE_AND_DECOR\", \"xref\": \"x\", \"y\": \"HEALTH_PERSONAL_CARE\", \"yref\": \"y\"}, {\"font\": {\"color\": \"#000000\", \"size\": 8}, \"showarrow\": false, \"text\": \"0\", \"x\": \"JANITORIAL_SUPPLY\", \"xref\": \"x\", \"y\": \"HEALTH_PERSONAL_CARE\", \"yref\": \"y\"}, {\"font\": {\"color\": \"#000000\", \"size\": 8}, \"showarrow\": false, \"text\": \"1\", \"x\": \"KITCHEN\", \"xref\": \"x\", \"y\": \"HEALTH_PERSONAL_CARE\", \"yref\": \"y\"}, {\"font\": {\"color\": \"#000000\", \"size\": 8}, \"showarrow\": false, \"text\": \"0\", \"x\": \"LAMP\", \"xref\": \"x\", \"y\": \"HEALTH_PERSONAL_CARE\", \"yref\": \"y\"}, {\"font\": {\"color\": \"#000000\", \"size\": 8}, \"showarrow\": false, \"text\": \"0\", \"x\": \"LIGHT_BULB\", \"xref\": \"x\", \"y\": \"HEALTH_PERSONAL_CARE\", \"yref\": \"y\"}, {\"font\": {\"color\": \"#000000\", \"size\": 8}, \"showarrow\": false, \"text\": \"0\", \"x\": \"LIGHT_FIXTURE\", \"xref\": \"x\", \"y\": \"HEALTH_PERSONAL_CARE\", \"yref\": \"y\"}, {\"font\": {\"color\": \"#000000\", \"size\": 8}, \"showarrow\": false, \"text\": \"0\", \"x\": \"OFFICE_PRODUCTS\", \"xref\": \"x\", \"y\": \"HEALTH_PERSONAL_CARE\", \"yref\": \"y\"}, {\"font\": {\"color\": \"#000000\", \"size\": 8}, \"showarrow\": false, \"text\": \"0\", \"x\": \"OUTDOOR_LIVING\", \"xref\": \"x\", \"y\": \"HEALTH_PERSONAL_CARE\", \"yref\": \"y\"}, {\"font\": {\"color\": \"#000000\", \"size\": 8}, \"showarrow\": false, \"text\": \"0\", \"x\": \"PET_SUPPLIES\", \"xref\": \"x\", \"y\": \"HEALTH_PERSONAL_CARE\", \"yref\": \"y\"}, {\"font\": {\"color\": \"#000000\", \"size\": 8}, \"showarrow\": false, \"text\": \"0\", \"x\": \"RUG\", \"xref\": \"x\", \"y\": \"HEALTH_PERSONAL_CARE\", \"yref\": \"y\"}, {\"font\": {\"color\": \"#000000\", \"size\": 8}, \"showarrow\": false, \"text\": \"0\", \"x\": \"SANDAL\", \"xref\": \"x\", \"y\": \"HEALTH_PERSONAL_CARE\", \"yref\": \"y\"}, {\"font\": {\"color\": \"#000000\", \"size\": 8}, \"showarrow\": false, \"text\": \"0\", \"x\": \"SHOES\", \"xref\": \"x\", \"y\": \"HEALTH_PERSONAL_CARE\", \"yref\": \"y\"}, {\"font\": {\"color\": \"#000000\", \"size\": 8}, \"showarrow\": false, \"text\": \"0\", \"x\": \"SOFA\", \"xref\": \"x\", \"y\": \"HEALTH_PERSONAL_CARE\", \"yref\": \"y\"}, {\"font\": {\"color\": \"#000000\", \"size\": 8}, \"showarrow\": false, \"text\": \"0\", \"x\": \"SPORTING_GOODS\", \"xref\": \"x\", \"y\": \"HEALTH_PERSONAL_CARE\", \"yref\": \"y\"}, {\"font\": {\"color\": \"#000000\", \"size\": 8}, \"showarrow\": false, \"text\": \"0\", \"x\": \"TABLE\", \"xref\": \"x\", \"y\": \"HEALTH_PERSONAL_CARE\", \"yref\": \"y\"}, {\"font\": {\"color\": \"#000000\", \"size\": 8}, \"showarrow\": false, \"text\": \"0\", \"x\": \"WALL_ART\", \"xref\": \"x\", \"y\": \"HEALTH_PERSONAL_CARE\", \"yref\": \"y\"}, {\"font\": {\"color\": \"#000000\", \"size\": 8}, \"showarrow\": false, \"text\": \"16\", \"x\": \"ACCESSORY\", \"xref\": \"x\", \"y\": \"HAT\", \"yref\": \"y\"}, {\"font\": {\"color\": \"#000000\", \"size\": 8}, \"showarrow\": false, \"text\": \"0\", \"x\": \"BOOT\", \"xref\": \"x\", \"y\": \"HAT\", \"yref\": \"y\"}, {\"font\": {\"color\": \"#000000\", \"size\": 8}, \"showarrow\": false, \"text\": \"0\", \"x\": \"CELLULAR_PHONE_CASE\", \"xref\": \"x\", \"y\": \"HAT\", \"yref\": \"y\"}, {\"font\": {\"color\": \"#000000\", \"size\": 8}, \"showarrow\": false, \"text\": \"0\", \"x\": \"CHAIR\", \"xref\": \"x\", \"y\": \"HAT\", \"yref\": \"y\"}, {\"font\": {\"color\": \"#000000\", \"size\": 8}, \"showarrow\": false, \"text\": \"0\", \"x\": \"EARRING\", \"xref\": \"x\", \"y\": \"HAT\", \"yref\": \"y\"}, {\"font\": {\"color\": \"#000000\", \"size\": 8}, \"showarrow\": false, \"text\": \"0\", \"x\": \"FINEEARRING\", \"xref\": \"x\", \"y\": \"HAT\", \"yref\": \"y\"}, {\"font\": {\"color\": \"#000000\", \"size\": 8}, \"showarrow\": false, \"text\": \"0\", \"x\": \"FINENECKLACEBRACELETANKLET\", \"xref\": \"x\", \"y\": \"HAT\", \"yref\": \"y\"}, {\"font\": {\"color\": \"#000000\", \"size\": 8}, \"showarrow\": false, \"text\": \"0\", \"x\": \"FINERING\", \"xref\": \"x\", \"y\": \"HAT\", \"yref\": \"y\"}, {\"font\": {\"color\": \"#000000\", \"size\": 8}, \"showarrow\": false, \"text\": \"1\", \"x\": \"GROCERY\", \"xref\": \"x\", \"y\": \"HAT\", \"yref\": \"y\"}, {\"font\": {\"color\": \"#000000\", \"size\": 8}, \"showarrow\": false, \"text\": \"0\", \"x\": \"HANDBAG\", \"xref\": \"x\", \"y\": \"HAT\", \"yref\": \"y\"}, {\"font\": {\"color\": \"#000000\", \"size\": 8}, \"showarrow\": false, \"text\": \"0\", \"x\": \"HARDWARE_HANDLE\", \"xref\": \"x\", \"y\": \"HAT\", \"yref\": \"y\"}, {\"font\": {\"color\": \"#000000\", \"size\": 8}, \"showarrow\": false, \"text\": \"110\", \"x\": \"HAT\", \"xref\": \"x\", \"y\": \"HAT\", \"yref\": \"y\"}, {\"font\": {\"color\": \"#000000\", \"size\": 8}, \"showarrow\": false, \"text\": \"0\", \"x\": \"HEALTH_PERSONAL_CARE\", \"xref\": \"x\", \"y\": \"HAT\", \"yref\": \"y\"}, {\"font\": {\"color\": \"#000000\", \"size\": 8}, \"showarrow\": false, \"text\": \"0\", \"x\": \"HOME\", \"xref\": \"x\", \"y\": \"HAT\", \"yref\": \"y\"}, {\"font\": {\"color\": \"#000000\", \"size\": 8}, \"showarrow\": false, \"text\": \"0\", \"x\": \"HOME_BED_AND_BATH\", \"xref\": \"x\", \"y\": \"HAT\", \"yref\": \"y\"}, {\"font\": {\"color\": \"#000000\", \"size\": 8}, \"showarrow\": false, \"text\": \"1\", \"x\": \"HOME_FURNITURE_AND_DECOR\", \"xref\": \"x\", \"y\": \"HAT\", \"yref\": \"y\"}, {\"font\": {\"color\": \"#000000\", \"size\": 8}, \"showarrow\": false, \"text\": \"0\", \"x\": \"JANITORIAL_SUPPLY\", \"xref\": \"x\", \"y\": \"HAT\", \"yref\": \"y\"}, {\"font\": {\"color\": \"#000000\", \"size\": 8}, \"showarrow\": false, \"text\": \"0\", \"x\": \"KITCHEN\", \"xref\": \"x\", \"y\": \"HAT\", \"yref\": \"y\"}, {\"font\": {\"color\": \"#000000\", \"size\": 8}, \"showarrow\": false, \"text\": \"0\", \"x\": \"LAMP\", \"xref\": \"x\", \"y\": \"HAT\", \"yref\": \"y\"}, {\"font\": {\"color\": \"#000000\", \"size\": 8}, \"showarrow\": false, \"text\": \"0\", \"x\": \"LIGHT_BULB\", \"xref\": \"x\", \"y\": \"HAT\", \"yref\": \"y\"}, {\"font\": {\"color\": \"#000000\", \"size\": 8}, \"showarrow\": false, \"text\": \"0\", \"x\": \"LIGHT_FIXTURE\", \"xref\": \"x\", \"y\": \"HAT\", \"yref\": \"y\"}, {\"font\": {\"color\": \"#000000\", \"size\": 8}, \"showarrow\": false, \"text\": \"0\", \"x\": \"OFFICE_PRODUCTS\", \"xref\": \"x\", \"y\": \"HAT\", \"yref\": \"y\"}, {\"font\": {\"color\": \"#000000\", \"size\": 8}, \"showarrow\": false, \"text\": \"0\", \"x\": \"OUTDOOR_LIVING\", \"xref\": \"x\", \"y\": \"HAT\", \"yref\": \"y\"}, {\"font\": {\"color\": \"#000000\", \"size\": 8}, \"showarrow\": false, \"text\": \"2\", \"x\": \"PET_SUPPLIES\", \"xref\": \"x\", \"y\": \"HAT\", \"yref\": \"y\"}, {\"font\": {\"color\": \"#000000\", \"size\": 8}, \"showarrow\": false, \"text\": \"0\", \"x\": \"RUG\", \"xref\": \"x\", \"y\": \"HAT\", \"yref\": \"y\"}, {\"font\": {\"color\": \"#000000\", \"size\": 8}, \"showarrow\": false, \"text\": \"0\", \"x\": \"SANDAL\", \"xref\": \"x\", \"y\": \"HAT\", \"yref\": \"y\"}, {\"font\": {\"color\": \"#000000\", \"size\": 8}, \"showarrow\": false, \"text\": \"0\", \"x\": \"SHOES\", \"xref\": \"x\", \"y\": \"HAT\", \"yref\": \"y\"}, {\"font\": {\"color\": \"#000000\", \"size\": 8}, \"showarrow\": false, \"text\": \"0\", \"x\": \"SOFA\", \"xref\": \"x\", \"y\": \"HAT\", \"yref\": \"y\"}, {\"font\": {\"color\": \"#000000\", \"size\": 8}, \"showarrow\": false, \"text\": \"1\", \"x\": \"SPORTING_GOODS\", \"xref\": \"x\", \"y\": \"HAT\", \"yref\": \"y\"}, {\"font\": {\"color\": \"#000000\", \"size\": 8}, \"showarrow\": false, \"text\": \"0\", \"x\": \"TABLE\", \"xref\": \"x\", \"y\": \"HAT\", \"yref\": \"y\"}, {\"font\": {\"color\": \"#000000\", \"size\": 8}, \"showarrow\": false, \"text\": \"0\", \"x\": \"WALL_ART\", \"xref\": \"x\", \"y\": \"HAT\", \"yref\": \"y\"}, {\"font\": {\"color\": \"#000000\", \"size\": 8}, \"showarrow\": false, \"text\": \"0\", \"x\": \"ACCESSORY\", \"xref\": \"x\", \"y\": \"HARDWARE_HANDLE\", \"yref\": \"y\"}, {\"font\": {\"color\": \"#000000\", \"size\": 8}, \"showarrow\": false, \"text\": \"0\", \"x\": \"BOOT\", \"xref\": \"x\", \"y\": \"HARDWARE_HANDLE\", \"yref\": \"y\"}, {\"font\": {\"color\": \"#000000\", \"size\": 8}, \"showarrow\": false, \"text\": \"0\", \"x\": \"CELLULAR_PHONE_CASE\", \"xref\": \"x\", \"y\": \"HARDWARE_HANDLE\", \"yref\": \"y\"}, {\"font\": {\"color\": \"#000000\", \"size\": 8}, \"showarrow\": false, \"text\": \"0\", \"x\": \"CHAIR\", \"xref\": \"x\", \"y\": \"HARDWARE_HANDLE\", \"yref\": \"y\"}, {\"font\": {\"color\": \"#000000\", \"size\": 8}, \"showarrow\": false, \"text\": \"0\", \"x\": \"EARRING\", \"xref\": \"x\", \"y\": \"HARDWARE_HANDLE\", \"yref\": \"y\"}, {\"font\": {\"color\": \"#000000\", \"size\": 8}, \"showarrow\": false, \"text\": \"0\", \"x\": \"FINEEARRING\", \"xref\": \"x\", \"y\": \"HARDWARE_HANDLE\", \"yref\": \"y\"}, {\"font\": {\"color\": \"#000000\", \"size\": 8}, \"showarrow\": false, \"text\": \"0\", \"x\": \"FINENECKLACEBRACELETANKLET\", \"xref\": \"x\", \"y\": \"HARDWARE_HANDLE\", \"yref\": \"y\"}, {\"font\": {\"color\": \"#000000\", \"size\": 8}, \"showarrow\": false, \"text\": \"0\", \"x\": \"FINERING\", \"xref\": \"x\", \"y\": \"HARDWARE_HANDLE\", \"yref\": \"y\"}, {\"font\": {\"color\": \"#000000\", \"size\": 8}, \"showarrow\": false, \"text\": \"0\", \"x\": \"GROCERY\", \"xref\": \"x\", \"y\": \"HARDWARE_HANDLE\", \"yref\": \"y\"}, {\"font\": {\"color\": \"#000000\", \"size\": 8}, \"showarrow\": false, \"text\": \"0\", \"x\": \"HANDBAG\", \"xref\": \"x\", \"y\": \"HARDWARE_HANDLE\", \"yref\": \"y\"}, {\"font\": {\"color\": \"#000000\", \"size\": 8}, \"showarrow\": false, \"text\": \"165\", \"x\": \"HARDWARE_HANDLE\", \"xref\": \"x\", \"y\": \"HARDWARE_HANDLE\", \"yref\": \"y\"}, {\"font\": {\"color\": \"#000000\", \"size\": 8}, \"showarrow\": false, \"text\": \"0\", \"x\": \"HAT\", \"xref\": \"x\", \"y\": \"HARDWARE_HANDLE\", \"yref\": \"y\"}, {\"font\": {\"color\": \"#000000\", \"size\": 8}, \"showarrow\": false, \"text\": \"0\", \"x\": \"HEALTH_PERSONAL_CARE\", \"xref\": \"x\", \"y\": \"HARDWARE_HANDLE\", \"yref\": \"y\"}, {\"font\": {\"color\": \"#000000\", \"size\": 8}, \"showarrow\": false, \"text\": \"2\", \"x\": \"HOME\", \"xref\": \"x\", \"y\": \"HARDWARE_HANDLE\", \"yref\": \"y\"}, {\"font\": {\"color\": \"#000000\", \"size\": 8}, \"showarrow\": false, \"text\": \"0\", \"x\": \"HOME_BED_AND_BATH\", \"xref\": \"x\", \"y\": \"HARDWARE_HANDLE\", \"yref\": \"y\"}, {\"font\": {\"color\": \"#000000\", \"size\": 8}, \"showarrow\": false, \"text\": \"0\", \"x\": \"HOME_FURNITURE_AND_DECOR\", \"xref\": \"x\", \"y\": \"HARDWARE_HANDLE\", \"yref\": \"y\"}, {\"font\": {\"color\": \"#000000\", \"size\": 8}, \"showarrow\": false, \"text\": \"0\", \"x\": \"JANITORIAL_SUPPLY\", \"xref\": \"x\", \"y\": \"HARDWARE_HANDLE\", \"yref\": \"y\"}, {\"font\": {\"color\": \"#000000\", \"size\": 8}, \"showarrow\": false, \"text\": \"0\", \"x\": \"KITCHEN\", \"xref\": \"x\", \"y\": \"HARDWARE_HANDLE\", \"yref\": \"y\"}, {\"font\": {\"color\": \"#000000\", \"size\": 8}, \"showarrow\": false, \"text\": \"0\", \"x\": \"LAMP\", \"xref\": \"x\", \"y\": \"HARDWARE_HANDLE\", \"yref\": \"y\"}, {\"font\": {\"color\": \"#000000\", \"size\": 8}, \"showarrow\": false, \"text\": \"0\", \"x\": \"LIGHT_BULB\", \"xref\": \"x\", \"y\": \"HARDWARE_HANDLE\", \"yref\": \"y\"}, {\"font\": {\"color\": \"#000000\", \"size\": 8}, \"showarrow\": false, \"text\": \"0\", \"x\": \"LIGHT_FIXTURE\", \"xref\": \"x\", \"y\": \"HARDWARE_HANDLE\", \"yref\": \"y\"}, {\"font\": {\"color\": \"#000000\", \"size\": 8}, \"showarrow\": false, \"text\": \"1\", \"x\": \"OFFICE_PRODUCTS\", \"xref\": \"x\", \"y\": \"HARDWARE_HANDLE\", \"yref\": \"y\"}, {\"font\": {\"color\": \"#000000\", \"size\": 8}, \"showarrow\": false, \"text\": \"2\", \"x\": \"OUTDOOR_LIVING\", \"xref\": \"x\", \"y\": \"HARDWARE_HANDLE\", \"yref\": \"y\"}, {\"font\": {\"color\": \"#000000\", \"size\": 8}, \"showarrow\": false, \"text\": \"2\", \"x\": \"PET_SUPPLIES\", \"xref\": \"x\", \"y\": \"HARDWARE_HANDLE\", \"yref\": \"y\"}, {\"font\": {\"color\": \"#000000\", \"size\": 8}, \"showarrow\": false, \"text\": \"0\", \"x\": \"RUG\", \"xref\": \"x\", \"y\": \"HARDWARE_HANDLE\", \"yref\": \"y\"}, {\"font\": {\"color\": \"#000000\", \"size\": 8}, \"showarrow\": false, \"text\": \"0\", \"x\": \"SANDAL\", \"xref\": \"x\", \"y\": \"HARDWARE_HANDLE\", \"yref\": \"y\"}, {\"font\": {\"color\": \"#000000\", \"size\": 8}, \"showarrow\": false, \"text\": \"0\", \"x\": \"SHOES\", \"xref\": \"x\", \"y\": \"HARDWARE_HANDLE\", \"yref\": \"y\"}, {\"font\": {\"color\": \"#000000\", \"size\": 8}, \"showarrow\": false, \"text\": \"0\", \"x\": \"SOFA\", \"xref\": \"x\", \"y\": \"HARDWARE_HANDLE\", \"yref\": \"y\"}, {\"font\": {\"color\": \"#000000\", \"size\": 8}, \"showarrow\": false, \"text\": \"0\", \"x\": \"SPORTING_GOODS\", \"xref\": \"x\", \"y\": \"HARDWARE_HANDLE\", \"yref\": \"y\"}, {\"font\": {\"color\": \"#000000\", \"size\": 8}, \"showarrow\": false, \"text\": \"0\", \"x\": \"TABLE\", \"xref\": \"x\", \"y\": \"HARDWARE_HANDLE\", \"yref\": \"y\"}, {\"font\": {\"color\": \"#000000\", \"size\": 8}, \"showarrow\": false, \"text\": \"0\", \"x\": \"WALL_ART\", \"xref\": \"x\", \"y\": \"HARDWARE_HANDLE\", \"yref\": \"y\"}, {\"font\": {\"color\": \"#000000\", \"size\": 8}, \"showarrow\": false, \"text\": \"1\", \"x\": \"ACCESSORY\", \"xref\": \"x\", \"y\": \"HANDBAG\", \"yref\": \"y\"}, {\"font\": {\"color\": \"#000000\", \"size\": 8}, \"showarrow\": false, \"text\": \"0\", \"x\": \"BOOT\", \"xref\": \"x\", \"y\": \"HANDBAG\", \"yref\": \"y\"}, {\"font\": {\"color\": \"#000000\", \"size\": 8}, \"showarrow\": false, \"text\": \"0\", \"x\": \"CELLULAR_PHONE_CASE\", \"xref\": \"x\", \"y\": \"HANDBAG\", \"yref\": \"y\"}, {\"font\": {\"color\": \"#000000\", \"size\": 8}, \"showarrow\": false, \"text\": \"0\", \"x\": \"CHAIR\", \"xref\": \"x\", \"y\": \"HANDBAG\", \"yref\": \"y\"}, {\"font\": {\"color\": \"#000000\", \"size\": 8}, \"showarrow\": false, \"text\": \"0\", \"x\": \"EARRING\", \"xref\": \"x\", \"y\": \"HANDBAG\", \"yref\": \"y\"}, {\"font\": {\"color\": \"#000000\", \"size\": 8}, \"showarrow\": false, \"text\": \"0\", \"x\": \"FINEEARRING\", \"xref\": \"x\", \"y\": \"HANDBAG\", \"yref\": \"y\"}, {\"font\": {\"color\": \"#000000\", \"size\": 8}, \"showarrow\": false, \"text\": \"0\", \"x\": \"FINENECKLACEBRACELETANKLET\", \"xref\": \"x\", \"y\": \"HANDBAG\", \"yref\": \"y\"}, {\"font\": {\"color\": \"#000000\", \"size\": 8}, \"showarrow\": false, \"text\": \"0\", \"x\": \"FINERING\", \"xref\": \"x\", \"y\": \"HANDBAG\", \"yref\": \"y\"}, {\"font\": {\"color\": \"#000000\", \"size\": 8}, \"showarrow\": false, \"text\": \"0\", \"x\": \"GROCERY\", \"xref\": \"x\", \"y\": \"HANDBAG\", \"yref\": \"y\"}, {\"font\": {\"color\": \"#000000\", \"size\": 8}, \"showarrow\": false, \"text\": \"146\", \"x\": \"HANDBAG\", \"xref\": \"x\", \"y\": \"HANDBAG\", \"yref\": \"y\"}, {\"font\": {\"color\": \"#000000\", \"size\": 8}, \"showarrow\": false, \"text\": \"1\", \"x\": \"HARDWARE_HANDLE\", \"xref\": \"x\", \"y\": \"HANDBAG\", \"yref\": \"y\"}, {\"font\": {\"color\": \"#000000\", \"size\": 8}, \"showarrow\": false, \"text\": \"0\", \"x\": \"HAT\", \"xref\": \"x\", \"y\": \"HANDBAG\", \"yref\": \"y\"}, {\"font\": {\"color\": \"#000000\", \"size\": 8}, \"showarrow\": false, \"text\": \"0\", \"x\": \"HEALTH_PERSONAL_CARE\", \"xref\": \"x\", \"y\": \"HANDBAG\", \"yref\": \"y\"}, {\"font\": {\"color\": \"#000000\", \"size\": 8}, \"showarrow\": false, \"text\": \"0\", \"x\": \"HOME\", \"xref\": \"x\", \"y\": \"HANDBAG\", \"yref\": \"y\"}, {\"font\": {\"color\": \"#000000\", \"size\": 8}, \"showarrow\": false, \"text\": \"0\", \"x\": \"HOME_BED_AND_BATH\", \"xref\": \"x\", \"y\": \"HANDBAG\", \"yref\": \"y\"}, {\"font\": {\"color\": \"#000000\", \"size\": 8}, \"showarrow\": false, \"text\": \"1\", \"x\": \"HOME_FURNITURE_AND_DECOR\", \"xref\": \"x\", \"y\": \"HANDBAG\", \"yref\": \"y\"}, {\"font\": {\"color\": \"#000000\", \"size\": 8}, \"showarrow\": false, \"text\": \"0\", \"x\": \"JANITORIAL_SUPPLY\", \"xref\": \"x\", \"y\": \"HANDBAG\", \"yref\": \"y\"}, {\"font\": {\"color\": \"#000000\", \"size\": 8}, \"showarrow\": false, \"text\": \"1\", \"x\": \"KITCHEN\", \"xref\": \"x\", \"y\": \"HANDBAG\", \"yref\": \"y\"}, {\"font\": {\"color\": \"#000000\", \"size\": 8}, \"showarrow\": false, \"text\": \"0\", \"x\": \"LAMP\", \"xref\": \"x\", \"y\": \"HANDBAG\", \"yref\": \"y\"}, {\"font\": {\"color\": \"#000000\", \"size\": 8}, \"showarrow\": false, \"text\": \"0\", \"x\": \"LIGHT_BULB\", \"xref\": \"x\", \"y\": \"HANDBAG\", \"yref\": \"y\"}, {\"font\": {\"color\": \"#000000\", \"size\": 8}, \"showarrow\": false, \"text\": \"1\", \"x\": \"LIGHT_FIXTURE\", \"xref\": \"x\", \"y\": \"HANDBAG\", \"yref\": \"y\"}, {\"font\": {\"color\": \"#000000\", \"size\": 8}, \"showarrow\": false, \"text\": \"1\", \"x\": \"OFFICE_PRODUCTS\", \"xref\": \"x\", \"y\": \"HANDBAG\", \"yref\": \"y\"}, {\"font\": {\"color\": \"#000000\", \"size\": 8}, \"showarrow\": false, \"text\": \"1\", \"x\": \"OUTDOOR_LIVING\", \"xref\": \"x\", \"y\": \"HANDBAG\", \"yref\": \"y\"}, {\"font\": {\"color\": \"#000000\", \"size\": 8}, \"showarrow\": false, \"text\": \"1\", \"x\": \"PET_SUPPLIES\", \"xref\": \"x\", \"y\": \"HANDBAG\", \"yref\": \"y\"}, {\"font\": {\"color\": \"#000000\", \"size\": 8}, \"showarrow\": false, \"text\": \"0\", \"x\": \"RUG\", \"xref\": \"x\", \"y\": \"HANDBAG\", \"yref\": \"y\"}, {\"font\": {\"color\": \"#000000\", \"size\": 8}, \"showarrow\": false, \"text\": \"0\", \"x\": \"SANDAL\", \"xref\": \"x\", \"y\": \"HANDBAG\", \"yref\": \"y\"}, {\"font\": {\"color\": \"#000000\", \"size\": 8}, \"showarrow\": false, \"text\": \"2\", \"x\": \"SHOES\", \"xref\": \"x\", \"y\": \"HANDBAG\", \"yref\": \"y\"}, {\"font\": {\"color\": \"#000000\", \"size\": 8}, \"showarrow\": false, \"text\": \"1\", \"x\": \"SOFA\", \"xref\": \"x\", \"y\": \"HANDBAG\", \"yref\": \"y\"}, {\"font\": {\"color\": \"#000000\", \"size\": 8}, \"showarrow\": false, \"text\": \"2\", \"x\": \"SPORTING_GOODS\", \"xref\": \"x\", \"y\": \"HANDBAG\", \"yref\": \"y\"}, {\"font\": {\"color\": \"#000000\", \"size\": 8}, \"showarrow\": false, \"text\": \"0\", \"x\": \"TABLE\", \"xref\": \"x\", \"y\": \"HANDBAG\", \"yref\": \"y\"}, {\"font\": {\"color\": \"#000000\", \"size\": 8}, \"showarrow\": false, \"text\": \"0\", \"x\": \"WALL_ART\", \"xref\": \"x\", \"y\": \"HANDBAG\", \"yref\": \"y\"}, {\"font\": {\"color\": \"#000000\", \"size\": 8}, \"showarrow\": false, \"text\": \"0\", \"x\": \"ACCESSORY\", \"xref\": \"x\", \"y\": \"GROCERY\", \"yref\": \"y\"}, {\"font\": {\"color\": \"#000000\", \"size\": 8}, \"showarrow\": false, \"text\": \"0\", \"x\": \"BOOT\", \"xref\": \"x\", \"y\": \"GROCERY\", \"yref\": \"y\"}, {\"font\": {\"color\": \"#000000\", \"size\": 8}, \"showarrow\": false, \"text\": \"0\", \"x\": \"CELLULAR_PHONE_CASE\", \"xref\": \"x\", \"y\": \"GROCERY\", \"yref\": \"y\"}, {\"font\": {\"color\": \"#000000\", \"size\": 8}, \"showarrow\": false, \"text\": \"0\", \"x\": \"CHAIR\", \"xref\": \"x\", \"y\": \"GROCERY\", \"yref\": \"y\"}, {\"font\": {\"color\": \"#000000\", \"size\": 8}, \"showarrow\": false, \"text\": \"0\", \"x\": \"EARRING\", \"xref\": \"x\", \"y\": \"GROCERY\", \"yref\": \"y\"}, {\"font\": {\"color\": \"#000000\", \"size\": 8}, \"showarrow\": false, \"text\": \"0\", \"x\": \"FINEEARRING\", \"xref\": \"x\", \"y\": \"GROCERY\", \"yref\": \"y\"}, {\"font\": {\"color\": \"#000000\", \"size\": 8}, \"showarrow\": false, \"text\": \"0\", \"x\": \"FINENECKLACEBRACELETANKLET\", \"xref\": \"x\", \"y\": \"GROCERY\", \"yref\": \"y\"}, {\"font\": {\"color\": \"#000000\", \"size\": 8}, \"showarrow\": false, \"text\": \"0\", \"x\": \"FINERING\", \"xref\": \"x\", \"y\": \"GROCERY\", \"yref\": \"y\"}, {\"font\": {\"color\": \"#000000\", \"size\": 8}, \"showarrow\": false, \"text\": \"1286\", \"x\": \"GROCERY\", \"xref\": \"x\", \"y\": \"GROCERY\", \"yref\": \"y\"}, {\"font\": {\"color\": \"#000000\", \"size\": 8}, \"showarrow\": false, \"text\": \"2\", \"x\": \"HANDBAG\", \"xref\": \"x\", \"y\": \"GROCERY\", \"yref\": \"y\"}, {\"font\": {\"color\": \"#000000\", \"size\": 8}, \"showarrow\": false, \"text\": \"0\", \"x\": \"HARDWARE_HANDLE\", \"xref\": \"x\", \"y\": \"GROCERY\", \"yref\": \"y\"}, {\"font\": {\"color\": \"#000000\", \"size\": 8}, \"showarrow\": false, \"text\": \"0\", \"x\": \"HAT\", \"xref\": \"x\", \"y\": \"GROCERY\", \"yref\": \"y\"}, {\"font\": {\"color\": \"#000000\", \"size\": 8}, \"showarrow\": false, \"text\": \"16\", \"x\": \"HEALTH_PERSONAL_CARE\", \"xref\": \"x\", \"y\": \"GROCERY\", \"yref\": \"y\"}, {\"font\": {\"color\": \"#000000\", \"size\": 8}, \"showarrow\": false, \"text\": \"1\", \"x\": \"HOME\", \"xref\": \"x\", \"y\": \"GROCERY\", \"yref\": \"y\"}, {\"font\": {\"color\": \"#000000\", \"size\": 8}, \"showarrow\": false, \"text\": \"0\", \"x\": \"HOME_BED_AND_BATH\", \"xref\": \"x\", \"y\": \"GROCERY\", \"yref\": \"y\"}, {\"font\": {\"color\": \"#000000\", \"size\": 8}, \"showarrow\": false, \"text\": \"0\", \"x\": \"HOME_FURNITURE_AND_DECOR\", \"xref\": \"x\", \"y\": \"GROCERY\", \"yref\": \"y\"}, {\"font\": {\"color\": \"#000000\", \"size\": 8}, \"showarrow\": false, \"text\": \"0\", \"x\": \"JANITORIAL_SUPPLY\", \"xref\": \"x\", \"y\": \"GROCERY\", \"yref\": \"y\"}, {\"font\": {\"color\": \"#000000\", \"size\": 8}, \"showarrow\": false, \"text\": \"0\", \"x\": \"KITCHEN\", \"xref\": \"x\", \"y\": \"GROCERY\", \"yref\": \"y\"}, {\"font\": {\"color\": \"#000000\", \"size\": 8}, \"showarrow\": false, \"text\": \"0\", \"x\": \"LAMP\", \"xref\": \"x\", \"y\": \"GROCERY\", \"yref\": \"y\"}, {\"font\": {\"color\": \"#000000\", \"size\": 8}, \"showarrow\": false, \"text\": \"0\", \"x\": \"LIGHT_BULB\", \"xref\": \"x\", \"y\": \"GROCERY\", \"yref\": \"y\"}, {\"font\": {\"color\": \"#000000\", \"size\": 8}, \"showarrow\": false, \"text\": \"0\", \"x\": \"LIGHT_FIXTURE\", \"xref\": \"x\", \"y\": \"GROCERY\", \"yref\": \"y\"}, {\"font\": {\"color\": \"#000000\", \"size\": 8}, \"showarrow\": false, \"text\": \"2\", \"x\": \"OFFICE_PRODUCTS\", \"xref\": \"x\", \"y\": \"GROCERY\", \"yref\": \"y\"}, {\"font\": {\"color\": \"#000000\", \"size\": 8}, \"showarrow\": false, \"text\": \"0\", \"x\": \"OUTDOOR_LIVING\", \"xref\": \"x\", \"y\": \"GROCERY\", \"yref\": \"y\"}, {\"font\": {\"color\": \"#000000\", \"size\": 8}, \"showarrow\": false, \"text\": \"1\", \"x\": \"PET_SUPPLIES\", \"xref\": \"x\", \"y\": \"GROCERY\", \"yref\": \"y\"}, {\"font\": {\"color\": \"#000000\", \"size\": 8}, \"showarrow\": false, \"text\": \"0\", \"x\": \"RUG\", \"xref\": \"x\", \"y\": \"GROCERY\", \"yref\": \"y\"}, {\"font\": {\"color\": \"#000000\", \"size\": 8}, \"showarrow\": false, \"text\": \"0\", \"x\": \"SANDAL\", \"xref\": \"x\", \"y\": \"GROCERY\", \"yref\": \"y\"}, {\"font\": {\"color\": \"#000000\", \"size\": 8}, \"showarrow\": false, \"text\": \"0\", \"x\": \"SHOES\", \"xref\": \"x\", \"y\": \"GROCERY\", \"yref\": \"y\"}, {\"font\": {\"color\": \"#000000\", \"size\": 8}, \"showarrow\": false, \"text\": \"0\", \"x\": \"SOFA\", \"xref\": \"x\", \"y\": \"GROCERY\", \"yref\": \"y\"}, {\"font\": {\"color\": \"#000000\", \"size\": 8}, \"showarrow\": false, \"text\": \"1\", \"x\": \"SPORTING_GOODS\", \"xref\": \"x\", \"y\": \"GROCERY\", \"yref\": \"y\"}, {\"font\": {\"color\": \"#000000\", \"size\": 8}, \"showarrow\": false, \"text\": \"0\", \"x\": \"TABLE\", \"xref\": \"x\", \"y\": \"GROCERY\", \"yref\": \"y\"}, {\"font\": {\"color\": \"#000000\", \"size\": 8}, \"showarrow\": false, \"text\": \"0\", \"x\": \"WALL_ART\", \"xref\": \"x\", \"y\": \"GROCERY\", \"yref\": \"y\"}, {\"font\": {\"color\": \"#000000\", \"size\": 8}, \"showarrow\": false, \"text\": \"0\", \"x\": \"ACCESSORY\", \"xref\": \"x\", \"y\": \"FINERING\", \"yref\": \"y\"}, {\"font\": {\"color\": \"#000000\", \"size\": 8}, \"showarrow\": false, \"text\": \"0\", \"x\": \"BOOT\", \"xref\": \"x\", \"y\": \"FINERING\", \"yref\": \"y\"}, {\"font\": {\"color\": \"#000000\", \"size\": 8}, \"showarrow\": false, \"text\": \"0\", \"x\": \"CELLULAR_PHONE_CASE\", \"xref\": \"x\", \"y\": \"FINERING\", \"yref\": \"y\"}, {\"font\": {\"color\": \"#000000\", \"size\": 8}, \"showarrow\": false, \"text\": \"0\", \"x\": \"CHAIR\", \"xref\": \"x\", \"y\": \"FINERING\", \"yref\": \"y\"}, {\"font\": {\"color\": \"#000000\", \"size\": 8}, \"showarrow\": false, \"text\": \"2\", \"x\": \"EARRING\", \"xref\": \"x\", \"y\": \"FINERING\", \"yref\": \"y\"}, {\"font\": {\"color\": \"#000000\", \"size\": 8}, \"showarrow\": false, \"text\": \"3\", \"x\": \"FINEEARRING\", \"xref\": \"x\", \"y\": \"FINERING\", \"yref\": \"y\"}, {\"font\": {\"color\": \"#000000\", \"size\": 8}, \"showarrow\": false, \"text\": \"11\", \"x\": \"FINENECKLACEBRACELETANKLET\", \"xref\": \"x\", \"y\": \"FINERING\", \"yref\": \"y\"}, {\"font\": {\"color\": \"#000000\", \"size\": 8}, \"showarrow\": false, \"text\": \"291\", \"x\": \"FINERING\", \"xref\": \"x\", \"y\": \"FINERING\", \"yref\": \"y\"}, {\"font\": {\"color\": \"#000000\", \"size\": 8}, \"showarrow\": false, \"text\": \"0\", \"x\": \"GROCERY\", \"xref\": \"x\", \"y\": \"FINERING\", \"yref\": \"y\"}, {\"font\": {\"color\": \"#000000\", \"size\": 8}, \"showarrow\": false, \"text\": \"0\", \"x\": \"HANDBAG\", \"xref\": \"x\", \"y\": \"FINERING\", \"yref\": \"y\"}, {\"font\": {\"color\": \"#000000\", \"size\": 8}, \"showarrow\": false, \"text\": \"0\", \"x\": \"HARDWARE_HANDLE\", \"xref\": \"x\", \"y\": \"FINERING\", \"yref\": \"y\"}, {\"font\": {\"color\": \"#000000\", \"size\": 8}, \"showarrow\": false, \"text\": \"0\", \"x\": \"HAT\", \"xref\": \"x\", \"y\": \"FINERING\", \"yref\": \"y\"}, {\"font\": {\"color\": \"#000000\", \"size\": 8}, \"showarrow\": false, \"text\": \"0\", \"x\": \"HEALTH_PERSONAL_CARE\", \"xref\": \"x\", \"y\": \"FINERING\", \"yref\": \"y\"}, {\"font\": {\"color\": \"#000000\", \"size\": 8}, \"showarrow\": false, \"text\": \"1\", \"x\": \"HOME\", \"xref\": \"x\", \"y\": \"FINERING\", \"yref\": \"y\"}, {\"font\": {\"color\": \"#000000\", \"size\": 8}, \"showarrow\": false, \"text\": \"0\", \"x\": \"HOME_BED_AND_BATH\", \"xref\": \"x\", \"y\": \"FINERING\", \"yref\": \"y\"}, {\"font\": {\"color\": \"#000000\", \"size\": 8}, \"showarrow\": false, \"text\": \"0\", \"x\": \"HOME_FURNITURE_AND_DECOR\", \"xref\": \"x\", \"y\": \"FINERING\", \"yref\": \"y\"}, {\"font\": {\"color\": \"#000000\", \"size\": 8}, \"showarrow\": false, \"text\": \"0\", \"x\": \"JANITORIAL_SUPPLY\", \"xref\": \"x\", \"y\": \"FINERING\", \"yref\": \"y\"}, {\"font\": {\"color\": \"#000000\", \"size\": 8}, \"showarrow\": false, \"text\": \"0\", \"x\": \"KITCHEN\", \"xref\": \"x\", \"y\": \"FINERING\", \"yref\": \"y\"}, {\"font\": {\"color\": \"#000000\", \"size\": 8}, \"showarrow\": false, \"text\": \"0\", \"x\": \"LAMP\", \"xref\": \"x\", \"y\": \"FINERING\", \"yref\": \"y\"}, {\"font\": {\"color\": \"#000000\", \"size\": 8}, \"showarrow\": false, \"text\": \"0\", \"x\": \"LIGHT_BULB\", \"xref\": \"x\", \"y\": \"FINERING\", \"yref\": \"y\"}, {\"font\": {\"color\": \"#000000\", \"size\": 8}, \"showarrow\": false, \"text\": \"0\", \"x\": \"LIGHT_FIXTURE\", \"xref\": \"x\", \"y\": \"FINERING\", \"yref\": \"y\"}, {\"font\": {\"color\": \"#000000\", \"size\": 8}, \"showarrow\": false, \"text\": \"0\", \"x\": \"OFFICE_PRODUCTS\", \"xref\": \"x\", \"y\": \"FINERING\", \"yref\": \"y\"}, {\"font\": {\"color\": \"#000000\", \"size\": 8}, \"showarrow\": false, \"text\": \"0\", \"x\": \"OUTDOOR_LIVING\", \"xref\": \"x\", \"y\": \"FINERING\", \"yref\": \"y\"}, {\"font\": {\"color\": \"#000000\", \"size\": 8}, \"showarrow\": false, \"text\": \"0\", \"x\": \"PET_SUPPLIES\", \"xref\": \"x\", \"y\": \"FINERING\", \"yref\": \"y\"}, {\"font\": {\"color\": \"#000000\", \"size\": 8}, \"showarrow\": false, \"text\": \"0\", \"x\": \"RUG\", \"xref\": \"x\", \"y\": \"FINERING\", \"yref\": \"y\"}, {\"font\": {\"color\": \"#000000\", \"size\": 8}, \"showarrow\": false, \"text\": \"0\", \"x\": \"SANDAL\", \"xref\": \"x\", \"y\": \"FINERING\", \"yref\": \"y\"}, {\"font\": {\"color\": \"#000000\", \"size\": 8}, \"showarrow\": false, \"text\": \"0\", \"x\": \"SHOES\", \"xref\": \"x\", \"y\": \"FINERING\", \"yref\": \"y\"}, {\"font\": {\"color\": \"#000000\", \"size\": 8}, \"showarrow\": false, \"text\": \"0\", \"x\": \"SOFA\", \"xref\": \"x\", \"y\": \"FINERING\", \"yref\": \"y\"}, {\"font\": {\"color\": \"#000000\", \"size\": 8}, \"showarrow\": false, \"text\": \"0\", \"x\": \"SPORTING_GOODS\", \"xref\": \"x\", \"y\": \"FINERING\", \"yref\": \"y\"}, {\"font\": {\"color\": \"#000000\", \"size\": 8}, \"showarrow\": false, \"text\": \"0\", \"x\": \"TABLE\", \"xref\": \"x\", \"y\": \"FINERING\", \"yref\": \"y\"}, {\"font\": {\"color\": \"#000000\", \"size\": 8}, \"showarrow\": false, \"text\": \"0\", \"x\": \"WALL_ART\", \"xref\": \"x\", \"y\": \"FINERING\", \"yref\": \"y\"}, {\"font\": {\"color\": \"#000000\", \"size\": 8}, \"showarrow\": false, \"text\": \"1\", \"x\": \"ACCESSORY\", \"xref\": \"x\", \"y\": \"FINENECKLACEBRACELETANKLET\", \"yref\": \"y\"}, {\"font\": {\"color\": \"#000000\", \"size\": 8}, \"showarrow\": false, \"text\": \"0\", \"x\": \"BOOT\", \"xref\": \"x\", \"y\": \"FINENECKLACEBRACELETANKLET\", \"yref\": \"y\"}, {\"font\": {\"color\": \"#000000\", \"size\": 8}, \"showarrow\": false, \"text\": \"0\", \"x\": \"CELLULAR_PHONE_CASE\", \"xref\": \"x\", \"y\": \"FINENECKLACEBRACELETANKLET\", \"yref\": \"y\"}, {\"font\": {\"color\": \"#000000\", \"size\": 8}, \"showarrow\": false, \"text\": \"0\", \"x\": \"CHAIR\", \"xref\": \"x\", \"y\": \"FINENECKLACEBRACELETANKLET\", \"yref\": \"y\"}, {\"font\": {\"color\": \"#000000\", \"size\": 8}, \"showarrow\": false, \"text\": \"0\", \"x\": \"EARRING\", \"xref\": \"x\", \"y\": \"FINENECKLACEBRACELETANKLET\", \"yref\": \"y\"}, {\"font\": {\"color\": \"#000000\", \"size\": 8}, \"showarrow\": false, \"text\": \"4\", \"x\": \"FINEEARRING\", \"xref\": \"x\", \"y\": \"FINENECKLACEBRACELETANKLET\", \"yref\": \"y\"}, {\"font\": {\"color\": \"#000000\", \"size\": 8}, \"showarrow\": false, \"text\": \"266\", \"x\": \"FINENECKLACEBRACELETANKLET\", \"xref\": \"x\", \"y\": \"FINENECKLACEBRACELETANKLET\", \"yref\": \"y\"}, {\"font\": {\"color\": \"#000000\", \"size\": 8}, \"showarrow\": false, \"text\": \"0\", \"x\": \"FINERING\", \"xref\": \"x\", \"y\": \"FINENECKLACEBRACELETANKLET\", \"yref\": \"y\"}, {\"font\": {\"color\": \"#000000\", \"size\": 8}, \"showarrow\": false, \"text\": \"0\", \"x\": \"GROCERY\", \"xref\": \"x\", \"y\": \"FINENECKLACEBRACELETANKLET\", \"yref\": \"y\"}, {\"font\": {\"color\": \"#000000\", \"size\": 8}, \"showarrow\": false, \"text\": \"0\", \"x\": \"HANDBAG\", \"xref\": \"x\", \"y\": \"FINENECKLACEBRACELETANKLET\", \"yref\": \"y\"}, {\"font\": {\"color\": \"#000000\", \"size\": 8}, \"showarrow\": false, \"text\": \"0\", \"x\": \"HARDWARE_HANDLE\", \"xref\": \"x\", \"y\": \"FINENECKLACEBRACELETANKLET\", \"yref\": \"y\"}, {\"font\": {\"color\": \"#000000\", \"size\": 8}, \"showarrow\": false, \"text\": \"0\", \"x\": \"HAT\", \"xref\": \"x\", \"y\": \"FINENECKLACEBRACELETANKLET\", \"yref\": \"y\"}, {\"font\": {\"color\": \"#000000\", \"size\": 8}, \"showarrow\": false, \"text\": \"0\", \"x\": \"HEALTH_PERSONAL_CARE\", \"xref\": \"x\", \"y\": \"FINENECKLACEBRACELETANKLET\", \"yref\": \"y\"}, {\"font\": {\"color\": \"#000000\", \"size\": 8}, \"showarrow\": false, \"text\": \"0\", \"x\": \"HOME\", \"xref\": \"x\", \"y\": \"FINENECKLACEBRACELETANKLET\", \"yref\": \"y\"}, {\"font\": {\"color\": \"#000000\", \"size\": 8}, \"showarrow\": false, \"text\": \"0\", \"x\": \"HOME_BED_AND_BATH\", \"xref\": \"x\", \"y\": \"FINENECKLACEBRACELETANKLET\", \"yref\": \"y\"}, {\"font\": {\"color\": \"#000000\", \"size\": 8}, \"showarrow\": false, \"text\": \"0\", \"x\": \"HOME_FURNITURE_AND_DECOR\", \"xref\": \"x\", \"y\": \"FINENECKLACEBRACELETANKLET\", \"yref\": \"y\"}, {\"font\": {\"color\": \"#000000\", \"size\": 8}, \"showarrow\": false, \"text\": \"0\", \"x\": \"JANITORIAL_SUPPLY\", \"xref\": \"x\", \"y\": \"FINENECKLACEBRACELETANKLET\", \"yref\": \"y\"}, {\"font\": {\"color\": \"#000000\", \"size\": 8}, \"showarrow\": false, \"text\": \"0\", \"x\": \"KITCHEN\", \"xref\": \"x\", \"y\": \"FINENECKLACEBRACELETANKLET\", \"yref\": \"y\"}, {\"font\": {\"color\": \"#000000\", \"size\": 8}, \"showarrow\": false, \"text\": \"0\", \"x\": \"LAMP\", \"xref\": \"x\", \"y\": \"FINENECKLACEBRACELETANKLET\", \"yref\": \"y\"}, {\"font\": {\"color\": \"#000000\", \"size\": 8}, \"showarrow\": false, \"text\": \"0\", \"x\": \"LIGHT_BULB\", \"xref\": \"x\", \"y\": \"FINENECKLACEBRACELETANKLET\", \"yref\": \"y\"}, {\"font\": {\"color\": \"#000000\", \"size\": 8}, \"showarrow\": false, \"text\": \"2\", \"x\": \"LIGHT_FIXTURE\", \"xref\": \"x\", \"y\": \"FINENECKLACEBRACELETANKLET\", \"yref\": \"y\"}, {\"font\": {\"color\": \"#000000\", \"size\": 8}, \"showarrow\": false, \"text\": \"1\", \"x\": \"OFFICE_PRODUCTS\", \"xref\": \"x\", \"y\": \"FINENECKLACEBRACELETANKLET\", \"yref\": \"y\"}, {\"font\": {\"color\": \"#000000\", \"size\": 8}, \"showarrow\": false, \"text\": \"0\", \"x\": \"OUTDOOR_LIVING\", \"xref\": \"x\", \"y\": \"FINENECKLACEBRACELETANKLET\", \"yref\": \"y\"}, {\"font\": {\"color\": \"#000000\", \"size\": 8}, \"showarrow\": false, \"text\": \"0\", \"x\": \"PET_SUPPLIES\", \"xref\": \"x\", \"y\": \"FINENECKLACEBRACELETANKLET\", \"yref\": \"y\"}, {\"font\": {\"color\": \"#000000\", \"size\": 8}, \"showarrow\": false, \"text\": \"0\", \"x\": \"RUG\", \"xref\": \"x\", \"y\": \"FINENECKLACEBRACELETANKLET\", \"yref\": \"y\"}, {\"font\": {\"color\": \"#000000\", \"size\": 8}, \"showarrow\": false, \"text\": \"0\", \"x\": \"SANDAL\", \"xref\": \"x\", \"y\": \"FINENECKLACEBRACELETANKLET\", \"yref\": \"y\"}, {\"font\": {\"color\": \"#000000\", \"size\": 8}, \"showarrow\": false, \"text\": \"1\", \"x\": \"SHOES\", \"xref\": \"x\", \"y\": \"FINENECKLACEBRACELETANKLET\", \"yref\": \"y\"}, {\"font\": {\"color\": \"#000000\", \"size\": 8}, \"showarrow\": false, \"text\": \"0\", \"x\": \"SOFA\", \"xref\": \"x\", \"y\": \"FINENECKLACEBRACELETANKLET\", \"yref\": \"y\"}, {\"font\": {\"color\": \"#000000\", \"size\": 8}, \"showarrow\": false, \"text\": \"0\", \"x\": \"SPORTING_GOODS\", \"xref\": \"x\", \"y\": \"FINENECKLACEBRACELETANKLET\", \"yref\": \"y\"}, {\"font\": {\"color\": \"#000000\", \"size\": 8}, \"showarrow\": false, \"text\": \"1\", \"x\": \"TABLE\", \"xref\": \"x\", \"y\": \"FINENECKLACEBRACELETANKLET\", \"yref\": \"y\"}, {\"font\": {\"color\": \"#000000\", \"size\": 8}, \"showarrow\": false, \"text\": \"0\", \"x\": \"WALL_ART\", \"xref\": \"x\", \"y\": \"FINENECKLACEBRACELETANKLET\", \"yref\": \"y\"}, {\"font\": {\"color\": \"#000000\", \"size\": 8}, \"showarrow\": false, \"text\": \"2\", \"x\": \"ACCESSORY\", \"xref\": \"x\", \"y\": \"FINEEARRING\", \"yref\": \"y\"}, {\"font\": {\"color\": \"#000000\", \"size\": 8}, \"showarrow\": false, \"text\": \"0\", \"x\": \"BOOT\", \"xref\": \"x\", \"y\": \"FINEEARRING\", \"yref\": \"y\"}, {\"font\": {\"color\": \"#000000\", \"size\": 8}, \"showarrow\": false, \"text\": \"0\", \"x\": \"CELLULAR_PHONE_CASE\", \"xref\": \"x\", \"y\": \"FINEEARRING\", \"yref\": \"y\"}, {\"font\": {\"color\": \"#000000\", \"size\": 8}, \"showarrow\": false, \"text\": \"0\", \"x\": \"CHAIR\", \"xref\": \"x\", \"y\": \"FINEEARRING\", \"yref\": \"y\"}, {\"font\": {\"color\": \"#000000\", \"size\": 8}, \"showarrow\": false, \"text\": \"18\", \"x\": \"EARRING\", \"xref\": \"x\", \"y\": \"FINEEARRING\", \"yref\": \"y\"}, {\"font\": {\"color\": \"#000000\", \"size\": 8}, \"showarrow\": false, \"text\": \"191\", \"x\": \"FINEEARRING\", \"xref\": \"x\", \"y\": \"FINEEARRING\", \"yref\": \"y\"}, {\"font\": {\"color\": \"#000000\", \"size\": 8}, \"showarrow\": false, \"text\": \"11\", \"x\": \"FINENECKLACEBRACELETANKLET\", \"xref\": \"x\", \"y\": \"FINEEARRING\", \"yref\": \"y\"}, {\"font\": {\"color\": \"#000000\", \"size\": 8}, \"showarrow\": false, \"text\": \"2\", \"x\": \"FINERING\", \"xref\": \"x\", \"y\": \"FINEEARRING\", \"yref\": \"y\"}, {\"font\": {\"color\": \"#000000\", \"size\": 8}, \"showarrow\": false, \"text\": \"1\", \"x\": \"GROCERY\", \"xref\": \"x\", \"y\": \"FINEEARRING\", \"yref\": \"y\"}, {\"font\": {\"color\": \"#000000\", \"size\": 8}, \"showarrow\": false, \"text\": \"0\", \"x\": \"HANDBAG\", \"xref\": \"x\", \"y\": \"FINEEARRING\", \"yref\": \"y\"}, {\"font\": {\"color\": \"#000000\", \"size\": 8}, \"showarrow\": false, \"text\": \"0\", \"x\": \"HARDWARE_HANDLE\", \"xref\": \"x\", \"y\": \"FINEEARRING\", \"yref\": \"y\"}, {\"font\": {\"color\": \"#000000\", \"size\": 8}, \"showarrow\": false, \"text\": \"0\", \"x\": \"HAT\", \"xref\": \"x\", \"y\": \"FINEEARRING\", \"yref\": \"y\"}, {\"font\": {\"color\": \"#000000\", \"size\": 8}, \"showarrow\": false, \"text\": \"0\", \"x\": \"HEALTH_PERSONAL_CARE\", \"xref\": \"x\", \"y\": \"FINEEARRING\", \"yref\": \"y\"}, {\"font\": {\"color\": \"#000000\", \"size\": 8}, \"showarrow\": false, \"text\": \"0\", \"x\": \"HOME\", \"xref\": \"x\", \"y\": \"FINEEARRING\", \"yref\": \"y\"}, {\"font\": {\"color\": \"#000000\", \"size\": 8}, \"showarrow\": false, \"text\": \"0\", \"x\": \"HOME_BED_AND_BATH\", \"xref\": \"x\", \"y\": \"FINEEARRING\", \"yref\": \"y\"}, {\"font\": {\"color\": \"#000000\", \"size\": 8}, \"showarrow\": false, \"text\": \"0\", \"x\": \"HOME_FURNITURE_AND_DECOR\", \"xref\": \"x\", \"y\": \"FINEEARRING\", \"yref\": \"y\"}, {\"font\": {\"color\": \"#000000\", \"size\": 8}, \"showarrow\": false, \"text\": \"0\", \"x\": \"JANITORIAL_SUPPLY\", \"xref\": \"x\", \"y\": \"FINEEARRING\", \"yref\": \"y\"}, {\"font\": {\"color\": \"#000000\", \"size\": 8}, \"showarrow\": false, \"text\": \"0\", \"x\": \"KITCHEN\", \"xref\": \"x\", \"y\": \"FINEEARRING\", \"yref\": \"y\"}, {\"font\": {\"color\": \"#000000\", \"size\": 8}, \"showarrow\": false, \"text\": \"0\", \"x\": \"LAMP\", \"xref\": \"x\", \"y\": \"FINEEARRING\", \"yref\": \"y\"}, {\"font\": {\"color\": \"#000000\", \"size\": 8}, \"showarrow\": false, \"text\": \"0\", \"x\": \"LIGHT_BULB\", \"xref\": \"x\", \"y\": \"FINEEARRING\", \"yref\": \"y\"}, {\"font\": {\"color\": \"#000000\", \"size\": 8}, \"showarrow\": false, \"text\": \"2\", \"x\": \"LIGHT_FIXTURE\", \"xref\": \"x\", \"y\": \"FINEEARRING\", \"yref\": \"y\"}, {\"font\": {\"color\": \"#000000\", \"size\": 8}, \"showarrow\": false, \"text\": \"1\", \"x\": \"OFFICE_PRODUCTS\", \"xref\": \"x\", \"y\": \"FINEEARRING\", \"yref\": \"y\"}, {\"font\": {\"color\": \"#000000\", \"size\": 8}, \"showarrow\": false, \"text\": \"0\", \"x\": \"OUTDOOR_LIVING\", \"xref\": \"x\", \"y\": \"FINEEARRING\", \"yref\": \"y\"}, {\"font\": {\"color\": \"#000000\", \"size\": 8}, \"showarrow\": false, \"text\": \"0\", \"x\": \"PET_SUPPLIES\", \"xref\": \"x\", \"y\": \"FINEEARRING\", \"yref\": \"y\"}, {\"font\": {\"color\": \"#000000\", \"size\": 8}, \"showarrow\": false, \"text\": \"0\", \"x\": \"RUG\", \"xref\": \"x\", \"y\": \"FINEEARRING\", \"yref\": \"y\"}, {\"font\": {\"color\": \"#000000\", \"size\": 8}, \"showarrow\": false, \"text\": \"0\", \"x\": \"SANDAL\", \"xref\": \"x\", \"y\": \"FINEEARRING\", \"yref\": \"y\"}, {\"font\": {\"color\": \"#000000\", \"size\": 8}, \"showarrow\": false, \"text\": \"0\", \"x\": \"SHOES\", \"xref\": \"x\", \"y\": \"FINEEARRING\", \"yref\": \"y\"}, {\"font\": {\"color\": \"#000000\", \"size\": 8}, \"showarrow\": false, \"text\": \"0\", \"x\": \"SOFA\", \"xref\": \"x\", \"y\": \"FINEEARRING\", \"yref\": \"y\"}, {\"font\": {\"color\": \"#000000\", \"size\": 8}, \"showarrow\": false, \"text\": \"0\", \"x\": \"SPORTING_GOODS\", \"xref\": \"x\", \"y\": \"FINEEARRING\", \"yref\": \"y\"}, {\"font\": {\"color\": \"#000000\", \"size\": 8}, \"showarrow\": false, \"text\": \"0\", \"x\": \"TABLE\", \"xref\": \"x\", \"y\": \"FINEEARRING\", \"yref\": \"y\"}, {\"font\": {\"color\": \"#000000\", \"size\": 8}, \"showarrow\": false, \"text\": \"0\", \"x\": \"WALL_ART\", \"xref\": \"x\", \"y\": \"FINEEARRING\", \"yref\": \"y\"}, {\"font\": {\"color\": \"#000000\", \"size\": 8}, \"showarrow\": false, \"text\": \"0\", \"x\": \"ACCESSORY\", \"xref\": \"x\", \"y\": \"EARRING\", \"yref\": \"y\"}, {\"font\": {\"color\": \"#000000\", \"size\": 8}, \"showarrow\": false, \"text\": \"0\", \"x\": \"BOOT\", \"xref\": \"x\", \"y\": \"EARRING\", \"yref\": \"y\"}, {\"font\": {\"color\": \"#000000\", \"size\": 8}, \"showarrow\": false, \"text\": \"0\", \"x\": \"CELLULAR_PHONE_CASE\", \"xref\": \"x\", \"y\": \"EARRING\", \"yref\": \"y\"}, {\"font\": {\"color\": \"#000000\", \"size\": 8}, \"showarrow\": false, \"text\": \"0\", \"x\": \"CHAIR\", \"xref\": \"x\", \"y\": \"EARRING\", \"yref\": \"y\"}, {\"font\": {\"color\": \"#000000\", \"size\": 8}, \"showarrow\": false, \"text\": \"117\", \"x\": \"EARRING\", \"xref\": \"x\", \"y\": \"EARRING\", \"yref\": \"y\"}, {\"font\": {\"color\": \"#000000\", \"size\": 8}, \"showarrow\": false, \"text\": \"8\", \"x\": \"FINEEARRING\", \"xref\": \"x\", \"y\": \"EARRING\", \"yref\": \"y\"}, {\"font\": {\"color\": \"#000000\", \"size\": 8}, \"showarrow\": false, \"text\": \"3\", \"x\": \"FINENECKLACEBRACELETANKLET\", \"xref\": \"x\", \"y\": \"EARRING\", \"yref\": \"y\"}, {\"font\": {\"color\": \"#000000\", \"size\": 8}, \"showarrow\": false, \"text\": \"0\", \"x\": \"FINERING\", \"xref\": \"x\", \"y\": \"EARRING\", \"yref\": \"y\"}, {\"font\": {\"color\": \"#000000\", \"size\": 8}, \"showarrow\": false, \"text\": \"0\", \"x\": \"GROCERY\", \"xref\": \"x\", \"y\": \"EARRING\", \"yref\": \"y\"}, {\"font\": {\"color\": \"#000000\", \"size\": 8}, \"showarrow\": false, \"text\": \"0\", \"x\": \"HANDBAG\", \"xref\": \"x\", \"y\": \"EARRING\", \"yref\": \"y\"}, {\"font\": {\"color\": \"#000000\", \"size\": 8}, \"showarrow\": false, \"text\": \"0\", \"x\": \"HARDWARE_HANDLE\", \"xref\": \"x\", \"y\": \"EARRING\", \"yref\": \"y\"}, {\"font\": {\"color\": \"#000000\", \"size\": 8}, \"showarrow\": false, \"text\": \"0\", \"x\": \"HAT\", \"xref\": \"x\", \"y\": \"EARRING\", \"yref\": \"y\"}, {\"font\": {\"color\": \"#000000\", \"size\": 8}, \"showarrow\": false, \"text\": \"0\", \"x\": \"HEALTH_PERSONAL_CARE\", \"xref\": \"x\", \"y\": \"EARRING\", \"yref\": \"y\"}, {\"font\": {\"color\": \"#000000\", \"size\": 8}, \"showarrow\": false, \"text\": \"1\", \"x\": \"HOME\", \"xref\": \"x\", \"y\": \"EARRING\", \"yref\": \"y\"}, {\"font\": {\"color\": \"#000000\", \"size\": 8}, \"showarrow\": false, \"text\": \"0\", \"x\": \"HOME_BED_AND_BATH\", \"xref\": \"x\", \"y\": \"EARRING\", \"yref\": \"y\"}, {\"font\": {\"color\": \"#000000\", \"size\": 8}, \"showarrow\": false, \"text\": \"0\", \"x\": \"HOME_FURNITURE_AND_DECOR\", \"xref\": \"x\", \"y\": \"EARRING\", \"yref\": \"y\"}, {\"font\": {\"color\": \"#000000\", \"size\": 8}, \"showarrow\": false, \"text\": \"0\", \"x\": \"JANITORIAL_SUPPLY\", \"xref\": \"x\", \"y\": \"EARRING\", \"yref\": \"y\"}, {\"font\": {\"color\": \"#000000\", \"size\": 8}, \"showarrow\": false, \"text\": \"0\", \"x\": \"KITCHEN\", \"xref\": \"x\", \"y\": \"EARRING\", \"yref\": \"y\"}, {\"font\": {\"color\": \"#000000\", \"size\": 8}, \"showarrow\": false, \"text\": \"0\", \"x\": \"LAMP\", \"xref\": \"x\", \"y\": \"EARRING\", \"yref\": \"y\"}, {\"font\": {\"color\": \"#000000\", \"size\": 8}, \"showarrow\": false, \"text\": \"0\", \"x\": \"LIGHT_BULB\", \"xref\": \"x\", \"y\": \"EARRING\", \"yref\": \"y\"}, {\"font\": {\"color\": \"#000000\", \"size\": 8}, \"showarrow\": false, \"text\": \"0\", \"x\": \"LIGHT_FIXTURE\", \"xref\": \"x\", \"y\": \"EARRING\", \"yref\": \"y\"}, {\"font\": {\"color\": \"#000000\", \"size\": 8}, \"showarrow\": false, \"text\": \"0\", \"x\": \"OFFICE_PRODUCTS\", \"xref\": \"x\", \"y\": \"EARRING\", \"yref\": \"y\"}, {\"font\": {\"color\": \"#000000\", \"size\": 8}, \"showarrow\": false, \"text\": \"0\", \"x\": \"OUTDOOR_LIVING\", \"xref\": \"x\", \"y\": \"EARRING\", \"yref\": \"y\"}, {\"font\": {\"color\": \"#000000\", \"size\": 8}, \"showarrow\": false, \"text\": \"0\", \"x\": \"PET_SUPPLIES\", \"xref\": \"x\", \"y\": \"EARRING\", \"yref\": \"y\"}, {\"font\": {\"color\": \"#000000\", \"size\": 8}, \"showarrow\": false, \"text\": \"0\", \"x\": \"RUG\", \"xref\": \"x\", \"y\": \"EARRING\", \"yref\": \"y\"}, {\"font\": {\"color\": \"#000000\", \"size\": 8}, \"showarrow\": false, \"text\": \"0\", \"x\": \"SANDAL\", \"xref\": \"x\", \"y\": \"EARRING\", \"yref\": \"y\"}, {\"font\": {\"color\": \"#000000\", \"size\": 8}, \"showarrow\": false, \"text\": \"0\", \"x\": \"SHOES\", \"xref\": \"x\", \"y\": \"EARRING\", \"yref\": \"y\"}, {\"font\": {\"color\": \"#000000\", \"size\": 8}, \"showarrow\": false, \"text\": \"0\", \"x\": \"SOFA\", \"xref\": \"x\", \"y\": \"EARRING\", \"yref\": \"y\"}, {\"font\": {\"color\": \"#000000\", \"size\": 8}, \"showarrow\": false, \"text\": \"0\", \"x\": \"SPORTING_GOODS\", \"xref\": \"x\", \"y\": \"EARRING\", \"yref\": \"y\"}, {\"font\": {\"color\": \"#000000\", \"size\": 8}, \"showarrow\": false, \"text\": \"0\", \"x\": \"TABLE\", \"xref\": \"x\", \"y\": \"EARRING\", \"yref\": \"y\"}, {\"font\": {\"color\": \"#000000\", \"size\": 8}, \"showarrow\": false, \"text\": \"0\", \"x\": \"WALL_ART\", \"xref\": \"x\", \"y\": \"EARRING\", \"yref\": \"y\"}, {\"font\": {\"color\": \"#000000\", \"size\": 8}, \"showarrow\": false, \"text\": \"1\", \"x\": \"ACCESSORY\", \"xref\": \"x\", \"y\": \"CHAIR\", \"yref\": \"y\"}, {\"font\": {\"color\": \"#000000\", \"size\": 8}, \"showarrow\": false, \"text\": \"0\", \"x\": \"BOOT\", \"xref\": \"x\", \"y\": \"CHAIR\", \"yref\": \"y\"}, {\"font\": {\"color\": \"#000000\", \"size\": 8}, \"showarrow\": false, \"text\": \"0\", \"x\": \"CELLULAR_PHONE_CASE\", \"xref\": \"x\", \"y\": \"CHAIR\", \"yref\": \"y\"}, {\"font\": {\"color\": \"#000000\", \"size\": 8}, \"showarrow\": false, \"text\": \"313\", \"x\": \"CHAIR\", \"xref\": \"x\", \"y\": \"CHAIR\", \"yref\": \"y\"}, {\"font\": {\"color\": \"#000000\", \"size\": 8}, \"showarrow\": false, \"text\": \"0\", \"x\": \"EARRING\", \"xref\": \"x\", \"y\": \"CHAIR\", \"yref\": \"y\"}, {\"font\": {\"color\": \"#000000\", \"size\": 8}, \"showarrow\": false, \"text\": \"0\", \"x\": \"FINEEARRING\", \"xref\": \"x\", \"y\": \"CHAIR\", \"yref\": \"y\"}, {\"font\": {\"color\": \"#000000\", \"size\": 8}, \"showarrow\": false, \"text\": \"0\", \"x\": \"FINENECKLACEBRACELETANKLET\", \"xref\": \"x\", \"y\": \"CHAIR\", \"yref\": \"y\"}, {\"font\": {\"color\": \"#000000\", \"size\": 8}, \"showarrow\": false, \"text\": \"0\", \"x\": \"FINERING\", \"xref\": \"x\", \"y\": \"CHAIR\", \"yref\": \"y\"}, {\"font\": {\"color\": \"#000000\", \"size\": 8}, \"showarrow\": false, \"text\": \"0\", \"x\": \"GROCERY\", \"xref\": \"x\", \"y\": \"CHAIR\", \"yref\": \"y\"}, {\"font\": {\"color\": \"#000000\", \"size\": 8}, \"showarrow\": false, \"text\": \"0\", \"x\": \"HANDBAG\", \"xref\": \"x\", \"y\": \"CHAIR\", \"yref\": \"y\"}, {\"font\": {\"color\": \"#000000\", \"size\": 8}, \"showarrow\": false, \"text\": \"1\", \"x\": \"HARDWARE_HANDLE\", \"xref\": \"x\", \"y\": \"CHAIR\", \"yref\": \"y\"}, {\"font\": {\"color\": \"#000000\", \"size\": 8}, \"showarrow\": false, \"text\": \"0\", \"x\": \"HAT\", \"xref\": \"x\", \"y\": \"CHAIR\", \"yref\": \"y\"}, {\"font\": {\"color\": \"#000000\", \"size\": 8}, \"showarrow\": false, \"text\": \"0\", \"x\": \"HEALTH_PERSONAL_CARE\", \"xref\": \"x\", \"y\": \"CHAIR\", \"yref\": \"y\"}, {\"font\": {\"color\": \"#000000\", \"size\": 8}, \"showarrow\": false, \"text\": \"3\", \"x\": \"HOME\", \"xref\": \"x\", \"y\": \"CHAIR\", \"yref\": \"y\"}, {\"font\": {\"color\": \"#000000\", \"size\": 8}, \"showarrow\": false, \"text\": \"3\", \"x\": \"HOME_BED_AND_BATH\", \"xref\": \"x\", \"y\": \"CHAIR\", \"yref\": \"y\"}, {\"font\": {\"color\": \"#000000\", \"size\": 8}, \"showarrow\": false, \"text\": \"51\", \"x\": \"HOME_FURNITURE_AND_DECOR\", \"xref\": \"x\", \"y\": \"CHAIR\", \"yref\": \"y\"}, {\"font\": {\"color\": \"#000000\", \"size\": 8}, \"showarrow\": false, \"text\": \"0\", \"x\": \"JANITORIAL_SUPPLY\", \"xref\": \"x\", \"y\": \"CHAIR\", \"yref\": \"y\"}, {\"font\": {\"color\": \"#000000\", \"size\": 8}, \"showarrow\": false, \"text\": \"0\", \"x\": \"KITCHEN\", \"xref\": \"x\", \"y\": \"CHAIR\", \"yref\": \"y\"}, {\"font\": {\"color\": \"#000000\", \"size\": 8}, \"showarrow\": false, \"text\": \"0\", \"x\": \"LAMP\", \"xref\": \"x\", \"y\": \"CHAIR\", \"yref\": \"y\"}, {\"font\": {\"color\": \"#000000\", \"size\": 8}, \"showarrow\": false, \"text\": \"0\", \"x\": \"LIGHT_BULB\", \"xref\": \"x\", \"y\": \"CHAIR\", \"yref\": \"y\"}, {\"font\": {\"color\": \"#000000\", \"size\": 8}, \"showarrow\": false, \"text\": \"0\", \"x\": \"LIGHT_FIXTURE\", \"xref\": \"x\", \"y\": \"CHAIR\", \"yref\": \"y\"}, {\"font\": {\"color\": \"#000000\", \"size\": 8}, \"showarrow\": false, \"text\": \"0\", \"x\": \"OFFICE_PRODUCTS\", \"xref\": \"x\", \"y\": \"CHAIR\", \"yref\": \"y\"}, {\"font\": {\"color\": \"#000000\", \"size\": 8}, \"showarrow\": false, \"text\": \"3\", \"x\": \"OUTDOOR_LIVING\", \"xref\": \"x\", \"y\": \"CHAIR\", \"yref\": \"y\"}, {\"font\": {\"color\": \"#000000\", \"size\": 8}, \"showarrow\": false, \"text\": \"0\", \"x\": \"PET_SUPPLIES\", \"xref\": \"x\", \"y\": \"CHAIR\", \"yref\": \"y\"}, {\"font\": {\"color\": \"#000000\", \"size\": 8}, \"showarrow\": false, \"text\": \"0\", \"x\": \"RUG\", \"xref\": \"x\", \"y\": \"CHAIR\", \"yref\": \"y\"}, {\"font\": {\"color\": \"#000000\", \"size\": 8}, \"showarrow\": false, \"text\": \"0\", \"x\": \"SANDAL\", \"xref\": \"x\", \"y\": \"CHAIR\", \"yref\": \"y\"}, {\"font\": {\"color\": \"#000000\", \"size\": 8}, \"showarrow\": false, \"text\": \"0\", \"x\": \"SHOES\", \"xref\": \"x\", \"y\": \"CHAIR\", \"yref\": \"y\"}, {\"font\": {\"color\": \"#000000\", \"size\": 8}, \"showarrow\": false, \"text\": \"40\", \"x\": \"SOFA\", \"xref\": \"x\", \"y\": \"CHAIR\", \"yref\": \"y\"}, {\"font\": {\"color\": \"#000000\", \"size\": 8}, \"showarrow\": false, \"text\": \"0\", \"x\": \"SPORTING_GOODS\", \"xref\": \"x\", \"y\": \"CHAIR\", \"yref\": \"y\"}, {\"font\": {\"color\": \"#000000\", \"size\": 8}, \"showarrow\": false, \"text\": \"5\", \"x\": \"TABLE\", \"xref\": \"x\", \"y\": \"CHAIR\", \"yref\": \"y\"}, {\"font\": {\"color\": \"#000000\", \"size\": 8}, \"showarrow\": false, \"text\": \"0\", \"x\": \"WALL_ART\", \"xref\": \"x\", \"y\": \"CHAIR\", \"yref\": \"y\"}, {\"font\": {\"color\": \"#000000\", \"size\": 8}, \"showarrow\": false, \"text\": \"0\", \"x\": \"ACCESSORY\", \"xref\": \"x\", \"y\": \"CELLULAR_PHONE_CASE\", \"yref\": \"y\"}, {\"font\": {\"color\": \"#000000\", \"size\": 8}, \"showarrow\": false, \"text\": \"0\", \"x\": \"BOOT\", \"xref\": \"x\", \"y\": \"CELLULAR_PHONE_CASE\", \"yref\": \"y\"}, {\"font\": {\"color\": \"#FFFFFF\", \"size\": 8}, \"showarrow\": false, \"text\": \"12969\", \"x\": \"CELLULAR_PHONE_CASE\", \"xref\": \"x\", \"y\": \"CELLULAR_PHONE_CASE\", \"yref\": \"y\"}, {\"font\": {\"color\": \"#000000\", \"size\": 8}, \"showarrow\": false, \"text\": \"0\", \"x\": \"CHAIR\", \"xref\": \"x\", \"y\": \"CELLULAR_PHONE_CASE\", \"yref\": \"y\"}, {\"font\": {\"color\": \"#000000\", \"size\": 8}, \"showarrow\": false, \"text\": \"0\", \"x\": \"EARRING\", \"xref\": \"x\", \"y\": \"CELLULAR_PHONE_CASE\", \"yref\": \"y\"}, {\"font\": {\"color\": \"#000000\", \"size\": 8}, \"showarrow\": false, \"text\": \"0\", \"x\": \"FINEEARRING\", \"xref\": \"x\", \"y\": \"CELLULAR_PHONE_CASE\", \"yref\": \"y\"}, {\"font\": {\"color\": \"#000000\", \"size\": 8}, \"showarrow\": false, \"text\": \"0\", \"x\": \"FINENECKLACEBRACELETANKLET\", \"xref\": \"x\", \"y\": \"CELLULAR_PHONE_CASE\", \"yref\": \"y\"}, {\"font\": {\"color\": \"#000000\", \"size\": 8}, \"showarrow\": false, \"text\": \"0\", \"x\": \"FINERING\", \"xref\": \"x\", \"y\": \"CELLULAR_PHONE_CASE\", \"yref\": \"y\"}, {\"font\": {\"color\": \"#000000\", \"size\": 8}, \"showarrow\": false, \"text\": \"0\", \"x\": \"GROCERY\", \"xref\": \"x\", \"y\": \"CELLULAR_PHONE_CASE\", \"yref\": \"y\"}, {\"font\": {\"color\": \"#000000\", \"size\": 8}, \"showarrow\": false, \"text\": \"0\", \"x\": \"HANDBAG\", \"xref\": \"x\", \"y\": \"CELLULAR_PHONE_CASE\", \"yref\": \"y\"}, {\"font\": {\"color\": \"#000000\", \"size\": 8}, \"showarrow\": false, \"text\": \"0\", \"x\": \"HARDWARE_HANDLE\", \"xref\": \"x\", \"y\": \"CELLULAR_PHONE_CASE\", \"yref\": \"y\"}, {\"font\": {\"color\": \"#000000\", \"size\": 8}, \"showarrow\": false, \"text\": \"0\", \"x\": \"HAT\", \"xref\": \"x\", \"y\": \"CELLULAR_PHONE_CASE\", \"yref\": \"y\"}, {\"font\": {\"color\": \"#000000\", \"size\": 8}, \"showarrow\": false, \"text\": \"0\", \"x\": \"HEALTH_PERSONAL_CARE\", \"xref\": \"x\", \"y\": \"CELLULAR_PHONE_CASE\", \"yref\": \"y\"}, {\"font\": {\"color\": \"#000000\", \"size\": 8}, \"showarrow\": false, \"text\": \"0\", \"x\": \"HOME\", \"xref\": \"x\", \"y\": \"CELLULAR_PHONE_CASE\", \"yref\": \"y\"}, {\"font\": {\"color\": \"#000000\", \"size\": 8}, \"showarrow\": false, \"text\": \"0\", \"x\": \"HOME_BED_AND_BATH\", \"xref\": \"x\", \"y\": \"CELLULAR_PHONE_CASE\", \"yref\": \"y\"}, {\"font\": {\"color\": \"#000000\", \"size\": 8}, \"showarrow\": false, \"text\": \"0\", \"x\": \"HOME_FURNITURE_AND_DECOR\", \"xref\": \"x\", \"y\": \"CELLULAR_PHONE_CASE\", \"yref\": \"y\"}, {\"font\": {\"color\": \"#000000\", \"size\": 8}, \"showarrow\": false, \"text\": \"1\", \"x\": \"JANITORIAL_SUPPLY\", \"xref\": \"x\", \"y\": \"CELLULAR_PHONE_CASE\", \"yref\": \"y\"}, {\"font\": {\"color\": \"#000000\", \"size\": 8}, \"showarrow\": false, \"text\": \"0\", \"x\": \"KITCHEN\", \"xref\": \"x\", \"y\": \"CELLULAR_PHONE_CASE\", \"yref\": \"y\"}, {\"font\": {\"color\": \"#000000\", \"size\": 8}, \"showarrow\": false, \"text\": \"0\", \"x\": \"LAMP\", \"xref\": \"x\", \"y\": \"CELLULAR_PHONE_CASE\", \"yref\": \"y\"}, {\"font\": {\"color\": \"#000000\", \"size\": 8}, \"showarrow\": false, \"text\": \"0\", \"x\": \"LIGHT_BULB\", \"xref\": \"x\", \"y\": \"CELLULAR_PHONE_CASE\", \"yref\": \"y\"}, {\"font\": {\"color\": \"#000000\", \"size\": 8}, \"showarrow\": false, \"text\": \"0\", \"x\": \"LIGHT_FIXTURE\", \"xref\": \"x\", \"y\": \"CELLULAR_PHONE_CASE\", \"yref\": \"y\"}, {\"font\": {\"color\": \"#000000\", \"size\": 8}, \"showarrow\": false, \"text\": \"0\", \"x\": \"OFFICE_PRODUCTS\", \"xref\": \"x\", \"y\": \"CELLULAR_PHONE_CASE\", \"yref\": \"y\"}, {\"font\": {\"color\": \"#000000\", \"size\": 8}, \"showarrow\": false, \"text\": \"0\", \"x\": \"OUTDOOR_LIVING\", \"xref\": \"x\", \"y\": \"CELLULAR_PHONE_CASE\", \"yref\": \"y\"}, {\"font\": {\"color\": \"#000000\", \"size\": 8}, \"showarrow\": false, \"text\": \"0\", \"x\": \"PET_SUPPLIES\", \"xref\": \"x\", \"y\": \"CELLULAR_PHONE_CASE\", \"yref\": \"y\"}, {\"font\": {\"color\": \"#000000\", \"size\": 8}, \"showarrow\": false, \"text\": \"0\", \"x\": \"RUG\", \"xref\": \"x\", \"y\": \"CELLULAR_PHONE_CASE\", \"yref\": \"y\"}, {\"font\": {\"color\": \"#000000\", \"size\": 8}, \"showarrow\": false, \"text\": \"0\", \"x\": \"SANDAL\", \"xref\": \"x\", \"y\": \"CELLULAR_PHONE_CASE\", \"yref\": \"y\"}, {\"font\": {\"color\": \"#000000\", \"size\": 8}, \"showarrow\": false, \"text\": \"0\", \"x\": \"SHOES\", \"xref\": \"x\", \"y\": \"CELLULAR_PHONE_CASE\", \"yref\": \"y\"}, {\"font\": {\"color\": \"#000000\", \"size\": 8}, \"showarrow\": false, \"text\": \"0\", \"x\": \"SOFA\", \"xref\": \"x\", \"y\": \"CELLULAR_PHONE_CASE\", \"yref\": \"y\"}, {\"font\": {\"color\": \"#000000\", \"size\": 8}, \"showarrow\": false, \"text\": \"0\", \"x\": \"SPORTING_GOODS\", \"xref\": \"x\", \"y\": \"CELLULAR_PHONE_CASE\", \"yref\": \"y\"}, {\"font\": {\"color\": \"#000000\", \"size\": 8}, \"showarrow\": false, \"text\": \"0\", \"x\": \"TABLE\", \"xref\": \"x\", \"y\": \"CELLULAR_PHONE_CASE\", \"yref\": \"y\"}, {\"font\": {\"color\": \"#000000\", \"size\": 8}, \"showarrow\": false, \"text\": \"0\", \"x\": \"WALL_ART\", \"xref\": \"x\", \"y\": \"CELLULAR_PHONE_CASE\", \"yref\": \"y\"}, {\"font\": {\"color\": \"#000000\", \"size\": 8}, \"showarrow\": false, \"text\": \"0\", \"x\": \"ACCESSORY\", \"xref\": \"x\", \"y\": \"BOOT\", \"yref\": \"y\"}, {\"font\": {\"color\": \"#000000\", \"size\": 8}, \"showarrow\": false, \"text\": \"370\", \"x\": \"BOOT\", \"xref\": \"x\", \"y\": \"BOOT\", \"yref\": \"y\"}, {\"font\": {\"color\": \"#000000\", \"size\": 8}, \"showarrow\": false, \"text\": \"0\", \"x\": \"CELLULAR_PHONE_CASE\", \"xref\": \"x\", \"y\": \"BOOT\", \"yref\": \"y\"}, {\"font\": {\"color\": \"#000000\", \"size\": 8}, \"showarrow\": false, \"text\": \"0\", \"x\": \"CHAIR\", \"xref\": \"x\", \"y\": \"BOOT\", \"yref\": \"y\"}, {\"font\": {\"color\": \"#000000\", \"size\": 8}, \"showarrow\": false, \"text\": \"0\", \"x\": \"EARRING\", \"xref\": \"x\", \"y\": \"BOOT\", \"yref\": \"y\"}, {\"font\": {\"color\": \"#000000\", \"size\": 8}, \"showarrow\": false, \"text\": \"0\", \"x\": \"FINEEARRING\", \"xref\": \"x\", \"y\": \"BOOT\", \"yref\": \"y\"}, {\"font\": {\"color\": \"#000000\", \"size\": 8}, \"showarrow\": false, \"text\": \"0\", \"x\": \"FINENECKLACEBRACELETANKLET\", \"xref\": \"x\", \"y\": \"BOOT\", \"yref\": \"y\"}, {\"font\": {\"color\": \"#000000\", \"size\": 8}, \"showarrow\": false, \"text\": \"0\", \"x\": \"FINERING\", \"xref\": \"x\", \"y\": \"BOOT\", \"yref\": \"y\"}, {\"font\": {\"color\": \"#000000\", \"size\": 8}, \"showarrow\": false, \"text\": \"0\", \"x\": \"GROCERY\", \"xref\": \"x\", \"y\": \"BOOT\", \"yref\": \"y\"}, {\"font\": {\"color\": \"#000000\", \"size\": 8}, \"showarrow\": false, \"text\": \"1\", \"x\": \"HANDBAG\", \"xref\": \"x\", \"y\": \"BOOT\", \"yref\": \"y\"}, {\"font\": {\"color\": \"#000000\", \"size\": 8}, \"showarrow\": false, \"text\": \"0\", \"x\": \"HARDWARE_HANDLE\", \"xref\": \"x\", \"y\": \"BOOT\", \"yref\": \"y\"}, {\"font\": {\"color\": \"#000000\", \"size\": 8}, \"showarrow\": false, \"text\": \"0\", \"x\": \"HAT\", \"xref\": \"x\", \"y\": \"BOOT\", \"yref\": \"y\"}, {\"font\": {\"color\": \"#000000\", \"size\": 8}, \"showarrow\": false, \"text\": \"0\", \"x\": \"HEALTH_PERSONAL_CARE\", \"xref\": \"x\", \"y\": \"BOOT\", \"yref\": \"y\"}, {\"font\": {\"color\": \"#000000\", \"size\": 8}, \"showarrow\": false, \"text\": \"0\", \"x\": \"HOME\", \"xref\": \"x\", \"y\": \"BOOT\", \"yref\": \"y\"}, {\"font\": {\"color\": \"#000000\", \"size\": 8}, \"showarrow\": false, \"text\": \"0\", \"x\": \"HOME_BED_AND_BATH\", \"xref\": \"x\", \"y\": \"BOOT\", \"yref\": \"y\"}, {\"font\": {\"color\": \"#000000\", \"size\": 8}, \"showarrow\": false, \"text\": \"0\", \"x\": \"HOME_FURNITURE_AND_DECOR\", \"xref\": \"x\", \"y\": \"BOOT\", \"yref\": \"y\"}, {\"font\": {\"color\": \"#000000\", \"size\": 8}, \"showarrow\": false, \"text\": \"0\", \"x\": \"JANITORIAL_SUPPLY\", \"xref\": \"x\", \"y\": \"BOOT\", \"yref\": \"y\"}, {\"font\": {\"color\": \"#000000\", \"size\": 8}, \"showarrow\": false, \"text\": \"0\", \"x\": \"KITCHEN\", \"xref\": \"x\", \"y\": \"BOOT\", \"yref\": \"y\"}, {\"font\": {\"color\": \"#000000\", \"size\": 8}, \"showarrow\": false, \"text\": \"0\", \"x\": \"LAMP\", \"xref\": \"x\", \"y\": \"BOOT\", \"yref\": \"y\"}, {\"font\": {\"color\": \"#000000\", \"size\": 8}, \"showarrow\": false, \"text\": \"0\", \"x\": \"LIGHT_BULB\", \"xref\": \"x\", \"y\": \"BOOT\", \"yref\": \"y\"}, {\"font\": {\"color\": \"#000000\", \"size\": 8}, \"showarrow\": false, \"text\": \"0\", \"x\": \"LIGHT_FIXTURE\", \"xref\": \"x\", \"y\": \"BOOT\", \"yref\": \"y\"}, {\"font\": {\"color\": \"#000000\", \"size\": 8}, \"showarrow\": false, \"text\": \"0\", \"x\": \"OFFICE_PRODUCTS\", \"xref\": \"x\", \"y\": \"BOOT\", \"yref\": \"y\"}, {\"font\": {\"color\": \"#000000\", \"size\": 8}, \"showarrow\": false, \"text\": \"0\", \"x\": \"OUTDOOR_LIVING\", \"xref\": \"x\", \"y\": \"BOOT\", \"yref\": \"y\"}, {\"font\": {\"color\": \"#000000\", \"size\": 8}, \"showarrow\": false, \"text\": \"1\", \"x\": \"PET_SUPPLIES\", \"xref\": \"x\", \"y\": \"BOOT\", \"yref\": \"y\"}, {\"font\": {\"color\": \"#000000\", \"size\": 8}, \"showarrow\": false, \"text\": \"0\", \"x\": \"RUG\", \"xref\": \"x\", \"y\": \"BOOT\", \"yref\": \"y\"}, {\"font\": {\"color\": \"#000000\", \"size\": 8}, \"showarrow\": false, \"text\": \"2\", \"x\": \"SANDAL\", \"xref\": \"x\", \"y\": \"BOOT\", \"yref\": \"y\"}, {\"font\": {\"color\": \"#000000\", \"size\": 8}, \"showarrow\": false, \"text\": \"28\", \"x\": \"SHOES\", \"xref\": \"x\", \"y\": \"BOOT\", \"yref\": \"y\"}, {\"font\": {\"color\": \"#000000\", \"size\": 8}, \"showarrow\": false, \"text\": \"0\", \"x\": \"SOFA\", \"xref\": \"x\", \"y\": \"BOOT\", \"yref\": \"y\"}, {\"font\": {\"color\": \"#000000\", \"size\": 8}, \"showarrow\": false, \"text\": \"0\", \"x\": \"SPORTING_GOODS\", \"xref\": \"x\", \"y\": \"BOOT\", \"yref\": \"y\"}, {\"font\": {\"color\": \"#000000\", \"size\": 8}, \"showarrow\": false, \"text\": \"0\", \"x\": \"TABLE\", \"xref\": \"x\", \"y\": \"BOOT\", \"yref\": \"y\"}, {\"font\": {\"color\": \"#000000\", \"size\": 8}, \"showarrow\": false, \"text\": \"0\", \"x\": \"WALL_ART\", \"xref\": \"x\", \"y\": \"BOOT\", \"yref\": \"y\"}, {\"font\": {\"color\": \"#000000\", \"size\": 8}, \"showarrow\": false, \"text\": \"264\", \"x\": \"ACCESSORY\", \"xref\": \"x\", \"y\": \"ACCESSORY\", \"yref\": \"y\"}, {\"font\": {\"color\": \"#000000\", \"size\": 8}, \"showarrow\": false, \"text\": \"1\", \"x\": \"BOOT\", \"xref\": \"x\", \"y\": \"ACCESSORY\", \"yref\": \"y\"}, {\"font\": {\"color\": \"#000000\", \"size\": 8}, \"showarrow\": false, \"text\": \"0\", \"x\": \"CELLULAR_PHONE_CASE\", \"xref\": \"x\", \"y\": \"ACCESSORY\", \"yref\": \"y\"}, {\"font\": {\"color\": \"#000000\", \"size\": 8}, \"showarrow\": false, \"text\": \"0\", \"x\": \"CHAIR\", \"xref\": \"x\", \"y\": \"ACCESSORY\", \"yref\": \"y\"}, {\"font\": {\"color\": \"#000000\", \"size\": 8}, \"showarrow\": false, \"text\": \"0\", \"x\": \"EARRING\", \"xref\": \"x\", \"y\": \"ACCESSORY\", \"yref\": \"y\"}, {\"font\": {\"color\": \"#000000\", \"size\": 8}, \"showarrow\": false, \"text\": \"0\", \"x\": \"FINEEARRING\", \"xref\": \"x\", \"y\": \"ACCESSORY\", \"yref\": \"y\"}, {\"font\": {\"color\": \"#000000\", \"size\": 8}, \"showarrow\": false, \"text\": \"0\", \"x\": \"FINENECKLACEBRACELETANKLET\", \"xref\": \"x\", \"y\": \"ACCESSORY\", \"yref\": \"y\"}, {\"font\": {\"color\": \"#000000\", \"size\": 8}, \"showarrow\": false, \"text\": \"0\", \"x\": \"FINERING\", \"xref\": \"x\", \"y\": \"ACCESSORY\", \"yref\": \"y\"}, {\"font\": {\"color\": \"#000000\", \"size\": 8}, \"showarrow\": false, \"text\": \"0\", \"x\": \"GROCERY\", \"xref\": \"x\", \"y\": \"ACCESSORY\", \"yref\": \"y\"}, {\"font\": {\"color\": \"#000000\", \"size\": 8}, \"showarrow\": false, \"text\": \"3\", \"x\": \"HANDBAG\", \"xref\": \"x\", \"y\": \"ACCESSORY\", \"yref\": \"y\"}, {\"font\": {\"color\": \"#000000\", \"size\": 8}, \"showarrow\": false, \"text\": \"0\", \"x\": \"HARDWARE_HANDLE\", \"xref\": \"x\", \"y\": \"ACCESSORY\", \"yref\": \"y\"}, {\"font\": {\"color\": \"#000000\", \"size\": 8}, \"showarrow\": false, \"text\": \"4\", \"x\": \"HAT\", \"xref\": \"x\", \"y\": \"ACCESSORY\", \"yref\": \"y\"}, {\"font\": {\"color\": \"#000000\", \"size\": 8}, \"showarrow\": false, \"text\": \"0\", \"x\": \"HEALTH_PERSONAL_CARE\", \"xref\": \"x\", \"y\": \"ACCESSORY\", \"yref\": \"y\"}, {\"font\": {\"color\": \"#000000\", \"size\": 8}, \"showarrow\": false, \"text\": \"1\", \"x\": \"HOME\", \"xref\": \"x\", \"y\": \"ACCESSORY\", \"yref\": \"y\"}, {\"font\": {\"color\": \"#000000\", \"size\": 8}, \"showarrow\": false, \"text\": \"0\", \"x\": \"HOME_BED_AND_BATH\", \"xref\": \"x\", \"y\": \"ACCESSORY\", \"yref\": \"y\"}, {\"font\": {\"color\": \"#000000\", \"size\": 8}, \"showarrow\": false, \"text\": \"0\", \"x\": \"HOME_FURNITURE_AND_DECOR\", \"xref\": \"x\", \"y\": \"ACCESSORY\", \"yref\": \"y\"}, {\"font\": {\"color\": \"#000000\", \"size\": 8}, \"showarrow\": false, \"text\": \"0\", \"x\": \"JANITORIAL_SUPPLY\", \"xref\": \"x\", \"y\": \"ACCESSORY\", \"yref\": \"y\"}, {\"font\": {\"color\": \"#000000\", \"size\": 8}, \"showarrow\": false, \"text\": \"0\", \"x\": \"KITCHEN\", \"xref\": \"x\", \"y\": \"ACCESSORY\", \"yref\": \"y\"}, {\"font\": {\"color\": \"#000000\", \"size\": 8}, \"showarrow\": false, \"text\": \"0\", \"x\": \"LAMP\", \"xref\": \"x\", \"y\": \"ACCESSORY\", \"yref\": \"y\"}, {\"font\": {\"color\": \"#000000\", \"size\": 8}, \"showarrow\": false, \"text\": \"0\", \"x\": \"LIGHT_BULB\", \"xref\": \"x\", \"y\": \"ACCESSORY\", \"yref\": \"y\"}, {\"font\": {\"color\": \"#000000\", \"size\": 8}, \"showarrow\": false, \"text\": \"0\", \"x\": \"LIGHT_FIXTURE\", \"xref\": \"x\", \"y\": \"ACCESSORY\", \"yref\": \"y\"}, {\"font\": {\"color\": \"#000000\", \"size\": 8}, \"showarrow\": false, \"text\": \"0\", \"x\": \"OFFICE_PRODUCTS\", \"xref\": \"x\", \"y\": \"ACCESSORY\", \"yref\": \"y\"}, {\"font\": {\"color\": \"#000000\", \"size\": 8}, \"showarrow\": false, \"text\": \"0\", \"x\": \"OUTDOOR_LIVING\", \"xref\": \"x\", \"y\": \"ACCESSORY\", \"yref\": \"y\"}, {\"font\": {\"color\": \"#000000\", \"size\": 8}, \"showarrow\": false, \"text\": \"0\", \"x\": \"PET_SUPPLIES\", \"xref\": \"x\", \"y\": \"ACCESSORY\", \"yref\": \"y\"}, {\"font\": {\"color\": \"#000000\", \"size\": 8}, \"showarrow\": false, \"text\": \"0\", \"x\": \"RUG\", \"xref\": \"x\", \"y\": \"ACCESSORY\", \"yref\": \"y\"}, {\"font\": {\"color\": \"#000000\", \"size\": 8}, \"showarrow\": false, \"text\": \"0\", \"x\": \"SANDAL\", \"xref\": \"x\", \"y\": \"ACCESSORY\", \"yref\": \"y\"}, {\"font\": {\"color\": \"#000000\", \"size\": 8}, \"showarrow\": false, \"text\": \"0\", \"x\": \"SHOES\", \"xref\": \"x\", \"y\": \"ACCESSORY\", \"yref\": \"y\"}, {\"font\": {\"color\": \"#000000\", \"size\": 8}, \"showarrow\": false, \"text\": \"0\", \"x\": \"SOFA\", \"xref\": \"x\", \"y\": \"ACCESSORY\", \"yref\": \"y\"}, {\"font\": {\"color\": \"#000000\", \"size\": 8}, \"showarrow\": false, \"text\": \"0\", \"x\": \"SPORTING_GOODS\", \"xref\": \"x\", \"y\": \"ACCESSORY\", \"yref\": \"y\"}, {\"font\": {\"color\": \"#000000\", \"size\": 8}, \"showarrow\": false, \"text\": \"0\", \"x\": \"TABLE\", \"xref\": \"x\", \"y\": \"ACCESSORY\", \"yref\": \"y\"}, {\"font\": {\"color\": \"#000000\", \"size\": 8}, \"showarrow\": false, \"text\": \"0\", \"x\": \"WALL_ART\", \"xref\": \"x\", \"y\": \"ACCESSORY\", \"yref\": \"y\"}], \"autosize\": false, \"height\": 1000, \"template\": {\"data\": {\"bar\": [{\"error_x\": {\"color\": \"#2a3f5f\"}, \"error_y\": {\"color\": \"#2a3f5f\"}, \"marker\": {\"line\": {\"color\": \"#E5ECF6\", \"width\": 0.5}}, \"type\": \"bar\"}], \"barpolar\": [{\"marker\": {\"line\": {\"color\": \"#E5ECF6\", \"width\": 0.5}}, \"type\": \"barpolar\"}], \"carpet\": [{\"aaxis\": {\"endlinecolor\": \"#2a3f5f\", \"gridcolor\": \"white\", \"linecolor\": \"white\", \"minorgridcolor\": \"white\", \"startlinecolor\": \"#2a3f5f\"}, \"baxis\": {\"endlinecolor\": \"#2a3f5f\", \"gridcolor\": \"white\", \"linecolor\": \"white\", \"minorgridcolor\": \"white\", \"startlinecolor\": \"#2a3f5f\"}, \"type\": \"carpet\"}], \"choropleth\": [{\"colorbar\": {\"outlinewidth\": 0, \"ticks\": \"\"}, \"type\": \"choropleth\"}], \"contour\": [{\"colorbar\": {\"outlinewidth\": 0, \"ticks\": \"\"}, \"colorscale\": [[0.0, \"#0d0887\"], [0.1111111111111111, \"#46039f\"], [0.2222222222222222, \"#7201a8\"], [0.3333333333333333, \"#9c179e\"], [0.4444444444444444, \"#bd3786\"], [0.5555555555555556, \"#d8576b\"], [0.6666666666666666, \"#ed7953\"], [0.7777777777777778, \"#fb9f3a\"], [0.8888888888888888, \"#fdca26\"], [1.0, \"#f0f921\"]], \"type\": \"contour\"}], \"contourcarpet\": [{\"colorbar\": {\"outlinewidth\": 0, \"ticks\": \"\"}, \"type\": \"contourcarpet\"}], \"heatmap\": [{\"colorbar\": {\"outlinewidth\": 0, \"ticks\": \"\"}, \"colorscale\": [[0.0, \"#0d0887\"], [0.1111111111111111, \"#46039f\"], [0.2222222222222222, \"#7201a8\"], [0.3333333333333333, \"#9c179e\"], [0.4444444444444444, \"#bd3786\"], [0.5555555555555556, \"#d8576b\"], [0.6666666666666666, \"#ed7953\"], [0.7777777777777778, \"#fb9f3a\"], [0.8888888888888888, \"#fdca26\"], [1.0, \"#f0f921\"]], \"type\": \"heatmap\"}], \"heatmapgl\": [{\"colorbar\": {\"outlinewidth\": 0, \"ticks\": \"\"}, \"colorscale\": [[0.0, \"#0d0887\"], [0.1111111111111111, \"#46039f\"], [0.2222222222222222, \"#7201a8\"], [0.3333333333333333, \"#9c179e\"], [0.4444444444444444, \"#bd3786\"], [0.5555555555555556, \"#d8576b\"], [0.6666666666666666, \"#ed7953\"], [0.7777777777777778, \"#fb9f3a\"], [0.8888888888888888, \"#fdca26\"], [1.0, \"#f0f921\"]], \"type\": \"heatmapgl\"}], \"histogram\": [{\"marker\": {\"colorbar\": {\"outlinewidth\": 0, \"ticks\": \"\"}}, \"type\": \"histogram\"}], \"histogram2d\": [{\"colorbar\": {\"outlinewidth\": 0, \"ticks\": \"\"}, \"colorscale\": [[0.0, \"#0d0887\"], [0.1111111111111111, \"#46039f\"], [0.2222222222222222, \"#7201a8\"], [0.3333333333333333, \"#9c179e\"], [0.4444444444444444, \"#bd3786\"], [0.5555555555555556, \"#d8576b\"], [0.6666666666666666, \"#ed7953\"], [0.7777777777777778, \"#fb9f3a\"], [0.8888888888888888, \"#fdca26\"], [1.0, \"#f0f921\"]], \"type\": \"histogram2d\"}], \"histogram2dcontour\": [{\"colorbar\": {\"outlinewidth\": 0, \"ticks\": \"\"}, \"colorscale\": [[0.0, \"#0d0887\"], [0.1111111111111111, \"#46039f\"], [0.2222222222222222, \"#7201a8\"], [0.3333333333333333, \"#9c179e\"], [0.4444444444444444, \"#bd3786\"], [0.5555555555555556, \"#d8576b\"], [0.6666666666666666, \"#ed7953\"], [0.7777777777777778, \"#fb9f3a\"], [0.8888888888888888, \"#fdca26\"], [1.0, \"#f0f921\"]], \"type\": \"histogram2dcontour\"}], \"mesh3d\": [{\"colorbar\": {\"outlinewidth\": 0, \"ticks\": \"\"}, \"type\": \"mesh3d\"}], \"parcoords\": [{\"line\": {\"colorbar\": {\"outlinewidth\": 0, \"ticks\": \"\"}}, \"type\": \"parcoords\"}], \"pie\": [{\"automargin\": true, \"type\": \"pie\"}], \"scatter\": [{\"marker\": {\"colorbar\": {\"outlinewidth\": 0, \"ticks\": \"\"}}, \"type\": \"scatter\"}], \"scatter3d\": [{\"line\": {\"colorbar\": {\"outlinewidth\": 0, \"ticks\": \"\"}}, \"marker\": {\"colorbar\": {\"outlinewidth\": 0, \"ticks\": \"\"}}, \"type\": \"scatter3d\"}], \"scattercarpet\": [{\"marker\": {\"colorbar\": {\"outlinewidth\": 0, \"ticks\": \"\"}}, \"type\": \"scattercarpet\"}], \"scattergeo\": [{\"marker\": {\"colorbar\": {\"outlinewidth\": 0, \"ticks\": \"\"}}, \"type\": \"scattergeo\"}], \"scattergl\": [{\"marker\": {\"colorbar\": {\"outlinewidth\": 0, \"ticks\": \"\"}}, \"type\": \"scattergl\"}], \"scattermapbox\": [{\"marker\": {\"colorbar\": {\"outlinewidth\": 0, \"ticks\": \"\"}}, \"type\": \"scattermapbox\"}], \"scatterpolar\": [{\"marker\": {\"colorbar\": {\"outlinewidth\": 0, \"ticks\": \"\"}}, \"type\": \"scatterpolar\"}], \"scatterpolargl\": [{\"marker\": {\"colorbar\": {\"outlinewidth\": 0, \"ticks\": \"\"}}, \"type\": \"scatterpolargl\"}], \"scatterternary\": [{\"marker\": {\"colorbar\": {\"outlinewidth\": 0, \"ticks\": \"\"}}, \"type\": \"scatterternary\"}], \"surface\": [{\"colorbar\": {\"outlinewidth\": 0, \"ticks\": \"\"}, \"colorscale\": [[0.0, \"#0d0887\"], [0.1111111111111111, \"#46039f\"], [0.2222222222222222, \"#7201a8\"], [0.3333333333333333, \"#9c179e\"], [0.4444444444444444, \"#bd3786\"], [0.5555555555555556, \"#d8576b\"], [0.6666666666666666, \"#ed7953\"], [0.7777777777777778, \"#fb9f3a\"], [0.8888888888888888, \"#fdca26\"], [1.0, \"#f0f921\"]], \"type\": \"surface\"}], \"table\": [{\"cells\": {\"fill\": {\"color\": \"#EBF0F8\"}, \"line\": {\"color\": \"white\"}}, \"header\": {\"fill\": {\"color\": \"#C8D4E3\"}, \"line\": {\"color\": \"white\"}}, \"type\": \"table\"}]}, \"layout\": {\"annotationdefaults\": {\"arrowcolor\": \"#2a3f5f\", \"arrowhead\": 0, \"arrowwidth\": 1}, \"autotypenumbers\": \"strict\", \"coloraxis\": {\"colorbar\": {\"outlinewidth\": 0, \"ticks\": \"\"}}, \"colorscale\": {\"diverging\": [[0, \"#8e0152\"], [0.1, \"#c51b7d\"], [0.2, \"#de77ae\"], [0.3, \"#f1b6da\"], [0.4, \"#fde0ef\"], [0.5, \"#f7f7f7\"], [0.6, \"#e6f5d0\"], [0.7, \"#b8e186\"], [0.8, \"#7fbc41\"], [0.9, \"#4d9221\"], [1, \"#276419\"]], \"sequential\": [[0.0, \"#0d0887\"], [0.1111111111111111, \"#46039f\"], [0.2222222222222222, \"#7201a8\"], [0.3333333333333333, \"#9c179e\"], [0.4444444444444444, \"#bd3786\"], [0.5555555555555556, \"#d8576b\"], [0.6666666666666666, \"#ed7953\"], [0.7777777777777778, \"#fb9f3a\"], [0.8888888888888888, \"#fdca26\"], [1.0, \"#f0f921\"]], \"sequentialminus\": [[0.0, \"#0d0887\"], [0.1111111111111111, \"#46039f\"], [0.2222222222222222, \"#7201a8\"], [0.3333333333333333, \"#9c179e\"], [0.4444444444444444, \"#bd3786\"], [0.5555555555555556, \"#d8576b\"], [0.6666666666666666, \"#ed7953\"], [0.7777777777777778, \"#fb9f3a\"], [0.8888888888888888, \"#fdca26\"], [1.0, \"#f0f921\"]]}, \"colorway\": [\"#636efa\", \"#EF553B\", \"#00cc96\", \"#ab63fa\", \"#FFA15A\", \"#19d3f3\", \"#FF6692\", \"#B6E880\", \"#FF97FF\", \"#FECB52\"], \"font\": {\"color\": \"#2a3f5f\"}, \"geo\": {\"bgcolor\": \"white\", \"lakecolor\": \"white\", \"landcolor\": \"#E5ECF6\", \"showlakes\": true, \"showland\": true, \"subunitcolor\": \"white\"}, \"hoverlabel\": {\"align\": \"left\"}, \"hovermode\": \"closest\", \"mapbox\": {\"style\": \"light\"}, \"paper_bgcolor\": \"white\", \"plot_bgcolor\": \"#E5ECF6\", \"polar\": {\"angularaxis\": {\"gridcolor\": \"white\", \"linecolor\": \"white\", \"ticks\": \"\"}, \"bgcolor\": \"#E5ECF6\", \"radialaxis\": {\"gridcolor\": \"white\", \"linecolor\": \"white\", \"ticks\": \"\"}}, \"scene\": {\"xaxis\": {\"backgroundcolor\": \"#E5ECF6\", \"gridcolor\": \"white\", \"gridwidth\": 2, \"linecolor\": \"white\", \"showbackground\": true, \"ticks\": \"\", \"zerolinecolor\": \"white\"}, \"yaxis\": {\"backgroundcolor\": \"#E5ECF6\", \"gridcolor\": \"white\", \"gridwidth\": 2, \"linecolor\": \"white\", \"showbackground\": true, \"ticks\": \"\", \"zerolinecolor\": \"white\"}, \"zaxis\": {\"backgroundcolor\": \"#E5ECF6\", \"gridcolor\": \"white\", \"gridwidth\": 2, \"linecolor\": \"white\", \"showbackground\": true, \"ticks\": \"\", \"zerolinecolor\": \"white\"}}, \"shapedefaults\": {\"line\": {\"color\": \"#2a3f5f\"}}, \"ternary\": {\"aaxis\": {\"gridcolor\": \"white\", \"linecolor\": \"white\", \"ticks\": \"\"}, \"baxis\": {\"gridcolor\": \"white\", \"linecolor\": \"white\", \"ticks\": \"\"}, \"bgcolor\": \"#E5ECF6\", \"caxis\": {\"gridcolor\": \"white\", \"linecolor\": \"white\", \"ticks\": \"\"}}, \"title\": {\"x\": 0.05}, \"xaxis\": {\"automargin\": true, \"gridcolor\": \"white\", \"linecolor\": \"white\", \"ticks\": \"\", \"title\": {\"standoff\": 15}, \"zerolinecolor\": \"white\", \"zerolinewidth\": 2}, \"yaxis\": {\"automargin\": true, \"gridcolor\": \"white\", \"linecolor\": \"white\", \"ticks\": \"\", \"title\": {\"standoff\": 15}, \"zerolinecolor\": \"white\", \"zerolinewidth\": 2}}}, \"width\": 1000, \"xaxis\": {\"dtick\": 1, \"gridcolor\": \"rgb(0, 0, 0)\", \"side\": \"top\", \"ticks\": \"\"}, \"yaxis\": {\"dtick\": 1, \"ticks\": \"\", \"ticksuffix\": \"  \"}},                        {\"responsive\": true}                    ).then(function(){\n",
       "                            \n",
       "var gd = document.getElementById('7afb01eb-a33d-4b27-88b0-e69c5c21769d');\n",
       "var x = new MutationObserver(function (mutations, observer) {{\n",
       "        var display = window.getComputedStyle(gd).display;\n",
       "        if (!display || display === 'none') {{\n",
       "            console.log([gd, 'removed!']);\n",
       "            Plotly.purge(gd);\n",
       "            observer.disconnect();\n",
       "        }}\n",
       "}});\n",
       "\n",
       "// Listen for the removal of the full notebook cells\n",
       "var notebookContainer = gd.closest('#notebook-container');\n",
       "if (notebookContainer) {{\n",
       "    x.observe(notebookContainer, {childList: true});\n",
       "}}\n",
       "\n",
       "// Listen for the clearing of the current output cell\n",
       "var outputEl = gd.closest('.output');\n",
       "if (outputEl) {{\n",
       "    x.observe(outputEl, {childList: true});\n",
       "}}\n",
       "\n",
       "                        })                };                });            </script>        </div>"
      ]
     },
     "metadata": {},
     "output_type": "display_data"
    }
   ],
   "source": [
    "cm = sklearn.metrics.confusion_matrix(y_true=y_true, y_pred = y_pred)\n",
    "cm_labels = labels\n",
    "fig = ff.create_annotated_heatmap(cm[::-1],colorscale='reds',\n",
    "                                      xtype='array',\n",
    "                                      ytype='array',\n",
    "                                      x=cm_labels,\n",
    "                                      #x=cm_labels[::-1],\n",
    "                                      #y=cm_labels[::-1],\n",
    "                                      y=cm_labels[::-1],\n",
    "            showscale=True,\n",
    "            hoverongaps=True,\n",
    "                                 )\n",
    "\n",
    "for i in range(len(fig.layout.annotations)):\n",
    "    fig.layout.annotations[i].font.size = 8\n",
    "\n",
    "fig.update_layout(\n",
    "    autosize=False,\n",
    "    width=1000,\n",
    "    height=1000,\n",
    "   \n",
    ")\n",
    "\n",
    "\n",
    "fig.show()"
   ]
  },
  {
   "cell_type": "code",
   "execution_count": 31,
   "id": "looking-peter",
   "metadata": {},
   "outputs": [
    {
     "data": {
      "text/plain": [
       "<sklearn.metrics._plot.confusion_matrix.ConfusionMatrixDisplay at 0x7fb932fcf990>"
      ]
     },
     "execution_count": 31,
     "metadata": {},
     "output_type": "execute_result"
    },
    {
     "data": {
      "image/png": "[encoded data removed]",
      "text/plain": [
       "<Figure size 1080x1080 with 2 Axes>"
      ]
     },
     "metadata": {
      "needs_background": "light"
     },
     "output_type": "display_data"
    }
   ],
   "source": [
    "# https://stackoverflow.com/questions/60860121/plotly-how-to-make-an-annotated-confusion-matrix-using-a-heatmap\n",
    "fig, ax = plt.subplots(figsize=(15,15))\n",
    "\n",
    "disp = sklearn.metrics.ConfusionMatrixDisplay.from_predictions(\n",
    "    y_true=y_true, y_pred = y_pred ,\n",
    "    #normalize = 'true',\n",
    "    display_labels=cm_labels,\n",
    "    xticks_rotation='vertical',\n",
    "    ax=ax\n",
    ")\n",
    "disp"
   ]
  },
  {
   "cell_type": "code",
   "execution_count": 27,
   "id": "earlier-portrait",
   "metadata": {},
   "outputs": [],
   "source": [
    "wandb.log({\"conf_mat\" : wandb.plot.confusion_matrix(probs=None,\n",
    "                            preds=y_pred, y_true=y_true,\n",
    "                            class_names=labels)})"
   ]
  },
  {
   "cell_type": "code",
   "execution_count": null,
   "id": "right-alpha",
   "metadata": {},
   "outputs": [
    {
     "data": {
      "text/html": [
       "<br/>Waiting for W&B process to finish, PID 21422<br/>Program ended successfully."
      ],
      "text/plain": [
       "<IPython.core.display.HTML object>"
      ]
     },
     "metadata": {},
     "output_type": "display_data"
    }
   ],
   "source": [
    "wandb.finish()"
   ]
  },
  {
   "cell_type": "markdown",
   "id": "objective-trauma",
   "metadata": {
    "papermill": {
     "duration": 0.04706,
     "end_time": "2021-10-13T21:29:59.460199",
     "exception": false,
     "start_time": "2021-10-13T21:29:59.413139",
     "status": "completed"
    },
    "tags": []
   },
   "source": [
    "# Saving artifacts"
   ]
  },
  {
   "cell_type": "code",
   "execution_count": null,
   "id": "trying-banking",
   "metadata": {
    "papermill": {
     "duration": 0.04673,
     "end_time": "2021-10-13T21:29:59.656137",
     "exception": false,
     "start_time": "2021-10-13T21:29:59.609407",
     "status": "completed"
    },
    "tags": []
   },
   "outputs": [],
   "source": []
  },
  {
   "cell_type": "code",
   "execution_count": 39,
   "id": "intense-folks",
   "metadata": {
    "execution": {
     "iopub.execute_input": "2021-10-13T21:29:59.753294Z",
     "iopub.status.busy": "2021-10-13T21:29:59.752884Z",
     "iopub.status.idle": "2021-10-13T21:29:59.754771Z",
     "shell.execute_reply": "2021-10-13T21:29:59.754425Z"
    },
    "papermill": {
     "duration": 0.051855,
     "end_time": "2021-10-13T21:29:59.754857",
     "exception": false,
     "start_time": "2021-10-13T21:29:59.703002",
     "status": "completed"
    },
    "tags": []
   },
   "outputs": [],
   "source": [
    "model_dir = f'../artifacts/model/{base_model}/'"
   ]
  },
  {
   "cell_type": "markdown",
   "id": "statistical-definition",
   "metadata": {},
   "source": [
    "save the finetuned model"
   ]
  },
  {
   "cell_type": "code",
   "execution_count": 40,
   "id": "organized-huntington",
   "metadata": {
    "execution": {
     "iopub.execute_input": "2021-10-13T21:29:59.848739Z",
     "iopub.status.busy": "2021-10-13T21:29:59.848348Z",
     "iopub.status.idle": "2021-10-13T21:30:00.891718Z",
     "shell.execute_reply": "2021-10-13T21:30:00.892066Z"
    },
    "papermill": {
     "duration": 1.091834,
     "end_time": "2021-10-13T21:30:00.892199",
     "exception": false,
     "start_time": "2021-10-13T21:29:59.800365",
     "status": "completed"
    },
    "tags": []
   },
   "outputs": [
    {
     "name": "stderr",
     "output_type": "stream",
     "text": [
      "Saving model checkpoint to ../artifacts/model/distilbert-base-uncased/\n",
      "Configuration saved in ../artifacts/model/distilbert-base-uncased/config.json\n",
      "Model weights saved in ../artifacts/model/distilbert-base-uncased/pytorch_model.bin\n"
     ]
    }
   ],
   "source": [
    "trainer.save_model(model_dir)"
   ]
  },
  {
   "cell_type": "markdown",
   "id": "broke-stationery",
   "metadata": {},
   "source": [
    "save the tokenizer.    \n",
    "Note: In this notebook , we didn't update the tokenizer"
   ]
  },
  {
   "cell_type": "code",
   "execution_count": 41,
   "id": "structured-economics",
   "metadata": {
    "execution": {
     "iopub.execute_input": "2021-10-13T21:30:00.990730Z",
     "iopub.status.busy": "2021-10-13T21:30:00.990282Z",
     "iopub.status.idle": "2021-10-13T21:30:01.026934Z",
     "shell.execute_reply": "2021-10-13T21:30:01.026553Z"
    },
    "papermill": {
     "duration": 0.086204,
     "end_time": "2021-10-13T21:30:01.027030",
     "exception": false,
     "start_time": "2021-10-13T21:30:00.940826",
     "status": "completed"
    },
    "tags": []
   },
   "outputs": [
    {
     "name": "stderr",
     "output_type": "stream",
     "text": [
      "tokenizer config file saved in ../artifacts/model/distilbert-base-uncased/tokenizer_config.json\n",
      "Special tokens file saved in ../artifacts/model/distilbert-base-uncased/special_tokens_map.json\n"
     ]
    },
    {
     "data": {
      "text/plain": [
       "('../artifacts/model/distilbert-base-uncased/tokenizer_config.json',\n",
       " '../artifacts/model/distilbert-base-uncased/special_tokens_map.json',\n",
       " '../artifacts/model/distilbert-base-uncased/vocab.txt',\n",
       " '../artifacts/model/distilbert-base-uncased/added_tokens.json',\n",
       " '../artifacts/model/distilbert-base-uncased/tokenizer.json')"
      ]
     },
     "execution_count": 41,
     "metadata": {},
     "output_type": "execute_result"
    }
   ],
   "source": [
    "tokenizer.save_pretrained(model_dir)"
   ]
  },
  {
   "cell_type": "code",
   "execution_count": null,
   "id": "accompanied-shakespeare",
   "metadata": {},
   "outputs": [],
   "source": []
  },
  {
   "cell_type": "markdown",
   "id": "cosmetic-institute",
   "metadata": {},
   "source": [
    "## Loading Artifacts"
   ]
  },
  {
   "cell_type": "code",
   "execution_count": 42,
   "id": "occupied-thong",
   "metadata": {
    "execution": {
     "iopub.execute_input": "2021-10-13T21:30:01.128253Z",
     "iopub.status.busy": "2021-10-13T21:30:01.127854Z",
     "iopub.status.idle": "2021-10-13T21:30:01.723703Z",
     "shell.execute_reply": "2021-10-13T21:30:01.724116Z"
    },
    "papermill": {
     "duration": 0.648249,
     "end_time": "2021-10-13T21:30:01.724299",
     "exception": false,
     "start_time": "2021-10-13T21:30:01.076050",
     "status": "completed"
    },
    "tags": []
   },
   "outputs": [
    {
     "name": "stderr",
     "output_type": "stream",
     "text": [
      "loading configuration file ../artifacts/model/distilbert-base-uncased/config.json\n",
      "Model config DistilBertConfig {\n",
      "  \"_name_or_path\": \"distilbert-base-uncased\",\n",
      "  \"activation\": \"gelu\",\n",
      "  \"architectures\": [\n",
      "    \"DistilBertForSequenceClassification\"\n",
      "  ],\n",
      "  \"attention_dropout\": 0.1,\n",
      "  \"dim\": 768,\n",
      "  \"dropout\": 0.1,\n",
      "  \"hidden_dim\": 3072,\n",
      "  \"id2label\": {\n",
      "    \"0\": \"ACCESSORY\",\n",
      "    \"1\": \"BOOT\",\n",
      "    \"2\": \"CELLULAR_PHONE_CASE\",\n",
      "    \"3\": \"CHAIR\",\n",
      "    \"4\": \"EARRING\",\n",
      "    \"5\": \"FINEEARRING\",\n",
      "    \"6\": \"FINENECKLACEBRACELETANKLET\",\n",
      "    \"7\": \"FINERING\",\n",
      "    \"8\": \"GROCERY\",\n",
      "    \"9\": \"HANDBAG\",\n",
      "    \"10\": \"HARDWARE_HANDLE\",\n",
      "    \"11\": \"HAT\",\n",
      "    \"12\": \"HEALTH_PERSONAL_CARE\",\n",
      "    \"13\": \"HOME\",\n",
      "    \"14\": \"HOME_BED_AND_BATH\",\n",
      "    \"15\": \"HOME_FURNITURE_AND_DECOR\",\n",
      "    \"16\": \"JANITORIAL_SUPPLY\",\n",
      "    \"17\": \"KITCHEN\",\n",
      "    \"18\": \"LAMP\",\n",
      "    \"19\": \"LIGHT_BULB\",\n",
      "    \"20\": \"LIGHT_FIXTURE\",\n",
      "    \"21\": \"OFFICE_PRODUCTS\",\n",
      "    \"22\": \"OUTDOOR_LIVING\",\n",
      "    \"23\": \"PET_SUPPLIES\",\n",
      "    \"24\": \"RUG\",\n",
      "    \"25\": \"SANDAL\",\n",
      "    \"26\": \"SHOES\",\n",
      "    \"27\": \"SOFA\",\n",
      "    \"28\": \"SPORTING_GOODS\",\n",
      "    \"29\": \"TABLE\",\n",
      "    \"30\": \"WALL_ART\"\n",
      "  },\n",
      "  \"initializer_range\": 0.02,\n",
      "  \"label2id\": {\n",
      "    \"ACCESSORY\": 0,\n",
      "    \"BOOT\": 1,\n",
      "    \"CELLULAR_PHONE_CASE\": 2,\n",
      "    \"CHAIR\": 3,\n",
      "    \"EARRING\": 4,\n",
      "    \"FINEEARRING\": 5,\n",
      "    \"FINENECKLACEBRACELETANKLET\": 6,\n",
      "    \"FINERING\": 7,\n",
      "    \"GROCERY\": 8,\n",
      "    \"HANDBAG\": 9,\n",
      "    \"HARDWARE_HANDLE\": 10,\n",
      "    \"HAT\": 11,\n",
      "    \"HEALTH_PERSONAL_CARE\": 12,\n",
      "    \"HOME\": 13,\n",
      "    \"HOME_BED_AND_BATH\": 14,\n",
      "    \"HOME_FURNITURE_AND_DECOR\": 15,\n",
      "    \"JANITORIAL_SUPPLY\": 16,\n",
      "    \"KITCHEN\": 17,\n",
      "    \"LAMP\": 18,\n",
      "    \"LIGHT_BULB\": 19,\n",
      "    \"LIGHT_FIXTURE\": 20,\n",
      "    \"OFFICE_PRODUCTS\": 21,\n",
      "    \"OUTDOOR_LIVING\": 22,\n",
      "    \"PET_SUPPLIES\": 23,\n",
      "    \"RUG\": 24,\n",
      "    \"SANDAL\": 25,\n",
      "    \"SHOES\": 26,\n",
      "    \"SOFA\": 27,\n",
      "    \"SPORTING_GOODS\": 28,\n",
      "    \"TABLE\": 29,\n",
      "    \"WALL_ART\": 30\n",
      "  },\n",
      "  \"max_position_embeddings\": 512,\n",
      "  \"model_type\": \"distilbert\",\n",
      "  \"n_heads\": 12,\n",
      "  \"n_layers\": 6,\n",
      "  \"pad_token_id\": 0,\n",
      "  \"problem_type\": \"single_label_classification\",\n",
      "  \"qa_dropout\": 0.1,\n",
      "  \"seq_classif_dropout\": 0.2,\n",
      "  \"sinusoidal_pos_embds\": false,\n",
      "  \"tie_weights_\": true,\n",
      "  \"torch_dtype\": \"float32\",\n",
      "  \"transformers_version\": \"4.11.1\",\n",
      "  \"vocab_size\": 30522\n",
      "}\n",
      "\n",
      "loading weights file ../artifacts/model/distilbert-base-uncased/pytorch_model.bin\n",
      "All model checkpoint weights were used when initializing DistilBertForSequenceClassification.\n",
      "\n",
      "All the weights of DistilBertForSequenceClassification were initialized from the model checkpoint at ../artifacts/model/distilbert-base-uncased/.\n",
      "If your task is similar to the task the model of the checkpoint was trained on, you can already use DistilBertForSequenceClassification for predictions without further training.\n"
     ]
    }
   ],
   "source": [
    "model2 = transformers.AutoModelForSequenceClassification.from_pretrained(model_dir, num_labels=len(labels))"
   ]
  },
  {
   "cell_type": "code",
   "execution_count": 43,
   "id": "experienced-legislature",
   "metadata": {
    "execution": {
     "iopub.execute_input": "2021-10-13T21:30:01.983756Z",
     "iopub.status.busy": "2021-10-13T21:30:01.983325Z",
     "iopub.status.idle": "2021-10-13T21:30:02.009878Z",
     "shell.execute_reply": "2021-10-13T21:30:02.010187Z"
    },
    "papermill": {
     "duration": 0.081481,
     "end_time": "2021-10-13T21:30:02.010299",
     "exception": false,
     "start_time": "2021-10-13T21:30:01.928818",
     "status": "completed"
    },
    "tags": []
   },
   "outputs": [
    {
     "name": "stderr",
     "output_type": "stream",
     "text": [
      "Didn't find file ../artifacts/model/distilbert-base-uncased/added_tokens.json. We won't load it.\n",
      "loading file ../artifacts/model/distilbert-base-uncased/vocab.txt\n",
      "loading file ../artifacts/model/distilbert-base-uncased/tokenizer.json\n",
      "loading file None\n",
      "loading file ../artifacts/model/distilbert-base-uncased/special_tokens_map.json\n",
      "loading file ../artifacts/model/distilbert-base-uncased/tokenizer_config.json\n"
     ]
    }
   ],
   "source": [
    "tokenizer2 = transformers.AutoTokenizer.from_pretrained(\n",
    "                model_dir\n",
    "            )"
   ]
  },
  {
   "cell_type": "code",
   "execution_count": null,
   "id": "amino-rates",
   "metadata": {
    "papermill": {
     "duration": 0.051271,
     "end_time": "2021-10-13T21:30:02.112822",
     "exception": false,
     "start_time": "2021-10-13T21:30:02.061551",
     "status": "completed"
    },
    "tags": []
   },
   "outputs": [],
   "source": []
  },
  {
   "cell_type": "code",
   "execution_count": null,
   "id": "herbal-designer",
   "metadata": {
    "papermill": {
     "duration": 0.049192,
     "end_time": "2021-10-13T21:30:02.212095",
     "exception": false,
     "start_time": "2021-10-13T21:30:02.162903",
     "status": "completed"
    },
    "tags": []
   },
   "outputs": [],
   "source": []
  },
  {
   "cell_type": "code",
   "execution_count": null,
   "id": "experimental-animation",
   "metadata": {
    "papermill": {
     "duration": 0.048593,
     "end_time": "2021-10-13T21:30:02.310482",
     "exception": false,
     "start_time": "2021-10-13T21:30:02.261889",
     "status": "completed"
    },
    "tags": []
   },
   "outputs": [],
   "source": []
  },
  {
   "cell_type": "markdown",
   "id": "legislative-importance",
   "metadata": {
    "papermill": {
     "duration": 0.047858,
     "end_time": "2021-10-13T21:30:02.407748",
     "exception": false,
     "start_time": "2021-10-13T21:30:02.359890",
     "status": "completed"
    },
    "tags": []
   },
   "source": [
    "# Predicting on new example"
   ]
  },
  {
   "cell_type": "code",
   "execution_count": 44,
   "id": "australian-search",
   "metadata": {
    "execution": {
     "iopub.execute_input": "2021-10-13T21:30:02.509258Z",
     "iopub.status.busy": "2021-10-13T21:30:02.508837Z",
     "iopub.status.idle": "2021-10-13T21:30:02.510572Z",
     "shell.execute_reply": "2021-10-13T21:30:02.510903Z"
    },
    "papermill": {
     "duration": 0.054221,
     "end_time": "2021-10-13T21:30:02.511017",
     "exception": false,
     "start_time": "2021-10-13T21:30:02.456796",
     "status": "completed"
    },
    "tags": []
   },
   "outputs": [],
   "source": [
    "query = 'comfortable men sandals'"
   ]
  },
  {
   "cell_type": "code",
   "execution_count": 45,
   "id": "careful-glory",
   "metadata": {
    "execution": {
     "iopub.execute_input": "2021-10-13T21:30:02.726401Z",
     "iopub.status.busy": "2021-10-13T21:30:02.725990Z",
     "iopub.status.idle": "2021-10-13T21:30:02.727530Z",
     "shell.execute_reply": "2021-10-13T21:30:02.727842Z"
    },
    "papermill": {
     "duration": 0.056524,
     "end_time": "2021-10-13T21:30:02.727949",
     "exception": false,
     "start_time": "2021-10-13T21:30:02.671425",
     "status": "completed"
    },
    "tags": []
   },
   "outputs": [],
   "source": [
    "res = tokenizer2.encode_plus(query, return_tensors=\"pt\",  padding=\"max_length\", truncation=True)"
   ]
  },
  {
   "cell_type": "code",
   "execution_count": 46,
   "id": "chief-blame",
   "metadata": {
    "execution": {
     "iopub.execute_input": "2021-10-13T21:30:02.834689Z",
     "iopub.status.busy": "2021-10-13T21:30:02.834242Z",
     "iopub.status.idle": "2021-10-13T21:30:02.836928Z",
     "shell.execute_reply": "2021-10-13T21:30:02.837241Z"
    },
    "papermill": {
     "duration": 0.056911,
     "end_time": "2021-10-13T21:30:02.837346",
     "exception": false,
     "start_time": "2021-10-13T21:30:02.780435",
     "status": "completed"
    },
    "tags": []
   },
   "outputs": [
    {
     "data": {
      "text/plain": [
       "{'input_ids': tensor([[  101,  6625,  2273, 24617,   102,     0,     0,     0,     0,     0,\n",
       "             0,     0,     0,     0,     0,     0,     0,     0,     0,     0,\n",
       "             0,     0,     0,     0,     0,     0,     0,     0,     0,     0,\n",
       "             0,     0,     0,     0,     0,     0,     0,     0,     0,     0,\n",
       "             0,     0,     0,     0,     0,     0,     0,     0,     0,     0,\n",
       "             0,     0,     0,     0,     0,     0,     0,     0,     0,     0,\n",
       "             0,     0,     0,     0,     0,     0,     0,     0,     0,     0,\n",
       "             0,     0,     0,     0,     0,     0,     0,     0,     0,     0,\n",
       "             0,     0,     0,     0,     0,     0,     0,     0,     0,     0,\n",
       "             0,     0,     0,     0,     0,     0,     0,     0,     0,     0,\n",
       "             0,     0,     0,     0,     0,     0,     0,     0,     0,     0,\n",
       "             0,     0,     0,     0,     0,     0,     0,     0,     0,     0,\n",
       "             0,     0,     0,     0,     0,     0,     0,     0,     0,     0,\n",
       "             0,     0,     0,     0,     0,     0,     0,     0,     0,     0,\n",
       "             0,     0,     0,     0,     0,     0,     0,     0,     0,     0,\n",
       "             0,     0,     0,     0,     0,     0,     0,     0,     0,     0,\n",
       "             0,     0,     0,     0,     0,     0,     0,     0,     0,     0,\n",
       "             0,     0,     0,     0,     0,     0,     0,     0,     0,     0,\n",
       "             0,     0,     0,     0,     0,     0,     0,     0,     0,     0,\n",
       "             0,     0,     0,     0,     0,     0,     0,     0,     0,     0,\n",
       "             0,     0,     0,     0,     0,     0,     0,     0,     0,     0,\n",
       "             0,     0,     0,     0,     0,     0,     0,     0,     0,     0,\n",
       "             0,     0,     0,     0,     0,     0,     0,     0,     0,     0,\n",
       "             0,     0,     0,     0,     0,     0,     0,     0,     0,     0,\n",
       "             0,     0,     0,     0,     0,     0,     0,     0,     0,     0,\n",
       "             0,     0,     0,     0,     0,     0,     0,     0,     0,     0,\n",
       "             0,     0,     0,     0,     0,     0,     0,     0,     0,     0,\n",
       "             0,     0,     0,     0,     0,     0,     0,     0,     0,     0,\n",
       "             0,     0,     0,     0,     0,     0,     0,     0,     0,     0,\n",
       "             0,     0,     0,     0,     0,     0,     0,     0,     0,     0,\n",
       "             0,     0,     0,     0,     0,     0,     0,     0,     0,     0,\n",
       "             0,     0,     0,     0,     0,     0,     0,     0,     0,     0,\n",
       "             0,     0,     0,     0,     0,     0,     0,     0,     0,     0,\n",
       "             0,     0,     0,     0,     0,     0,     0,     0,     0,     0,\n",
       "             0,     0,     0,     0,     0,     0,     0,     0,     0,     0,\n",
       "             0,     0,     0,     0,     0,     0,     0,     0,     0,     0,\n",
       "             0,     0,     0,     0,     0,     0,     0,     0,     0,     0,\n",
       "             0,     0,     0,     0,     0,     0,     0,     0,     0,     0,\n",
       "             0,     0,     0,     0,     0,     0,     0,     0,     0,     0,\n",
       "             0,     0,     0,     0,     0,     0,     0,     0,     0,     0,\n",
       "             0,     0,     0,     0,     0,     0,     0,     0,     0,     0,\n",
       "             0,     0,     0,     0,     0,     0,     0,     0,     0,     0,\n",
       "             0,     0,     0,     0,     0,     0,     0,     0,     0,     0,\n",
       "             0,     0,     0,     0,     0,     0,     0,     0,     0,     0,\n",
       "             0,     0,     0,     0,     0,     0,     0,     0,     0,     0,\n",
       "             0,     0,     0,     0,     0,     0,     0,     0,     0,     0,\n",
       "             0,     0,     0,     0,     0,     0,     0,     0,     0,     0,\n",
       "             0,     0,     0,     0,     0,     0,     0,     0,     0,     0,\n",
       "             0,     0,     0,     0,     0,     0,     0,     0,     0,     0,\n",
       "             0,     0,     0,     0,     0,     0,     0,     0,     0,     0,\n",
       "             0,     0,     0,     0,     0,     0,     0,     0,     0,     0,\n",
       "             0,     0]]), 'attention_mask': tensor([[1, 1, 1, 1, 1, 0, 0, 0, 0, 0, 0, 0, 0, 0, 0, 0, 0, 0, 0, 0, 0, 0, 0, 0,\n",
       "         0, 0, 0, 0, 0, 0, 0, 0, 0, 0, 0, 0, 0, 0, 0, 0, 0, 0, 0, 0, 0, 0, 0, 0,\n",
       "         0, 0, 0, 0, 0, 0, 0, 0, 0, 0, 0, 0, 0, 0, 0, 0, 0, 0, 0, 0, 0, 0, 0, 0,\n",
       "         0, 0, 0, 0, 0, 0, 0, 0, 0, 0, 0, 0, 0, 0, 0, 0, 0, 0, 0, 0, 0, 0, 0, 0,\n",
       "         0, 0, 0, 0, 0, 0, 0, 0, 0, 0, 0, 0, 0, 0, 0, 0, 0, 0, 0, 0, 0, 0, 0, 0,\n",
       "         0, 0, 0, 0, 0, 0, 0, 0, 0, 0, 0, 0, 0, 0, 0, 0, 0, 0, 0, 0, 0, 0, 0, 0,\n",
       "         0, 0, 0, 0, 0, 0, 0, 0, 0, 0, 0, 0, 0, 0, 0, 0, 0, 0, 0, 0, 0, 0, 0, 0,\n",
       "         0, 0, 0, 0, 0, 0, 0, 0, 0, 0, 0, 0, 0, 0, 0, 0, 0, 0, 0, 0, 0, 0, 0, 0,\n",
       "         0, 0, 0, 0, 0, 0, 0, 0, 0, 0, 0, 0, 0, 0, 0, 0, 0, 0, 0, 0, 0, 0, 0, 0,\n",
       "         0, 0, 0, 0, 0, 0, 0, 0, 0, 0, 0, 0, 0, 0, 0, 0, 0, 0, 0, 0, 0, 0, 0, 0,\n",
       "         0, 0, 0, 0, 0, 0, 0, 0, 0, 0, 0, 0, 0, 0, 0, 0, 0, 0, 0, 0, 0, 0, 0, 0,\n",
       "         0, 0, 0, 0, 0, 0, 0, 0, 0, 0, 0, 0, 0, 0, 0, 0, 0, 0, 0, 0, 0, 0, 0, 0,\n",
       "         0, 0, 0, 0, 0, 0, 0, 0, 0, 0, 0, 0, 0, 0, 0, 0, 0, 0, 0, 0, 0, 0, 0, 0,\n",
       "         0, 0, 0, 0, 0, 0, 0, 0, 0, 0, 0, 0, 0, 0, 0, 0, 0, 0, 0, 0, 0, 0, 0, 0,\n",
       "         0, 0, 0, 0, 0, 0, 0, 0, 0, 0, 0, 0, 0, 0, 0, 0, 0, 0, 0, 0, 0, 0, 0, 0,\n",
       "         0, 0, 0, 0, 0, 0, 0, 0, 0, 0, 0, 0, 0, 0, 0, 0, 0, 0, 0, 0, 0, 0, 0, 0,\n",
       "         0, 0, 0, 0, 0, 0, 0, 0, 0, 0, 0, 0, 0, 0, 0, 0, 0, 0, 0, 0, 0, 0, 0, 0,\n",
       "         0, 0, 0, 0, 0, 0, 0, 0, 0, 0, 0, 0, 0, 0, 0, 0, 0, 0, 0, 0, 0, 0, 0, 0,\n",
       "         0, 0, 0, 0, 0, 0, 0, 0, 0, 0, 0, 0, 0, 0, 0, 0, 0, 0, 0, 0, 0, 0, 0, 0,\n",
       "         0, 0, 0, 0, 0, 0, 0, 0, 0, 0, 0, 0, 0, 0, 0, 0, 0, 0, 0, 0, 0, 0, 0, 0,\n",
       "         0, 0, 0, 0, 0, 0, 0, 0, 0, 0, 0, 0, 0, 0, 0, 0, 0, 0, 0, 0, 0, 0, 0, 0,\n",
       "         0, 0, 0, 0, 0, 0, 0, 0]])}"
      ]
     },
     "execution_count": 46,
     "metadata": {},
     "output_type": "execute_result"
    }
   ],
   "source": [
    "res"
   ]
  },
  {
   "cell_type": "markdown",
   "id": "different-favor",
   "metadata": {
    "papermill": {
     "duration": 0.051827,
     "end_time": "2021-10-13T21:30:02.940763",
     "exception": false,
     "start_time": "2021-10-13T21:30:02.888936",
     "status": "completed"
    },
    "tags": []
   },
   "source": [
    "feed the input and attention mask to  model"
   ]
  },
  {
   "cell_type": "code",
   "execution_count": 47,
   "id": "controlling-smell",
   "metadata": {
    "execution": {
     "iopub.execute_input": "2021-10-13T21:30:03.046274Z",
     "iopub.status.busy": "2021-10-13T21:30:03.045861Z",
     "iopub.status.idle": "2021-10-13T21:30:03.737863Z",
     "shell.execute_reply": "2021-10-13T21:30:03.738250Z"
    },
    "papermill": {
     "duration": 0.746241,
     "end_time": "2021-10-13T21:30:03.738407",
     "exception": false,
     "start_time": "2021-10-13T21:30:02.992166",
     "status": "completed"
    },
    "tags": []
   },
   "outputs": [
    {
     "data": {
      "text/plain": [
       "SequenceClassifierOutput(loss=None, logits=tensor([[-0.2216, -2.5249, -3.7834, -4.3393, -2.3555, -2.6455, -3.0635, -4.3248,\n",
       "          0.9197, -2.8286, -5.5903, -2.0809,  0.5186, -4.3470, -3.0410, -2.2367,\n",
       "         -4.4155, -3.9607, -5.0122, -4.8921, -4.6845, -3.6985, -2.6472, -1.8442,\n",
       "         -2.1204,  5.2300,  0.2033, -4.5279,  0.2906, -3.1928, -3.5350]],\n",
       "       grad_fn=<AddmmBackward>), hidden_states=None, attentions=None)"
      ]
     },
     "execution_count": 47,
     "metadata": {},
     "output_type": "execute_result"
    }
   ],
   "source": [
    "model_res = model2(**res)\n",
    "model_res"
   ]
  },
  {
   "cell_type": "markdown",
   "id": "qualified-avatar",
   "metadata": {},
   "source": [
    "model_res[0] is the same as model_res.logits"
   ]
  },
  {
   "cell_type": "code",
   "execution_count": 48,
   "id": "durable-palestine",
   "metadata": {
    "execution": {
     "iopub.execute_input": "2021-10-13T21:30:03.863951Z",
     "iopub.status.busy": "2021-10-13T21:30:03.863298Z",
     "iopub.status.idle": "2021-10-13T21:30:03.867207Z",
     "shell.execute_reply": "2021-10-13T21:30:03.867510Z"
    },
    "papermill": {
     "duration": 0.059224,
     "end_time": "2021-10-13T21:30:03.867615",
     "exception": false,
     "start_time": "2021-10-13T21:30:03.808391",
     "status": "completed"
    },
    "tags": []
   },
   "outputs": [
    {
     "data": {
      "text/plain": [
       "tensor([[-0.2216, -2.5249, -3.7834, -4.3393, -2.3555, -2.6455, -3.0635, -4.3248,\n",
       "          0.9197, -2.8286, -5.5903, -2.0809,  0.5186, -4.3470, -3.0410, -2.2367,\n",
       "         -4.4155, -3.9607, -5.0122, -4.8921, -4.6845, -3.6985, -2.6472, -1.8442,\n",
       "         -2.1204,  5.2300,  0.2033, -4.5279,  0.2906, -3.1928, -3.5350]],\n",
       "       grad_fn=<AddmmBackward>)"
      ]
     },
     "execution_count": 48,
     "metadata": {},
     "output_type": "execute_result"
    }
   ],
   "source": [
    "model_res[0]"
   ]
  },
  {
   "cell_type": "code",
   "execution_count": null,
   "id": "commercial-poetry",
   "metadata": {
    "papermill": {
     "duration": 0.052205,
     "end_time": "2021-10-13T21:30:03.971795",
     "exception": false,
     "start_time": "2021-10-13T21:30:03.919590",
     "status": "completed"
    },
    "tags": []
   },
   "outputs": [],
   "source": []
  },
  {
   "cell_type": "markdown",
   "id": "handled-atmosphere",
   "metadata": {},
   "source": [
    "apply softmax and get top class and human label"
   ]
  },
  {
   "cell_type": "code",
   "execution_count": 49,
   "id": "temporal-microphone",
   "metadata": {
    "execution": {
     "iopub.execute_input": "2021-10-13T21:30:04.081586Z",
     "iopub.status.busy": "2021-10-13T21:30:04.080981Z",
     "iopub.status.idle": "2021-10-13T21:30:04.083144Z",
     "shell.execute_reply": "2021-10-13T21:30:04.082805Z"
    },
    "papermill": {
     "duration": 0.059255,
     "end_time": "2021-10-13T21:30:04.083233",
     "exception": false,
     "start_time": "2021-10-13T21:30:04.023978",
     "status": "completed"
    },
    "tags": []
   },
   "outputs": [],
   "source": [
    "predictions = list ( zip (labels , torch.softmax(model_res.logits, dim=1).tolist()[0] ) )\n",
    "predictions = sorted (predictions , key=lambda x:x[1] , reverse =True)"
   ]
  },
  {
   "cell_type": "code",
   "execution_count": null,
   "id": "eligible-enzyme",
   "metadata": {
    "papermill": {
     "duration": 0.051959,
     "end_time": "2021-10-13T21:30:04.187520",
     "exception": false,
     "start_time": "2021-10-13T21:30:04.135561",
     "status": "completed"
    },
    "tags": []
   },
   "outputs": [],
   "source": []
  },
  {
   "cell_type": "code",
   "execution_count": 50,
   "id": "compound-generic",
   "metadata": {
    "execution": {
     "iopub.execute_input": "2021-10-13T21:30:04.303177Z",
     "iopub.status.busy": "2021-10-13T21:30:04.302535Z",
     "iopub.status.idle": "2021-10-13T21:30:04.305236Z",
     "shell.execute_reply": "2021-10-13T21:30:04.305589Z"
    },
    "papermill": {
     "duration": 0.066113,
     "end_time": "2021-10-13T21:30:04.305716",
     "exception": false,
     "start_time": "2021-10-13T21:30:04.239603",
     "status": "completed"
    },
    "tags": []
   },
   "outputs": [
    {
     "data": {
      "text/plain": [
       "[('SANDAL', 0.9552132487297058),\n",
       " ('GROCERY', 0.012827488593757153),\n",
       " ('HEALTH_PERSONAL_CARE', 0.008589162491261959),\n",
       " ('SPORTING_GOODS', 0.006838590372353792),\n",
       " ('SHOES', 0.00626652967184782),\n",
       " ('ACCESSORY', 0.004097452852874994),\n",
       " ('PET_SUPPLIES', 0.0008087287424132228),\n",
       " ('HAT', 0.0006382737192325294),\n",
       " ('RUG', 0.0006135497242212296),\n",
       " ('HOME_FURNITURE_AND_DECOR', 0.0005462064291350543),\n",
       " ('EARRING', 0.0004850088735111058),\n",
       " ('BOOT', 0.00040945346700027585),\n",
       " ('FINEEARRING', 0.00036292607546783984),\n",
       " ('OUTDOOR_LIVING', 0.0003622968797571957),\n",
       " ('HANDBAG', 0.0003022101882379502),\n",
       " ('HOME_BED_AND_BATH', 0.0002443601842969656),\n",
       " ('FINENECKLACEBRACELETANKLET', 0.00023893440084066242),\n",
       " ('TABLE', 0.0002099502889905125),\n",
       " ('WALL_ART', 0.0001491100701969117),\n",
       " ('OFFICE_PRODUCTS', 0.0001266185863642022),\n",
       " ('CELLULAR_PHONE_CASE', 0.00011631812958512455),\n",
       " ('KITCHEN', 9.741719259181991e-05),\n",
       " ('FINERING', 6.768658204236999e-05),\n",
       " ('CHAIR', 6.670993752777576e-05),\n",
       " ('HOME', 6.620392377953976e-05),\n",
       " ('JANITORIAL_SUPPLY', 6.181540084071457e-05),\n",
       " ('SOFA', 5.524354492081329e-05),\n",
       " ('LIGHT_FIXTURE', 4.7236539103323594e-05),\n",
       " ('LIGHT_BULB', 3.8383186620194465e-05),\n",
       " ('LAMP', 3.4038621379295364e-05),\n",
       " ('HARDWARE_HANDLE', 1.9094281014986336e-05)]"
      ]
     },
     "execution_count": 50,
     "metadata": {},
     "output_type": "execute_result"
    }
   ],
   "source": [
    "predictions"
   ]
  },
  {
   "cell_type": "code",
   "execution_count": null,
   "id": "random-insertion",
   "metadata": {
    "papermill": {
     "duration": 0.056989,
     "end_time": "2021-10-13T21:30:04.423027",
     "exception": false,
     "start_time": "2021-10-13T21:30:04.366038",
     "status": "completed"
    },
    "tags": []
   },
   "outputs": [],
   "source": []
  },
  {
   "cell_type": "code",
   "execution_count": null,
   "id": "legal-pierce",
   "metadata": {
    "papermill": {
     "duration": 0.056664,
     "end_time": "2021-10-13T21:30:04.536674",
     "exception": false,
     "start_time": "2021-10-13T21:30:04.480010",
     "status": "completed"
    },
    "tags": []
   },
   "outputs": [],
   "source": []
  },
  {
   "cell_type": "code",
   "execution_count": null,
   "id": "eastern-graduation",
   "metadata": {
    "papermill": {
     "duration": 0.053045,
     "end_time": "2021-10-13T21:30:04.644996",
     "exception": false,
     "start_time": "2021-10-13T21:30:04.591951",
     "status": "completed"
    },
    "tags": []
   },
   "outputs": [],
   "source": []
  },
  {
   "cell_type": "code",
   "execution_count": null,
   "id": "narrative-rally",
   "metadata": {
    "papermill": {
     "duration": 0.0538,
     "end_time": "2021-10-13T21:30:04.751692",
     "exception": false,
     "start_time": "2021-10-13T21:30:04.697892",
     "status": "completed"
    },
    "tags": []
   },
   "outputs": [],
   "source": []
  },
  {
   "cell_type": "markdown",
   "id": "excellent-gardening",
   "metadata": {
    "papermill": {
     "duration": 0.051656,
     "end_time": "2021-10-13T21:30:05.757481",
     "exception": false,
     "start_time": "2021-10-13T21:30:05.705825",
     "status": "completed"
    },
    "tags": []
   },
   "source": [
    "<a id='additional-resources'></a>"
   ]
  },
  {
   "cell_type": "markdown",
   "id": "turkish-insulin",
   "metadata": {
    "papermill": {
     "duration": 0.057054,
     "end_time": "2021-10-13T21:30:05.869783",
     "exception": false,
     "start_time": "2021-10-13T21:30:05.812729",
     "status": "completed"
    },
    "tags": []
   },
   "source": [
    "## Refernces"
   ]
  },
  {
   "cell_type": "markdown",
   "id": "identified-western",
   "metadata": {
    "papermill": {
     "duration": 0.056056,
     "end_time": "2021-10-13T21:30:05.981241",
     "exception": false,
     "start_time": "2021-10-13T21:30:05.925185",
     "status": "completed"
    },
    "tags": []
   },
   "source": [
    "- [🤗 Transformers Examples](https://github.com/huggingface/transformers/tree/master/examples) which includes scripts\n",
    "  to train on all common NLP tasks in PyTorch and TensorFlow.\n",
    "\n"
   ]
  },
  {
   "cell_type": "code",
   "execution_count": null,
   "id": "naked-charity",
   "metadata": {},
   "outputs": [],
   "source": []
  }
 ],
 "metadata": {
  "environment": {
   "name": "rapids-gpu.0-18.m65",
   "type": "gcloud",
   "uri": "gcr.io/deeplearning-platform-release/rapids-gpu.0-18:m65"
  },
  "kernelspec": {
   "display_name": "Python [conda env:pytorch]",
   "language": "python",
   "name": "conda-env-pytorch-py"
  },
  "papermill": {
   "default_parameters": {},
   "duration": 14951.315319,
   "end_time": "2021-10-13T21:30:09.264893",
   "environment_variables": {},
   "exception": null,
   "input_path": "01_train-amazon.ipynb",
   "output_path": "01_train-amazon_out.ipynb",
   "parameters": {},
   "start_time": "2021-10-13T17:20:57.949574",
   "version": "2.3.3"
  }
 },
 "nbformat": 4,
 "nbformat_minor": 5
}
