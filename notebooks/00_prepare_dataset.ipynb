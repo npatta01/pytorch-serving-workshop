{
 "cells": [
  {
   "cell_type": "markdown",
   "id": "swedish-certificate",
   "metadata": {},
   "source": [
    "# Prepare Dataset"
   ]
  },
  {
   "cell_type": "markdown",
   "id": "laden-intellectual",
   "metadata": {},
   "source": [
    "## About\n",
    "This notebook contains the code to\n",
    "1. download the ABO dataset \n",
    "2. Clean the dataset to extract title/product type\n",
    "3. export dataset as HuggingFace compatible dataset"
   ]
  },
  {
   "cell_type": "code",
   "execution_count": null,
   "id": "hourly-grace",
   "metadata": {},
   "outputs": [],
   "source": []
  },
  {
   "cell_type": "markdown",
   "id": "systematic-midwest",
   "metadata": {},
   "source": [
    "## Dataset"
   ]
  },
  {
   "cell_type": "markdown",
   "id": "caring-invitation",
   "metadata": {},
   "source": [
    "This notebook uses the [Amazon Berkeley Objects (ABO) Dataset](https://amazon-berkeley-objects.s3.amazonaws.com/index.html) . \n",
    "\n",
    "The dataset was created in partnership with Amazon and UC Berklely .\n",
    "\n",
    "For 147,702 it contains product metadata , images and 3D models. "
   ]
  },
  {
   "cell_type": "code",
   "execution_count": null,
   "id": "indonesian-tennis",
   "metadata": {
    "jupyter": {
     "outputs_hidden": true
    }
   },
   "outputs": [],
   "source": [
    "%%bash \n",
    "cd ../artifacts/dataset_raw/amazon/\n",
    "wget https://amazon-berkeley-objects.s3.amazonaws.com/archives/abo-listings.tar\n",
    "tar -xvf abo-listings.tar"
   ]
  },
  {
   "cell_type": "code",
   "execution_count": null,
   "id": "sexual-folder",
   "metadata": {
    "scrolled": true
   },
   "outputs": [],
   "source": [
    "#!wget http://deepyeti.ucsd.edu/jianmo/amazon/metaFiles/All_Amazon_Meta.json.gz\n",
    "#!wget https://amazon-berkeley-objects.s3.amazonaws.com/archives/abo-listings.tar"
   ]
  },
  {
   "cell_type": "code",
   "execution_count": null,
   "id": "opposite-island",
   "metadata": {},
   "outputs": [],
   "source": []
  },
  {
   "cell_type": "code",
   "execution_count": null,
   "id": "corrected-specification",
   "metadata": {},
   "outputs": [],
   "source": []
  },
  {
   "cell_type": "markdown",
   "id": "exotic-guess",
   "metadata": {},
   "source": [
    "## Imports"
   ]
  },
  {
   "cell_type": "code",
   "execution_count": 1,
   "id": "eligible-magazine",
   "metadata": {},
   "outputs": [],
   "source": [
    "import pathlib\n",
    "import sklearn\n",
    "import datasets\n",
    "import pandas as pd\n",
    "import sklearn.preprocessing\n",
    "import sklearn.model_selection\n",
    "import glob\n",
    "import functools"
   ]
  },
  {
   "cell_type": "code",
   "execution_count": 2,
   "id": "raised-myanmar",
   "metadata": {},
   "outputs": [
    {
     "name": "stdout",
     "output_type": "stream",
     "text": [
      "/home/jupyter/tutorials/personal/pydata_bert/notebooks\r\n"
     ]
    }
   ],
   "source": [
    "!pwd"
   ]
  },
  {
   "cell_type": "markdown",
   "id": "foster-engagement",
   "metadata": {},
   "source": [
    "## Process Dataset"
   ]
  },
  {
   "cell_type": "code",
   "execution_count": 3,
   "id": "aboriginal-adobe",
   "metadata": {},
   "outputs": [
    {
     "name": "stdout",
     "output_type": "stream",
     "text": [
      "listings_0.json.gz  listings_4.json.gz\tlistings_8.json.gz  listings_c.json.gz\r\n",
      "listings_1.json.gz  listings_5.json.gz\tlistings_9.json.gz  listings_d.json.gz\r\n",
      "listings_2.json.gz  listings_6.json.gz\tlistings_a.json.gz  listings_e.json.gz\r\n",
      "listings_3.json.gz  listings_7.json.gz\tlistings_b.json.gz  listings_f.json.gz\r\n"
     ]
    }
   ],
   "source": [
    "!ls ../artifacts/dataset_raw/amazon/listings/metadata"
   ]
  },
  {
   "cell_type": "code",
   "execution_count": 4,
   "id": "hollow-berry",
   "metadata": {},
   "outputs": [],
   "source": [
    "dataset_path_raw = \"../artifacts/dataset_raw/amazon/listings/metadata\""
   ]
  },
  {
   "cell_type": "code",
   "execution_count": 5,
   "id": "clean-investment",
   "metadata": {},
   "outputs": [
    {
     "data": {
      "text/plain": [
       "['../artifacts/dataset_raw/amazon/listings/metadata/listings_2.json.gz',\n",
       " '../artifacts/dataset_raw/amazon/listings/metadata/listings_9.json.gz',\n",
       " '../artifacts/dataset_raw/amazon/listings/metadata/listings_0.json.gz',\n",
       " '../artifacts/dataset_raw/amazon/listings/metadata/listings_1.json.gz',\n",
       " '../artifacts/dataset_raw/amazon/listings/metadata/listings_a.json.gz',\n",
       " '../artifacts/dataset_raw/amazon/listings/metadata/listings_7.json.gz',\n",
       " '../artifacts/dataset_raw/amazon/listings/metadata/listings_5.json.gz',\n",
       " '../artifacts/dataset_raw/amazon/listings/metadata/listings_6.json.gz',\n",
       " '../artifacts/dataset_raw/amazon/listings/metadata/listings_f.json.gz',\n",
       " '../artifacts/dataset_raw/amazon/listings/metadata/listings_3.json.gz',\n",
       " '../artifacts/dataset_raw/amazon/listings/metadata/listings_b.json.gz',\n",
       " '../artifacts/dataset_raw/amazon/listings/metadata/listings_c.json.gz',\n",
       " '../artifacts/dataset_raw/amazon/listings/metadata/listings_4.json.gz',\n",
       " '../artifacts/dataset_raw/amazon/listings/metadata/listings_e.json.gz',\n",
       " '../artifacts/dataset_raw/amazon/listings/metadata/listings_8.json.gz',\n",
       " '../artifacts/dataset_raw/amazon/listings/metadata/listings_d.json.gz']"
      ]
     },
     "execution_count": 5,
     "metadata": {},
     "output_type": "execute_result"
    }
   ],
   "source": [
    "glob.glob(f'{dataset_path_raw}/*.json.gz')"
   ]
  },
  {
   "cell_type": "markdown",
   "id": "exciting-homeless",
   "metadata": {},
   "source": [
    "load all 16 files"
   ]
  },
  {
   "cell_type": "code",
   "execution_count": 6,
   "id": "conventional-calculation",
   "metadata": {},
   "outputs": [],
   "source": [
    "df_raw = pd.concat(map(functools.partial(pd.read_json, lines=True ), \n",
    "                    glob.glob(f'{dataset_path_raw}/*.json.gz') )) "
   ]
  },
  {
   "cell_type": "code",
   "execution_count": 7,
   "id": "sonic-staff",
   "metadata": {},
   "outputs": [
    {
     "data": {
      "text/html": [
       "<div>\n",
       "<style scoped>\n",
       "    .dataframe tbody tr th:only-of-type {\n",
       "        vertical-align: middle;\n",
       "    }\n",
       "\n",
       "    .dataframe tbody tr th {\n",
       "        vertical-align: top;\n",
       "    }\n",
       "\n",
       "    .dataframe thead th {\n",
       "        text-align: right;\n",
       "    }\n",
       "</style>\n",
       "<table border=\"1\" class=\"dataframe\">\n",
       "  <thead>\n",
       "    <tr style=\"text-align: right;\">\n",
       "      <th></th>\n",
       "      <th>brand</th>\n",
       "      <th>bullet_point</th>\n",
       "      <th>color</th>\n",
       "      <th>fabric_type</th>\n",
       "      <th>item_id</th>\n",
       "      <th>item_name</th>\n",
       "      <th>model_name</th>\n",
       "      <th>model_number</th>\n",
       "      <th>product_type</th>\n",
       "      <th>style</th>\n",
       "      <th>...</th>\n",
       "      <th>item_keywords</th>\n",
       "      <th>material</th>\n",
       "      <th>spin_id</th>\n",
       "      <th>3dmodel_id</th>\n",
       "      <th>color_code</th>\n",
       "      <th>model_year</th>\n",
       "      <th>pattern</th>\n",
       "      <th>product_description</th>\n",
       "      <th>finish_type</th>\n",
       "      <th>item_shape</th>\n",
       "    </tr>\n",
       "  </thead>\n",
       "  <tbody>\n",
       "    <tr>\n",
       "      <th>0</th>\n",
       "      <td>[{'language_tag': 'de_DE', 'value': 'Amazon Es...</td>\n",
       "      <td>[{'language_tag': 'de_DE', 'value': 'Fällt gro...</td>\n",
       "      <td>[{'language_tag': 'de_DE', 'value': 'Mehrfarbi...</td>\n",
       "      <td>[{'language_tag': 'en_GB', 'value': '100% Cott...</td>\n",
       "      <td>B07HL25ZQM</td>\n",
       "      <td>[{'language_tag': 'en_GB', 'value': 'Amazon Es...</td>\n",
       "      <td>[{'language_tag': 'en_GB', 'value': '6-Pack Bi...</td>\n",
       "      <td>[{'value': 'P_AE3131_M6'}]</td>\n",
       "      <td>[{'value': 'BABY_PRODUCT'}]</td>\n",
       "      <td>[{'language_tag': 'de_DE', 'value': '6-Pack Bi...</td>\n",
       "      <td>...</td>\n",
       "      <td>NaN</td>\n",
       "      <td>NaN</td>\n",
       "      <td>NaN</td>\n",
       "      <td>NaN</td>\n",
       "      <td>NaN</td>\n",
       "      <td>NaN</td>\n",
       "      <td>NaN</td>\n",
       "      <td>NaN</td>\n",
       "      <td>NaN</td>\n",
       "      <td>NaN</td>\n",
       "    </tr>\n",
       "    <tr>\n",
       "      <th>1</th>\n",
       "      <td>[{'language_tag': 'en_GB', 'value': 'AmazonBas...</td>\n",
       "      <td>[{'language_tag': 'en_GB', 'value': 'Large dry...</td>\n",
       "      <td>NaN</td>\n",
       "      <td>NaN</td>\n",
       "      <td>B0825D4F6R</td>\n",
       "      <td>[{'language_tag': 'en_GB', 'value': 'AmazonBas...</td>\n",
       "      <td>NaN</td>\n",
       "      <td>[{'value': 'AMAZ2001'}]</td>\n",
       "      <td>[{'value': 'HOME'}]</td>\n",
       "      <td>[{'language_tag': 'en_GB', 'value': 'Deluxe'}]</td>\n",
       "      <td>...</td>\n",
       "      <td>[{'language_tag': 'en_GB', 'value': 'tower lau...</td>\n",
       "      <td>NaN</td>\n",
       "      <td>NaN</td>\n",
       "      <td>NaN</td>\n",
       "      <td>NaN</td>\n",
       "      <td>NaN</td>\n",
       "      <td>NaN</td>\n",
       "      <td>NaN</td>\n",
       "      <td>NaN</td>\n",
       "      <td>NaN</td>\n",
       "    </tr>\n",
       "    <tr>\n",
       "      <th>2</th>\n",
       "      <td>[{'language_tag': 'en_IN', 'value': 'Amazon Br...</td>\n",
       "      <td>[{'language_tag': 'en_IN', 'value': '3D Printe...</td>\n",
       "      <td>[{'language_tag': 'en_IN', 'standardized_value...</td>\n",
       "      <td>NaN</td>\n",
       "      <td>B07TF1FCFD</td>\n",
       "      <td>[{'language_tag': 'en_IN', 'value': 'Amazon Br...</td>\n",
       "      <td>[{'language_tag': 'en_IN', 'value': 'Samsung G...</td>\n",
       "      <td>[{'value': 'gz8587-SL40668'}]</td>\n",
       "      <td>[{'value': 'CELLULAR_PHONE_CASE'}]</td>\n",
       "      <td>NaN</td>\n",
       "      <td>...</td>\n",
       "      <td>[{'language_tag': 'en_IN', 'value': 'mobile co...</td>\n",
       "      <td>NaN</td>\n",
       "      <td>NaN</td>\n",
       "      <td>NaN</td>\n",
       "      <td>NaN</td>\n",
       "      <td>NaN</td>\n",
       "      <td>NaN</td>\n",
       "      <td>NaN</td>\n",
       "      <td>NaN</td>\n",
       "      <td>NaN</td>\n",
       "    </tr>\n",
       "    <tr>\n",
       "      <th>3</th>\n",
       "      <td>[{'language_tag': 'en_IN', 'value': 'Amazon Br...</td>\n",
       "      <td>[{'language_tag': 'en_IN', 'value': 'Snug fit ...</td>\n",
       "      <td>[{'language_tag': 'en_IN', 'standardized_value...</td>\n",
       "      <td>NaN</td>\n",
       "      <td>B08569SRJD</td>\n",
       "      <td>[{'language_tag': 'en_IN', 'value': 'Amazon Br...</td>\n",
       "      <td>[{'language_tag': 'en_IN', 'value': 'Nokia 7.2'}]</td>\n",
       "      <td>[{'value': 'UV10845-SL40357'}]</td>\n",
       "      <td>[{'value': 'CELLULAR_PHONE_CASE'}]</td>\n",
       "      <td>NaN</td>\n",
       "      <td>...</td>\n",
       "      <td>[{'language_tag': 'en_IN', 'value': 'Back Cove...</td>\n",
       "      <td>[{'language_tag': 'en_IN', 'value': 'Silicon'}]</td>\n",
       "      <td>NaN</td>\n",
       "      <td>NaN</td>\n",
       "      <td>NaN</td>\n",
       "      <td>NaN</td>\n",
       "      <td>NaN</td>\n",
       "      <td>NaN</td>\n",
       "      <td>NaN</td>\n",
       "      <td>NaN</td>\n",
       "    </tr>\n",
       "    <tr>\n",
       "      <th>4</th>\n",
       "      <td>[{'language_tag': 'en_US', 'value': 'Stone &amp; B...</td>\n",
       "      <td>[{'language_tag': 'en_US', 'value': 'With mode...</td>\n",
       "      <td>[{'language_tag': 'en_US', 'value': 'Dark Grey'}]</td>\n",
       "      <td>NaN</td>\n",
       "      <td>B07B4G5RBN</td>\n",
       "      <td>[{'language_tag': 'zh_CN', 'value': 'Stone &amp; B...</td>\n",
       "      <td>NaN</td>\n",
       "      <td>[{'value': 'UPH10095B'}]</td>\n",
       "      <td>[{'value': 'CHAIR'}]</td>\n",
       "      <td>NaN</td>\n",
       "      <td>...</td>\n",
       "      <td>[{'language_tag': 'en_US', 'value': 'living-ro...</td>\n",
       "      <td>[{'language_tag': 'zh_CN', 'value': '灰石色'}, {'...</td>\n",
       "      <td>485925ed</td>\n",
       "      <td>B07B4G5RBN</td>\n",
       "      <td>[#918F8C]</td>\n",
       "      <td>NaN</td>\n",
       "      <td>NaN</td>\n",
       "      <td>NaN</td>\n",
       "      <td>NaN</td>\n",
       "      <td>NaN</td>\n",
       "    </tr>\n",
       "  </tbody>\n",
       "</table>\n",
       "<p>5 rows × 28 columns</p>\n",
       "</div>"
      ],
      "text/plain": [
       "                                               brand  \\\n",
       "0  [{'language_tag': 'de_DE', 'value': 'Amazon Es...   \n",
       "1  [{'language_tag': 'en_GB', 'value': 'AmazonBas...   \n",
       "2  [{'language_tag': 'en_IN', 'value': 'Amazon Br...   \n",
       "3  [{'language_tag': 'en_IN', 'value': 'Amazon Br...   \n",
       "4  [{'language_tag': 'en_US', 'value': 'Stone & B...   \n",
       "\n",
       "                                        bullet_point  \\\n",
       "0  [{'language_tag': 'de_DE', 'value': 'Fällt gro...   \n",
       "1  [{'language_tag': 'en_GB', 'value': 'Large dry...   \n",
       "2  [{'language_tag': 'en_IN', 'value': '3D Printe...   \n",
       "3  [{'language_tag': 'en_IN', 'value': 'Snug fit ...   \n",
       "4  [{'language_tag': 'en_US', 'value': 'With mode...   \n",
       "\n",
       "                                               color  \\\n",
       "0  [{'language_tag': 'de_DE', 'value': 'Mehrfarbi...   \n",
       "1                                                NaN   \n",
       "2  [{'language_tag': 'en_IN', 'standardized_value...   \n",
       "3  [{'language_tag': 'en_IN', 'standardized_value...   \n",
       "4  [{'language_tag': 'en_US', 'value': 'Dark Grey'}]   \n",
       "\n",
       "                                         fabric_type     item_id  \\\n",
       "0  [{'language_tag': 'en_GB', 'value': '100% Cott...  B07HL25ZQM   \n",
       "1                                                NaN  B0825D4F6R   \n",
       "2                                                NaN  B07TF1FCFD   \n",
       "3                                                NaN  B08569SRJD   \n",
       "4                                                NaN  B07B4G5RBN   \n",
       "\n",
       "                                           item_name  \\\n",
       "0  [{'language_tag': 'en_GB', 'value': 'Amazon Es...   \n",
       "1  [{'language_tag': 'en_GB', 'value': 'AmazonBas...   \n",
       "2  [{'language_tag': 'en_IN', 'value': 'Amazon Br...   \n",
       "3  [{'language_tag': 'en_IN', 'value': 'Amazon Br...   \n",
       "4  [{'language_tag': 'zh_CN', 'value': 'Stone & B...   \n",
       "\n",
       "                                          model_name  \\\n",
       "0  [{'language_tag': 'en_GB', 'value': '6-Pack Bi...   \n",
       "1                                                NaN   \n",
       "2  [{'language_tag': 'en_IN', 'value': 'Samsung G...   \n",
       "3  [{'language_tag': 'en_IN', 'value': 'Nokia 7.2'}]   \n",
       "4                                                NaN   \n",
       "\n",
       "                     model_number                        product_type  \\\n",
       "0      [{'value': 'P_AE3131_M6'}]         [{'value': 'BABY_PRODUCT'}]   \n",
       "1         [{'value': 'AMAZ2001'}]                 [{'value': 'HOME'}]   \n",
       "2   [{'value': 'gz8587-SL40668'}]  [{'value': 'CELLULAR_PHONE_CASE'}]   \n",
       "3  [{'value': 'UV10845-SL40357'}]  [{'value': 'CELLULAR_PHONE_CASE'}]   \n",
       "4        [{'value': 'UPH10095B'}]                [{'value': 'CHAIR'}]   \n",
       "\n",
       "                                               style  ...  \\\n",
       "0  [{'language_tag': 'de_DE', 'value': '6-Pack Bi...  ...   \n",
       "1     [{'language_tag': 'en_GB', 'value': 'Deluxe'}]  ...   \n",
       "2                                                NaN  ...   \n",
       "3                                                NaN  ...   \n",
       "4                                                NaN  ...   \n",
       "\n",
       "                                       item_keywords  \\\n",
       "0                                                NaN   \n",
       "1  [{'language_tag': 'en_GB', 'value': 'tower lau...   \n",
       "2  [{'language_tag': 'en_IN', 'value': 'mobile co...   \n",
       "3  [{'language_tag': 'en_IN', 'value': 'Back Cove...   \n",
       "4  [{'language_tag': 'en_US', 'value': 'living-ro...   \n",
       "\n",
       "                                            material   spin_id  3dmodel_id  \\\n",
       "0                                                NaN       NaN         NaN   \n",
       "1                                                NaN       NaN         NaN   \n",
       "2                                                NaN       NaN         NaN   \n",
       "3    [{'language_tag': 'en_IN', 'value': 'Silicon'}]       NaN         NaN   \n",
       "4  [{'language_tag': 'zh_CN', 'value': '灰石色'}, {'...  485925ed  B07B4G5RBN   \n",
       "\n",
       "  color_code model_year pattern product_description finish_type item_shape  \n",
       "0        NaN        NaN     NaN                 NaN         NaN        NaN  \n",
       "1        NaN        NaN     NaN                 NaN         NaN        NaN  \n",
       "2        NaN        NaN     NaN                 NaN         NaN        NaN  \n",
       "3        NaN        NaN     NaN                 NaN         NaN        NaN  \n",
       "4  [#918F8C]        NaN     NaN                 NaN         NaN        NaN  \n",
       "\n",
       "[5 rows x 28 columns]"
      ]
     },
     "execution_count": 7,
     "metadata": {},
     "output_type": "execute_result"
    }
   ],
   "source": [
    "df_raw.head()"
   ]
  },
  {
   "cell_type": "code",
   "execution_count": 8,
   "id": "sophisticated-obligation",
   "metadata": {},
   "outputs": [
    {
     "data": {
      "text/plain": [
       "147702"
      ]
     },
     "execution_count": 8,
     "metadata": {},
     "output_type": "execute_result"
    }
   ],
   "source": [
    "len(df_raw)"
   ]
  },
  {
   "cell_type": "markdown",
   "id": "universal-document",
   "metadata": {},
   "source": [
    "sample record"
   ]
  },
  {
   "cell_type": "code",
   "execution_count": 9,
   "id": "corresponding-blast",
   "metadata": {},
   "outputs": [
    {
     "data": {
      "text/plain": [
       "{'brand': [{'language_tag': 'de_DE', 'value': 'Amazon Essentials'}],\n",
       " 'bullet_point': [{'language_tag': 'de_DE',\n",
       "   'value': 'Fällt gross aus; eventuell eine Größe kleiner bestellen'}],\n",
       " 'color': [{'language_tag': 'de_DE', 'value': 'Mehrfarbig(Girl Fruit)'}],\n",
       " 'fabric_type': [{'language_tag': 'en_GB', 'value': '100% Cotton'},\n",
       "  {'language_tag': 'de_DE', 'value': '100 % Baumwolle'}],\n",
       " 'item_id': 'B07HL25ZQM',\n",
       " 'item_name': [{'language_tag': 'en_GB',\n",
       "   'value': 'Amazon Essentials Bib Set of 6'},\n",
       "  {'language_tag': 'de_DE',\n",
       "   'value': 'Amazon Essentials 6-Pack Bib Set, Mehrfarbig(Girl Fruit), Einheitsgröße'}],\n",
       " 'model_name': [{'language_tag': 'en_GB', 'value': '6-Pack Bib Set'},\n",
       "  {'language_tag': 'de_DE', 'value': '6-Pack Bib Set'}],\n",
       " 'model_number': [{'value': 'P_AE3131_M6'}],\n",
       " 'product_type': [{'value': 'BABY_PRODUCT'}],\n",
       " 'style': [{'language_tag': 'de_DE', 'value': '6-Pack Bib Set'}],\n",
       " 'main_image_id': '718mYsQTQbL',\n",
       " 'country': 'DE',\n",
       " 'marketplace': 'Amazon',\n",
       " 'domain_name': 'amazon.de',\n",
       " 'node': [{'node_id': 3968940031,\n",
       "   'node_name': '/Kategorien/Ernährung & Stillen/Lätzchen'}],\n",
       " 'item_dimensions': nan,\n",
       " 'item_weight': nan,\n",
       " 'other_image_id': nan,\n",
       " 'item_keywords': nan,\n",
       " 'material': nan,\n",
       " 'spin_id': nan,\n",
       " '3dmodel_id': nan,\n",
       " 'color_code': nan,\n",
       " 'model_year': nan,\n",
       " 'pattern': nan,\n",
       " 'product_description': nan,\n",
       " 'finish_type': nan,\n",
       " 'item_shape': nan}"
      ]
     },
     "execution_count": 9,
     "metadata": {},
     "output_type": "execute_result"
    }
   ],
   "source": [
    "df_raw.iloc[0].to_dict()"
   ]
  },
  {
   "cell_type": "markdown",
   "id": "referenced-championship",
   "metadata": {},
   "source": [
    "for this project, we only need `item_name` and `brand`.    \n",
    "We can assume and take the first value for the fields"
   ]
  },
  {
   "cell_type": "code",
   "execution_count": 10,
   "id": "trying-training",
   "metadata": {},
   "outputs": [],
   "source": [
    "def parse_property(property_record:dict,property_name:str):\n",
    "    try:\n",
    "        r = property_record[property_name][0]\n",
    "        if property_name ==\"node\":\n",
    "            return r['node_name']\n",
    "        else:\n",
    "            return r['value']\n",
    "    except Exception as e:\n",
    "        return None\n",
    "    \n",
    "def cleanup_record(raw_record:dict):\n",
    "    \n",
    "    \n",
    "    record= {\n",
    "        'brand': parse_property(raw_record,'brand')\n",
    "        ,'item_id': raw_record['item_id']\n",
    "        ,'item_name': parse_property(raw_record,'item_name')\n",
    "        ,'product_type': parse_property(raw_record,'product_type')\n",
    "        ,'node': parse_property(raw_record, 'node')\n",
    "        , 'main_image_id': raw_record['main_image_id']\n",
    "        ,'product_description': raw_record['product_description']\n",
    "\n",
    "        \n",
    "    }\n",
    "    \n",
    "    return pd.Series(record)"
   ]
  },
  {
   "cell_type": "code",
   "execution_count": 11,
   "id": "bizarre-taste",
   "metadata": {},
   "outputs": [],
   "source": [
    "df = df_raw.apply(cleanup_record,axis=1)"
   ]
  },
  {
   "cell_type": "code",
   "execution_count": 12,
   "id": "earlier-education",
   "metadata": {},
   "outputs": [
    {
     "data": {
      "text/html": [
       "<div>\n",
       "<style scoped>\n",
       "    .dataframe tbody tr th:only-of-type {\n",
       "        vertical-align: middle;\n",
       "    }\n",
       "\n",
       "    .dataframe tbody tr th {\n",
       "        vertical-align: top;\n",
       "    }\n",
       "\n",
       "    .dataframe thead th {\n",
       "        text-align: right;\n",
       "    }\n",
       "</style>\n",
       "<table border=\"1\" class=\"dataframe\">\n",
       "  <thead>\n",
       "    <tr style=\"text-align: right;\">\n",
       "      <th></th>\n",
       "      <th>brand</th>\n",
       "      <th>item_id</th>\n",
       "      <th>item_name</th>\n",
       "      <th>product_type</th>\n",
       "      <th>node</th>\n",
       "      <th>main_image_id</th>\n",
       "      <th>product_description</th>\n",
       "    </tr>\n",
       "  </thead>\n",
       "  <tbody>\n",
       "    <tr>\n",
       "      <th>0</th>\n",
       "      <td>Amazon Essentials</td>\n",
       "      <td>B07HL25ZQM</td>\n",
       "      <td>Amazon Essentials Bib Set of 6</td>\n",
       "      <td>BABY_PRODUCT</td>\n",
       "      <td>/Kategorien/Ernährung &amp; Stillen/Lätzchen</td>\n",
       "      <td>718mYsQTQbL</td>\n",
       "      <td>NaN</td>\n",
       "    </tr>\n",
       "    <tr>\n",
       "      <th>1</th>\n",
       "      <td>AmazonBasics</td>\n",
       "      <td>B0825D4F6R</td>\n",
       "      <td>AmazonBasics 3-Tier Deluxe Tower Laundry Dryin...</td>\n",
       "      <td>HOME</td>\n",
       "      <td>/Home &amp; Garden/Home &amp; Kitchen/Categories/Stora...</td>\n",
       "      <td>81lg2wto16L</td>\n",
       "      <td>NaN</td>\n",
       "    </tr>\n",
       "    <tr>\n",
       "      <th>2</th>\n",
       "      <td>Amazon Brand - Solimo</td>\n",
       "      <td>B07TF1FCFD</td>\n",
       "      <td>Amazon Brand - Solimo Designer Number Eight 3D...</td>\n",
       "      <td>CELLULAR_PHONE_CASE</td>\n",
       "      <td>/Categories/Mobiles &amp; Accessories/Mobile Acces...</td>\n",
       "      <td>71R4R6x-tjL</td>\n",
       "      <td>NaN</td>\n",
       "    </tr>\n",
       "    <tr>\n",
       "      <th>3</th>\n",
       "      <td>Amazon Brand - Solimo</td>\n",
       "      <td>B08569SRJD</td>\n",
       "      <td>Amazon Brand - Solimo Designer Dark Night View...</td>\n",
       "      <td>CELLULAR_PHONE_CASE</td>\n",
       "      <td>/Categories/Mobiles &amp; Accessories/Mobile Acces...</td>\n",
       "      <td>71QSAxIJagL</td>\n",
       "      <td>NaN</td>\n",
       "    </tr>\n",
       "    <tr>\n",
       "      <th>4</th>\n",
       "      <td>Stone &amp; Beam</td>\n",
       "      <td>B07B4G5RBN</td>\n",
       "      <td>Stone &amp; Beam Varon 过渡日床, 灰石色</td>\n",
       "      <td>CHAIR</td>\n",
       "      <td>/Categories/Furniture/Living Room Furniture/Ch...</td>\n",
       "      <td>91UiRD6UcHL</td>\n",
       "      <td>NaN</td>\n",
       "    </tr>\n",
       "  </tbody>\n",
       "</table>\n",
       "</div>"
      ],
      "text/plain": [
       "                   brand     item_id  \\\n",
       "0      Amazon Essentials  B07HL25ZQM   \n",
       "1           AmazonBasics  B0825D4F6R   \n",
       "2  Amazon Brand - Solimo  B07TF1FCFD   \n",
       "3  Amazon Brand - Solimo  B08569SRJD   \n",
       "4           Stone & Beam  B07B4G5RBN   \n",
       "\n",
       "                                           item_name         product_type  \\\n",
       "0                     Amazon Essentials Bib Set of 6         BABY_PRODUCT   \n",
       "1  AmazonBasics 3-Tier Deluxe Tower Laundry Dryin...                 HOME   \n",
       "2  Amazon Brand - Solimo Designer Number Eight 3D...  CELLULAR_PHONE_CASE   \n",
       "3  Amazon Brand - Solimo Designer Dark Night View...  CELLULAR_PHONE_CASE   \n",
       "4                       Stone & Beam Varon 过渡日床, 灰石色                CHAIR   \n",
       "\n",
       "                                                node main_image_id  \\\n",
       "0           /Kategorien/Ernährung & Stillen/Lätzchen   718mYsQTQbL   \n",
       "1  /Home & Garden/Home & Kitchen/Categories/Stora...   81lg2wto16L   \n",
       "2  /Categories/Mobiles & Accessories/Mobile Acces...   71R4R6x-tjL   \n",
       "3  /Categories/Mobiles & Accessories/Mobile Acces...   71QSAxIJagL   \n",
       "4  /Categories/Furniture/Living Room Furniture/Ch...   91UiRD6UcHL   \n",
       "\n",
       "  product_description  \n",
       "0                 NaN  \n",
       "1                 NaN  \n",
       "2                 NaN  \n",
       "3                 NaN  \n",
       "4                 NaN  "
      ]
     },
     "execution_count": 12,
     "metadata": {},
     "output_type": "execute_result"
    }
   ],
   "source": [
    "df.head()"
   ]
  },
  {
   "cell_type": "code",
   "execution_count": 13,
   "id": "respiratory-horizontal",
   "metadata": {},
   "outputs": [
    {
     "data": {
      "text/plain": [
       "Index(['brand', 'item_id', 'item_name', 'product_type', 'node',\n",
       "       'main_image_id', 'product_description'],\n",
       "      dtype='object')"
      ]
     },
     "execution_count": 13,
     "metadata": {},
     "output_type": "execute_result"
    }
   ],
   "source": [
    "df.columns"
   ]
  },
  {
   "cell_type": "code",
   "execution_count": 14,
   "id": "honey-certification",
   "metadata": {},
   "outputs": [
    {
     "data": {
      "text/plain": [
       "CELLULAR_PHONE_CASE    64853\n",
       "SHOES                  12965\n",
       "GROCERY                 6546\n",
       "HOME                    5264\n",
       "HOME_BED_AND_BATH       3082\n",
       "                       ...  \n",
       "SOUS_VIDE_MACHINE          1\n",
       "SKIN_TREATMENT_MASK        1\n",
       "SCULPTURE                  1\n",
       "THICKENING_AGENT           1\n",
       "TERMINAL_BLOCK             1\n",
       "Name: product_type, Length: 576, dtype: int64"
      ]
     },
     "execution_count": 14,
     "metadata": {},
     "output_type": "execute_result"
    }
   ],
   "source": [
    "df['product_type'].value_counts()"
   ]
  },
  {
   "cell_type": "markdown",
   "id": "protective-hudson",
   "metadata": {},
   "source": [
    "There are some product types that don't occur frequently.       \n",
    "We should limit our training data to include at least 50+ product types"
   ]
  },
  {
   "cell_type": "code",
   "execution_count": 19,
   "id": "gentle-florist",
   "metadata": {},
   "outputs": [],
   "source": [
    "min_product_count = 500"
   ]
  },
  {
   "cell_type": "markdown",
   "id": "junior-timber",
   "metadata": {},
   "source": [
    "compute top product types"
   ]
  },
  {
   "cell_type": "code",
   "execution_count": 20,
   "id": "taken-presence",
   "metadata": {},
   "outputs": [],
   "source": [
    "top_products =  df['product_type'].value_counts().loc[lambda x: x>min_product_count].index.tolist()"
   ]
  },
  {
   "cell_type": "code",
   "execution_count": null,
   "id": "shared-gilbert",
   "metadata": {},
   "outputs": [],
   "source": []
  },
  {
   "cell_type": "code",
   "execution_count": 21,
   "id": "noble-multimedia",
   "metadata": {},
   "outputs": [
    {
     "data": {
      "text/plain": [
       "(576, 31)"
      ]
     },
     "execution_count": 21,
     "metadata": {},
     "output_type": "execute_result"
    }
   ],
   "source": [
    "len(df['product_type'].value_counts() ) , len (top_products)"
   ]
  },
  {
   "cell_type": "code",
   "execution_count": 22,
   "id": "certified-galaxy",
   "metadata": {},
   "outputs": [],
   "source": [
    "df_all = df [ df['product_type'].isin(top_products) ].copy()\n"
   ]
  },
  {
   "cell_type": "code",
   "execution_count": 23,
   "id": "missing-extra",
   "metadata": {},
   "outputs": [
    {
     "data": {
      "text/plain": [
       "121239"
      ]
     },
     "execution_count": 23,
     "metadata": {},
     "output_type": "execute_result"
    }
   ],
   "source": [
    "len(df_all)"
   ]
  },
  {
   "cell_type": "markdown",
   "id": "temporal-fifth",
   "metadata": {},
   "source": [
    "`text` and `label` are the columns that are needed by Hugging Face Transformer package\n",
    "\n",
    "Item title is the text. \n",
    "Product Type is the label we are predicting"
   ]
  },
  {
   "cell_type": "code",
   "execution_count": 24,
   "id": "religious-failure",
   "metadata": {},
   "outputs": [],
   "source": [
    "df_all['label_name'] = df_all['product_type']\n",
    "df_all['text'] = df_all['item_name']"
   ]
  },
  {
   "cell_type": "code",
   "execution_count": null,
   "id": "disciplinary-fortune",
   "metadata": {},
   "outputs": [],
   "source": []
  },
  {
   "cell_type": "code",
   "execution_count": null,
   "id": "apparent-needle",
   "metadata": {},
   "outputs": [],
   "source": []
  },
  {
   "cell_type": "markdown",
   "id": "mineral-consensus",
   "metadata": {},
   "source": [
    "encode the product type to a numeric label"
   ]
  },
  {
   "cell_type": "code",
   "execution_count": 25,
   "id": "regulation-planner",
   "metadata": {},
   "outputs": [],
   "source": [
    "label_encoder = sklearn.preprocessing.LabelEncoder()"
   ]
  },
  {
   "cell_type": "code",
   "execution_count": 26,
   "id": "cultural-jonathan",
   "metadata": {},
   "outputs": [
    {
     "data": {
      "text/plain": [
       "LabelEncoder()"
      ]
     },
     "execution_count": 26,
     "metadata": {},
     "output_type": "execute_result"
    }
   ],
   "source": [
    "label_encoder.fit(df_all['label_name'])"
   ]
  },
  {
   "cell_type": "code",
   "execution_count": 27,
   "id": "substantial-operation",
   "metadata": {},
   "outputs": [],
   "source": [
    "df_all['label'] = label_encoder.transform(df_all['label_name'])\n"
   ]
  },
  {
   "cell_type": "markdown",
   "id": "dressed-defeat",
   "metadata": {},
   "source": [
    "Allocate 60% for training , 20% validation and 20% for training"
   ]
  },
  {
   "cell_type": "code",
   "execution_count": 28,
   "id": "textile-bargain",
   "metadata": {},
   "outputs": [
    {
     "name": "stdout",
     "output_type": "stream",
     "text": [
      "{'train': 72743, 'test': 24248, 'val': 24248}\n"
     ]
    }
   ],
   "source": [
    "df_train, df_test = sklearn.model_selection.train_test_split(df_all, train_size=.6, stratify= df_all['label'] )\n",
    "\n",
    "\n",
    "df_test, df_val = sklearn.model_selection.train_test_split(df_test, test_size=.5, stratify= df_test['label'] )\n",
    "\n",
    "\n",
    "print  ( \n",
    "{\n",
    "    'train': len(df_train)\n",
    "    ,'test': len(df_test)\n",
    "    ,'val': len(df_val)\n",
    "}\n",
    "\n",
    ")"
   ]
  },
  {
   "cell_type": "markdown",
   "id": "retained-speed",
   "metadata": {},
   "source": [
    "## Create Hugging Face Dataset"
   ]
  },
  {
   "cell_type": "markdown",
   "id": "cathedral-australian",
   "metadata": {},
   "source": [
    "In order to later feed our model to HF transformers package, we need either Pytorch Dataloader or use HF [datasets](https://github.com/huggingface/datasets).\n",
    "\n",
    "`Datasets` can easily be used by TF/ Pytorch\n"
   ]
  },
  {
   "cell_type": "code",
   "execution_count": 29,
   "id": "stable-finder",
   "metadata": {},
   "outputs": [],
   "source": [
    "dataset_features = datasets.Features(\n",
    "    {'text': datasets.Value('string')\n",
    "     , 'item_name': datasets.Value('string')\n",
    "     , 'label': datasets.ClassLabel(names=list ( label_encoder.classes_ ))\n",
    "     , 'brand': datasets.Value('string')\n",
    "     , 'item_id': datasets.Value('string')\n",
    "     , 'main_image_id': datasets.Value('string')\n",
    "    , 'node': datasets.Value('string')\n",
    "\n",
    "    }\n",
    "\n",
    ")"
   ]
  },
  {
   "cell_type": "code",
   "execution_count": 30,
   "id": "suffering-stream",
   "metadata": {},
   "outputs": [
    {
     "data": {
      "text/plain": [
       "dict_keys(['text', 'item_name', 'label', 'brand', 'item_id', 'main_image_id', 'node'])"
      ]
     },
     "execution_count": 30,
     "metadata": {},
     "output_type": "execute_result"
    }
   ],
   "source": [
    "dataset_features.keys()"
   ]
  },
  {
   "cell_type": "markdown",
   "id": "located-submission",
   "metadata": {},
   "source": [
    "create dataset dictionary with all the subsets"
   ]
  },
  {
   "cell_type": "code",
   "execution_count": 31,
   "id": "third-stylus",
   "metadata": {},
   "outputs": [],
   "source": [
    "interested_columns = dataset_features.keys()\n",
    "\n",
    "dataset_train = datasets.Dataset.from_pandas(df_train[interested_columns],features=dataset_features)\n",
    "dataset_test = datasets.Dataset.from_pandas(df_test[interested_columns],features=dataset_features)\n",
    "dataset_validation = datasets.Dataset.from_pandas(df_test[interested_columns],features=dataset_features)\n",
    "\n",
    "dataset_all = datasets.DatasetDict({\n",
    "    'train': dataset_train,\n",
    "    'test': dataset_test,\n",
    "    'valid': dataset_validation }\n",
    ")"
   ]
  },
  {
   "cell_type": "code",
   "execution_count": 32,
   "id": "operating-drove",
   "metadata": {},
   "outputs": [
    {
     "data": {
      "text/plain": [
       "DatasetDict({\n",
       "    train: Dataset({\n",
       "        features: ['text', 'item_name', 'label', 'brand', 'item_id', 'main_image_id', 'node'],\n",
       "        num_rows: 72743\n",
       "    })\n",
       "    test: Dataset({\n",
       "        features: ['text', 'item_name', 'label', 'brand', 'item_id', 'main_image_id', 'node'],\n",
       "        num_rows: 24248\n",
       "    })\n",
       "    valid: Dataset({\n",
       "        features: ['text', 'item_name', 'label', 'brand', 'item_id', 'main_image_id', 'node'],\n",
       "        num_rows: 24248\n",
       "    })\n",
       "})"
      ]
     },
     "execution_count": 32,
     "metadata": {},
     "output_type": "execute_result"
    }
   ],
   "source": [
    "dataset_all"
   ]
  },
  {
   "cell_type": "code",
   "execution_count": 33,
   "id": "touched-buddy",
   "metadata": {},
   "outputs": [
    {
     "data": {
      "text/plain": [
       "{'text': 'Amazon Brand - Solimo Designer Light Blue Flower Photography 3D Printed Hard Back Case Mobile Cover for Sony Xperia L1',\n",
       " 'item_name': 'Amazon Brand - Solimo Designer Light Blue Flower Photography 3D Printed Hard Back Case Mobile Cover for Sony Xperia L1',\n",
       " 'label': 2,\n",
       " 'brand': 'Amazon Brand - Solimo',\n",
       " 'item_id': 'B07THC7RSK',\n",
       " 'main_image_id': '71PBcKpr8jL',\n",
       " 'node': '/Categories/Mobiles & Accessories/Mobile Accessories/Cases & Covers/Back & Bumper Cases'}"
      ]
     },
     "execution_count": 33,
     "metadata": {},
     "output_type": "execute_result"
    }
   ],
   "source": [
    "dataset_all['train'][0]"
   ]
  },
  {
   "cell_type": "code",
   "execution_count": 34,
   "id": "wanted-ridge",
   "metadata": {},
   "outputs": [],
   "source": [
    "all_classes = dataset_all['train'].features['label'].names_file\n",
    "all_classes"
   ]
  },
  {
   "cell_type": "code",
   "execution_count": null,
   "id": "supported-bottom",
   "metadata": {},
   "outputs": [],
   "source": []
  },
  {
   "cell_type": "markdown",
   "id": "opening-suggestion",
   "metadata": {},
   "source": [
    "## Persist Changes"
   ]
  },
  {
   "cell_type": "markdown",
   "id": "communist-while",
   "metadata": {},
   "source": [
    "save the dataset and load it "
   ]
  },
  {
   "cell_type": "code",
   "execution_count": 35,
   "id": "lonely-shame",
   "metadata": {},
   "outputs": [],
   "source": [
    "dataset_path = '../artifacts/dataset_processed/'"
   ]
  },
  {
   "cell_type": "code",
   "execution_count": 36,
   "id": "flush-report",
   "metadata": {},
   "outputs": [],
   "source": [
    "dataset_all.save_to_disk(dataset_path)"
   ]
  },
  {
   "cell_type": "code",
   "execution_count": null,
   "id": "national-italic",
   "metadata": {},
   "outputs": [],
   "source": []
  },
  {
   "cell_type": "code",
   "execution_count": 37,
   "id": "promotional-lambda",
   "metadata": {},
   "outputs": [
    {
     "data": {
      "text/plain": [
       "DatasetDict({\n",
       "    train: Dataset({\n",
       "        features: ['text', 'item_name', 'label', 'brand', 'item_id', 'main_image_id', 'node'],\n",
       "        num_rows: 72743\n",
       "    })\n",
       "    test: Dataset({\n",
       "        features: ['text', 'item_name', 'label', 'brand', 'item_id', 'main_image_id', 'node'],\n",
       "        num_rows: 24248\n",
       "    })\n",
       "    valid: Dataset({\n",
       "        features: ['text', 'item_name', 'label', 'brand', 'item_id', 'main_image_id', 'node'],\n",
       "        num_rows: 24248\n",
       "    })\n",
       "})"
      ]
     },
     "execution_count": 37,
     "metadata": {},
     "output_type": "execute_result"
    }
   ],
   "source": [
    "datasets.load_from_disk(dataset_path)"
   ]
  },
  {
   "cell_type": "markdown",
   "id": "surprising-thomas",
   "metadata": {},
   "source": [
    "# References\n",
    "\n",
    "[Amazon Object Dataset](https://amazon-berkeley-objects.s3.amazonaws.com/index.html)       \n",
    "[Hugging Face Tutorial on Custom Dataset](https://github.com/huggingface/notebooks/blob/master/transformers_doc/custom_datasets.ipynb)"
   ]
  },
  {
   "cell_type": "code",
   "execution_count": null,
   "id": "animal-whole",
   "metadata": {},
   "outputs": [],
   "source": []
  }
 ],
 "metadata": {
  "environment": {
   "name": "rapids-gpu.0-18.m65",
   "type": "gcloud",
   "uri": "gcr.io/deeplearning-platform-release/rapids-gpu.0-18:m65"
  },
  "kernelspec": {
   "display_name": "Python [conda env:pytorch]",
   "language": "python",
   "name": "conda-env-pytorch-py"
  },
  "language_info": {
   "codemirror_mode": {
    "name": "ipython",
    "version": 3
   },
   "file_extension": ".py",
   "mimetype": "text/x-python",
   "name": "python",
   "nbconvert_exporter": "python",
   "pygments_lexer": "ipython3",
   "version": "3.7.10"
  }
 },
 "nbformat": 4,
 "nbformat_minor": 5
}
