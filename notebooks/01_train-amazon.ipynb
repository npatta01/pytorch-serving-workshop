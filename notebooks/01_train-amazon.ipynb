{
 "cells": [
  {
   "cell_type": "code",
   "execution_count": 1,
   "id": "01551aac",
   "metadata": {
    "execution": {
     "iopub.execute_input": "2021-10-13T17:21:01.084576Z",
     "iopub.status.busy": "2021-10-13T17:21:01.084131Z",
     "iopub.status.idle": "2021-10-13T17:21:01.086331Z",
     "shell.execute_reply": "2021-10-13T17:21:01.085883Z"
    },
    "papermill": {
     "duration": 0.031395,
     "end_time": "2021-10-13T17:21:01.086461",
     "exception": false,
     "start_time": "2021-10-13T17:21:01.055066",
     "status": "completed"
    },
    "tags": []
   },
   "outputs": [],
   "source": [
    "# Transformers installation\n",
    "#! pip install transformers datasets\n",
    "# To install from source instead of the last release, comment the command above and uncomment the following one.\n",
    "# ! pip install git+https://github.com/huggingface/transformers.git\n"
   ]
  },
  {
   "cell_type": "code",
   "execution_count": 2,
   "id": "9fb78600",
   "metadata": {
    "execution": {
     "iopub.execute_input": "2021-10-13T17:21:01.141860Z",
     "iopub.status.busy": "2021-10-13T17:21:01.141411Z",
     "iopub.status.idle": "2021-10-13T17:21:13.360963Z",
     "shell.execute_reply": "2021-10-13T17:21:13.360573Z"
    },
    "papermill": {
     "duration": 12.247702,
     "end_time": "2021-10-13T17:21:13.361075",
     "exception": false,
     "start_time": "2021-10-13T17:21:01.113373",
     "status": "completed"
    },
    "tags": []
   },
   "outputs": [],
   "source": [
    "import pathlib\n",
    "import sklearn\n",
    "import datasets\n",
    "import pandas as pd\n",
    "import torch\n",
    "\n",
    "import numpy as np\n",
    "import transformers\n",
    "import os"
   ]
  },
  {
   "cell_type": "code",
   "execution_count": 3,
   "id": "194746cc",
   "metadata": {
    "execution": {
     "iopub.execute_input": "2021-10-13T17:21:13.416512Z",
     "iopub.status.busy": "2021-10-13T17:21:13.416066Z",
     "iopub.status.idle": "2021-10-13T17:21:13.417762Z",
     "shell.execute_reply": "2021-10-13T17:21:13.417414Z"
    },
    "papermill": {
     "duration": 0.03123,
     "end_time": "2021-10-13T17:21:13.417869",
     "exception": false,
     "start_time": "2021-10-13T17:21:13.386639",
     "status": "completed"
    },
    "tags": []
   },
   "outputs": [],
   "source": [
    "os.environ[\"WANDB_DISABLED\"] = \"true\""
   ]
  },
  {
   "cell_type": "code",
   "execution_count": null,
   "id": "7fcd0005",
   "metadata": {
    "papermill": {
     "duration": 0.025108,
     "end_time": "2021-10-13T17:21:13.468360",
     "exception": false,
     "start_time": "2021-10-13T17:21:13.443252",
     "status": "completed"
    },
    "tags": []
   },
   "outputs": [],
   "source": []
  },
  {
   "cell_type": "code",
   "execution_count": 4,
   "id": "3de5f694",
   "metadata": {
    "execution": {
     "iopub.execute_input": "2021-10-13T17:21:13.521221Z",
     "iopub.status.busy": "2021-10-13T17:21:13.520801Z",
     "iopub.status.idle": "2021-10-13T17:21:13.522713Z",
     "shell.execute_reply": "2021-10-13T17:21:13.522256Z"
    },
    "papermill": {
     "duration": 0.02928,
     "end_time": "2021-10-13T17:21:13.522804",
     "exception": false,
     "start_time": "2021-10-13T17:21:13.493524",
     "status": "completed"
    },
    "tags": []
   },
   "outputs": [],
   "source": [
    "dataset_path = '../artifacts/dataset_processed/amazon'"
   ]
  },
  {
   "cell_type": "code",
   "execution_count": 5,
   "id": "5449374e",
   "metadata": {
    "execution": {
     "iopub.execute_input": "2021-10-13T17:21:13.576085Z",
     "iopub.status.busy": "2021-10-13T17:21:13.575678Z",
     "iopub.status.idle": "2021-10-13T17:21:14.716937Z",
     "shell.execute_reply": "2021-10-13T17:21:14.717253Z"
    },
    "papermill": {
     "duration": 1.169419,
     "end_time": "2021-10-13T17:21:14.717383",
     "exception": false,
     "start_time": "2021-10-13T17:21:13.547964",
     "status": "completed"
    },
    "tags": []
   },
   "outputs": [
    {
     "data": {
      "text/plain": [
       "DatasetDict({\n",
       "    train: Dataset({\n",
       "        features: ['text', 'item_name', 'label', 'brand', 'item_id', 'main_image_id', 'node'],\n",
       "        num_rows: 83031\n",
       "    })\n",
       "    test: Dataset({\n",
       "        features: ['text', 'item_name', 'label', 'brand', 'item_id', 'main_image_id', 'node'],\n",
       "        num_rows: 27677\n",
       "    })\n",
       "    valid: Dataset({\n",
       "        features: ['text', 'item_name', 'label', 'brand', 'item_id', 'main_image_id', 'node'],\n",
       "        num_rows: 27677\n",
       "    })\n",
       "})"
      ]
     },
     "execution_count": 5,
     "metadata": {},
     "output_type": "execute_result"
    }
   ],
   "source": [
    "raw_datasets = datasets.load_from_disk(dataset_path)\n",
    "raw_datasets"
   ]
  },
  {
   "cell_type": "code",
   "execution_count": null,
   "id": "f4e6d607",
   "metadata": {
    "papermill": {
     "duration": 0.025746,
     "end_time": "2021-10-13T17:21:14.768956",
     "exception": false,
     "start_time": "2021-10-13T17:21:14.743210",
     "status": "completed"
    },
    "tags": []
   },
   "outputs": [],
   "source": []
  },
  {
   "cell_type": "code",
   "execution_count": null,
   "id": "a52b700a",
   "metadata": {
    "papermill": {
     "duration": 0.025281,
     "end_time": "2021-10-13T17:21:14.819612",
     "exception": false,
     "start_time": "2021-10-13T17:21:14.794331",
     "status": "completed"
    },
    "tags": []
   },
   "outputs": [],
   "source": []
  },
  {
   "cell_type": "code",
   "execution_count": 6,
   "id": "76f306c6",
   "metadata": {
    "execution": {
     "iopub.execute_input": "2021-10-13T17:21:14.901547Z",
     "iopub.status.busy": "2021-10-13T17:21:14.900827Z",
     "iopub.status.idle": "2021-10-13T17:21:14.903895Z",
     "shell.execute_reply": "2021-10-13T17:21:14.904214Z"
    },
    "papermill": {
     "duration": 0.05916,
     "end_time": "2021-10-13T17:21:14.904323",
     "exception": false,
     "start_time": "2021-10-13T17:21:14.845163",
     "status": "completed"
    },
    "tags": []
   },
   "outputs": [
    {
     "data": {
      "text/plain": [
       "{'text': 'Amazon-merk - vinden. Dames Gladiator Sandalen,ZILVER,5 UK',\n",
       " 'item_name': 'Amazon-merk - vinden. Dames Gladiator Sandalen,ZILVER,5 UK',\n",
       " 'label': 83,\n",
       " 'brand': 'find.',\n",
       " 'item_id': 'B07ZW5GC82',\n",
       " 'main_image_id': '617ttnFcuHL',\n",
       " 'node': '/Categorieën/Dames/Schoenen/Modieuze sandalen'}"
      ]
     },
     "execution_count": 6,
     "metadata": {},
     "output_type": "execute_result"
    }
   ],
   "source": [
    "raw_datasets['train'][0]"
   ]
  },
  {
   "cell_type": "code",
   "execution_count": 7,
   "id": "eeb48af2",
   "metadata": {
    "execution": {
     "iopub.execute_input": "2021-10-13T17:21:14.960212Z",
     "iopub.status.busy": "2021-10-13T17:21:14.959801Z",
     "iopub.status.idle": "2021-10-13T17:21:14.962227Z",
     "shell.execute_reply": "2021-10-13T17:21:14.962575Z"
    },
    "papermill": {
     "duration": 0.032559,
     "end_time": "2021-10-13T17:21:14.962676",
     "exception": false,
     "start_time": "2021-10-13T17:21:14.930117",
     "status": "completed"
    },
    "tags": []
   },
   "outputs": [
    {
     "data": {
      "text/plain": [
       "['ABIS_DRUGSTORE',\n",
       " 'ABIS_LAWN_AND_GARDEN',\n",
       " 'ACCESSORY',\n",
       " 'ACCESSORY_OR_PART_OR_SUPPLY',\n",
       " 'AUTO_ACCESSORY',\n",
       " 'BABY_PRODUCT',\n",
       " 'BACKPACK',\n",
       " 'BATTERY',\n",
       " 'BEAUTY',\n",
       " 'BED',\n",
       " 'BED_FRAME',\n",
       " 'BENCH',\n",
       " 'BISS',\n",
       " 'BOOT',\n",
       " 'BRACELET',\n",
       " 'BREAD',\n",
       " 'CABINET',\n",
       " 'CELLULAR_PHONE_CASE',\n",
       " 'CHAIR',\n",
       " 'CHARGING_ADAPTER',\n",
       " 'CLEANING_AGENT',\n",
       " 'CLOCK',\n",
       " 'CLOTHES_HANGER',\n",
       " 'COFFEE',\n",
       " 'COMPUTER_ADD_ON',\n",
       " 'COMPUTER_COMPONENT',\n",
       " 'DAIRY_BASED_DRINK',\n",
       " 'DESK',\n",
       " 'DRINKING_CUP',\n",
       " 'EARRING',\n",
       " 'EDIBLE_OIL_VEGETABLE',\n",
       " 'ELECTRONIC_ADAPTER',\n",
       " 'FILE_FOLDER',\n",
       " 'FINEEARRING',\n",
       " 'FINENECKLACEBRACELETANKLET',\n",
       " 'FINEOTHER',\n",
       " 'FINERING',\n",
       " 'FLAT_SCREEN_DISPLAY_MOUNT',\n",
       " 'FLAT_SHEET',\n",
       " 'FOOD_SERVICE_SUPPLY',\n",
       " 'FURNITURE',\n",
       " 'FURNITURE_COVER',\n",
       " 'GROCERY',\n",
       " 'HANDBAG',\n",
       " 'HARDWARE',\n",
       " 'HARDWARE_HANDLE',\n",
       " 'HAT',\n",
       " 'HEADBOARD',\n",
       " 'HEADPHONES',\n",
       " 'HEALTH_PERSONAL_CARE',\n",
       " 'HERB',\n",
       " 'HOME',\n",
       " 'HOME_BED_AND_BATH',\n",
       " 'HOME_FURNITURE_AND_DECOR',\n",
       " 'HOME_LIGHTING_AND_LAMPS',\n",
       " 'HOME_MIRROR',\n",
       " 'INSTRUMENT_PARTS_AND_ACCESSORIES',\n",
       " 'JANITORIAL_SUPPLY',\n",
       " 'JAR',\n",
       " 'KITCHEN',\n",
       " 'LABEL',\n",
       " 'LAMP',\n",
       " 'LEGUME',\n",
       " 'LIGHT_BULB',\n",
       " 'LIGHT_FIXTURE',\n",
       " 'LUGGAGE',\n",
       " 'MEDICATION',\n",
       " 'NECKLACE',\n",
       " 'NUTRITIONAL_SUPPLEMENT',\n",
       " 'OFFICE_ELECTRONICS',\n",
       " 'OFFICE_PRODUCTS',\n",
       " 'OTTOMAN',\n",
       " 'OUTDOOR_LIVING',\n",
       " 'PANTRY',\n",
       " 'PET_SUPPLIES',\n",
       " 'PILLOW',\n",
       " 'PLANTER',\n",
       " 'PLUMBING_FIXTURE',\n",
       " 'PORTABLE_ELECTRONIC_DEVICE_COVER',\n",
       " 'RECREATION_BALL',\n",
       " 'RING',\n",
       " 'RUG',\n",
       " 'SAFETY_SUPPLY',\n",
       " 'SANDAL',\n",
       " 'SAUCE',\n",
       " 'SAUTE_FRY_PAN',\n",
       " 'SCREEN_PROTECTOR',\n",
       " 'SHELF',\n",
       " 'SHOES',\n",
       " 'SKIN_CLEANING_AGENT',\n",
       " 'SKIN_MOISTURIZER',\n",
       " 'SOFA',\n",
       " 'SPEAKERS',\n",
       " 'SPORTING_GOODS',\n",
       " 'STOOL_SEATING',\n",
       " 'STORAGE_BAG',\n",
       " 'STORAGE_BINDER',\n",
       " 'STORAGE_BOX',\n",
       " 'STORAGE_HOOK',\n",
       " 'SUITCASE',\n",
       " 'TABLE',\n",
       " 'TEA',\n",
       " 'THERMOPLASTIC_FILAMENT',\n",
       " 'TOOLS',\n",
       " 'TOWEL_HOLDER',\n",
       " 'UMBRELLA',\n",
       " 'VITAMIN',\n",
       " 'WALLET',\n",
       " 'WALL_ART',\n",
       " 'WASTE_BAG',\n",
       " 'WIRELESS_ACCESSORY',\n",
       " 'WRITING_INSTRUMENT']"
      ]
     },
     "execution_count": 7,
     "metadata": {},
     "output_type": "execute_result"
    }
   ],
   "source": [
    "labels = raw_datasets['train'].features['label'].names\n",
    "labels"
   ]
  },
  {
   "cell_type": "code",
   "execution_count": 8,
   "id": "9ef29660",
   "metadata": {
    "execution": {
     "iopub.execute_input": "2021-10-13T17:21:15.019347Z",
     "iopub.status.busy": "2021-10-13T17:21:15.018917Z",
     "iopub.status.idle": "2021-10-13T17:21:15.020840Z",
     "shell.execute_reply": "2021-10-13T17:21:15.020477Z"
    },
    "papermill": {
     "duration": 0.03172,
     "end_time": "2021-10-13T17:21:15.020937",
     "exception": false,
     "start_time": "2021-10-13T17:21:14.989217",
     "status": "completed"
    },
    "tags": []
   },
   "outputs": [],
   "source": [
    "label2id = {}\n",
    "for idx, label in enumerate(labels) : \n",
    "    label2id[label] = idx"
   ]
  },
  {
   "cell_type": "code",
   "execution_count": null,
   "id": "65fdc291",
   "metadata": {
    "papermill": {
     "duration": 0.026662,
     "end_time": "2021-10-13T17:21:15.074202",
     "exception": false,
     "start_time": "2021-10-13T17:21:15.047540",
     "status": "completed"
    },
    "tags": []
   },
   "outputs": [],
   "source": []
  },
  {
   "cell_type": "code",
   "execution_count": null,
   "id": "59f889cd",
   "metadata": {
    "papermill": {
     "duration": 0.026872,
     "end_time": "2021-10-13T17:21:15.127790",
     "exception": false,
     "start_time": "2021-10-13T17:21:15.100918",
     "status": "completed"
    },
    "tags": []
   },
   "outputs": [],
   "source": []
  },
  {
   "cell_type": "code",
   "execution_count": 9,
   "id": "d5d8b849",
   "metadata": {
    "execution": {
     "iopub.execute_input": "2021-10-13T17:21:15.182603Z",
     "iopub.status.busy": "2021-10-13T17:21:15.182175Z",
     "iopub.status.idle": "2021-10-13T17:21:18.958860Z",
     "shell.execute_reply": "2021-10-13T17:21:18.958251Z"
    },
    "papermill": {
     "duration": 3.80527,
     "end_time": "2021-10-13T17:21:18.958980",
     "exception": false,
     "start_time": "2021-10-13T17:21:15.153710",
     "status": "completed"
    },
    "tags": []
   },
   "outputs": [],
   "source": [
    "tokenizer = transformers.AutoTokenizer.from_pretrained(\"distilbert-base-uncased\" )"
   ]
  },
  {
   "cell_type": "code",
   "execution_count": 10,
   "id": "b4ae5c66",
   "metadata": {
    "execution": {
     "iopub.execute_input": "2021-10-13T17:21:19.032032Z",
     "iopub.status.busy": "2021-10-13T17:21:19.026087Z",
     "iopub.status.idle": "2021-10-13T17:21:19.066099Z",
     "shell.execute_reply": "2021-10-13T17:21:19.065729Z"
    },
    "papermill": {
     "duration": 0.080393,
     "end_time": "2021-10-13T17:21:19.066190",
     "exception": false,
     "start_time": "2021-10-13T17:21:18.985797",
     "status": "completed"
    },
    "tags": []
   },
   "outputs": [],
   "source": [
    "?transformers.AutoTokenizer.from_pretrained"
   ]
  },
  {
   "cell_type": "code",
   "execution_count": 11,
   "id": "e90d1e93",
   "metadata": {
    "execution": {
     "iopub.execute_input": "2021-10-13T17:21:19.130327Z",
     "iopub.status.busy": "2021-10-13T17:21:19.129587Z",
     "iopub.status.idle": "2021-10-13T17:21:21.483861Z",
     "shell.execute_reply": "2021-10-13T17:21:21.483471Z"
    },
    "papermill": {
     "duration": 2.39126,
     "end_time": "2021-10-13T17:21:21.483979",
     "exception": false,
     "start_time": "2021-10-13T17:21:19.092719",
     "status": "completed"
    },
    "tags": []
   },
   "outputs": [
    {
     "name": "stderr",
     "output_type": "stream",
     "text": [
      "Loading cached processed dataset at ../artifacts/dataset_processed/amazon/train/cache-b6d3f4749c461a4d.arrow\n"
     ]
    },
    {
     "name": "stderr",
     "output_type": "stream",
     "text": [
      "Loading cached processed dataset at ../artifacts/dataset_processed/amazon/test/cache-a5b316bc084fad9c.arrow\n"
     ]
    },
    {
     "name": "stderr",
     "output_type": "stream",
     "text": [
      "Loading cached processed dataset at ../artifacts/dataset_processed/amazon/valid/cache-a5b316bc084fad9c.arrow\n"
     ]
    }
   ],
   "source": [
    "def tokenize_function(examples):\n",
    "    return tokenizer(examples[\"text\"], padding=\"max_length\", truncation=True)\n",
    "\n",
    "tokenized_datasets = raw_datasets.map(tokenize_function, batched=True)"
   ]
  },
  {
   "cell_type": "code",
   "execution_count": null,
   "id": "e0948247",
   "metadata": {
    "papermill": {
     "duration": 0.027999,
     "end_time": "2021-10-13T17:21:21.539912",
     "exception": false,
     "start_time": "2021-10-13T17:21:21.511913",
     "status": "completed"
    },
    "tags": []
   },
   "outputs": [],
   "source": []
  },
  {
   "cell_type": "code",
   "execution_count": 12,
   "id": "1bc4f3ee",
   "metadata": {
    "execution": {
     "iopub.execute_input": "2021-10-13T17:21:21.602632Z",
     "iopub.status.busy": "2021-10-13T17:21:21.602109Z",
     "iopub.status.idle": "2021-10-13T17:21:21.687898Z",
     "shell.execute_reply": "2021-10-13T17:21:21.687559Z"
    },
    "papermill": {
     "duration": 0.117699,
     "end_time": "2021-10-13T17:21:21.688001",
     "exception": false,
     "start_time": "2021-10-13T17:21:21.570302",
     "status": "completed"
    },
    "tags": []
   },
   "outputs": [
    {
     "name": "stderr",
     "output_type": "stream",
     "text": [
      "Loading cached shuffled indices for dataset at ../artifacts/dataset_processed/amazon/train/cache-15da75d5ff4b6a86.arrow\n"
     ]
    },
    {
     "name": "stderr",
     "output_type": "stream",
     "text": [
      "Loading cached shuffled indices for dataset at ../artifacts/dataset_processed/amazon/test/cache-50c3e3ce001a0445.arrow\n"
     ]
    }
   ],
   "source": [
    "subset = tokenized_datasets[\"train\"].num_rows\n",
    "#subset = 1_000\n",
    "\n",
    "\n",
    "train_dataset = tokenized_datasets[\"train\"].shuffle(seed=42)\n",
    "eval_dataset = tokenized_datasets[\"test\"].shuffle(seed=42)\n",
    "\n",
    "\n",
    "if subset < 5_000:\n",
    "    train_dataset = train_dataset.select(range(subset)) \n",
    "    eval_dataset = eval_dataset.select(range(subset)) "
   ]
  },
  {
   "cell_type": "code",
   "execution_count": 13,
   "id": "d7e8085a",
   "metadata": {
    "execution": {
     "iopub.execute_input": "2021-10-13T17:21:21.749899Z",
     "iopub.status.busy": "2021-10-13T17:21:21.749495Z",
     "iopub.status.idle": "2021-10-13T17:21:21.751357Z",
     "shell.execute_reply": "2021-10-13T17:21:21.751019Z"
    },
    "papermill": {
     "duration": 0.035095,
     "end_time": "2021-10-13T17:21:21.751480",
     "exception": false,
     "start_time": "2021-10-13T17:21:21.716385",
     "status": "completed"
    },
    "tags": []
   },
   "outputs": [],
   "source": [
    "id2label = {idx:label for idx, label in enumerate(labels)}\n",
    "label2id = {label:idx for idx, label in enumerate(labels)}"
   ]
  },
  {
   "cell_type": "code",
   "execution_count": 14,
   "id": "3db424bb",
   "metadata": {
    "execution": {
     "iopub.execute_input": "2021-10-13T17:21:21.810491Z",
     "iopub.status.busy": "2021-10-13T17:21:21.809837Z",
     "iopub.status.idle": "2021-10-13T17:21:25.612369Z",
     "shell.execute_reply": "2021-10-13T17:21:25.611931Z"
    },
    "papermill": {
     "duration": 3.833493,
     "end_time": "2021-10-13T17:21:25.612475",
     "exception": false,
     "start_time": "2021-10-13T17:21:21.778982",
     "status": "completed"
    },
    "tags": []
   },
   "outputs": [
    {
     "name": "stderr",
     "output_type": "stream",
     "text": [
      "Some weights of the model checkpoint at distilbert-base-uncased were not used when initializing DistilBertForSequenceClassification: ['vocab_layer_norm.weight', 'vocab_projector.bias', 'vocab_layer_norm.bias', 'vocab_transform.weight', 'vocab_transform.bias', 'vocab_projector.weight']\n",
      "- This IS expected if you are initializing DistilBertForSequenceClassification from the checkpoint of a model trained on another task or with another architecture (e.g. initializing a BertForSequenceClassification model from a BertForPreTraining model).\n",
      "- This IS NOT expected if you are initializing DistilBertForSequenceClassification from the checkpoint of a model that you expect to be exactly identical (initializing a BertForSequenceClassification model from a BertForSequenceClassification model).\n"
     ]
    },
    {
     "name": "stderr",
     "output_type": "stream",
     "text": [
      "Some weights of DistilBertForSequenceClassification were not initialized from the model checkpoint at distilbert-base-uncased and are newly initialized: ['classifier.weight', 'pre_classifier.weight', 'pre_classifier.bias', 'classifier.bias']\n",
      "You should probably TRAIN this model on a down-stream task to be able to use it for predictions and inference.\n"
     ]
    }
   ],
   "source": [
    "model = transformers.AutoModelForSequenceClassification.from_pretrained(\"distilbert-base-uncased\"\n",
    "                                                                        , num_labels=len(labels)\n",
    "                                                                       , label2id=label2id\n",
    "                                                                       , id2label=id2label \n",
    "                                                                       )"
   ]
  },
  {
   "cell_type": "code",
   "execution_count": 15,
   "id": "a9846e46",
   "metadata": {
    "execution": {
     "iopub.execute_input": "2021-10-13T17:21:25.673751Z",
     "iopub.status.busy": "2021-10-13T17:21:25.673323Z",
     "iopub.status.idle": "2021-10-13T17:21:29.038840Z",
     "shell.execute_reply": "2021-10-13T17:21:29.039155Z"
    },
    "papermill": {
     "duration": 3.397789,
     "end_time": "2021-10-13T17:21:29.039291",
     "exception": false,
     "start_time": "2021-10-13T17:21:25.641502",
     "status": "completed"
    },
    "tags": []
   },
   "outputs": [
    {
     "name": "stderr",
     "output_type": "stream",
     "text": [
      "Using the `WAND_DISABLED` environment variable is deprecated and will be removed in v5. Use the --report_to flag to control the integrations used for logging result (for instance --report_to none).\n"
     ]
    }
   ],
   "source": [
    "\n",
    "training_args = transformers.TrainingArguments(\"test-trainer\"\n",
    "                                  , evaluation_strategy=\"epoch\"\n",
    "                                  , save_strategy=\"epoch\"\n",
    "                                  , logging_steps=100\n",
    "                                 # , eval_steps=100\n",
    "                                  , load_best_model_at_end=True\n",
    "                                ,num_train_epochs=10              # total number of training epochs\n",
    "                                 )"
   ]
  },
  {
   "cell_type": "code",
   "execution_count": 16,
   "id": "746019e9",
   "metadata": {
    "execution": {
     "iopub.execute_input": "2021-10-13T17:21:29.101769Z",
     "iopub.status.busy": "2021-10-13T17:21:29.101263Z",
     "iopub.status.idle": "2021-10-13T17:21:33.181614Z",
     "shell.execute_reply": "2021-10-13T17:21:33.181202Z"
    },
    "papermill": {
     "duration": 4.11296,
     "end_time": "2021-10-13T17:21:33.181720",
     "exception": false,
     "start_time": "2021-10-13T17:21:29.068760",
     "status": "completed"
    },
    "tags": []
   },
   "outputs": [],
   "source": [
    "\n",
    "metric_f1 = datasets.load_metric('f1')\n",
    "metric_accuracy = datasets.load_metric('accuracy')\n",
    "metric_precision = datasets.load_metric('precision')\n",
    "metric_recall = datasets.load_metric('recall')"
   ]
  },
  {
   "cell_type": "code",
   "execution_count": 17,
   "id": "3ba87cf1",
   "metadata": {
    "execution": {
     "iopub.execute_input": "2021-10-13T17:21:33.245928Z",
     "iopub.status.busy": "2021-10-13T17:21:33.245476Z",
     "iopub.status.idle": "2021-10-13T17:21:33.247220Z",
     "shell.execute_reply": "2021-10-13T17:21:33.247542Z"
    },
    "papermill": {
     "duration": 0.03606,
     "end_time": "2021-10-13T17:21:33.247660",
     "exception": false,
     "start_time": "2021-10-13T17:21:33.211600",
     "status": "completed"
    },
    "tags": []
   },
   "outputs": [],
   "source": [
    "\n",
    "\n",
    "\n",
    "def compute_metrics(eval_pred):\n",
    "    metrics_dict = {}\n",
    "    predictions, labels = eval_pred\n",
    "    predictions = np.argmax(predictions, axis=1)\n",
    "    \n",
    "    metrics_dict.update(metric_f1.compute(predictions = predictions, references = labels, average = 'macro'))\n",
    "    metrics_dict.update(metric_accuracy.compute(predictions = predictions, references = labels))\n",
    "    metrics_dict.update(metric_precision.compute(predictions = predictions, references = labels, average = 'macro'))\n",
    "    metrics_dict.update(metric_recall.compute(predictions = predictions, references = labels, average = 'macro'))\n",
    "    return metrics_dict"
   ]
  },
  {
   "cell_type": "code",
   "execution_count": null,
   "id": "00fc99c6",
   "metadata": {
    "papermill": {
     "duration": 0.028818,
     "end_time": "2021-10-13T17:21:33.305659",
     "exception": false,
     "start_time": "2021-10-13T17:21:33.276841",
     "status": "completed"
    },
    "tags": []
   },
   "outputs": [],
   "source": []
  },
  {
   "cell_type": "code",
   "execution_count": 18,
   "id": "568b175e",
   "metadata": {
    "execution": {
     "iopub.execute_input": "2021-10-13T17:21:33.366048Z",
     "iopub.status.busy": "2021-10-13T17:21:33.365636Z",
     "iopub.status.idle": "2021-10-13T17:22:01.055700Z",
     "shell.execute_reply": "2021-10-13T17:22:01.055191Z"
    },
    "papermill": {
     "duration": 27.721536,
     "end_time": "2021-10-13T17:22:01.055828",
     "exception": false,
     "start_time": "2021-10-13T17:21:33.334292",
     "status": "completed"
    },
    "tags": []
   },
   "outputs": [],
   "source": [
    "\n",
    "trainer = transformers.Trainer(\n",
    "    model=model, \n",
    "    args=training_args, \n",
    "    train_dataset=train_dataset, \n",
    "    eval_dataset=eval_dataset,\n",
    "    compute_metrics=compute_metrics,\n",
    "    \n",
    "\n",
    ")\n",
    "\n",
    "\n"
   ]
  },
  {
   "cell_type": "code",
   "execution_count": 19,
   "id": "63479360",
   "metadata": {
    "execution": {
     "iopub.execute_input": "2021-10-13T17:22:01.121218Z",
     "iopub.status.busy": "2021-10-13T17:22:01.120759Z",
     "iopub.status.idle": "2021-10-13T21:27:14.589828Z",
     "shell.execute_reply": "2021-10-13T21:27:14.589486Z"
    },
    "papermill": {
     "duration": 14713.503642,
     "end_time": "2021-10-13T21:27:14.589932",
     "exception": false,
     "start_time": "2021-10-13T17:22:01.086290",
     "status": "completed"
    },
    "tags": []
   },
   "outputs": [
    {
     "name": "stderr",
     "output_type": "stream",
     "text": [
      "The following columns in the training set  don't have a corresponding argument in `DistilBertForSequenceClassification.forward` and have been ignored: item_id, brand, text, node, main_image_id, item_name.\n"
     ]
    },
    {
     "name": "stderr",
     "output_type": "stream",
     "text": [
      "***** Running training *****\n"
     ]
    },
    {
     "name": "stderr",
     "output_type": "stream",
     "text": [
      "  Num examples = 83031\n"
     ]
    },
    {
     "name": "stderr",
     "output_type": "stream",
     "text": [
      "  Num Epochs = 10\n"
     ]
    },
    {
     "name": "stderr",
     "output_type": "stream",
     "text": [
      "  Instantaneous batch size per device = 8\n"
     ]
    },
    {
     "name": "stderr",
     "output_type": "stream",
     "text": [
      "  Total train batch size (w. parallel, distributed & accumulation) = 32\n"
     ]
    },
    {
     "name": "stderr",
     "output_type": "stream",
     "text": [
      "  Gradient Accumulation steps = 1\n"
     ]
    },
    {
     "name": "stderr",
     "output_type": "stream",
     "text": [
      "  Total optimization steps = 25950\n"
     ]
    },
    {
     "name": "stderr",
     "output_type": "stream",
     "text": [
      "/opt/conda/envs/pytorch/lib/python3.7/site-packages/torch/nn/parallel/_functions.py:65: UserWarning: Was asked to gather along dimension 0, but all input tensors were scalars; will instead unsqueeze and return a vector.\n",
      "  warnings.warn('Was asked to gather along dimension 0, but all '\n"
     ]
    },
    {
     "data": {
      "text/html": [
       "\n",
       "    <div>\n",
       "      \n",
       "      <progress value='25950' max='25950' style='width:300px; height:20px; vertical-align: middle;'></progress>\n",
       "      [25950/25950 4:05:03, Epoch 10/10]\n",
       "    </div>\n",
       "    <table border=\"1\" class=\"dataframe\">\n",
       "  <thead>\n",
       "    <tr style=\"text-align: left;\">\n",
       "      <th>Epoch</th>\n",
       "      <th>Training Loss</th>\n",
       "      <th>Validation Loss</th>\n",
       "      <th>F1</th>\n",
       "      <th>Accuracy</th>\n",
       "      <th>Precision</th>\n",
       "      <th>Recall</th>\n",
       "    </tr>\n",
       "  </thead>\n",
       "  <tbody>\n",
       "    <tr>\n",
       "      <td>1</td>\n",
       "      <td>0.521500</td>\n",
       "      <td>0.496482</td>\n",
       "      <td>0.470413</td>\n",
       "      <td>0.863172</td>\n",
       "      <td>0.589029</td>\n",
       "      <td>0.464116</td>\n",
       "    </tr>\n",
       "    <tr>\n",
       "      <td>2</td>\n",
       "      <td>0.352400</td>\n",
       "      <td>0.381476</td>\n",
       "      <td>0.651389</td>\n",
       "      <td>0.894425</td>\n",
       "      <td>0.751316</td>\n",
       "      <td>0.628433</td>\n",
       "    </tr>\n",
       "    <tr>\n",
       "      <td>3</td>\n",
       "      <td>0.231800</td>\n",
       "      <td>0.347246</td>\n",
       "      <td>0.702064</td>\n",
       "      <td>0.906240</td>\n",
       "      <td>0.750567</td>\n",
       "      <td>0.684620</td>\n",
       "    </tr>\n",
       "    <tr>\n",
       "      <td>4</td>\n",
       "      <td>0.173500</td>\n",
       "      <td>0.346559</td>\n",
       "      <td>0.734746</td>\n",
       "      <td>0.912960</td>\n",
       "      <td>0.766703</td>\n",
       "      <td>0.724970</td>\n",
       "    </tr>\n",
       "    <tr>\n",
       "      <td>5</td>\n",
       "      <td>0.108300</td>\n",
       "      <td>0.367227</td>\n",
       "      <td>0.747245</td>\n",
       "      <td>0.915453</td>\n",
       "      <td>0.766736</td>\n",
       "      <td>0.741852</td>\n",
       "    </tr>\n",
       "    <tr>\n",
       "      <td>6</td>\n",
       "      <td>0.081500</td>\n",
       "      <td>0.396619</td>\n",
       "      <td>0.760536</td>\n",
       "      <td>0.919139</td>\n",
       "      <td>0.776580</td>\n",
       "      <td>0.752885</td>\n",
       "    </tr>\n",
       "    <tr>\n",
       "      <td>7</td>\n",
       "      <td>0.074900</td>\n",
       "      <td>0.421265</td>\n",
       "      <td>0.758352</td>\n",
       "      <td>0.918235</td>\n",
       "      <td>0.766364</td>\n",
       "      <td>0.760141</td>\n",
       "    </tr>\n",
       "    <tr>\n",
       "      <td>8</td>\n",
       "      <td>0.046500</td>\n",
       "      <td>0.439155</td>\n",
       "      <td>0.761308</td>\n",
       "      <td>0.919717</td>\n",
       "      <td>0.768705</td>\n",
       "      <td>0.760465</td>\n",
       "    </tr>\n",
       "    <tr>\n",
       "      <td>9</td>\n",
       "      <td>0.039300</td>\n",
       "      <td>0.461953</td>\n",
       "      <td>0.765855</td>\n",
       "      <td>0.920475</td>\n",
       "      <td>0.778437</td>\n",
       "      <td>0.761033</td>\n",
       "    </tr>\n",
       "    <tr>\n",
       "      <td>10</td>\n",
       "      <td>0.032300</td>\n",
       "      <td>0.472356</td>\n",
       "      <td>0.765323</td>\n",
       "      <td>0.920331</td>\n",
       "      <td>0.778640</td>\n",
       "      <td>0.758738</td>\n",
       "    </tr>\n",
       "  </tbody>\n",
       "</table><p>"
      ],
      "text/plain": [
       "<IPython.core.display.HTML object>"
      ]
     },
     "metadata": {},
     "output_type": "display_data"
    },
    {
     "name": "stderr",
     "output_type": "stream",
     "text": [
      "The following columns in the evaluation set  don't have a corresponding argument in `DistilBertForSequenceClassification.forward` and have been ignored: item_id, brand, text, node, main_image_id, item_name.\n"
     ]
    },
    {
     "name": "stderr",
     "output_type": "stream",
     "text": [
      "***** Running Evaluation *****\n"
     ]
    },
    {
     "name": "stderr",
     "output_type": "stream",
     "text": [
      "  Num examples = 27677\n"
     ]
    },
    {
     "name": "stderr",
     "output_type": "stream",
     "text": [
      "  Batch size = 32\n"
     ]
    },
    {
     "name": "stderr",
     "output_type": "stream",
     "text": [
      "/opt/conda/envs/pytorch/lib/python3.7/site-packages/sklearn/metrics/_classification.py:1248: UndefinedMetricWarning: Precision is ill-defined and being set to 0.0 in labels with no predicted samples. Use `zero_division` parameter to control this behavior.\n",
      "  _warn_prf(average, modifier, msg_start, len(result))\n"
     ]
    },
    {
     "name": "stderr",
     "output_type": "stream",
     "text": [
      "Saving model checkpoint to test-trainer/checkpoint-2595\n"
     ]
    },
    {
     "name": "stderr",
     "output_type": "stream",
     "text": [
      "Configuration saved in test-trainer/checkpoint-2595/config.json\n"
     ]
    },
    {
     "name": "stderr",
     "output_type": "stream",
     "text": [
      "Model weights saved in test-trainer/checkpoint-2595/pytorch_model.bin\n"
     ]
    },
    {
     "name": "stderr",
     "output_type": "stream",
     "text": [
      "/opt/conda/envs/pytorch/lib/python3.7/site-packages/torch/nn/parallel/_functions.py:65: UserWarning: Was asked to gather along dimension 0, but all input tensors were scalars; will instead unsqueeze and return a vector.\n",
      "  warnings.warn('Was asked to gather along dimension 0, but all '\n"
     ]
    },
    {
     "name": "stderr",
     "output_type": "stream",
     "text": [
      "The following columns in the evaluation set  don't have a corresponding argument in `DistilBertForSequenceClassification.forward` and have been ignored: item_id, brand, text, node, main_image_id, item_name.\n"
     ]
    },
    {
     "name": "stderr",
     "output_type": "stream",
     "text": [
      "***** Running Evaluation *****\n"
     ]
    },
    {
     "name": "stderr",
     "output_type": "stream",
     "text": [
      "  Num examples = 27677\n"
     ]
    },
    {
     "name": "stderr",
     "output_type": "stream",
     "text": [
      "  Batch size = 32\n"
     ]
    },
    {
     "name": "stderr",
     "output_type": "stream",
     "text": [
      "/opt/conda/envs/pytorch/lib/python3.7/site-packages/sklearn/metrics/_classification.py:1248: UndefinedMetricWarning: Precision is ill-defined and being set to 0.0 in labels with no predicted samples. Use `zero_division` parameter to control this behavior.\n",
      "  _warn_prf(average, modifier, msg_start, len(result))\n"
     ]
    },
    {
     "name": "stderr",
     "output_type": "stream",
     "text": [
      "Saving model checkpoint to test-trainer/checkpoint-5190\n"
     ]
    },
    {
     "name": "stderr",
     "output_type": "stream",
     "text": [
      "Configuration saved in test-trainer/checkpoint-5190/config.json\n"
     ]
    },
    {
     "name": "stderr",
     "output_type": "stream",
     "text": [
      "Model weights saved in test-trainer/checkpoint-5190/pytorch_model.bin\n"
     ]
    },
    {
     "name": "stderr",
     "output_type": "stream",
     "text": [
      "/opt/conda/envs/pytorch/lib/python3.7/site-packages/torch/nn/parallel/_functions.py:65: UserWarning: Was asked to gather along dimension 0, but all input tensors were scalars; will instead unsqueeze and return a vector.\n",
      "  warnings.warn('Was asked to gather along dimension 0, but all '\n"
     ]
    },
    {
     "name": "stderr",
     "output_type": "stream",
     "text": [
      "The following columns in the evaluation set  don't have a corresponding argument in `DistilBertForSequenceClassification.forward` and have been ignored: item_id, brand, text, node, main_image_id, item_name.\n"
     ]
    },
    {
     "name": "stderr",
     "output_type": "stream",
     "text": [
      "***** Running Evaluation *****\n"
     ]
    },
    {
     "name": "stderr",
     "output_type": "stream",
     "text": [
      "  Num examples = 27677\n"
     ]
    },
    {
     "name": "stderr",
     "output_type": "stream",
     "text": [
      "  Batch size = 32\n"
     ]
    },
    {
     "name": "stderr",
     "output_type": "stream",
     "text": [
      "/opt/conda/envs/pytorch/lib/python3.7/site-packages/sklearn/metrics/_classification.py:1248: UndefinedMetricWarning: Precision is ill-defined and being set to 0.0 in labels with no predicted samples. Use `zero_division` parameter to control this behavior.\n",
      "  _warn_prf(average, modifier, msg_start, len(result))\n"
     ]
    },
    {
     "name": "stderr",
     "output_type": "stream",
     "text": [
      "Saving model checkpoint to test-trainer/checkpoint-7785\n"
     ]
    },
    {
     "name": "stderr",
     "output_type": "stream",
     "text": [
      "Configuration saved in test-trainer/checkpoint-7785/config.json\n"
     ]
    },
    {
     "name": "stderr",
     "output_type": "stream",
     "text": [
      "Model weights saved in test-trainer/checkpoint-7785/pytorch_model.bin\n"
     ]
    },
    {
     "name": "stderr",
     "output_type": "stream",
     "text": [
      "/opt/conda/envs/pytorch/lib/python3.7/site-packages/torch/nn/parallel/_functions.py:65: UserWarning: Was asked to gather along dimension 0, but all input tensors were scalars; will instead unsqueeze and return a vector.\n",
      "  warnings.warn('Was asked to gather along dimension 0, but all '\n"
     ]
    },
    {
     "name": "stderr",
     "output_type": "stream",
     "text": [
      "The following columns in the evaluation set  don't have a corresponding argument in `DistilBertForSequenceClassification.forward` and have been ignored: item_id, brand, text, node, main_image_id, item_name.\n"
     ]
    },
    {
     "name": "stderr",
     "output_type": "stream",
     "text": [
      "***** Running Evaluation *****\n"
     ]
    },
    {
     "name": "stderr",
     "output_type": "stream",
     "text": [
      "  Num examples = 27677\n"
     ]
    },
    {
     "name": "stderr",
     "output_type": "stream",
     "text": [
      "  Batch size = 32\n"
     ]
    },
    {
     "name": "stderr",
     "output_type": "stream",
     "text": [
      "Saving model checkpoint to test-trainer/checkpoint-10380\n"
     ]
    },
    {
     "name": "stderr",
     "output_type": "stream",
     "text": [
      "Configuration saved in test-trainer/checkpoint-10380/config.json\n"
     ]
    },
    {
     "name": "stderr",
     "output_type": "stream",
     "text": [
      "Model weights saved in test-trainer/checkpoint-10380/pytorch_model.bin\n"
     ]
    },
    {
     "name": "stderr",
     "output_type": "stream",
     "text": [
      "/opt/conda/envs/pytorch/lib/python3.7/site-packages/torch/nn/parallel/_functions.py:65: UserWarning: Was asked to gather along dimension 0, but all input tensors were scalars; will instead unsqueeze and return a vector.\n",
      "  warnings.warn('Was asked to gather along dimension 0, but all '\n"
     ]
    },
    {
     "name": "stderr",
     "output_type": "stream",
     "text": [
      "The following columns in the evaluation set  don't have a corresponding argument in `DistilBertForSequenceClassification.forward` and have been ignored: item_id, brand, text, node, main_image_id, item_name.\n"
     ]
    },
    {
     "name": "stderr",
     "output_type": "stream",
     "text": [
      "***** Running Evaluation *****\n"
     ]
    },
    {
     "name": "stderr",
     "output_type": "stream",
     "text": [
      "  Num examples = 27677\n"
     ]
    },
    {
     "name": "stderr",
     "output_type": "stream",
     "text": [
      "  Batch size = 32\n"
     ]
    },
    {
     "name": "stderr",
     "output_type": "stream",
     "text": [
      "Saving model checkpoint to test-trainer/checkpoint-12975\n"
     ]
    },
    {
     "name": "stderr",
     "output_type": "stream",
     "text": [
      "Configuration saved in test-trainer/checkpoint-12975/config.json\n"
     ]
    },
    {
     "name": "stderr",
     "output_type": "stream",
     "text": [
      "Model weights saved in test-trainer/checkpoint-12975/pytorch_model.bin\n"
     ]
    },
    {
     "name": "stderr",
     "output_type": "stream",
     "text": [
      "/opt/conda/envs/pytorch/lib/python3.7/site-packages/torch/nn/parallel/_functions.py:65: UserWarning: Was asked to gather along dimension 0, but all input tensors were scalars; will instead unsqueeze and return a vector.\n",
      "  warnings.warn('Was asked to gather along dimension 0, but all '\n"
     ]
    },
    {
     "name": "stderr",
     "output_type": "stream",
     "text": [
      "The following columns in the evaluation set  don't have a corresponding argument in `DistilBertForSequenceClassification.forward` and have been ignored: item_id, brand, text, node, main_image_id, item_name.\n"
     ]
    },
    {
     "name": "stderr",
     "output_type": "stream",
     "text": [
      "***** Running Evaluation *****\n"
     ]
    },
    {
     "name": "stderr",
     "output_type": "stream",
     "text": [
      "  Num examples = 27677\n"
     ]
    },
    {
     "name": "stderr",
     "output_type": "stream",
     "text": [
      "  Batch size = 32\n"
     ]
    },
    {
     "name": "stderr",
     "output_type": "stream",
     "text": [
      "Saving model checkpoint to test-trainer/checkpoint-15570\n"
     ]
    },
    {
     "name": "stderr",
     "output_type": "stream",
     "text": [
      "Configuration saved in test-trainer/checkpoint-15570/config.json\n"
     ]
    },
    {
     "name": "stderr",
     "output_type": "stream",
     "text": [
      "Model weights saved in test-trainer/checkpoint-15570/pytorch_model.bin\n"
     ]
    },
    {
     "name": "stderr",
     "output_type": "stream",
     "text": [
      "/opt/conda/envs/pytorch/lib/python3.7/site-packages/torch/nn/parallel/_functions.py:65: UserWarning: Was asked to gather along dimension 0, but all input tensors were scalars; will instead unsqueeze and return a vector.\n",
      "  warnings.warn('Was asked to gather along dimension 0, but all '\n"
     ]
    },
    {
     "name": "stderr",
     "output_type": "stream",
     "text": [
      "The following columns in the evaluation set  don't have a corresponding argument in `DistilBertForSequenceClassification.forward` and have been ignored: item_id, brand, text, node, main_image_id, item_name.\n"
     ]
    },
    {
     "name": "stderr",
     "output_type": "stream",
     "text": [
      "***** Running Evaluation *****\n"
     ]
    },
    {
     "name": "stderr",
     "output_type": "stream",
     "text": [
      "  Num examples = 27677\n"
     ]
    },
    {
     "name": "stderr",
     "output_type": "stream",
     "text": [
      "  Batch size = 32\n"
     ]
    },
    {
     "name": "stderr",
     "output_type": "stream",
     "text": [
      "Saving model checkpoint to test-trainer/checkpoint-18165\n"
     ]
    },
    {
     "name": "stderr",
     "output_type": "stream",
     "text": [
      "Configuration saved in test-trainer/checkpoint-18165/config.json\n"
     ]
    },
    {
     "name": "stderr",
     "output_type": "stream",
     "text": [
      "Model weights saved in test-trainer/checkpoint-18165/pytorch_model.bin\n"
     ]
    },
    {
     "name": "stderr",
     "output_type": "stream",
     "text": [
      "/opt/conda/envs/pytorch/lib/python3.7/site-packages/torch/nn/parallel/_functions.py:65: UserWarning: Was asked to gather along dimension 0, but all input tensors were scalars; will instead unsqueeze and return a vector.\n",
      "  warnings.warn('Was asked to gather along dimension 0, but all '\n"
     ]
    },
    {
     "name": "stderr",
     "output_type": "stream",
     "text": [
      "The following columns in the evaluation set  don't have a corresponding argument in `DistilBertForSequenceClassification.forward` and have been ignored: item_id, brand, text, node, main_image_id, item_name.\n"
     ]
    },
    {
     "name": "stderr",
     "output_type": "stream",
     "text": [
      "***** Running Evaluation *****\n"
     ]
    },
    {
     "name": "stderr",
     "output_type": "stream",
     "text": [
      "  Num examples = 27677\n"
     ]
    },
    {
     "name": "stderr",
     "output_type": "stream",
     "text": [
      "  Batch size = 32\n"
     ]
    },
    {
     "name": "stderr",
     "output_type": "stream",
     "text": [
      "Saving model checkpoint to test-trainer/checkpoint-20760\n"
     ]
    },
    {
     "name": "stderr",
     "output_type": "stream",
     "text": [
      "Configuration saved in test-trainer/checkpoint-20760/config.json\n"
     ]
    },
    {
     "name": "stderr",
     "output_type": "stream",
     "text": [
      "Model weights saved in test-trainer/checkpoint-20760/pytorch_model.bin\n"
     ]
    },
    {
     "name": "stderr",
     "output_type": "stream",
     "text": [
      "/opt/conda/envs/pytorch/lib/python3.7/site-packages/torch/nn/parallel/_functions.py:65: UserWarning: Was asked to gather along dimension 0, but all input tensors were scalars; will instead unsqueeze and return a vector.\n",
      "  warnings.warn('Was asked to gather along dimension 0, but all '\n"
     ]
    },
    {
     "name": "stderr",
     "output_type": "stream",
     "text": [
      "The following columns in the evaluation set  don't have a corresponding argument in `DistilBertForSequenceClassification.forward` and have been ignored: item_id, brand, text, node, main_image_id, item_name.\n"
     ]
    },
    {
     "name": "stderr",
     "output_type": "stream",
     "text": [
      "***** Running Evaluation *****\n"
     ]
    },
    {
     "name": "stderr",
     "output_type": "stream",
     "text": [
      "  Num examples = 27677\n"
     ]
    },
    {
     "name": "stderr",
     "output_type": "stream",
     "text": [
      "  Batch size = 32\n"
     ]
    },
    {
     "name": "stderr",
     "output_type": "stream",
     "text": [
      "Saving model checkpoint to test-trainer/checkpoint-23355\n"
     ]
    },
    {
     "name": "stderr",
     "output_type": "stream",
     "text": [
      "Configuration saved in test-trainer/checkpoint-23355/config.json\n"
     ]
    },
    {
     "name": "stderr",
     "output_type": "stream",
     "text": [
      "Model weights saved in test-trainer/checkpoint-23355/pytorch_model.bin\n"
     ]
    },
    {
     "name": "stderr",
     "output_type": "stream",
     "text": [
      "/opt/conda/envs/pytorch/lib/python3.7/site-packages/torch/nn/parallel/_functions.py:65: UserWarning: Was asked to gather along dimension 0, but all input tensors were scalars; will instead unsqueeze and return a vector.\n",
      "  warnings.warn('Was asked to gather along dimension 0, but all '\n"
     ]
    },
    {
     "name": "stderr",
     "output_type": "stream",
     "text": [
      "The following columns in the evaluation set  don't have a corresponding argument in `DistilBertForSequenceClassification.forward` and have been ignored: item_id, brand, text, node, main_image_id, item_name.\n"
     ]
    },
    {
     "name": "stderr",
     "output_type": "stream",
     "text": [
      "***** Running Evaluation *****\n"
     ]
    },
    {
     "name": "stderr",
     "output_type": "stream",
     "text": [
      "  Num examples = 27677\n"
     ]
    },
    {
     "name": "stderr",
     "output_type": "stream",
     "text": [
      "  Batch size = 32\n"
     ]
    },
    {
     "name": "stderr",
     "output_type": "stream",
     "text": [
      "Saving model checkpoint to test-trainer/checkpoint-25950\n"
     ]
    },
    {
     "name": "stderr",
     "output_type": "stream",
     "text": [
      "Configuration saved in test-trainer/checkpoint-25950/config.json\n"
     ]
    },
    {
     "name": "stderr",
     "output_type": "stream",
     "text": [
      "Model weights saved in test-trainer/checkpoint-25950/pytorch_model.bin\n"
     ]
    },
    {
     "name": "stderr",
     "output_type": "stream",
     "text": [
      "\n",
      "\n",
      "Training completed. Do not forget to share your model on huggingface.co/models =)\n",
      "\n",
      "\n"
     ]
    },
    {
     "name": "stderr",
     "output_type": "stream",
     "text": [
      "Loading best model from test-trainer/checkpoint-10380 (score: 0.3465588390827179).\n"
     ]
    },
    {
     "data": {
      "text/plain": [
       "TrainOutput(global_step=25950, training_loss=0.20476344028649301, metrics={'train_runtime': 14713.3535, 'train_samples_per_second': 56.432, 'train_steps_per_second': 1.764, 'total_flos': 1.1020477053321216e+17, 'train_loss': 0.20476344028649301, 'epoch': 10.0})"
      ]
     },
     "execution_count": 19,
     "metadata": {},
     "output_type": "execute_result"
    }
   ],
   "source": [
    "trainer.train()"
   ]
  },
  {
   "cell_type": "code",
   "execution_count": null,
   "id": "a5f60569",
   "metadata": {
    "papermill": {
     "duration": 0.045327,
     "end_time": "2021-10-13T21:27:14.680529",
     "exception": false,
     "start_time": "2021-10-13T21:27:14.635202",
     "status": "completed"
    },
    "tags": []
   },
   "outputs": [],
   "source": []
  },
  {
   "cell_type": "code",
   "execution_count": null,
   "id": "d697474e",
   "metadata": {
    "papermill": {
     "duration": 0.044687,
     "end_time": "2021-10-13T21:27:14.768829",
     "exception": false,
     "start_time": "2021-10-13T21:27:14.724142",
     "status": "completed"
    },
    "tags": []
   },
   "outputs": [],
   "source": []
  },
  {
   "cell_type": "code",
   "execution_count": 20,
   "id": "afed445b",
   "metadata": {
    "execution": {
     "iopub.execute_input": "2021-10-13T21:27:14.859495Z",
     "iopub.status.busy": "2021-10-13T21:27:14.859092Z",
     "iopub.status.idle": "2021-10-13T21:29:59.052976Z",
     "shell.execute_reply": "2021-10-13T21:29:59.053296Z"
    },
    "papermill": {
     "duration": 164.240204,
     "end_time": "2021-10-13T21:29:59.053447",
     "exception": false,
     "start_time": "2021-10-13T21:27:14.813243",
     "status": "completed"
    },
    "tags": []
   },
   "outputs": [
    {
     "name": "stderr",
     "output_type": "stream",
     "text": [
      "The following columns in the evaluation set  don't have a corresponding argument in `DistilBertForSequenceClassification.forward` and have been ignored: item_id, brand, text, node, main_image_id, item_name.\n"
     ]
    },
    {
     "name": "stderr",
     "output_type": "stream",
     "text": [
      "***** Running Evaluation *****\n"
     ]
    },
    {
     "name": "stderr",
     "output_type": "stream",
     "text": [
      "  Num examples = 27677\n"
     ]
    },
    {
     "name": "stderr",
     "output_type": "stream",
     "text": [
      "  Batch size = 32\n"
     ]
    },
    {
     "name": "stderr",
     "output_type": "stream",
     "text": [
      "/opt/conda/envs/pytorch/lib/python3.7/site-packages/torch/nn/parallel/_functions.py:65: UserWarning: Was asked to gather along dimension 0, but all input tensors were scalars; will instead unsqueeze and return a vector.\n",
      "  warnings.warn('Was asked to gather along dimension 0, but all '\n"
     ]
    },
    {
     "data": {
      "text/html": [
       "\n",
       "    <div>\n",
       "      \n",
       "      <progress value='865' max='865' style='width:300px; height:20px; vertical-align: middle;'></progress>\n",
       "      [865/865 02:43]\n",
       "    </div>\n",
       "    "
      ],
      "text/plain": [
       "<IPython.core.display.HTML object>"
      ]
     },
     "metadata": {},
     "output_type": "display_data"
    },
    {
     "data": {
      "text/plain": [
       "{'eval_loss': 0.3465588390827179,\n",
       " 'eval_f1': 0.7347462286125184,\n",
       " 'eval_accuracy': 0.9129602196769881,\n",
       " 'eval_precision': 0.7667029797387779,\n",
       " 'eval_recall': 0.7249703024822686,\n",
       " 'eval_runtime': 164.1857,\n",
       " 'eval_samples_per_second': 168.571,\n",
       " 'eval_steps_per_second': 5.268,\n",
       " 'epoch': 10.0}"
      ]
     },
     "execution_count": 20,
     "metadata": {},
     "output_type": "execute_result"
    }
   ],
   "source": [
    "trainer.evaluate()"
   ]
  },
  {
   "cell_type": "code",
   "execution_count": null,
   "id": "a20e8e59",
   "metadata": {
    "papermill": {
     "duration": 0.044896,
     "end_time": "2021-10-13T21:29:59.146526",
     "exception": false,
     "start_time": "2021-10-13T21:29:59.101630",
     "status": "completed"
    },
    "tags": []
   },
   "outputs": [],
   "source": []
  },
  {
   "cell_type": "code",
   "execution_count": 21,
   "id": "d4796298",
   "metadata": {
    "execution": {
     "iopub.execute_input": "2021-10-13T21:29:59.255699Z",
     "iopub.status.busy": "2021-10-13T21:29:59.255302Z",
     "iopub.status.idle": "2021-10-13T21:29:59.265996Z",
     "shell.execute_reply": "2021-10-13T21:29:59.265664Z"
    },
    "papermill": {
     "duration": 0.074801,
     "end_time": "2021-10-13T21:29:59.266086",
     "exception": false,
     "start_time": "2021-10-13T21:29:59.191285",
     "status": "completed"
    },
    "tags": []
   },
   "outputs": [
    {
     "data": {
      "text/plain": [
       "{'input_ids': [101, 2273, 6007, 102], 'token_type_ids': [0, 0, 0, 0], 'attention_mask': [1, 1, 1, 1]}"
      ]
     },
     "execution_count": 21,
     "metadata": {},
     "output_type": "execute_result"
    }
   ],
   "source": [
    "tokenizer.encode_plus('men shoes', return_token_type_ids = True, return_attention_mask=True)"
   ]
  },
  {
   "cell_type": "code",
   "execution_count": 22,
   "id": "94622bbe",
   "metadata": {
    "execution": {
     "iopub.execute_input": "2021-10-13T21:29:59.363781Z",
     "iopub.status.busy": "2021-10-13T21:29:59.363382Z",
     "iopub.status.idle": "2021-10-13T21:29:59.365702Z",
     "shell.execute_reply": "2021-10-13T21:29:59.365382Z"
    },
    "papermill": {
     "duration": 0.052306,
     "end_time": "2021-10-13T21:29:59.365787",
     "exception": false,
     "start_time": "2021-10-13T21:29:59.313481",
     "status": "completed"
    },
    "tags": []
   },
   "outputs": [
    {
     "data": {
      "text/plain": [
       "['[CLS]', 'men', 'shoes', '[SEP]']"
      ]
     },
     "execution_count": 22,
     "metadata": {},
     "output_type": "execute_result"
    }
   ],
   "source": [
    "tokenizer.convert_ids_to_tokens([101, 2273, 6007, 102])"
   ]
  },
  {
   "cell_type": "markdown",
   "id": "74085196",
   "metadata": {
    "papermill": {
     "duration": 0.04706,
     "end_time": "2021-10-13T21:29:59.460199",
     "exception": false,
     "start_time": "2021-10-13T21:29:59.413139",
     "status": "completed"
    },
    "tags": []
   },
   "source": [
    "# Saving artifacts"
   ]
  },
  {
   "cell_type": "code",
   "execution_count": 23,
   "id": "e7e186b7",
   "metadata": {
    "execution": {
     "iopub.execute_input": "2021-10-13T21:29:59.560611Z",
     "iopub.status.busy": "2021-10-13T21:29:59.560105Z",
     "iopub.status.idle": "2021-10-13T21:29:59.562442Z",
     "shell.execute_reply": "2021-10-13T21:29:59.562092Z"
    },
    "papermill": {
     "duration": 0.054684,
     "end_time": "2021-10-13T21:29:59.562549",
     "exception": false,
     "start_time": "2021-10-13T21:29:59.507865",
     "status": "completed"
    },
    "tags": []
   },
   "outputs": [],
   "source": [
    "?model.save_pretrained"
   ]
  },
  {
   "cell_type": "code",
   "execution_count": null,
   "id": "48e97cf7",
   "metadata": {
    "papermill": {
     "duration": 0.04673,
     "end_time": "2021-10-13T21:29:59.656137",
     "exception": false,
     "start_time": "2021-10-13T21:29:59.609407",
     "status": "completed"
    },
    "tags": []
   },
   "outputs": [],
   "source": []
  },
  {
   "cell_type": "code",
   "execution_count": 24,
   "id": "57391a1e",
   "metadata": {
    "execution": {
     "iopub.execute_input": "2021-10-13T21:29:59.753294Z",
     "iopub.status.busy": "2021-10-13T21:29:59.752884Z",
     "iopub.status.idle": "2021-10-13T21:29:59.754771Z",
     "shell.execute_reply": "2021-10-13T21:29:59.754425Z"
    },
    "papermill": {
     "duration": 0.051855,
     "end_time": "2021-10-13T21:29:59.754857",
     "exception": false,
     "start_time": "2021-10-13T21:29:59.703002",
     "status": "completed"
    },
    "tags": []
   },
   "outputs": [],
   "source": [
    "model_dir ='../artifacts/model/amazon/'"
   ]
  },
  {
   "cell_type": "code",
   "execution_count": 25,
   "id": "e20b00bd",
   "metadata": {
    "execution": {
     "iopub.execute_input": "2021-10-13T21:29:59.848739Z",
     "iopub.status.busy": "2021-10-13T21:29:59.848348Z",
     "iopub.status.idle": "2021-10-13T21:30:00.891718Z",
     "shell.execute_reply": "2021-10-13T21:30:00.892066Z"
    },
    "papermill": {
     "duration": 1.091834,
     "end_time": "2021-10-13T21:30:00.892199",
     "exception": false,
     "start_time": "2021-10-13T21:29:59.800365",
     "status": "completed"
    },
    "tags": []
   },
   "outputs": [
    {
     "name": "stderr",
     "output_type": "stream",
     "text": [
      "Saving model checkpoint to ../artifacts/model/amazon/\n"
     ]
    },
    {
     "name": "stderr",
     "output_type": "stream",
     "text": [
      "Configuration saved in ../artifacts/model/amazon/config.json\n"
     ]
    },
    {
     "name": "stderr",
     "output_type": "stream",
     "text": [
      "Model weights saved in ../artifacts/model/amazon/pytorch_model.bin\n"
     ]
    }
   ],
   "source": [
    "trainer.save_model(model_dir)"
   ]
  },
  {
   "cell_type": "code",
   "execution_count": 26,
   "id": "15531bb1",
   "metadata": {
    "execution": {
     "iopub.execute_input": "2021-10-13T21:30:00.990730Z",
     "iopub.status.busy": "2021-10-13T21:30:00.990282Z",
     "iopub.status.idle": "2021-10-13T21:30:01.026934Z",
     "shell.execute_reply": "2021-10-13T21:30:01.026553Z"
    },
    "papermill": {
     "duration": 0.086204,
     "end_time": "2021-10-13T21:30:01.027030",
     "exception": false,
     "start_time": "2021-10-13T21:30:00.940826",
     "status": "completed"
    },
    "tags": []
   },
   "outputs": [
    {
     "name": "stderr",
     "output_type": "stream",
     "text": [
      "tokenizer config file saved in ../artifacts/model/amazon/tokenizer_config.json\n"
     ]
    },
    {
     "name": "stderr",
     "output_type": "stream",
     "text": [
      "Special tokens file saved in ../artifacts/model/amazon/special_tokens_map.json\n"
     ]
    },
    {
     "data": {
      "text/plain": [
       "('../artifacts/model/amazon/tokenizer_config.json',\n",
       " '../artifacts/model/amazon/special_tokens_map.json',\n",
       " '../artifacts/model/amazon/vocab.txt',\n",
       " '../artifacts/model/amazon/added_tokens.json',\n",
       " '../artifacts/model/amazon/tokenizer.json')"
      ]
     },
     "execution_count": 26,
     "metadata": {},
     "output_type": "execute_result"
    }
   ],
   "source": [
    "tokenizer.save_pretrained(model_dir)"
   ]
  },
  {
   "cell_type": "code",
   "execution_count": 27,
   "id": "5e157b86",
   "metadata": {
    "execution": {
     "iopub.execute_input": "2021-10-13T21:30:01.128253Z",
     "iopub.status.busy": "2021-10-13T21:30:01.127854Z",
     "iopub.status.idle": "2021-10-13T21:30:01.723703Z",
     "shell.execute_reply": "2021-10-13T21:30:01.724116Z"
    },
    "papermill": {
     "duration": 0.648249,
     "end_time": "2021-10-13T21:30:01.724299",
     "exception": false,
     "start_time": "2021-10-13T21:30:01.076050",
     "status": "completed"
    },
    "tags": []
   },
   "outputs": [
    {
     "name": "stderr",
     "output_type": "stream",
     "text": [
      "loading configuration file ../artifacts/model/amazon/config.json\n"
     ]
    },
    {
     "name": "stderr",
     "output_type": "stream",
     "text": [
      "Model config DistilBertConfig {\n",
      "  \"_name_or_path\": \"distilbert-base-uncased\",\n",
      "  \"activation\": \"gelu\",\n",
      "  \"architectures\": [\n",
      "    \"DistilBertForSequenceClassification\"\n",
      "  ],\n",
      "  \"attention_dropout\": 0.1,\n",
      "  \"dim\": 768,\n",
      "  \"dropout\": 0.1,\n",
      "  \"hidden_dim\": 3072,\n",
      "  \"id2label\": {\n",
      "    \"0\": \"ABIS_DRUGSTORE\",\n",
      "    \"1\": \"ABIS_LAWN_AND_GARDEN\",\n",
      "    \"2\": \"ACCESSORY\",\n",
      "    \"3\": \"ACCESSORY_OR_PART_OR_SUPPLY\",\n",
      "    \"4\": \"AUTO_ACCESSORY\",\n",
      "    \"5\": \"BABY_PRODUCT\",\n",
      "    \"6\": \"BACKPACK\",\n",
      "    \"7\": \"BATTERY\",\n",
      "    \"8\": \"BEAUTY\",\n",
      "    \"9\": \"BED\",\n",
      "    \"10\": \"BED_FRAME\",\n",
      "    \"11\": \"BENCH\",\n",
      "    \"12\": \"BISS\",\n",
      "    \"13\": \"BOOT\",\n",
      "    \"14\": \"BRACELET\",\n",
      "    \"15\": \"BREAD\",\n",
      "    \"16\": \"CABINET\",\n",
      "    \"17\": \"CELLULAR_PHONE_CASE\",\n",
      "    \"18\": \"CHAIR\",\n",
      "    \"19\": \"CHARGING_ADAPTER\",\n",
      "    \"20\": \"CLEANING_AGENT\",\n",
      "    \"21\": \"CLOCK\",\n",
      "    \"22\": \"CLOTHES_HANGER\",\n",
      "    \"23\": \"COFFEE\",\n",
      "    \"24\": \"COMPUTER_ADD_ON\",\n",
      "    \"25\": \"COMPUTER_COMPONENT\",\n",
      "    \"26\": \"DAIRY_BASED_DRINK\",\n",
      "    \"27\": \"DESK\",\n",
      "    \"28\": \"DRINKING_CUP\",\n",
      "    \"29\": \"EARRING\",\n",
      "    \"30\": \"EDIBLE_OIL_VEGETABLE\",\n",
      "    \"31\": \"ELECTRONIC_ADAPTER\",\n",
      "    \"32\": \"FILE_FOLDER\",\n",
      "    \"33\": \"FINEEARRING\",\n",
      "    \"34\": \"FINENECKLACEBRACELETANKLET\",\n",
      "    \"35\": \"FINEOTHER\",\n",
      "    \"36\": \"FINERING\",\n",
      "    \"37\": \"FLAT_SCREEN_DISPLAY_MOUNT\",\n",
      "    \"38\": \"FLAT_SHEET\",\n",
      "    \"39\": \"FOOD_SERVICE_SUPPLY\",\n",
      "    \"40\": \"FURNITURE\",\n",
      "    \"41\": \"FURNITURE_COVER\",\n",
      "    \"42\": \"GROCERY\",\n",
      "    \"43\": \"HANDBAG\",\n",
      "    \"44\": \"HARDWARE\",\n",
      "    \"45\": \"HARDWARE_HANDLE\",\n",
      "    \"46\": \"HAT\",\n",
      "    \"47\": \"HEADBOARD\",\n",
      "    \"48\": \"HEADPHONES\",\n",
      "    \"49\": \"HEALTH_PERSONAL_CARE\",\n",
      "    \"50\": \"HERB\",\n",
      "    \"51\": \"HOME\",\n",
      "    \"52\": \"HOME_BED_AND_BATH\",\n",
      "    \"53\": \"HOME_FURNITURE_AND_DECOR\",\n",
      "    \"54\": \"HOME_LIGHTING_AND_LAMPS\",\n",
      "    \"55\": \"HOME_MIRROR\",\n",
      "    \"56\": \"INSTRUMENT_PARTS_AND_ACCESSORIES\",\n",
      "    \"57\": \"JANITORIAL_SUPPLY\",\n",
      "    \"58\": \"JAR\",\n",
      "    \"59\": \"KITCHEN\",\n",
      "    \"60\": \"LABEL\",\n",
      "    \"61\": \"LAMP\",\n",
      "    \"62\": \"LEGUME\",\n",
      "    \"63\": \"LIGHT_BULB\",\n",
      "    \"64\": \"LIGHT_FIXTURE\",\n",
      "    \"65\": \"LUGGAGE\",\n",
      "    \"66\": \"MEDICATION\",\n",
      "    \"67\": \"NECKLACE\",\n",
      "    \"68\": \"NUTRITIONAL_SUPPLEMENT\",\n",
      "    \"69\": \"OFFICE_ELECTRONICS\",\n",
      "    \"70\": \"OFFICE_PRODUCTS\",\n",
      "    \"71\": \"OTTOMAN\",\n",
      "    \"72\": \"OUTDOOR_LIVING\",\n",
      "    \"73\": \"PANTRY\",\n",
      "    \"74\": \"PET_SUPPLIES\",\n",
      "    \"75\": \"PILLOW\",\n",
      "    \"76\": \"PLANTER\",\n",
      "    \"77\": \"PLUMBING_FIXTURE\",\n",
      "    \"78\": \"PORTABLE_ELECTRONIC_DEVICE_COVER\",\n",
      "    \"79\": \"RECREATION_BALL\",\n",
      "    \"80\": \"RING\",\n",
      "    \"81\": \"RUG\",\n",
      "    \"82\": \"SAFETY_SUPPLY\",\n",
      "    \"83\": \"SANDAL\",\n",
      "    \"84\": \"SAUCE\",\n",
      "    \"85\": \"SAUTE_FRY_PAN\",\n",
      "    \"86\": \"SCREEN_PROTECTOR\",\n",
      "    \"87\": \"SHELF\",\n",
      "    \"88\": \"SHOES\",\n",
      "    \"89\": \"SKIN_CLEANING_AGENT\",\n",
      "    \"90\": \"SKIN_MOISTURIZER\",\n",
      "    \"91\": \"SOFA\",\n",
      "    \"92\": \"SPEAKERS\",\n",
      "    \"93\": \"SPORTING_GOODS\",\n",
      "    \"94\": \"STOOL_SEATING\",\n",
      "    \"95\": \"STORAGE_BAG\",\n",
      "    \"96\": \"STORAGE_BINDER\",\n",
      "    \"97\": \"STORAGE_BOX\",\n",
      "    \"98\": \"STORAGE_HOOK\",\n",
      "    \"99\": \"SUITCASE\",\n",
      "    \"100\": \"TABLE\",\n",
      "    \"101\": \"TEA\",\n",
      "    \"102\": \"THERMOPLASTIC_FILAMENT\",\n",
      "    \"103\": \"TOOLS\",\n",
      "    \"104\": \"TOWEL_HOLDER\",\n",
      "    \"105\": \"UMBRELLA\",\n",
      "    \"106\": \"VITAMIN\",\n",
      "    \"107\": \"WALLET\",\n",
      "    \"108\": \"WALL_ART\",\n",
      "    \"109\": \"WASTE_BAG\",\n",
      "    \"110\": \"WIRELESS_ACCESSORY\",\n",
      "    \"111\": \"WRITING_INSTRUMENT\"\n",
      "  },\n",
      "  \"initializer_range\": 0.02,\n",
      "  \"label2id\": {\n",
      "    \"ABIS_DRUGSTORE\": 0,\n",
      "    \"ABIS_LAWN_AND_GARDEN\": 1,\n",
      "    \"ACCESSORY\": 2,\n",
      "    \"ACCESSORY_OR_PART_OR_SUPPLY\": 3,\n",
      "    \"AUTO_ACCESSORY\": 4,\n",
      "    \"BABY_PRODUCT\": 5,\n",
      "    \"BACKPACK\": 6,\n",
      "    \"BATTERY\": 7,\n",
      "    \"BEAUTY\": 8,\n",
      "    \"BED\": 9,\n",
      "    \"BED_FRAME\": 10,\n",
      "    \"BENCH\": 11,\n",
      "    \"BISS\": 12,\n",
      "    \"BOOT\": 13,\n",
      "    \"BRACELET\": 14,\n",
      "    \"BREAD\": 15,\n",
      "    \"CABINET\": 16,\n",
      "    \"CELLULAR_PHONE_CASE\": 17,\n",
      "    \"CHAIR\": 18,\n",
      "    \"CHARGING_ADAPTER\": 19,\n",
      "    \"CLEANING_AGENT\": 20,\n",
      "    \"CLOCK\": 21,\n",
      "    \"CLOTHES_HANGER\": 22,\n",
      "    \"COFFEE\": 23,\n",
      "    \"COMPUTER_ADD_ON\": 24,\n",
      "    \"COMPUTER_COMPONENT\": 25,\n",
      "    \"DAIRY_BASED_DRINK\": 26,\n",
      "    \"DESK\": 27,\n",
      "    \"DRINKING_CUP\": 28,\n",
      "    \"EARRING\": 29,\n",
      "    \"EDIBLE_OIL_VEGETABLE\": 30,\n",
      "    \"ELECTRONIC_ADAPTER\": 31,\n",
      "    \"FILE_FOLDER\": 32,\n",
      "    \"FINEEARRING\": 33,\n",
      "    \"FINENECKLACEBRACELETANKLET\": 34,\n",
      "    \"FINEOTHER\": 35,\n",
      "    \"FINERING\": 36,\n",
      "    \"FLAT_SCREEN_DISPLAY_MOUNT\": 37,\n",
      "    \"FLAT_SHEET\": 38,\n",
      "    \"FOOD_SERVICE_SUPPLY\": 39,\n",
      "    \"FURNITURE\": 40,\n",
      "    \"FURNITURE_COVER\": 41,\n",
      "    \"GROCERY\": 42,\n",
      "    \"HANDBAG\": 43,\n",
      "    \"HARDWARE\": 44,\n",
      "    \"HARDWARE_HANDLE\": 45,\n",
      "    \"HAT\": 46,\n",
      "    \"HEADBOARD\": 47,\n",
      "    \"HEADPHONES\": 48,\n",
      "    \"HEALTH_PERSONAL_CARE\": 49,\n",
      "    \"HERB\": 50,\n",
      "    \"HOME\": 51,\n",
      "    \"HOME_BED_AND_BATH\": 52,\n",
      "    \"HOME_FURNITURE_AND_DECOR\": 53,\n",
      "    \"HOME_LIGHTING_AND_LAMPS\": 54,\n",
      "    \"HOME_MIRROR\": 55,\n",
      "    \"INSTRUMENT_PARTS_AND_ACCESSORIES\": 56,\n",
      "    \"JANITORIAL_SUPPLY\": 57,\n",
      "    \"JAR\": 58,\n",
      "    \"KITCHEN\": 59,\n",
      "    \"LABEL\": 60,\n",
      "    \"LAMP\": 61,\n",
      "    \"LEGUME\": 62,\n",
      "    \"LIGHT_BULB\": 63,\n",
      "    \"LIGHT_FIXTURE\": 64,\n",
      "    \"LUGGAGE\": 65,\n",
      "    \"MEDICATION\": 66,\n",
      "    \"NECKLACE\": 67,\n",
      "    \"NUTRITIONAL_SUPPLEMENT\": 68,\n",
      "    \"OFFICE_ELECTRONICS\": 69,\n",
      "    \"OFFICE_PRODUCTS\": 70,\n",
      "    \"OTTOMAN\": 71,\n",
      "    \"OUTDOOR_LIVING\": 72,\n",
      "    \"PANTRY\": 73,\n",
      "    \"PET_SUPPLIES\": 74,\n",
      "    \"PILLOW\": 75,\n",
      "    \"PLANTER\": 76,\n",
      "    \"PLUMBING_FIXTURE\": 77,\n",
      "    \"PORTABLE_ELECTRONIC_DEVICE_COVER\": 78,\n",
      "    \"RECREATION_BALL\": 79,\n",
      "    \"RING\": 80,\n",
      "    \"RUG\": 81,\n",
      "    \"SAFETY_SUPPLY\": 82,\n",
      "    \"SANDAL\": 83,\n",
      "    \"SAUCE\": 84,\n",
      "    \"SAUTE_FRY_PAN\": 85,\n",
      "    \"SCREEN_PROTECTOR\": 86,\n",
      "    \"SHELF\": 87,\n",
      "    \"SHOES\": 88,\n",
      "    \"SKIN_CLEANING_AGENT\": 89,\n",
      "    \"SKIN_MOISTURIZER\": 90,\n",
      "    \"SOFA\": 91,\n",
      "    \"SPEAKERS\": 92,\n",
      "    \"SPORTING_GOODS\": 93,\n",
      "    \"STOOL_SEATING\": 94,\n",
      "    \"STORAGE_BAG\": 95,\n",
      "    \"STORAGE_BINDER\": 96,\n",
      "    \"STORAGE_BOX\": 97,\n",
      "    \"STORAGE_HOOK\": 98,\n",
      "    \"SUITCASE\": 99,\n",
      "    \"TABLE\": 100,\n",
      "    \"TEA\": 101,\n",
      "    \"THERMOPLASTIC_FILAMENT\": 102,\n",
      "    \"TOOLS\": 103,\n",
      "    \"TOWEL_HOLDER\": 104,\n",
      "    \"UMBRELLA\": 105,\n",
      "    \"VITAMIN\": 106,\n",
      "    \"WALLET\": 107,\n",
      "    \"WALL_ART\": 108,\n",
      "    \"WASTE_BAG\": 109,\n",
      "    \"WIRELESS_ACCESSORY\": 110,\n",
      "    \"WRITING_INSTRUMENT\": 111\n",
      "  },\n",
      "  \"max_position_embeddings\": 512,\n",
      "  \"model_type\": \"distilbert\",\n",
      "  \"n_heads\": 12,\n",
      "  \"n_layers\": 6,\n",
      "  \"pad_token_id\": 0,\n",
      "  \"problem_type\": \"single_label_classification\",\n",
      "  \"qa_dropout\": 0.1,\n",
      "  \"seq_classif_dropout\": 0.2,\n",
      "  \"sinusoidal_pos_embds\": false,\n",
      "  \"tie_weights_\": true,\n",
      "  \"torch_dtype\": \"float32\",\n",
      "  \"transformers_version\": \"4.11.1\",\n",
      "  \"vocab_size\": 30522\n",
      "}\n",
      "\n"
     ]
    },
    {
     "name": "stderr",
     "output_type": "stream",
     "text": [
      "loading weights file ../artifacts/model/amazon/pytorch_model.bin\n"
     ]
    },
    {
     "name": "stderr",
     "output_type": "stream",
     "text": [
      "All model checkpoint weights were used when initializing DistilBertForSequenceClassification.\n",
      "\n"
     ]
    },
    {
     "name": "stderr",
     "output_type": "stream",
     "text": [
      "All the weights of DistilBertForSequenceClassification were initialized from the model checkpoint at ../artifacts/model/amazon/.\n",
      "If your task is similar to the task the model of the checkpoint was trained on, you can already use DistilBertForSequenceClassification for predictions without further training.\n"
     ]
    }
   ],
   "source": [
    "model2 = transformers.AutoModelForSequenceClassification.from_pretrained(model_dir, num_labels=len(labels))"
   ]
  },
  {
   "cell_type": "markdown",
   "id": "59df12e9",
   "metadata": {
    "papermill": {
     "duration": 0.070227,
     "end_time": "2021-10-13T21:30:01.868562",
     "exception": false,
     "start_time": "2021-10-13T21:30:01.798335",
     "status": "completed"
    },
    "tags": []
   },
   "source": [
    "# Loading Artifacts"
   ]
  },
  {
   "cell_type": "code",
   "execution_count": 28,
   "id": "cf15d237",
   "metadata": {
    "execution": {
     "iopub.execute_input": "2021-10-13T21:30:01.983756Z",
     "iopub.status.busy": "2021-10-13T21:30:01.983325Z",
     "iopub.status.idle": "2021-10-13T21:30:02.009878Z",
     "shell.execute_reply": "2021-10-13T21:30:02.010187Z"
    },
    "papermill": {
     "duration": 0.081481,
     "end_time": "2021-10-13T21:30:02.010299",
     "exception": false,
     "start_time": "2021-10-13T21:30:01.928818",
     "status": "completed"
    },
    "tags": []
   },
   "outputs": [
    {
     "name": "stderr",
     "output_type": "stream",
     "text": [
      "Didn't find file ../artifacts/model/amazon/added_tokens.json. We won't load it.\n"
     ]
    },
    {
     "name": "stderr",
     "output_type": "stream",
     "text": [
      "loading file ../artifacts/model/amazon/vocab.txt\n"
     ]
    },
    {
     "name": "stderr",
     "output_type": "stream",
     "text": [
      "loading file ../artifacts/model/amazon/tokenizer.json\n"
     ]
    },
    {
     "name": "stderr",
     "output_type": "stream",
     "text": [
      "loading file None\n"
     ]
    },
    {
     "name": "stderr",
     "output_type": "stream",
     "text": [
      "loading file ../artifacts/model/amazon/special_tokens_map.json\n"
     ]
    },
    {
     "name": "stderr",
     "output_type": "stream",
     "text": [
      "loading file ../artifacts/model/amazon/tokenizer_config.json\n"
     ]
    }
   ],
   "source": [
    "tokenizer2 = transformers.AutoTokenizer.from_pretrained(\n",
    "                model_dir\n",
    "            )"
   ]
  },
  {
   "cell_type": "code",
   "execution_count": null,
   "id": "0b7f277f",
   "metadata": {
    "papermill": {
     "duration": 0.051271,
     "end_time": "2021-10-13T21:30:02.112822",
     "exception": false,
     "start_time": "2021-10-13T21:30:02.061551",
     "status": "completed"
    },
    "tags": []
   },
   "outputs": [],
   "source": []
  },
  {
   "cell_type": "code",
   "execution_count": null,
   "id": "9bd23976",
   "metadata": {
    "papermill": {
     "duration": 0.049192,
     "end_time": "2021-10-13T21:30:02.212095",
     "exception": false,
     "start_time": "2021-10-13T21:30:02.162903",
     "status": "completed"
    },
    "tags": []
   },
   "outputs": [],
   "source": []
  },
  {
   "cell_type": "code",
   "execution_count": null,
   "id": "918dff4c",
   "metadata": {
    "papermill": {
     "duration": 0.048593,
     "end_time": "2021-10-13T21:30:02.310482",
     "exception": false,
     "start_time": "2021-10-13T21:30:02.261889",
     "status": "completed"
    },
    "tags": []
   },
   "outputs": [],
   "source": []
  },
  {
   "cell_type": "markdown",
   "id": "f962a4d2",
   "metadata": {
    "papermill": {
     "duration": 0.047858,
     "end_time": "2021-10-13T21:30:02.407748",
     "exception": false,
     "start_time": "2021-10-13T21:30:02.359890",
     "status": "completed"
    },
    "tags": []
   },
   "source": [
    "# Predicting on new example"
   ]
  },
  {
   "cell_type": "code",
   "execution_count": 29,
   "id": "fbb00e71",
   "metadata": {
    "execution": {
     "iopub.execute_input": "2021-10-13T21:30:02.509258Z",
     "iopub.status.busy": "2021-10-13T21:30:02.508837Z",
     "iopub.status.idle": "2021-10-13T21:30:02.510572Z",
     "shell.execute_reply": "2021-10-13T21:30:02.510903Z"
    },
    "papermill": {
     "duration": 0.054221,
     "end_time": "2021-10-13T21:30:02.511017",
     "exception": false,
     "start_time": "2021-10-13T21:30:02.456796",
     "status": "completed"
    },
    "tags": []
   },
   "outputs": [],
   "source": [
    "query = 'comfortable men sandals'"
   ]
  },
  {
   "cell_type": "code",
   "execution_count": 30,
   "id": "d8fcdc0f",
   "metadata": {
    "execution": {
     "iopub.execute_input": "2021-10-13T21:30:02.617775Z",
     "iopub.status.busy": "2021-10-13T21:30:02.617110Z",
     "iopub.status.idle": "2021-10-13T21:30:02.620325Z",
     "shell.execute_reply": "2021-10-13T21:30:02.619992Z"
    },
    "papermill": {
     "duration": 0.056623,
     "end_time": "2021-10-13T21:30:02.620416",
     "exception": false,
     "start_time": "2021-10-13T21:30:02.563793",
     "status": "completed"
    },
    "tags": []
   },
   "outputs": [
    {
     "data": {
      "text/plain": [
       "{'input_ids': [101, 6625, 2273, 24617, 102], 'attention_mask': [1, 1, 1, 1, 1]}"
      ]
     },
     "execution_count": 30,
     "metadata": {},
     "output_type": "execute_result"
    }
   ],
   "source": [
    "tokenizer2(query)"
   ]
  },
  {
   "cell_type": "code",
   "execution_count": 31,
   "id": "87d61401",
   "metadata": {
    "execution": {
     "iopub.execute_input": "2021-10-13T21:30:02.726401Z",
     "iopub.status.busy": "2021-10-13T21:30:02.725990Z",
     "iopub.status.idle": "2021-10-13T21:30:02.727530Z",
     "shell.execute_reply": "2021-10-13T21:30:02.727842Z"
    },
    "papermill": {
     "duration": 0.056524,
     "end_time": "2021-10-13T21:30:02.727949",
     "exception": false,
     "start_time": "2021-10-13T21:30:02.671425",
     "status": "completed"
    },
    "tags": []
   },
   "outputs": [],
   "source": [
    "res = tokenizer2.encode_plus(query, return_tensors=\"pt\")"
   ]
  },
  {
   "cell_type": "code",
   "execution_count": 32,
   "id": "4cdd6d48",
   "metadata": {
    "execution": {
     "iopub.execute_input": "2021-10-13T21:30:02.834689Z",
     "iopub.status.busy": "2021-10-13T21:30:02.834242Z",
     "iopub.status.idle": "2021-10-13T21:30:02.836928Z",
     "shell.execute_reply": "2021-10-13T21:30:02.837241Z"
    },
    "papermill": {
     "duration": 0.056911,
     "end_time": "2021-10-13T21:30:02.837346",
     "exception": false,
     "start_time": "2021-10-13T21:30:02.780435",
     "status": "completed"
    },
    "tags": []
   },
   "outputs": [
    {
     "data": {
      "text/plain": [
       "{'input_ids': tensor([[  101,  6625,  2273, 24617,   102]]), 'attention_mask': tensor([[1, 1, 1, 1, 1]])}"
      ]
     },
     "execution_count": 32,
     "metadata": {},
     "output_type": "execute_result"
    }
   ],
   "source": [
    "res"
   ]
  },
  {
   "cell_type": "code",
   "execution_count": null,
   "id": "a2a25875",
   "metadata": {
    "papermill": {
     "duration": 0.051827,
     "end_time": "2021-10-13T21:30:02.940763",
     "exception": false,
     "start_time": "2021-10-13T21:30:02.888936",
     "status": "completed"
    },
    "tags": []
   },
   "outputs": [],
   "source": []
  },
  {
   "cell_type": "code",
   "execution_count": 33,
   "id": "7fd3190f",
   "metadata": {
    "execution": {
     "iopub.execute_input": "2021-10-13T21:30:03.046274Z",
     "iopub.status.busy": "2021-10-13T21:30:03.045861Z",
     "iopub.status.idle": "2021-10-13T21:30:03.737863Z",
     "shell.execute_reply": "2021-10-13T21:30:03.738250Z"
    },
    "papermill": {
     "duration": 0.746241,
     "end_time": "2021-10-13T21:30:03.738407",
     "exception": false,
     "start_time": "2021-10-13T21:30:02.992166",
     "status": "completed"
    },
    "tags": []
   },
   "outputs": [
    {
     "data": {
      "text/plain": [
       "SequenceClassifierOutput(loss=None, logits=tensor([[ -7.9003,  -6.6868,  -0.9343,  -7.9616,  -7.8769,  -5.0596,  -8.1236,\n",
       "          -8.5895,  -4.5717,  -8.4333, -11.7893,  -9.8893,  -5.9735,  -6.6080,\n",
       "          -4.9853,  -5.2587,  -7.8393, -11.2992,  -8.1207,  -9.6255,  -9.3650,\n",
       "          -8.2931,  -9.9519,  -5.1105,  -9.1959,  -7.9620, -10.6792, -11.4846,\n",
       "          -9.5176,  -6.0061,  -7.9634,  -9.4303, -12.8301,  -6.8259,  -4.4912,\n",
       "          -3.0508,  -9.6358,  -8.9353, -10.5833,  -9.1380,  -8.0518,  -8.2076,\n",
       "          -0.8344,  -5.9430,  -9.0120, -10.7401,  -1.5854,  -6.4099,  -8.6923,\n",
       "          -3.4950,  -3.7238,  -6.2071,  -7.4372,  -6.5529,  -5.5914,  -9.1043,\n",
       "         -10.2239,  -8.4656, -12.2046,  -8.5575, -14.1078,  -5.0134,  -4.5873,\n",
       "         -10.0449,  -8.2942,  -7.1035,  -5.0914,  -2.6161,  -5.9385, -13.9249,\n",
       "          -8.8573, -11.1525,  -4.6429,  -3.9677,  -4.8164,  -9.4566,  -8.6195,\n",
       "          -9.6696, -12.3765,  -6.4477,  -7.5252,  -6.8860,  -6.3124,  -0.8204,\n",
       "          -7.1735,  -7.8208,  -9.4677,  -8.2990,  -4.4356,  -6.9957,  -6.6080,\n",
       "          -7.1650,  -9.8538,  -1.1560,  -9.4409, -10.4367, -11.6379, -11.2123,\n",
       "         -12.3896,  -9.5497,  -5.4387,  -5.1302,  -9.9622,  -6.9125, -12.7941,\n",
       "          -6.8630,  -6.9978,  -6.3535,  -5.4467,  -5.7166,  -7.7640,  -7.8132]],\n",
       "       grad_fn=<AddmmBackward>), hidden_states=None, attentions=None)"
      ]
     },
     "execution_count": 33,
     "metadata": {},
     "output_type": "execute_result"
    }
   ],
   "source": [
    "model_res = model2(**res)\n",
    "model_res"
   ]
  },
  {
   "cell_type": "code",
   "execution_count": 34,
   "id": "e1e93f6a",
   "metadata": {
    "execution": {
     "iopub.execute_input": "2021-10-13T21:30:03.863951Z",
     "iopub.status.busy": "2021-10-13T21:30:03.863298Z",
     "iopub.status.idle": "2021-10-13T21:30:03.867207Z",
     "shell.execute_reply": "2021-10-13T21:30:03.867510Z"
    },
    "papermill": {
     "duration": 0.059224,
     "end_time": "2021-10-13T21:30:03.867615",
     "exception": false,
     "start_time": "2021-10-13T21:30:03.808391",
     "status": "completed"
    },
    "tags": []
   },
   "outputs": [
    {
     "data": {
      "text/plain": [
       "tensor([[ -7.9003,  -6.6868,  -0.9343,  -7.9616,  -7.8769,  -5.0596,  -8.1236,\n",
       "          -8.5895,  -4.5717,  -8.4333, -11.7893,  -9.8893,  -5.9735,  -6.6080,\n",
       "          -4.9853,  -5.2587,  -7.8393, -11.2992,  -8.1207,  -9.6255,  -9.3650,\n",
       "          -8.2931,  -9.9519,  -5.1105,  -9.1959,  -7.9620, -10.6792, -11.4846,\n",
       "          -9.5176,  -6.0061,  -7.9634,  -9.4303, -12.8301,  -6.8259,  -4.4912,\n",
       "          -3.0508,  -9.6358,  -8.9353, -10.5833,  -9.1380,  -8.0518,  -8.2076,\n",
       "          -0.8344,  -5.9430,  -9.0120, -10.7401,  -1.5854,  -6.4099,  -8.6923,\n",
       "          -3.4950,  -3.7238,  -6.2071,  -7.4372,  -6.5529,  -5.5914,  -9.1043,\n",
       "         -10.2239,  -8.4656, -12.2046,  -8.5575, -14.1078,  -5.0134,  -4.5873,\n",
       "         -10.0449,  -8.2942,  -7.1035,  -5.0914,  -2.6161,  -5.9385, -13.9249,\n",
       "          -8.8573, -11.1525,  -4.6429,  -3.9677,  -4.8164,  -9.4566,  -8.6195,\n",
       "          -9.6696, -12.3765,  -6.4477,  -7.5252,  -6.8860,  -6.3124,  -0.8204,\n",
       "          -7.1735,  -7.8208,  -9.4677,  -8.2990,  -4.4356,  -6.9957,  -6.6080,\n",
       "          -7.1650,  -9.8538,  -1.1560,  -9.4409, -10.4367, -11.6379, -11.2123,\n",
       "         -12.3896,  -9.5497,  -5.4387,  -5.1302,  -9.9622,  -6.9125, -12.7941,\n",
       "          -6.8630,  -6.9978,  -6.3535,  -5.4467,  -5.7166,  -7.7640,  -7.8132]],\n",
       "       grad_fn=<AddmmBackward>)"
      ]
     },
     "execution_count": 34,
     "metadata": {},
     "output_type": "execute_result"
    }
   ],
   "source": [
    "model_res[0]"
   ]
  },
  {
   "cell_type": "code",
   "execution_count": null,
   "id": "d16290ea",
   "metadata": {
    "papermill": {
     "duration": 0.052205,
     "end_time": "2021-10-13T21:30:03.971795",
     "exception": false,
     "start_time": "2021-10-13T21:30:03.919590",
     "status": "completed"
    },
    "tags": []
   },
   "outputs": [],
   "source": []
  },
  {
   "cell_type": "code",
   "execution_count": 35,
   "id": "57808066",
   "metadata": {
    "execution": {
     "iopub.execute_input": "2021-10-13T21:30:04.081586Z",
     "iopub.status.busy": "2021-10-13T21:30:04.080981Z",
     "iopub.status.idle": "2021-10-13T21:30:04.083144Z",
     "shell.execute_reply": "2021-10-13T21:30:04.082805Z"
    },
    "papermill": {
     "duration": 0.059255,
     "end_time": "2021-10-13T21:30:04.083233",
     "exception": false,
     "start_time": "2021-10-13T21:30:04.023978",
     "status": "completed"
    },
    "tags": []
   },
   "outputs": [],
   "source": [
    "predictions = list ( zip (labels , torch.softmax(model_res.logits, dim=1).tolist()[0] ) )\n",
    "predictions = sorted (predictions , key=lambda x:x[1] , reverse =True)"
   ]
  },
  {
   "cell_type": "code",
   "execution_count": null,
   "id": "28b98f2a",
   "metadata": {
    "papermill": {
     "duration": 0.051959,
     "end_time": "2021-10-13T21:30:04.187520",
     "exception": false,
     "start_time": "2021-10-13T21:30:04.135561",
     "status": "completed"
    },
    "tags": []
   },
   "outputs": [],
   "source": []
  },
  {
   "cell_type": "code",
   "execution_count": 36,
   "id": "dbe38379",
   "metadata": {
    "execution": {
     "iopub.execute_input": "2021-10-13T21:30:04.303177Z",
     "iopub.status.busy": "2021-10-13T21:30:04.302535Z",
     "iopub.status.idle": "2021-10-13T21:30:04.305236Z",
     "shell.execute_reply": "2021-10-13T21:30:04.305589Z"
    },
    "papermill": {
     "duration": 0.066113,
     "end_time": "2021-10-13T21:30:04.305716",
     "exception": false,
     "start_time": "2021-10-13T21:30:04.239603",
     "status": "completed"
    },
    "tags": []
   },
   "outputs": [
    {
     "data": {
      "text/plain": [
       "[('SANDAL', 0.2054256796836853),\n",
       " ('GROCERY', 0.2025657445192337),\n",
       " ('ACCESSORY', 0.1833166927099228),\n",
       " ('SPORTING_GOODS', 0.14686335623264313),\n",
       " ('HAT', 0.0955934226512909),\n",
       " ('NECKLACE', 0.034101832658052444),\n",
       " ('FINEOTHER', 0.02208072319626808),\n",
       " ('HEALTH_PERSONAL_CARE', 0.014161545783281326),\n",
       " ('HERB', 0.011264330707490444),\n",
       " ('PANTRY', 0.008826467208564281),\n",
       " ('SHOES', 0.005528533831238747),\n",
       " ('FINENECKLACEBRACELETANKLET', 0.005229537840932608),\n",
       " ('BEAUTY', 0.0048246257938444614),\n",
       " ('LEGUME', 0.00475027970969677),\n",
       " ('OUTDOOR_LIVING', 0.00449340371415019),\n",
       " ('PET_SUPPLIES', 0.0037776813842356205),\n",
       " ('BRACELET', 0.003190439660102129),\n",
       " ('LAMP', 0.003102256450802088),\n",
       " ('BABY_PRODUCT', 0.002961968770250678),\n",
       " ('MEDICATION', 0.00286941509693861),\n",
       " ('COFFEE', 0.0028150901198387146),\n",
       " ('TEA', 0.002760168630629778),\n",
       " ('BREAD', 0.0024273807648569345),\n",
       " ('TABLE', 0.0020274301059544086),\n",
       " ('WALL_ART', 0.002011240227147937),\n",
       " ('HOME_LIGHTING_AND_LAMPS', 0.0017404173268005252),\n",
       " ('WASTE_BAG', 0.0015354640781879425),\n",
       " ('NUTRITIONAL_SUPPLEMENT', 0.0012299068039283156),\n",
       " ('HANDBAG', 0.001224486855790019),\n",
       " ('BISS', 0.0011876836651936173),\n",
       " ('EARRING', 0.0011495368089526892),\n",
       " ('HOME', 0.0009402507566846907),\n",
       " ('SAFETY_SUPPLY', 0.0008463063859380782),\n",
       " ('WALLET', 0.0008121883147396147),\n",
       " ('HEADBOARD', 0.0007676873356103897),\n",
       " ('RECREATION_BALL', 0.0007392020197585225),\n",
       " ('HOME_FURNITURE_AND_DECOR', 0.0006653776508755982),\n",
       " ('BOOT', 0.0006296900101006031),\n",
       " ('SKIN_MOISTURIZER', 0.0006296641658991575),\n",
       " ('ABIS_LAWN_AND_GARDEN', 0.0005819721845909953),\n",
       " ('FINEEARRING', 0.0005064127617515624),\n",
       " ('UMBRELLA', 0.0004879699263256043),\n",
       " ('RUG', 0.0004768857324961573),\n",
       " ('TOOLS', 0.0004644088330678642),\n",
       " ('SKIN_CLEANING_AGENT', 0.00042731454595923424),\n",
       " ('VITAMIN', 0.0004264053131919354),\n",
       " ('LUGGAGE', 0.00038363636122085154),\n",
       " ('SOFA', 0.0003607593826018274),\n",
       " ('SAUCE', 0.0003577248426154256),\n",
       " ('HOME_BED_AND_BATH', 0.00027479123673401773),\n",
       " ('RING', 0.0002516507520340383),\n",
       " ('WIRELESS_ACCESSORY', 0.00019818222790490836),\n",
       " ('WRITING_INSTRUMENT', 0.00018867087783291936),\n",
       " ('SAUTE_FRY_PAN', 0.0001872559223556891),\n",
       " ('CABINET', 0.00018382513371761888),\n",
       " ('AUTO_ACCESSORY', 0.00017703733465168625),\n",
       " ('ABIS_DRUGSTORE', 0.00017293402925133705),\n",
       " ('ACCESSORY_OR_PART_OR_SUPPLY', 0.00016264771693386137),\n",
       " ('COMPUTER_COMPONENT', 0.0001625911972951144),\n",
       " ('EDIBLE_OIL_VEGETABLE', 0.00016235907969530672),\n",
       " ('FURNITURE', 0.0001486194523749873),\n",
       " ('CHAIR', 0.00013873373973183334),\n",
       " ('BACKPACK', 0.00013832803233526647),\n",
       " ('FURNITURE_COVER', 0.00012718704238068312),\n",
       " ('CLOCK', 0.00011676649592118338),\n",
       " ('LIGHT_FIXTURE', 0.0001166367219411768),\n",
       " ('SHELF', 0.00011607900523813441),\n",
       " ('BED', 0.00010148612636839971),\n",
       " ('JANITORIAL_SUPPLY', 9.826481982599944e-05),\n",
       " ('KITCHEN', 8.963853179011494e-05),\n",
       " ('BATTERY', 8.681032340973616e-05),\n",
       " ('PLANTER', 8.42492954689078e-05),\n",
       " ('HEADPHONES', 7.83271825639531e-05),\n",
       " ('OFFICE_PRODUCTS', 6.641860090894625e-05),\n",
       " ('FLAT_SCREEN_DISPLAY_MOUNT', 6.143466453067958e-05),\n",
       " ('HARDWARE', 5.689938916475512e-05),\n",
       " ('HOME_MIRROR', 5.187907299841754e-05),\n",
       " ('FOOD_SERVICE_SUPPLY', 5.016055001760833e-05),\n",
       " ('COMPUTER_ADD_ON', 4.7340025048470125e-05),\n",
       " ('CLEANING_AGENT', 3.99754244426731e-05),\n",
       " ('ELECTRONIC_ADAPTER', 3.7447789509315044e-05),\n",
       " ('STOOL_SEATING', 3.705233757500537e-05),\n",
       " ('PILLOW', 3.64768820872996e-05),\n",
       " ('SCREEN_PROTECTOR', 3.607186590670608e-05),\n",
       " ('DRINKING_CUP', 3.431804361753166e-05),\n",
       " ('SUITCASE', 3.323244527564384e-05),\n",
       " ('CHARGING_ADAPTER', 3.0806942959316075e-05),\n",
       " ('FINERING', 3.04903387586819e-05),\n",
       " ('PLUMBING_FIXTURE', 2.9478642318281345e-05),\n",
       " ('SPEAKERS', 2.4517883502994664e-05),\n",
       " ('BENCH', 2.3662529201828875e-05),\n",
       " ('CLOTHES_HANGER', 2.2227382942219265e-05),\n",
       " ('THERMOPLASTIC_FILAMENT', 2.2000253011356108e-05),\n",
       " ('LIGHT_BULB', 2.0254288756405003e-05),\n",
       " ('INSTRUMENT_PARTS_AND_ACCESSORIES', 1.6933716324274428e-05),\n",
       " ('STORAGE_BAG', 1.3688397302757949e-05),\n",
       " ('FLAT_SHEET', 1.1822213309642393e-05),\n",
       " ('DAIRY_BASED_DRINK', 1.0740272955445107e-05),\n",
       " ('HARDWARE_HANDLE', 1.0105856745212805e-05),\n",
       " ('OTTOMAN', 6.691148428217275e-06),\n",
       " ('STORAGE_BOX', 6.302589099504985e-06),\n",
       " ('CELLULAR_PHONE_CASE', 5.778068043582607e-06),\n",
       " ('DESK', 4.79997697766521e-06),\n",
       " ('STORAGE_BINDER', 4.117864591535181e-06),\n",
       " ('BED_FRAME', 3.539379122230457e-06),\n",
       " ('JAR', 2.3363634227280272e-06),\n",
       " ('PORTABLE_ELECTRONIC_DEVICE_COVER', 1.9674675968417432e-06),\n",
       " ('STORAGE_HOOK', 1.9419110230955994e-06),\n",
       " ('TOWEL_HOLDER', 1.2957683566128253e-06),\n",
       " ('FILE_FOLDER', 1.2500274806370726e-06),\n",
       " ('OFFICE_ELECTRONICS', 4.18235032384473e-07),\n",
       " ('LABEL', 3.48350766898875e-07)]"
      ]
     },
     "execution_count": 36,
     "metadata": {},
     "output_type": "execute_result"
    }
   ],
   "source": [
    "predictions"
   ]
  },
  {
   "cell_type": "code",
   "execution_count": null,
   "id": "2067c889",
   "metadata": {
    "papermill": {
     "duration": 0.056989,
     "end_time": "2021-10-13T21:30:04.423027",
     "exception": false,
     "start_time": "2021-10-13T21:30:04.366038",
     "status": "completed"
    },
    "tags": []
   },
   "outputs": [],
   "source": []
  },
  {
   "cell_type": "code",
   "execution_count": null,
   "id": "ff8cf9e9",
   "metadata": {
    "papermill": {
     "duration": 0.056664,
     "end_time": "2021-10-13T21:30:04.536674",
     "exception": false,
     "start_time": "2021-10-13T21:30:04.480010",
     "status": "completed"
    },
    "tags": []
   },
   "outputs": [],
   "source": []
  },
  {
   "cell_type": "code",
   "execution_count": null,
   "id": "68a7fbb8",
   "metadata": {
    "papermill": {
     "duration": 0.053045,
     "end_time": "2021-10-13T21:30:04.644996",
     "exception": false,
     "start_time": "2021-10-13T21:30:04.591951",
     "status": "completed"
    },
    "tags": []
   },
   "outputs": [],
   "source": []
  },
  {
   "cell_type": "code",
   "execution_count": null,
   "id": "d31c386e",
   "metadata": {
    "papermill": {
     "duration": 0.0538,
     "end_time": "2021-10-13T21:30:04.751692",
     "exception": false,
     "start_time": "2021-10-13T21:30:04.697892",
     "status": "completed"
    },
    "tags": []
   },
   "outputs": [],
   "source": []
  },
  {
   "cell_type": "markdown",
   "id": "cb4274b8",
   "metadata": {
    "papermill": {
     "duration": 0.060626,
     "end_time": "2021-10-13T21:30:04.872287",
     "exception": false,
     "start_time": "2021-10-13T21:30:04.811661",
     "status": "completed"
    },
    "tags": []
   },
   "source": [
    "# FIN "
   ]
  },
  {
   "cell_type": "code",
   "execution_count": null,
   "id": "54089e09",
   "metadata": {
    "papermill": {
     "duration": 0.059727,
     "end_time": "2021-10-13T21:30:04.992312",
     "exception": false,
     "start_time": "2021-10-13T21:30:04.932585",
     "status": "completed"
    },
    "tags": []
   },
   "outputs": [],
   "source": []
  },
  {
   "cell_type": "code",
   "execution_count": null,
   "id": "4bcb0b63",
   "metadata": {
    "papermill": {
     "duration": 0.060101,
     "end_time": "2021-10-13T21:30:05.113233",
     "exception": false,
     "start_time": "2021-10-13T21:30:05.053132",
     "status": "completed"
    },
    "tags": []
   },
   "outputs": [],
   "source": []
  },
  {
   "cell_type": "code",
   "execution_count": null,
   "id": "0c9cd8db",
   "metadata": {
    "papermill": {
     "duration": 0.058049,
     "end_time": "2021-10-13T21:30:05.229841",
     "exception": false,
     "start_time": "2021-10-13T21:30:05.171792",
     "status": "completed"
    },
    "tags": []
   },
   "outputs": [],
   "source": []
  },
  {
   "cell_type": "code",
   "execution_count": null,
   "id": "5cad8f59",
   "metadata": {
    "papermill": {
     "duration": 0.053308,
     "end_time": "2021-10-13T21:30:05.340131",
     "exception": false,
     "start_time": "2021-10-13T21:30:05.286823",
     "status": "completed"
    },
    "tags": []
   },
   "outputs": [],
   "source": []
  },
  {
   "cell_type": "code",
   "execution_count": null,
   "id": "30fc17a2",
   "metadata": {
    "papermill": {
     "duration": 0.052678,
     "end_time": "2021-10-13T21:30:05.445431",
     "exception": false,
     "start_time": "2021-10-13T21:30:05.392753",
     "status": "completed"
    },
    "tags": []
   },
   "outputs": [],
   "source": []
  },
  {
   "cell_type": "code",
   "execution_count": null,
   "id": "0a2b3a23",
   "metadata": {
    "papermill": {
     "duration": 0.052531,
     "end_time": "2021-10-13T21:30:05.550490",
     "exception": false,
     "start_time": "2021-10-13T21:30:05.497959",
     "status": "completed"
    },
    "tags": []
   },
   "outputs": [],
   "source": []
  },
  {
   "cell_type": "code",
   "execution_count": null,
   "id": "cb3a1c87",
   "metadata": {
    "papermill": {
     "duration": 0.051018,
     "end_time": "2021-10-13T21:30:05.654003",
     "exception": false,
     "start_time": "2021-10-13T21:30:05.602985",
     "status": "completed"
    },
    "tags": []
   },
   "outputs": [],
   "source": []
  },
  {
   "cell_type": "markdown",
   "id": "0bb27b38",
   "metadata": {
    "papermill": {
     "duration": 0.051656,
     "end_time": "2021-10-13T21:30:05.757481",
     "exception": false,
     "start_time": "2021-10-13T21:30:05.705825",
     "status": "completed"
    },
    "tags": []
   },
   "source": [
    "<a id='additional-resources'></a>"
   ]
  },
  {
   "cell_type": "markdown",
   "id": "d2dc76b8",
   "metadata": {
    "papermill": {
     "duration": 0.057054,
     "end_time": "2021-10-13T21:30:05.869783",
     "exception": false,
     "start_time": "2021-10-13T21:30:05.812729",
     "status": "completed"
    },
    "tags": []
   },
   "source": [
    "## Additional resources"
   ]
  },
  {
   "cell_type": "markdown",
   "id": "95ed69ae",
   "metadata": {
    "papermill": {
     "duration": 0.056056,
     "end_time": "2021-10-13T21:30:05.981241",
     "exception": false,
     "start_time": "2021-10-13T21:30:05.925185",
     "status": "completed"
    },
    "tags": []
   },
   "source": [
    "To look at more fine-tuning examples you can refer to:\n",
    "\n",
    "- [🤗 Transformers Examples](https://github.com/huggingface/transformers/tree/master/examples) which includes scripts\n",
    "  to train on all common NLP tasks in PyTorch and TensorFlow.\n",
    "\n",
    "- [🤗 Transformers Notebooks](https://huggingface.co/transformers/notebooks.html) which contains various notebooks and in particular one per task (look\n",
    "  for the *how to finetune a model on xxx*)."
   ]
  }
 ],
 "metadata": {
  "environment": {
   "name": "rapids-gpu.0-18.m65",
   "type": "gcloud",
   "uri": "gcr.io/deeplearning-platform-release/rapids-gpu.0-18:m65"
  },
  "kernelspec": {
   "display_name": "Python [conda env:pytorch]",
   "language": "python",
   "name": "conda-env-pytorch-py"
  },
  "language_info": {
   "codemirror_mode": {
    "name": "ipython",
    "version": 3
   },
   "file_extension": ".py",
   "mimetype": "text/x-python",
   "name": "python",
   "nbconvert_exporter": "python",
   "pygments_lexer": "ipython3",
   "version": "3.7.10"
  },
  "papermill": {
   "default_parameters": {},
   "duration": 14951.315319,
   "end_time": "2021-10-13T21:30:09.264893",
   "environment_variables": {},
   "exception": null,
   "input_path": "01_train-amazon.ipynb",
   "output_path": "01_train-amazon_out.ipynb",
   "parameters": {},
   "start_time": "2021-10-13T17:20:57.949574",
   "version": "2.3.3"
  }
 },
 "nbformat": 4,
 "nbformat_minor": 5
}